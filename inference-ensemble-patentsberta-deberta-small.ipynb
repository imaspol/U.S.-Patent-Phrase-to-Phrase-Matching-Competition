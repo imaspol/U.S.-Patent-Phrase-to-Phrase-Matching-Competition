{
 "cells": [
  {
   "cell_type": "code",
   "execution_count": 1,
   "id": "b03b6108",
   "metadata": {
    "_cell_guid": "b1076dfc-b9ad-4769-8c92-a6c4dae69d19",
    "_uuid": "8f2839f25d086af736a60e9eeb907d3b93b6e0e5",
    "execution": {
     "iopub.execute_input": "2022-06-19T22:56:17.969972Z",
     "iopub.status.busy": "2022-06-19T22:56:17.969326Z",
     "iopub.status.idle": "2022-06-19T22:56:17.998360Z",
     "shell.execute_reply": "2022-06-19T22:56:17.997498Z"
    },
    "papermill": {
     "duration": 0.094819,
     "end_time": "2022-06-19T22:56:18.000944",
     "exception": false,
     "start_time": "2022-06-19T22:56:17.906125",
     "status": "completed"
    },
    "tags": []
   },
   "outputs": [
    {
     "name": "stdout",
     "output_type": "stream",
     "text": [
      "/kaggle/input/aigl-patentsberta-kaggle-v3/config.json\n",
      "/kaggle/input/aigl-patentsberta-kaggle-v3/training_args.bin\n",
      "/kaggle/input/aigl-patentsberta-kaggle-v3/tokenizer.json\n",
      "/kaggle/input/aigl-patentsberta-kaggle-v3/tokenizer_config.json\n",
      "/kaggle/input/aigl-patentsberta-kaggle-v3/pytorch_model.bin\n",
      "/kaggle/input/aigl-patentsberta-kaggle-v3/special_tokens_map.json\n",
      "/kaggle/input/aigl-patentsberta-kaggle-v3/vocab.txt\n",
      "/kaggle/input/debertav3small/spm.model\n",
      "/kaggle/input/debertav3small/config.json\n",
      "/kaggle/input/debertav3small/README.md\n",
      "/kaggle/input/debertav3small/tf_model.h5\n",
      "/kaggle/input/debertav3small/tokenizer_config.json\n",
      "/kaggle/input/debertav3small/pytorch_model.bin\n",
      "/kaggle/input/cpc-codes/titles.csv\n",
      "/kaggle/input/us-patent-phrase-to-phrase-matching/sample_submission.csv\n",
      "/kaggle/input/us-patent-phrase-to-phrase-matching/train.csv\n",
      "/kaggle/input/us-patent-phrase-to-phrase-matching/test.csv\n"
     ]
    }
   ],
   "source": [
    "# This Python 3 environment comes with many helpful analytics libraries installed\n",
    "# It is defined by the kaggle/python Docker image: https://github.com/kaggle/docker-python\n",
    "# For example, here's several helpful packages to load\n",
    "\n",
    "import numpy as np # linear algebra\n",
    "import pandas as pd # data processing, CSV file I/O (e.g. pd.read_csv)\n",
    "\n",
    "# Input data files are available in the read-only \"../input/\" directory\n",
    "# For example, running this (by clicking run or pressing Shift+Enter) will list all files under the input directory\n",
    "\n",
    "import os\n",
    "for dirname, _, filenames in os.walk('/kaggle/input'):\n",
    "    for filename in filenames:\n",
    "        print(os.path.join(dirname, filename))\n",
    "\n",
    "# You can write up to 20GB to the current directory (/kaggle/working/) that gets preserved as output when you create a version using \"Save & Run All\" \n",
    "# You can also write temporary files to /kaggle/temp/, but they won't be saved outside of the current session"
   ]
  },
  {
   "cell_type": "markdown",
   "id": "a205fe5e",
   "metadata": {
    "papermill": {
     "duration": 0.060252,
     "end_time": "2022-06-19T22:56:18.123816",
     "exception": false,
     "start_time": "2022-06-19T22:56:18.063564",
     "status": "completed"
    },
    "tags": []
   },
   "source": [
    "# Credits:\n",
    "this notebook is based on the notbook [\"Getting started with NLP for absolute beginners\"](https://www.kaggle.com/code/jhoward/getting-started-with-nlp-for-absolute-beginners) by @Jeremy Howard"
   ]
  },
  {
   "cell_type": "markdown",
   "id": "7b2396ea",
   "metadata": {
    "papermill": {
     "duration": 0.06039,
     "end_time": "2022-06-19T22:56:18.245459",
     "exception": false,
     "start_time": "2022-06-19T22:56:18.185069",
     "status": "completed"
    },
    "tags": []
   },
   "source": [
    "## Imports"
   ]
  },
  {
   "cell_type": "code",
   "execution_count": 2,
   "id": "06482317",
   "metadata": {
    "execution": {
     "iopub.execute_input": "2022-06-19T22:56:18.372486Z",
     "iopub.status.busy": "2022-06-19T22:56:18.371942Z",
     "iopub.status.idle": "2022-06-19T22:56:24.533322Z",
     "shell.execute_reply": "2022-06-19T22:56:24.532571Z"
    },
    "papermill": {
     "duration": 6.228379,
     "end_time": "2022-06-19T22:56:24.535694",
     "exception": false,
     "start_time": "2022-06-19T22:56:18.307315",
     "status": "completed"
    },
    "tags": []
   },
   "outputs": [],
   "source": [
    "import tensorflow as tf\n",
    "import tensorflow_hub as hub\n",
    "import seaborn as sns\n",
    "import matplotlib.pyplot as plt"
   ]
  },
  {
   "cell_type": "markdown",
   "id": "cdab9e6f",
   "metadata": {
    "papermill": {
     "duration": 0.060014,
     "end_time": "2022-06-19T22:56:24.657865",
     "exception": false,
     "start_time": "2022-06-19T22:56:24.597851",
     "status": "completed"
    },
    "tags": []
   },
   "source": [
    "# EDA"
   ]
  },
  {
   "cell_type": "code",
   "execution_count": 3,
   "id": "3cac4c48",
   "metadata": {
    "execution": {
     "iopub.execute_input": "2022-06-19T22:56:24.779627Z",
     "iopub.status.busy": "2022-06-19T22:56:24.779373Z",
     "iopub.status.idle": "2022-06-19T22:56:24.871465Z",
     "shell.execute_reply": "2022-06-19T22:56:24.870576Z"
    },
    "papermill": {
     "duration": 0.155921,
     "end_time": "2022-06-19T22:56:24.873958",
     "exception": false,
     "start_time": "2022-06-19T22:56:24.718037",
     "status": "completed"
    },
    "tags": []
   },
   "outputs": [
    {
     "name": "stdout",
     "output_type": "stream",
     "text": [
      "(36473, 5)\n"
     ]
    },
    {
     "data": {
      "text/html": [
       "<div>\n",
       "<style scoped>\n",
       "    .dataframe tbody tr th:only-of-type {\n",
       "        vertical-align: middle;\n",
       "    }\n",
       "\n",
       "    .dataframe tbody tr th {\n",
       "        vertical-align: top;\n",
       "    }\n",
       "\n",
       "    .dataframe thead th {\n",
       "        text-align: right;\n",
       "    }\n",
       "</style>\n",
       "<table border=\"1\" class=\"dataframe\">\n",
       "  <thead>\n",
       "    <tr style=\"text-align: right;\">\n",
       "      <th></th>\n",
       "      <th>id</th>\n",
       "      <th>anchor</th>\n",
       "      <th>target</th>\n",
       "      <th>context</th>\n",
       "      <th>score</th>\n",
       "    </tr>\n",
       "  </thead>\n",
       "  <tbody>\n",
       "    <tr>\n",
       "      <th>0</th>\n",
       "      <td>37d61fd2272659b1</td>\n",
       "      <td>abatement</td>\n",
       "      <td>abatement of pollution</td>\n",
       "      <td>A47</td>\n",
       "      <td>0.50</td>\n",
       "    </tr>\n",
       "    <tr>\n",
       "      <th>1</th>\n",
       "      <td>7b9652b17b68b7a4</td>\n",
       "      <td>abatement</td>\n",
       "      <td>act of abating</td>\n",
       "      <td>A47</td>\n",
       "      <td>0.75</td>\n",
       "    </tr>\n",
       "    <tr>\n",
       "      <th>2</th>\n",
       "      <td>36d72442aefd8232</td>\n",
       "      <td>abatement</td>\n",
       "      <td>active catalyst</td>\n",
       "      <td>A47</td>\n",
       "      <td>0.25</td>\n",
       "    </tr>\n",
       "    <tr>\n",
       "      <th>3</th>\n",
       "      <td>5296b0c19e1ce60e</td>\n",
       "      <td>abatement</td>\n",
       "      <td>eliminating process</td>\n",
       "      <td>A47</td>\n",
       "      <td>0.50</td>\n",
       "    </tr>\n",
       "    <tr>\n",
       "      <th>4</th>\n",
       "      <td>54c1e3b9184cb5b6</td>\n",
       "      <td>abatement</td>\n",
       "      <td>forest region</td>\n",
       "      <td>A47</td>\n",
       "      <td>0.00</td>\n",
       "    </tr>\n",
       "  </tbody>\n",
       "</table>\n",
       "</div>"
      ],
      "text/plain": [
       "                 id     anchor                  target context  score\n",
       "0  37d61fd2272659b1  abatement  abatement of pollution     A47   0.50\n",
       "1  7b9652b17b68b7a4  abatement          act of abating     A47   0.75\n",
       "2  36d72442aefd8232  abatement         active catalyst     A47   0.25\n",
       "3  5296b0c19e1ce60e  abatement     eliminating process     A47   0.50\n",
       "4  54c1e3b9184cb5b6  abatement           forest region     A47   0.00"
      ]
     },
     "execution_count": 3,
     "metadata": {},
     "output_type": "execute_result"
    }
   ],
   "source": [
    "train = pd.read_csv(\"/kaggle/input/us-patent-phrase-to-phrase-matching/train.csv\")\n",
    "print(train.shape)\n",
    "train.head()"
   ]
  },
  {
   "cell_type": "code",
   "execution_count": 4,
   "id": "80c4d54a",
   "metadata": {
    "execution": {
     "iopub.execute_input": "2022-06-19T22:56:24.999220Z",
     "iopub.status.busy": "2022-06-19T22:56:24.998962Z",
     "iopub.status.idle": "2022-06-19T22:56:25.075424Z",
     "shell.execute_reply": "2022-06-19T22:56:25.074748Z"
    },
    "papermill": {
     "duration": 0.140059,
     "end_time": "2022-06-19T22:56:25.077202",
     "exception": false,
     "start_time": "2022-06-19T22:56:24.937143",
     "status": "completed"
    },
    "tags": []
   },
   "outputs": [
    {
     "data": {
      "text/html": [
       "<div>\n",
       "<style scoped>\n",
       "    .dataframe tbody tr th:only-of-type {\n",
       "        vertical-align: middle;\n",
       "    }\n",
       "\n",
       "    .dataframe tbody tr th {\n",
       "        vertical-align: top;\n",
       "    }\n",
       "\n",
       "    .dataframe thead th {\n",
       "        text-align: right;\n",
       "    }\n",
       "</style>\n",
       "<table border=\"1\" class=\"dataframe\">\n",
       "  <thead>\n",
       "    <tr style=\"text-align: right;\">\n",
       "      <th></th>\n",
       "      <th>id</th>\n",
       "      <th>anchor</th>\n",
       "      <th>target</th>\n",
       "      <th>context</th>\n",
       "    </tr>\n",
       "  </thead>\n",
       "  <tbody>\n",
       "    <tr>\n",
       "      <th>count</th>\n",
       "      <td>36473</td>\n",
       "      <td>36473</td>\n",
       "      <td>36473</td>\n",
       "      <td>36473</td>\n",
       "    </tr>\n",
       "    <tr>\n",
       "      <th>unique</th>\n",
       "      <td>36473</td>\n",
       "      <td>733</td>\n",
       "      <td>29340</td>\n",
       "      <td>106</td>\n",
       "    </tr>\n",
       "    <tr>\n",
       "      <th>top</th>\n",
       "      <td>37d61fd2272659b1</td>\n",
       "      <td>component composite coating</td>\n",
       "      <td>composition</td>\n",
       "      <td>H01</td>\n",
       "    </tr>\n",
       "    <tr>\n",
       "      <th>freq</th>\n",
       "      <td>1</td>\n",
       "      <td>152</td>\n",
       "      <td>24</td>\n",
       "      <td>2186</td>\n",
       "    </tr>\n",
       "  </tbody>\n",
       "</table>\n",
       "</div>"
      ],
      "text/plain": [
       "                      id                       anchor       target context\n",
       "count              36473                        36473        36473   36473\n",
       "unique             36473                          733        29340     106\n",
       "top     37d61fd2272659b1  component composite coating  composition     H01\n",
       "freq                   1                          152           24    2186"
      ]
     },
     "execution_count": 4,
     "metadata": {},
     "output_type": "execute_result"
    }
   ],
   "source": [
    "train.describe(include='object')"
   ]
  },
  {
   "cell_type": "code",
   "execution_count": 5,
   "id": "1ff66785",
   "metadata": {
    "execution": {
     "iopub.execute_input": "2022-06-19T22:56:25.202477Z",
     "iopub.status.busy": "2022-06-19T22:56:25.201792Z",
     "iopub.status.idle": "2022-06-19T22:56:25.231690Z",
     "shell.execute_reply": "2022-06-19T22:56:25.231045Z"
    },
    "papermill": {
     "duration": 0.094708,
     "end_time": "2022-06-19T22:56:25.233476",
     "exception": false,
     "start_time": "2022-06-19T22:56:25.138768",
     "status": "completed"
    },
    "tags": []
   },
   "outputs": [
    {
     "data": {
      "text/html": [
       "<div>\n",
       "<style scoped>\n",
       "    .dataframe tbody tr th:only-of-type {\n",
       "        vertical-align: middle;\n",
       "    }\n",
       "\n",
       "    .dataframe tbody tr th {\n",
       "        vertical-align: top;\n",
       "    }\n",
       "\n",
       "    .dataframe thead th {\n",
       "        text-align: right;\n",
       "    }\n",
       "</style>\n",
       "<table border=\"1\" class=\"dataframe\">\n",
       "  <thead>\n",
       "    <tr style=\"text-align: right;\">\n",
       "      <th></th>\n",
       "      <th>id</th>\n",
       "      <th>anchor</th>\n",
       "      <th>target</th>\n",
       "      <th>context</th>\n",
       "    </tr>\n",
       "    <tr>\n",
       "      <th>score</th>\n",
       "      <th></th>\n",
       "      <th></th>\n",
       "      <th></th>\n",
       "      <th></th>\n",
       "    </tr>\n",
       "  </thead>\n",
       "  <tbody>\n",
       "    <tr>\n",
       "      <th>0.00</th>\n",
       "      <td>7471</td>\n",
       "      <td>7471</td>\n",
       "      <td>7471</td>\n",
       "      <td>7471</td>\n",
       "    </tr>\n",
       "    <tr>\n",
       "      <th>0.25</th>\n",
       "      <td>11519</td>\n",
       "      <td>11519</td>\n",
       "      <td>11519</td>\n",
       "      <td>11519</td>\n",
       "    </tr>\n",
       "    <tr>\n",
       "      <th>0.50</th>\n",
       "      <td>12300</td>\n",
       "      <td>12300</td>\n",
       "      <td>12300</td>\n",
       "      <td>12300</td>\n",
       "    </tr>\n",
       "    <tr>\n",
       "      <th>0.75</th>\n",
       "      <td>4029</td>\n",
       "      <td>4029</td>\n",
       "      <td>4029</td>\n",
       "      <td>4029</td>\n",
       "    </tr>\n",
       "    <tr>\n",
       "      <th>1.00</th>\n",
       "      <td>1154</td>\n",
       "      <td>1154</td>\n",
       "      <td>1154</td>\n",
       "      <td>1154</td>\n",
       "    </tr>\n",
       "  </tbody>\n",
       "</table>\n",
       "</div>"
      ],
      "text/plain": [
       "          id  anchor  target  context\n",
       "score                                \n",
       "0.00    7471    7471    7471     7471\n",
       "0.25   11519   11519   11519    11519\n",
       "0.50   12300   12300   12300    12300\n",
       "0.75    4029    4029    4029     4029\n",
       "1.00    1154    1154    1154     1154"
      ]
     },
     "execution_count": 5,
     "metadata": {},
     "output_type": "execute_result"
    }
   ],
   "source": [
    "train.groupby('score').count()"
   ]
  },
  {
   "cell_type": "markdown",
   "id": "948596bd",
   "metadata": {
    "papermill": {
     "duration": 0.061295,
     "end_time": "2022-06-19T22:56:25.358396",
     "exception": false,
     "start_time": "2022-06-19T22:56:25.297101",
     "status": "completed"
    },
    "tags": []
   },
   "source": [
    "## Score meanings according to [Data Description](https://www.kaggle.com/competitions/us-patent-phrase-to-phrase-matching/data?select=train.csv)\n",
    "\n",
    "The scores are in the 0-1 range with increments of 0.25 with the following meanings:\n",
    "\n",
    "    1.0 - Very close match. This is typically an exact match except possibly for differences in conjugation, quantity (e.g. singular vs. plural), and addition or removal of stopwords (e.g. “the”, “and”, “or”).\n",
    "    0.75 - Close synonym, e.g. “mobile phone” vs. “cellphone”. This also includes abbreviations, e.g. \"TCP\" -> \"transmission control protocol\".\n",
    "    0.5 - Synonyms which don’t have the same meaning (same function, same properties). This includes broad-narrow (hyponym) and narrow-broad (hypernym) matches.\n",
    "    0.25 - Somewhat related, e.g. the two phrases are in the same high level domain but are not synonyms. This also includes antonyms.\n",
    "    0.0 - Unrelated.\n"
   ]
  },
  {
   "cell_type": "markdown",
   "id": "1efdbc22",
   "metadata": {
    "papermill": {
     "duration": 0.062817,
     "end_time": "2022-06-19T22:56:25.483383",
     "exception": false,
     "start_time": "2022-06-19T22:56:25.420566",
     "status": "completed"
    },
    "tags": []
   },
   "source": [
    "# Test Corpus"
   ]
  },
  {
   "cell_type": "code",
   "execution_count": 6,
   "id": "ea546928",
   "metadata": {
    "execution": {
     "iopub.execute_input": "2022-06-19T22:56:25.613574Z",
     "iopub.status.busy": "2022-06-19T22:56:25.613324Z",
     "iopub.status.idle": "2022-06-19T22:56:25.621888Z",
     "shell.execute_reply": "2022-06-19T22:56:25.621246Z"
    },
    "papermill": {
     "duration": 0.077835,
     "end_time": "2022-06-19T22:56:25.623578",
     "exception": false,
     "start_time": "2022-06-19T22:56:25.545743",
     "status": "completed"
    },
    "tags": []
   },
   "outputs": [],
   "source": [
    "test = pd.read_csv(\"/kaggle/input/us-patent-phrase-to-phrase-matching/test.csv\")"
   ]
  },
  {
   "cell_type": "code",
   "execution_count": 7,
   "id": "5c9789ec",
   "metadata": {
    "execution": {
     "iopub.execute_input": "2022-06-19T22:56:25.756839Z",
     "iopub.status.busy": "2022-06-19T22:56:25.756376Z",
     "iopub.status.idle": "2022-06-19T22:56:25.761065Z",
     "shell.execute_reply": "2022-06-19T22:56:25.760439Z"
    },
    "papermill": {
     "duration": 0.069091,
     "end_time": "2022-06-19T22:56:25.762894",
     "exception": false,
     "start_time": "2022-06-19T22:56:25.693803",
     "status": "completed"
    },
    "tags": []
   },
   "outputs": [
    {
     "data": {
      "text/plain": [
       "(36, 4)"
      ]
     },
     "execution_count": 7,
     "metadata": {},
     "output_type": "execute_result"
    }
   ],
   "source": [
    "test.shape"
   ]
  },
  {
   "cell_type": "code",
   "execution_count": 8,
   "id": "2751445d",
   "metadata": {
    "execution": {
     "iopub.execute_input": "2022-06-19T22:56:25.889169Z",
     "iopub.status.busy": "2022-06-19T22:56:25.888770Z",
     "iopub.status.idle": "2022-06-19T22:56:25.892942Z",
     "shell.execute_reply": "2022-06-19T22:56:25.892329Z"
    },
    "papermill": {
     "duration": 0.069053,
     "end_time": "2022-06-19T22:56:25.894645",
     "exception": false,
     "start_time": "2022-06-19T22:56:25.825592",
     "status": "completed"
    },
    "tags": []
   },
   "outputs": [],
   "source": [
    "def cosine(u, v):\n",
    "    \"\"\"\n",
    "    cosine similarity definition\n",
    "    \"\"\"\n",
    "    return np.dot(u, v) / (np.linalg.norm(u) * np.linalg.norm(v))"
   ]
  },
  {
   "cell_type": "markdown",
   "id": "ea82d312",
   "metadata": {
    "papermill": {
     "duration": 0.0633,
     "end_time": "2022-06-19T22:56:26.019524",
     "exception": false,
     "start_time": "2022-06-19T22:56:25.956224",
     "status": "completed"
    },
    "tags": []
   },
   "source": [
    "# External Context"
   ]
  },
  {
   "cell_type": "code",
   "execution_count": 9,
   "id": "1fb88ca6",
   "metadata": {
    "execution": {
     "iopub.execute_input": "2022-06-19T22:56:26.159945Z",
     "iopub.status.busy": "2022-06-19T22:56:26.159370Z",
     "iopub.status.idle": "2022-06-19T22:56:26.162973Z",
     "shell.execute_reply": "2022-06-19T22:56:26.162248Z"
    },
    "papermill": {
     "duration": 0.080882,
     "end_time": "2022-06-19T22:56:26.164886",
     "exception": false,
     "start_time": "2022-06-19T22:56:26.084004",
     "status": "completed"
    },
    "tags": []
   },
   "outputs": [],
   "source": [
    "# ajouter le contexte https://www.cooperativepatentclassification.org/Archive\n",
    "# extraire le contexte du fichier xml"
   ]
  },
  {
   "cell_type": "code",
   "execution_count": 10,
   "id": "ff3f32f2",
   "metadata": {
    "execution": {
     "iopub.execute_input": "2022-06-19T22:56:26.292539Z",
     "iopub.status.busy": "2022-06-19T22:56:26.291695Z",
     "iopub.status.idle": "2022-06-19T22:56:26.967617Z",
     "shell.execute_reply": "2022-06-19T22:56:26.966798Z"
    },
    "papermill": {
     "duration": 0.742471,
     "end_time": "2022-06-19T22:56:26.970934",
     "exception": false,
     "start_time": "2022-06-19T22:56:26.228463",
     "status": "completed"
    },
    "tags": []
   },
   "outputs": [
    {
     "name": "stdout",
     "output_type": "stream",
     "text": [
      "(260476, 7)\n"
     ]
    },
    {
     "data": {
      "text/html": [
       "<div>\n",
       "<style scoped>\n",
       "    .dataframe tbody tr th:only-of-type {\n",
       "        vertical-align: middle;\n",
       "    }\n",
       "\n",
       "    .dataframe tbody tr th {\n",
       "        vertical-align: top;\n",
       "    }\n",
       "\n",
       "    .dataframe thead th {\n",
       "        text-align: right;\n",
       "    }\n",
       "</style>\n",
       "<table border=\"1\" class=\"dataframe\">\n",
       "  <thead>\n",
       "    <tr style=\"text-align: right;\">\n",
       "      <th></th>\n",
       "      <th>code</th>\n",
       "      <th>title</th>\n",
       "      <th>section</th>\n",
       "      <th>class</th>\n",
       "      <th>subclass</th>\n",
       "      <th>group</th>\n",
       "      <th>main_group</th>\n",
       "    </tr>\n",
       "  </thead>\n",
       "  <tbody>\n",
       "    <tr>\n",
       "      <th>0</th>\n",
       "      <td>A</td>\n",
       "      <td>HUMAN NECESSITIES</td>\n",
       "      <td>A</td>\n",
       "      <td>NaN</td>\n",
       "      <td>NaN</td>\n",
       "      <td>NaN</td>\n",
       "      <td>NaN</td>\n",
       "    </tr>\n",
       "    <tr>\n",
       "      <th>1</th>\n",
       "      <td>A01</td>\n",
       "      <td>AGRICULTURE; FORESTRY; ANIMAL HUSBANDRY; HUNTI...</td>\n",
       "      <td>A</td>\n",
       "      <td>1.0</td>\n",
       "      <td>NaN</td>\n",
       "      <td>NaN</td>\n",
       "      <td>NaN</td>\n",
       "    </tr>\n",
       "    <tr>\n",
       "      <th>2</th>\n",
       "      <td>A01B</td>\n",
       "      <td>SOIL WORKING IN AGRICULTURE OR FORESTRY; PARTS...</td>\n",
       "      <td>A</td>\n",
       "      <td>1.0</td>\n",
       "      <td>B</td>\n",
       "      <td>NaN</td>\n",
       "      <td>NaN</td>\n",
       "    </tr>\n",
       "    <tr>\n",
       "      <th>3</th>\n",
       "      <td>A01B1/00</td>\n",
       "      <td>Hand tools (edge trimmers for lawns A01G3/06  ...</td>\n",
       "      <td>A</td>\n",
       "      <td>1.0</td>\n",
       "      <td>B</td>\n",
       "      <td>1.0</td>\n",
       "      <td>0.0</td>\n",
       "    </tr>\n",
       "    <tr>\n",
       "      <th>4</th>\n",
       "      <td>A01B1/02</td>\n",
       "      <td>Spades; Shovels {(hand-operated dredgers E02F3...</td>\n",
       "      <td>A</td>\n",
       "      <td>1.0</td>\n",
       "      <td>B</td>\n",
       "      <td>1.0</td>\n",
       "      <td>2.0</td>\n",
       "    </tr>\n",
       "  </tbody>\n",
       "</table>\n",
       "</div>"
      ],
      "text/plain": [
       "       code                                              title section  class  \\\n",
       "0         A                                  HUMAN NECESSITIES       A    NaN   \n",
       "1       A01  AGRICULTURE; FORESTRY; ANIMAL HUSBANDRY; HUNTI...       A    1.0   \n",
       "2      A01B  SOIL WORKING IN AGRICULTURE OR FORESTRY; PARTS...       A    1.0   \n",
       "3  A01B1/00  Hand tools (edge trimmers for lawns A01G3/06  ...       A    1.0   \n",
       "4  A01B1/02  Spades; Shovels {(hand-operated dredgers E02F3...       A    1.0   \n",
       "\n",
       "  subclass  group  main_group  \n",
       "0      NaN    NaN         NaN  \n",
       "1      NaN    NaN         NaN  \n",
       "2        B    NaN         NaN  \n",
       "3        B    1.0         0.0  \n",
       "4        B    1.0         2.0  "
      ]
     },
     "execution_count": 10,
     "metadata": {},
     "output_type": "execute_result"
    }
   ],
   "source": [
    "titles = pd.read_csv(\"../input/cpc-codes/titles.csv\")\n",
    "print(titles.shape)\n",
    "titles.head()"
   ]
  },
  {
   "cell_type": "markdown",
   "id": "10241cb7",
   "metadata": {
    "papermill": {
     "duration": 0.064358,
     "end_time": "2022-06-19T22:56:27.100852",
     "exception": false,
     "start_time": "2022-06-19T22:56:27.036494",
     "status": "completed"
    },
    "tags": []
   },
   "source": [
    "# HuggingFace AutoModelForSequenceClassification"
   ]
  },
  {
   "cell_type": "code",
   "execution_count": 11,
   "id": "23b302f0",
   "metadata": {
    "execution": {
     "iopub.execute_input": "2022-06-19T22:56:27.231029Z",
     "iopub.status.busy": "2022-06-19T22:56:27.230770Z",
     "iopub.status.idle": "2022-06-19T22:56:27.388546Z",
     "shell.execute_reply": "2022-06-19T22:56:27.387832Z"
    },
    "papermill": {
     "duration": 0.22631,
     "end_time": "2022-06-19T22:56:27.390832",
     "exception": false,
     "start_time": "2022-06-19T22:56:27.164522",
     "status": "completed"
    },
    "tags": []
   },
   "outputs": [],
   "source": [
    "import numpy as np # linear algebra\n",
    "import pandas as pd # data processing, CSV file I/O (e.g. pd.read_csv)\n",
    "import os\n",
    "from scipy.stats import pearsonr\n",
    "from scipy.stats import spearmanr # pour trouver les correspondances entre les résultats sur des échelles variées\n",
    "from sklearn.model_selection import StratifiedGroupKFold"
   ]
  },
  {
   "cell_type": "code",
   "execution_count": 12,
   "id": "478519a1",
   "metadata": {
    "execution": {
     "iopub.execute_input": "2022-06-19T22:56:27.519471Z",
     "iopub.status.busy": "2022-06-19T22:56:27.519222Z",
     "iopub.status.idle": "2022-06-19T22:56:30.217772Z",
     "shell.execute_reply": "2022-06-19T22:56:30.216833Z"
    },
    "papermill": {
     "duration": 2.766459,
     "end_time": "2022-06-19T22:56:30.221042",
     "exception": false,
     "start_time": "2022-06-19T22:56:27.454583",
     "status": "completed"
    },
    "tags": []
   },
   "outputs": [],
   "source": [
    "import transformers\n",
    "from transformers import TrainingArguments,Trainer\n",
    "from transformers import AutoModelForSequenceClassification,AutoTokenizer\n",
    "\n",
    "import torch\n",
    "import datasets\n",
    "from datasets import load_dataset, Dataset, DatasetDict"
   ]
  },
  {
   "cell_type": "code",
   "execution_count": 13,
   "id": "39988828",
   "metadata": {
    "execution": {
     "iopub.execute_input": "2022-06-19T22:56:30.531769Z",
     "iopub.status.busy": "2022-06-19T22:56:30.531458Z",
     "iopub.status.idle": "2022-06-19T22:56:30.540815Z",
     "shell.execute_reply": "2022-06-19T22:56:30.539231Z"
    },
    "papermill": {
     "duration": 0.178966,
     "end_time": "2022-06-19T22:56:30.543153",
     "exception": false,
     "start_time": "2022-06-19T22:56:30.364187",
     "status": "completed"
    },
    "tags": []
   },
   "outputs": [],
   "source": [
    "import warnings\n",
    "import logging\n",
    "from IPython.display import display, HTML"
   ]
  },
  {
   "cell_type": "markdown",
   "id": "ac9d75b4",
   "metadata": {
    "papermill": {
     "duration": 0.154441,
     "end_time": "2022-06-19T22:56:30.879236",
     "exception": false,
     "start_time": "2022-06-19T22:56:30.724795",
     "status": "completed"
    },
    "tags": []
   },
   "source": [
    "# Corpora merge"
   ]
  },
  {
   "cell_type": "code",
   "execution_count": 14,
   "id": "7af4cfa7",
   "metadata": {
    "execution": {
     "iopub.execute_input": "2022-06-19T22:56:31.113937Z",
     "iopub.status.busy": "2022-06-19T22:56:31.113688Z",
     "iopub.status.idle": "2022-06-19T22:56:31.502744Z",
     "shell.execute_reply": "2022-06-19T22:56:31.501946Z"
    },
    "papermill": {
     "duration": 0.507573,
     "end_time": "2022-06-19T22:56:31.504807",
     "exception": false,
     "start_time": "2022-06-19T22:56:30.997234",
     "status": "completed"
    },
    "tags": []
   },
   "outputs": [
    {
     "name": "stdout",
     "output_type": "stream",
     "text": [
      "(36473, 6)\n"
     ]
    },
    {
     "data": {
      "text/html": [
       "<div>\n",
       "<style scoped>\n",
       "    .dataframe tbody tr th:only-of-type {\n",
       "        vertical-align: middle;\n",
       "    }\n",
       "\n",
       "    .dataframe tbody tr th {\n",
       "        vertical-align: top;\n",
       "    }\n",
       "\n",
       "    .dataframe thead th {\n",
       "        text-align: right;\n",
       "    }\n",
       "</style>\n",
       "<table border=\"1\" class=\"dataframe\">\n",
       "  <thead>\n",
       "    <tr style=\"text-align: right;\">\n",
       "      <th></th>\n",
       "      <th>id</th>\n",
       "      <th>anchor</th>\n",
       "      <th>target</th>\n",
       "      <th>context</th>\n",
       "      <th>score</th>\n",
       "      <th>section</th>\n",
       "    </tr>\n",
       "  </thead>\n",
       "  <tbody>\n",
       "    <tr>\n",
       "      <th>0</th>\n",
       "      <td>37d61fd2272659b1</td>\n",
       "      <td>abatement</td>\n",
       "      <td>abatement of pollution</td>\n",
       "      <td>A47</td>\n",
       "      <td>0.50</td>\n",
       "      <td>A</td>\n",
       "    </tr>\n",
       "    <tr>\n",
       "      <th>1</th>\n",
       "      <td>7b9652b17b68b7a4</td>\n",
       "      <td>abatement</td>\n",
       "      <td>act of abating</td>\n",
       "      <td>A47</td>\n",
       "      <td>0.75</td>\n",
       "      <td>A</td>\n",
       "    </tr>\n",
       "    <tr>\n",
       "      <th>2</th>\n",
       "      <td>36d72442aefd8232</td>\n",
       "      <td>abatement</td>\n",
       "      <td>active catalyst</td>\n",
       "      <td>A47</td>\n",
       "      <td>0.25</td>\n",
       "      <td>A</td>\n",
       "    </tr>\n",
       "    <tr>\n",
       "      <th>3</th>\n",
       "      <td>5296b0c19e1ce60e</td>\n",
       "      <td>abatement</td>\n",
       "      <td>eliminating process</td>\n",
       "      <td>A47</td>\n",
       "      <td>0.50</td>\n",
       "      <td>A</td>\n",
       "    </tr>\n",
       "    <tr>\n",
       "      <th>4</th>\n",
       "      <td>54c1e3b9184cb5b6</td>\n",
       "      <td>abatement</td>\n",
       "      <td>forest region</td>\n",
       "      <td>A47</td>\n",
       "      <td>0.00</td>\n",
       "      <td>A</td>\n",
       "    </tr>\n",
       "  </tbody>\n",
       "</table>\n",
       "</div>"
      ],
      "text/plain": [
       "                 id     anchor                  target context  score section\n",
       "0  37d61fd2272659b1  abatement  abatement of pollution     A47   0.50       A\n",
       "1  7b9652b17b68b7a4  abatement          act of abating     A47   0.75       A\n",
       "2  36d72442aefd8232  abatement         active catalyst     A47   0.25       A\n",
       "3  5296b0c19e1ce60e  abatement     eliminating process     A47   0.50       A\n",
       "4  54c1e3b9184cb5b6  abatement           forest region     A47   0.00       A"
      ]
     },
     "metadata": {},
     "output_type": "display_data"
    },
    {
     "data": {
      "text/html": [
       "<div>\n",
       "<style scoped>\n",
       "    .dataframe tbody tr th:only-of-type {\n",
       "        vertical-align: middle;\n",
       "    }\n",
       "\n",
       "    .dataframe tbody tr th {\n",
       "        vertical-align: top;\n",
       "    }\n",
       "\n",
       "    .dataframe thead th {\n",
       "        text-align: right;\n",
       "    }\n",
       "</style>\n",
       "<table border=\"1\" class=\"dataframe\">\n",
       "  <thead>\n",
       "    <tr style=\"text-align: right;\">\n",
       "      <th></th>\n",
       "      <th>context</th>\n",
       "      <th>title</th>\n",
       "      <th>section</th>\n",
       "      <th>class</th>\n",
       "      <th>subclass</th>\n",
       "      <th>group</th>\n",
       "      <th>main_group</th>\n",
       "    </tr>\n",
       "  </thead>\n",
       "  <tbody>\n",
       "    <tr>\n",
       "      <th>0</th>\n",
       "      <td>A</td>\n",
       "      <td>HUMAN NECESSITIES</td>\n",
       "      <td>A</td>\n",
       "      <td>NaN</td>\n",
       "      <td>NaN</td>\n",
       "      <td>NaN</td>\n",
       "      <td>NaN</td>\n",
       "    </tr>\n",
       "    <tr>\n",
       "      <th>1</th>\n",
       "      <td>A01</td>\n",
       "      <td>AGRICULTURE; FORESTRY; ANIMAL HUSBANDRY; HUNTI...</td>\n",
       "      <td>A</td>\n",
       "      <td>1.0</td>\n",
       "      <td>NaN</td>\n",
       "      <td>NaN</td>\n",
       "      <td>NaN</td>\n",
       "    </tr>\n",
       "    <tr>\n",
       "      <th>2</th>\n",
       "      <td>A01B</td>\n",
       "      <td>SOIL WORKING IN AGRICULTURE OR FORESTRY; PARTS...</td>\n",
       "      <td>A</td>\n",
       "      <td>1.0</td>\n",
       "      <td>B</td>\n",
       "      <td>NaN</td>\n",
       "      <td>NaN</td>\n",
       "    </tr>\n",
       "    <tr>\n",
       "      <th>3</th>\n",
       "      <td>A01B1/00</td>\n",
       "      <td>Hand tools (edge trimmers for lawns A01G3/06  ...</td>\n",
       "      <td>A</td>\n",
       "      <td>1.0</td>\n",
       "      <td>B</td>\n",
       "      <td>1.0</td>\n",
       "      <td>0.0</td>\n",
       "    </tr>\n",
       "    <tr>\n",
       "      <th>4</th>\n",
       "      <td>A01B1/02</td>\n",
       "      <td>Spades; Shovels {(hand-operated dredgers E02F3...</td>\n",
       "      <td>A</td>\n",
       "      <td>1.0</td>\n",
       "      <td>B</td>\n",
       "      <td>1.0</td>\n",
       "      <td>2.0</td>\n",
       "    </tr>\n",
       "  </tbody>\n",
       "</table>\n",
       "</div>"
      ],
      "text/plain": [
       "    context                                              title section  class  \\\n",
       "0         A                                  HUMAN NECESSITIES       A    NaN   \n",
       "1       A01  AGRICULTURE; FORESTRY; ANIMAL HUSBANDRY; HUNTI...       A    1.0   \n",
       "2      A01B  SOIL WORKING IN AGRICULTURE OR FORESTRY; PARTS...       A    1.0   \n",
       "3  A01B1/00  Hand tools (edge trimmers for lawns A01G3/06  ...       A    1.0   \n",
       "4  A01B1/02  Spades; Shovels {(hand-operated dredgers E02F3...       A    1.0   \n",
       "\n",
       "  subclass  group  main_group  \n",
       "0      NaN    NaN         NaN  \n",
       "1      NaN    NaN         NaN  \n",
       "2        B    NaN         NaN  \n",
       "3        B    1.0         0.0  \n",
       "4        B    1.0         2.0  "
      ]
     },
     "metadata": {},
     "output_type": "display_data"
    },
    {
     "data": {
      "text/html": [
       "<div>\n",
       "<style scoped>\n",
       "    .dataframe tbody tr th:only-of-type {\n",
       "        vertical-align: middle;\n",
       "    }\n",
       "\n",
       "    .dataframe tbody tr th {\n",
       "        vertical-align: top;\n",
       "    }\n",
       "\n",
       "    .dataframe thead th {\n",
       "        text-align: right;\n",
       "    }\n",
       "</style>\n",
       "<table border=\"1\" class=\"dataframe\">\n",
       "  <thead>\n",
       "    <tr style=\"text-align: right;\">\n",
       "      <th></th>\n",
       "      <th>id</th>\n",
       "      <th>anchor</th>\n",
       "      <th>target</th>\n",
       "      <th>context</th>\n",
       "      <th>score</th>\n",
       "      <th>section</th>\n",
       "      <th>context_title</th>\n",
       "      <th>section_title</th>\n",
       "    </tr>\n",
       "  </thead>\n",
       "  <tbody>\n",
       "    <tr>\n",
       "      <th>0</th>\n",
       "      <td>37d61fd2272659b1</td>\n",
       "      <td>abatement</td>\n",
       "      <td>abatement of pollution</td>\n",
       "      <td>A47</td>\n",
       "      <td>0.50</td>\n",
       "      <td>A</td>\n",
       "      <td>FURNITURE; DOMESTIC ARTICLES OR APPLIANCES; CO...</td>\n",
       "      <td>HUMAN NECESSITIES</td>\n",
       "    </tr>\n",
       "    <tr>\n",
       "      <th>1</th>\n",
       "      <td>7b9652b17b68b7a4</td>\n",
       "      <td>abatement</td>\n",
       "      <td>act of abating</td>\n",
       "      <td>A47</td>\n",
       "      <td>0.75</td>\n",
       "      <td>A</td>\n",
       "      <td>FURNITURE; DOMESTIC ARTICLES OR APPLIANCES; CO...</td>\n",
       "      <td>HUMAN NECESSITIES</td>\n",
       "    </tr>\n",
       "    <tr>\n",
       "      <th>2</th>\n",
       "      <td>36d72442aefd8232</td>\n",
       "      <td>abatement</td>\n",
       "      <td>active catalyst</td>\n",
       "      <td>A47</td>\n",
       "      <td>0.25</td>\n",
       "      <td>A</td>\n",
       "      <td>FURNITURE; DOMESTIC ARTICLES OR APPLIANCES; CO...</td>\n",
       "      <td>HUMAN NECESSITIES</td>\n",
       "    </tr>\n",
       "    <tr>\n",
       "      <th>3</th>\n",
       "      <td>5296b0c19e1ce60e</td>\n",
       "      <td>abatement</td>\n",
       "      <td>eliminating process</td>\n",
       "      <td>A47</td>\n",
       "      <td>0.50</td>\n",
       "      <td>A</td>\n",
       "      <td>FURNITURE; DOMESTIC ARTICLES OR APPLIANCES; CO...</td>\n",
       "      <td>HUMAN NECESSITIES</td>\n",
       "    </tr>\n",
       "    <tr>\n",
       "      <th>4</th>\n",
       "      <td>54c1e3b9184cb5b6</td>\n",
       "      <td>abatement</td>\n",
       "      <td>forest region</td>\n",
       "      <td>A47</td>\n",
       "      <td>0.00</td>\n",
       "      <td>A</td>\n",
       "      <td>FURNITURE; DOMESTIC ARTICLES OR APPLIANCES; CO...</td>\n",
       "      <td>HUMAN NECESSITIES</td>\n",
       "    </tr>\n",
       "  </tbody>\n",
       "</table>\n",
       "</div>"
      ],
      "text/plain": [
       "                 id     anchor                  target context  score section  \\\n",
       "0  37d61fd2272659b1  abatement  abatement of pollution     A47   0.50       A   \n",
       "1  7b9652b17b68b7a4  abatement          act of abating     A47   0.75       A   \n",
       "2  36d72442aefd8232  abatement         active catalyst     A47   0.25       A   \n",
       "3  5296b0c19e1ce60e  abatement     eliminating process     A47   0.50       A   \n",
       "4  54c1e3b9184cb5b6  abatement           forest region     A47   0.00       A   \n",
       "\n",
       "                                       context_title      section_title  \n",
       "0  FURNITURE; DOMESTIC ARTICLES OR APPLIANCES; CO...  HUMAN NECESSITIES  \n",
       "1  FURNITURE; DOMESTIC ARTICLES OR APPLIANCES; CO...  HUMAN NECESSITIES  \n",
       "2  FURNITURE; DOMESTIC ARTICLES OR APPLIANCES; CO...  HUMAN NECESSITIES  \n",
       "3  FURNITURE; DOMESTIC ARTICLES OR APPLIANCES; CO...  HUMAN NECESSITIES  \n",
       "4  FURNITURE; DOMESTIC ARTICLES OR APPLIANCES; CO...  HUMAN NECESSITIES  "
      ]
     },
     "metadata": {},
     "output_type": "display_data"
    }
   ],
   "source": [
    "train['section'] = train[\"context\"].str[0]\n",
    "print(train.shape)\n",
    "display(train.head())\n",
    "titles=titles.rename(columns={\"code\": \"context\"})\n",
    "display(titles.head())\n",
    "train = train.merge(titles[[\"context\", \"title\"]], on=\"context\").rename(columns={\"title\": \"context_title\"})\n",
    "train = train.merge(titles[[\"context\", \"title\"]].rename(columns={\"context\": \"section\"}), on=\"section\").rename(columns={\"title\": \"section_title\"})\n",
    "display(train.head())"
   ]
  },
  {
   "cell_type": "code",
   "execution_count": 15,
   "id": "785f8088",
   "metadata": {
    "execution": {
     "iopub.execute_input": "2022-06-19T22:56:31.652235Z",
     "iopub.status.busy": "2022-06-19T22:56:31.651579Z",
     "iopub.status.idle": "2022-06-19T22:56:31.655571Z",
     "shell.execute_reply": "2022-06-19T22:56:31.654911Z"
    },
    "papermill": {
     "duration": 0.07301,
     "end_time": "2022-06-19T22:56:31.657194",
     "exception": false,
     "start_time": "2022-06-19T22:56:31.584184",
     "status": "completed"
    },
    "tags": []
   },
   "outputs": [],
   "source": [
    "logging.disable(logging.WARNING)\n",
    "warnings.simplefilter('ignore')"
   ]
  },
  {
   "cell_type": "markdown",
   "id": "3a09518e",
   "metadata": {
    "papermill": {
     "duration": 0.064523,
     "end_time": "2022-06-19T22:56:31.787776",
     "exception": false,
     "start_time": "2022-06-19T22:56:31.723253",
     "status": "completed"
    },
    "tags": []
   },
   "source": [
    "# PatentSBerta"
   ]
  },
  {
   "cell_type": "code",
   "execution_count": 16,
   "id": "5875d381",
   "metadata": {
    "execution": {
     "iopub.execute_input": "2022-06-19T22:56:31.921621Z",
     "iopub.status.busy": "2022-06-19T22:56:31.920930Z",
     "iopub.status.idle": "2022-06-19T22:56:31.925649Z",
     "shell.execute_reply": "2022-06-19T22:56:31.925009Z"
    },
    "papermill": {
     "duration": 0.072689,
     "end_time": "2022-06-19T22:56:31.927278",
     "exception": false,
     "start_time": "2022-06-19T22:56:31.854589",
     "status": "completed"
    },
    "tags": []
   },
   "outputs": [],
   "source": [
    "#model_name = 'AI-Growth-Lab/PatentSBERTa_Kaggle_V3' #(online version)\n",
    "model_name = '../input/aigl-patentsberta-kaggle-v3'"
   ]
  },
  {
   "cell_type": "code",
   "execution_count": 17,
   "id": "6e266ae0",
   "metadata": {
    "execution": {
     "iopub.execute_input": "2022-06-19T22:56:32.060228Z",
     "iopub.status.busy": "2022-06-19T22:56:32.059578Z",
     "iopub.status.idle": "2022-06-19T22:56:32.117951Z",
     "shell.execute_reply": "2022-06-19T22:56:32.117188Z"
    },
    "papermill": {
     "duration": 0.127363,
     "end_time": "2022-06-19T22:56:32.120216",
     "exception": false,
     "start_time": "2022-06-19T22:56:31.992853",
     "status": "completed"
    },
    "tags": []
   },
   "outputs": [],
   "source": [
    "tokenizer = AutoTokenizer.from_pretrained(model_name)"
   ]
  },
  {
   "cell_type": "code",
   "execution_count": 18,
   "id": "da8f7020",
   "metadata": {
    "execution": {
     "iopub.execute_input": "2022-06-19T22:56:32.255884Z",
     "iopub.status.busy": "2022-06-19T22:56:32.255302Z",
     "iopub.status.idle": "2022-06-19T22:56:32.260564Z",
     "shell.execute_reply": "2022-06-19T22:56:32.259870Z"
    },
    "papermill": {
     "duration": 0.074584,
     "end_time": "2022-06-19T22:56:32.262510",
     "exception": false,
     "start_time": "2022-06-19T22:56:32.187926",
     "status": "completed"
    },
    "tags": []
   },
   "outputs": [
    {
     "data": {
      "text/plain": [
       "['<s>', '</s>', '[UNK]', '<pad>', '<mask>']"
      ]
     },
     "execution_count": 18,
     "metadata": {},
     "output_type": "execute_result"
    }
   ],
   "source": [
    "tokenizer.all_special_tokens"
   ]
  },
  {
   "cell_type": "code",
   "execution_count": 19,
   "id": "d52c71ca",
   "metadata": {
    "execution": {
     "iopub.execute_input": "2022-06-19T22:56:32.398052Z",
     "iopub.status.busy": "2022-06-19T22:56:32.397427Z",
     "iopub.status.idle": "2022-06-19T22:56:32.403605Z",
     "shell.execute_reply": "2022-06-19T22:56:32.402931Z"
    },
    "papermill": {
     "duration": 0.076932,
     "end_time": "2022-06-19T22:56:32.405443",
     "exception": false,
     "start_time": "2022-06-19T22:56:32.328511",
     "status": "completed"
    },
    "tags": []
   },
   "outputs": [],
   "source": [
    "def clean(x):\n",
    "    t = x.lower()\n",
    "    t = t.replace(\"[\",'')\n",
    "    t = t.replace(\";\",'')\n",
    "    t = t.replace(\",\",'')\n",
    "    t = t.replace(\"]\",'')\n",
    "    t = t.replace(\":\",'')\n",
    "    t = t.replace(\"(\",'')\n",
    "    t = t.replace(\")\",'')\n",
    "    t = t.replace(\"{\",'')\n",
    "    t = t.replace(\"}\",'')\n",
    "    t = t.replace(\"/\",' ')\n",
    "    t = t.replace(\"-\",' ')\n",
    "    return t"
   ]
  },
  {
   "cell_type": "code",
   "execution_count": 20,
   "id": "acd0831b",
   "metadata": {
    "execution": {
     "iopub.execute_input": "2022-06-19T22:56:32.539140Z",
     "iopub.status.busy": "2022-06-19T22:56:32.538577Z",
     "iopub.status.idle": "2022-06-19T22:56:32.618897Z",
     "shell.execute_reply": "2022-06-19T22:56:32.618184Z"
    },
    "papermill": {
     "duration": 0.149245,
     "end_time": "2022-06-19T22:56:32.621012",
     "exception": false,
     "start_time": "2022-06-19T22:56:32.471767",
     "status": "completed"
    },
    "tags": []
   },
   "outputs": [],
   "source": [
    "train[\"inputs\"] = train[\"section_title\"].apply(clean) + \" [SEP] \" + train[\"anchor\"] + \" [SEP] \" + train[\"target\"]"
   ]
  },
  {
   "cell_type": "code",
   "execution_count": 21,
   "id": "6c3195cd",
   "metadata": {
    "execution": {
     "iopub.execute_input": "2022-06-19T22:56:32.757060Z",
     "iopub.status.busy": "2022-06-19T22:56:32.756822Z",
     "iopub.status.idle": "2022-06-19T22:56:32.760403Z",
     "shell.execute_reply": "2022-06-19T22:56:32.759732Z"
    },
    "papermill": {
     "duration": 0.074324,
     "end_time": "2022-06-19T22:56:32.762195",
     "exception": false,
     "start_time": "2022-06-19T22:56:32.687871",
     "status": "completed"
    },
    "tags": []
   },
   "outputs": [],
   "source": [
    "def tok_func(x):\n",
    "    return tokenizer(x[\"inputs\"])"
   ]
  },
  {
   "cell_type": "code",
   "execution_count": 22,
   "id": "a3570bf8",
   "metadata": {
    "execution": {
     "iopub.execute_input": "2022-06-19T22:56:32.896756Z",
     "iopub.status.busy": "2022-06-19T22:56:32.896496Z",
     "iopub.status.idle": "2022-06-19T22:56:32.940033Z",
     "shell.execute_reply": "2022-06-19T22:56:32.939353Z"
    },
    "papermill": {
     "duration": 0.113875,
     "end_time": "2022-06-19T22:56:32.941973",
     "exception": false,
     "start_time": "2022-06-19T22:56:32.828098",
     "status": "completed"
    },
    "tags": []
   },
   "outputs": [],
   "source": [
    "train_ds = Dataset.from_pandas(train).rename_column('score', 'label')"
   ]
  },
  {
   "cell_type": "code",
   "execution_count": 23,
   "id": "513e037d",
   "metadata": {
    "execution": {
     "iopub.execute_input": "2022-06-19T22:56:33.076097Z",
     "iopub.status.busy": "2022-06-19T22:56:33.075827Z",
     "iopub.status.idle": "2022-06-19T22:56:35.706769Z",
     "shell.execute_reply": "2022-06-19T22:56:35.706118Z"
    },
    "papermill": {
     "duration": 2.700303,
     "end_time": "2022-06-19T22:56:35.708556",
     "exception": false,
     "start_time": "2022-06-19T22:56:33.008253",
     "status": "completed"
    },
    "tags": []
   },
   "outputs": [
    {
     "data": {
      "application/vnd.jupyter.widget-view+json": {
       "model_id": "88352a6401a4476890f5a8fdbdb3c54b",
       "version_major": 2,
       "version_minor": 0
      },
      "text/plain": [
       "  0%|          | 0/37 [00:00<?, ?ba/s]"
      ]
     },
     "metadata": {},
     "output_type": "display_data"
    }
   ],
   "source": [
    "inps = \"anchor\",\"target\",\"context\",\"context_title\",\"section_title\"\n",
    "tok_ds = train_ds.map(tok_func, batched=True, remove_columns=inps+('inputs','id','section'))"
   ]
  },
  {
   "cell_type": "code",
   "execution_count": 24,
   "id": "af4acac2",
   "metadata": {
    "execution": {
     "iopub.execute_input": "2022-06-19T22:56:35.845907Z",
     "iopub.status.busy": "2022-06-19T22:56:35.845659Z",
     "iopub.status.idle": "2022-06-19T22:56:35.850340Z",
     "shell.execute_reply": "2022-06-19T22:56:35.849691Z"
    },
    "papermill": {
     "duration": 0.075558,
     "end_time": "2022-06-19T22:56:35.852304",
     "exception": false,
     "start_time": "2022-06-19T22:56:35.776746",
     "status": "completed"
    },
    "tags": []
   },
   "outputs": [
    {
     "data": {
      "text/plain": [
       "Dataset({\n",
       "    features: ['label', '__index_level_0__', 'input_ids', 'attention_mask'],\n",
       "    num_rows: 36473\n",
       "})"
      ]
     },
     "execution_count": 24,
     "metadata": {},
     "output_type": "execute_result"
    }
   ],
   "source": [
    "tok_ds"
   ]
  },
  {
   "cell_type": "code",
   "execution_count": 25,
   "id": "0af21a3a",
   "metadata": {
    "execution": {
     "iopub.execute_input": "2022-06-19T22:56:35.997895Z",
     "iopub.status.busy": "2022-06-19T22:56:35.997649Z",
     "iopub.status.idle": "2022-06-19T22:56:36.001699Z",
     "shell.execute_reply": "2022-06-19T22:56:36.000960Z"
    },
    "papermill": {
     "duration": 0.074296,
     "end_time": "2022-06-19T22:56:36.003300",
     "exception": false,
     "start_time": "2022-06-19T22:56:35.929004",
     "status": "completed"
    },
    "tags": []
   },
   "outputs": [],
   "source": [
    "# bs - batch size\n",
    "lr,bs = 8e-5,64\n",
    "# wd: weight decay\n",
    "wd,epochs = 0.01,4"
   ]
  },
  {
   "cell_type": "code",
   "execution_count": 26,
   "id": "2b6c5a01",
   "metadata": {
    "execution": {
     "iopub.execute_input": "2022-06-19T22:56:36.140307Z",
     "iopub.status.busy": "2022-06-19T22:56:36.140024Z",
     "iopub.status.idle": "2022-06-19T22:56:36.146752Z",
     "shell.execute_reply": "2022-06-19T22:56:36.146107Z"
    },
    "papermill": {
     "duration": 0.078157,
     "end_time": "2022-06-19T22:56:36.148651",
     "exception": false,
     "start_time": "2022-06-19T22:56:36.070494",
     "status": "completed"
    },
    "tags": []
   },
   "outputs": [],
   "source": [
    "anchors = train[\"anchor\"].unique()\n",
    "np.random.shuffle(anchors)"
   ]
  },
  {
   "cell_type": "code",
   "execution_count": 27,
   "id": "0a5abd08",
   "metadata": {
    "execution": {
     "iopub.execute_input": "2022-06-19T22:56:36.285613Z",
     "iopub.status.busy": "2022-06-19T22:56:36.284914Z",
     "iopub.status.idle": "2022-06-19T22:56:36.288971Z",
     "shell.execute_reply": "2022-06-19T22:56:36.288153Z"
    },
    "papermill": {
     "duration": 0.074102,
     "end_time": "2022-06-19T22:56:36.290719",
     "exception": false,
     "start_time": "2022-06-19T22:56:36.216617",
     "status": "completed"
    },
    "tags": []
   },
   "outputs": [],
   "source": [
    "val_prop = 0.25\n",
    "val_sz = int(len(anchors)*val_prop)\n",
    "val_anchors = anchors[:val_sz]"
   ]
  },
  {
   "cell_type": "code",
   "execution_count": 28,
   "id": "c888333e",
   "metadata": {
    "execution": {
     "iopub.execute_input": "2022-06-19T22:56:36.425969Z",
     "iopub.status.busy": "2022-06-19T22:56:36.425424Z",
     "iopub.status.idle": "2022-06-19T22:56:36.647786Z",
     "shell.execute_reply": "2022-06-19T22:56:36.647116Z"
    },
    "papermill": {
     "duration": 0.292072,
     "end_time": "2022-06-19T22:56:36.650207",
     "exception": false,
     "start_time": "2022-06-19T22:56:36.358135",
     "status": "completed"
    },
    "tags": []
   },
   "outputs": [
    {
     "data": {
      "text/plain": [
       "(9619, 26854)"
      ]
     },
     "execution_count": 28,
     "metadata": {},
     "output_type": "execute_result"
    }
   ],
   "source": [
    "is_val = np.isin(train.anchor, val_anchors)\n",
    "idxs = np.arange(len(train))\n",
    "val_idxs = idxs[ is_val]\n",
    "trn_idxs = idxs[~is_val]\n",
    "len(val_idxs),len(trn_idxs)"
   ]
  },
  {
   "cell_type": "code",
   "execution_count": 29,
   "id": "4db3f43b",
   "metadata": {
    "execution": {
     "iopub.execute_input": "2022-06-19T22:56:36.785257Z",
     "iopub.status.busy": "2022-06-19T22:56:36.784950Z",
     "iopub.status.idle": "2022-06-19T22:56:36.804639Z",
     "shell.execute_reply": "2022-06-19T22:56:36.803942Z"
    },
    "papermill": {
     "duration": 0.089619,
     "end_time": "2022-06-19T22:56:36.806536",
     "exception": false,
     "start_time": "2022-06-19T22:56:36.716917",
     "status": "completed"
    },
    "tags": []
   },
   "outputs": [],
   "source": [
    "dds = DatasetDict({\"train\":tok_ds.select(trn_idxs),\n",
    "             \"test\": tok_ds.select(val_idxs)})"
   ]
  },
  {
   "cell_type": "code",
   "execution_count": 30,
   "id": "6956dfec",
   "metadata": {
    "execution": {
     "iopub.execute_input": "2022-06-19T22:56:36.984614Z",
     "iopub.status.busy": "2022-06-19T22:56:36.984344Z",
     "iopub.status.idle": "2022-06-19T22:56:36.989873Z",
     "shell.execute_reply": "2022-06-19T22:56:36.989091Z"
    },
    "papermill": {
     "duration": 0.088995,
     "end_time": "2022-06-19T22:56:36.991798",
     "exception": false,
     "start_time": "2022-06-19T22:56:36.902803",
     "status": "completed"
    },
    "tags": []
   },
   "outputs": [],
   "source": [
    "def corr(eval_pred): \n",
    "    logits, labels = eval_pred\n",
    "    logits = logits.reshape(-1)\n",
    "    return {'pearson': np.corrcoef(logits, labels)[0][1]}"
   ]
  },
  {
   "cell_type": "code",
   "execution_count": 31,
   "id": "2f210bc1",
   "metadata": {
    "execution": {
     "iopub.execute_input": "2022-06-19T22:56:37.127824Z",
     "iopub.status.busy": "2022-06-19T22:56:37.127570Z",
     "iopub.status.idle": "2022-06-19T22:56:37.188576Z",
     "shell.execute_reply": "2022-06-19T22:56:37.187872Z"
    },
    "papermill": {
     "duration": 0.131516,
     "end_time": "2022-06-19T22:56:37.190482",
     "exception": false,
     "start_time": "2022-06-19T22:56:37.058966",
     "status": "completed"
    },
    "tags": []
   },
   "outputs": [],
   "source": [
    "#args = TrainingArguments('outputs', learning_rate=lr, warmup_ratio=0.1, lr_scheduler_type='cosine', fp16=True,\n",
    "    #evaluation_strategy=\"epoch\", per_device_train_batch_size=bs, per_device_eval_batch_size=bs*2,\n",
    "     #num_train_epochs=epochs, weight_decay=wd, report_to='none')\n",
    "args = TrainingArguments('outputs', learning_rate=lr, warmup_ratio=0.1, lr_scheduler_type='cosine',\n",
    "    evaluation_strategy=\"epoch\", per_device_train_batch_size=bs, per_device_eval_batch_size=bs*2,\n",
    "    num_train_epochs=epochs, weight_decay=wd, report_to='none')"
   ]
  },
  {
   "cell_type": "code",
   "execution_count": 32,
   "id": "5f8a85a6",
   "metadata": {
    "execution": {
     "iopub.execute_input": "2022-06-19T22:56:37.325732Z",
     "iopub.status.busy": "2022-06-19T22:56:37.325482Z",
     "iopub.status.idle": "2022-06-19T22:56:47.315222Z",
     "shell.execute_reply": "2022-06-19T22:56:47.314486Z"
    },
    "papermill": {
     "duration": 10.059763,
     "end_time": "2022-06-19T22:56:47.317712",
     "exception": false,
     "start_time": "2022-06-19T22:56:37.257949",
     "status": "completed"
    },
    "tags": []
   },
   "outputs": [],
   "source": [
    "model = AutoModelForSequenceClassification.from_pretrained(model_name, num_labels=1, ignore_mismatched_sizes=True)\n",
    "trainer = Trainer(model, args, train_dataset=dds['train'], eval_dataset=dds['test'],\n",
    "               tokenizer=tokenizer, compute_metrics=corr)"
   ]
  },
  {
   "cell_type": "code",
   "execution_count": 33,
   "id": "bbb4d38c",
   "metadata": {
    "execution": {
     "iopub.execute_input": "2022-06-19T22:56:47.468677Z",
     "iopub.status.busy": "2022-06-19T22:56:47.468424Z",
     "iopub.status.idle": "2022-06-19T22:56:47.473463Z",
     "shell.execute_reply": "2022-06-19T22:56:47.472818Z"
    },
    "papermill": {
     "duration": 0.075568,
     "end_time": "2022-06-19T22:56:47.475278",
     "exception": false,
     "start_time": "2022-06-19T22:56:47.399710",
     "status": "completed"
    },
    "tags": []
   },
   "outputs": [
    {
     "data": {
      "text/plain": [
       "Dataset({\n",
       "    features: ['label', '__index_level_0__', 'input_ids', 'attention_mask'],\n",
       "    num_rows: 26854\n",
       "})"
      ]
     },
     "execution_count": 33,
     "metadata": {},
     "output_type": "execute_result"
    }
   ],
   "source": [
    "dds['train']"
   ]
  },
  {
   "cell_type": "code",
   "execution_count": 34,
   "id": "0430fd9e",
   "metadata": {
    "execution": {
     "iopub.execute_input": "2022-06-19T22:56:47.611081Z",
     "iopub.status.busy": "2022-06-19T22:56:47.610823Z",
     "iopub.status.idle": "2022-06-19T22:56:56.518806Z",
     "shell.execute_reply": "2022-06-19T22:56:56.518118Z"
    },
    "papermill": {
     "duration": 8.978459,
     "end_time": "2022-06-19T22:56:56.520859",
     "exception": false,
     "start_time": "2022-06-19T22:56:47.542400",
     "status": "completed"
    },
    "tags": []
   },
   "outputs": [
    {
     "data": {
      "text/html": [
       "\n",
       "    <div>\n",
       "      \n",
       "      <progress value='77' max='76' style='width:300px; height:20px; vertical-align: middle;'></progress>\n",
       "      [76/76 00:09]\n",
       "    </div>\n",
       "    "
      ],
      "text/plain": [
       "<IPython.core.display.HTML object>"
      ]
     },
     "metadata": {},
     "output_type": "display_data"
    }
   ],
   "source": [
    "eval = trainer.evaluate()"
   ]
  },
  {
   "cell_type": "code",
   "execution_count": 35,
   "id": "c79507d3",
   "metadata": {
    "execution": {
     "iopub.execute_input": "2022-06-19T22:56:56.659594Z",
     "iopub.status.busy": "2022-06-19T22:56:56.659043Z",
     "iopub.status.idle": "2022-06-19T22:56:56.664038Z",
     "shell.execute_reply": "2022-06-19T22:56:56.663402Z"
    },
    "papermill": {
     "duration": 0.075433,
     "end_time": "2022-06-19T22:56:56.665947",
     "exception": false,
     "start_time": "2022-06-19T22:56:56.590514",
     "status": "completed"
    },
    "tags": []
   },
   "outputs": [
    {
     "data": {
      "text/plain": [
       "{'eval_loss': 0.011927393265068531,\n",
       " 'eval_pearson': 0.9192959048920074,\n",
       " 'eval_runtime': 8.9017,\n",
       " 'eval_samples_per_second': 1080.584,\n",
       " 'eval_steps_per_second': 8.538}"
      ]
     },
     "execution_count": 35,
     "metadata": {},
     "output_type": "execute_result"
    }
   ],
   "source": [
    "eval"
   ]
  },
  {
   "cell_type": "code",
   "execution_count": 36,
   "id": "bff2568e",
   "metadata": {
    "execution": {
     "iopub.execute_input": "2022-06-19T22:56:56.801266Z",
     "iopub.status.busy": "2022-06-19T22:56:56.800573Z",
     "iopub.status.idle": "2022-06-19T22:56:56.805650Z",
     "shell.execute_reply": "2022-06-19T22:56:56.805029Z"
    },
    "papermill": {
     "duration": 0.074824,
     "end_time": "2022-06-19T22:56:56.807535",
     "exception": false,
     "start_time": "2022-06-19T22:56:56.732711",
     "status": "completed"
    },
    "tags": []
   },
   "outputs": [
    {
     "data": {
      "text/plain": [
       "1718656"
      ]
     },
     "execution_count": 36,
     "metadata": {},
     "output_type": "execute_result"
    }
   ],
   "source": [
    "trainer.num_examples(dds['train'])"
   ]
  },
  {
   "cell_type": "code",
   "execution_count": 37,
   "id": "e261a93e",
   "metadata": {
    "execution": {
     "iopub.execute_input": "2022-06-19T22:56:56.944690Z",
     "iopub.status.busy": "2022-06-19T22:56:56.944175Z",
     "iopub.status.idle": "2022-06-19T22:56:56.947403Z",
     "shell.execute_reply": "2022-06-19T22:56:56.946762Z"
    },
    "papermill": {
     "duration": 0.073621,
     "end_time": "2022-06-19T22:56:56.949005",
     "exception": false,
     "start_time": "2022-06-19T22:56:56.875384",
     "status": "completed"
    },
    "tags": []
   },
   "outputs": [],
   "source": [
    "#trainer.save_model()"
   ]
  },
  {
   "cell_type": "markdown",
   "id": "d41cbc8a",
   "metadata": {
    "papermill": {
     "duration": 0.068184,
     "end_time": "2022-06-19T22:56:57.086160",
     "exception": false,
     "start_time": "2022-06-19T22:56:57.017976",
     "status": "completed"
    },
    "tags": []
   },
   "source": [
    "# Test corpus preprocessing"
   ]
  },
  {
   "cell_type": "code",
   "execution_count": 38,
   "id": "1df4a79a",
   "metadata": {
    "execution": {
     "iopub.execute_input": "2022-06-19T22:56:57.223952Z",
     "iopub.status.busy": "2022-06-19T22:56:57.223287Z",
     "iopub.status.idle": "2022-06-19T22:56:57.233086Z",
     "shell.execute_reply": "2022-06-19T22:56:57.232438Z"
    },
    "papermill": {
     "duration": 0.080369,
     "end_time": "2022-06-19T22:56:57.234719",
     "exception": false,
     "start_time": "2022-06-19T22:56:57.154350",
     "status": "completed"
    },
    "tags": []
   },
   "outputs": [
    {
     "data": {
      "text/html": [
       "<div>\n",
       "<style scoped>\n",
       "    .dataframe tbody tr th:only-of-type {\n",
       "        vertical-align: middle;\n",
       "    }\n",
       "\n",
       "    .dataframe tbody tr th {\n",
       "        vertical-align: top;\n",
       "    }\n",
       "\n",
       "    .dataframe thead th {\n",
       "        text-align: right;\n",
       "    }\n",
       "</style>\n",
       "<table border=\"1\" class=\"dataframe\">\n",
       "  <thead>\n",
       "    <tr style=\"text-align: right;\">\n",
       "      <th></th>\n",
       "      <th>id</th>\n",
       "      <th>anchor</th>\n",
       "      <th>target</th>\n",
       "      <th>context</th>\n",
       "    </tr>\n",
       "  </thead>\n",
       "  <tbody>\n",
       "    <tr>\n",
       "      <th>0</th>\n",
       "      <td>4112d61851461f60</td>\n",
       "      <td>opc drum</td>\n",
       "      <td>inorganic photoconductor drum</td>\n",
       "      <td>G02</td>\n",
       "    </tr>\n",
       "    <tr>\n",
       "      <th>1</th>\n",
       "      <td>09e418c93a776564</td>\n",
       "      <td>adjust gas flow</td>\n",
       "      <td>altering gas flow</td>\n",
       "      <td>F23</td>\n",
       "    </tr>\n",
       "    <tr>\n",
       "      <th>2</th>\n",
       "      <td>36baf228038e314b</td>\n",
       "      <td>lower trunnion</td>\n",
       "      <td>lower locating</td>\n",
       "      <td>B60</td>\n",
       "    </tr>\n",
       "    <tr>\n",
       "      <th>3</th>\n",
       "      <td>1f37ead645e7f0c8</td>\n",
       "      <td>cap component</td>\n",
       "      <td>upper portion</td>\n",
       "      <td>D06</td>\n",
       "    </tr>\n",
       "    <tr>\n",
       "      <th>4</th>\n",
       "      <td>71a5b6ad068d531f</td>\n",
       "      <td>neural stimulation</td>\n",
       "      <td>artificial neural network</td>\n",
       "      <td>H04</td>\n",
       "    </tr>\n",
       "  </tbody>\n",
       "</table>\n",
       "</div>"
      ],
      "text/plain": [
       "                 id              anchor                         target context\n",
       "0  4112d61851461f60            opc drum  inorganic photoconductor drum     G02\n",
       "1  09e418c93a776564     adjust gas flow              altering gas flow     F23\n",
       "2  36baf228038e314b      lower trunnion                 lower locating     B60\n",
       "3  1f37ead645e7f0c8       cap component                  upper portion     D06\n",
       "4  71a5b6ad068d531f  neural stimulation      artificial neural network     H04"
      ]
     },
     "execution_count": 38,
     "metadata": {},
     "output_type": "execute_result"
    }
   ],
   "source": [
    "test.head()"
   ]
  },
  {
   "cell_type": "code",
   "execution_count": 39,
   "id": "39f879b1",
   "metadata": {
    "execution": {
     "iopub.execute_input": "2022-06-19T22:56:57.386838Z",
     "iopub.status.busy": "2022-06-19T22:56:57.386577Z",
     "iopub.status.idle": "2022-06-19T22:56:57.593239Z",
     "shell.execute_reply": "2022-06-19T22:56:57.592380Z"
    },
    "papermill": {
     "duration": 0.291163,
     "end_time": "2022-06-19T22:56:57.595438",
     "exception": false,
     "start_time": "2022-06-19T22:56:57.304275",
     "status": "completed"
    },
    "tags": []
   },
   "outputs": [
    {
     "name": "stdout",
     "output_type": "stream",
     "text": [
      "(36, 5)\n"
     ]
    },
    {
     "data": {
      "text/html": [
       "<div>\n",
       "<style scoped>\n",
       "    .dataframe tbody tr th:only-of-type {\n",
       "        vertical-align: middle;\n",
       "    }\n",
       "\n",
       "    .dataframe tbody tr th {\n",
       "        vertical-align: top;\n",
       "    }\n",
       "\n",
       "    .dataframe thead th {\n",
       "        text-align: right;\n",
       "    }\n",
       "</style>\n",
       "<table border=\"1\" class=\"dataframe\">\n",
       "  <thead>\n",
       "    <tr style=\"text-align: right;\">\n",
       "      <th></th>\n",
       "      <th>context</th>\n",
       "      <th>title</th>\n",
       "      <th>section</th>\n",
       "      <th>class</th>\n",
       "      <th>subclass</th>\n",
       "      <th>group</th>\n",
       "      <th>main_group</th>\n",
       "    </tr>\n",
       "  </thead>\n",
       "  <tbody>\n",
       "    <tr>\n",
       "      <th>0</th>\n",
       "      <td>A</td>\n",
       "      <td>HUMAN NECESSITIES</td>\n",
       "      <td>A</td>\n",
       "      <td>NaN</td>\n",
       "      <td>NaN</td>\n",
       "      <td>NaN</td>\n",
       "      <td>NaN</td>\n",
       "    </tr>\n",
       "    <tr>\n",
       "      <th>1</th>\n",
       "      <td>A01</td>\n",
       "      <td>AGRICULTURE; FORESTRY; ANIMAL HUSBANDRY; HUNTI...</td>\n",
       "      <td>A</td>\n",
       "      <td>1.0</td>\n",
       "      <td>NaN</td>\n",
       "      <td>NaN</td>\n",
       "      <td>NaN</td>\n",
       "    </tr>\n",
       "    <tr>\n",
       "      <th>2</th>\n",
       "      <td>A01B</td>\n",
       "      <td>SOIL WORKING IN AGRICULTURE OR FORESTRY; PARTS...</td>\n",
       "      <td>A</td>\n",
       "      <td>1.0</td>\n",
       "      <td>B</td>\n",
       "      <td>NaN</td>\n",
       "      <td>NaN</td>\n",
       "    </tr>\n",
       "    <tr>\n",
       "      <th>3</th>\n",
       "      <td>A01B1/00</td>\n",
       "      <td>Hand tools (edge trimmers for lawns A01G3/06  ...</td>\n",
       "      <td>A</td>\n",
       "      <td>1.0</td>\n",
       "      <td>B</td>\n",
       "      <td>1.0</td>\n",
       "      <td>0.0</td>\n",
       "    </tr>\n",
       "    <tr>\n",
       "      <th>4</th>\n",
       "      <td>A01B1/02</td>\n",
       "      <td>Spades; Shovels {(hand-operated dredgers E02F3...</td>\n",
       "      <td>A</td>\n",
       "      <td>1.0</td>\n",
       "      <td>B</td>\n",
       "      <td>1.0</td>\n",
       "      <td>2.0</td>\n",
       "    </tr>\n",
       "  </tbody>\n",
       "</table>\n",
       "</div>"
      ],
      "text/plain": [
       "    context                                              title section  class  \\\n",
       "0         A                                  HUMAN NECESSITIES       A    NaN   \n",
       "1       A01  AGRICULTURE; FORESTRY; ANIMAL HUSBANDRY; HUNTI...       A    1.0   \n",
       "2      A01B  SOIL WORKING IN AGRICULTURE OR FORESTRY; PARTS...       A    1.0   \n",
       "3  A01B1/00  Hand tools (edge trimmers for lawns A01G3/06  ...       A    1.0   \n",
       "4  A01B1/02  Spades; Shovels {(hand-operated dredgers E02F3...       A    1.0   \n",
       "\n",
       "  subclass  group  main_group  \n",
       "0      NaN    NaN         NaN  \n",
       "1      NaN    NaN         NaN  \n",
       "2        B    NaN         NaN  \n",
       "3        B    1.0         0.0  \n",
       "4        B    1.0         2.0  "
      ]
     },
     "metadata": {},
     "output_type": "display_data"
    },
    {
     "data": {
      "text/html": [
       "<div>\n",
       "<style scoped>\n",
       "    .dataframe tbody tr th:only-of-type {\n",
       "        vertical-align: middle;\n",
       "    }\n",
       "\n",
       "    .dataframe tbody tr th {\n",
       "        vertical-align: top;\n",
       "    }\n",
       "\n",
       "    .dataframe thead th {\n",
       "        text-align: right;\n",
       "    }\n",
       "</style>\n",
       "<table border=\"1\" class=\"dataframe\">\n",
       "  <thead>\n",
       "    <tr style=\"text-align: right;\">\n",
       "      <th></th>\n",
       "      <th>id</th>\n",
       "      <th>anchor</th>\n",
       "      <th>target</th>\n",
       "      <th>context</th>\n",
       "      <th>section</th>\n",
       "      <th>context_title</th>\n",
       "      <th>section_title</th>\n",
       "    </tr>\n",
       "  </thead>\n",
       "  <tbody>\n",
       "    <tr>\n",
       "      <th>0</th>\n",
       "      <td>4112d61851461f60</td>\n",
       "      <td>opc drum</td>\n",
       "      <td>inorganic photoconductor drum</td>\n",
       "      <td>G02</td>\n",
       "      <td>G</td>\n",
       "      <td>OPTICS</td>\n",
       "      <td>PHYSICS</td>\n",
       "    </tr>\n",
       "    <tr>\n",
       "      <th>1</th>\n",
       "      <td>5203a36c501f1b7c</td>\n",
       "      <td>generate in layer</td>\n",
       "      <td>generate by layer</td>\n",
       "      <td>G02</td>\n",
       "      <td>G</td>\n",
       "      <td>OPTICS</td>\n",
       "      <td>PHYSICS</td>\n",
       "    </tr>\n",
       "    <tr>\n",
       "      <th>2</th>\n",
       "      <td>7aa5908a77a7ec24</td>\n",
       "      <td>el display</td>\n",
       "      <td>illumination</td>\n",
       "      <td>G02</td>\n",
       "      <td>G</td>\n",
       "      <td>OPTICS</td>\n",
       "      <td>PHYSICS</td>\n",
       "    </tr>\n",
       "    <tr>\n",
       "      <th>3</th>\n",
       "      <td>442c114ed5c4e3c9</td>\n",
       "      <td>tunneling capacitor</td>\n",
       "      <td>capacitor housing</td>\n",
       "      <td>G11</td>\n",
       "      <td>G</td>\n",
       "      <td>INFORMATION STORAGE</td>\n",
       "      <td>PHYSICS</td>\n",
       "    </tr>\n",
       "    <tr>\n",
       "      <th>4</th>\n",
       "      <td>12ca31f018a2e2b9</td>\n",
       "      <td>speed control means</td>\n",
       "      <td>control loop</td>\n",
       "      <td>G05</td>\n",
       "      <td>G</td>\n",
       "      <td>CONTROLLING; REGULATING</td>\n",
       "      <td>PHYSICS</td>\n",
       "    </tr>\n",
       "  </tbody>\n",
       "</table>\n",
       "</div>"
      ],
      "text/plain": [
       "                 id               anchor                         target  \\\n",
       "0  4112d61851461f60             opc drum  inorganic photoconductor drum   \n",
       "1  5203a36c501f1b7c    generate in layer              generate by layer   \n",
       "2  7aa5908a77a7ec24           el display                   illumination   \n",
       "3  442c114ed5c4e3c9  tunneling capacitor              capacitor housing   \n",
       "4  12ca31f018a2e2b9  speed control means                   control loop   \n",
       "\n",
       "  context section            context_title section_title  \n",
       "0     G02       G                   OPTICS       PHYSICS  \n",
       "1     G02       G                   OPTICS       PHYSICS  \n",
       "2     G02       G                   OPTICS       PHYSICS  \n",
       "3     G11       G      INFORMATION STORAGE       PHYSICS  \n",
       "4     G05       G  CONTROLLING; REGULATING       PHYSICS  "
      ]
     },
     "metadata": {},
     "output_type": "display_data"
    }
   ],
   "source": [
    "test['section'] = test[\"context\"].str[0]\n",
    "print(test.shape)\n",
    "display(titles.head())\n",
    "test = test.merge(titles[[\"context\", \"title\"]], on=\"context\").rename(columns={\"title\": \"context_title\"})\n",
    "test = test.merge(titles[[\"context\", \"title\"]].rename(columns={\"context\": \"section\"}), on=\"section\").rename(columns={\"title\": \"section_title\"})\n",
    "display(test.head())"
   ]
  },
  {
   "cell_type": "code",
   "execution_count": 40,
   "id": "e7539392",
   "metadata": {
    "execution": {
     "iopub.execute_input": "2022-06-19T22:56:57.740240Z",
     "iopub.status.busy": "2022-06-19T22:56:57.739601Z",
     "iopub.status.idle": "2022-06-19T22:56:57.745015Z",
     "shell.execute_reply": "2022-06-19T22:56:57.744355Z"
    },
    "papermill": {
     "duration": 0.07868,
     "end_time": "2022-06-19T22:56:57.746625",
     "exception": false,
     "start_time": "2022-06-19T22:56:57.667945",
     "status": "completed"
    },
    "tags": []
   },
   "outputs": [],
   "source": [
    "test[\"inputs\"] = test[\"section_title\"].apply(clean) + \" [SEP] \" + test[\"anchor\"] + \" [SEP] \" + test[\"target\"]"
   ]
  },
  {
   "cell_type": "code",
   "execution_count": 41,
   "id": "230b6215",
   "metadata": {
    "execution": {
     "iopub.execute_input": "2022-06-19T22:56:57.888318Z",
     "iopub.status.busy": "2022-06-19T22:56:57.887634Z",
     "iopub.status.idle": "2022-06-19T22:56:57.895115Z",
     "shell.execute_reply": "2022-06-19T22:56:57.894487Z"
    },
    "papermill": {
     "duration": 0.080186,
     "end_time": "2022-06-19T22:56:57.897041",
     "exception": false,
     "start_time": "2022-06-19T22:56:57.816855",
     "status": "completed"
    },
    "tags": []
   },
   "outputs": [],
   "source": [
    "test_ds = Dataset.from_pandas(test)"
   ]
  },
  {
   "cell_type": "code",
   "execution_count": 42,
   "id": "e50d7106",
   "metadata": {
    "execution": {
     "iopub.execute_input": "2022-06-19T22:56:58.041122Z",
     "iopub.status.busy": "2022-06-19T22:56:58.040271Z",
     "iopub.status.idle": "2022-06-19T22:56:58.045539Z",
     "shell.execute_reply": "2022-06-19T22:56:58.044863Z"
    },
    "papermill": {
     "duration": 0.080253,
     "end_time": "2022-06-19T22:56:58.047792",
     "exception": false,
     "start_time": "2022-06-19T22:56:57.967539",
     "status": "completed"
    },
    "tags": []
   },
   "outputs": [
    {
     "data": {
      "text/plain": [
       "Dataset({\n",
       "    features: ['id', 'anchor', 'target', 'context', 'section', 'context_title', 'section_title', 'inputs', '__index_level_0__'],\n",
       "    num_rows: 36\n",
       "})"
      ]
     },
     "execution_count": 42,
     "metadata": {},
     "output_type": "execute_result"
    }
   ],
   "source": [
    "test_ds"
   ]
  },
  {
   "cell_type": "code",
   "execution_count": 43,
   "id": "5edf3a20",
   "metadata": {
    "execution": {
     "iopub.execute_input": "2022-06-19T22:56:58.193599Z",
     "iopub.status.busy": "2022-06-19T22:56:58.192931Z",
     "iopub.status.idle": "2022-06-19T22:56:58.244449Z",
     "shell.execute_reply": "2022-06-19T22:56:58.243796Z"
    },
    "papermill": {
     "duration": 0.126372,
     "end_time": "2022-06-19T22:56:58.246069",
     "exception": false,
     "start_time": "2022-06-19T22:56:58.119697",
     "status": "completed"
    },
    "tags": []
   },
   "outputs": [
    {
     "data": {
      "application/vnd.jupyter.widget-view+json": {
       "model_id": "408f7dc1665b41a98b27d8d11ccb3758",
       "version_major": 2,
       "version_minor": 0
      },
      "text/plain": [
       "  0%|          | 0/1 [00:00<?, ?ba/s]"
      ]
     },
     "metadata": {},
     "output_type": "display_data"
    }
   ],
   "source": [
    "inps = \"anchor\",\"target\",\"context\",\"context_title\",\"section_title\"\n",
    "test_tok_ds = test_ds.map(tok_func, batched=True, remove_columns=inps+('inputs','id','section'))"
   ]
  },
  {
   "cell_type": "code",
   "execution_count": 44,
   "id": "7dcc16f8",
   "metadata": {
    "execution": {
     "iopub.execute_input": "2022-06-19T22:56:58.390944Z",
     "iopub.status.busy": "2022-06-19T22:56:58.390695Z",
     "iopub.status.idle": "2022-06-19T22:56:58.435813Z",
     "shell.execute_reply": "2022-06-19T22:56:58.434883Z"
    },
    "papermill": {
     "duration": 0.120045,
     "end_time": "2022-06-19T22:56:58.438017",
     "exception": false,
     "start_time": "2022-06-19T22:56:58.317972",
     "status": "completed"
    },
    "tags": []
   },
   "outputs": [
    {
     "data": {
      "text/plain": [
       "array([[ 0.48749384],\n",
       "       [ 0.948901  ],\n",
       "       [ 0.28694433],\n",
       "       [ 0.50278115],\n",
       "       [ 0.31292188],\n",
       "       [ 0.73349011],\n",
       "       [ 0.4781965 ],\n",
       "       [ 0.79074466],\n",
       "       [ 1.05603766],\n",
       "       [ 0.2435392 ],\n",
       "       [ 0.24521858],\n",
       "       [ 0.55106753],\n",
       "       [-0.01621631],\n",
       "       [ 0.5375756 ],\n",
       "       [ 0.63313073],\n",
       "       [-0.00538462],\n",
       "       [ 0.17454851],\n",
       "       [ 0.79013216],\n",
       "       [ 0.79604405],\n",
       "       [-0.00391432],\n",
       "       [ 0.27687433],\n",
       "       [ 0.27295172],\n",
       "       [ 0.52643836],\n",
       "       [ 0.3617987 ],\n",
       "       [ 0.01224874],\n",
       "       [ 0.30376944],\n",
       "       [ 0.29838696],\n",
       "       [ 0.53494966],\n",
       "       [ 0.12322883],\n",
       "       [ 0.49000978],\n",
       "       [ 0.48843858],\n",
       "       [ 0.14339146],\n",
       "       [-0.01222257],\n",
       "       [ 0.1442931 ],\n",
       "       [-0.0065867 ],\n",
       "       [-0.00724098]])"
      ]
     },
     "execution_count": 44,
     "metadata": {},
     "output_type": "execute_result"
    }
   ],
   "source": [
    "preds_sberta = trainer.predict(test_tok_ds).predictions.astype(float)\n",
    "preds_sberta"
   ]
  },
  {
   "cell_type": "code",
   "execution_count": 45,
   "id": "32fcae61",
   "metadata": {
    "execution": {
     "iopub.execute_input": "2022-06-19T22:56:58.586158Z",
     "iopub.status.busy": "2022-06-19T22:56:58.585902Z",
     "iopub.status.idle": "2022-06-19T22:56:58.590913Z",
     "shell.execute_reply": "2022-06-19T22:56:58.589904Z"
    },
    "papermill": {
     "duration": 0.07896,
     "end_time": "2022-06-19T22:56:58.592630",
     "exception": false,
     "start_time": "2022-06-19T22:56:58.513670",
     "status": "completed"
    },
    "tags": []
   },
   "outputs": [
    {
     "data": {
      "text/plain": [
       "numpy.ndarray"
      ]
     },
     "execution_count": 45,
     "metadata": {},
     "output_type": "execute_result"
    }
   ],
   "source": [
    "type(preds_sberta)"
   ]
  },
  {
   "cell_type": "code",
   "execution_count": 46,
   "id": "ee9db4b2",
   "metadata": {
    "execution": {
     "iopub.execute_input": "2022-06-19T22:56:58.737362Z",
     "iopub.status.busy": "2022-06-19T22:56:58.736762Z",
     "iopub.status.idle": "2022-06-19T22:56:58.740211Z",
     "shell.execute_reply": "2022-06-19T22:56:58.739543Z"
    },
    "papermill": {
     "duration": 0.077039,
     "end_time": "2022-06-19T22:56:58.741822",
     "exception": false,
     "start_time": "2022-06-19T22:56:58.664783",
     "status": "completed"
    },
    "tags": []
   },
   "outputs": [],
   "source": [
    "del model_name, tokenizer, model"
   ]
  },
  {
   "cell_type": "markdown",
   "id": "2dda625f",
   "metadata": {
    "papermill": {
     "duration": 0.071845,
     "end_time": "2022-06-19T22:56:58.885032",
     "exception": false,
     "start_time": "2022-06-19T22:56:58.813187",
     "status": "completed"
    },
    "tags": []
   },
   "source": [
    "# Deberta-V3_small inference"
   ]
  },
  {
   "cell_type": "code",
   "execution_count": 47,
   "id": "cf4ad7d4",
   "metadata": {
    "execution": {
     "iopub.execute_input": "2022-06-19T22:56:59.030957Z",
     "iopub.status.busy": "2022-06-19T22:56:59.030305Z",
     "iopub.status.idle": "2022-06-19T22:56:59.033798Z",
     "shell.execute_reply": "2022-06-19T22:56:59.033139Z"
    },
    "papermill": {
     "duration": 0.078144,
     "end_time": "2022-06-19T22:56:59.035433",
     "exception": false,
     "start_time": "2022-06-19T22:56:58.957289",
     "status": "completed"
    },
    "tags": []
   },
   "outputs": [],
   "source": [
    "#model_name = 'microsoft/deberta-v3-small' (online version)\n",
    "model_name = '../input/debertav3small'"
   ]
  },
  {
   "cell_type": "code",
   "execution_count": 48,
   "id": "079adfad",
   "metadata": {
    "execution": {
     "iopub.execute_input": "2022-06-19T22:56:59.181170Z",
     "iopub.status.busy": "2022-06-19T22:56:59.180428Z",
     "iopub.status.idle": "2022-06-19T22:56:59.185661Z",
     "shell.execute_reply": "2022-06-19T22:56:59.184988Z"
    },
    "papermill": {
     "duration": 0.079951,
     "end_time": "2022-06-19T22:56:59.187364",
     "exception": false,
     "start_time": "2022-06-19T22:56:59.107413",
     "status": "completed"
    },
    "tags": []
   },
   "outputs": [],
   "source": [
    "def corr_deberta(eval_pred): return {'pearson': np.corrcoef(*eval_pred)[0][1]}"
   ]
  },
  {
   "cell_type": "code",
   "execution_count": 49,
   "id": "e73ff70f",
   "metadata": {
    "execution": {
     "iopub.execute_input": "2022-06-19T22:56:59.335781Z",
     "iopub.status.busy": "2022-06-19T22:56:59.335533Z",
     "iopub.status.idle": "2022-06-19T22:57:00.027229Z",
     "shell.execute_reply": "2022-06-19T22:57:00.026474Z"
    },
    "papermill": {
     "duration": 0.768244,
     "end_time": "2022-06-19T22:57:00.029520",
     "exception": false,
     "start_time": "2022-06-19T22:56:59.261276",
     "status": "completed"
    },
    "tags": []
   },
   "outputs": [],
   "source": [
    "tokenizer = AutoTokenizer.from_pretrained(model_name)"
   ]
  },
  {
   "cell_type": "code",
   "execution_count": 50,
   "id": "b00346f8",
   "metadata": {
    "execution": {
     "iopub.execute_input": "2022-06-19T22:57:00.176172Z",
     "iopub.status.busy": "2022-06-19T22:57:00.175895Z",
     "iopub.status.idle": "2022-06-19T22:57:00.181015Z",
     "shell.execute_reply": "2022-06-19T22:57:00.180355Z"
    },
    "papermill": {
     "duration": 0.081044,
     "end_time": "2022-06-19T22:57:00.183207",
     "exception": false,
     "start_time": "2022-06-19T22:57:00.102163",
     "status": "completed"
    },
    "tags": []
   },
   "outputs": [
    {
     "data": {
      "text/plain": [
       "['[CLS]', '[SEP]', '[UNK]', '[PAD]', '[MASK]']"
      ]
     },
     "execution_count": 50,
     "metadata": {},
     "output_type": "execute_result"
    }
   ],
   "source": [
    "tokenizer.all_special_tokens"
   ]
  },
  {
   "cell_type": "code",
   "execution_count": 51,
   "id": "2d5b1dd8",
   "metadata": {
    "execution": {
     "iopub.execute_input": "2022-06-19T22:57:00.330276Z",
     "iopub.status.busy": "2022-06-19T22:57:00.329631Z",
     "iopub.status.idle": "2022-06-19T22:57:05.111828Z",
     "shell.execute_reply": "2022-06-19T22:57:05.111051Z"
    },
    "papermill": {
     "duration": 4.858914,
     "end_time": "2022-06-19T22:57:05.113854",
     "exception": false,
     "start_time": "2022-06-19T22:57:00.254940",
     "status": "completed"
    },
    "tags": []
   },
   "outputs": [],
   "source": [
    "model = AutoModelForSequenceClassification.from_pretrained(model_name, num_labels=1)\n",
    "trainer = Trainer(model, args, train_dataset=dds['train'], eval_dataset=dds['test'],\n",
    "               tokenizer=tokenizer, compute_metrics=corr_deberta)"
   ]
  },
  {
   "cell_type": "code",
   "execution_count": 52,
   "id": "e69fb655",
   "metadata": {
    "execution": {
     "iopub.execute_input": "2022-06-19T22:57:05.261360Z",
     "iopub.status.busy": "2022-06-19T22:57:05.261086Z",
     "iopub.status.idle": "2022-06-19T23:01:58.884797Z",
     "shell.execute_reply": "2022-06-19T23:01:58.883971Z"
    },
    "papermill": {
     "duration": 293.699878,
     "end_time": "2022-06-19T23:01:58.887375",
     "exception": false,
     "start_time": "2022-06-19T22:57:05.187497",
     "status": "completed"
    },
    "tags": []
   },
   "outputs": [
    {
     "data": {
      "text/html": [
       "\n",
       "    <div>\n",
       "      \n",
       "      <progress value='1680' max='1680' style='width:300px; height:20px; vertical-align: middle;'></progress>\n",
       "      [1680/1680 04:53, Epoch 4/4]\n",
       "    </div>\n",
       "    <table border=\"1\" class=\"dataframe\">\n",
       "  <thead>\n",
       " <tr style=\"text-align: left;\">\n",
       "      <th>Epoch</th>\n",
       "      <th>Training Loss</th>\n",
       "      <th>Validation Loss</th>\n",
       "      <th>Pearson</th>\n",
       "    </tr>\n",
       "  </thead>\n",
       "  <tbody>\n",
       "    <tr>\n",
       "      <td>1</td>\n",
       "      <td>No log</td>\n",
       "      <td>0.053385</td>\n",
       "      <td>0.460184</td>\n",
       "    </tr>\n",
       "    <tr>\n",
       "      <td>2</td>\n",
       "      <td>0.062000</td>\n",
       "      <td>0.053394</td>\n",
       "      <td>0.507351</td>\n",
       "    </tr>\n",
       "    <tr>\n",
       "      <td>3</td>\n",
       "      <td>0.046100</td>\n",
       "      <td>0.051943</td>\n",
       "      <td>0.519858</td>\n",
       "    </tr>\n",
       "    <tr>\n",
       "      <td>4</td>\n",
       "      <td>0.034500</td>\n",
       "      <td>0.054118</td>\n",
       "      <td>0.509917</td>\n",
       "    </tr>\n",
       "  </tbody>\n",
       "</table><p>"
      ],
      "text/plain": [
       "<IPython.core.display.HTML object>"
      ]
     },
     "metadata": {},
     "output_type": "display_data"
    },
    {
     "data": {
      "text/plain": [
       "TrainOutput(global_step=1680, training_loss=0.045755926484153386, metrics={'train_runtime': 293.6093, 'train_samples_per_second': 365.847, 'train_steps_per_second': 5.722, 'total_flos': 695777724027960.0, 'train_loss': 0.045755926484153386, 'epoch': 4.0})"
      ]
     },
     "execution_count": 52,
     "metadata": {},
     "output_type": "execute_result"
    }
   ],
   "source": [
    "trainer.train()"
   ]
  },
  {
   "cell_type": "code",
   "execution_count": 53,
   "id": "9f5c432e",
   "metadata": {
    "execution": {
     "iopub.execute_input": "2022-06-19T23:01:59.036818Z",
     "iopub.status.busy": "2022-06-19T23:01:59.036559Z",
     "iopub.status.idle": "2022-06-19T23:02:04.907388Z",
     "shell.execute_reply": "2022-06-19T23:02:04.906694Z"
    },
    "papermill": {
     "duration": 5.947307,
     "end_time": "2022-06-19T23:02:04.909099",
     "exception": false,
     "start_time": "2022-06-19T23:01:58.961792",
     "status": "completed"
    },
    "tags": []
   },
   "outputs": [
    {
     "data": {
      "text/html": [
       "\n",
       "    <div>\n",
       "      \n",
       "      <progress value='77' max='76' style='width:300px; height:20px; vertical-align: middle;'></progress>\n",
       "      [76/76 00:05]\n",
       "    </div>\n",
       "    "
      ],
      "text/plain": [
       "<IPython.core.display.HTML object>"
      ]
     },
     "metadata": {},
     "output_type": "display_data"
    },
    {
     "data": {
      "text/plain": [
       "{'eval_loss': 0.05411790311336517,\n",
       " 'eval_pearson': 0.5099169140365447,\n",
       " 'eval_runtime': 5.8611,\n",
       " 'eval_samples_per_second': 1641.162,\n",
       " 'eval_steps_per_second': 12.967,\n",
       " 'epoch': 4.0}"
      ]
     },
     "execution_count": 53,
     "metadata": {},
     "output_type": "execute_result"
    }
   ],
   "source": [
    "eval_deberta = trainer.evaluate()\n",
    "eval_deberta"
   ]
  },
  {
   "cell_type": "code",
   "execution_count": 54,
   "id": "81a6df01",
   "metadata": {
    "execution": {
     "iopub.execute_input": "2022-06-19T23:02:05.058539Z",
     "iopub.status.busy": "2022-06-19T23:02:05.057905Z",
     "iopub.status.idle": "2022-06-19T23:02:05.097805Z",
     "shell.execute_reply": "2022-06-19T23:02:05.096988Z"
    },
    "papermill": {
     "duration": 0.115997,
     "end_time": "2022-06-19T23:02:05.099537",
     "exception": false,
     "start_time": "2022-06-19T23:02:04.983540",
     "status": "completed"
    },
    "tags": []
   },
   "outputs": [
    {
     "data": {
      "text/plain": [
       "array([[ 0.57000232],\n",
       "       [ 0.85399365],\n",
       "       [ 0.45876259],\n",
       "       [ 0.51099473],\n",
       "       [ 0.25653118],\n",
       "       [ 0.85706437],\n",
       "       [ 0.53507996],\n",
       "       [ 0.68000853],\n",
       "       [ 0.82697839],\n",
       "       [ 0.22013141],\n",
       "       [ 0.2018782 ],\n",
       "       [ 0.56448948],\n",
       "       [-0.03417482],\n",
       "       [ 0.3956126 ],\n",
       "       [ 0.74591631],\n",
       "       [ 0.10934766],\n",
       "       [ 0.2062933 ],\n",
       "       [ 0.40061393],\n",
       "       [ 0.83144337],\n",
       "       [ 0.10363346],\n",
       "       [ 0.25311753],\n",
       "       [ 0.36448646],\n",
       "       [ 0.04307786],\n",
       "       [ 0.11700297],\n",
       "       [-0.01482245],\n",
       "       [ 0.16204326],\n",
       "       [ 0.22901458],\n",
       "       [ 0.51212764],\n",
       "       [ 0.18300085],\n",
       "       [ 0.45615575],\n",
       "       [ 0.3860414 ],\n",
       "       [ 0.24604718],\n",
       "       [ 0.12833749],\n",
       "       [ 0.1686345 ],\n",
       "       [ 0.0669279 ],\n",
       "       [ 0.14917493]])"
      ]
     },
     "execution_count": 54,
     "metadata": {},
     "output_type": "execute_result"
    }
   ],
   "source": [
    "preds_deberta = trainer.predict(test_tok_ds).predictions.astype(float)\n",
    "preds_deberta"
   ]
  },
  {
   "cell_type": "code",
   "execution_count": 55,
   "id": "2e775d0b",
   "metadata": {
    "execution": {
     "iopub.execute_input": "2022-06-19T23:02:05.252756Z",
     "iopub.status.busy": "2022-06-19T23:02:05.252043Z",
     "iopub.status.idle": "2022-06-19T23:02:05.255819Z",
     "shell.execute_reply": "2022-06-19T23:02:05.255142Z"
    },
    "papermill": {
     "duration": 0.0814,
     "end_time": "2022-06-19T23:02:05.257496",
     "exception": false,
     "start_time": "2022-06-19T23:02:05.176096",
     "status": "completed"
    },
    "tags": []
   },
   "outputs": [],
   "source": [
    "del model_name, tokenizer, model"
   ]
  },
  {
   "cell_type": "markdown",
   "id": "b271f90f",
   "metadata": {
    "papermill": {
     "duration": 0.074623,
     "end_time": "2022-06-19T23:02:05.407275",
     "exception": false,
     "start_time": "2022-06-19T23:02:05.332652",
     "status": "completed"
    },
    "tags": []
   },
   "source": [
    "# Ensemble"
   ]
  },
  {
   "cell_type": "markdown",
   "id": "93a27ae0",
   "metadata": {
    "papermill": {
     "duration": 0.076136,
     "end_time": "2022-06-19T23:02:05.557741",
     "exception": false,
     "start_time": "2022-06-19T23:02:05.481605",
     "status": "completed"
    },
    "tags": []
   },
   "source": [
    "ensemble methode inspired by Valentin Werner's \"In Depth EDA & 3 Model Ensemble\" notebook "
   ]
  },
  {
   "cell_type": "code",
   "execution_count": 56,
   "id": "7ef976ac",
   "metadata": {
    "execution": {
     "iopub.execute_input": "2022-06-19T23:02:05.709973Z",
     "iopub.status.busy": "2022-06-19T23:02:05.709728Z",
     "iopub.status.idle": "2022-06-19T23:02:05.713521Z",
     "shell.execute_reply": "2022-06-19T23:02:05.712853Z"
    },
    "papermill": {
     "duration": 0.081814,
     "end_time": "2022-06-19T23:02:05.715209",
     "exception": false,
     "start_time": "2022-06-19T23:02:05.633395",
     "status": "completed"
    },
    "tags": []
   },
   "outputs": [],
   "source": [
    "test_preds = 0.5 * preds_sberta + (0.5) * preds_deberta"
   ]
  },
  {
   "cell_type": "code",
   "execution_count": 57,
   "id": "ead18725",
   "metadata": {
    "execution": {
     "iopub.execute_input": "2022-06-19T23:02:05.867098Z",
     "iopub.status.busy": "2022-06-19T23:02:05.866280Z",
     "iopub.status.idle": "2022-06-19T23:02:05.872620Z",
     "shell.execute_reply": "2022-06-19T23:02:05.871898Z"
    },
    "papermill": {
     "duration": 0.084086,
     "end_time": "2022-06-19T23:02:05.874415",
     "exception": false,
     "start_time": "2022-06-19T23:02:05.790329",
     "status": "completed"
    },
    "tags": []
   },
   "outputs": [
    {
     "data": {
      "text/plain": [
       "array([[ 0.52874808],\n",
       "       [ 0.90144733],\n",
       "       [ 0.37285346],\n",
       "       [ 0.50688794],\n",
       "       [ 0.28472653],\n",
       "       [ 0.79527724],\n",
       "       [ 0.50663823],\n",
       "       [ 0.7353766 ],\n",
       "       [ 0.94150802],\n",
       "       [ 0.23183531],\n",
       "       [ 0.22354839],\n",
       "       [ 0.55777851],\n",
       "       [-0.02519556],\n",
       "       [ 0.4665941 ],\n",
       "       [ 0.68952352],\n",
       "       [ 0.05198152],\n",
       "       [ 0.1904209 ],\n",
       "       [ 0.59537305],\n",
       "       [ 0.81374371],\n",
       "       [ 0.04985957],\n",
       "       [ 0.26499593],\n",
       "       [ 0.31871909],\n",
       "       [ 0.28475811],\n",
       "       [ 0.23940084],\n",
       "       [-0.00128685],\n",
       "       [ 0.23290635],\n",
       "       [ 0.26370077],\n",
       "       [ 0.52353865],\n",
       "       [ 0.15311484],\n",
       "       [ 0.47308277],\n",
       "       [ 0.43723999],\n",
       "       [ 0.19471932],\n",
       "       [ 0.05805746],\n",
       "       [ 0.1564638 ],\n",
       "       [ 0.0301706 ],\n",
       "       [ 0.07096698]])"
      ]
     },
     "execution_count": 57,
     "metadata": {},
     "output_type": "execute_result"
    }
   ],
   "source": [
    "test_preds"
   ]
  },
  {
   "cell_type": "code",
   "execution_count": 58,
   "id": "0b23c203",
   "metadata": {
    "execution": {
     "iopub.execute_input": "2022-06-19T23:02:06.031330Z",
     "iopub.status.busy": "2022-06-19T23:02:06.029843Z",
     "iopub.status.idle": "2022-06-19T23:02:06.034671Z",
     "shell.execute_reply": "2022-06-19T23:02:06.034029Z"
    },
    "papermill": {
     "duration": 0.083068,
     "end_time": "2022-06-19T23:02:06.036448",
     "exception": false,
     "start_time": "2022-06-19T23:02:05.953380",
     "status": "completed"
    },
    "tags": []
   },
   "outputs": [],
   "source": [
    "df_submission = pd.DataFrame()"
   ]
  },
  {
   "cell_type": "code",
   "execution_count": 59,
   "id": "01b41d91",
   "metadata": {
    "execution": {
     "iopub.execute_input": "2022-06-19T23:02:06.188471Z",
     "iopub.status.busy": "2022-06-19T23:02:06.188209Z",
     "iopub.status.idle": "2022-06-19T23:02:06.193286Z",
     "shell.execute_reply": "2022-06-19T23:02:06.192602Z"
    },
    "papermill": {
     "duration": 0.082774,
     "end_time": "2022-06-19T23:02:06.194920",
     "exception": false,
     "start_time": "2022-06-19T23:02:06.112146",
     "status": "completed"
    },
    "tags": []
   },
   "outputs": [],
   "source": [
    "df_submission['id'] = test['id'].copy()"
   ]
  },
  {
   "cell_type": "code",
   "execution_count": 60,
   "id": "7626168f",
   "metadata": {
    "execution": {
     "iopub.execute_input": "2022-06-19T23:02:06.347227Z",
     "iopub.status.busy": "2022-06-19T23:02:06.346772Z",
     "iopub.status.idle": "2022-06-19T23:02:06.355678Z",
     "shell.execute_reply": "2022-06-19T23:02:06.355035Z"
    },
    "papermill": {
     "duration": 0.087932,
     "end_time": "2022-06-19T23:02:06.357724",
     "exception": false,
     "start_time": "2022-06-19T23:02:06.269792",
     "status": "completed"
    },
    "tags": []
   },
   "outputs": [
    {
     "data": {
      "text/html": [
       "<div>\n",
       "<style scoped>\n",
       "    .dataframe tbody tr th:only-of-type {\n",
       "        vertical-align: middle;\n",
       "    }\n",
       "\n",
       "    .dataframe tbody tr th {\n",
       "        vertical-align: top;\n",
       "    }\n",
       "\n",
       "    .dataframe thead th {\n",
       "        text-align: right;\n",
       "    }\n",
       "</style>\n",
       "<table border=\"1\" class=\"dataframe\">\n",
       "  <thead>\n",
       "    <tr style=\"text-align: right;\">\n",
       "      <th></th>\n",
       "      <th>id</th>\n",
       "    </tr>\n",
       "  </thead>\n",
       "  <tbody>\n",
       "    <tr>\n",
       "      <th>0</th>\n",
       "      <td>4112d61851461f60</td>\n",
       "    </tr>\n",
       "    <tr>\n",
       "      <th>1</th>\n",
       "      <td>5203a36c501f1b7c</td>\n",
       "    </tr>\n",
       "    <tr>\n",
       "      <th>2</th>\n",
       "      <td>7aa5908a77a7ec24</td>\n",
       "    </tr>\n",
       "    <tr>\n",
       "      <th>3</th>\n",
       "      <td>442c114ed5c4e3c9</td>\n",
       "    </tr>\n",
       "    <tr>\n",
       "      <th>4</th>\n",
       "      <td>12ca31f018a2e2b9</td>\n",
       "    </tr>\n",
       "    <tr>\n",
       "      <th>5</th>\n",
       "      <td>9f2279ce667b21dc</td>\n",
       "    </tr>\n",
       "    <tr>\n",
       "      <th>6</th>\n",
       "      <td>b9ea2b06a878df6f</td>\n",
       "    </tr>\n",
       "    <tr>\n",
       "      <th>7</th>\n",
       "      <td>09e418c93a776564</td>\n",
       "    </tr>\n",
       "    <tr>\n",
       "      <th>8</th>\n",
       "      <td>ae0262c02566d2ce</td>\n",
       "    </tr>\n",
       "    <tr>\n",
       "      <th>9</th>\n",
       "      <td>03ba802ed4029e4d</td>\n",
       "    </tr>\n",
       "    <tr>\n",
       "      <th>10</th>\n",
       "      <td>25522ee5411e63e9</td>\n",
       "    </tr>\n",
       "    <tr>\n",
       "      <th>11</th>\n",
       "      <td>c404f8b378cbb008</td>\n",
       "    </tr>\n",
       "    <tr>\n",
       "      <th>12</th>\n",
       "      <td>26c3c6dc6174b589</td>\n",
       "    </tr>\n",
       "    <tr>\n",
       "      <th>13</th>\n",
       "      <td>36baf228038e314b</td>\n",
       "    </tr>\n",
       "    <tr>\n",
       "      <th>14</th>\n",
       "      <td>b892011ab2e2cabc</td>\n",
       "    </tr>\n",
       "    <tr>\n",
       "      <th>15</th>\n",
       "      <td>b8ae62ea5e1d8bdb</td>\n",
       "    </tr>\n",
       "    <tr>\n",
       "      <th>16</th>\n",
       "      <td>a8808e31641e856d</td>\n",
       "    </tr>\n",
       "    <tr>\n",
       "      <th>17</th>\n",
       "      <td>25c555ca3d5a2092</td>\n",
       "    </tr>\n",
       "    <tr>\n",
       "      <th>18</th>\n",
       "      <td>b9fdc772bb8fd61c</td>\n",
       "    </tr>\n",
       "    <tr>\n",
       "      <th>19</th>\n",
       "      <td>de51114bc0faec3e</td>\n",
       "    </tr>\n",
       "    <tr>\n",
       "      <th>20</th>\n",
       "      <td>8247ff562ca185cc</td>\n",
       "    </tr>\n",
       "    <tr>\n",
       "      <th>21</th>\n",
       "      <td>1f37ead645e7f0c8</td>\n",
       "    </tr>\n",
       "    <tr>\n",
       "      <th>22</th>\n",
       "      <td>71a5b6ad068d531f</td>\n",
       "    </tr>\n",
       "    <tr>\n",
       "      <th>23</th>\n",
       "      <td>16ae4b99d3601e60</td>\n",
       "    </tr>\n",
       "    <tr>\n",
       "      <th>24</th>\n",
       "      <td>fd83613b7843f5e1</td>\n",
       "    </tr>\n",
       "    <tr>\n",
       "      <th>25</th>\n",
       "      <td>733979d75f59770d</td>\n",
       "    </tr>\n",
       "    <tr>\n",
       "      <th>26</th>\n",
       "      <td>79795133c30ef097</td>\n",
       "    </tr>\n",
       "    <tr>\n",
       "      <th>27</th>\n",
       "      <td>474c874d0c07bd21</td>\n",
       "    </tr>\n",
       "    <tr>\n",
       "      <th>28</th>\n",
       "      <td>faaddaf8fcba8a3f</td>\n",
       "    </tr>\n",
       "    <tr>\n",
       "      <th>29</th>\n",
       "      <td>2a619016908bfa45</td>\n",
       "    </tr>\n",
       "    <tr>\n",
       "      <th>30</th>\n",
       "      <td>6546846df17f9800</td>\n",
       "    </tr>\n",
       "    <tr>\n",
       "      <th>31</th>\n",
       "      <td>d19ef3979396d47e</td>\n",
       "    </tr>\n",
       "    <tr>\n",
       "      <th>32</th>\n",
       "      <td>7e3aff857f056bf9</td>\n",
       "    </tr>\n",
       "    <tr>\n",
       "      <th>33</th>\n",
       "      <td>3ff0e7a35015be69</td>\n",
       "    </tr>\n",
       "    <tr>\n",
       "      <th>34</th>\n",
       "      <td>78243984c02a72e4</td>\n",
       "    </tr>\n",
       "    <tr>\n",
       "      <th>35</th>\n",
       "      <td>c057aecbba832387</td>\n",
       "    </tr>\n",
       "  </tbody>\n",
       "</table>\n",
       "</div>"
      ],
      "text/plain": [
       "                  id\n",
       "0   4112d61851461f60\n",
       "1   5203a36c501f1b7c\n",
       "2   7aa5908a77a7ec24\n",
       "3   442c114ed5c4e3c9\n",
       "4   12ca31f018a2e2b9\n",
       "5   9f2279ce667b21dc\n",
       "6   b9ea2b06a878df6f\n",
       "7   09e418c93a776564\n",
       "8   ae0262c02566d2ce\n",
       "9   03ba802ed4029e4d\n",
       "10  25522ee5411e63e9\n",
       "11  c404f8b378cbb008\n",
       "12  26c3c6dc6174b589\n",
       "13  36baf228038e314b\n",
       "14  b892011ab2e2cabc\n",
       "15  b8ae62ea5e1d8bdb\n",
       "16  a8808e31641e856d\n",
       "17  25c555ca3d5a2092\n",
       "18  b9fdc772bb8fd61c\n",
       "19  de51114bc0faec3e\n",
       "20  8247ff562ca185cc\n",
       "21  1f37ead645e7f0c8\n",
       "22  71a5b6ad068d531f\n",
       "23  16ae4b99d3601e60\n",
       "24  fd83613b7843f5e1\n",
       "25  733979d75f59770d\n",
       "26  79795133c30ef097\n",
       "27  474c874d0c07bd21\n",
       "28  faaddaf8fcba8a3f\n",
       "29  2a619016908bfa45\n",
       "30  6546846df17f9800\n",
       "31  d19ef3979396d47e\n",
       "32  7e3aff857f056bf9\n",
       "33  3ff0e7a35015be69\n",
       "34  78243984c02a72e4\n",
       "35  c057aecbba832387"
      ]
     },
     "execution_count": 60,
     "metadata": {},
     "output_type": "execute_result"
    }
   ],
   "source": [
    "df_submission"
   ]
  },
  {
   "cell_type": "code",
   "execution_count": 61,
   "id": "dd44f238",
   "metadata": {
    "execution": {
     "iopub.execute_input": "2022-06-19T23:02:06.514530Z",
     "iopub.status.busy": "2022-06-19T23:02:06.513603Z",
     "iopub.status.idle": "2022-06-19T23:02:06.517867Z",
     "shell.execute_reply": "2022-06-19T23:02:06.517244Z"
    },
    "papermill": {
     "duration": 0.086934,
     "end_time": "2022-06-19T23:02:06.519543",
     "exception": false,
     "start_time": "2022-06-19T23:02:06.432609",
     "status": "completed"
    },
    "tags": []
   },
   "outputs": [],
   "source": [
    "preds_list = test_preds.tolist()"
   ]
  },
  {
   "cell_type": "code",
   "execution_count": 62,
   "id": "120eea98",
   "metadata": {
    "execution": {
     "iopub.execute_input": "2022-06-19T23:02:06.672382Z",
     "iopub.status.busy": "2022-06-19T23:02:06.672151Z",
     "iopub.status.idle": "2022-06-19T23:02:06.677896Z",
     "shell.execute_reply": "2022-06-19T23:02:06.677244Z"
    },
    "papermill": {
     "duration": 0.08462,
     "end_time": "2022-06-19T23:02:06.679557",
     "exception": false,
     "start_time": "2022-06-19T23:02:06.594937",
     "status": "completed"
    },
    "tags": []
   },
   "outputs": [
    {
     "data": {
      "text/plain": [
       "[[0.5287480801343918],\n",
       " [0.9014473259449005],\n",
       " [0.37285345792770386],\n",
       " [0.5068879425525665],\n",
       " [0.2847265303134918],\n",
       " [0.7952772378921509],\n",
       " [0.50663822889328],\n",
       " [0.7353765964508057],\n",
       " [0.941508024930954],\n",
       " [0.23183530569076538],\n",
       " [0.22354838997125626],\n",
       " [0.5577785074710846],\n",
       " [-0.025195562280714512],\n",
       " [0.4665940999984741],\n",
       " [0.6895235180854797],\n",
       " [0.051981516648083925],\n",
       " [0.19042090326547623],\n",
       " [0.5953730493783951],\n",
       " [0.8137437105178833],\n",
       " [0.049859568011015654],\n",
       " [0.2649959325790405],\n",
       " [0.3187190890312195],\n",
       " [0.28475810773670673],\n",
       " [0.23940083757042885],\n",
       " [-0.0012868549674749374],\n",
       " [0.23290634900331497],\n",
       " [0.26370076835155487],\n",
       " [0.5235386490821838],\n",
       " [0.15311483666300774],\n",
       " [0.4730827659368515],\n",
       " [0.43723998963832855],\n",
       " [0.1947193220257759],\n",
       " [0.05805745767429471],\n",
       " [0.15646380186080933],\n",
       " [0.03017060039564967],\n",
       " [0.07096697529777884]]"
      ]
     },
     "execution_count": 62,
     "metadata": {},
     "output_type": "execute_result"
    }
   ],
   "source": [
    "preds_list"
   ]
  },
  {
   "cell_type": "code",
   "execution_count": 63,
   "id": "7e8cc8b2",
   "metadata": {
    "execution": {
     "iopub.execute_input": "2022-06-19T23:02:06.831710Z",
     "iopub.status.busy": "2022-06-19T23:02:06.831043Z",
     "iopub.status.idle": "2022-06-19T23:02:06.837432Z",
     "shell.execute_reply": "2022-06-19T23:02:06.836685Z"
    },
    "papermill": {
     "duration": 0.08446,
     "end_time": "2022-06-19T23:02:06.839159",
     "exception": false,
     "start_time": "2022-06-19T23:02:06.754699",
     "status": "completed"
    },
    "tags": []
   },
   "outputs": [
    {
     "data": {
      "text/plain": [
       "[0.5287480801343918,\n",
       " 0.9014473259449005,\n",
       " 0.37285345792770386,\n",
       " 0.5068879425525665,\n",
       " 0.2847265303134918,\n",
       " 0.7952772378921509,\n",
       " 0.50663822889328,\n",
       " 0.7353765964508057,\n",
       " 0.941508024930954,\n",
       " 0.23183530569076538,\n",
       " 0.22354838997125626,\n",
       " 0.5577785074710846,\n",
       " -0.025195562280714512,\n",
       " 0.4665940999984741,\n",
       " 0.6895235180854797,\n",
       " 0.051981516648083925,\n",
       " 0.19042090326547623,\n",
       " 0.5953730493783951,\n",
       " 0.8137437105178833,\n",
       " 0.049859568011015654,\n",
       " 0.2649959325790405,\n",
       " 0.3187190890312195,\n",
       " 0.28475810773670673,\n",
       " 0.23940083757042885,\n",
       " -0.0012868549674749374,\n",
       " 0.23290634900331497,\n",
       " 0.26370076835155487,\n",
       " 0.5235386490821838,\n",
       " 0.15311483666300774,\n",
       " 0.4730827659368515,\n",
       " 0.43723998963832855,\n",
       " 0.1947193220257759,\n",
       " 0.05805745767429471,\n",
       " 0.15646380186080933,\n",
       " 0.03017060039564967,\n",
       " 0.07096697529777884]"
      ]
     },
     "execution_count": 63,
     "metadata": {},
     "output_type": "execute_result"
    }
   ],
   "source": [
    "flat_list = [x for xs in preds_list for x in xs]\n",
    "flat_list"
   ]
  },
  {
   "cell_type": "code",
   "execution_count": 64,
   "id": "fb9e5fd4",
   "metadata": {
    "execution": {
     "iopub.execute_input": "2022-06-19T23:02:06.993540Z",
     "iopub.status.busy": "2022-06-19T23:02:06.992819Z",
     "iopub.status.idle": "2022-06-19T23:02:06.997262Z",
     "shell.execute_reply": "2022-06-19T23:02:06.996527Z"
    },
    "papermill": {
     "duration": 0.083319,
     "end_time": "2022-06-19T23:02:06.998925",
     "exception": false,
     "start_time": "2022-06-19T23:02:06.915606",
     "status": "completed"
    },
    "tags": []
   },
   "outputs": [],
   "source": [
    "df_submission['score' ] = flat_list"
   ]
  },
  {
   "cell_type": "code",
   "execution_count": 65,
   "id": "03a285f9",
   "metadata": {
    "execution": {
     "iopub.execute_input": "2022-06-19T23:02:07.152462Z",
     "iopub.status.busy": "2022-06-19T23:02:07.151781Z",
     "iopub.status.idle": "2022-06-19T23:02:07.162414Z",
     "shell.execute_reply": "2022-06-19T23:02:07.161738Z"
    },
    "papermill": {
     "duration": 0.088417,
     "end_time": "2022-06-19T23:02:07.164378",
     "exception": false,
     "start_time": "2022-06-19T23:02:07.075961",
     "status": "completed"
    },
    "tags": []
   },
   "outputs": [
    {
     "data": {
      "text/html": [
       "<div>\n",
       "<style scoped>\n",
       "    .dataframe tbody tr th:only-of-type {\n",
       "        vertical-align: middle;\n",
       "    }\n",
       "\n",
       "    .dataframe tbody tr th {\n",
       "        vertical-align: top;\n",
       "    }\n",
       "\n",
       "    .dataframe thead th {\n",
       "        text-align: right;\n",
       "    }\n",
       "</style>\n",
       "<table border=\"1\" class=\"dataframe\">\n",
       "  <thead>\n",
       "    <tr style=\"text-align: right;\">\n",
       "      <th></th>\n",
       "      <th>id</th>\n",
       "      <th>score</th>\n",
       "    </tr>\n",
       "  </thead>\n",
       "  <tbody>\n",
       "    <tr>\n",
       "      <th>0</th>\n",
       "      <td>4112d61851461f60</td>\n",
       "      <td>0.528748</td>\n",
       "    </tr>\n",
       "    <tr>\n",
       "      <th>1</th>\n",
       "      <td>5203a36c501f1b7c</td>\n",
       "      <td>0.901447</td>\n",
       "    </tr>\n",
       "    <tr>\n",
       "      <th>2</th>\n",
       "      <td>7aa5908a77a7ec24</td>\n",
       "      <td>0.372853</td>\n",
       "    </tr>\n",
       "    <tr>\n",
       "      <th>3</th>\n",
       "      <td>442c114ed5c4e3c9</td>\n",
       "      <td>0.506888</td>\n",
       "    </tr>\n",
       "    <tr>\n",
       "      <th>4</th>\n",
       "      <td>12ca31f018a2e2b9</td>\n",
       "      <td>0.284727</td>\n",
       "    </tr>\n",
       "    <tr>\n",
       "      <th>5</th>\n",
       "      <td>9f2279ce667b21dc</td>\n",
       "      <td>0.795277</td>\n",
       "    </tr>\n",
       "    <tr>\n",
       "      <th>6</th>\n",
       "      <td>b9ea2b06a878df6f</td>\n",
       "      <td>0.506638</td>\n",
       "    </tr>\n",
       "    <tr>\n",
       "      <th>7</th>\n",
       "      <td>09e418c93a776564</td>\n",
       "      <td>0.735377</td>\n",
       "    </tr>\n",
       "    <tr>\n",
       "      <th>8</th>\n",
       "      <td>ae0262c02566d2ce</td>\n",
       "      <td>0.941508</td>\n",
       "    </tr>\n",
       "    <tr>\n",
       "      <th>9</th>\n",
       "      <td>03ba802ed4029e4d</td>\n",
       "      <td>0.231835</td>\n",
       "    </tr>\n",
       "    <tr>\n",
       "      <th>10</th>\n",
       "      <td>25522ee5411e63e9</td>\n",
       "      <td>0.223548</td>\n",
       "    </tr>\n",
       "    <tr>\n",
       "      <th>11</th>\n",
       "      <td>c404f8b378cbb008</td>\n",
       "      <td>0.557779</td>\n",
       "    </tr>\n",
       "    <tr>\n",
       "      <th>12</th>\n",
       "      <td>26c3c6dc6174b589</td>\n",
       "      <td>-0.025196</td>\n",
       "    </tr>\n",
       "    <tr>\n",
       "      <th>13</th>\n",
       "      <td>36baf228038e314b</td>\n",
       "      <td>0.466594</td>\n",
       "    </tr>\n",
       "    <tr>\n",
       "      <th>14</th>\n",
       "      <td>b892011ab2e2cabc</td>\n",
       "      <td>0.689524</td>\n",
       "    </tr>\n",
       "    <tr>\n",
       "      <th>15</th>\n",
       "      <td>b8ae62ea5e1d8bdb</td>\n",
       "      <td>0.051982</td>\n",
       "    </tr>\n",
       "    <tr>\n",
       "      <th>16</th>\n",
       "      <td>a8808e31641e856d</td>\n",
       "      <td>0.190421</td>\n",
       "    </tr>\n",
       "    <tr>\n",
       "      <th>17</th>\n",
       "      <td>25c555ca3d5a2092</td>\n",
       "      <td>0.595373</td>\n",
       "    </tr>\n",
       "    <tr>\n",
       "      <th>18</th>\n",
       "      <td>b9fdc772bb8fd61c</td>\n",
       "      <td>0.813744</td>\n",
       "    </tr>\n",
       "    <tr>\n",
       "      <th>19</th>\n",
       "      <td>de51114bc0faec3e</td>\n",
       "      <td>0.049860</td>\n",
       "    </tr>\n",
       "    <tr>\n",
       "      <th>20</th>\n",
       "      <td>8247ff562ca185cc</td>\n",
       "      <td>0.264996</td>\n",
       "    </tr>\n",
       "    <tr>\n",
       "      <th>21</th>\n",
       "      <td>1f37ead645e7f0c8</td>\n",
       "      <td>0.318719</td>\n",
       "    </tr>\n",
       "    <tr>\n",
       "      <th>22</th>\n",
       "      <td>71a5b6ad068d531f</td>\n",
       "      <td>0.284758</td>\n",
       "    </tr>\n",
       "    <tr>\n",
       "      <th>23</th>\n",
       "      <td>16ae4b99d3601e60</td>\n",
       "      <td>0.239401</td>\n",
       "    </tr>\n",
       "    <tr>\n",
       "      <th>24</th>\n",
       "      <td>fd83613b7843f5e1</td>\n",
       "      <td>-0.001287</td>\n",
       "    </tr>\n",
       "    <tr>\n",
       "      <th>25</th>\n",
       "      <td>733979d75f59770d</td>\n",
       "      <td>0.232906</td>\n",
       "    </tr>\n",
       "    <tr>\n",
       "      <th>26</th>\n",
       "      <td>79795133c30ef097</td>\n",
       "      <td>0.263701</td>\n",
       "    </tr>\n",
       "    <tr>\n",
       "      <th>27</th>\n",
       "      <td>474c874d0c07bd21</td>\n",
       "      <td>0.523539</td>\n",
       "    </tr>\n",
       "    <tr>\n",
       "      <th>28</th>\n",
       "      <td>faaddaf8fcba8a3f</td>\n",
       "      <td>0.153115</td>\n",
       "    </tr>\n",
       "    <tr>\n",
       "      <th>29</th>\n",
       "      <td>2a619016908bfa45</td>\n",
       "      <td>0.473083</td>\n",
       "    </tr>\n",
       "    <tr>\n",
       "      <th>30</th>\n",
       "      <td>6546846df17f9800</td>\n",
       "      <td>0.437240</td>\n",
       "    </tr>\n",
       "    <tr>\n",
       "      <th>31</th>\n",
       "      <td>d19ef3979396d47e</td>\n",
       "      <td>0.194719</td>\n",
       "    </tr>\n",
       "    <tr>\n",
       "      <th>32</th>\n",
       "      <td>7e3aff857f056bf9</td>\n",
       "      <td>0.058057</td>\n",
       "    </tr>\n",
       "    <tr>\n",
       "      <th>33</th>\n",
       "      <td>3ff0e7a35015be69</td>\n",
       "      <td>0.156464</td>\n",
       "    </tr>\n",
       "    <tr>\n",
       "      <th>34</th>\n",
       "      <td>78243984c02a72e4</td>\n",
       "      <td>0.030171</td>\n",
       "    </tr>\n",
       "    <tr>\n",
       "      <th>35</th>\n",
       "      <td>c057aecbba832387</td>\n",
       "      <td>0.070967</td>\n",
       "    </tr>\n",
       "  </tbody>\n",
       "</table>\n",
       "</div>"
      ],
      "text/plain": [
       "                  id     score\n",
       "0   4112d61851461f60  0.528748\n",
       "1   5203a36c501f1b7c  0.901447\n",
       "2   7aa5908a77a7ec24  0.372853\n",
       "3   442c114ed5c4e3c9  0.506888\n",
       "4   12ca31f018a2e2b9  0.284727\n",
       "5   9f2279ce667b21dc  0.795277\n",
       "6   b9ea2b06a878df6f  0.506638\n",
       "7   09e418c93a776564  0.735377\n",
       "8   ae0262c02566d2ce  0.941508\n",
       "9   03ba802ed4029e4d  0.231835\n",
       "10  25522ee5411e63e9  0.223548\n",
       "11  c404f8b378cbb008  0.557779\n",
       "12  26c3c6dc6174b589 -0.025196\n",
       "13  36baf228038e314b  0.466594\n",
       "14  b892011ab2e2cabc  0.689524\n",
       "15  b8ae62ea5e1d8bdb  0.051982\n",
       "16  a8808e31641e856d  0.190421\n",
       "17  25c555ca3d5a2092  0.595373\n",
       "18  b9fdc772bb8fd61c  0.813744\n",
       "19  de51114bc0faec3e  0.049860\n",
       "20  8247ff562ca185cc  0.264996\n",
       "21  1f37ead645e7f0c8  0.318719\n",
       "22  71a5b6ad068d531f  0.284758\n",
       "23  16ae4b99d3601e60  0.239401\n",
       "24  fd83613b7843f5e1 -0.001287\n",
       "25  733979d75f59770d  0.232906\n",
       "26  79795133c30ef097  0.263701\n",
       "27  474c874d0c07bd21  0.523539\n",
       "28  faaddaf8fcba8a3f  0.153115\n",
       "29  2a619016908bfa45  0.473083\n",
       "30  6546846df17f9800  0.437240\n",
       "31  d19ef3979396d47e  0.194719\n",
       "32  7e3aff857f056bf9  0.058057\n",
       "33  3ff0e7a35015be69  0.156464\n",
       "34  78243984c02a72e4  0.030171\n",
       "35  c057aecbba832387  0.070967"
      ]
     },
     "execution_count": 65,
     "metadata": {},
     "output_type": "execute_result"
    }
   ],
   "source": [
    "df_submission"
   ]
  },
  {
   "cell_type": "code",
   "execution_count": 66,
   "id": "9fe65bb4",
   "metadata": {
    "execution": {
     "iopub.execute_input": "2022-06-19T23:02:07.321999Z",
     "iopub.status.busy": "2022-06-19T23:02:07.321388Z",
     "iopub.status.idle": "2022-06-19T23:02:07.330578Z",
     "shell.execute_reply": "2022-06-19T23:02:07.329092Z"
    },
    "papermill": {
     "duration": 0.089495,
     "end_time": "2022-06-19T23:02:07.333489",
     "exception": false,
     "start_time": "2022-06-19T23:02:07.243994",
     "status": "completed"
    },
    "tags": []
   },
   "outputs": [],
   "source": [
    "#submission = datasets.Dataset.from_dict({\n",
    "  #  'id': test_ds['id'],\n",
    " #   'score': preds\n",
    "#})\n",
    "\n",
    "df_submission.to_csv('submission.csv', index=False)"
   ]
  },
  {
   "cell_type": "code",
   "execution_count": null,
   "id": "5934916e",
   "metadata": {
    "papermill": {
     "duration": 0.076951,
     "end_time": "2022-06-19T23:02:07.520292",
     "exception": false,
     "start_time": "2022-06-19T23:02:07.443341",
     "status": "completed"
    },
    "tags": []
   },
   "outputs": [],
   "source": []
  }
 ],
 "metadata": {
  "kernelspec": {
   "display_name": "Python 3",
   "language": "python",
   "name": "python3"
  },
  "language_info": {
   "codemirror_mode": {
    "name": "ipython",
    "version": 3
   },
   "file_extension": ".py",
   "mimetype": "text/x-python",
   "name": "python",
   "nbconvert_exporter": "python",
   "pygments_lexer": "ipython3",
   "version": "3.7.12"
  },
  "papermill": {
   "default_parameters": {},
   "duration": 360.702875,
   "end_time": "2022-06-19T23:02:10.521807",
   "environment_variables": {},
   "exception": null,
   "input_path": "__notebook__.ipynb",
   "output_path": "__notebook__.ipynb",
   "parameters": {},
   "start_time": "2022-06-19T22:56:09.818932",
   "version": "2.3.4"
  },
  "widgets": {
   "application/vnd.jupyter.widget-state+json": {
    "state": {
     "0c965731ce674310a5ce93200fd19c1b": {
      "model_module": "@jupyter-widgets/base",
      "model_module_version": "1.2.0",
      "model_name": "LayoutModel",
      "state": {
       "_model_module": "@jupyter-widgets/base",
       "_model_module_version": "1.2.0",
       "_model_name": "LayoutModel",
       "_view_count": null,
       "_view_module": "@jupyter-widgets/base",
       "_view_module_version": "1.2.0",
       "_view_name": "LayoutView",
       "align_content": null,
       "align_items": null,
       "align_self": null,
       "border": null,
       "bottom": null,
       "display": null,
       "flex": null,
       "flex_flow": null,
       "grid_area": null,
       "grid_auto_columns": null,
       "grid_auto_flow": null,
       "grid_auto_rows": null,
       "grid_column": null,
       "grid_gap": null,
       "grid_row": null,
       "grid_template_areas": null,
       "grid_template_columns": null,
       "grid_template_rows": null,
       "height": null,
       "justify_content": null,
       "justify_items": null,
       "left": null,
       "margin": null,
       "max_height": null,
       "max_width": null,
       "min_height": null,
       "min_width": null,
       "object_fit": null,
       "object_position": null,
       "order": null,
       "overflow": null,
       "overflow_x": null,
       "overflow_y": null,
       "padding": null,
       "right": null,
       "top": null,
       "visibility": null,
       "width": null
      }
     },
     "13a7dbcde1c04c2a9f40ae7dcc9872c1": {
      "model_module": "@jupyter-widgets/base",
      "model_module_version": "1.2.0",
      "model_name": "LayoutModel",
      "state": {
       "_model_module": "@jupyter-widgets/base",
       "_model_module_version": "1.2.0",
       "_model_name": "LayoutModel",
       "_view_count": null,
       "_view_module": "@jupyter-widgets/base",
       "_view_module_version": "1.2.0",
       "_view_name": "LayoutView",
       "align_content": null,
       "align_items": null,
       "align_self": null,
       "border": null,
       "bottom": null,
       "display": null,
       "flex": null,
       "flex_flow": null,
       "grid_area": null,
       "grid_auto_columns": null,
       "grid_auto_flow": null,
       "grid_auto_rows": null,
       "grid_column": null,
       "grid_gap": null,
       "grid_row": null,
       "grid_template_areas": null,
       "grid_template_columns": null,
       "grid_template_rows": null,
       "height": null,
       "justify_content": null,
       "justify_items": null,
       "left": null,
       "margin": null,
       "max_height": null,
       "max_width": null,
       "min_height": null,
       "min_width": null,
       "object_fit": null,
       "object_position": null,
       "order": null,
       "overflow": null,
       "overflow_x": null,
       "overflow_y": null,
       "padding": null,
       "right": null,
       "top": null,
       "visibility": null,
       "width": null
      }
     },
     "31289354ca4e464fb17063ce0029ba24": {
      "model_module": "@jupyter-widgets/controls",
      "model_module_version": "1.5.0",
      "model_name": "ProgressStyleModel",
      "state": {
       "_model_module": "@jupyter-widgets/controls",
       "_model_module_version": "1.5.0",
       "_model_name": "ProgressStyleModel",
       "_view_count": null,
       "_view_module": "@jupyter-widgets/base",
       "_view_module_version": "1.2.0",
       "_view_name": "StyleView",
       "bar_color": null,
       "description_width": ""
      }
     },
     "381099eee14c4a6c9f1b3cd3a70c77a2": {
      "model_module": "@jupyter-widgets/base",
      "model_module_version": "1.2.0",
      "model_name": "LayoutModel",
      "state": {
       "_model_module": "@jupyter-widgets/base",
       "_model_module_version": "1.2.0",
       "_model_name": "LayoutModel",
       "_view_count": null,
       "_view_module": "@jupyter-widgets/base",
       "_view_module_version": "1.2.0",
       "_view_name": "LayoutView",
       "align_content": null,
       "align_items": null,
       "align_self": null,
       "border": null,
       "bottom": null,
       "display": null,
       "flex": null,
       "flex_flow": null,
       "grid_area": null,
       "grid_auto_columns": null,
       "grid_auto_flow": null,
       "grid_auto_rows": null,
       "grid_column": null,
       "grid_gap": null,
       "grid_row": null,
       "grid_template_areas": null,
       "grid_template_columns": null,
       "grid_template_rows": null,
       "height": null,
       "justify_content": null,
       "justify_items": null,
       "left": null,
       "margin": null,
       "max_height": null,
       "max_width": null,
       "min_height": null,
       "min_width": null,
       "object_fit": null,
       "object_position": null,
       "order": null,
       "overflow": null,
       "overflow_x": null,
       "overflow_y": null,
       "padding": null,
       "right": null,
       "top": null,
       "visibility": null,
       "width": null
      }
     },
     "3cb3af1c31cd49abaa541fcb4f29e4a0": {
      "model_module": "@jupyter-widgets/controls",
      "model_module_version": "1.5.0",
      "model_name": "HTMLModel",
      "state": {
       "_dom_classes": [],
       "_model_module": "@jupyter-widgets/controls",
       "_model_module_version": "1.5.0",
       "_model_name": "HTMLModel",
       "_view_count": null,
       "_view_module": "@jupyter-widgets/controls",
       "_view_module_version": "1.5.0",
       "_view_name": "HTMLView",
       "description": "",
       "description_tooltip": null,
       "layout": "IPY_MODEL_ae67e1f1d17f4187b57c8705c18ef1e6",
       "placeholder": "​",
       "style": "IPY_MODEL_e45d233c95734391bcb65aa7b5c51cf1",
       "value": " 1/1 [00:00&lt;00:00, 31.36ba/s]"
      }
     },
     "408f7dc1665b41a98b27d8d11ccb3758": {
      "model_module": "@jupyter-widgets/controls",
      "model_module_version": "1.5.0",
      "model_name": "HBoxModel",
      "state": {
       "_dom_classes": [],
       "_model_module": "@jupyter-widgets/controls",
       "_model_module_version": "1.5.0",
       "_model_name": "HBoxModel",
       "_view_count": null,
       "_view_module": "@jupyter-widgets/controls",
       "_view_module_version": "1.5.0",
       "_view_name": "HBoxView",
       "box_style": "",
       "children": [
        "IPY_MODEL_f20f3c3ae879436a9d7fcb4a4270e211",
        "IPY_MODEL_c5a06ce51c6c497897df671217d9acf5",
        "IPY_MODEL_3cb3af1c31cd49abaa541fcb4f29e4a0"
       ],
       "layout": "IPY_MODEL_381099eee14c4a6c9f1b3cd3a70c77a2"
      }
     },
     "41668b619af04e0ba681aadf3e1c0ebf": {
      "model_module": "@jupyter-widgets/controls",
      "model_module_version": "1.5.0",
      "model_name": "ProgressStyleModel",
      "state": {
       "_model_module": "@jupyter-widgets/controls",
       "_model_module_version": "1.5.0",
       "_model_name": "ProgressStyleModel",
       "_view_count": null,
       "_view_module": "@jupyter-widgets/base",
       "_view_module_version": "1.2.0",
       "_view_name": "StyleView",
       "bar_color": null,
       "description_width": ""
      }
     },
     "4d61d23dbac54f43aa2713ad1e543fa3": {
      "model_module": "@jupyter-widgets/base",
      "model_module_version": "1.2.0",
      "model_name": "LayoutModel",
      "state": {
       "_model_module": "@jupyter-widgets/base",
       "_model_module_version": "1.2.0",
       "_model_name": "LayoutModel",
       "_view_count": null,
       "_view_module": "@jupyter-widgets/base",
       "_view_module_version": "1.2.0",
       "_view_name": "LayoutView",
       "align_content": null,
       "align_items": null,
       "align_self": null,
       "border": null,
       "bottom": null,
       "display": null,
       "flex": null,
       "flex_flow": null,
       "grid_area": null,
       "grid_auto_columns": null,
       "grid_auto_flow": null,
       "grid_auto_rows": null,
       "grid_column": null,
       "grid_gap": null,
       "grid_row": null,
       "grid_template_areas": null,
       "grid_template_columns": null,
       "grid_template_rows": null,
       "height": null,
       "justify_content": null,
       "justify_items": null,
       "left": null,
       "margin": null,
       "max_height": null,
       "max_width": null,
       "min_height": null,
       "min_width": null,
       "object_fit": null,
       "object_position": null,
       "order": null,
       "overflow": null,
       "overflow_x": null,
       "overflow_y": null,
       "padding": null,
       "right": null,
       "top": null,
       "visibility": null,
       "width": null
      }
     },
     "64e45b5fa01e4b958d11dbf1f17b2e2e": {
      "model_module": "@jupyter-widgets/base",
      "model_module_version": "1.2.0",
      "model_name": "LayoutModel",
      "state": {
       "_model_module": "@jupyter-widgets/base",
       "_model_module_version": "1.2.0",
       "_model_name": "LayoutModel",
       "_view_count": null,
       "_view_module": "@jupyter-widgets/base",
       "_view_module_version": "1.2.0",
       "_view_name": "LayoutView",
       "align_content": null,
       "align_items": null,
       "align_self": null,
       "border": null,
       "bottom": null,
       "display": null,
       "flex": null,
       "flex_flow": null,
       "grid_area": null,
       "grid_auto_columns": null,
       "grid_auto_flow": null,
       "grid_auto_rows": null,
       "grid_column": null,
       "grid_gap": null,
       "grid_row": null,
       "grid_template_areas": null,
       "grid_template_columns": null,
       "grid_template_rows": null,
       "height": null,
       "justify_content": null,
       "justify_items": null,
       "left": null,
       "margin": null,
       "max_height": null,
       "max_width": null,
       "min_height": null,
       "min_width": null,
       "object_fit": null,
       "object_position": null,
       "order": null,
       "overflow": null,
       "overflow_x": null,
       "overflow_y": null,
       "padding": null,
       "right": null,
       "top": null,
       "visibility": null,
       "width": null
      }
     },
     "6d35eb299947427ea41032f7d817015d": {
      "model_module": "@jupyter-widgets/base",
      "model_module_version": "1.2.0",
      "model_name": "LayoutModel",
      "state": {
       "_model_module": "@jupyter-widgets/base",
       "_model_module_version": "1.2.0",
       "_model_name": "LayoutModel",
       "_view_count": null,
       "_view_module": "@jupyter-widgets/base",
       "_view_module_version": "1.2.0",
       "_view_name": "LayoutView",
       "align_content": null,
       "align_items": null,
       "align_self": null,
       "border": null,
       "bottom": null,
       "display": null,
       "flex": null,
       "flex_flow": null,
       "grid_area": null,
       "grid_auto_columns": null,
       "grid_auto_flow": null,
       "grid_auto_rows": null,
       "grid_column": null,
       "grid_gap": null,
       "grid_row": null,
       "grid_template_areas": null,
       "grid_template_columns": null,
       "grid_template_rows": null,
       "height": null,
       "justify_content": null,
       "justify_items": null,
       "left": null,
       "margin": null,
       "max_height": null,
       "max_width": null,
       "min_height": null,
       "min_width": null,
       "object_fit": null,
       "object_position": null,
       "order": null,
       "overflow": null,
       "overflow_x": null,
       "overflow_y": null,
       "padding": null,
       "right": null,
       "top": null,
       "visibility": null,
       "width": null
      }
     },
     "7c8fe8adc2dc43389471da6bd7aee1b7": {
      "model_module": "@jupyter-widgets/controls",
      "model_module_version": "1.5.0",
      "model_name": "DescriptionStyleModel",
      "state": {
       "_model_module": "@jupyter-widgets/controls",
       "_model_module_version": "1.5.0",
       "_model_name": "DescriptionStyleModel",
       "_view_count": null,
       "_view_module": "@jupyter-widgets/base",
       "_view_module_version": "1.2.0",
       "_view_name": "StyleView",
       "description_width": ""
      }
     },
     "87a5420476de4652bb7d9c2b0afe2cf5": {
      "model_module": "@jupyter-widgets/base",
      "model_module_version": "1.2.0",
      "model_name": "LayoutModel",
      "state": {
       "_model_module": "@jupyter-widgets/base",
       "_model_module_version": "1.2.0",
       "_model_name": "LayoutModel",
       "_view_count": null,
       "_view_module": "@jupyter-widgets/base",
       "_view_module_version": "1.2.0",
       "_view_name": "LayoutView",
       "align_content": null,
       "align_items": null,
       "align_self": null,
       "border": null,
       "bottom": null,
       "display": null,
       "flex": null,
       "flex_flow": null,
       "grid_area": null,
       "grid_auto_columns": null,
       "grid_auto_flow": null,
       "grid_auto_rows": null,
       "grid_column": null,
       "grid_gap": null,
       "grid_row": null,
       "grid_template_areas": null,
       "grid_template_columns": null,
       "grid_template_rows": null,
       "height": null,
       "justify_content": null,
       "justify_items": null,
       "left": null,
       "margin": null,
       "max_height": null,
       "max_width": null,
       "min_height": null,
       "min_width": null,
       "object_fit": null,
       "object_position": null,
       "order": null,
       "overflow": null,
       "overflow_x": null,
       "overflow_y": null,
       "padding": null,
       "right": null,
       "top": null,
       "visibility": null,
       "width": null
      }
     },
     "88352a6401a4476890f5a8fdbdb3c54b": {
      "model_module": "@jupyter-widgets/controls",
      "model_module_version": "1.5.0",
      "model_name": "HBoxModel",
      "state": {
       "_dom_classes": [],
       "_model_module": "@jupyter-widgets/controls",
       "_model_module_version": "1.5.0",
       "_model_name": "HBoxModel",
       "_view_count": null,
       "_view_module": "@jupyter-widgets/controls",
       "_view_module_version": "1.5.0",
       "_view_name": "HBoxView",
       "box_style": "",
       "children": [
        "IPY_MODEL_a61ec26c960a44829906a2fd7ce9188a",
        "IPY_MODEL_c8e660cd7e2444edb6f9499ffe7d665b",
        "IPY_MODEL_aa21ef4eccfb4fff865e84326ca20c8a"
       ],
       "layout": "IPY_MODEL_6d35eb299947427ea41032f7d817015d"
      }
     },
     "a61ec26c960a44829906a2fd7ce9188a": {
      "model_module": "@jupyter-widgets/controls",
      "model_module_version": "1.5.0",
      "model_name": "HTMLModel",
      "state": {
       "_dom_classes": [],
       "_model_module": "@jupyter-widgets/controls",
       "_model_module_version": "1.5.0",
       "_model_name": "HTMLModel",
       "_view_count": null,
       "_view_module": "@jupyter-widgets/controls",
       "_view_module_version": "1.5.0",
       "_view_name": "HTMLView",
       "description": "",
       "description_tooltip": null,
       "layout": "IPY_MODEL_87a5420476de4652bb7d9c2b0afe2cf5",
       "placeholder": "​",
       "style": "IPY_MODEL_a6b6faa738294b72805c71abb0994027",
       "value": "100%"
      }
     },
     "a6b6faa738294b72805c71abb0994027": {
      "model_module": "@jupyter-widgets/controls",
      "model_module_version": "1.5.0",
      "model_name": "DescriptionStyleModel",
      "state": {
       "_model_module": "@jupyter-widgets/controls",
       "_model_module_version": "1.5.0",
       "_model_name": "DescriptionStyleModel",
       "_view_count": null,
       "_view_module": "@jupyter-widgets/base",
       "_view_module_version": "1.2.0",
       "_view_name": "StyleView",
       "description_width": ""
      }
     },
     "aa21ef4eccfb4fff865e84326ca20c8a": {
      "model_module": "@jupyter-widgets/controls",
      "model_module_version": "1.5.0",
      "model_name": "HTMLModel",
      "state": {
       "_dom_classes": [],
       "_model_module": "@jupyter-widgets/controls",
       "_model_module_version": "1.5.0",
       "_model_name": "HTMLModel",
       "_view_count": null,
       "_view_module": "@jupyter-widgets/controls",
       "_view_module_version": "1.5.0",
       "_view_name": "HTMLView",
       "description": "",
       "description_tooltip": null,
       "layout": "IPY_MODEL_0c965731ce674310a5ce93200fd19c1b",
       "placeholder": "​",
       "style": "IPY_MODEL_bb45905ba79c4966b481588464338ff0",
       "value": " 37/37 [00:02&lt;00:00, 12.40ba/s]"
      }
     },
     "ae67e1f1d17f4187b57c8705c18ef1e6": {
      "model_module": "@jupyter-widgets/base",
      "model_module_version": "1.2.0",
      "model_name": "LayoutModel",
      "state": {
       "_model_module": "@jupyter-widgets/base",
       "_model_module_version": "1.2.0",
       "_model_name": "LayoutModel",
       "_view_count": null,
       "_view_module": "@jupyter-widgets/base",
       "_view_module_version": "1.2.0",
       "_view_name": "LayoutView",
       "align_content": null,
       "align_items": null,
       "align_self": null,
       "border": null,
       "bottom": null,
       "display": null,
       "flex": null,
       "flex_flow": null,
       "grid_area": null,
       "grid_auto_columns": null,
       "grid_auto_flow": null,
       "grid_auto_rows": null,
       "grid_column": null,
       "grid_gap": null,
       "grid_row": null,
       "grid_template_areas": null,
       "grid_template_columns": null,
       "grid_template_rows": null,
       "height": null,
       "justify_content": null,
       "justify_items": null,
       "left": null,
       "margin": null,
       "max_height": null,
       "max_width": null,
       "min_height": null,
       "min_width": null,
       "object_fit": null,
       "object_position": null,
       "order": null,
       "overflow": null,
       "overflow_x": null,
       "overflow_y": null,
       "padding": null,
       "right": null,
       "top": null,
       "visibility": null,
       "width": null
      }
     },
     "bb45905ba79c4966b481588464338ff0": {
      "model_module": "@jupyter-widgets/controls",
      "model_module_version": "1.5.0",
      "model_name": "DescriptionStyleModel",
      "state": {
       "_model_module": "@jupyter-widgets/controls",
       "_model_module_version": "1.5.0",
       "_model_name": "DescriptionStyleModel",
       "_view_count": null,
       "_view_module": "@jupyter-widgets/base",
       "_view_module_version": "1.2.0",
       "_view_name": "StyleView",
       "description_width": ""
      }
     },
     "c5a06ce51c6c497897df671217d9acf5": {
      "model_module": "@jupyter-widgets/controls",
      "model_module_version": "1.5.0",
      "model_name": "FloatProgressModel",
      "state": {
       "_dom_classes": [],
       "_model_module": "@jupyter-widgets/controls",
       "_model_module_version": "1.5.0",
       "_model_name": "FloatProgressModel",
       "_view_count": null,
       "_view_module": "@jupyter-widgets/controls",
       "_view_module_version": "1.5.0",
       "_view_name": "ProgressView",
       "bar_style": "success",
       "description": "",
       "description_tooltip": null,
       "layout": "IPY_MODEL_13a7dbcde1c04c2a9f40ae7dcc9872c1",
       "max": 1.0,
       "min": 0.0,
       "orientation": "horizontal",
       "style": "IPY_MODEL_31289354ca4e464fb17063ce0029ba24",
       "value": 1.0
      }
     },
     "c8e660cd7e2444edb6f9499ffe7d665b": {
      "model_module": "@jupyter-widgets/controls",
      "model_module_version": "1.5.0",
      "model_name": "FloatProgressModel",
      "state": {
       "_dom_classes": [],
       "_model_module": "@jupyter-widgets/controls",
       "_model_module_version": "1.5.0",
       "_model_name": "FloatProgressModel",
       "_view_count": null,
       "_view_module": "@jupyter-widgets/controls",
       "_view_module_version": "1.5.0",
       "_view_name": "ProgressView",
       "bar_style": "success",
       "description": "",
       "description_tooltip": null,
       "layout": "IPY_MODEL_64e45b5fa01e4b958d11dbf1f17b2e2e",
       "max": 37.0,
       "min": 0.0,
       "orientation": "horizontal",
       "style": "IPY_MODEL_41668b619af04e0ba681aadf3e1c0ebf",
       "value": 37.0
      }
     },
     "e45d233c95734391bcb65aa7b5c51cf1": {
      "model_module": "@jupyter-widgets/controls",
      "model_module_version": "1.5.0",
      "model_name": "DescriptionStyleModel",
      "state": {
       "_model_module": "@jupyter-widgets/controls",
       "_model_module_version": "1.5.0",
       "_model_name": "DescriptionStyleModel",
       "_view_count": null,
       "_view_module": "@jupyter-widgets/base",
       "_view_module_version": "1.2.0",
       "_view_name": "StyleView",
       "description_width": ""
      }
     },
     "f20f3c3ae879436a9d7fcb4a4270e211": {
      "model_module": "@jupyter-widgets/controls",
      "model_module_version": "1.5.0",
      "model_name": "HTMLModel",
      "state": {
       "_dom_classes": [],
       "_model_module": "@jupyter-widgets/controls",
       "_model_module_version": "1.5.0",
       "_model_name": "HTMLModel",
       "_view_count": null,
       "_view_module": "@jupyter-widgets/controls",
       "_view_module_version": "1.5.0",
       "_view_name": "HTMLView",
       "description": "",
       "description_tooltip": null,
       "layout": "IPY_MODEL_4d61d23dbac54f43aa2713ad1e543fa3",
       "placeholder": "​",
       "style": "IPY_MODEL_7c8fe8adc2dc43389471da6bd7aee1b7",
       "value": "100%"
      }
     }
    },
    "version_major": 2,
    "version_minor": 0
   }
  }
 },
 "nbformat": 4,
 "nbformat_minor": 5
}
