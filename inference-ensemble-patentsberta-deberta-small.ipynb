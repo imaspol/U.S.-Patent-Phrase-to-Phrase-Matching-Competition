{
 "cells": [
  {
   "cell_type": "code",
   "execution_count": 1,
   "id": "95d2a791",
   "metadata": {
    "_cell_guid": "b1076dfc-b9ad-4769-8c92-a6c4dae69d19",
    "_uuid": "8f2839f25d086af736a60e9eeb907d3b93b6e0e5",
    "execution": {
     "iopub.execute_input": "2022-06-19T22:05:22.858214Z",
     "iopub.status.busy": "2022-06-19T22:05:22.857721Z",
     "iopub.status.idle": "2022-06-19T22:05:22.883283Z",
     "shell.execute_reply": "2022-06-19T22:05:22.882456Z"
    },
    "papermill": {
     "duration": 0.089058,
     "end_time": "2022-06-19T22:05:22.885548",
     "exception": false,
     "start_time": "2022-06-19T22:05:22.796490",
     "status": "completed"
    },
    "tags": []
   },
   "outputs": [
    {
     "name": "stdout",
     "output_type": "stream",
     "text": [
      "/kaggle/input/aigl-patentsberta-kaggle-v3/config.json\n",
      "/kaggle/input/aigl-patentsberta-kaggle-v3/training_args.bin\n",
      "/kaggle/input/aigl-patentsberta-kaggle-v3/tokenizer.json\n",
      "/kaggle/input/aigl-patentsberta-kaggle-v3/tokenizer_config.json\n",
      "/kaggle/input/aigl-patentsberta-kaggle-v3/pytorch_model.bin\n",
      "/kaggle/input/aigl-patentsberta-kaggle-v3/special_tokens_map.json\n",
      "/kaggle/input/aigl-patentsberta-kaggle-v3/vocab.txt\n",
      "/kaggle/input/cpc-codes/titles.csv\n",
      "/kaggle/input/us-patent-phrase-to-phrase-matching/sample_submission.csv\n",
      "/kaggle/input/us-patent-phrase-to-phrase-matching/train.csv\n",
      "/kaggle/input/us-patent-phrase-to-phrase-matching/test.csv\n",
      "/kaggle/input/debertasmallv3onpatents/spm.model\n",
      "/kaggle/input/debertasmallv3onpatents/config.json\n",
      "/kaggle/input/debertasmallv3onpatents/README.md\n",
      "/kaggle/input/debertasmallv3onpatents/tf_model.h5\n",
      "/kaggle/input/debertasmallv3onpatents/tokenizer_config.json\n",
      "/kaggle/input/debertasmallv3onpatents/pytorch_model.bin\n"
     ]
    }
   ],
   "source": [
    "# This Python 3 environment comes with many helpful analytics libraries installed\n",
    "# It is defined by the kaggle/python Docker image: https://github.com/kaggle/docker-python\n",
    "# For example, here's several helpful packages to load\n",
    "\n",
    "import numpy as np # linear algebra\n",
    "import pandas as pd # data processing, CSV file I/O (e.g. pd.read_csv)\n",
    "\n",
    "# Input data files are available in the read-only \"../input/\" directory\n",
    "# For example, running this (by clicking run or pressing Shift+Enter) will list all files under the input directory\n",
    "\n",
    "import os\n",
    "for dirname, _, filenames in os.walk('/kaggle/input'):\n",
    "    for filename in filenames:\n",
    "        print(os.path.join(dirname, filename))\n",
    "\n",
    "# You can write up to 20GB to the current directory (/kaggle/working/) that gets preserved as output when you create a version using \"Save & Run All\" \n",
    "# You can also write temporary files to /kaggle/temp/, but they won't be saved outside of the current session"
   ]
  },
  {
   "cell_type": "markdown",
   "id": "13d12aee",
   "metadata": {
    "papermill": {
     "duration": 0.059018,
     "end_time": "2022-06-19T22:05:23.004783",
     "exception": false,
     "start_time": "2022-06-19T22:05:22.945765",
     "status": "completed"
    },
    "tags": []
   },
   "source": [
    "# Credits:\n",
    "this notebook is based on the notbook [\"Getting started with NLP for absolute beginners\"](https://www.kaggle.com/code/jhoward/getting-started-with-nlp-for-absolute-beginners) by @Jeremy Howard"
   ]
  },
  {
   "cell_type": "markdown",
   "id": "189634d6",
   "metadata": {
    "papermill": {
     "duration": 0.059445,
     "end_time": "2022-06-19T22:05:23.126233",
     "exception": false,
     "start_time": "2022-06-19T22:05:23.066788",
     "status": "completed"
    },
    "tags": []
   },
   "source": [
    "## Imports"
   ]
  },
  {
   "cell_type": "code",
   "execution_count": 2,
   "id": "0ea9bb1d",
   "metadata": {
    "execution": {
     "iopub.execute_input": "2022-06-19T22:05:23.245671Z",
     "iopub.status.busy": "2022-06-19T22:05:23.245429Z",
     "iopub.status.idle": "2022-06-19T22:05:29.583662Z",
     "shell.execute_reply": "2022-06-19T22:05:29.582943Z"
    },
    "papermill": {
     "duration": 6.400088,
     "end_time": "2022-06-19T22:05:29.585686",
     "exception": false,
     "start_time": "2022-06-19T22:05:23.185598",
     "status": "completed"
    },
    "tags": []
   },
   "outputs": [],
   "source": [
    "import tensorflow as tf\n",
    "import tensorflow_hub as hub\n",
    "import seaborn as sns\n",
    "import matplotlib.pyplot as plt"
   ]
  },
  {
   "cell_type": "markdown",
   "id": "6c4b184c",
   "metadata": {
    "papermill": {
     "duration": 0.05891,
     "end_time": "2022-06-19T22:05:29.704176",
     "exception": false,
     "start_time": "2022-06-19T22:05:29.645266",
     "status": "completed"
    },
    "tags": []
   },
   "source": [
    "# EDA"
   ]
  },
  {
   "cell_type": "code",
   "execution_count": 3,
   "id": "8143af69",
   "metadata": {
    "execution": {
     "iopub.execute_input": "2022-06-19T22:05:29.824829Z",
     "iopub.status.busy": "2022-06-19T22:05:29.824588Z",
     "iopub.status.idle": "2022-06-19T22:05:29.918478Z",
     "shell.execute_reply": "2022-06-19T22:05:29.917268Z"
    },
    "papermill": {
     "duration": 0.156552,
     "end_time": "2022-06-19T22:05:29.920775",
     "exception": false,
     "start_time": "2022-06-19T22:05:29.764223",
     "status": "completed"
    },
    "tags": []
   },
   "outputs": [
    {
     "name": "stdout",
     "output_type": "stream",
     "text": [
      "(36473, 5)\n"
     ]
    },
    {
     "data": {
      "text/html": [
       "<div>\n",
       "<style scoped>\n",
       "    .dataframe tbody tr th:only-of-type {\n",
       "        vertical-align: middle;\n",
       "    }\n",
       "\n",
       "    .dataframe tbody tr th {\n",
       "        vertical-align: top;\n",
       "    }\n",
       "\n",
       "    .dataframe thead th {\n",
       "        text-align: right;\n",
       "    }\n",
       "</style>\n",
       "<table border=\"1\" class=\"dataframe\">\n",
       "  <thead>\n",
       "    <tr style=\"text-align: right;\">\n",
       "      <th></th>\n",
       "      <th>id</th>\n",
       "      <th>anchor</th>\n",
       "      <th>target</th>\n",
       "      <th>context</th>\n",
       "      <th>score</th>\n",
       "    </tr>\n",
       "  </thead>\n",
       "  <tbody>\n",
       "    <tr>\n",
       "      <th>0</th>\n",
       "      <td>37d61fd2272659b1</td>\n",
       "      <td>abatement</td>\n",
       "      <td>abatement of pollution</td>\n",
       "      <td>A47</td>\n",
       "      <td>0.50</td>\n",
       "    </tr>\n",
       "    <tr>\n",
       "      <th>1</th>\n",
       "      <td>7b9652b17b68b7a4</td>\n",
       "      <td>abatement</td>\n",
       "      <td>act of abating</td>\n",
       "      <td>A47</td>\n",
       "      <td>0.75</td>\n",
       "    </tr>\n",
       "    <tr>\n",
       "      <th>2</th>\n",
       "      <td>36d72442aefd8232</td>\n",
       "      <td>abatement</td>\n",
       "      <td>active catalyst</td>\n",
       "      <td>A47</td>\n",
       "      <td>0.25</td>\n",
       "    </tr>\n",
       "    <tr>\n",
       "      <th>3</th>\n",
       "      <td>5296b0c19e1ce60e</td>\n",
       "      <td>abatement</td>\n",
       "      <td>eliminating process</td>\n",
       "      <td>A47</td>\n",
       "      <td>0.50</td>\n",
       "    </tr>\n",
       "    <tr>\n",
       "      <th>4</th>\n",
       "      <td>54c1e3b9184cb5b6</td>\n",
       "      <td>abatement</td>\n",
       "      <td>forest region</td>\n",
       "      <td>A47</td>\n",
       "      <td>0.00</td>\n",
       "    </tr>\n",
       "  </tbody>\n",
       "</table>\n",
       "</div>"
      ],
      "text/plain": [
       "                 id     anchor                  target context  score\n",
       "0  37d61fd2272659b1  abatement  abatement of pollution     A47   0.50\n",
       "1  7b9652b17b68b7a4  abatement          act of abating     A47   0.75\n",
       "2  36d72442aefd8232  abatement         active catalyst     A47   0.25\n",
       "3  5296b0c19e1ce60e  abatement     eliminating process     A47   0.50\n",
       "4  54c1e3b9184cb5b6  abatement           forest region     A47   0.00"
      ]
     },
     "execution_count": 3,
     "metadata": {},
     "output_type": "execute_result"
    }
   ],
   "source": [
    "train = pd.read_csv(\"/kaggle/input/us-patent-phrase-to-phrase-matching/train.csv\")\n",
    "print(train.shape)\n",
    "train.head()"
   ]
  },
  {
   "cell_type": "code",
   "execution_count": 4,
   "id": "022dd02f",
   "metadata": {
    "execution": {
     "iopub.execute_input": "2022-06-19T22:05:30.042867Z",
     "iopub.status.busy": "2022-06-19T22:05:30.042176Z",
     "iopub.status.idle": "2022-06-19T22:05:30.119584Z",
     "shell.execute_reply": "2022-06-19T22:05:30.118785Z"
    },
    "papermill": {
     "duration": 0.140179,
     "end_time": "2022-06-19T22:05:30.121507",
     "exception": false,
     "start_time": "2022-06-19T22:05:29.981328",
     "status": "completed"
    },
    "tags": []
   },
   "outputs": [
    {
     "data": {
      "text/html": [
       "<div>\n",
       "<style scoped>\n",
       "    .dataframe tbody tr th:only-of-type {\n",
       "        vertical-align: middle;\n",
       "    }\n",
       "\n",
       "    .dataframe tbody tr th {\n",
       "        vertical-align: top;\n",
       "    }\n",
       "\n",
       "    .dataframe thead th {\n",
       "        text-align: right;\n",
       "    }\n",
       "</style>\n",
       "<table border=\"1\" class=\"dataframe\">\n",
       "  <thead>\n",
       "    <tr style=\"text-align: right;\">\n",
       "      <th></th>\n",
       "      <th>id</th>\n",
       "      <th>anchor</th>\n",
       "      <th>target</th>\n",
       "      <th>context</th>\n",
       "    </tr>\n",
       "  </thead>\n",
       "  <tbody>\n",
       "    <tr>\n",
       "      <th>count</th>\n",
       "      <td>36473</td>\n",
       "      <td>36473</td>\n",
       "      <td>36473</td>\n",
       "      <td>36473</td>\n",
       "    </tr>\n",
       "    <tr>\n",
       "      <th>unique</th>\n",
       "      <td>36473</td>\n",
       "      <td>733</td>\n",
       "      <td>29340</td>\n",
       "      <td>106</td>\n",
       "    </tr>\n",
       "    <tr>\n",
       "      <th>top</th>\n",
       "      <td>37d61fd2272659b1</td>\n",
       "      <td>component composite coating</td>\n",
       "      <td>composition</td>\n",
       "      <td>H01</td>\n",
       "    </tr>\n",
       "    <tr>\n",
       "      <th>freq</th>\n",
       "      <td>1</td>\n",
       "      <td>152</td>\n",
       "      <td>24</td>\n",
       "      <td>2186</td>\n",
       "    </tr>\n",
       "  </tbody>\n",
       "</table>\n",
       "</div>"
      ],
      "text/plain": [
       "                      id                       anchor       target context\n",
       "count              36473                        36473        36473   36473\n",
       "unique             36473                          733        29340     106\n",
       "top     37d61fd2272659b1  component composite coating  composition     H01\n",
       "freq                   1                          152           24    2186"
      ]
     },
     "execution_count": 4,
     "metadata": {},
     "output_type": "execute_result"
    }
   ],
   "source": [
    "train.describe(include='object')"
   ]
  },
  {
   "cell_type": "code",
   "execution_count": 5,
   "id": "e6d98a91",
   "metadata": {
    "execution": {
     "iopub.execute_input": "2022-06-19T22:05:30.242266Z",
     "iopub.status.busy": "2022-06-19T22:05:30.242045Z",
     "iopub.status.idle": "2022-06-19T22:05:30.269695Z",
     "shell.execute_reply": "2022-06-19T22:05:30.269017Z"
    },
    "papermill": {
     "duration": 0.090178,
     "end_time": "2022-06-19T22:05:30.271414",
     "exception": false,
     "start_time": "2022-06-19T22:05:30.181236",
     "status": "completed"
    },
    "tags": []
   },
   "outputs": [
    {
     "data": {
      "text/html": [
       "<div>\n",
       "<style scoped>\n",
       "    .dataframe tbody tr th:only-of-type {\n",
       "        vertical-align: middle;\n",
       "    }\n",
       "\n",
       "    .dataframe tbody tr th {\n",
       "        vertical-align: top;\n",
       "    }\n",
       "\n",
       "    .dataframe thead th {\n",
       "        text-align: right;\n",
       "    }\n",
       "</style>\n",
       "<table border=\"1\" class=\"dataframe\">\n",
       "  <thead>\n",
       "    <tr style=\"text-align: right;\">\n",
       "      <th></th>\n",
       "      <th>id</th>\n",
       "      <th>anchor</th>\n",
       "      <th>target</th>\n",
       "      <th>context</th>\n",
       "    </tr>\n",
       "    <tr>\n",
       "      <th>score</th>\n",
       "      <th></th>\n",
       "      <th></th>\n",
       "      <th></th>\n",
       "      <th></th>\n",
       "    </tr>\n",
       "  </thead>\n",
       "  <tbody>\n",
       "    <tr>\n",
       "      <th>0.00</th>\n",
       "      <td>7471</td>\n",
       "      <td>7471</td>\n",
       "      <td>7471</td>\n",
       "      <td>7471</td>\n",
       "    </tr>\n",
       "    <tr>\n",
       "      <th>0.25</th>\n",
       "      <td>11519</td>\n",
       "      <td>11519</td>\n",
       "      <td>11519</td>\n",
       "      <td>11519</td>\n",
       "    </tr>\n",
       "    <tr>\n",
       "      <th>0.50</th>\n",
       "      <td>12300</td>\n",
       "      <td>12300</td>\n",
       "      <td>12300</td>\n",
       "      <td>12300</td>\n",
       "    </tr>\n",
       "    <tr>\n",
       "      <th>0.75</th>\n",
       "      <td>4029</td>\n",
       "      <td>4029</td>\n",
       "      <td>4029</td>\n",
       "      <td>4029</td>\n",
       "    </tr>\n",
       "    <tr>\n",
       "      <th>1.00</th>\n",
       "      <td>1154</td>\n",
       "      <td>1154</td>\n",
       "      <td>1154</td>\n",
       "      <td>1154</td>\n",
       "    </tr>\n",
       "  </tbody>\n",
       "</table>\n",
       "</div>"
      ],
      "text/plain": [
       "          id  anchor  target  context\n",
       "score                                \n",
       "0.00    7471    7471    7471     7471\n",
       "0.25   11519   11519   11519    11519\n",
       "0.50   12300   12300   12300    12300\n",
       "0.75    4029    4029    4029     4029\n",
       "1.00    1154    1154    1154     1154"
      ]
     },
     "execution_count": 5,
     "metadata": {},
     "output_type": "execute_result"
    }
   ],
   "source": [
    "train.groupby('score').count()"
   ]
  },
  {
   "cell_type": "markdown",
   "id": "a0267977",
   "metadata": {
    "papermill": {
     "duration": 0.061053,
     "end_time": "2022-06-19T22:05:30.392520",
     "exception": false,
     "start_time": "2022-06-19T22:05:30.331467",
     "status": "completed"
    },
    "tags": []
   },
   "source": [
    "## Score meanings according to [Data Description](https://www.kaggle.com/competitions/us-patent-phrase-to-phrase-matching/data?select=train.csv)\n",
    "\n",
    "The scores are in the 0-1 range with increments of 0.25 with the following meanings:\n",
    "\n",
    "    1.0 - Very close match. This is typically an exact match except possibly for differences in conjugation, quantity (e.g. singular vs. plural), and addition or removal of stopwords (e.g. “the”, “and”, “or”).\n",
    "    0.75 - Close synonym, e.g. “mobile phone” vs. “cellphone”. This also includes abbreviations, e.g. \"TCP\" -> \"transmission control protocol\".\n",
    "    0.5 - Synonyms which don’t have the same meaning (same function, same properties). This includes broad-narrow (hyponym) and narrow-broad (hypernym) matches.\n",
    "    0.25 - Somewhat related, e.g. the two phrases are in the same high level domain but are not synonyms. This also includes antonyms.\n",
    "    0.0 - Unrelated.\n"
   ]
  },
  {
   "cell_type": "markdown",
   "id": "15887c25",
   "metadata": {
    "papermill": {
     "duration": 0.060408,
     "end_time": "2022-06-19T22:05:30.512834",
     "exception": false,
     "start_time": "2022-06-19T22:05:30.452426",
     "status": "completed"
    },
    "tags": []
   },
   "source": [
    "# Test Corpus"
   ]
  },
  {
   "cell_type": "code",
   "execution_count": 6,
   "id": "999f4996",
   "metadata": {
    "execution": {
     "iopub.execute_input": "2022-06-19T22:05:30.634318Z",
     "iopub.status.busy": "2022-06-19T22:05:30.634078Z",
     "iopub.status.idle": "2022-06-19T22:05:30.641467Z",
     "shell.execute_reply": "2022-06-19T22:05:30.640848Z"
    },
    "papermill": {
     "duration": 0.070542,
     "end_time": "2022-06-19T22:05:30.643155",
     "exception": false,
     "start_time": "2022-06-19T22:05:30.572613",
     "status": "completed"
    },
    "tags": []
   },
   "outputs": [],
   "source": [
    "test = pd.read_csv(\"/kaggle/input/us-patent-phrase-to-phrase-matching/test.csv\")"
   ]
  },
  {
   "cell_type": "code",
   "execution_count": 7,
   "id": "51d5c3bf",
   "metadata": {
    "execution": {
     "iopub.execute_input": "2022-06-19T22:05:30.764511Z",
     "iopub.status.busy": "2022-06-19T22:05:30.763939Z",
     "iopub.status.idle": "2022-06-19T22:05:30.768635Z",
     "shell.execute_reply": "2022-06-19T22:05:30.768015Z"
    },
    "papermill": {
     "duration": 0.067765,
     "end_time": "2022-06-19T22:05:30.770444",
     "exception": false,
     "start_time": "2022-06-19T22:05:30.702679",
     "status": "completed"
    },
    "tags": []
   },
   "outputs": [
    {
     "data": {
      "text/plain": [
       "(36, 4)"
      ]
     },
     "execution_count": 7,
     "metadata": {},
     "output_type": "execute_result"
    }
   ],
   "source": [
    "test.shape"
   ]
  },
  {
   "cell_type": "code",
   "execution_count": 8,
   "id": "5b8844a7",
   "metadata": {
    "execution": {
     "iopub.execute_input": "2022-06-19T22:05:30.892221Z",
     "iopub.status.busy": "2022-06-19T22:05:30.891604Z",
     "iopub.status.idle": "2022-06-19T22:05:30.896094Z",
     "shell.execute_reply": "2022-06-19T22:05:30.895451Z"
    },
    "papermill": {
     "duration": 0.067565,
     "end_time": "2022-06-19T22:05:30.897726",
     "exception": false,
     "start_time": "2022-06-19T22:05:30.830161",
     "status": "completed"
    },
    "tags": []
   },
   "outputs": [],
   "source": [
    "def cosine(u, v):\n",
    "    \"\"\"\n",
    "    cosine similarity definition\n",
    "    \"\"\"\n",
    "    return np.dot(u, v) / (np.linalg.norm(u) * np.linalg.norm(v))"
   ]
  },
  {
   "cell_type": "markdown",
   "id": "3a20fd2d",
   "metadata": {
    "papermill": {
     "duration": 0.059516,
     "end_time": "2022-06-19T22:05:31.017277",
     "exception": false,
     "start_time": "2022-06-19T22:05:30.957761",
     "status": "completed"
    },
    "tags": []
   },
   "source": [
    "# External Context"
   ]
  },
  {
   "cell_type": "code",
   "execution_count": 9,
   "id": "ddb159e7",
   "metadata": {
    "execution": {
     "iopub.execute_input": "2022-06-19T22:05:31.139631Z",
     "iopub.status.busy": "2022-06-19T22:05:31.139392Z",
     "iopub.status.idle": "2022-06-19T22:05:31.142570Z",
     "shell.execute_reply": "2022-06-19T22:05:31.141862Z"
    },
    "papermill": {
     "duration": 0.066732,
     "end_time": "2022-06-19T22:05:31.144390",
     "exception": false,
     "start_time": "2022-06-19T22:05:31.077658",
     "status": "completed"
    },
    "tags": []
   },
   "outputs": [],
   "source": [
    "# ajouter le contexte https://www.cooperativepatentclassification.org/Archive\n",
    "# extraire le contexte du fichier xml"
   ]
  },
  {
   "cell_type": "code",
   "execution_count": 10,
   "id": "b1b29c58",
   "metadata": {
    "execution": {
     "iopub.execute_input": "2022-06-19T22:05:31.266915Z",
     "iopub.status.busy": "2022-06-19T22:05:31.266241Z",
     "iopub.status.idle": "2022-06-19T22:05:31.932563Z",
     "shell.execute_reply": "2022-06-19T22:05:31.931412Z"
    },
    "papermill": {
     "duration": 0.729449,
     "end_time": "2022-06-19T22:05:31.934958",
     "exception": false,
     "start_time": "2022-06-19T22:05:31.205509",
     "status": "completed"
    },
    "tags": []
   },
   "outputs": [
    {
     "name": "stdout",
     "output_type": "stream",
     "text": [
      "(260476, 7)\n"
     ]
    },
    {
     "data": {
      "text/html": [
       "<div>\n",
       "<style scoped>\n",
       "    .dataframe tbody tr th:only-of-type {\n",
       "        vertical-align: middle;\n",
       "    }\n",
       "\n",
       "    .dataframe tbody tr th {\n",
       "        vertical-align: top;\n",
       "    }\n",
       "\n",
       "    .dataframe thead th {\n",
       "        text-align: right;\n",
       "    }\n",
       "</style>\n",
       "<table border=\"1\" class=\"dataframe\">\n",
       "  <thead>\n",
       "    <tr style=\"text-align: right;\">\n",
       "      <th></th>\n",
       "      <th>code</th>\n",
       "      <th>title</th>\n",
       "      <th>section</th>\n",
       "      <th>class</th>\n",
       "      <th>subclass</th>\n",
       "      <th>group</th>\n",
       "      <th>main_group</th>\n",
       "    </tr>\n",
       "  </thead>\n",
       "  <tbody>\n",
       "    <tr>\n",
       "      <th>0</th>\n",
       "      <td>A</td>\n",
       "      <td>HUMAN NECESSITIES</td>\n",
       "      <td>A</td>\n",
       "      <td>NaN</td>\n",
       "      <td>NaN</td>\n",
       "      <td>NaN</td>\n",
       "      <td>NaN</td>\n",
       "    </tr>\n",
       "    <tr>\n",
       "      <th>1</th>\n",
       "      <td>A01</td>\n",
       "      <td>AGRICULTURE; FORESTRY; ANIMAL HUSBANDRY; HUNTI...</td>\n",
       "      <td>A</td>\n",
       "      <td>1.0</td>\n",
       "      <td>NaN</td>\n",
       "      <td>NaN</td>\n",
       "      <td>NaN</td>\n",
       "    </tr>\n",
       "    <tr>\n",
       "      <th>2</th>\n",
       "      <td>A01B</td>\n",
       "      <td>SOIL WORKING IN AGRICULTURE OR FORESTRY; PARTS...</td>\n",
       "      <td>A</td>\n",
       "      <td>1.0</td>\n",
       "      <td>B</td>\n",
       "      <td>NaN</td>\n",
       "      <td>NaN</td>\n",
       "    </tr>\n",
       "    <tr>\n",
       "      <th>3</th>\n",
       "      <td>A01B1/00</td>\n",
       "      <td>Hand tools (edge trimmers for lawns A01G3/06  ...</td>\n",
       "      <td>A</td>\n",
       "      <td>1.0</td>\n",
       "      <td>B</td>\n",
       "      <td>1.0</td>\n",
       "      <td>0.0</td>\n",
       "    </tr>\n",
       "    <tr>\n",
       "      <th>4</th>\n",
       "      <td>A01B1/02</td>\n",
       "      <td>Spades; Shovels {(hand-operated dredgers E02F3...</td>\n",
       "      <td>A</td>\n",
       "      <td>1.0</td>\n",
       "      <td>B</td>\n",
       "      <td>1.0</td>\n",
       "      <td>2.0</td>\n",
       "    </tr>\n",
       "  </tbody>\n",
       "</table>\n",
       "</div>"
      ],
      "text/plain": [
       "       code                                              title section  class  \\\n",
       "0         A                                  HUMAN NECESSITIES       A    NaN   \n",
       "1       A01  AGRICULTURE; FORESTRY; ANIMAL HUSBANDRY; HUNTI...       A    1.0   \n",
       "2      A01B  SOIL WORKING IN AGRICULTURE OR FORESTRY; PARTS...       A    1.0   \n",
       "3  A01B1/00  Hand tools (edge trimmers for lawns A01G3/06  ...       A    1.0   \n",
       "4  A01B1/02  Spades; Shovels {(hand-operated dredgers E02F3...       A    1.0   \n",
       "\n",
       "  subclass  group  main_group  \n",
       "0      NaN    NaN         NaN  \n",
       "1      NaN    NaN         NaN  \n",
       "2        B    NaN         NaN  \n",
       "3        B    1.0         0.0  \n",
       "4        B    1.0         2.0  "
      ]
     },
     "execution_count": 10,
     "metadata": {},
     "output_type": "execute_result"
    }
   ],
   "source": [
    "titles = pd.read_csv(\"../input/cpc-codes/titles.csv\")\n",
    "print(titles.shape)\n",
    "titles.head()"
   ]
  },
  {
   "cell_type": "markdown",
   "id": "7488d3fa",
   "metadata": {
    "papermill": {
     "duration": 0.071096,
     "end_time": "2022-06-19T22:05:32.068272",
     "exception": false,
     "start_time": "2022-06-19T22:05:31.997176",
     "status": "completed"
    },
    "tags": []
   },
   "source": [
    "# HuggingFace AutoModelForSequenceClassification"
   ]
  },
  {
   "cell_type": "code",
   "execution_count": 11,
   "id": "08c25038",
   "metadata": {
    "execution": {
     "iopub.execute_input": "2022-06-19T22:05:32.192443Z",
     "iopub.status.busy": "2022-06-19T22:05:32.192197Z",
     "iopub.status.idle": "2022-06-19T22:05:32.352037Z",
     "shell.execute_reply": "2022-06-19T22:05:32.351333Z"
    },
    "papermill": {
     "duration": 0.224502,
     "end_time": "2022-06-19T22:05:32.354201",
     "exception": false,
     "start_time": "2022-06-19T22:05:32.129699",
     "status": "completed"
    },
    "tags": []
   },
   "outputs": [],
   "source": [
    "import numpy as np # linear algebra\n",
    "import pandas as pd # data processing, CSV file I/O (e.g. pd.read_csv)\n",
    "import os\n",
    "from scipy.stats import pearsonr\n",
    "from scipy.stats import spearmanr # pour trouver les correspondances entre les résultats sur des échelles variées\n",
    "from sklearn.model_selection import StratifiedGroupKFold"
   ]
  },
  {
   "cell_type": "code",
   "execution_count": 12,
   "id": "b8dee3ea",
   "metadata": {
    "execution": {
     "iopub.execute_input": "2022-06-19T22:05:32.477730Z",
     "iopub.status.busy": "2022-06-19T22:05:32.477521Z",
     "iopub.status.idle": "2022-06-19T22:05:35.134958Z",
     "shell.execute_reply": "2022-06-19T22:05:35.133891Z"
    },
    "papermill": {
     "duration": 2.722315,
     "end_time": "2022-06-19T22:05:35.137670",
     "exception": false,
     "start_time": "2022-06-19T22:05:32.415355",
     "status": "completed"
    },
    "tags": []
   },
   "outputs": [],
   "source": [
    "import transformers\n",
    "from transformers import TrainingArguments,Trainer\n",
    "from transformers import AutoModelForSequenceClassification,AutoTokenizer\n",
    "\n",
    "import torch\n",
    "import datasets\n",
    "from datasets import load_dataset, Dataset, DatasetDict"
   ]
  },
  {
   "cell_type": "code",
   "execution_count": 13,
   "id": "5a46db93",
   "metadata": {
    "execution": {
     "iopub.execute_input": "2022-06-19T22:05:35.340442Z",
     "iopub.status.busy": "2022-06-19T22:05:35.340134Z",
     "iopub.status.idle": "2022-06-19T22:05:35.344512Z",
     "shell.execute_reply": "2022-06-19T22:05:35.343714Z"
    },
    "papermill": {
     "duration": 0.110571,
     "end_time": "2022-06-19T22:05:35.347832",
     "exception": false,
     "start_time": "2022-06-19T22:05:35.237261",
     "status": "completed"
    },
    "tags": []
   },
   "outputs": [],
   "source": [
    "import warnings\n",
    "import logging\n",
    "from IPython.display import display, HTML"
   ]
  },
  {
   "cell_type": "markdown",
   "id": "54a7e32e",
   "metadata": {
    "papermill": {
     "duration": 0.101197,
     "end_time": "2022-06-19T22:05:35.550328",
     "exception": false,
     "start_time": "2022-06-19T22:05:35.449131",
     "status": "completed"
    },
    "tags": []
   },
   "source": [
    "# Corpora merge"
   ]
  },
  {
   "cell_type": "code",
   "execution_count": 14,
   "id": "145ea6c6",
   "metadata": {
    "execution": {
     "iopub.execute_input": "2022-06-19T22:05:35.694153Z",
     "iopub.status.busy": "2022-06-19T22:05:35.693897Z",
     "iopub.status.idle": "2022-06-19T22:05:36.014020Z",
     "shell.execute_reply": "2022-06-19T22:05:36.013342Z"
    },
    "papermill": {
     "duration": 0.38415,
     "end_time": "2022-06-19T22:05:36.015750",
     "exception": false,
     "start_time": "2022-06-19T22:05:35.631600",
     "status": "completed"
    },
    "tags": []
   },
   "outputs": [
    {
     "name": "stdout",
     "output_type": "stream",
     "text": [
      "(36473, 6)\n"
     ]
    },
    {
     "data": {
      "text/html": [
       "<div>\n",
       "<style scoped>\n",
       "    .dataframe tbody tr th:only-of-type {\n",
       "        vertical-align: middle;\n",
       "    }\n",
       "\n",
       "    .dataframe tbody tr th {\n",
       "        vertical-align: top;\n",
       "    }\n",
       "\n",
       "    .dataframe thead th {\n",
       "        text-align: right;\n",
       "    }\n",
       "</style>\n",
       "<table border=\"1\" class=\"dataframe\">\n",
       "  <thead>\n",
       "    <tr style=\"text-align: right;\">\n",
       "      <th></th>\n",
       "      <th>id</th>\n",
       "      <th>anchor</th>\n",
       "      <th>target</th>\n",
       "      <th>context</th>\n",
       "      <th>score</th>\n",
       "      <th>section</th>\n",
       "    </tr>\n",
       "  </thead>\n",
       "  <tbody>\n",
       "    <tr>\n",
       "      <th>0</th>\n",
       "      <td>37d61fd2272659b1</td>\n",
       "      <td>abatement</td>\n",
       "      <td>abatement of pollution</td>\n",
       "      <td>A47</td>\n",
       "      <td>0.50</td>\n",
       "      <td>A</td>\n",
       "    </tr>\n",
       "    <tr>\n",
       "      <th>1</th>\n",
       "      <td>7b9652b17b68b7a4</td>\n",
       "      <td>abatement</td>\n",
       "      <td>act of abating</td>\n",
       "      <td>A47</td>\n",
       "      <td>0.75</td>\n",
       "      <td>A</td>\n",
       "    </tr>\n",
       "    <tr>\n",
       "      <th>2</th>\n",
       "      <td>36d72442aefd8232</td>\n",
       "      <td>abatement</td>\n",
       "      <td>active catalyst</td>\n",
       "      <td>A47</td>\n",
       "      <td>0.25</td>\n",
       "      <td>A</td>\n",
       "    </tr>\n",
       "    <tr>\n",
       "      <th>3</th>\n",
       "      <td>5296b0c19e1ce60e</td>\n",
       "      <td>abatement</td>\n",
       "      <td>eliminating process</td>\n",
       "      <td>A47</td>\n",
       "      <td>0.50</td>\n",
       "      <td>A</td>\n",
       "    </tr>\n",
       "    <tr>\n",
       "      <th>4</th>\n",
       "      <td>54c1e3b9184cb5b6</td>\n",
       "      <td>abatement</td>\n",
       "      <td>forest region</td>\n",
       "      <td>A47</td>\n",
       "      <td>0.00</td>\n",
       "      <td>A</td>\n",
       "    </tr>\n",
       "  </tbody>\n",
       "</table>\n",
       "</div>"
      ],
      "text/plain": [
       "                 id     anchor                  target context  score section\n",
       "0  37d61fd2272659b1  abatement  abatement of pollution     A47   0.50       A\n",
       "1  7b9652b17b68b7a4  abatement          act of abating     A47   0.75       A\n",
       "2  36d72442aefd8232  abatement         active catalyst     A47   0.25       A\n",
       "3  5296b0c19e1ce60e  abatement     eliminating process     A47   0.50       A\n",
       "4  54c1e3b9184cb5b6  abatement           forest region     A47   0.00       A"
      ]
     },
     "metadata": {},
     "output_type": "display_data"
    },
    {
     "data": {
      "text/html": [
       "<div>\n",
       "<style scoped>\n",
       "    .dataframe tbody tr th:only-of-type {\n",
       "        vertical-align: middle;\n",
       "    }\n",
       "\n",
       "    .dataframe tbody tr th {\n",
       "        vertical-align: top;\n",
       "    }\n",
       "\n",
       "    .dataframe thead th {\n",
       "        text-align: right;\n",
       "    }\n",
       "</style>\n",
       "<table border=\"1\" class=\"dataframe\">\n",
       "  <thead>\n",
       "    <tr style=\"text-align: right;\">\n",
       "      <th></th>\n",
       "      <th>context</th>\n",
       "      <th>title</th>\n",
       "      <th>section</th>\n",
       "      <th>class</th>\n",
       "      <th>subclass</th>\n",
       "      <th>group</th>\n",
       "      <th>main_group</th>\n",
       "    </tr>\n",
       "  </thead>\n",
       "  <tbody>\n",
       "    <tr>\n",
       "      <th>0</th>\n",
       "      <td>A</td>\n",
       "      <td>HUMAN NECESSITIES</td>\n",
       "      <td>A</td>\n",
       "      <td>NaN</td>\n",
       "      <td>NaN</td>\n",
       "      <td>NaN</td>\n",
       "      <td>NaN</td>\n",
       "    </tr>\n",
       "    <tr>\n",
       "      <th>1</th>\n",
       "      <td>A01</td>\n",
       "      <td>AGRICULTURE; FORESTRY; ANIMAL HUSBANDRY; HUNTI...</td>\n",
       "      <td>A</td>\n",
       "      <td>1.0</td>\n",
       "      <td>NaN</td>\n",
       "      <td>NaN</td>\n",
       "      <td>NaN</td>\n",
       "    </tr>\n",
       "    <tr>\n",
       "      <th>2</th>\n",
       "      <td>A01B</td>\n",
       "      <td>SOIL WORKING IN AGRICULTURE OR FORESTRY; PARTS...</td>\n",
       "      <td>A</td>\n",
       "      <td>1.0</td>\n",
       "      <td>B</td>\n",
       "      <td>NaN</td>\n",
       "      <td>NaN</td>\n",
       "    </tr>\n",
       "    <tr>\n",
       "      <th>3</th>\n",
       "      <td>A01B1/00</td>\n",
       "      <td>Hand tools (edge trimmers for lawns A01G3/06  ...</td>\n",
       "      <td>A</td>\n",
       "      <td>1.0</td>\n",
       "      <td>B</td>\n",
       "      <td>1.0</td>\n",
       "      <td>0.0</td>\n",
       "    </tr>\n",
       "    <tr>\n",
       "      <th>4</th>\n",
       "      <td>A01B1/02</td>\n",
       "      <td>Spades; Shovels {(hand-operated dredgers E02F3...</td>\n",
       "      <td>A</td>\n",
       "      <td>1.0</td>\n",
       "      <td>B</td>\n",
       "      <td>1.0</td>\n",
       "      <td>2.0</td>\n",
       "    </tr>\n",
       "  </tbody>\n",
       "</table>\n",
       "</div>"
      ],
      "text/plain": [
       "    context                                              title section  class  \\\n",
       "0         A                                  HUMAN NECESSITIES       A    NaN   \n",
       "1       A01  AGRICULTURE; FORESTRY; ANIMAL HUSBANDRY; HUNTI...       A    1.0   \n",
       "2      A01B  SOIL WORKING IN AGRICULTURE OR FORESTRY; PARTS...       A    1.0   \n",
       "3  A01B1/00  Hand tools (edge trimmers for lawns A01G3/06  ...       A    1.0   \n",
       "4  A01B1/02  Spades; Shovels {(hand-operated dredgers E02F3...       A    1.0   \n",
       "\n",
       "  subclass  group  main_group  \n",
       "0      NaN    NaN         NaN  \n",
       "1      NaN    NaN         NaN  \n",
       "2        B    NaN         NaN  \n",
       "3        B    1.0         0.0  \n",
       "4        B    1.0         2.0  "
      ]
     },
     "metadata": {},
     "output_type": "display_data"
    },
    {
     "data": {
      "text/html": [
       "<div>\n",
       "<style scoped>\n",
       "    .dataframe tbody tr th:only-of-type {\n",
       "        vertical-align: middle;\n",
       "    }\n",
       "\n",
       "    .dataframe tbody tr th {\n",
       "        vertical-align: top;\n",
       "    }\n",
       "\n",
       "    .dataframe thead th {\n",
       "        text-align: right;\n",
       "    }\n",
       "</style>\n",
       "<table border=\"1\" class=\"dataframe\">\n",
       "  <thead>\n",
       "    <tr style=\"text-align: right;\">\n",
       "      <th></th>\n",
       "      <th>id</th>\n",
       "      <th>anchor</th>\n",
       "      <th>target</th>\n",
       "      <th>context</th>\n",
       "      <th>score</th>\n",
       "      <th>section</th>\n",
       "      <th>context_title</th>\n",
       "      <th>section_title</th>\n",
       "    </tr>\n",
       "  </thead>\n",
       "  <tbody>\n",
       "    <tr>\n",
       "      <th>0</th>\n",
       "      <td>37d61fd2272659b1</td>\n",
       "      <td>abatement</td>\n",
       "      <td>abatement of pollution</td>\n",
       "      <td>A47</td>\n",
       "      <td>0.50</td>\n",
       "      <td>A</td>\n",
       "      <td>FURNITURE; DOMESTIC ARTICLES OR APPLIANCES; CO...</td>\n",
       "      <td>HUMAN NECESSITIES</td>\n",
       "    </tr>\n",
       "    <tr>\n",
       "      <th>1</th>\n",
       "      <td>7b9652b17b68b7a4</td>\n",
       "      <td>abatement</td>\n",
       "      <td>act of abating</td>\n",
       "      <td>A47</td>\n",
       "      <td>0.75</td>\n",
       "      <td>A</td>\n",
       "      <td>FURNITURE; DOMESTIC ARTICLES OR APPLIANCES; CO...</td>\n",
       "      <td>HUMAN NECESSITIES</td>\n",
       "    </tr>\n",
       "    <tr>\n",
       "      <th>2</th>\n",
       "      <td>36d72442aefd8232</td>\n",
       "      <td>abatement</td>\n",
       "      <td>active catalyst</td>\n",
       "      <td>A47</td>\n",
       "      <td>0.25</td>\n",
       "      <td>A</td>\n",
       "      <td>FURNITURE; DOMESTIC ARTICLES OR APPLIANCES; CO...</td>\n",
       "      <td>HUMAN NECESSITIES</td>\n",
       "    </tr>\n",
       "    <tr>\n",
       "      <th>3</th>\n",
       "      <td>5296b0c19e1ce60e</td>\n",
       "      <td>abatement</td>\n",
       "      <td>eliminating process</td>\n",
       "      <td>A47</td>\n",
       "      <td>0.50</td>\n",
       "      <td>A</td>\n",
       "      <td>FURNITURE; DOMESTIC ARTICLES OR APPLIANCES; CO...</td>\n",
       "      <td>HUMAN NECESSITIES</td>\n",
       "    </tr>\n",
       "    <tr>\n",
       "      <th>4</th>\n",
       "      <td>54c1e3b9184cb5b6</td>\n",
       "      <td>abatement</td>\n",
       "      <td>forest region</td>\n",
       "      <td>A47</td>\n",
       "      <td>0.00</td>\n",
       "      <td>A</td>\n",
       "      <td>FURNITURE; DOMESTIC ARTICLES OR APPLIANCES; CO...</td>\n",
       "      <td>HUMAN NECESSITIES</td>\n",
       "    </tr>\n",
       "  </tbody>\n",
       "</table>\n",
       "</div>"
      ],
      "text/plain": [
       "                 id     anchor                  target context  score section  \\\n",
       "0  37d61fd2272659b1  abatement  abatement of pollution     A47   0.50       A   \n",
       "1  7b9652b17b68b7a4  abatement          act of abating     A47   0.75       A   \n",
       "2  36d72442aefd8232  abatement         active catalyst     A47   0.25       A   \n",
       "3  5296b0c19e1ce60e  abatement     eliminating process     A47   0.50       A   \n",
       "4  54c1e3b9184cb5b6  abatement           forest region     A47   0.00       A   \n",
       "\n",
       "                                       context_title      section_title  \n",
       "0  FURNITURE; DOMESTIC ARTICLES OR APPLIANCES; CO...  HUMAN NECESSITIES  \n",
       "1  FURNITURE; DOMESTIC ARTICLES OR APPLIANCES; CO...  HUMAN NECESSITIES  \n",
       "2  FURNITURE; DOMESTIC ARTICLES OR APPLIANCES; CO...  HUMAN NECESSITIES  \n",
       "3  FURNITURE; DOMESTIC ARTICLES OR APPLIANCES; CO...  HUMAN NECESSITIES  \n",
       "4  FURNITURE; DOMESTIC ARTICLES OR APPLIANCES; CO...  HUMAN NECESSITIES  "
      ]
     },
     "metadata": {},
     "output_type": "display_data"
    }
   ],
   "source": [
    "train['section'] = train[\"context\"].str[0]\n",
    "print(train.shape)\n",
    "display(train.head())\n",
    "titles=titles.rename(columns={\"code\": \"context\"})\n",
    "display(titles.head())\n",
    "train = train.merge(titles[[\"context\", \"title\"]], on=\"context\").rename(columns={\"title\": \"context_title\"})\n",
    "train = train.merge(titles[[\"context\", \"title\"]].rename(columns={\"context\": \"section\"}), on=\"section\").rename(columns={\"title\": \"section_title\"})\n",
    "display(train.head())"
   ]
  },
  {
   "cell_type": "code",
   "execution_count": 15,
   "id": "fdad3316",
   "metadata": {
    "execution": {
     "iopub.execute_input": "2022-06-19T22:05:36.147057Z",
     "iopub.status.busy": "2022-06-19T22:05:36.146790Z",
     "iopub.status.idle": "2022-06-19T22:05:36.150719Z",
     "shell.execute_reply": "2022-06-19T22:05:36.149944Z"
    },
    "papermill": {
     "duration": 0.071249,
     "end_time": "2022-06-19T22:05:36.152770",
     "exception": false,
     "start_time": "2022-06-19T22:05:36.081521",
     "status": "completed"
    },
    "tags": []
   },
   "outputs": [],
   "source": [
    "logging.disable(logging.WARNING)\n",
    "warnings.simplefilter('ignore')"
   ]
  },
  {
   "cell_type": "markdown",
   "id": "dc30fc05",
   "metadata": {
    "papermill": {
     "duration": 0.06284,
     "end_time": "2022-06-19T22:05:36.279077",
     "exception": false,
     "start_time": "2022-06-19T22:05:36.216237",
     "status": "completed"
    },
    "tags": []
   },
   "source": [
    "# PatentSBerta"
   ]
  },
  {
   "cell_type": "code",
   "execution_count": 16,
   "id": "31b72162",
   "metadata": {
    "execution": {
     "iopub.execute_input": "2022-06-19T22:05:36.407564Z",
     "iopub.status.busy": "2022-06-19T22:05:36.407328Z",
     "iopub.status.idle": "2022-06-19T22:05:36.410920Z",
     "shell.execute_reply": "2022-06-19T22:05:36.410131Z"
    },
    "papermill": {
     "duration": 0.069725,
     "end_time": "2022-06-19T22:05:36.412908",
     "exception": false,
     "start_time": "2022-06-19T22:05:36.343183",
     "status": "completed"
    },
    "tags": []
   },
   "outputs": [],
   "source": [
    "#model_name = 'AI-Growth-Lab/PatentSBERTa_Kaggle_V3' #(online version)\n",
    "model_name = '../input/aigl-patentsberta-kaggle-v3'"
   ]
  },
  {
   "cell_type": "code",
   "execution_count": 17,
   "id": "1226dd99",
   "metadata": {
    "execution": {
     "iopub.execute_input": "2022-06-19T22:05:36.541301Z",
     "iopub.status.busy": "2022-06-19T22:05:36.541073Z",
     "iopub.status.idle": "2022-06-19T22:05:36.602686Z",
     "shell.execute_reply": "2022-06-19T22:05:36.601947Z"
    },
    "papermill": {
     "duration": 0.128346,
     "end_time": "2022-06-19T22:05:36.604692",
     "exception": false,
     "start_time": "2022-06-19T22:05:36.476346",
     "status": "completed"
    },
    "tags": []
   },
   "outputs": [],
   "source": [
    "tokenizer = AutoTokenizer.from_pretrained(model_name)"
   ]
  },
  {
   "cell_type": "code",
   "execution_count": 18,
   "id": "298583d5",
   "metadata": {
    "execution": {
     "iopub.execute_input": "2022-06-19T22:05:36.733529Z",
     "iopub.status.busy": "2022-06-19T22:05:36.733002Z",
     "iopub.status.idle": "2022-06-19T22:05:36.738398Z",
     "shell.execute_reply": "2022-06-19T22:05:36.737645Z"
    },
    "papermill": {
     "duration": 0.072065,
     "end_time": "2022-06-19T22:05:36.740873",
     "exception": false,
     "start_time": "2022-06-19T22:05:36.668808",
     "status": "completed"
    },
    "tags": []
   },
   "outputs": [
    {
     "data": {
      "text/plain": [
       "['<s>', '</s>', '[UNK]', '<pad>', '<mask>']"
      ]
     },
     "execution_count": 18,
     "metadata": {},
     "output_type": "execute_result"
    }
   ],
   "source": [
    "tokenizer.all_special_tokens"
   ]
  },
  {
   "cell_type": "code",
   "execution_count": 19,
   "id": "ef1aebe2",
   "metadata": {
    "execution": {
     "iopub.execute_input": "2022-06-19T22:05:36.870028Z",
     "iopub.status.busy": "2022-06-19T22:05:36.869803Z",
     "iopub.status.idle": "2022-06-19T22:05:36.876350Z",
     "shell.execute_reply": "2022-06-19T22:05:36.875726Z"
    },
    "papermill": {
     "duration": 0.072908,
     "end_time": "2022-06-19T22:05:36.878088",
     "exception": false,
     "start_time": "2022-06-19T22:05:36.805180",
     "status": "completed"
    },
    "tags": []
   },
   "outputs": [],
   "source": [
    "def clean(x):\n",
    "    t = x.lower()\n",
    "    t = t.replace(\"[\",'')\n",
    "    t = t.replace(\";\",'')\n",
    "    t = t.replace(\",\",'')\n",
    "    t = t.replace(\"]\",'')\n",
    "    t = t.replace(\":\",'')\n",
    "    t = t.replace(\"(\",'')\n",
    "    t = t.replace(\")\",'')\n",
    "    t = t.replace(\"{\",'')\n",
    "    t = t.replace(\"}\",'')\n",
    "    t = t.replace(\"/\",' ')\n",
    "    t = t.replace(\"-\",' ')\n",
    "    return t"
   ]
  },
  {
   "cell_type": "code",
   "execution_count": 20,
   "id": "8265c3c8",
   "metadata": {
    "execution": {
     "iopub.execute_input": "2022-06-19T22:05:37.007838Z",
     "iopub.status.busy": "2022-06-19T22:05:37.007121Z",
     "iopub.status.idle": "2022-06-19T22:05:37.088326Z",
     "shell.execute_reply": "2022-06-19T22:05:37.087631Z"
    },
    "papermill": {
     "duration": 0.147965,
     "end_time": "2022-06-19T22:05:37.090273",
     "exception": false,
     "start_time": "2022-06-19T22:05:36.942308",
     "status": "completed"
    },
    "tags": []
   },
   "outputs": [],
   "source": [
    "train[\"inputs\"] = train[\"section_title\"].apply(clean) + \" [SEP] \" + train[\"anchor\"] + \" [SEP] \" + train[\"target\"]"
   ]
  },
  {
   "cell_type": "code",
   "execution_count": 21,
   "id": "af8f2f30",
   "metadata": {
    "execution": {
     "iopub.execute_input": "2022-06-19T22:05:37.220262Z",
     "iopub.status.busy": "2022-06-19T22:05:37.220032Z",
     "iopub.status.idle": "2022-06-19T22:05:37.223514Z",
     "shell.execute_reply": "2022-06-19T22:05:37.222857Z"
    },
    "papermill": {
     "duration": 0.069804,
     "end_time": "2022-06-19T22:05:37.225275",
     "exception": false,
     "start_time": "2022-06-19T22:05:37.155471",
     "status": "completed"
    },
    "tags": []
   },
   "outputs": [],
   "source": [
    "def tok_func(x):\n",
    "    return tokenizer(x[\"inputs\"])"
   ]
  },
  {
   "cell_type": "code",
   "execution_count": 22,
   "id": "08d31ced",
   "metadata": {
    "execution": {
     "iopub.execute_input": "2022-06-19T22:05:37.354502Z",
     "iopub.status.busy": "2022-06-19T22:05:37.354280Z",
     "iopub.status.idle": "2022-06-19T22:05:37.396887Z",
     "shell.execute_reply": "2022-06-19T22:05:37.396170Z"
    },
    "papermill": {
     "duration": 0.109708,
     "end_time": "2022-06-19T22:05:37.398718",
     "exception": false,
     "start_time": "2022-06-19T22:05:37.289010",
     "status": "completed"
    },
    "tags": []
   },
   "outputs": [],
   "source": [
    "train_ds = Dataset.from_pandas(train).rename_column('score', 'label')"
   ]
  },
  {
   "cell_type": "code",
   "execution_count": 23,
   "id": "5114290e",
   "metadata": {
    "execution": {
     "iopub.execute_input": "2022-06-19T22:05:37.527577Z",
     "iopub.status.busy": "2022-06-19T22:05:37.527363Z",
     "iopub.status.idle": "2022-06-19T22:05:40.128285Z",
     "shell.execute_reply": "2022-06-19T22:05:40.127579Z"
    },
    "papermill": {
     "duration": 2.66762,
     "end_time": "2022-06-19T22:05:40.130158",
     "exception": false,
     "start_time": "2022-06-19T22:05:37.462538",
     "status": "completed"
    },
    "tags": []
   },
   "outputs": [
    {
     "data": {
      "application/vnd.jupyter.widget-view+json": {
       "model_id": "6ffeba9a817e42c5afbdf90cb93c111e",
       "version_major": 2,
       "version_minor": 0
      },
      "text/plain": [
       "  0%|          | 0/37 [00:00<?, ?ba/s]"
      ]
     },
     "metadata": {},
     "output_type": "display_data"
    }
   ],
   "source": [
    "inps = \"anchor\",\"target\",\"context\",\"context_title\",\"section_title\"\n",
    "tok_ds = train_ds.map(tok_func, batched=True, remove_columns=inps+('inputs','id','section'))"
   ]
  },
  {
   "cell_type": "code",
   "execution_count": 24,
   "id": "f5baa88b",
   "metadata": {
    "execution": {
     "iopub.execute_input": "2022-06-19T22:05:40.262357Z",
     "iopub.status.busy": "2022-06-19T22:05:40.261627Z",
     "iopub.status.idle": "2022-06-19T22:05:40.267530Z",
     "shell.execute_reply": "2022-06-19T22:05:40.266539Z"
    },
    "papermill": {
     "duration": 0.073513,
     "end_time": "2022-06-19T22:05:40.269292",
     "exception": false,
     "start_time": "2022-06-19T22:05:40.195779",
     "status": "completed"
    },
    "tags": []
   },
   "outputs": [
    {
     "data": {
      "text/plain": [
       "Dataset({\n",
       "    features: ['label', '__index_level_0__', 'input_ids', 'attention_mask'],\n",
       "    num_rows: 36473\n",
       "})"
      ]
     },
     "execution_count": 24,
     "metadata": {},
     "output_type": "execute_result"
    }
   ],
   "source": [
    "tok_ds"
   ]
  },
  {
   "cell_type": "code",
   "execution_count": 25,
   "id": "4a00bc2b",
   "metadata": {
    "execution": {
     "iopub.execute_input": "2022-06-19T22:05:40.400941Z",
     "iopub.status.busy": "2022-06-19T22:05:40.400435Z",
     "iopub.status.idle": "2022-06-19T22:05:40.404290Z",
     "shell.execute_reply": "2022-06-19T22:05:40.403649Z"
    },
    "papermill": {
     "duration": 0.070803,
     "end_time": "2022-06-19T22:05:40.405913",
     "exception": false,
     "start_time": "2022-06-19T22:05:40.335110",
     "status": "completed"
    },
    "tags": []
   },
   "outputs": [],
   "source": [
    "# bs - batch size\n",
    "lr,bs = 8e-5,64\n",
    "# wd: weight decay\n",
    "wd,epochs = 0.01,4"
   ]
  },
  {
   "cell_type": "code",
   "execution_count": 26,
   "id": "1ff30b6d",
   "metadata": {
    "execution": {
     "iopub.execute_input": "2022-06-19T22:05:40.536143Z",
     "iopub.status.busy": "2022-06-19T22:05:40.535552Z",
     "iopub.status.idle": "2022-06-19T22:05:40.542421Z",
     "shell.execute_reply": "2022-06-19T22:05:40.541839Z"
    },
    "papermill": {
     "duration": 0.073982,
     "end_time": "2022-06-19T22:05:40.544086",
     "exception": false,
     "start_time": "2022-06-19T22:05:40.470104",
     "status": "completed"
    },
    "tags": []
   },
   "outputs": [],
   "source": [
    "anchors = train[\"anchor\"].unique()\n",
    "np.random.shuffle(anchors)"
   ]
  },
  {
   "cell_type": "code",
   "execution_count": 27,
   "id": "14cd7c08",
   "metadata": {
    "execution": {
     "iopub.execute_input": "2022-06-19T22:05:40.675597Z",
     "iopub.status.busy": "2022-06-19T22:05:40.674275Z",
     "iopub.status.idle": "2022-06-19T22:05:40.678571Z",
     "shell.execute_reply": "2022-06-19T22:05:40.677942Z"
    },
    "papermill": {
     "duration": 0.071461,
     "end_time": "2022-06-19T22:05:40.680234",
     "exception": false,
     "start_time": "2022-06-19T22:05:40.608773",
     "status": "completed"
    },
    "tags": []
   },
   "outputs": [],
   "source": [
    "val_prop = 0.25\n",
    "val_sz = int(len(anchors)*val_prop)\n",
    "val_anchors = anchors[:val_sz]"
   ]
  },
  {
   "cell_type": "code",
   "execution_count": 28,
   "id": "ea0cdac4",
   "metadata": {
    "execution": {
     "iopub.execute_input": "2022-06-19T22:05:40.812645Z",
     "iopub.status.busy": "2022-06-19T22:05:40.812119Z",
     "iopub.status.idle": "2022-06-19T22:05:41.031765Z",
     "shell.execute_reply": "2022-06-19T22:05:41.030983Z"
    },
    "papermill": {
     "duration": 0.288548,
     "end_time": "2022-06-19T22:05:41.033632",
     "exception": false,
     "start_time": "2022-06-19T22:05:40.745084",
     "status": "completed"
    },
    "tags": []
   },
   "outputs": [
    {
     "data": {
      "text/plain": [
       "(9226, 27247)"
      ]
     },
     "execution_count": 28,
     "metadata": {},
     "output_type": "execute_result"
    }
   ],
   "source": [
    "is_val = np.isin(train.anchor, val_anchors)\n",
    "idxs = np.arange(len(train))\n",
    "val_idxs = idxs[ is_val]\n",
    "trn_idxs = idxs[~is_val]\n",
    "len(val_idxs),len(trn_idxs)"
   ]
  },
  {
   "cell_type": "code",
   "execution_count": 29,
   "id": "e9830bfc",
   "metadata": {
    "execution": {
     "iopub.execute_input": "2022-06-19T22:05:41.165788Z",
     "iopub.status.busy": "2022-06-19T22:05:41.165575Z",
     "iopub.status.idle": "2022-06-19T22:05:41.183844Z",
     "shell.execute_reply": "2022-06-19T22:05:41.183214Z"
    },
    "papermill": {
     "duration": 0.086369,
     "end_time": "2022-06-19T22:05:41.185604",
     "exception": false,
     "start_time": "2022-06-19T22:05:41.099235",
     "status": "completed"
    },
    "tags": []
   },
   "outputs": [],
   "source": [
    "dds = DatasetDict({\"train\":tok_ds.select(trn_idxs),\n",
    "             \"test\": tok_ds.select(val_idxs)})"
   ]
  },
  {
   "cell_type": "code",
   "execution_count": 30,
   "id": "194233b1",
   "metadata": {
    "execution": {
     "iopub.execute_input": "2022-06-19T22:05:41.318207Z",
     "iopub.status.busy": "2022-06-19T22:05:41.317718Z",
     "iopub.status.idle": "2022-06-19T22:05:41.321910Z",
     "shell.execute_reply": "2022-06-19T22:05:41.321128Z"
    },
    "papermill": {
     "duration": 0.071994,
     "end_time": "2022-06-19T22:05:41.323835",
     "exception": false,
     "start_time": "2022-06-19T22:05:41.251841",
     "status": "completed"
    },
    "tags": []
   },
   "outputs": [],
   "source": [
    "def corr(eval_pred): \n",
    "    logits, labels = eval_pred\n",
    "    logits = logits.reshape(-1)\n",
    "    return {'pearson': np.corrcoef(logits, labels)[0][1]}"
   ]
  },
  {
   "cell_type": "code",
   "execution_count": 31,
   "id": "17252697",
   "metadata": {
    "execution": {
     "iopub.execute_input": "2022-06-19T22:05:41.457591Z",
     "iopub.status.busy": "2022-06-19T22:05:41.457101Z",
     "iopub.status.idle": "2022-06-19T22:05:41.515977Z",
     "shell.execute_reply": "2022-06-19T22:05:41.515064Z"
    },
    "papermill": {
     "duration": 0.127522,
     "end_time": "2022-06-19T22:05:41.518002",
     "exception": false,
     "start_time": "2022-06-19T22:05:41.390480",
     "status": "completed"
    },
    "tags": []
   },
   "outputs": [],
   "source": [
    "#args = TrainingArguments('outputs', learning_rate=lr, warmup_ratio=0.1, lr_scheduler_type='cosine', fp16=True,\n",
    "    #evaluation_strategy=\"epoch\", per_device_train_batch_size=bs, per_device_eval_batch_size=bs*2,\n",
    "     #num_train_epochs=epochs, weight_decay=wd, report_to='none')\n",
    "args = TrainingArguments('outputs', learning_rate=lr, warmup_ratio=0.1, lr_scheduler_type='cosine',\n",
    "    evaluation_strategy=\"epoch\", per_device_train_batch_size=bs, per_device_eval_batch_size=bs*2,\n",
    "    num_train_epochs=epochs, weight_decay=wd, report_to='none')"
   ]
  },
  {
   "cell_type": "code",
   "execution_count": 32,
   "id": "5308faf2",
   "metadata": {
    "execution": {
     "iopub.execute_input": "2022-06-19T22:05:41.649303Z",
     "iopub.status.busy": "2022-06-19T22:05:41.648697Z",
     "iopub.status.idle": "2022-06-19T22:05:51.103538Z",
     "shell.execute_reply": "2022-06-19T22:05:51.102830Z"
    },
    "papermill": {
     "duration": 9.522359,
     "end_time": "2022-06-19T22:05:51.105942",
     "exception": false,
     "start_time": "2022-06-19T22:05:41.583583",
     "status": "completed"
    },
    "tags": []
   },
   "outputs": [],
   "source": [
    "model = AutoModelForSequenceClassification.from_pretrained(model_name, num_labels=1, ignore_mismatched_sizes=True)\n",
    "trainer = Trainer(model, args, train_dataset=dds['train'], eval_dataset=dds['test'],\n",
    "               tokenizer=tokenizer, compute_metrics=corr)"
   ]
  },
  {
   "cell_type": "code",
   "execution_count": 33,
   "id": "141f7e4e",
   "metadata": {
    "execution": {
     "iopub.execute_input": "2022-06-19T22:05:51.237377Z",
     "iopub.status.busy": "2022-06-19T22:05:51.237163Z",
     "iopub.status.idle": "2022-06-19T22:05:51.241832Z",
     "shell.execute_reply": "2022-06-19T22:05:51.241205Z"
    },
    "papermill": {
     "duration": 0.072237,
     "end_time": "2022-06-19T22:05:51.243623",
     "exception": false,
     "start_time": "2022-06-19T22:05:51.171386",
     "status": "completed"
    },
    "tags": []
   },
   "outputs": [
    {
     "data": {
      "text/plain": [
       "Dataset({\n",
       "    features: ['label', '__index_level_0__', 'input_ids', 'attention_mask'],\n",
       "    num_rows: 27247\n",
       "})"
      ]
     },
     "execution_count": 33,
     "metadata": {},
     "output_type": "execute_result"
    }
   ],
   "source": [
    "dds['train']"
   ]
  },
  {
   "cell_type": "code",
   "execution_count": 34,
   "id": "381d273e",
   "metadata": {
    "execution": {
     "iopub.execute_input": "2022-06-19T22:05:51.375227Z",
     "iopub.status.busy": "2022-06-19T22:05:51.374620Z",
     "iopub.status.idle": "2022-06-19T22:06:00.169747Z",
     "shell.execute_reply": "2022-06-19T22:06:00.169133Z"
    },
    "papermill": {
     "duration": 8.863312,
     "end_time": "2022-06-19T22:06:00.171623",
     "exception": false,
     "start_time": "2022-06-19T22:05:51.308311",
     "status": "completed"
    },
    "tags": []
   },
   "outputs": [
    {
     "data": {
      "text/html": [
       "\n",
       "    <div>\n",
       "      \n",
       "      <progress value='74' max='73' style='width:300px; height:20px; vertical-align: middle;'></progress>\n",
       "      [73/73 00:09]\n",
       "    </div>\n",
       "    "
      ],
      "text/plain": [
       "<IPython.core.display.HTML object>"
      ]
     },
     "metadata": {},
     "output_type": "display_data"
    }
   ],
   "source": [
    "eval = trainer.evaluate()"
   ]
  },
  {
   "cell_type": "code",
   "execution_count": 35,
   "id": "e944df0c",
   "metadata": {
    "execution": {
     "iopub.execute_input": "2022-06-19T22:06:00.306296Z",
     "iopub.status.busy": "2022-06-19T22:06:00.306078Z",
     "iopub.status.idle": "2022-06-19T22:06:00.311212Z",
     "shell.execute_reply": "2022-06-19T22:06:00.310539Z"
    },
    "papermill": {
     "duration": 0.073281,
     "end_time": "2022-06-19T22:06:00.313334",
     "exception": false,
     "start_time": "2022-06-19T22:06:00.240053",
     "status": "completed"
    },
    "tags": []
   },
   "outputs": [
    {
     "data": {
      "text/plain": [
       "{'eval_loss': 0.011147510260343552,\n",
       " 'eval_pearson': 0.9242421469310065,\n",
       " 'eval_runtime': 8.789,\n",
       " 'eval_samples_per_second': 1049.727,\n",
       " 'eval_steps_per_second': 8.306}"
      ]
     },
     "execution_count": 35,
     "metadata": {},
     "output_type": "execute_result"
    }
   ],
   "source": [
    "eval"
   ]
  },
  {
   "cell_type": "code",
   "execution_count": 36,
   "id": "d6ee6073",
   "metadata": {
    "execution": {
     "iopub.execute_input": "2022-06-19T22:06:00.448375Z",
     "iopub.status.busy": "2022-06-19T22:06:00.447711Z",
     "iopub.status.idle": "2022-06-19T22:06:00.453272Z",
     "shell.execute_reply": "2022-06-19T22:06:00.452603Z"
    },
    "papermill": {
     "duration": 0.075373,
     "end_time": "2022-06-19T22:06:00.454930",
     "exception": false,
     "start_time": "2022-06-19T22:06:00.379557",
     "status": "completed"
    },
    "tags": []
   },
   "outputs": [
    {
     "data": {
      "text/plain": [
       "1743808"
      ]
     },
     "execution_count": 36,
     "metadata": {},
     "output_type": "execute_result"
    }
   ],
   "source": [
    "trainer.num_examples(dds['train'])"
   ]
  },
  {
   "cell_type": "code",
   "execution_count": 37,
   "id": "dbba0f55",
   "metadata": {
    "execution": {
     "iopub.execute_input": "2022-06-19T22:06:00.590148Z",
     "iopub.status.busy": "2022-06-19T22:06:00.589907Z",
     "iopub.status.idle": "2022-06-19T22:06:00.593056Z",
     "shell.execute_reply": "2022-06-19T22:06:00.592397Z"
    },
    "papermill": {
     "duration": 0.072372,
     "end_time": "2022-06-19T22:06:00.594674",
     "exception": false,
     "start_time": "2022-06-19T22:06:00.522302",
     "status": "completed"
    },
    "tags": []
   },
   "outputs": [],
   "source": [
    "#trainer.save_model()"
   ]
  },
  {
   "cell_type": "markdown",
   "id": "833d2c9c",
   "metadata": {
    "papermill": {
     "duration": 0.066527,
     "end_time": "2022-06-19T22:06:00.728683",
     "exception": false,
     "start_time": "2022-06-19T22:06:00.662156",
     "status": "completed"
    },
    "tags": []
   },
   "source": [
    "# Test corpus preprocessing"
   ]
  },
  {
   "cell_type": "code",
   "execution_count": 38,
   "id": "c8cad377",
   "metadata": {
    "execution": {
     "iopub.execute_input": "2022-06-19T22:06:00.864704Z",
     "iopub.status.busy": "2022-06-19T22:06:00.864050Z",
     "iopub.status.idle": "2022-06-19T22:06:00.874028Z",
     "shell.execute_reply": "2022-06-19T22:06:00.873357Z"
    },
    "papermill": {
     "duration": 0.080294,
     "end_time": "2022-06-19T22:06:00.875662",
     "exception": false,
     "start_time": "2022-06-19T22:06:00.795368",
     "status": "completed"
    },
    "tags": []
   },
   "outputs": [
    {
     "data": {
      "text/html": [
       "<div>\n",
       "<style scoped>\n",
       "    .dataframe tbody tr th:only-of-type {\n",
       "        vertical-align: middle;\n",
       "    }\n",
       "\n",
       "    .dataframe tbody tr th {\n",
       "        vertical-align: top;\n",
       "    }\n",
       "\n",
       "    .dataframe thead th {\n",
       "        text-align: right;\n",
       "    }\n",
       "</style>\n",
       "<table border=\"1\" class=\"dataframe\">\n",
       "  <thead>\n",
       "    <tr style=\"text-align: right;\">\n",
       "      <th></th>\n",
       "      <th>id</th>\n",
       "      <th>anchor</th>\n",
       "      <th>target</th>\n",
       "      <th>context</th>\n",
       "    </tr>\n",
       "  </thead>\n",
       "  <tbody>\n",
       "    <tr>\n",
       "      <th>0</th>\n",
       "      <td>4112d61851461f60</td>\n",
       "      <td>opc drum</td>\n",
       "      <td>inorganic photoconductor drum</td>\n",
       "      <td>G02</td>\n",
       "    </tr>\n",
       "    <tr>\n",
       "      <th>1</th>\n",
       "      <td>09e418c93a776564</td>\n",
       "      <td>adjust gas flow</td>\n",
       "      <td>altering gas flow</td>\n",
       "      <td>F23</td>\n",
       "    </tr>\n",
       "    <tr>\n",
       "      <th>2</th>\n",
       "      <td>36baf228038e314b</td>\n",
       "      <td>lower trunnion</td>\n",
       "      <td>lower locating</td>\n",
       "      <td>B60</td>\n",
       "    </tr>\n",
       "    <tr>\n",
       "      <th>3</th>\n",
       "      <td>1f37ead645e7f0c8</td>\n",
       "      <td>cap component</td>\n",
       "      <td>upper portion</td>\n",
       "      <td>D06</td>\n",
       "    </tr>\n",
       "    <tr>\n",
       "      <th>4</th>\n",
       "      <td>71a5b6ad068d531f</td>\n",
       "      <td>neural stimulation</td>\n",
       "      <td>artificial neural network</td>\n",
       "      <td>H04</td>\n",
       "    </tr>\n",
       "  </tbody>\n",
       "</table>\n",
       "</div>"
      ],
      "text/plain": [
       "                 id              anchor                         target context\n",
       "0  4112d61851461f60            opc drum  inorganic photoconductor drum     G02\n",
       "1  09e418c93a776564     adjust gas flow              altering gas flow     F23\n",
       "2  36baf228038e314b      lower trunnion                 lower locating     B60\n",
       "3  1f37ead645e7f0c8       cap component                  upper portion     D06\n",
       "4  71a5b6ad068d531f  neural stimulation      artificial neural network     H04"
      ]
     },
     "execution_count": 38,
     "metadata": {},
     "output_type": "execute_result"
    }
   ],
   "source": [
    "test.head()"
   ]
  },
  {
   "cell_type": "code",
   "execution_count": 39,
   "id": "452578f4",
   "metadata": {
    "execution": {
     "iopub.execute_input": "2022-06-19T22:06:01.011311Z",
     "iopub.status.busy": "2022-06-19T22:06:01.011079Z",
     "iopub.status.idle": "2022-06-19T22:06:01.203041Z",
     "shell.execute_reply": "2022-06-19T22:06:01.202308Z"
    },
    "papermill": {
     "duration": 0.262912,
     "end_time": "2022-06-19T22:06:01.204942",
     "exception": false,
     "start_time": "2022-06-19T22:06:00.942030",
     "status": "completed"
    },
    "tags": []
   },
   "outputs": [
    {
     "name": "stdout",
     "output_type": "stream",
     "text": [
      "(36, 5)\n"
     ]
    },
    {
     "data": {
      "text/html": [
       "<div>\n",
       "<style scoped>\n",
       "    .dataframe tbody tr th:only-of-type {\n",
       "        vertical-align: middle;\n",
       "    }\n",
       "\n",
       "    .dataframe tbody tr th {\n",
       "        vertical-align: top;\n",
       "    }\n",
       "\n",
       "    .dataframe thead th {\n",
       "        text-align: right;\n",
       "    }\n",
       "</style>\n",
       "<table border=\"1\" class=\"dataframe\">\n",
       "  <thead>\n",
       "    <tr style=\"text-align: right;\">\n",
       "      <th></th>\n",
       "      <th>context</th>\n",
       "      <th>title</th>\n",
       "      <th>section</th>\n",
       "      <th>class</th>\n",
       "      <th>subclass</th>\n",
       "      <th>group</th>\n",
       "      <th>main_group</th>\n",
       "    </tr>\n",
       "  </thead>\n",
       "  <tbody>\n",
       "    <tr>\n",
       "      <th>0</th>\n",
       "      <td>A</td>\n",
       "      <td>HUMAN NECESSITIES</td>\n",
       "      <td>A</td>\n",
       "      <td>NaN</td>\n",
       "      <td>NaN</td>\n",
       "      <td>NaN</td>\n",
       "      <td>NaN</td>\n",
       "    </tr>\n",
       "    <tr>\n",
       "      <th>1</th>\n",
       "      <td>A01</td>\n",
       "      <td>AGRICULTURE; FORESTRY; ANIMAL HUSBANDRY; HUNTI...</td>\n",
       "      <td>A</td>\n",
       "      <td>1.0</td>\n",
       "      <td>NaN</td>\n",
       "      <td>NaN</td>\n",
       "      <td>NaN</td>\n",
       "    </tr>\n",
       "    <tr>\n",
       "      <th>2</th>\n",
       "      <td>A01B</td>\n",
       "      <td>SOIL WORKING IN AGRICULTURE OR FORESTRY; PARTS...</td>\n",
       "      <td>A</td>\n",
       "      <td>1.0</td>\n",
       "      <td>B</td>\n",
       "      <td>NaN</td>\n",
       "      <td>NaN</td>\n",
       "    </tr>\n",
       "    <tr>\n",
       "      <th>3</th>\n",
       "      <td>A01B1/00</td>\n",
       "      <td>Hand tools (edge trimmers for lawns A01G3/06  ...</td>\n",
       "      <td>A</td>\n",
       "      <td>1.0</td>\n",
       "      <td>B</td>\n",
       "      <td>1.0</td>\n",
       "      <td>0.0</td>\n",
       "    </tr>\n",
       "    <tr>\n",
       "      <th>4</th>\n",
       "      <td>A01B1/02</td>\n",
       "      <td>Spades; Shovels {(hand-operated dredgers E02F3...</td>\n",
       "      <td>A</td>\n",
       "      <td>1.0</td>\n",
       "      <td>B</td>\n",
       "      <td>1.0</td>\n",
       "      <td>2.0</td>\n",
       "    </tr>\n",
       "  </tbody>\n",
       "</table>\n",
       "</div>"
      ],
      "text/plain": [
       "    context                                              title section  class  \\\n",
       "0         A                                  HUMAN NECESSITIES       A    NaN   \n",
       "1       A01  AGRICULTURE; FORESTRY; ANIMAL HUSBANDRY; HUNTI...       A    1.0   \n",
       "2      A01B  SOIL WORKING IN AGRICULTURE OR FORESTRY; PARTS...       A    1.0   \n",
       "3  A01B1/00  Hand tools (edge trimmers for lawns A01G3/06  ...       A    1.0   \n",
       "4  A01B1/02  Spades; Shovels {(hand-operated dredgers E02F3...       A    1.0   \n",
       "\n",
       "  subclass  group  main_group  \n",
       "0      NaN    NaN         NaN  \n",
       "1      NaN    NaN         NaN  \n",
       "2        B    NaN         NaN  \n",
       "3        B    1.0         0.0  \n",
       "4        B    1.0         2.0  "
      ]
     },
     "metadata": {},
     "output_type": "display_data"
    },
    {
     "data": {
      "text/html": [
       "<div>\n",
       "<style scoped>\n",
       "    .dataframe tbody tr th:only-of-type {\n",
       "        vertical-align: middle;\n",
       "    }\n",
       "\n",
       "    .dataframe tbody tr th {\n",
       "        vertical-align: top;\n",
       "    }\n",
       "\n",
       "    .dataframe thead th {\n",
       "        text-align: right;\n",
       "    }\n",
       "</style>\n",
       "<table border=\"1\" class=\"dataframe\">\n",
       "  <thead>\n",
       "    <tr style=\"text-align: right;\">\n",
       "      <th></th>\n",
       "      <th>id</th>\n",
       "      <th>anchor</th>\n",
       "      <th>target</th>\n",
       "      <th>context</th>\n",
       "      <th>section</th>\n",
       "      <th>context_title</th>\n",
       "      <th>section_title</th>\n",
       "    </tr>\n",
       "  </thead>\n",
       "  <tbody>\n",
       "    <tr>\n",
       "      <th>0</th>\n",
       "      <td>4112d61851461f60</td>\n",
       "      <td>opc drum</td>\n",
       "      <td>inorganic photoconductor drum</td>\n",
       "      <td>G02</td>\n",
       "      <td>G</td>\n",
       "      <td>OPTICS</td>\n",
       "      <td>PHYSICS</td>\n",
       "    </tr>\n",
       "    <tr>\n",
       "      <th>1</th>\n",
       "      <td>5203a36c501f1b7c</td>\n",
       "      <td>generate in layer</td>\n",
       "      <td>generate by layer</td>\n",
       "      <td>G02</td>\n",
       "      <td>G</td>\n",
       "      <td>OPTICS</td>\n",
       "      <td>PHYSICS</td>\n",
       "    </tr>\n",
       "    <tr>\n",
       "      <th>2</th>\n",
       "      <td>7aa5908a77a7ec24</td>\n",
       "      <td>el display</td>\n",
       "      <td>illumination</td>\n",
       "      <td>G02</td>\n",
       "      <td>G</td>\n",
       "      <td>OPTICS</td>\n",
       "      <td>PHYSICS</td>\n",
       "    </tr>\n",
       "    <tr>\n",
       "      <th>3</th>\n",
       "      <td>442c114ed5c4e3c9</td>\n",
       "      <td>tunneling capacitor</td>\n",
       "      <td>capacitor housing</td>\n",
       "      <td>G11</td>\n",
       "      <td>G</td>\n",
       "      <td>INFORMATION STORAGE</td>\n",
       "      <td>PHYSICS</td>\n",
       "    </tr>\n",
       "    <tr>\n",
       "      <th>4</th>\n",
       "      <td>12ca31f018a2e2b9</td>\n",
       "      <td>speed control means</td>\n",
       "      <td>control loop</td>\n",
       "      <td>G05</td>\n",
       "      <td>G</td>\n",
       "      <td>CONTROLLING; REGULATING</td>\n",
       "      <td>PHYSICS</td>\n",
       "    </tr>\n",
       "  </tbody>\n",
       "</table>\n",
       "</div>"
      ],
      "text/plain": [
       "                 id               anchor                         target  \\\n",
       "0  4112d61851461f60             opc drum  inorganic photoconductor drum   \n",
       "1  5203a36c501f1b7c    generate in layer              generate by layer   \n",
       "2  7aa5908a77a7ec24           el display                   illumination   \n",
       "3  442c114ed5c4e3c9  tunneling capacitor              capacitor housing   \n",
       "4  12ca31f018a2e2b9  speed control means                   control loop   \n",
       "\n",
       "  context section            context_title section_title  \n",
       "0     G02       G                   OPTICS       PHYSICS  \n",
       "1     G02       G                   OPTICS       PHYSICS  \n",
       "2     G02       G                   OPTICS       PHYSICS  \n",
       "3     G11       G      INFORMATION STORAGE       PHYSICS  \n",
       "4     G05       G  CONTROLLING; REGULATING       PHYSICS  "
      ]
     },
     "metadata": {},
     "output_type": "display_data"
    }
   ],
   "source": [
    "test['section'] = test[\"context\"].str[0]\n",
    "print(test.shape)\n",
    "display(titles.head())\n",
    "test = test.merge(titles[[\"context\", \"title\"]], on=\"context\").rename(columns={\"title\": \"context_title\"})\n",
    "test = test.merge(titles[[\"context\", \"title\"]].rename(columns={\"context\": \"section\"}), on=\"section\").rename(columns={\"title\": \"section_title\"})\n",
    "display(test.head())"
   ]
  },
  {
   "cell_type": "code",
   "execution_count": 40,
   "id": "4f2a74ab",
   "metadata": {
    "execution": {
     "iopub.execute_input": "2022-06-19T22:06:01.345026Z",
     "iopub.status.busy": "2022-06-19T22:06:01.344764Z",
     "iopub.status.idle": "2022-06-19T22:06:01.350501Z",
     "shell.execute_reply": "2022-06-19T22:06:01.349883Z"
    },
    "papermill": {
     "duration": 0.078187,
     "end_time": "2022-06-19T22:06:01.352104",
     "exception": false,
     "start_time": "2022-06-19T22:06:01.273917",
     "status": "completed"
    },
    "tags": []
   },
   "outputs": [],
   "source": [
    "test[\"inputs\"] = test[\"section_title\"].apply(clean) + \" [SEP] \" + test[\"anchor\"] + \" [SEP] \" + test[\"target\"]"
   ]
  },
  {
   "cell_type": "code",
   "execution_count": 41,
   "id": "27e8f27d",
   "metadata": {
    "execution": {
     "iopub.execute_input": "2022-06-19T22:06:01.490272Z",
     "iopub.status.busy": "2022-06-19T22:06:01.490052Z",
     "iopub.status.idle": "2022-06-19T22:06:01.497188Z",
     "shell.execute_reply": "2022-06-19T22:06:01.496576Z"
    },
    "papermill": {
     "duration": 0.0772,
     "end_time": "2022-06-19T22:06:01.498753",
     "exception": false,
     "start_time": "2022-06-19T22:06:01.421553",
     "status": "completed"
    },
    "tags": []
   },
   "outputs": [],
   "source": [
    "test_ds = Dataset.from_pandas(test)"
   ]
  },
  {
   "cell_type": "code",
   "execution_count": 42,
   "id": "5f39628a",
   "metadata": {
    "execution": {
     "iopub.execute_input": "2022-06-19T22:06:01.636231Z",
     "iopub.status.busy": "2022-06-19T22:06:01.635618Z",
     "iopub.status.idle": "2022-06-19T22:06:01.640330Z",
     "shell.execute_reply": "2022-06-19T22:06:01.639701Z"
    },
    "papermill": {
     "duration": 0.075518,
     "end_time": "2022-06-19T22:06:01.641906",
     "exception": false,
     "start_time": "2022-06-19T22:06:01.566388",
     "status": "completed"
    },
    "tags": []
   },
   "outputs": [
    {
     "data": {
      "text/plain": [
       "Dataset({\n",
       "    features: ['id', 'anchor', 'target', 'context', 'section', 'context_title', 'section_title', 'inputs', '__index_level_0__'],\n",
       "    num_rows: 36\n",
       "})"
      ]
     },
     "execution_count": 42,
     "metadata": {},
     "output_type": "execute_result"
    }
   ],
   "source": [
    "test_ds"
   ]
  },
  {
   "cell_type": "code",
   "execution_count": 43,
   "id": "e2430167",
   "metadata": {
    "execution": {
     "iopub.execute_input": "2022-06-19T22:06:01.781769Z",
     "iopub.status.busy": "2022-06-19T22:06:01.781216Z",
     "iopub.status.idle": "2022-06-19T22:06:01.831052Z",
     "shell.execute_reply": "2022-06-19T22:06:01.830437Z"
    },
    "papermill": {
     "duration": 0.120985,
     "end_time": "2022-06-19T22:06:01.832711",
     "exception": false,
     "start_time": "2022-06-19T22:06:01.711726",
     "status": "completed"
    },
    "tags": []
   },
   "outputs": [
    {
     "data": {
      "application/vnd.jupyter.widget-view+json": {
       "model_id": "d884130b3dfb4f879a19eac908ad93e3",
       "version_major": 2,
       "version_minor": 0
      },
      "text/plain": [
       "  0%|          | 0/1 [00:00<?, ?ba/s]"
      ]
     },
     "metadata": {},
     "output_type": "display_data"
    }
   ],
   "source": [
    "inps = \"anchor\",\"target\",\"context\",\"context_title\",\"section_title\"\n",
    "test_tok_ds = test_ds.map(tok_func, batched=True, remove_columns=inps+('inputs','id','section'))"
   ]
  },
  {
   "cell_type": "code",
   "execution_count": 44,
   "id": "7590a5d0",
   "metadata": {
    "execution": {
     "iopub.execute_input": "2022-06-19T22:06:01.972376Z",
     "iopub.status.busy": "2022-06-19T22:06:01.971823Z",
     "iopub.status.idle": "2022-06-19T22:06:02.019216Z",
     "shell.execute_reply": "2022-06-19T22:06:02.018520Z"
    },
    "papermill": {
     "duration": 0.120854,
     "end_time": "2022-06-19T22:06:02.023234",
     "exception": false,
     "start_time": "2022-06-19T22:06:01.902380",
     "status": "completed"
    },
    "tags": []
   },
   "outputs": [
    {
     "data": {
      "text/plain": [
       "array([[ 0.48749384],\n",
       "       [ 0.948901  ],\n",
       "       [ 0.28694433],\n",
       "       [ 0.50278115],\n",
       "       [ 0.31292188],\n",
       "       [ 0.73349011],\n",
       "       [ 0.4781965 ],\n",
       "       [ 0.79074466],\n",
       "       [ 1.05603766],\n",
       "       [ 0.2435392 ],\n",
       "       [ 0.24521858],\n",
       "       [ 0.55106753],\n",
       "       [-0.01621631],\n",
       "       [ 0.5375756 ],\n",
       "       [ 0.63313073],\n",
       "       [-0.00538462],\n",
       "       [ 0.17454851],\n",
       "       [ 0.79013216],\n",
       "       [ 0.79604405],\n",
       "       [-0.00391432],\n",
       "       [ 0.27687433],\n",
       "       [ 0.27295172],\n",
       "       [ 0.52643836],\n",
       "       [ 0.3617987 ],\n",
       "       [ 0.01224874],\n",
       "       [ 0.30376944],\n",
       "       [ 0.29838696],\n",
       "       [ 0.53494966],\n",
       "       [ 0.12322883],\n",
       "       [ 0.49000978],\n",
       "       [ 0.48843858],\n",
       "       [ 0.14339146],\n",
       "       [-0.01222257],\n",
       "       [ 0.1442931 ],\n",
       "       [-0.0065867 ],\n",
       "       [-0.00724098]])"
      ]
     },
     "execution_count": 44,
     "metadata": {},
     "output_type": "execute_result"
    }
   ],
   "source": [
    "preds_sberta = trainer.predict(test_tok_ds).predictions.astype(float)\n",
    "preds_sberta"
   ]
  },
  {
   "cell_type": "code",
   "execution_count": 45,
   "id": "ddb04885",
   "metadata": {
    "execution": {
     "iopub.execute_input": "2022-06-19T22:06:02.170471Z",
     "iopub.status.busy": "2022-06-19T22:06:02.170243Z",
     "iopub.status.idle": "2022-06-19T22:06:02.174992Z",
     "shell.execute_reply": "2022-06-19T22:06:02.174336Z"
    },
    "papermill": {
     "duration": 0.077494,
     "end_time": "2022-06-19T22:06:02.176812",
     "exception": false,
     "start_time": "2022-06-19T22:06:02.099318",
     "status": "completed"
    },
    "tags": []
   },
   "outputs": [
    {
     "data": {
      "text/plain": [
       "numpy.ndarray"
      ]
     },
     "execution_count": 45,
     "metadata": {},
     "output_type": "execute_result"
    }
   ],
   "source": [
    "type(preds_sberta)"
   ]
  },
  {
   "cell_type": "code",
   "execution_count": 46,
   "id": "ff786bae",
   "metadata": {
    "execution": {
     "iopub.execute_input": "2022-06-19T22:06:02.319203Z",
     "iopub.status.busy": "2022-06-19T22:06:02.318804Z",
     "iopub.status.idle": "2022-06-19T22:06:02.322239Z",
     "shell.execute_reply": "2022-06-19T22:06:02.321618Z"
    },
    "papermill": {
     "duration": 0.075554,
     "end_time": "2022-06-19T22:06:02.323837",
     "exception": false,
     "start_time": "2022-06-19T22:06:02.248283",
     "status": "completed"
    },
    "tags": []
   },
   "outputs": [],
   "source": [
    "del model_name, tokenizer, model"
   ]
  },
  {
   "cell_type": "markdown",
   "id": "4df8bea1",
   "metadata": {
    "papermill": {
     "duration": 0.070355,
     "end_time": "2022-06-19T22:06:02.464550",
     "exception": false,
     "start_time": "2022-06-19T22:06:02.394195",
     "status": "completed"
    },
    "tags": []
   },
   "source": [
    "# Deberta-V3_small inference"
   ]
  },
  {
   "cell_type": "code",
   "execution_count": 47,
   "id": "34938b84",
   "metadata": {
    "execution": {
     "iopub.execute_input": "2022-06-19T22:06:02.605433Z",
     "iopub.status.busy": "2022-06-19T22:06:02.605192Z",
     "iopub.status.idle": "2022-06-19T22:06:02.608332Z",
     "shell.execute_reply": "2022-06-19T22:06:02.607692Z"
    },
    "papermill": {
     "duration": 0.075963,
     "end_time": "2022-06-19T22:06:02.610066",
     "exception": false,
     "start_time": "2022-06-19T22:06:02.534103",
     "status": "completed"
    },
    "tags": []
   },
   "outputs": [],
   "source": [
    "#model_name = 'microsoft/deberta-v3-small' (online version)\n",
    "model_name = '../input/debertasmallv3onpatents'"
   ]
  },
  {
   "cell_type": "code",
   "execution_count": 48,
   "id": "27ce6251",
   "metadata": {
    "execution": {
     "iopub.execute_input": "2022-06-19T22:06:02.752048Z",
     "iopub.status.busy": "2022-06-19T22:06:02.751513Z",
     "iopub.status.idle": "2022-06-19T22:06:03.418033Z",
     "shell.execute_reply": "2022-06-19T22:06:03.417253Z"
    },
    "papermill": {
     "duration": 0.739842,
     "end_time": "2022-06-19T22:06:03.420145",
     "exception": false,
     "start_time": "2022-06-19T22:06:02.680303",
     "status": "completed"
    },
    "tags": []
   },
   "outputs": [],
   "source": [
    "tokenizer = AutoTokenizer.from_pretrained(model_name)"
   ]
  },
  {
   "cell_type": "code",
   "execution_count": 49,
   "id": "0db8fe9e",
   "metadata": {
    "execution": {
     "iopub.execute_input": "2022-06-19T22:06:03.563396Z",
     "iopub.status.busy": "2022-06-19T22:06:03.562733Z",
     "iopub.status.idle": "2022-06-19T22:06:03.568019Z",
     "shell.execute_reply": "2022-06-19T22:06:03.567365Z"
    },
    "papermill": {
     "duration": 0.079001,
     "end_time": "2022-06-19T22:06:03.569807",
     "exception": false,
     "start_time": "2022-06-19T22:06:03.490806",
     "status": "completed"
    },
    "tags": []
   },
   "outputs": [
    {
     "data": {
      "text/plain": [
       "['[CLS]', '[SEP]', '[UNK]', '[PAD]', '[MASK]']"
      ]
     },
     "execution_count": 49,
     "metadata": {},
     "output_type": "execute_result"
    }
   ],
   "source": [
    "tokenizer.all_special_tokens"
   ]
  },
  {
   "cell_type": "code",
   "execution_count": 50,
   "id": "76bf8729",
   "metadata": {
    "execution": {
     "iopub.execute_input": "2022-06-19T22:06:03.711815Z",
     "iopub.status.busy": "2022-06-19T22:06:03.711233Z",
     "iopub.status.idle": "2022-06-19T22:06:07.227966Z",
     "shell.execute_reply": "2022-06-19T22:06:07.227229Z"
    },
    "papermill": {
     "duration": 3.589517,
     "end_time": "2022-06-19T22:06:07.229966",
     "exception": false,
     "start_time": "2022-06-19T22:06:03.640449",
     "status": "completed"
    },
    "tags": []
   },
   "outputs": [],
   "source": [
    "model = AutoModelForSequenceClassification.from_pretrained(model_name, num_labels=1)\n",
    "trainer = Trainer(model, args, train_dataset=dds['train'], eval_dataset=dds['test'],\n",
    "               tokenizer=tokenizer, compute_metrics=corr)"
   ]
  },
  {
   "cell_type": "code",
   "execution_count": 51,
   "id": "457290aa",
   "metadata": {
    "execution": {
     "iopub.execute_input": "2022-06-19T22:06:07.372682Z",
     "iopub.status.busy": "2022-06-19T22:06:07.372464Z",
     "iopub.status.idle": "2022-06-19T22:06:13.066179Z",
     "shell.execute_reply": "2022-06-19T22:06:13.065484Z"
    },
    "papermill": {
     "duration": 5.767402,
     "end_time": "2022-06-19T22:06:13.068027",
     "exception": false,
     "start_time": "2022-06-19T22:06:07.300625",
     "status": "completed"
    },
    "tags": []
   },
   "outputs": [
    {
     "data": {
      "text/html": [
       "\n",
       "    <div>\n",
       "      \n",
       "      <progress value='74' max='73' style='width:300px; height:20px; vertical-align: middle;'></progress>\n",
       "      [73/73 00:05]\n",
       "    </div>\n",
       "    "
      ],
      "text/plain": [
       "<IPython.core.display.HTML object>"
      ]
     },
     "metadata": {},
     "output_type": "display_data"
    },
    {
     "data": {
      "text/plain": [
       "{'eval_loss': 0.1403447985649109,\n",
       " 'eval_pearson': -0.043989092211900505,\n",
       " 'eval_runtime': 5.6849,\n",
       " 'eval_samples_per_second': 1622.884,\n",
       " 'eval_steps_per_second': 12.841}"
      ]
     },
     "execution_count": 51,
     "metadata": {},
     "output_type": "execute_result"
    }
   ],
   "source": [
    "eval_deberta = trainer.evaluate()\n",
    "eval_deberta"
   ]
  },
  {
   "cell_type": "code",
   "execution_count": 52,
   "id": "76dbea65",
   "metadata": {
    "execution": {
     "iopub.execute_input": "2022-06-19T22:06:13.214764Z",
     "iopub.status.busy": "2022-06-19T22:06:13.214537Z",
     "iopub.status.idle": "2022-06-19T22:06:13.253377Z",
     "shell.execute_reply": "2022-06-19T22:06:13.252724Z"
    },
    "papermill": {
     "duration": 0.113925,
     "end_time": "2022-06-19T22:06:13.255027",
     "exception": false,
     "start_time": "2022-06-19T22:06:13.141102",
     "status": "completed"
    },
    "tags": []
   },
   "outputs": [
    {
     "data": {
      "text/plain": [
       "array([[ 0.04539669],\n",
       "       [ 0.13152695],\n",
       "       [ 0.04126487],\n",
       "       [-0.00443338],\n",
       "       [-0.03875072],\n",
       "       [ 0.09132168],\n",
       "       [ 0.01664376],\n",
       "       [ 0.34704369],\n",
       "       [ 0.2197783 ],\n",
       "       [ 0.26519766],\n",
       "       [ 0.27005279],\n",
       "       [ 0.3074221 ],\n",
       "       [ 0.27114433],\n",
       "       [ 0.18599594],\n",
       "       [ 0.28998291],\n",
       "       [ 0.11599832],\n",
       "       [ 0.20363012],\n",
       "       [ 0.1743249 ],\n",
       "       [ 0.03201859],\n",
       "       [ 0.08715864],\n",
       "       [ 0.16021745],\n",
       "       [ 0.09304004],\n",
       "       [-0.06151205],\n",
       "       [ 0.00857009],\n",
       "       [-0.04171204],\n",
       "       [ 0.13069272],\n",
       "       [ 0.02217768],\n",
       "       [ 0.08713575],\n",
       "       [ 0.04641752],\n",
       "       [ 0.19130118],\n",
       "       [ 0.08758738],\n",
       "       [ 0.26436839],\n",
       "       [ 0.32284537],\n",
       "       [ 0.18856774],\n",
       "       [ 0.18635263],\n",
       "       [ 0.17806792]])"
      ]
     },
     "execution_count": 52,
     "metadata": {},
     "output_type": "execute_result"
    }
   ],
   "source": [
    "preds_deberta = trainer.predict(test_tok_ds).predictions.astype(float)\n",
    "preds_deberta"
   ]
  },
  {
   "cell_type": "markdown",
   "id": "85a9eab6",
   "metadata": {
    "papermill": {
     "duration": 0.071506,
     "end_time": "2022-06-19T22:06:13.400214",
     "exception": false,
     "start_time": "2022-06-19T22:06:13.328708",
     "status": "completed"
    },
    "tags": []
   },
   "source": [
    "# Ensemble"
   ]
  },
  {
   "cell_type": "markdown",
   "id": "1cee3039",
   "metadata": {
    "papermill": {
     "duration": 0.073201,
     "end_time": "2022-06-19T22:06:13.545897",
     "exception": false,
     "start_time": "2022-06-19T22:06:13.472696",
     "status": "completed"
    },
    "tags": []
   },
   "source": [
    "ensemble methode inspired by Valentin Werner's \"In Depth EDA & 3 Model Ensemble\" notebook "
   ]
  },
  {
   "cell_type": "code",
   "execution_count": 53,
   "id": "50fa2c3c",
   "metadata": {
    "execution": {
     "iopub.execute_input": "2022-06-19T22:06:13.692398Z",
     "iopub.status.busy": "2022-06-19T22:06:13.691721Z",
     "iopub.status.idle": "2022-06-19T22:06:13.695536Z",
     "shell.execute_reply": "2022-06-19T22:06:13.694864Z"
    },
    "papermill": {
     "duration": 0.078567,
     "end_time": "2022-06-19T22:06:13.697214",
     "exception": false,
     "start_time": "2022-06-19T22:06:13.618647",
     "status": "completed"
    },
    "tags": []
   },
   "outputs": [],
   "source": [
    "test_preds = 0.5 * preds_sberta + (0.5) * preds_deberta"
   ]
  },
  {
   "cell_type": "code",
   "execution_count": 54,
   "id": "a8998ac2",
   "metadata": {
    "execution": {
     "iopub.execute_input": "2022-06-19T22:06:13.845108Z",
     "iopub.status.busy": "2022-06-19T22:06:13.844265Z",
     "iopub.status.idle": "2022-06-19T22:06:13.850505Z",
     "shell.execute_reply": "2022-06-19T22:06:13.849811Z"
    },
    "papermill": {
     "duration": 0.082196,
     "end_time": "2022-06-19T22:06:13.852186",
     "exception": false,
     "start_time": "2022-06-19T22:06:13.769990",
     "status": "completed"
    },
    "tags": []
   },
   "outputs": [
    {
     "data": {
      "text/plain": [
       "array([[ 0.26644527],\n",
       "       [ 0.54021397],\n",
       "       [ 0.1641046 ],\n",
       "       [ 0.24917389],\n",
       "       [ 0.13708558],\n",
       "       [ 0.4124059 ],\n",
       "       [ 0.24742013],\n",
       "       [ 0.56889418],\n",
       "       [ 0.63790798],\n",
       "       [ 0.25436843],\n",
       "       [ 0.25763568],\n",
       "       [ 0.42924482],\n",
       "       [ 0.12746401],\n",
       "       [ 0.36178577],\n",
       "       [ 0.46155682],\n",
       "       [ 0.05530685],\n",
       "       [ 0.18908931],\n",
       "       [ 0.48222853],\n",
       "       [ 0.41403132],\n",
       "       [ 0.04162216],\n",
       "       [ 0.21854589],\n",
       "       [ 0.18299588],\n",
       "       [ 0.23246315],\n",
       "       [ 0.1851844 ],\n",
       "       [-0.01473165],\n",
       "       [ 0.21723108],\n",
       "       [ 0.16028232],\n",
       "       [ 0.31104271],\n",
       "       [ 0.08482317],\n",
       "       [ 0.34065548],\n",
       "       [ 0.28801298],\n",
       "       [ 0.20387992],\n",
       "       [ 0.1553114 ],\n",
       "       [ 0.16643042],\n",
       "       [ 0.08988296],\n",
       "       [ 0.08541347]])"
      ]
     },
     "execution_count": 54,
     "metadata": {},
     "output_type": "execute_result"
    }
   ],
   "source": [
    "test_preds"
   ]
  },
  {
   "cell_type": "code",
   "execution_count": 55,
   "id": "0be1b6e3",
   "metadata": {
    "execution": {
     "iopub.execute_input": "2022-06-19T22:06:14.000438Z",
     "iopub.status.busy": "2022-06-19T22:06:14.000010Z",
     "iopub.status.idle": "2022-06-19T22:06:14.004014Z",
     "shell.execute_reply": "2022-06-19T22:06:14.003344Z"
    },
    "papermill": {
     "duration": 0.080045,
     "end_time": "2022-06-19T22:06:14.005641",
     "exception": false,
     "start_time": "2022-06-19T22:06:13.925596",
     "status": "completed"
    },
    "tags": []
   },
   "outputs": [],
   "source": [
    "df_submission = pd.DataFrame()"
   ]
  },
  {
   "cell_type": "code",
   "execution_count": 56,
   "id": "18a7f995",
   "metadata": {
    "execution": {
     "iopub.execute_input": "2022-06-19T22:06:14.153659Z",
     "iopub.status.busy": "2022-06-19T22:06:14.152986Z",
     "iopub.status.idle": "2022-06-19T22:06:14.158138Z",
     "shell.execute_reply": "2022-06-19T22:06:14.157467Z"
    },
    "papermill": {
     "duration": 0.081255,
     "end_time": "2022-06-19T22:06:14.159811",
     "exception": false,
     "start_time": "2022-06-19T22:06:14.078556",
     "status": "completed"
    },
    "tags": []
   },
   "outputs": [],
   "source": [
    "df_submission['id'] = test['id'].copy()"
   ]
  },
  {
   "cell_type": "code",
   "execution_count": 57,
   "id": "5c3f0879",
   "metadata": {
    "execution": {
     "iopub.execute_input": "2022-06-19T22:06:14.307454Z",
     "iopub.status.busy": "2022-06-19T22:06:14.306996Z",
     "iopub.status.idle": "2022-06-19T22:06:14.316396Z",
     "shell.execute_reply": "2022-06-19T22:06:14.315695Z"
    },
    "papermill": {
     "duration": 0.084383,
     "end_time": "2022-06-19T22:06:14.318086",
     "exception": false,
     "start_time": "2022-06-19T22:06:14.233703",
     "status": "completed"
    },
    "tags": []
   },
   "outputs": [
    {
     "data": {
      "text/html": [
       "<div>\n",
       "<style scoped>\n",
       "    .dataframe tbody tr th:only-of-type {\n",
       "        vertical-align: middle;\n",
       "    }\n",
       "\n",
       "    .dataframe tbody tr th {\n",
       "        vertical-align: top;\n",
       "    }\n",
       "\n",
       "    .dataframe thead th {\n",
       "        text-align: right;\n",
       "    }\n",
       "</style>\n",
       "<table border=\"1\" class=\"dataframe\">\n",
       "  <thead>\n",
       "    <tr style=\"text-align: right;\">\n",
       "      <th></th>\n",
       "      <th>id</th>\n",
       "    </tr>\n",
       "  </thead>\n",
       "  <tbody>\n",
       "    <tr>\n",
       "      <th>0</th>\n",
       "      <td>4112d61851461f60</td>\n",
       "    </tr>\n",
       "    <tr>\n",
       "      <th>1</th>\n",
       "      <td>5203a36c501f1b7c</td>\n",
       "    </tr>\n",
       "    <tr>\n",
       "      <th>2</th>\n",
       "      <td>7aa5908a77a7ec24</td>\n",
       "    </tr>\n",
       "    <tr>\n",
       "      <th>3</th>\n",
       "      <td>442c114ed5c4e3c9</td>\n",
       "    </tr>\n",
       "    <tr>\n",
       "      <th>4</th>\n",
       "      <td>12ca31f018a2e2b9</td>\n",
       "    </tr>\n",
       "    <tr>\n",
       "      <th>5</th>\n",
       "      <td>9f2279ce667b21dc</td>\n",
       "    </tr>\n",
       "    <tr>\n",
       "      <th>6</th>\n",
       "      <td>b9ea2b06a878df6f</td>\n",
       "    </tr>\n",
       "    <tr>\n",
       "      <th>7</th>\n",
       "      <td>09e418c93a776564</td>\n",
       "    </tr>\n",
       "    <tr>\n",
       "      <th>8</th>\n",
       "      <td>ae0262c02566d2ce</td>\n",
       "    </tr>\n",
       "    <tr>\n",
       "      <th>9</th>\n",
       "      <td>03ba802ed4029e4d</td>\n",
       "    </tr>\n",
       "    <tr>\n",
       "      <th>10</th>\n",
       "      <td>25522ee5411e63e9</td>\n",
       "    </tr>\n",
       "    <tr>\n",
       "      <th>11</th>\n",
       "      <td>c404f8b378cbb008</td>\n",
       "    </tr>\n",
       "    <tr>\n",
       "      <th>12</th>\n",
       "      <td>26c3c6dc6174b589</td>\n",
       "    </tr>\n",
       "    <tr>\n",
       "      <th>13</th>\n",
       "      <td>36baf228038e314b</td>\n",
       "    </tr>\n",
       "    <tr>\n",
       "      <th>14</th>\n",
       "      <td>b892011ab2e2cabc</td>\n",
       "    </tr>\n",
       "    <tr>\n",
       "      <th>15</th>\n",
       "      <td>b8ae62ea5e1d8bdb</td>\n",
       "    </tr>\n",
       "    <tr>\n",
       "      <th>16</th>\n",
       "      <td>a8808e31641e856d</td>\n",
       "    </tr>\n",
       "    <tr>\n",
       "      <th>17</th>\n",
       "      <td>25c555ca3d5a2092</td>\n",
       "    </tr>\n",
       "    <tr>\n",
       "      <th>18</th>\n",
       "      <td>b9fdc772bb8fd61c</td>\n",
       "    </tr>\n",
       "    <tr>\n",
       "      <th>19</th>\n",
       "      <td>de51114bc0faec3e</td>\n",
       "    </tr>\n",
       "    <tr>\n",
       "      <th>20</th>\n",
       "      <td>8247ff562ca185cc</td>\n",
       "    </tr>\n",
       "    <tr>\n",
       "      <th>21</th>\n",
       "      <td>1f37ead645e7f0c8</td>\n",
       "    </tr>\n",
       "    <tr>\n",
       "      <th>22</th>\n",
       "      <td>71a5b6ad068d531f</td>\n",
       "    </tr>\n",
       "    <tr>\n",
       "      <th>23</th>\n",
       "      <td>16ae4b99d3601e60</td>\n",
       "    </tr>\n",
       "    <tr>\n",
       "      <th>24</th>\n",
       "      <td>fd83613b7843f5e1</td>\n",
       "    </tr>\n",
       "    <tr>\n",
       "      <th>25</th>\n",
       "      <td>733979d75f59770d</td>\n",
       "    </tr>\n",
       "    <tr>\n",
       "      <th>26</th>\n",
       "      <td>79795133c30ef097</td>\n",
       "    </tr>\n",
       "    <tr>\n",
       "      <th>27</th>\n",
       "      <td>474c874d0c07bd21</td>\n",
       "    </tr>\n",
       "    <tr>\n",
       "      <th>28</th>\n",
       "      <td>faaddaf8fcba8a3f</td>\n",
       "    </tr>\n",
       "    <tr>\n",
       "      <th>29</th>\n",
       "      <td>2a619016908bfa45</td>\n",
       "    </tr>\n",
       "    <tr>\n",
       "      <th>30</th>\n",
       "      <td>6546846df17f9800</td>\n",
       "    </tr>\n",
       "    <tr>\n",
       "      <th>31</th>\n",
       "      <td>d19ef3979396d47e</td>\n",
       "    </tr>\n",
       "    <tr>\n",
       "      <th>32</th>\n",
       "      <td>7e3aff857f056bf9</td>\n",
       "    </tr>\n",
       "    <tr>\n",
       "      <th>33</th>\n",
       "      <td>3ff0e7a35015be69</td>\n",
       "    </tr>\n",
       "    <tr>\n",
       "      <th>34</th>\n",
       "      <td>78243984c02a72e4</td>\n",
       "    </tr>\n",
       "    <tr>\n",
       "      <th>35</th>\n",
       "      <td>c057aecbba832387</td>\n",
       "    </tr>\n",
       "  </tbody>\n",
       "</table>\n",
       "</div>"
      ],
      "text/plain": [
       "                  id\n",
       "0   4112d61851461f60\n",
       "1   5203a36c501f1b7c\n",
       "2   7aa5908a77a7ec24\n",
       "3   442c114ed5c4e3c9\n",
       "4   12ca31f018a2e2b9\n",
       "5   9f2279ce667b21dc\n",
       "6   b9ea2b06a878df6f\n",
       "7   09e418c93a776564\n",
       "8   ae0262c02566d2ce\n",
       "9   03ba802ed4029e4d\n",
       "10  25522ee5411e63e9\n",
       "11  c404f8b378cbb008\n",
       "12  26c3c6dc6174b589\n",
       "13  36baf228038e314b\n",
       "14  b892011ab2e2cabc\n",
       "15  b8ae62ea5e1d8bdb\n",
       "16  a8808e31641e856d\n",
       "17  25c555ca3d5a2092\n",
       "18  b9fdc772bb8fd61c\n",
       "19  de51114bc0faec3e\n",
       "20  8247ff562ca185cc\n",
       "21  1f37ead645e7f0c8\n",
       "22  71a5b6ad068d531f\n",
       "23  16ae4b99d3601e60\n",
       "24  fd83613b7843f5e1\n",
       "25  733979d75f59770d\n",
       "26  79795133c30ef097\n",
       "27  474c874d0c07bd21\n",
       "28  faaddaf8fcba8a3f\n",
       "29  2a619016908bfa45\n",
       "30  6546846df17f9800\n",
       "31  d19ef3979396d47e\n",
       "32  7e3aff857f056bf9\n",
       "33  3ff0e7a35015be69\n",
       "34  78243984c02a72e4\n",
       "35  c057aecbba832387"
      ]
     },
     "execution_count": 57,
     "metadata": {},
     "output_type": "execute_result"
    }
   ],
   "source": [
    "df_submission"
   ]
  },
  {
   "cell_type": "code",
   "execution_count": 58,
   "id": "a1e0eb16",
   "metadata": {
    "execution": {
     "iopub.execute_input": "2022-06-19T22:06:14.465781Z",
     "iopub.status.busy": "2022-06-19T22:06:14.465186Z",
     "iopub.status.idle": "2022-06-19T22:06:14.468587Z",
     "shell.execute_reply": "2022-06-19T22:06:14.467937Z"
    },
    "papermill": {
     "duration": 0.078649,
     "end_time": "2022-06-19T22:06:14.470193",
     "exception": false,
     "start_time": "2022-06-19T22:06:14.391544",
     "status": "completed"
    },
    "tags": []
   },
   "outputs": [],
   "source": [
    "preds_list = test_preds.tolist()"
   ]
  },
  {
   "cell_type": "code",
   "execution_count": 59,
   "id": "5d69def2",
   "metadata": {
    "execution": {
     "iopub.execute_input": "2022-06-19T22:06:14.618286Z",
     "iopub.status.busy": "2022-06-19T22:06:14.617610Z",
     "iopub.status.idle": "2022-06-19T22:06:14.623866Z",
     "shell.execute_reply": "2022-06-19T22:06:14.623163Z"
    },
    "papermill": {
     "duration": 0.082576,
     "end_time": "2022-06-19T22:06:14.625659",
     "exception": false,
     "start_time": "2022-06-19T22:06:14.543083",
     "status": "completed"
    },
    "tags": []
   },
   "outputs": [
    {
     "data": {
      "text/plain": [
       "[[0.26644526794552803],\n",
       " [0.5402139723300934],\n",
       " [0.16410459950566292],\n",
       " [0.24917388707399368],\n",
       " [0.13708557933568954],\n",
       " [0.4124058969318867],\n",
       " [0.24742013216018677],\n",
       " [0.5688941776752472],\n",
       " [0.6379079818725586],\n",
       " [0.254368431866169],\n",
       " [0.2576356828212738],\n",
       " [0.4292448163032532],\n",
       " [0.12746401224285364],\n",
       " [0.36178576946258545],\n",
       " [0.4615568220615387],\n",
       " [0.05530684860423207],\n",
       " [0.1890893131494522],\n",
       " [0.4822285324335098],\n",
       " [0.4140313193202019],\n",
       " [0.04162215767428279],\n",
       " [0.21854589134454727],\n",
       " [0.18299588188529015],\n",
       " [0.23246315494179726],\n",
       " [0.18518439680337906],\n",
       " [-0.014731649775058031],\n",
       " [0.21723107993602753],\n",
       " [0.16028232127428055],\n",
       " [0.311042707413435],\n",
       " [0.08482317253947258],\n",
       " [0.34065548330545425],\n",
       " [0.2880129776895046],\n",
       " [0.2038799226284027],\n",
       " [0.15531139867380261],\n",
       " [0.16643042117357254],\n",
       " [0.08988296194002032],\n",
       " [0.08541347226127982]]"
      ]
     },
     "execution_count": 59,
     "metadata": {},
     "output_type": "execute_result"
    }
   ],
   "source": [
    "preds_list"
   ]
  },
  {
   "cell_type": "code",
   "execution_count": 60,
   "id": "08cecfda",
   "metadata": {
    "execution": {
     "iopub.execute_input": "2022-06-19T22:06:14.775539Z",
     "iopub.status.busy": "2022-06-19T22:06:14.775303Z",
     "iopub.status.idle": "2022-06-19T22:06:14.780791Z",
     "shell.execute_reply": "2022-06-19T22:06:14.780137Z"
    },
    "papermill": {
     "duration": 0.082883,
     "end_time": "2022-06-19T22:06:14.782695",
     "exception": false,
     "start_time": "2022-06-19T22:06:14.699812",
     "status": "completed"
    },
    "tags": []
   },
   "outputs": [
    {
     "data": {
      "text/plain": [
       "[0.26644526794552803,\n",
       " 0.5402139723300934,\n",
       " 0.16410459950566292,\n",
       " 0.24917388707399368,\n",
       " 0.13708557933568954,\n",
       " 0.4124058969318867,\n",
       " 0.24742013216018677,\n",
       " 0.5688941776752472,\n",
       " 0.6379079818725586,\n",
       " 0.254368431866169,\n",
       " 0.2576356828212738,\n",
       " 0.4292448163032532,\n",
       " 0.12746401224285364,\n",
       " 0.36178576946258545,\n",
       " 0.4615568220615387,\n",
       " 0.05530684860423207,\n",
       " 0.1890893131494522,\n",
       " 0.4822285324335098,\n",
       " 0.4140313193202019,\n",
       " 0.04162215767428279,\n",
       " 0.21854589134454727,\n",
       " 0.18299588188529015,\n",
       " 0.23246315494179726,\n",
       " 0.18518439680337906,\n",
       " -0.014731649775058031,\n",
       " 0.21723107993602753,\n",
       " 0.16028232127428055,\n",
       " 0.311042707413435,\n",
       " 0.08482317253947258,\n",
       " 0.34065548330545425,\n",
       " 0.2880129776895046,\n",
       " 0.2038799226284027,\n",
       " 0.15531139867380261,\n",
       " 0.16643042117357254,\n",
       " 0.08988296194002032,\n",
       " 0.08541347226127982]"
      ]
     },
     "execution_count": 60,
     "metadata": {},
     "output_type": "execute_result"
    }
   ],
   "source": [
    "flat_list = [x for xs in preds_list for x in xs]\n",
    "flat_list"
   ]
  },
  {
   "cell_type": "code",
   "execution_count": 61,
   "id": "94f61d90",
   "metadata": {
    "execution": {
     "iopub.execute_input": "2022-06-19T22:06:14.940419Z",
     "iopub.status.busy": "2022-06-19T22:06:14.939699Z",
     "iopub.status.idle": "2022-06-19T22:06:14.944421Z",
     "shell.execute_reply": "2022-06-19T22:06:14.943678Z"
    },
    "papermill": {
     "duration": 0.087731,
     "end_time": "2022-06-19T22:06:14.946322",
     "exception": false,
     "start_time": "2022-06-19T22:06:14.858591",
     "status": "completed"
    },
    "tags": []
   },
   "outputs": [],
   "source": [
    "df_submission['score' ] = flat_list"
   ]
  },
  {
   "cell_type": "code",
   "execution_count": 62,
   "id": "86a33f9f",
   "metadata": {
    "execution": {
     "iopub.execute_input": "2022-06-19T22:06:15.096752Z",
     "iopub.status.busy": "2022-06-19T22:06:15.096510Z",
     "iopub.status.idle": "2022-06-19T22:06:15.107210Z",
     "shell.execute_reply": "2022-06-19T22:06:15.106586Z"
    },
    "papermill": {
     "duration": 0.088285,
     "end_time": "2022-06-19T22:06:15.109062",
     "exception": false,
     "start_time": "2022-06-19T22:06:15.020777",
     "status": "completed"
    },
    "tags": []
   },
   "outputs": [
    {
     "data": {
      "text/html": [
       "<div>\n",
       "<style scoped>\n",
       "    .dataframe tbody tr th:only-of-type {\n",
       "        vertical-align: middle;\n",
       "    }\n",
       "\n",
       "    .dataframe tbody tr th {\n",
       "        vertical-align: top;\n",
       "    }\n",
       "\n",
       "    .dataframe thead th {\n",
       "        text-align: right;\n",
       "    }\n",
       "</style>\n",
       "<table border=\"1\" class=\"dataframe\">\n",
       "  <thead>\n",
       "    <tr style=\"text-align: right;\">\n",
       "      <th></th>\n",
       "      <th>id</th>\n",
       "      <th>score</th>\n",
       "    </tr>\n",
       "  </thead>\n",
       "  <tbody>\n",
       "    <tr>\n",
       "      <th>0</th>\n",
       "      <td>4112d61851461f60</td>\n",
       "      <td>0.266445</td>\n",
       "    </tr>\n",
       "    <tr>\n",
       "      <th>1</th>\n",
       "      <td>5203a36c501f1b7c</td>\n",
       "      <td>0.540214</td>\n",
       "    </tr>\n",
       "    <tr>\n",
       "      <th>2</th>\n",
       "      <td>7aa5908a77a7ec24</td>\n",
       "      <td>0.164105</td>\n",
       "    </tr>\n",
       "    <tr>\n",
       "      <th>3</th>\n",
       "      <td>442c114ed5c4e3c9</td>\n",
       "      <td>0.249174</td>\n",
       "    </tr>\n",
       "    <tr>\n",
       "      <th>4</th>\n",
       "      <td>12ca31f018a2e2b9</td>\n",
       "      <td>0.137086</td>\n",
       "    </tr>\n",
       "    <tr>\n",
       "      <th>5</th>\n",
       "      <td>9f2279ce667b21dc</td>\n",
       "      <td>0.412406</td>\n",
       "    </tr>\n",
       "    <tr>\n",
       "      <th>6</th>\n",
       "      <td>b9ea2b06a878df6f</td>\n",
       "      <td>0.247420</td>\n",
       "    </tr>\n",
       "    <tr>\n",
       "      <th>7</th>\n",
       "      <td>09e418c93a776564</td>\n",
       "      <td>0.568894</td>\n",
       "    </tr>\n",
       "    <tr>\n",
       "      <th>8</th>\n",
       "      <td>ae0262c02566d2ce</td>\n",
       "      <td>0.637908</td>\n",
       "    </tr>\n",
       "    <tr>\n",
       "      <th>9</th>\n",
       "      <td>03ba802ed4029e4d</td>\n",
       "      <td>0.254368</td>\n",
       "    </tr>\n",
       "    <tr>\n",
       "      <th>10</th>\n",
       "      <td>25522ee5411e63e9</td>\n",
       "      <td>0.257636</td>\n",
       "    </tr>\n",
       "    <tr>\n",
       "      <th>11</th>\n",
       "      <td>c404f8b378cbb008</td>\n",
       "      <td>0.429245</td>\n",
       "    </tr>\n",
       "    <tr>\n",
       "      <th>12</th>\n",
       "      <td>26c3c6dc6174b589</td>\n",
       "      <td>0.127464</td>\n",
       "    </tr>\n",
       "    <tr>\n",
       "      <th>13</th>\n",
       "      <td>36baf228038e314b</td>\n",
       "      <td>0.361786</td>\n",
       "    </tr>\n",
       "    <tr>\n",
       "      <th>14</th>\n",
       "      <td>b892011ab2e2cabc</td>\n",
       "      <td>0.461557</td>\n",
       "    </tr>\n",
       "    <tr>\n",
       "      <th>15</th>\n",
       "      <td>b8ae62ea5e1d8bdb</td>\n",
       "      <td>0.055307</td>\n",
       "    </tr>\n",
       "    <tr>\n",
       "      <th>16</th>\n",
       "      <td>a8808e31641e856d</td>\n",
       "      <td>0.189089</td>\n",
       "    </tr>\n",
       "    <tr>\n",
       "      <th>17</th>\n",
       "      <td>25c555ca3d5a2092</td>\n",
       "      <td>0.482229</td>\n",
       "    </tr>\n",
       "    <tr>\n",
       "      <th>18</th>\n",
       "      <td>b9fdc772bb8fd61c</td>\n",
       "      <td>0.414031</td>\n",
       "    </tr>\n",
       "    <tr>\n",
       "      <th>19</th>\n",
       "      <td>de51114bc0faec3e</td>\n",
       "      <td>0.041622</td>\n",
       "    </tr>\n",
       "    <tr>\n",
       "      <th>20</th>\n",
       "      <td>8247ff562ca185cc</td>\n",
       "      <td>0.218546</td>\n",
       "    </tr>\n",
       "    <tr>\n",
       "      <th>21</th>\n",
       "      <td>1f37ead645e7f0c8</td>\n",
       "      <td>0.182996</td>\n",
       "    </tr>\n",
       "    <tr>\n",
       "      <th>22</th>\n",
       "      <td>71a5b6ad068d531f</td>\n",
       "      <td>0.232463</td>\n",
       "    </tr>\n",
       "    <tr>\n",
       "      <th>23</th>\n",
       "      <td>16ae4b99d3601e60</td>\n",
       "      <td>0.185184</td>\n",
       "    </tr>\n",
       "    <tr>\n",
       "      <th>24</th>\n",
       "      <td>fd83613b7843f5e1</td>\n",
       "      <td>-0.014732</td>\n",
       "    </tr>\n",
       "    <tr>\n",
       "      <th>25</th>\n",
       "      <td>733979d75f59770d</td>\n",
       "      <td>0.217231</td>\n",
       "    </tr>\n",
       "    <tr>\n",
       "      <th>26</th>\n",
       "      <td>79795133c30ef097</td>\n",
       "      <td>0.160282</td>\n",
       "    </tr>\n",
       "    <tr>\n",
       "      <th>27</th>\n",
       "      <td>474c874d0c07bd21</td>\n",
       "      <td>0.311043</td>\n",
       "    </tr>\n",
       "    <tr>\n",
       "      <th>28</th>\n",
       "      <td>faaddaf8fcba8a3f</td>\n",
       "      <td>0.084823</td>\n",
       "    </tr>\n",
       "    <tr>\n",
       "      <th>29</th>\n",
       "      <td>2a619016908bfa45</td>\n",
       "      <td>0.340655</td>\n",
       "    </tr>\n",
       "    <tr>\n",
       "      <th>30</th>\n",
       "      <td>6546846df17f9800</td>\n",
       "      <td>0.288013</td>\n",
       "    </tr>\n",
       "    <tr>\n",
       "      <th>31</th>\n",
       "      <td>d19ef3979396d47e</td>\n",
       "      <td>0.203880</td>\n",
       "    </tr>\n",
       "    <tr>\n",
       "      <th>32</th>\n",
       "      <td>7e3aff857f056bf9</td>\n",
       "      <td>0.155311</td>\n",
       "    </tr>\n",
       "    <tr>\n",
       "      <th>33</th>\n",
       "      <td>3ff0e7a35015be69</td>\n",
       "      <td>0.166430</td>\n",
       "    </tr>\n",
       "    <tr>\n",
       "      <th>34</th>\n",
       "      <td>78243984c02a72e4</td>\n",
       "      <td>0.089883</td>\n",
       "    </tr>\n",
       "    <tr>\n",
       "      <th>35</th>\n",
       "      <td>c057aecbba832387</td>\n",
       "      <td>0.085413</td>\n",
       "    </tr>\n",
       "  </tbody>\n",
       "</table>\n",
       "</div>"
      ],
      "text/plain": [
       "                  id     score\n",
       "0   4112d61851461f60  0.266445\n",
       "1   5203a36c501f1b7c  0.540214\n",
       "2   7aa5908a77a7ec24  0.164105\n",
       "3   442c114ed5c4e3c9  0.249174\n",
       "4   12ca31f018a2e2b9  0.137086\n",
       "5   9f2279ce667b21dc  0.412406\n",
       "6   b9ea2b06a878df6f  0.247420\n",
       "7   09e418c93a776564  0.568894\n",
       "8   ae0262c02566d2ce  0.637908\n",
       "9   03ba802ed4029e4d  0.254368\n",
       "10  25522ee5411e63e9  0.257636\n",
       "11  c404f8b378cbb008  0.429245\n",
       "12  26c3c6dc6174b589  0.127464\n",
       "13  36baf228038e314b  0.361786\n",
       "14  b892011ab2e2cabc  0.461557\n",
       "15  b8ae62ea5e1d8bdb  0.055307\n",
       "16  a8808e31641e856d  0.189089\n",
       "17  25c555ca3d5a2092  0.482229\n",
       "18  b9fdc772bb8fd61c  0.414031\n",
       "19  de51114bc0faec3e  0.041622\n",
       "20  8247ff562ca185cc  0.218546\n",
       "21  1f37ead645e7f0c8  0.182996\n",
       "22  71a5b6ad068d531f  0.232463\n",
       "23  16ae4b99d3601e60  0.185184\n",
       "24  fd83613b7843f5e1 -0.014732\n",
       "25  733979d75f59770d  0.217231\n",
       "26  79795133c30ef097  0.160282\n",
       "27  474c874d0c07bd21  0.311043\n",
       "28  faaddaf8fcba8a3f  0.084823\n",
       "29  2a619016908bfa45  0.340655\n",
       "30  6546846df17f9800  0.288013\n",
       "31  d19ef3979396d47e  0.203880\n",
       "32  7e3aff857f056bf9  0.155311\n",
       "33  3ff0e7a35015be69  0.166430\n",
       "34  78243984c02a72e4  0.089883\n",
       "35  c057aecbba832387  0.085413"
      ]
     },
     "execution_count": 62,
     "metadata": {},
     "output_type": "execute_result"
    }
   ],
   "source": [
    "df_submission"
   ]
  },
  {
   "cell_type": "code",
   "execution_count": 63,
   "id": "3caa5a26",
   "metadata": {
    "execution": {
     "iopub.execute_input": "2022-06-19T22:06:15.260921Z",
     "iopub.status.busy": "2022-06-19T22:06:15.260678Z",
     "iopub.status.idle": "2022-06-19T22:06:15.267466Z",
     "shell.execute_reply": "2022-06-19T22:06:15.266859Z"
    },
    "papermill": {
     "duration": 0.084198,
     "end_time": "2022-06-19T22:06:15.269111",
     "exception": false,
     "start_time": "2022-06-19T22:06:15.184913",
     "status": "completed"
    },
    "tags": []
   },
   "outputs": [],
   "source": [
    "#submission = datasets.Dataset.from_dict({\n",
    "  #  'id': test_ds['id'],\n",
    " #   'score': preds\n",
    "#})\n",
    "\n",
    "df_submission.to_csv('submission.csv', index=False)"
   ]
  },
  {
   "cell_type": "code",
   "execution_count": null,
   "id": "ba3800e6",
   "metadata": {
    "papermill": {
     "duration": 0.074347,
     "end_time": "2022-06-19T22:06:15.418071",
     "exception": false,
     "start_time": "2022-06-19T22:06:15.343724",
     "status": "completed"
    },
    "tags": []
   },
   "outputs": [],
   "source": []
  }
 ],
 "metadata": {
  "kernelspec": {
   "display_name": "Python 3",
   "language": "python",
   "name": "python3"
  },
  "language_info": {
   "codemirror_mode": {
    "name": "ipython",
    "version": 3
   },
   "file_extension": ".py",
   "mimetype": "text/x-python",
   "name": "python",
   "nbconvert_exporter": "python",
   "pygments_lexer": "ipython3",
   "version": "3.7.12"
  },
  "papermill": {
   "default_parameters": {},
   "duration": 63.542072,
   "end_time": "2022-06-19T22:06:18.249567",
   "environment_variables": {},
   "exception": null,
   "input_path": "__notebook__.ipynb",
   "output_path": "__notebook__.ipynb",
   "parameters": {},
   "start_time": "2022-06-19T22:05:14.707495",
   "version": "2.3.4"
  },
  "widgets": {
   "application/vnd.jupyter.widget-state+json": {
    "state": {
     "021811a7d59a4fcab5c157b2e381f711": {
      "model_module": "@jupyter-widgets/controls",
      "model_module_version": "1.5.0",
      "model_name": "DescriptionStyleModel",
      "state": {
       "_model_module": "@jupyter-widgets/controls",
       "_model_module_version": "1.5.0",
       "_model_name": "DescriptionStyleModel",
       "_view_count": null,
       "_view_module": "@jupyter-widgets/base",
       "_view_module_version": "1.2.0",
       "_view_name": "StyleView",
       "description_width": ""
      }
     },
     "2cd9fcfe803047eb924243cd3f510389": {
      "model_module": "@jupyter-widgets/base",
      "model_module_version": "1.2.0",
      "model_name": "LayoutModel",
      "state": {
       "_model_module": "@jupyter-widgets/base",
       "_model_module_version": "1.2.0",
       "_model_name": "LayoutModel",
       "_view_count": null,
       "_view_module": "@jupyter-widgets/base",
       "_view_module_version": "1.2.0",
       "_view_name": "LayoutView",
       "align_content": null,
       "align_items": null,
       "align_self": null,
       "border": null,
       "bottom": null,
       "display": null,
       "flex": null,
       "flex_flow": null,
       "grid_area": null,
       "grid_auto_columns": null,
       "grid_auto_flow": null,
       "grid_auto_rows": null,
       "grid_column": null,
       "grid_gap": null,
       "grid_row": null,
       "grid_template_areas": null,
       "grid_template_columns": null,
       "grid_template_rows": null,
       "height": null,
       "justify_content": null,
       "justify_items": null,
       "left": null,
       "margin": null,
       "max_height": null,
       "max_width": null,
       "min_height": null,
       "min_width": null,
       "object_fit": null,
       "object_position": null,
       "order": null,
       "overflow": null,
       "overflow_x": null,
       "overflow_y": null,
       "padding": null,
       "right": null,
       "top": null,
       "visibility": null,
       "width": null
      }
     },
     "422b2d58874c4d57aa70ffffdb188588": {
      "model_module": "@jupyter-widgets/base",
      "model_module_version": "1.2.0",
      "model_name": "LayoutModel",
      "state": {
       "_model_module": "@jupyter-widgets/base",
       "_model_module_version": "1.2.0",
       "_model_name": "LayoutModel",
       "_view_count": null,
       "_view_module": "@jupyter-widgets/base",
       "_view_module_version": "1.2.0",
       "_view_name": "LayoutView",
       "align_content": null,
       "align_items": null,
       "align_self": null,
       "border": null,
       "bottom": null,
       "display": null,
       "flex": null,
       "flex_flow": null,
       "grid_area": null,
       "grid_auto_columns": null,
       "grid_auto_flow": null,
       "grid_auto_rows": null,
       "grid_column": null,
       "grid_gap": null,
       "grid_row": null,
       "grid_template_areas": null,
       "grid_template_columns": null,
       "grid_template_rows": null,
       "height": null,
       "justify_content": null,
       "justify_items": null,
       "left": null,
       "margin": null,
       "max_height": null,
       "max_width": null,
       "min_height": null,
       "min_width": null,
       "object_fit": null,
       "object_position": null,
       "order": null,
       "overflow": null,
       "overflow_x": null,
       "overflow_y": null,
       "padding": null,
       "right": null,
       "top": null,
       "visibility": null,
       "width": null
      }
     },
     "5add5e17f0c34ebfb0f97fbe471dddc0": {
      "model_module": "@jupyter-widgets/controls",
      "model_module_version": "1.5.0",
      "model_name": "FloatProgressModel",
      "state": {
       "_dom_classes": [],
       "_model_module": "@jupyter-widgets/controls",
       "_model_module_version": "1.5.0",
       "_model_name": "FloatProgressModel",
       "_view_count": null,
       "_view_module": "@jupyter-widgets/controls",
       "_view_module_version": "1.5.0",
       "_view_name": "ProgressView",
       "bar_style": "success",
       "description": "",
       "description_tooltip": null,
       "layout": "IPY_MODEL_6004efba40914986bf5dfb0474d13d36",
       "max": 1.0,
       "min": 0.0,
       "orientation": "horizontal",
       "style": "IPY_MODEL_7e0a499fc9ac47aab0b5f34e84c46671",
       "value": 1.0
      }
     },
     "6004efba40914986bf5dfb0474d13d36": {
      "model_module": "@jupyter-widgets/base",
      "model_module_version": "1.2.0",
      "model_name": "LayoutModel",
      "state": {
       "_model_module": "@jupyter-widgets/base",
       "_model_module_version": "1.2.0",
       "_model_name": "LayoutModel",
       "_view_count": null,
       "_view_module": "@jupyter-widgets/base",
       "_view_module_version": "1.2.0",
       "_view_name": "LayoutView",
       "align_content": null,
       "align_items": null,
       "align_self": null,
       "border": null,
       "bottom": null,
       "display": null,
       "flex": null,
       "flex_flow": null,
       "grid_area": null,
       "grid_auto_columns": null,
       "grid_auto_flow": null,
       "grid_auto_rows": null,
       "grid_column": null,
       "grid_gap": null,
       "grid_row": null,
       "grid_template_areas": null,
       "grid_template_columns": null,
       "grid_template_rows": null,
       "height": null,
       "justify_content": null,
       "justify_items": null,
       "left": null,
       "margin": null,
       "max_height": null,
       "max_width": null,
       "min_height": null,
       "min_width": null,
       "object_fit": null,
       "object_position": null,
       "order": null,
       "overflow": null,
       "overflow_x": null,
       "overflow_y": null,
       "padding": null,
       "right": null,
       "top": null,
       "visibility": null,
       "width": null
      }
     },
     "64d1dd58e0844d999526f4c759aa5577": {
      "model_module": "@jupyter-widgets/controls",
      "model_module_version": "1.5.0",
      "model_name": "HTMLModel",
      "state": {
       "_dom_classes": [],
       "_model_module": "@jupyter-widgets/controls",
       "_model_module_version": "1.5.0",
       "_model_name": "HTMLModel",
       "_view_count": null,
       "_view_module": "@jupyter-widgets/controls",
       "_view_module_version": "1.5.0",
       "_view_name": "HTMLView",
       "description": "",
       "description_tooltip": null,
       "layout": "IPY_MODEL_be6a52f729df497699485915b9d36adc",
       "placeholder": "​",
       "style": "IPY_MODEL_df3d881152384003ac839146817083d7",
       "value": " 37/37 [00:02&lt;00:00, 12.65ba/s]"
      }
     },
     "6cd8e54159134f6cb27d16c84b32fedc": {
      "model_module": "@jupyter-widgets/controls",
      "model_module_version": "1.5.0",
      "model_name": "DescriptionStyleModel",
      "state": {
       "_model_module": "@jupyter-widgets/controls",
       "_model_module_version": "1.5.0",
       "_model_name": "DescriptionStyleModel",
       "_view_count": null,
       "_view_module": "@jupyter-widgets/base",
       "_view_module_version": "1.2.0",
       "_view_name": "StyleView",
       "description_width": ""
      }
     },
     "6cd9743d403942f99fad3d7861b7bf03": {
      "model_module": "@jupyter-widgets/controls",
      "model_module_version": "1.5.0",
      "model_name": "ProgressStyleModel",
      "state": {
       "_model_module": "@jupyter-widgets/controls",
       "_model_module_version": "1.5.0",
       "_model_name": "ProgressStyleModel",
       "_view_count": null,
       "_view_module": "@jupyter-widgets/base",
       "_view_module_version": "1.2.0",
       "_view_name": "StyleView",
       "bar_color": null,
       "description_width": ""
      }
     },
     "6ea902dbec6547a3a92acda8369d4924": {
      "model_module": "@jupyter-widgets/base",
      "model_module_version": "1.2.0",
      "model_name": "LayoutModel",
      "state": {
       "_model_module": "@jupyter-widgets/base",
       "_model_module_version": "1.2.0",
       "_model_name": "LayoutModel",
       "_view_count": null,
       "_view_module": "@jupyter-widgets/base",
       "_view_module_version": "1.2.0",
       "_view_name": "LayoutView",
       "align_content": null,
       "align_items": null,
       "align_self": null,
       "border": null,
       "bottom": null,
       "display": null,
       "flex": null,
       "flex_flow": null,
       "grid_area": null,
       "grid_auto_columns": null,
       "grid_auto_flow": null,
       "grid_auto_rows": null,
       "grid_column": null,
       "grid_gap": null,
       "grid_row": null,
       "grid_template_areas": null,
       "grid_template_columns": null,
       "grid_template_rows": null,
       "height": null,
       "justify_content": null,
       "justify_items": null,
       "left": null,
       "margin": null,
       "max_height": null,
       "max_width": null,
       "min_height": null,
       "min_width": null,
       "object_fit": null,
       "object_position": null,
       "order": null,
       "overflow": null,
       "overflow_x": null,
       "overflow_y": null,
       "padding": null,
       "right": null,
       "top": null,
       "visibility": null,
       "width": null
      }
     },
     "6ffeba9a817e42c5afbdf90cb93c111e": {
      "model_module": "@jupyter-widgets/controls",
      "model_module_version": "1.5.0",
      "model_name": "HBoxModel",
      "state": {
       "_dom_classes": [],
       "_model_module": "@jupyter-widgets/controls",
       "_model_module_version": "1.5.0",
       "_model_name": "HBoxModel",
       "_view_count": null,
       "_view_module": "@jupyter-widgets/controls",
       "_view_module_version": "1.5.0",
       "_view_name": "HBoxView",
       "box_style": "",
       "children": [
        "IPY_MODEL_e5099ce550ef4e85ba7a3345cc0e13b4",
        "IPY_MODEL_d2a2bb47139c48f494956d65028bdfa8",
        "IPY_MODEL_64d1dd58e0844d999526f4c759aa5577"
       ],
       "layout": "IPY_MODEL_f9d66e45a6504fa5bc4776ca9ba9902d"
      }
     },
     "7e0a499fc9ac47aab0b5f34e84c46671": {
      "model_module": "@jupyter-widgets/controls",
      "model_module_version": "1.5.0",
      "model_name": "ProgressStyleModel",
      "state": {
       "_model_module": "@jupyter-widgets/controls",
       "_model_module_version": "1.5.0",
       "_model_name": "ProgressStyleModel",
       "_view_count": null,
       "_view_module": "@jupyter-widgets/base",
       "_view_module_version": "1.2.0",
       "_view_name": "StyleView",
       "bar_color": null,
       "description_width": ""
      }
     },
     "986beb8b20ab4c7e9ce96d644889d48c": {
      "model_module": "@jupyter-widgets/controls",
      "model_module_version": "1.5.0",
      "model_name": "DescriptionStyleModel",
      "state": {
       "_model_module": "@jupyter-widgets/controls",
       "_model_module_version": "1.5.0",
       "_model_name": "DescriptionStyleModel",
       "_view_count": null,
       "_view_module": "@jupyter-widgets/base",
       "_view_module_version": "1.2.0",
       "_view_name": "StyleView",
       "description_width": ""
      }
     },
     "b11f00c95ac34928998984cc3df8813b": {
      "model_module": "@jupyter-widgets/controls",
      "model_module_version": "1.5.0",
      "model_name": "HTMLModel",
      "state": {
       "_dom_classes": [],
       "_model_module": "@jupyter-widgets/controls",
       "_model_module_version": "1.5.0",
       "_model_name": "HTMLModel",
       "_view_count": null,
       "_view_module": "@jupyter-widgets/controls",
       "_view_module_version": "1.5.0",
       "_view_name": "HTMLView",
       "description": "",
       "description_tooltip": null,
       "layout": "IPY_MODEL_f172a59e88bb486eac7551b8c5dc8091",
       "placeholder": "​",
       "style": "IPY_MODEL_6cd8e54159134f6cb27d16c84b32fedc",
       "value": " 1/1 [00:00&lt;00:00, 32.60ba/s]"
      }
     },
     "be6a52f729df497699485915b9d36adc": {
      "model_module": "@jupyter-widgets/base",
      "model_module_version": "1.2.0",
      "model_name": "LayoutModel",
      "state": {
       "_model_module": "@jupyter-widgets/base",
       "_model_module_version": "1.2.0",
       "_model_name": "LayoutModel",
       "_view_count": null,
       "_view_module": "@jupyter-widgets/base",
       "_view_module_version": "1.2.0",
       "_view_name": "LayoutView",
       "align_content": null,
       "align_items": null,
       "align_self": null,
       "border": null,
       "bottom": null,
       "display": null,
       "flex": null,
       "flex_flow": null,
       "grid_area": null,
       "grid_auto_columns": null,
       "grid_auto_flow": null,
       "grid_auto_rows": null,
       "grid_column": null,
       "grid_gap": null,
       "grid_row": null,
       "grid_template_areas": null,
       "grid_template_columns": null,
       "grid_template_rows": null,
       "height": null,
       "justify_content": null,
       "justify_items": null,
       "left": null,
       "margin": null,
       "max_height": null,
       "max_width": null,
       "min_height": null,
       "min_width": null,
       "object_fit": null,
       "object_position": null,
       "order": null,
       "overflow": null,
       "overflow_x": null,
       "overflow_y": null,
       "padding": null,
       "right": null,
       "top": null,
       "visibility": null,
       "width": null
      }
     },
     "d2a2bb47139c48f494956d65028bdfa8": {
      "model_module": "@jupyter-widgets/controls",
      "model_module_version": "1.5.0",
      "model_name": "FloatProgressModel",
      "state": {
       "_dom_classes": [],
       "_model_module": "@jupyter-widgets/controls",
       "_model_module_version": "1.5.0",
       "_model_name": "FloatProgressModel",
       "_view_count": null,
       "_view_module": "@jupyter-widgets/controls",
       "_view_module_version": "1.5.0",
       "_view_name": "ProgressView",
       "bar_style": "success",
       "description": "",
       "description_tooltip": null,
       "layout": "IPY_MODEL_2cd9fcfe803047eb924243cd3f510389",
       "max": 37.0,
       "min": 0.0,
       "orientation": "horizontal",
       "style": "IPY_MODEL_6cd9743d403942f99fad3d7861b7bf03",
       "value": 37.0
      }
     },
     "d884130b3dfb4f879a19eac908ad93e3": {
      "model_module": "@jupyter-widgets/controls",
      "model_module_version": "1.5.0",
      "model_name": "HBoxModel",
      "state": {
       "_dom_classes": [],
       "_model_module": "@jupyter-widgets/controls",
       "_model_module_version": "1.5.0",
       "_model_name": "HBoxModel",
       "_view_count": null,
       "_view_module": "@jupyter-widgets/controls",
       "_view_module_version": "1.5.0",
       "_view_name": "HBoxView",
       "box_style": "",
       "children": [
        "IPY_MODEL_f615f05a11db4e1da2427048f2725e94",
        "IPY_MODEL_5add5e17f0c34ebfb0f97fbe471dddc0",
        "IPY_MODEL_b11f00c95ac34928998984cc3df8813b"
       ],
       "layout": "IPY_MODEL_6ea902dbec6547a3a92acda8369d4924"
      }
     },
     "dd7697d565024363b5699012df393bc1": {
      "model_module": "@jupyter-widgets/base",
      "model_module_version": "1.2.0",
      "model_name": "LayoutModel",
      "state": {
       "_model_module": "@jupyter-widgets/base",
       "_model_module_version": "1.2.0",
       "_model_name": "LayoutModel",
       "_view_count": null,
       "_view_module": "@jupyter-widgets/base",
       "_view_module_version": "1.2.0",
       "_view_name": "LayoutView",
       "align_content": null,
       "align_items": null,
       "align_self": null,
       "border": null,
       "bottom": null,
       "display": null,
       "flex": null,
       "flex_flow": null,
       "grid_area": null,
       "grid_auto_columns": null,
       "grid_auto_flow": null,
       "grid_auto_rows": null,
       "grid_column": null,
       "grid_gap": null,
       "grid_row": null,
       "grid_template_areas": null,
       "grid_template_columns": null,
       "grid_template_rows": null,
       "height": null,
       "justify_content": null,
       "justify_items": null,
       "left": null,
       "margin": null,
       "max_height": null,
       "max_width": null,
       "min_height": null,
       "min_width": null,
       "object_fit": null,
       "object_position": null,
       "order": null,
       "overflow": null,
       "overflow_x": null,
       "overflow_y": null,
       "padding": null,
       "right": null,
       "top": null,
       "visibility": null,
       "width": null
      }
     },
     "df3d881152384003ac839146817083d7": {
      "model_module": "@jupyter-widgets/controls",
      "model_module_version": "1.5.0",
      "model_name": "DescriptionStyleModel",
      "state": {
       "_model_module": "@jupyter-widgets/controls",
       "_model_module_version": "1.5.0",
       "_model_name": "DescriptionStyleModel",
       "_view_count": null,
       "_view_module": "@jupyter-widgets/base",
       "_view_module_version": "1.2.0",
       "_view_name": "StyleView",
       "description_width": ""
      }
     },
     "e5099ce550ef4e85ba7a3345cc0e13b4": {
      "model_module": "@jupyter-widgets/controls",
      "model_module_version": "1.5.0",
      "model_name": "HTMLModel",
      "state": {
       "_dom_classes": [],
       "_model_module": "@jupyter-widgets/controls",
       "_model_module_version": "1.5.0",
       "_model_name": "HTMLModel",
       "_view_count": null,
       "_view_module": "@jupyter-widgets/controls",
       "_view_module_version": "1.5.0",
       "_view_name": "HTMLView",
       "description": "",
       "description_tooltip": null,
       "layout": "IPY_MODEL_422b2d58874c4d57aa70ffffdb188588",
       "placeholder": "​",
       "style": "IPY_MODEL_021811a7d59a4fcab5c157b2e381f711",
       "value": "100%"
      }
     },
     "f172a59e88bb486eac7551b8c5dc8091": {
      "model_module": "@jupyter-widgets/base",
      "model_module_version": "1.2.0",
      "model_name": "LayoutModel",
      "state": {
       "_model_module": "@jupyter-widgets/base",
       "_model_module_version": "1.2.0",
       "_model_name": "LayoutModel",
       "_view_count": null,
       "_view_module": "@jupyter-widgets/base",
       "_view_module_version": "1.2.0",
       "_view_name": "LayoutView",
       "align_content": null,
       "align_items": null,
       "align_self": null,
       "border": null,
       "bottom": null,
       "display": null,
       "flex": null,
       "flex_flow": null,
       "grid_area": null,
       "grid_auto_columns": null,
       "grid_auto_flow": null,
       "grid_auto_rows": null,
       "grid_column": null,
       "grid_gap": null,
       "grid_row": null,
       "grid_template_areas": null,
       "grid_template_columns": null,
       "grid_template_rows": null,
       "height": null,
       "justify_content": null,
       "justify_items": null,
       "left": null,
       "margin": null,
       "max_height": null,
       "max_width": null,
       "min_height": null,
       "min_width": null,
       "object_fit": null,
       "object_position": null,
       "order": null,
       "overflow": null,
       "overflow_x": null,
       "overflow_y": null,
       "padding": null,
       "right": null,
       "top": null,
       "visibility": null,
       "width": null
      }
     },
     "f615f05a11db4e1da2427048f2725e94": {
      "model_module": "@jupyter-widgets/controls",
      "model_module_version": "1.5.0",
      "model_name": "HTMLModel",
      "state": {
       "_dom_classes": [],
       "_model_module": "@jupyter-widgets/controls",
       "_model_module_version": "1.5.0",
       "_model_name": "HTMLModel",
       "_view_count": null,
       "_view_module": "@jupyter-widgets/controls",
       "_view_module_version": "1.5.0",
       "_view_name": "HTMLView",
       "description": "",
       "description_tooltip": null,
       "layout": "IPY_MODEL_dd7697d565024363b5699012df393bc1",
       "placeholder": "​",
       "style": "IPY_MODEL_986beb8b20ab4c7e9ce96d644889d48c",
       "value": "100%"
      }
     },
     "f9d66e45a6504fa5bc4776ca9ba9902d": {
      "model_module": "@jupyter-widgets/base",
      "model_module_version": "1.2.0",
      "model_name": "LayoutModel",
      "state": {
       "_model_module": "@jupyter-widgets/base",
       "_model_module_version": "1.2.0",
       "_model_name": "LayoutModel",
       "_view_count": null,
       "_view_module": "@jupyter-widgets/base",
       "_view_module_version": "1.2.0",
       "_view_name": "LayoutView",
       "align_content": null,
       "align_items": null,
       "align_self": null,
       "border": null,
       "bottom": null,
       "display": null,
       "flex": null,
       "flex_flow": null,
       "grid_area": null,
       "grid_auto_columns": null,
       "grid_auto_flow": null,
       "grid_auto_rows": null,
       "grid_column": null,
       "grid_gap": null,
       "grid_row": null,
       "grid_template_areas": null,
       "grid_template_columns": null,
       "grid_template_rows": null,
       "height": null,
       "justify_content": null,
       "justify_items": null,
       "left": null,
       "margin": null,
       "max_height": null,
       "max_width": null,
       "min_height": null,
       "min_width": null,
       "object_fit": null,
       "object_position": null,
       "order": null,
       "overflow": null,
       "overflow_x": null,
       "overflow_y": null,
       "padding": null,
       "right": null,
       "top": null,
       "visibility": null,
       "width": null
      }
     }
    },
    "version_major": 2,
    "version_minor": 0
   }
  }
 },
 "nbformat": 4,
 "nbformat_minor": 5
}
