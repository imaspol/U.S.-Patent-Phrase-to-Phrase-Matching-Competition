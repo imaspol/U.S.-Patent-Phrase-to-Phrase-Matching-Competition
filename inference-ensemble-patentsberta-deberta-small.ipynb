{
 "cells": [
  {
   "cell_type": "code",
   "execution_count": 1,
   "id": "469339ae",
   "metadata": {
    "_cell_guid": "b1076dfc-b9ad-4769-8c92-a6c4dae69d19",
    "_uuid": "8f2839f25d086af736a60e9eeb907d3b93b6e0e5",
    "execution": {
     "iopub.execute_input": "2022-06-19T23:19:01.951307Z",
     "iopub.status.busy": "2022-06-19T23:19:01.950768Z",
     "iopub.status.idle": "2022-06-19T23:19:01.992734Z",
     "shell.execute_reply": "2022-06-19T23:19:01.991961Z"
    },
    "papermill": {
     "duration": 0.110581,
     "end_time": "2022-06-19T23:19:01.995439",
     "exception": false,
     "start_time": "2022-06-19T23:19:01.884858",
     "status": "completed"
    },
    "tags": []
   },
   "outputs": [
    {
     "name": "stdout",
     "output_type": "stream",
     "text": [
      "/kaggle/input/cpc-codes/titles.csv\n",
      "/kaggle/input/aigl-patentsberta-kaggle-v3/config.json\n",
      "/kaggle/input/aigl-patentsberta-kaggle-v3/training_args.bin\n",
      "/kaggle/input/aigl-patentsberta-kaggle-v3/tokenizer.json\n",
      "/kaggle/input/aigl-patentsberta-kaggle-v3/tokenizer_config.json\n",
      "/kaggle/input/aigl-patentsberta-kaggle-v3/pytorch_model.bin\n",
      "/kaggle/input/aigl-patentsberta-kaggle-v3/special_tokens_map.json\n",
      "/kaggle/input/aigl-patentsberta-kaggle-v3/vocab.txt\n",
      "/kaggle/input/us-patent-phrase-to-phrase-matching/sample_submission.csv\n",
      "/kaggle/input/us-patent-phrase-to-phrase-matching/train.csv\n",
      "/kaggle/input/us-patent-phrase-to-phrase-matching/test.csv\n",
      "/kaggle/input/debertav3small/spm.model\n",
      "/kaggle/input/debertav3small/config.json\n",
      "/kaggle/input/debertav3small/README.md\n",
      "/kaggle/input/debertav3small/tf_model.h5\n",
      "/kaggle/input/debertav3small/tokenizer_config.json\n",
      "/kaggle/input/debertav3small/pytorch_model.bin\n"
     ]
    }
   ],
   "source": [
    "# This Python 3 environment comes with many helpful analytics libraries installed\n",
    "# It is defined by the kaggle/python Docker image: https://github.com/kaggle/docker-python\n",
    "# For example, here's several helpful packages to load\n",
    "\n",
    "import numpy as np # linear algebra\n",
    "import pandas as pd # data processing, CSV file I/O (e.g. pd.read_csv)\n",
    "\n",
    "# Input data files are available in the read-only \"../input/\" directory\n",
    "# For example, running this (by clicking run or pressing Shift+Enter) will list all files under the input directory\n",
    "\n",
    "import os\n",
    "for dirname, _, filenames in os.walk('/kaggle/input'):\n",
    "    for filename in filenames:\n",
    "        print(os.path.join(dirname, filename))\n",
    "\n",
    "# You can write up to 20GB to the current directory (/kaggle/working/) that gets preserved as output when you create a version using \"Save & Run All\" \n",
    "# You can also write temporary files to /kaggle/temp/, but they won't be saved outside of the current session"
   ]
  },
  {
   "cell_type": "markdown",
   "id": "304b9345",
   "metadata": {
    "papermill": {
     "duration": 0.06309,
     "end_time": "2022-06-19T23:19:02.158686",
     "exception": false,
     "start_time": "2022-06-19T23:19:02.095596",
     "status": "completed"
    },
    "tags": []
   },
   "source": [
    "# Credits:\n",
    "this notebook is based on the notbook [\"Getting started with NLP for absolute beginners\"](https://www.kaggle.com/code/jhoward/getting-started-with-nlp-for-absolute-beginners) by @Jeremy Howard"
   ]
  },
  {
   "cell_type": "markdown",
   "id": "4cda3521",
   "metadata": {
    "papermill": {
     "duration": 0.061923,
     "end_time": "2022-06-19T23:19:02.284304",
     "exception": false,
     "start_time": "2022-06-19T23:19:02.222381",
     "status": "completed"
    },
    "tags": []
   },
   "source": [
    "## Imports"
   ]
  },
  {
   "cell_type": "code",
   "execution_count": 2,
   "id": "35ccbbf7",
   "metadata": {
    "execution": {
     "iopub.execute_input": "2022-06-19T23:19:02.453072Z",
     "iopub.status.busy": "2022-06-19T23:19:02.452795Z",
     "iopub.status.idle": "2022-06-19T23:19:08.744007Z",
     "shell.execute_reply": "2022-06-19T23:19:08.743310Z"
    },
    "papermill": {
     "duration": 6.39261,
     "end_time": "2022-06-19T23:19:08.746450",
     "exception": false,
     "start_time": "2022-06-19T23:19:02.353840",
     "status": "completed"
    },
    "tags": []
   },
   "outputs": [],
   "source": [
    "import tensorflow as tf\n",
    "import tensorflow_hub as hub\n",
    "import seaborn as sns\n",
    "import matplotlib.pyplot as plt"
   ]
  },
  {
   "cell_type": "markdown",
   "id": "9eb894be",
   "metadata": {
    "papermill": {
     "duration": 0.063419,
     "end_time": "2022-06-19T23:19:08.873851",
     "exception": false,
     "start_time": "2022-06-19T23:19:08.810432",
     "status": "completed"
    },
    "tags": []
   },
   "source": [
    "# EDA"
   ]
  },
  {
   "cell_type": "code",
   "execution_count": 3,
   "id": "870c605c",
   "metadata": {
    "execution": {
     "iopub.execute_input": "2022-06-19T23:19:08.999118Z",
     "iopub.status.busy": "2022-06-19T23:19:08.998889Z",
     "iopub.status.idle": "2022-06-19T23:19:09.096320Z",
     "shell.execute_reply": "2022-06-19T23:19:09.094592Z"
    },
    "papermill": {
     "duration": 0.163597,
     "end_time": "2022-06-19T23:19:09.099400",
     "exception": false,
     "start_time": "2022-06-19T23:19:08.935803",
     "status": "completed"
    },
    "tags": []
   },
   "outputs": [
    {
     "name": "stdout",
     "output_type": "stream",
     "text": [
      "(36473, 5)\n"
     ]
    },
    {
     "data": {
      "text/html": [
       "<div>\n",
       "<style scoped>\n",
       "    .dataframe tbody tr th:only-of-type {\n",
       "        vertical-align: middle;\n",
       "    }\n",
       "\n",
       "    .dataframe tbody tr th {\n",
       "        vertical-align: top;\n",
       "    }\n",
       "\n",
       "    .dataframe thead th {\n",
       "        text-align: right;\n",
       "    }\n",
       "</style>\n",
       "<table border=\"1\" class=\"dataframe\">\n",
       "  <thead>\n",
       "    <tr style=\"text-align: right;\">\n",
       "      <th></th>\n",
       "      <th>id</th>\n",
       "      <th>anchor</th>\n",
       "      <th>target</th>\n",
       "      <th>context</th>\n",
       "      <th>score</th>\n",
       "    </tr>\n",
       "  </thead>\n",
       "  <tbody>\n",
       "    <tr>\n",
       "      <th>0</th>\n",
       "      <td>37d61fd2272659b1</td>\n",
       "      <td>abatement</td>\n",
       "      <td>abatement of pollution</td>\n",
       "      <td>A47</td>\n",
       "      <td>0.50</td>\n",
       "    </tr>\n",
       "    <tr>\n",
       "      <th>1</th>\n",
       "      <td>7b9652b17b68b7a4</td>\n",
       "      <td>abatement</td>\n",
       "      <td>act of abating</td>\n",
       "      <td>A47</td>\n",
       "      <td>0.75</td>\n",
       "    </tr>\n",
       "    <tr>\n",
       "      <th>2</th>\n",
       "      <td>36d72442aefd8232</td>\n",
       "      <td>abatement</td>\n",
       "      <td>active catalyst</td>\n",
       "      <td>A47</td>\n",
       "      <td>0.25</td>\n",
       "    </tr>\n",
       "    <tr>\n",
       "      <th>3</th>\n",
       "      <td>5296b0c19e1ce60e</td>\n",
       "      <td>abatement</td>\n",
       "      <td>eliminating process</td>\n",
       "      <td>A47</td>\n",
       "      <td>0.50</td>\n",
       "    </tr>\n",
       "    <tr>\n",
       "      <th>4</th>\n",
       "      <td>54c1e3b9184cb5b6</td>\n",
       "      <td>abatement</td>\n",
       "      <td>forest region</td>\n",
       "      <td>A47</td>\n",
       "      <td>0.00</td>\n",
       "    </tr>\n",
       "  </tbody>\n",
       "</table>\n",
       "</div>"
      ],
      "text/plain": [
       "                 id     anchor                  target context  score\n",
       "0  37d61fd2272659b1  abatement  abatement of pollution     A47   0.50\n",
       "1  7b9652b17b68b7a4  abatement          act of abating     A47   0.75\n",
       "2  36d72442aefd8232  abatement         active catalyst     A47   0.25\n",
       "3  5296b0c19e1ce60e  abatement     eliminating process     A47   0.50\n",
       "4  54c1e3b9184cb5b6  abatement           forest region     A47   0.00"
      ]
     },
     "execution_count": 3,
     "metadata": {},
     "output_type": "execute_result"
    }
   ],
   "source": [
    "train = pd.read_csv(\"/kaggle/input/us-patent-phrase-to-phrase-matching/train.csv\")\n",
    "print(train.shape)\n",
    "train.head()"
   ]
  },
  {
   "cell_type": "code",
   "execution_count": 4,
   "id": "10367718",
   "metadata": {
    "execution": {
     "iopub.execute_input": "2022-06-19T23:19:09.231524Z",
     "iopub.status.busy": "2022-06-19T23:19:09.230890Z",
     "iopub.status.idle": "2022-06-19T23:19:09.304744Z",
     "shell.execute_reply": "2022-06-19T23:19:09.303984Z"
    },
    "papermill": {
     "duration": 0.140253,
     "end_time": "2022-06-19T23:19:09.306536",
     "exception": false,
     "start_time": "2022-06-19T23:19:09.166283",
     "status": "completed"
    },
    "tags": []
   },
   "outputs": [
    {
     "data": {
      "text/html": [
       "<div>\n",
       "<style scoped>\n",
       "    .dataframe tbody tr th:only-of-type {\n",
       "        vertical-align: middle;\n",
       "    }\n",
       "\n",
       "    .dataframe tbody tr th {\n",
       "        vertical-align: top;\n",
       "    }\n",
       "\n",
       "    .dataframe thead th {\n",
       "        text-align: right;\n",
       "    }\n",
       "</style>\n",
       "<table border=\"1\" class=\"dataframe\">\n",
       "  <thead>\n",
       "    <tr style=\"text-align: right;\">\n",
       "      <th></th>\n",
       "      <th>id</th>\n",
       "      <th>anchor</th>\n",
       "      <th>target</th>\n",
       "      <th>context</th>\n",
       "    </tr>\n",
       "  </thead>\n",
       "  <tbody>\n",
       "    <tr>\n",
       "      <th>count</th>\n",
       "      <td>36473</td>\n",
       "      <td>36473</td>\n",
       "      <td>36473</td>\n",
       "      <td>36473</td>\n",
       "    </tr>\n",
       "    <tr>\n",
       "      <th>unique</th>\n",
       "      <td>36473</td>\n",
       "      <td>733</td>\n",
       "      <td>29340</td>\n",
       "      <td>106</td>\n",
       "    </tr>\n",
       "    <tr>\n",
       "      <th>top</th>\n",
       "      <td>37d61fd2272659b1</td>\n",
       "      <td>component composite coating</td>\n",
       "      <td>composition</td>\n",
       "      <td>H01</td>\n",
       "    </tr>\n",
       "    <tr>\n",
       "      <th>freq</th>\n",
       "      <td>1</td>\n",
       "      <td>152</td>\n",
       "      <td>24</td>\n",
       "      <td>2186</td>\n",
       "    </tr>\n",
       "  </tbody>\n",
       "</table>\n",
       "</div>"
      ],
      "text/plain": [
       "                      id                       anchor       target context\n",
       "count              36473                        36473        36473   36473\n",
       "unique             36473                          733        29340     106\n",
       "top     37d61fd2272659b1  component composite coating  composition     H01\n",
       "freq                   1                          152           24    2186"
      ]
     },
     "execution_count": 4,
     "metadata": {},
     "output_type": "execute_result"
    }
   ],
   "source": [
    "train.describe(include='object')"
   ]
  },
  {
   "cell_type": "code",
   "execution_count": 5,
   "id": "6ac94f4b",
   "metadata": {
    "execution": {
     "iopub.execute_input": "2022-06-19T23:19:09.435366Z",
     "iopub.status.busy": "2022-06-19T23:19:09.434840Z",
     "iopub.status.idle": "2022-06-19T23:19:09.462590Z",
     "shell.execute_reply": "2022-06-19T23:19:09.461854Z"
    },
    "papermill": {
     "duration": 0.094442,
     "end_time": "2022-06-19T23:19:09.464235",
     "exception": false,
     "start_time": "2022-06-19T23:19:09.369793",
     "status": "completed"
    },
    "tags": []
   },
   "outputs": [
    {
     "data": {
      "text/html": [
       "<div>\n",
       "<style scoped>\n",
       "    .dataframe tbody tr th:only-of-type {\n",
       "        vertical-align: middle;\n",
       "    }\n",
       "\n",
       "    .dataframe tbody tr th {\n",
       "        vertical-align: top;\n",
       "    }\n",
       "\n",
       "    .dataframe thead th {\n",
       "        text-align: right;\n",
       "    }\n",
       "</style>\n",
       "<table border=\"1\" class=\"dataframe\">\n",
       "  <thead>\n",
       "    <tr style=\"text-align: right;\">\n",
       "      <th></th>\n",
       "      <th>id</th>\n",
       "      <th>anchor</th>\n",
       "      <th>target</th>\n",
       "      <th>context</th>\n",
       "    </tr>\n",
       "    <tr>\n",
       "      <th>score</th>\n",
       "      <th></th>\n",
       "      <th></th>\n",
       "      <th></th>\n",
       "      <th></th>\n",
       "    </tr>\n",
       "  </thead>\n",
       "  <tbody>\n",
       "    <tr>\n",
       "      <th>0.00</th>\n",
       "      <td>7471</td>\n",
       "      <td>7471</td>\n",
       "      <td>7471</td>\n",
       "      <td>7471</td>\n",
       "    </tr>\n",
       "    <tr>\n",
       "      <th>0.25</th>\n",
       "      <td>11519</td>\n",
       "      <td>11519</td>\n",
       "      <td>11519</td>\n",
       "      <td>11519</td>\n",
       "    </tr>\n",
       "    <tr>\n",
       "      <th>0.50</th>\n",
       "      <td>12300</td>\n",
       "      <td>12300</td>\n",
       "      <td>12300</td>\n",
       "      <td>12300</td>\n",
       "    </tr>\n",
       "    <tr>\n",
       "      <th>0.75</th>\n",
       "      <td>4029</td>\n",
       "      <td>4029</td>\n",
       "      <td>4029</td>\n",
       "      <td>4029</td>\n",
       "    </tr>\n",
       "    <tr>\n",
       "      <th>1.00</th>\n",
       "      <td>1154</td>\n",
       "      <td>1154</td>\n",
       "      <td>1154</td>\n",
       "      <td>1154</td>\n",
       "    </tr>\n",
       "  </tbody>\n",
       "</table>\n",
       "</div>"
      ],
      "text/plain": [
       "          id  anchor  target  context\n",
       "score                                \n",
       "0.00    7471    7471    7471     7471\n",
       "0.25   11519   11519   11519    11519\n",
       "0.50   12300   12300   12300    12300\n",
       "0.75    4029    4029    4029     4029\n",
       "1.00    1154    1154    1154     1154"
      ]
     },
     "execution_count": 5,
     "metadata": {},
     "output_type": "execute_result"
    }
   ],
   "source": [
    "train.groupby('score').count()"
   ]
  },
  {
   "cell_type": "markdown",
   "id": "ddfa4078",
   "metadata": {
    "papermill": {
     "duration": 0.064949,
     "end_time": "2022-06-19T23:19:09.594623",
     "exception": false,
     "start_time": "2022-06-19T23:19:09.529674",
     "status": "completed"
    },
    "tags": []
   },
   "source": [
    "## Score meanings according to [Data Description](https://www.kaggle.com/competitions/us-patent-phrase-to-phrase-matching/data?select=train.csv)\n",
    "\n",
    "The scores are in the 0-1 range with increments of 0.25 with the following meanings:\n",
    "\n",
    "    1.0 - Very close match. This is typically an exact match except possibly for differences in conjugation, quantity (e.g. singular vs. plural), and addition or removal of stopwords (e.g. “the”, “and”, “or”).\n",
    "    0.75 - Close synonym, e.g. “mobile phone” vs. “cellphone”. This also includes abbreviations, e.g. \"TCP\" -> \"transmission control protocol\".\n",
    "    0.5 - Synonyms which don’t have the same meaning (same function, same properties). This includes broad-narrow (hyponym) and narrow-broad (hypernym) matches.\n",
    "    0.25 - Somewhat related, e.g. the two phrases are in the same high level domain but are not synonyms. This also includes antonyms.\n",
    "    0.0 - Unrelated.\n"
   ]
  },
  {
   "cell_type": "markdown",
   "id": "789c4b46",
   "metadata": {
    "papermill": {
     "duration": 0.064284,
     "end_time": "2022-06-19T23:19:09.722945",
     "exception": false,
     "start_time": "2022-06-19T23:19:09.658661",
     "status": "completed"
    },
    "tags": []
   },
   "source": [
    "# Test Corpus"
   ]
  },
  {
   "cell_type": "code",
   "execution_count": 6,
   "id": "1c6d3df8",
   "metadata": {
    "execution": {
     "iopub.execute_input": "2022-06-19T23:19:09.852852Z",
     "iopub.status.busy": "2022-06-19T23:19:09.852156Z",
     "iopub.status.idle": "2022-06-19T23:19:09.860659Z",
     "shell.execute_reply": "2022-06-19T23:19:09.860011Z"
    },
    "papermill": {
     "duration": 0.075519,
     "end_time": "2022-06-19T23:19:09.862397",
     "exception": false,
     "start_time": "2022-06-19T23:19:09.786878",
     "status": "completed"
    },
    "tags": []
   },
   "outputs": [],
   "source": [
    "test = pd.read_csv(\"/kaggle/input/us-patent-phrase-to-phrase-matching/test.csv\")"
   ]
  },
  {
   "cell_type": "code",
   "execution_count": 7,
   "id": "dff46ce2",
   "metadata": {
    "execution": {
     "iopub.execute_input": "2022-06-19T23:19:09.992009Z",
     "iopub.status.busy": "2022-06-19T23:19:09.991806Z",
     "iopub.status.idle": "2022-06-19T23:19:09.996408Z",
     "shell.execute_reply": "2022-06-19T23:19:09.995752Z"
    },
    "papermill": {
     "duration": 0.070246,
     "end_time": "2022-06-19T23:19:09.997956",
     "exception": false,
     "start_time": "2022-06-19T23:19:09.927710",
     "status": "completed"
    },
    "tags": []
   },
   "outputs": [
    {
     "data": {
      "text/plain": [
       "(36, 4)"
      ]
     },
     "execution_count": 7,
     "metadata": {},
     "output_type": "execute_result"
    }
   ],
   "source": [
    "test.shape"
   ]
  },
  {
   "cell_type": "code",
   "execution_count": 8,
   "id": "d59ec347",
   "metadata": {
    "execution": {
     "iopub.execute_input": "2022-06-19T23:19:10.129727Z",
     "iopub.status.busy": "2022-06-19T23:19:10.129129Z",
     "iopub.status.idle": "2022-06-19T23:19:10.133826Z",
     "shell.execute_reply": "2022-06-19T23:19:10.133071Z"
    },
    "papermill": {
     "duration": 0.072211,
     "end_time": "2022-06-19T23:19:10.135552",
     "exception": false,
     "start_time": "2022-06-19T23:19:10.063341",
     "status": "completed"
    },
    "tags": []
   },
   "outputs": [],
   "source": [
    "def cosine(u, v):\n",
    "    \"\"\"\n",
    "    cosine similarity definition\n",
    "    \"\"\"\n",
    "    return np.dot(u, v) / (np.linalg.norm(u) * np.linalg.norm(v))"
   ]
  },
  {
   "cell_type": "markdown",
   "id": "38ec363f",
   "metadata": {
    "papermill": {
     "duration": 0.065148,
     "end_time": "2022-06-19T23:19:10.268459",
     "exception": false,
     "start_time": "2022-06-19T23:19:10.203311",
     "status": "completed"
    },
    "tags": []
   },
   "source": [
    "# External Context"
   ]
  },
  {
   "cell_type": "code",
   "execution_count": 9,
   "id": "b9dfd129",
   "metadata": {
    "execution": {
     "iopub.execute_input": "2022-06-19T23:19:10.400714Z",
     "iopub.status.busy": "2022-06-19T23:19:10.400116Z",
     "iopub.status.idle": "2022-06-19T23:19:10.403946Z",
     "shell.execute_reply": "2022-06-19T23:19:10.403232Z"
    },
    "papermill": {
     "duration": 0.072641,
     "end_time": "2022-06-19T23:19:10.405647",
     "exception": false,
     "start_time": "2022-06-19T23:19:10.333006",
     "status": "completed"
    },
    "tags": []
   },
   "outputs": [],
   "source": [
    "# ajouter le contexte https://www.cooperativepatentclassification.org/Archive\n",
    "# extraire le contexte du fichier xml"
   ]
  },
  {
   "cell_type": "code",
   "execution_count": 10,
   "id": "8b3e3b39",
   "metadata": {
    "execution": {
     "iopub.execute_input": "2022-06-19T23:19:10.538346Z",
     "iopub.status.busy": "2022-06-19T23:19:10.537680Z",
     "iopub.status.idle": "2022-06-19T23:19:11.218895Z",
     "shell.execute_reply": "2022-06-19T23:19:11.218161Z"
    },
    "papermill": {
     "duration": 0.748654,
     "end_time": "2022-06-19T23:19:11.220884",
     "exception": false,
     "start_time": "2022-06-19T23:19:10.472230",
     "status": "completed"
    },
    "tags": []
   },
   "outputs": [
    {
     "name": "stdout",
     "output_type": "stream",
     "text": [
      "(260476, 7)\n"
     ]
    },
    {
     "data": {
      "text/html": [
       "<div>\n",
       "<style scoped>\n",
       "    .dataframe tbody tr th:only-of-type {\n",
       "        vertical-align: middle;\n",
       "    }\n",
       "\n",
       "    .dataframe tbody tr th {\n",
       "        vertical-align: top;\n",
       "    }\n",
       "\n",
       "    .dataframe thead th {\n",
       "        text-align: right;\n",
       "    }\n",
       "</style>\n",
       "<table border=\"1\" class=\"dataframe\">\n",
       "  <thead>\n",
       "    <tr style=\"text-align: right;\">\n",
       "      <th></th>\n",
       "      <th>code</th>\n",
       "      <th>title</th>\n",
       "      <th>section</th>\n",
       "      <th>class</th>\n",
       "      <th>subclass</th>\n",
       "      <th>group</th>\n",
       "      <th>main_group</th>\n",
       "    </tr>\n",
       "  </thead>\n",
       "  <tbody>\n",
       "    <tr>\n",
       "      <th>0</th>\n",
       "      <td>A</td>\n",
       "      <td>HUMAN NECESSITIES</td>\n",
       "      <td>A</td>\n",
       "      <td>NaN</td>\n",
       "      <td>NaN</td>\n",
       "      <td>NaN</td>\n",
       "      <td>NaN</td>\n",
       "    </tr>\n",
       "    <tr>\n",
       "      <th>1</th>\n",
       "      <td>A01</td>\n",
       "      <td>AGRICULTURE; FORESTRY; ANIMAL HUSBANDRY; HUNTI...</td>\n",
       "      <td>A</td>\n",
       "      <td>1.0</td>\n",
       "      <td>NaN</td>\n",
       "      <td>NaN</td>\n",
       "      <td>NaN</td>\n",
       "    </tr>\n",
       "    <tr>\n",
       "      <th>2</th>\n",
       "      <td>A01B</td>\n",
       "      <td>SOIL WORKING IN AGRICULTURE OR FORESTRY; PARTS...</td>\n",
       "      <td>A</td>\n",
       "      <td>1.0</td>\n",
       "      <td>B</td>\n",
       "      <td>NaN</td>\n",
       "      <td>NaN</td>\n",
       "    </tr>\n",
       "    <tr>\n",
       "      <th>3</th>\n",
       "      <td>A01B1/00</td>\n",
       "      <td>Hand tools (edge trimmers for lawns A01G3/06  ...</td>\n",
       "      <td>A</td>\n",
       "      <td>1.0</td>\n",
       "      <td>B</td>\n",
       "      <td>1.0</td>\n",
       "      <td>0.0</td>\n",
       "    </tr>\n",
       "    <tr>\n",
       "      <th>4</th>\n",
       "      <td>A01B1/02</td>\n",
       "      <td>Spades; Shovels {(hand-operated dredgers E02F3...</td>\n",
       "      <td>A</td>\n",
       "      <td>1.0</td>\n",
       "      <td>B</td>\n",
       "      <td>1.0</td>\n",
       "      <td>2.0</td>\n",
       "    </tr>\n",
       "  </tbody>\n",
       "</table>\n",
       "</div>"
      ],
      "text/plain": [
       "       code                                              title section  class  \\\n",
       "0         A                                  HUMAN NECESSITIES       A    NaN   \n",
       "1       A01  AGRICULTURE; FORESTRY; ANIMAL HUSBANDRY; HUNTI...       A    1.0   \n",
       "2      A01B  SOIL WORKING IN AGRICULTURE OR FORESTRY; PARTS...       A    1.0   \n",
       "3  A01B1/00  Hand tools (edge trimmers for lawns A01G3/06  ...       A    1.0   \n",
       "4  A01B1/02  Spades; Shovels {(hand-operated dredgers E02F3...       A    1.0   \n",
       "\n",
       "  subclass  group  main_group  \n",
       "0      NaN    NaN         NaN  \n",
       "1      NaN    NaN         NaN  \n",
       "2        B    NaN         NaN  \n",
       "3        B    1.0         0.0  \n",
       "4        B    1.0         2.0  "
      ]
     },
     "execution_count": 10,
     "metadata": {},
     "output_type": "execute_result"
    }
   ],
   "source": [
    "titles = pd.read_csv(\"../input/cpc-codes/titles.csv\")\n",
    "print(titles.shape)\n",
    "titles.head()"
   ]
  },
  {
   "cell_type": "markdown",
   "id": "7153df53",
   "metadata": {
    "papermill": {
     "duration": 0.066118,
     "end_time": "2022-06-19T23:19:11.357084",
     "exception": false,
     "start_time": "2022-06-19T23:19:11.290966",
     "status": "completed"
    },
    "tags": []
   },
   "source": [
    "# HuggingFace AutoModelForSequenceClassification"
   ]
  },
  {
   "cell_type": "code",
   "execution_count": 11,
   "id": "7d2572e6",
   "metadata": {
    "execution": {
     "iopub.execute_input": "2022-06-19T23:19:11.489585Z",
     "iopub.status.busy": "2022-06-19T23:19:11.489361Z",
     "iopub.status.idle": "2022-06-19T23:19:11.649254Z",
     "shell.execute_reply": "2022-06-19T23:19:11.648518Z"
    },
    "papermill": {
     "duration": 0.228789,
     "end_time": "2022-06-19T23:19:11.651219",
     "exception": false,
     "start_time": "2022-06-19T23:19:11.422430",
     "status": "completed"
    },
    "tags": []
   },
   "outputs": [],
   "source": [
    "import numpy as np # linear algebra\n",
    "import pandas as pd # data processing, CSV file I/O (e.g. pd.read_csv)\n",
    "import os\n",
    "from scipy.stats import pearsonr\n",
    "from scipy.stats import spearmanr # pour trouver les correspondances entre les résultats sur des échelles variées\n",
    "from sklearn.model_selection import StratifiedGroupKFold"
   ]
  },
  {
   "cell_type": "code",
   "execution_count": 12,
   "id": "f0626383",
   "metadata": {
    "execution": {
     "iopub.execute_input": "2022-06-19T23:19:11.787551Z",
     "iopub.status.busy": "2022-06-19T23:19:11.787319Z",
     "iopub.status.idle": "2022-06-19T23:19:14.404869Z",
     "shell.execute_reply": "2022-06-19T23:19:14.404189Z"
    },
    "papermill": {
     "duration": 2.686841,
     "end_time": "2022-06-19T23:19:14.406927",
     "exception": false,
     "start_time": "2022-06-19T23:19:11.720086",
     "status": "completed"
    },
    "tags": []
   },
   "outputs": [],
   "source": [
    "import transformers\n",
    "from transformers import TrainingArguments,Trainer\n",
    "from transformers import AutoModelForSequenceClassification,AutoTokenizer\n",
    "\n",
    "import torch\n",
    "import datasets\n",
    "from datasets import load_dataset, Dataset, DatasetDict"
   ]
  },
  {
   "cell_type": "code",
   "execution_count": 13,
   "id": "cc41b3db",
   "metadata": {
    "execution": {
     "iopub.execute_input": "2022-06-19T23:19:14.540768Z",
     "iopub.status.busy": "2022-06-19T23:19:14.539984Z",
     "iopub.status.idle": "2022-06-19T23:19:14.544241Z",
     "shell.execute_reply": "2022-06-19T23:19:14.543626Z"
    },
    "papermill": {
     "duration": 0.073205,
     "end_time": "2022-06-19T23:19:14.545913",
     "exception": false,
     "start_time": "2022-06-19T23:19:14.472708",
     "status": "completed"
    },
    "tags": []
   },
   "outputs": [],
   "source": [
    "import warnings\n",
    "import logging\n",
    "from IPython.display import display, HTML"
   ]
  },
  {
   "cell_type": "markdown",
   "id": "48c598bc",
   "metadata": {
    "papermill": {
     "duration": 0.065403,
     "end_time": "2022-06-19T23:19:14.678217",
     "exception": false,
     "start_time": "2022-06-19T23:19:14.612814",
     "status": "completed"
    },
    "tags": []
   },
   "source": [
    "# Corpora merge"
   ]
  },
  {
   "cell_type": "code",
   "execution_count": 14,
   "id": "9664da5b",
   "metadata": {
    "execution": {
     "iopub.execute_input": "2022-06-19T23:19:14.809743Z",
     "iopub.status.busy": "2022-06-19T23:19:14.809503Z",
     "iopub.status.idle": "2022-06-19T23:19:15.200127Z",
     "shell.execute_reply": "2022-06-19T23:19:15.199412Z"
    },
    "papermill": {
     "duration": 0.459486,
     "end_time": "2022-06-19T23:19:15.202602",
     "exception": false,
     "start_time": "2022-06-19T23:19:14.743116",
     "status": "completed"
    },
    "tags": []
   },
   "outputs": [
    {
     "name": "stdout",
     "output_type": "stream",
     "text": [
      "(36473, 6)\n"
     ]
    },
    {
     "data": {
      "text/html": [
       "<div>\n",
       "<style scoped>\n",
       "    .dataframe tbody tr th:only-of-type {\n",
       "        vertical-align: middle;\n",
       "    }\n",
       "\n",
       "    .dataframe tbody tr th {\n",
       "        vertical-align: top;\n",
       "    }\n",
       "\n",
       "    .dataframe thead th {\n",
       "        text-align: right;\n",
       "    }\n",
       "</style>\n",
       "<table border=\"1\" class=\"dataframe\">\n",
       "  <thead>\n",
       "    <tr style=\"text-align: right;\">\n",
       "      <th></th>\n",
       "      <th>id</th>\n",
       "      <th>anchor</th>\n",
       "      <th>target</th>\n",
       "      <th>context</th>\n",
       "      <th>score</th>\n",
       "      <th>section</th>\n",
       "    </tr>\n",
       "  </thead>\n",
       "  <tbody>\n",
       "    <tr>\n",
       "      <th>0</th>\n",
       "      <td>37d61fd2272659b1</td>\n",
       "      <td>abatement</td>\n",
       "      <td>abatement of pollution</td>\n",
       "      <td>A47</td>\n",
       "      <td>0.50</td>\n",
       "      <td>A</td>\n",
       "    </tr>\n",
       "    <tr>\n",
       "      <th>1</th>\n",
       "      <td>7b9652b17b68b7a4</td>\n",
       "      <td>abatement</td>\n",
       "      <td>act of abating</td>\n",
       "      <td>A47</td>\n",
       "      <td>0.75</td>\n",
       "      <td>A</td>\n",
       "    </tr>\n",
       "    <tr>\n",
       "      <th>2</th>\n",
       "      <td>36d72442aefd8232</td>\n",
       "      <td>abatement</td>\n",
       "      <td>active catalyst</td>\n",
       "      <td>A47</td>\n",
       "      <td>0.25</td>\n",
       "      <td>A</td>\n",
       "    </tr>\n",
       "    <tr>\n",
       "      <th>3</th>\n",
       "      <td>5296b0c19e1ce60e</td>\n",
       "      <td>abatement</td>\n",
       "      <td>eliminating process</td>\n",
       "      <td>A47</td>\n",
       "      <td>0.50</td>\n",
       "      <td>A</td>\n",
       "    </tr>\n",
       "    <tr>\n",
       "      <th>4</th>\n",
       "      <td>54c1e3b9184cb5b6</td>\n",
       "      <td>abatement</td>\n",
       "      <td>forest region</td>\n",
       "      <td>A47</td>\n",
       "      <td>0.00</td>\n",
       "      <td>A</td>\n",
       "    </tr>\n",
       "  </tbody>\n",
       "</table>\n",
       "</div>"
      ],
      "text/plain": [
       "                 id     anchor                  target context  score section\n",
       "0  37d61fd2272659b1  abatement  abatement of pollution     A47   0.50       A\n",
       "1  7b9652b17b68b7a4  abatement          act of abating     A47   0.75       A\n",
       "2  36d72442aefd8232  abatement         active catalyst     A47   0.25       A\n",
       "3  5296b0c19e1ce60e  abatement     eliminating process     A47   0.50       A\n",
       "4  54c1e3b9184cb5b6  abatement           forest region     A47   0.00       A"
      ]
     },
     "metadata": {},
     "output_type": "display_data"
    },
    {
     "data": {
      "text/html": [
       "<div>\n",
       "<style scoped>\n",
       "    .dataframe tbody tr th:only-of-type {\n",
       "        vertical-align: middle;\n",
       "    }\n",
       "\n",
       "    .dataframe tbody tr th {\n",
       "        vertical-align: top;\n",
       "    }\n",
       "\n",
       "    .dataframe thead th {\n",
       "        text-align: right;\n",
       "    }\n",
       "</style>\n",
       "<table border=\"1\" class=\"dataframe\">\n",
       "  <thead>\n",
       "    <tr style=\"text-align: right;\">\n",
       "      <th></th>\n",
       "      <th>context</th>\n",
       "      <th>title</th>\n",
       "      <th>section</th>\n",
       "      <th>class</th>\n",
       "      <th>subclass</th>\n",
       "      <th>group</th>\n",
       "      <th>main_group</th>\n",
       "    </tr>\n",
       "  </thead>\n",
       "  <tbody>\n",
       "    <tr>\n",
       "      <th>0</th>\n",
       "      <td>A</td>\n",
       "      <td>HUMAN NECESSITIES</td>\n",
       "      <td>A</td>\n",
       "      <td>NaN</td>\n",
       "      <td>NaN</td>\n",
       "      <td>NaN</td>\n",
       "      <td>NaN</td>\n",
       "    </tr>\n",
       "    <tr>\n",
       "      <th>1</th>\n",
       "      <td>A01</td>\n",
       "      <td>AGRICULTURE; FORESTRY; ANIMAL HUSBANDRY; HUNTI...</td>\n",
       "      <td>A</td>\n",
       "      <td>1.0</td>\n",
       "      <td>NaN</td>\n",
       "      <td>NaN</td>\n",
       "      <td>NaN</td>\n",
       "    </tr>\n",
       "    <tr>\n",
       "      <th>2</th>\n",
       "      <td>A01B</td>\n",
       "      <td>SOIL WORKING IN AGRICULTURE OR FORESTRY; PARTS...</td>\n",
       "      <td>A</td>\n",
       "      <td>1.0</td>\n",
       "      <td>B</td>\n",
       "      <td>NaN</td>\n",
       "      <td>NaN</td>\n",
       "    </tr>\n",
       "    <tr>\n",
       "      <th>3</th>\n",
       "      <td>A01B1/00</td>\n",
       "      <td>Hand tools (edge trimmers for lawns A01G3/06  ...</td>\n",
       "      <td>A</td>\n",
       "      <td>1.0</td>\n",
       "      <td>B</td>\n",
       "      <td>1.0</td>\n",
       "      <td>0.0</td>\n",
       "    </tr>\n",
       "    <tr>\n",
       "      <th>4</th>\n",
       "      <td>A01B1/02</td>\n",
       "      <td>Spades; Shovels {(hand-operated dredgers E02F3...</td>\n",
       "      <td>A</td>\n",
       "      <td>1.0</td>\n",
       "      <td>B</td>\n",
       "      <td>1.0</td>\n",
       "      <td>2.0</td>\n",
       "    </tr>\n",
       "  </tbody>\n",
       "</table>\n",
       "</div>"
      ],
      "text/plain": [
       "    context                                              title section  class  \\\n",
       "0         A                                  HUMAN NECESSITIES       A    NaN   \n",
       "1       A01  AGRICULTURE; FORESTRY; ANIMAL HUSBANDRY; HUNTI...       A    1.0   \n",
       "2      A01B  SOIL WORKING IN AGRICULTURE OR FORESTRY; PARTS...       A    1.0   \n",
       "3  A01B1/00  Hand tools (edge trimmers for lawns A01G3/06  ...       A    1.0   \n",
       "4  A01B1/02  Spades; Shovels {(hand-operated dredgers E02F3...       A    1.0   \n",
       "\n",
       "  subclass  group  main_group  \n",
       "0      NaN    NaN         NaN  \n",
       "1      NaN    NaN         NaN  \n",
       "2        B    NaN         NaN  \n",
       "3        B    1.0         0.0  \n",
       "4        B    1.0         2.0  "
      ]
     },
     "metadata": {},
     "output_type": "display_data"
    },
    {
     "data": {
      "text/html": [
       "<div>\n",
       "<style scoped>\n",
       "    .dataframe tbody tr th:only-of-type {\n",
       "        vertical-align: middle;\n",
       "    }\n",
       "\n",
       "    .dataframe tbody tr th {\n",
       "        vertical-align: top;\n",
       "    }\n",
       "\n",
       "    .dataframe thead th {\n",
       "        text-align: right;\n",
       "    }\n",
       "</style>\n",
       "<table border=\"1\" class=\"dataframe\">\n",
       "  <thead>\n",
       "    <tr style=\"text-align: right;\">\n",
       "      <th></th>\n",
       "      <th>id</th>\n",
       "      <th>anchor</th>\n",
       "      <th>target</th>\n",
       "      <th>context</th>\n",
       "      <th>score</th>\n",
       "      <th>section</th>\n",
       "      <th>context_title</th>\n",
       "      <th>section_title</th>\n",
       "    </tr>\n",
       "  </thead>\n",
       "  <tbody>\n",
       "    <tr>\n",
       "      <th>0</th>\n",
       "      <td>37d61fd2272659b1</td>\n",
       "      <td>abatement</td>\n",
       "      <td>abatement of pollution</td>\n",
       "      <td>A47</td>\n",
       "      <td>0.50</td>\n",
       "      <td>A</td>\n",
       "      <td>FURNITURE; DOMESTIC ARTICLES OR APPLIANCES; CO...</td>\n",
       "      <td>HUMAN NECESSITIES</td>\n",
       "    </tr>\n",
       "    <tr>\n",
       "      <th>1</th>\n",
       "      <td>7b9652b17b68b7a4</td>\n",
       "      <td>abatement</td>\n",
       "      <td>act of abating</td>\n",
       "      <td>A47</td>\n",
       "      <td>0.75</td>\n",
       "      <td>A</td>\n",
       "      <td>FURNITURE; DOMESTIC ARTICLES OR APPLIANCES; CO...</td>\n",
       "      <td>HUMAN NECESSITIES</td>\n",
       "    </tr>\n",
       "    <tr>\n",
       "      <th>2</th>\n",
       "      <td>36d72442aefd8232</td>\n",
       "      <td>abatement</td>\n",
       "      <td>active catalyst</td>\n",
       "      <td>A47</td>\n",
       "      <td>0.25</td>\n",
       "      <td>A</td>\n",
       "      <td>FURNITURE; DOMESTIC ARTICLES OR APPLIANCES; CO...</td>\n",
       "      <td>HUMAN NECESSITIES</td>\n",
       "    </tr>\n",
       "    <tr>\n",
       "      <th>3</th>\n",
       "      <td>5296b0c19e1ce60e</td>\n",
       "      <td>abatement</td>\n",
       "      <td>eliminating process</td>\n",
       "      <td>A47</td>\n",
       "      <td>0.50</td>\n",
       "      <td>A</td>\n",
       "      <td>FURNITURE; DOMESTIC ARTICLES OR APPLIANCES; CO...</td>\n",
       "      <td>HUMAN NECESSITIES</td>\n",
       "    </tr>\n",
       "    <tr>\n",
       "      <th>4</th>\n",
       "      <td>54c1e3b9184cb5b6</td>\n",
       "      <td>abatement</td>\n",
       "      <td>forest region</td>\n",
       "      <td>A47</td>\n",
       "      <td>0.00</td>\n",
       "      <td>A</td>\n",
       "      <td>FURNITURE; DOMESTIC ARTICLES OR APPLIANCES; CO...</td>\n",
       "      <td>HUMAN NECESSITIES</td>\n",
       "    </tr>\n",
       "  </tbody>\n",
       "</table>\n",
       "</div>"
      ],
      "text/plain": [
       "                 id     anchor                  target context  score section  \\\n",
       "0  37d61fd2272659b1  abatement  abatement of pollution     A47   0.50       A   \n",
       "1  7b9652b17b68b7a4  abatement          act of abating     A47   0.75       A   \n",
       "2  36d72442aefd8232  abatement         active catalyst     A47   0.25       A   \n",
       "3  5296b0c19e1ce60e  abatement     eliminating process     A47   0.50       A   \n",
       "4  54c1e3b9184cb5b6  abatement           forest region     A47   0.00       A   \n",
       "\n",
       "                                       context_title      section_title  \n",
       "0  FURNITURE; DOMESTIC ARTICLES OR APPLIANCES; CO...  HUMAN NECESSITIES  \n",
       "1  FURNITURE; DOMESTIC ARTICLES OR APPLIANCES; CO...  HUMAN NECESSITIES  \n",
       "2  FURNITURE; DOMESTIC ARTICLES OR APPLIANCES; CO...  HUMAN NECESSITIES  \n",
       "3  FURNITURE; DOMESTIC ARTICLES OR APPLIANCES; CO...  HUMAN NECESSITIES  \n",
       "4  FURNITURE; DOMESTIC ARTICLES OR APPLIANCES; CO...  HUMAN NECESSITIES  "
      ]
     },
     "metadata": {},
     "output_type": "display_data"
    }
   ],
   "source": [
    "train['section'] = train[\"context\"].str[0]\n",
    "print(train.shape)\n",
    "display(train.head())\n",
    "titles=titles.rename(columns={\"code\": \"context\"})\n",
    "display(titles.head())\n",
    "train = train.merge(titles[[\"context\", \"title\"]], on=\"context\").rename(columns={\"title\": \"context_title\"})\n",
    "train = train.merge(titles[[\"context\", \"title\"]].rename(columns={\"context\": \"section\"}), on=\"section\").rename(columns={\"title\": \"section_title\"})\n",
    "display(train.head())"
   ]
  },
  {
   "cell_type": "code",
   "execution_count": 15,
   "id": "1449b4d4",
   "metadata": {
    "execution": {
     "iopub.execute_input": "2022-06-19T23:19:15.437332Z",
     "iopub.status.busy": "2022-06-19T23:19:15.436967Z",
     "iopub.status.idle": "2022-06-19T23:19:15.441570Z",
     "shell.execute_reply": "2022-06-19T23:19:15.440724Z"
    },
    "papermill": {
     "duration": 0.122896,
     "end_time": "2022-06-19T23:19:15.444569",
     "exception": false,
     "start_time": "2022-06-19T23:19:15.321673",
     "status": "completed"
    },
    "tags": []
   },
   "outputs": [],
   "source": [
    "logging.disable(logging.WARNING)\n",
    "warnings.simplefilter('ignore')"
   ]
  },
  {
   "cell_type": "markdown",
   "id": "91927295",
   "metadata": {
    "papermill": {
     "duration": 0.093181,
     "end_time": "2022-06-19T23:19:15.647619",
     "exception": false,
     "start_time": "2022-06-19T23:19:15.554438",
     "status": "completed"
    },
    "tags": []
   },
   "source": [
    "# PatentSBerta"
   ]
  },
  {
   "cell_type": "code",
   "execution_count": 16,
   "id": "95c9fbc3",
   "metadata": {
    "execution": {
     "iopub.execute_input": "2022-06-19T23:19:15.787185Z",
     "iopub.status.busy": "2022-06-19T23:19:15.786939Z",
     "iopub.status.idle": "2022-06-19T23:19:15.790488Z",
     "shell.execute_reply": "2022-06-19T23:19:15.789614Z"
    },
    "papermill": {
     "duration": 0.073805,
     "end_time": "2022-06-19T23:19:15.792680",
     "exception": false,
     "start_time": "2022-06-19T23:19:15.718875",
     "status": "completed"
    },
    "tags": []
   },
   "outputs": [],
   "source": [
    "#model_name = 'AI-Growth-Lab/PatentSBERTa_Kaggle_V3' #(online version)\n",
    "model_name = '../input/aigl-patentsberta-kaggle-v3'"
   ]
  },
  {
   "cell_type": "code",
   "execution_count": 17,
   "id": "d6348a04",
   "metadata": {
    "execution": {
     "iopub.execute_input": "2022-06-19T23:19:15.928370Z",
     "iopub.status.busy": "2022-06-19T23:19:15.928149Z",
     "iopub.status.idle": "2022-06-19T23:19:15.993140Z",
     "shell.execute_reply": "2022-06-19T23:19:15.992415Z"
    },
    "papermill": {
     "duration": 0.134646,
     "end_time": "2022-06-19T23:19:15.995110",
     "exception": false,
     "start_time": "2022-06-19T23:19:15.860464",
     "status": "completed"
    },
    "tags": []
   },
   "outputs": [],
   "source": [
    "tokenizer = AutoTokenizer.from_pretrained(model_name)"
   ]
  },
  {
   "cell_type": "code",
   "execution_count": 18,
   "id": "61983566",
   "metadata": {
    "execution": {
     "iopub.execute_input": "2022-06-19T23:19:16.133702Z",
     "iopub.status.busy": "2022-06-19T23:19:16.133111Z",
     "iopub.status.idle": "2022-06-19T23:19:16.138125Z",
     "shell.execute_reply": "2022-06-19T23:19:16.137474Z"
    },
    "papermill": {
     "duration": 0.075847,
     "end_time": "2022-06-19T23:19:16.139931",
     "exception": false,
     "start_time": "2022-06-19T23:19:16.064084",
     "status": "completed"
    },
    "tags": []
   },
   "outputs": [
    {
     "data": {
      "text/plain": [
       "['<s>', '</s>', '[UNK]', '<pad>', '<mask>']"
      ]
     },
     "execution_count": 18,
     "metadata": {},
     "output_type": "execute_result"
    }
   ],
   "source": [
    "tokenizer.all_special_tokens"
   ]
  },
  {
   "cell_type": "code",
   "execution_count": 19,
   "id": "433fed4d",
   "metadata": {
    "execution": {
     "iopub.execute_input": "2022-06-19T23:19:16.278103Z",
     "iopub.status.busy": "2022-06-19T23:19:16.277500Z",
     "iopub.status.idle": "2022-06-19T23:19:16.283166Z",
     "shell.execute_reply": "2022-06-19T23:19:16.282564Z"
    },
    "papermill": {
     "duration": 0.07589,
     "end_time": "2022-06-19T23:19:16.284797",
     "exception": false,
     "start_time": "2022-06-19T23:19:16.208907",
     "status": "completed"
    },
    "tags": []
   },
   "outputs": [],
   "source": [
    "def clean(x):\n",
    "    t = x.lower()\n",
    "    t = t.replace(\"[\",'')\n",
    "    t = t.replace(\";\",'')\n",
    "    t = t.replace(\",\",'')\n",
    "    t = t.replace(\"]\",'')\n",
    "    t = t.replace(\":\",'')\n",
    "    t = t.replace(\"(\",'')\n",
    "    t = t.replace(\")\",'')\n",
    "    t = t.replace(\"{\",'')\n",
    "    t = t.replace(\"}\",'')\n",
    "    t = t.replace(\"/\",' ')\n",
    "    t = t.replace(\"-\",' ')\n",
    "    return t"
   ]
  },
  {
   "cell_type": "code",
   "execution_count": 20,
   "id": "90a5f37b",
   "metadata": {
    "execution": {
     "iopub.execute_input": "2022-06-19T23:19:16.420753Z",
     "iopub.status.busy": "2022-06-19T23:19:16.420373Z",
     "iopub.status.idle": "2022-06-19T23:19:16.497138Z",
     "shell.execute_reply": "2022-06-19T23:19:16.496545Z"
    },
    "papermill": {
     "duration": 0.1467,
     "end_time": "2022-06-19T23:19:16.498811",
     "exception": false,
     "start_time": "2022-06-19T23:19:16.352111",
     "status": "completed"
    },
    "tags": []
   },
   "outputs": [],
   "source": [
    "train[\"inputs\"] = train[\"section_title\"].apply(clean) + \" [SEP] \" + train[\"anchor\"] + \" [SEP] \" + train[\"target\"]"
   ]
  },
  {
   "cell_type": "code",
   "execution_count": 21,
   "id": "f10bc2df",
   "metadata": {
    "execution": {
     "iopub.execute_input": "2022-06-19T23:19:16.641817Z",
     "iopub.status.busy": "2022-06-19T23:19:16.641593Z",
     "iopub.status.idle": "2022-06-19T23:19:16.646229Z",
     "shell.execute_reply": "2022-06-19T23:19:16.645613Z"
    },
    "papermill": {
     "duration": 0.078858,
     "end_time": "2022-06-19T23:19:16.647956",
     "exception": false,
     "start_time": "2022-06-19T23:19:16.569098",
     "status": "completed"
    },
    "tags": []
   },
   "outputs": [],
   "source": [
    "def tok_func(x):\n",
    "    return tokenizer(x[\"inputs\"])"
   ]
  },
  {
   "cell_type": "code",
   "execution_count": 22,
   "id": "e634cee1",
   "metadata": {
    "execution": {
     "iopub.execute_input": "2022-06-19T23:19:16.787837Z",
     "iopub.status.busy": "2022-06-19T23:19:16.787636Z",
     "iopub.status.idle": "2022-06-19T23:19:16.829071Z",
     "shell.execute_reply": "2022-06-19T23:19:16.828461Z"
    },
    "papermill": {
     "duration": 0.113293,
     "end_time": "2022-06-19T23:19:16.830799",
     "exception": false,
     "start_time": "2022-06-19T23:19:16.717506",
     "status": "completed"
    },
    "tags": []
   },
   "outputs": [],
   "source": [
    "train_ds = Dataset.from_pandas(train).rename_column('score', 'label')"
   ]
  },
  {
   "cell_type": "code",
   "execution_count": 23,
   "id": "37a1f657",
   "metadata": {
    "execution": {
     "iopub.execute_input": "2022-06-19T23:19:16.966193Z",
     "iopub.status.busy": "2022-06-19T23:19:16.965988Z",
     "iopub.status.idle": "2022-06-19T23:19:20.173865Z",
     "shell.execute_reply": "2022-06-19T23:19:20.173252Z"
    },
    "papermill": {
     "duration": 3.277708,
     "end_time": "2022-06-19T23:19:20.175583",
     "exception": false,
     "start_time": "2022-06-19T23:19:16.897875",
     "status": "completed"
    },
    "tags": []
   },
   "outputs": [
    {
     "data": {
      "application/vnd.jupyter.widget-view+json": {
       "model_id": "1262c503b3f54e6bb267ed46d7ed0136",
       "version_major": 2,
       "version_minor": 0
      },
      "text/plain": [
       "  0%|          | 0/37 [00:00<?, ?ba/s]"
      ]
     },
     "metadata": {},
     "output_type": "display_data"
    }
   ],
   "source": [
    "inps = \"anchor\",\"target\",\"context\",\"context_title\",\"section_title\"\n",
    "tok_ds = train_ds.map(tok_func, batched=True, remove_columns=inps+('inputs','id','section'))"
   ]
  },
  {
   "cell_type": "code",
   "execution_count": 24,
   "id": "57974f96",
   "metadata": {
    "execution": {
     "iopub.execute_input": "2022-06-19T23:19:20.315831Z",
     "iopub.status.busy": "2022-06-19T23:19:20.315313Z",
     "iopub.status.idle": "2022-06-19T23:19:20.320009Z",
     "shell.execute_reply": "2022-06-19T23:19:20.319383Z"
    },
    "papermill": {
     "duration": 0.075833,
     "end_time": "2022-06-19T23:19:20.321677",
     "exception": false,
     "start_time": "2022-06-19T23:19:20.245844",
     "status": "completed"
    },
    "tags": []
   },
   "outputs": [
    {
     "data": {
      "text/plain": [
       "Dataset({\n",
       "    features: ['label', '__index_level_0__', 'input_ids', 'attention_mask'],\n",
       "    num_rows: 36473\n",
       "})"
      ]
     },
     "execution_count": 24,
     "metadata": {},
     "output_type": "execute_result"
    }
   ],
   "source": [
    "tok_ds"
   ]
  },
  {
   "cell_type": "code",
   "execution_count": 25,
   "id": "cd56f258",
   "metadata": {
    "execution": {
     "iopub.execute_input": "2022-06-19T23:19:20.460479Z",
     "iopub.status.busy": "2022-06-19T23:19:20.460149Z",
     "iopub.status.idle": "2022-06-19T23:19:20.463567Z",
     "shell.execute_reply": "2022-06-19T23:19:20.462923Z"
    },
    "papermill": {
     "duration": 0.074097,
     "end_time": "2022-06-19T23:19:20.465186",
     "exception": false,
     "start_time": "2022-06-19T23:19:20.391089",
     "status": "completed"
    },
    "tags": []
   },
   "outputs": [],
   "source": [
    "# bs - batch size\n",
    "lr,bs = 8e-5,64\n",
    "# wd: weight decay\n",
    "wd,epochs = 0.01,4"
   ]
  },
  {
   "cell_type": "code",
   "execution_count": 26,
   "id": "02666c69",
   "metadata": {
    "execution": {
     "iopub.execute_input": "2022-06-19T23:19:20.604215Z",
     "iopub.status.busy": "2022-06-19T23:19:20.603664Z",
     "iopub.status.idle": "2022-06-19T23:19:20.610964Z",
     "shell.execute_reply": "2022-06-19T23:19:20.610366Z"
    },
    "papermill": {
     "duration": 0.079129,
     "end_time": "2022-06-19T23:19:20.612704",
     "exception": false,
     "start_time": "2022-06-19T23:19:20.533575",
     "status": "completed"
    },
    "tags": []
   },
   "outputs": [],
   "source": [
    "anchors = train[\"anchor\"].unique()\n",
    "np.random.shuffle(anchors)"
   ]
  },
  {
   "cell_type": "code",
   "execution_count": 27,
   "id": "433a50e6",
   "metadata": {
    "execution": {
     "iopub.execute_input": "2022-06-19T23:19:20.753728Z",
     "iopub.status.busy": "2022-06-19T23:19:20.753346Z",
     "iopub.status.idle": "2022-06-19T23:19:20.756967Z",
     "shell.execute_reply": "2022-06-19T23:19:20.756321Z"
    },
    "papermill": {
     "duration": 0.075474,
     "end_time": "2022-06-19T23:19:20.758602",
     "exception": false,
     "start_time": "2022-06-19T23:19:20.683128",
     "status": "completed"
    },
    "tags": []
   },
   "outputs": [],
   "source": [
    "val_prop = 0.25\n",
    "val_sz = int(len(anchors)*val_prop)\n",
    "val_anchors = anchors[:val_sz]"
   ]
  },
  {
   "cell_type": "code",
   "execution_count": 28,
   "id": "c95b64ee",
   "metadata": {
    "execution": {
     "iopub.execute_input": "2022-06-19T23:19:20.898144Z",
     "iopub.status.busy": "2022-06-19T23:19:20.897517Z",
     "iopub.status.idle": "2022-06-19T23:19:21.115075Z",
     "shell.execute_reply": "2022-06-19T23:19:21.114300Z"
    },
    "papermill": {
     "duration": 0.289817,
     "end_time": "2022-06-19T23:19:21.117056",
     "exception": false,
     "start_time": "2022-06-19T23:19:20.827239",
     "status": "completed"
    },
    "tags": []
   },
   "outputs": [
    {
     "data": {
      "text/plain": [
       "(9927, 26546)"
      ]
     },
     "execution_count": 28,
     "metadata": {},
     "output_type": "execute_result"
    }
   ],
   "source": [
    "is_val = np.isin(train.anchor, val_anchors)\n",
    "idxs = np.arange(len(train))\n",
    "val_idxs = idxs[ is_val]\n",
    "trn_idxs = idxs[~is_val]\n",
    "len(val_idxs),len(trn_idxs)"
   ]
  },
  {
   "cell_type": "code",
   "execution_count": 29,
   "id": "de8dd90a",
   "metadata": {
    "execution": {
     "iopub.execute_input": "2022-06-19T23:19:21.258963Z",
     "iopub.status.busy": "2022-06-19T23:19:21.258737Z",
     "iopub.status.idle": "2022-06-19T23:19:21.277361Z",
     "shell.execute_reply": "2022-06-19T23:19:21.276738Z"
    },
    "papermill": {
     "duration": 0.091379,
     "end_time": "2022-06-19T23:19:21.279101",
     "exception": false,
     "start_time": "2022-06-19T23:19:21.187722",
     "status": "completed"
    },
    "tags": []
   },
   "outputs": [],
   "source": [
    "dds = DatasetDict({\"train\":tok_ds.select(trn_idxs),\n",
    "             \"test\": tok_ds.select(val_idxs)})"
   ]
  },
  {
   "cell_type": "code",
   "execution_count": 30,
   "id": "55e787fd",
   "metadata": {
    "execution": {
     "iopub.execute_input": "2022-06-19T23:19:21.419270Z",
     "iopub.status.busy": "2022-06-19T23:19:21.418719Z",
     "iopub.status.idle": "2022-06-19T23:19:21.422849Z",
     "shell.execute_reply": "2022-06-19T23:19:21.422088Z"
    },
    "papermill": {
     "duration": 0.076482,
     "end_time": "2022-06-19T23:19:21.424730",
     "exception": false,
     "start_time": "2022-06-19T23:19:21.348248",
     "status": "completed"
    },
    "tags": []
   },
   "outputs": [],
   "source": [
    "def corr(eval_pred): \n",
    "    logits, labels = eval_pred\n",
    "    logits = logits.reshape(-1)\n",
    "    return {'pearson': np.corrcoef(logits, labels)[0][1]}"
   ]
  },
  {
   "cell_type": "code",
   "execution_count": 31,
   "id": "d3e8f1db",
   "metadata": {
    "execution": {
     "iopub.execute_input": "2022-06-19T23:19:21.565375Z",
     "iopub.status.busy": "2022-06-19T23:19:21.565150Z",
     "iopub.status.idle": "2022-06-19T23:19:21.624960Z",
     "shell.execute_reply": "2022-06-19T23:19:21.624302Z"
    },
    "papermill": {
     "duration": 0.132988,
     "end_time": "2022-06-19T23:19:21.626875",
     "exception": false,
     "start_time": "2022-06-19T23:19:21.493887",
     "status": "completed"
    },
    "tags": []
   },
   "outputs": [],
   "source": [
    "#args = TrainingArguments('outputs', learning_rate=lr, warmup_ratio=0.1, lr_scheduler_type='cosine', fp16=True,\n",
    "    #evaluation_strategy=\"epoch\", per_device_train_batch_size=bs, per_device_eval_batch_size=bs*2,\n",
    "     #num_train_epochs=epochs, weight_decay=wd, report_to='none')\n",
    "args = TrainingArguments('outputs', learning_rate=lr, warmup_ratio=0.1, lr_scheduler_type='cosine',\n",
    "    evaluation_strategy=\"epoch\", per_device_train_batch_size=bs, per_device_eval_batch_size=bs*2,\n",
    "    num_train_epochs=epochs, weight_decay=wd, report_to='none')"
   ]
  },
  {
   "cell_type": "code",
   "execution_count": 32,
   "id": "08422359",
   "metadata": {
    "execution": {
     "iopub.execute_input": "2022-06-19T23:19:21.764998Z",
     "iopub.status.busy": "2022-06-19T23:19:21.764396Z",
     "iopub.status.idle": "2022-06-19T23:19:33.038563Z",
     "shell.execute_reply": "2022-06-19T23:19:33.037784Z"
    },
    "papermill": {
     "duration": 11.345869,
     "end_time": "2022-06-19T23:19:33.040663",
     "exception": false,
     "start_time": "2022-06-19T23:19:21.694794",
     "status": "completed"
    },
    "tags": []
   },
   "outputs": [],
   "source": [
    "model = AutoModelForSequenceClassification.from_pretrained(model_name, num_labels=1, ignore_mismatched_sizes=True)\n",
    "trainer = Trainer(model, args, train_dataset=dds['train'], eval_dataset=dds['test'],\n",
    "               tokenizer=tokenizer, compute_metrics=corr)"
   ]
  },
  {
   "cell_type": "code",
   "execution_count": 33,
   "id": "0d4a1f77",
   "metadata": {
    "execution": {
     "iopub.execute_input": "2022-06-19T23:19:33.180374Z",
     "iopub.status.busy": "2022-06-19T23:19:33.179724Z",
     "iopub.status.idle": "2022-06-19T23:19:33.184943Z",
     "shell.execute_reply": "2022-06-19T23:19:33.184313Z"
    },
    "papermill": {
     "duration": 0.076441,
     "end_time": "2022-06-19T23:19:33.186640",
     "exception": false,
     "start_time": "2022-06-19T23:19:33.110199",
     "status": "completed"
    },
    "tags": []
   },
   "outputs": [
    {
     "data": {
      "text/plain": [
       "Dataset({\n",
       "    features: ['label', '__index_level_0__', 'input_ids', 'attention_mask'],\n",
       "    num_rows: 26546\n",
       "})"
      ]
     },
     "execution_count": 33,
     "metadata": {},
     "output_type": "execute_result"
    }
   ],
   "source": [
    "dds['train']"
   ]
  },
  {
   "cell_type": "code",
   "execution_count": 34,
   "id": "066d0ef1",
   "metadata": {
    "execution": {
     "iopub.execute_input": "2022-06-19T23:19:33.327711Z",
     "iopub.status.busy": "2022-06-19T23:19:33.327516Z",
     "iopub.status.idle": "2022-06-19T23:19:42.429636Z",
     "shell.execute_reply": "2022-06-19T23:19:42.428765Z"
    },
    "papermill": {
     "duration": 9.174254,
     "end_time": "2022-06-19T23:19:42.431643",
     "exception": false,
     "start_time": "2022-06-19T23:19:33.257389",
     "status": "completed"
    },
    "tags": []
   },
   "outputs": [
    {
     "data": {
      "text/html": [
       "\n",
       "    <div>\n",
       "      \n",
       "      <progress value='79' max='78' style='width:300px; height:20px; vertical-align: middle;'></progress>\n",
       "      [78/78 00:10]\n",
       "    </div>\n",
       "    "
      ],
      "text/plain": [
       "<IPython.core.display.HTML object>"
      ]
     },
     "metadata": {},
     "output_type": "display_data"
    }
   ],
   "source": [
    "eval = trainer.evaluate()"
   ]
  },
  {
   "cell_type": "code",
   "execution_count": 35,
   "id": "8cc1de8a",
   "metadata": {
    "execution": {
     "iopub.execute_input": "2022-06-19T23:19:42.576225Z",
     "iopub.status.busy": "2022-06-19T23:19:42.575992Z",
     "iopub.status.idle": "2022-06-19T23:19:42.580796Z",
     "shell.execute_reply": "2022-06-19T23:19:42.580043Z"
    },
    "papermill": {
     "duration": 0.077528,
     "end_time": "2022-06-19T23:19:42.582618",
     "exception": false,
     "start_time": "2022-06-19T23:19:42.505090",
     "status": "completed"
    },
    "tags": []
   },
   "outputs": [
    {
     "data": {
      "text/plain": [
       "{'eval_loss': 0.011976813897490501,\n",
       " 'eval_pearson': 0.9171375891429188,\n",
       " 'eval_runtime': 9.0952,\n",
       " 'eval_samples_per_second': 1091.453,\n",
       " 'eval_steps_per_second': 8.576}"
      ]
     },
     "execution_count": 35,
     "metadata": {},
     "output_type": "execute_result"
    }
   ],
   "source": [
    "eval"
   ]
  },
  {
   "cell_type": "code",
   "execution_count": 36,
   "id": "754ae2ad",
   "metadata": {
    "execution": {
     "iopub.execute_input": "2022-06-19T23:19:42.726083Z",
     "iopub.status.busy": "2022-06-19T23:19:42.725845Z",
     "iopub.status.idle": "2022-06-19T23:19:42.730557Z",
     "shell.execute_reply": "2022-06-19T23:19:42.729929Z"
    },
    "papermill": {
     "duration": 0.077692,
     "end_time": "2022-06-19T23:19:42.732230",
     "exception": false,
     "start_time": "2022-06-19T23:19:42.654538",
     "status": "completed"
    },
    "tags": []
   },
   "outputs": [
    {
     "data": {
      "text/plain": [
       "1698944"
      ]
     },
     "execution_count": 36,
     "metadata": {},
     "output_type": "execute_result"
    }
   ],
   "source": [
    "trainer.num_examples(dds['train'])"
   ]
  },
  {
   "cell_type": "code",
   "execution_count": 37,
   "id": "6dc2e24a",
   "metadata": {
    "execution": {
     "iopub.execute_input": "2022-06-19T23:19:42.876784Z",
     "iopub.status.busy": "2022-06-19T23:19:42.876018Z",
     "iopub.status.idle": "2022-06-19T23:19:42.879618Z",
     "shell.execute_reply": "2022-06-19T23:19:42.878967Z"
    },
    "papermill": {
     "duration": 0.078017,
     "end_time": "2022-06-19T23:19:42.881329",
     "exception": false,
     "start_time": "2022-06-19T23:19:42.803312",
     "status": "completed"
    },
    "tags": []
   },
   "outputs": [],
   "source": [
    "#trainer.save_model()"
   ]
  },
  {
   "cell_type": "markdown",
   "id": "48a637df",
   "metadata": {
    "papermill": {
     "duration": 0.07114,
     "end_time": "2022-06-19T23:19:43.024102",
     "exception": false,
     "start_time": "2022-06-19T23:19:42.952962",
     "status": "completed"
    },
    "tags": []
   },
   "source": [
    "# Test corpus preprocessing"
   ]
  },
  {
   "cell_type": "code",
   "execution_count": 38,
   "id": "1416fc23",
   "metadata": {
    "execution": {
     "iopub.execute_input": "2022-06-19T23:19:43.166235Z",
     "iopub.status.busy": "2022-06-19T23:19:43.165639Z",
     "iopub.status.idle": "2022-06-19T23:19:43.174963Z",
     "shell.execute_reply": "2022-06-19T23:19:43.174325Z"
    },
    "papermill": {
     "duration": 0.08261,
     "end_time": "2022-06-19T23:19:43.176761",
     "exception": false,
     "start_time": "2022-06-19T23:19:43.094151",
     "status": "completed"
    },
    "tags": []
   },
   "outputs": [
    {
     "data": {
      "text/html": [
       "<div>\n",
       "<style scoped>\n",
       "    .dataframe tbody tr th:only-of-type {\n",
       "        vertical-align: middle;\n",
       "    }\n",
       "\n",
       "    .dataframe tbody tr th {\n",
       "        vertical-align: top;\n",
       "    }\n",
       "\n",
       "    .dataframe thead th {\n",
       "        text-align: right;\n",
       "    }\n",
       "</style>\n",
       "<table border=\"1\" class=\"dataframe\">\n",
       "  <thead>\n",
       "    <tr style=\"text-align: right;\">\n",
       "      <th></th>\n",
       "      <th>id</th>\n",
       "      <th>anchor</th>\n",
       "      <th>target</th>\n",
       "      <th>context</th>\n",
       "    </tr>\n",
       "  </thead>\n",
       "  <tbody>\n",
       "    <tr>\n",
       "      <th>0</th>\n",
       "      <td>4112d61851461f60</td>\n",
       "      <td>opc drum</td>\n",
       "      <td>inorganic photoconductor drum</td>\n",
       "      <td>G02</td>\n",
       "    </tr>\n",
       "    <tr>\n",
       "      <th>1</th>\n",
       "      <td>09e418c93a776564</td>\n",
       "      <td>adjust gas flow</td>\n",
       "      <td>altering gas flow</td>\n",
       "      <td>F23</td>\n",
       "    </tr>\n",
       "    <tr>\n",
       "      <th>2</th>\n",
       "      <td>36baf228038e314b</td>\n",
       "      <td>lower trunnion</td>\n",
       "      <td>lower locating</td>\n",
       "      <td>B60</td>\n",
       "    </tr>\n",
       "    <tr>\n",
       "      <th>3</th>\n",
       "      <td>1f37ead645e7f0c8</td>\n",
       "      <td>cap component</td>\n",
       "      <td>upper portion</td>\n",
       "      <td>D06</td>\n",
       "    </tr>\n",
       "    <tr>\n",
       "      <th>4</th>\n",
       "      <td>71a5b6ad068d531f</td>\n",
       "      <td>neural stimulation</td>\n",
       "      <td>artificial neural network</td>\n",
       "      <td>H04</td>\n",
       "    </tr>\n",
       "  </tbody>\n",
       "</table>\n",
       "</div>"
      ],
      "text/plain": [
       "                 id              anchor                         target context\n",
       "0  4112d61851461f60            opc drum  inorganic photoconductor drum     G02\n",
       "1  09e418c93a776564     adjust gas flow              altering gas flow     F23\n",
       "2  36baf228038e314b      lower trunnion                 lower locating     B60\n",
       "3  1f37ead645e7f0c8       cap component                  upper portion     D06\n",
       "4  71a5b6ad068d531f  neural stimulation      artificial neural network     H04"
      ]
     },
     "execution_count": 38,
     "metadata": {},
     "output_type": "execute_result"
    }
   ],
   "source": [
    "test.head()"
   ]
  },
  {
   "cell_type": "code",
   "execution_count": 39,
   "id": "52e0bd8f",
   "metadata": {
    "execution": {
     "iopub.execute_input": "2022-06-19T23:19:43.319057Z",
     "iopub.status.busy": "2022-06-19T23:19:43.318854Z",
     "iopub.status.idle": "2022-06-19T23:19:43.511080Z",
     "shell.execute_reply": "2022-06-19T23:19:43.510234Z"
    },
    "papermill": {
     "duration": 0.266843,
     "end_time": "2022-06-19T23:19:43.513416",
     "exception": false,
     "start_time": "2022-06-19T23:19:43.246573",
     "status": "completed"
    },
    "tags": []
   },
   "outputs": [
    {
     "name": "stdout",
     "output_type": "stream",
     "text": [
      "(36, 5)\n"
     ]
    },
    {
     "data": {
      "text/html": [
       "<div>\n",
       "<style scoped>\n",
       "    .dataframe tbody tr th:only-of-type {\n",
       "        vertical-align: middle;\n",
       "    }\n",
       "\n",
       "    .dataframe tbody tr th {\n",
       "        vertical-align: top;\n",
       "    }\n",
       "\n",
       "    .dataframe thead th {\n",
       "        text-align: right;\n",
       "    }\n",
       "</style>\n",
       "<table border=\"1\" class=\"dataframe\">\n",
       "  <thead>\n",
       "    <tr style=\"text-align: right;\">\n",
       "      <th></th>\n",
       "      <th>context</th>\n",
       "      <th>title</th>\n",
       "      <th>section</th>\n",
       "      <th>class</th>\n",
       "      <th>subclass</th>\n",
       "      <th>group</th>\n",
       "      <th>main_group</th>\n",
       "    </tr>\n",
       "  </thead>\n",
       "  <tbody>\n",
       "    <tr>\n",
       "      <th>0</th>\n",
       "      <td>A</td>\n",
       "      <td>HUMAN NECESSITIES</td>\n",
       "      <td>A</td>\n",
       "      <td>NaN</td>\n",
       "      <td>NaN</td>\n",
       "      <td>NaN</td>\n",
       "      <td>NaN</td>\n",
       "    </tr>\n",
       "    <tr>\n",
       "      <th>1</th>\n",
       "      <td>A01</td>\n",
       "      <td>AGRICULTURE; FORESTRY; ANIMAL HUSBANDRY; HUNTI...</td>\n",
       "      <td>A</td>\n",
       "      <td>1.0</td>\n",
       "      <td>NaN</td>\n",
       "      <td>NaN</td>\n",
       "      <td>NaN</td>\n",
       "    </tr>\n",
       "    <tr>\n",
       "      <th>2</th>\n",
       "      <td>A01B</td>\n",
       "      <td>SOIL WORKING IN AGRICULTURE OR FORESTRY; PARTS...</td>\n",
       "      <td>A</td>\n",
       "      <td>1.0</td>\n",
       "      <td>B</td>\n",
       "      <td>NaN</td>\n",
       "      <td>NaN</td>\n",
       "    </tr>\n",
       "    <tr>\n",
       "      <th>3</th>\n",
       "      <td>A01B1/00</td>\n",
       "      <td>Hand tools (edge trimmers for lawns A01G3/06  ...</td>\n",
       "      <td>A</td>\n",
       "      <td>1.0</td>\n",
       "      <td>B</td>\n",
       "      <td>1.0</td>\n",
       "      <td>0.0</td>\n",
       "    </tr>\n",
       "    <tr>\n",
       "      <th>4</th>\n",
       "      <td>A01B1/02</td>\n",
       "      <td>Spades; Shovels {(hand-operated dredgers E02F3...</td>\n",
       "      <td>A</td>\n",
       "      <td>1.0</td>\n",
       "      <td>B</td>\n",
       "      <td>1.0</td>\n",
       "      <td>2.0</td>\n",
       "    </tr>\n",
       "  </tbody>\n",
       "</table>\n",
       "</div>"
      ],
      "text/plain": [
       "    context                                              title section  class  \\\n",
       "0         A                                  HUMAN NECESSITIES       A    NaN   \n",
       "1       A01  AGRICULTURE; FORESTRY; ANIMAL HUSBANDRY; HUNTI...       A    1.0   \n",
       "2      A01B  SOIL WORKING IN AGRICULTURE OR FORESTRY; PARTS...       A    1.0   \n",
       "3  A01B1/00  Hand tools (edge trimmers for lawns A01G3/06  ...       A    1.0   \n",
       "4  A01B1/02  Spades; Shovels {(hand-operated dredgers E02F3...       A    1.0   \n",
       "\n",
       "  subclass  group  main_group  \n",
       "0      NaN    NaN         NaN  \n",
       "1      NaN    NaN         NaN  \n",
       "2        B    NaN         NaN  \n",
       "3        B    1.0         0.0  \n",
       "4        B    1.0         2.0  "
      ]
     },
     "metadata": {},
     "output_type": "display_data"
    },
    {
     "data": {
      "text/html": [
       "<div>\n",
       "<style scoped>\n",
       "    .dataframe tbody tr th:only-of-type {\n",
       "        vertical-align: middle;\n",
       "    }\n",
       "\n",
       "    .dataframe tbody tr th {\n",
       "        vertical-align: top;\n",
       "    }\n",
       "\n",
       "    .dataframe thead th {\n",
       "        text-align: right;\n",
       "    }\n",
       "</style>\n",
       "<table border=\"1\" class=\"dataframe\">\n",
       "  <thead>\n",
       "    <tr style=\"text-align: right;\">\n",
       "      <th></th>\n",
       "      <th>id</th>\n",
       "      <th>anchor</th>\n",
       "      <th>target</th>\n",
       "      <th>context</th>\n",
       "      <th>section</th>\n",
       "      <th>context_title</th>\n",
       "      <th>section_title</th>\n",
       "    </tr>\n",
       "  </thead>\n",
       "  <tbody>\n",
       "    <tr>\n",
       "      <th>0</th>\n",
       "      <td>4112d61851461f60</td>\n",
       "      <td>opc drum</td>\n",
       "      <td>inorganic photoconductor drum</td>\n",
       "      <td>G02</td>\n",
       "      <td>G</td>\n",
       "      <td>OPTICS</td>\n",
       "      <td>PHYSICS</td>\n",
       "    </tr>\n",
       "    <tr>\n",
       "      <th>1</th>\n",
       "      <td>5203a36c501f1b7c</td>\n",
       "      <td>generate in layer</td>\n",
       "      <td>generate by layer</td>\n",
       "      <td>G02</td>\n",
       "      <td>G</td>\n",
       "      <td>OPTICS</td>\n",
       "      <td>PHYSICS</td>\n",
       "    </tr>\n",
       "    <tr>\n",
       "      <th>2</th>\n",
       "      <td>7aa5908a77a7ec24</td>\n",
       "      <td>el display</td>\n",
       "      <td>illumination</td>\n",
       "      <td>G02</td>\n",
       "      <td>G</td>\n",
       "      <td>OPTICS</td>\n",
       "      <td>PHYSICS</td>\n",
       "    </tr>\n",
       "    <tr>\n",
       "      <th>3</th>\n",
       "      <td>442c114ed5c4e3c9</td>\n",
       "      <td>tunneling capacitor</td>\n",
       "      <td>capacitor housing</td>\n",
       "      <td>G11</td>\n",
       "      <td>G</td>\n",
       "      <td>INFORMATION STORAGE</td>\n",
       "      <td>PHYSICS</td>\n",
       "    </tr>\n",
       "    <tr>\n",
       "      <th>4</th>\n",
       "      <td>12ca31f018a2e2b9</td>\n",
       "      <td>speed control means</td>\n",
       "      <td>control loop</td>\n",
       "      <td>G05</td>\n",
       "      <td>G</td>\n",
       "      <td>CONTROLLING; REGULATING</td>\n",
       "      <td>PHYSICS</td>\n",
       "    </tr>\n",
       "  </tbody>\n",
       "</table>\n",
       "</div>"
      ],
      "text/plain": [
       "                 id               anchor                         target  \\\n",
       "0  4112d61851461f60             opc drum  inorganic photoconductor drum   \n",
       "1  5203a36c501f1b7c    generate in layer              generate by layer   \n",
       "2  7aa5908a77a7ec24           el display                   illumination   \n",
       "3  442c114ed5c4e3c9  tunneling capacitor              capacitor housing   \n",
       "4  12ca31f018a2e2b9  speed control means                   control loop   \n",
       "\n",
       "  context section            context_title section_title  \n",
       "0     G02       G                   OPTICS       PHYSICS  \n",
       "1     G02       G                   OPTICS       PHYSICS  \n",
       "2     G02       G                   OPTICS       PHYSICS  \n",
       "3     G11       G      INFORMATION STORAGE       PHYSICS  \n",
       "4     G05       G  CONTROLLING; REGULATING       PHYSICS  "
      ]
     },
     "metadata": {},
     "output_type": "display_data"
    }
   ],
   "source": [
    "test['section'] = test[\"context\"].str[0]\n",
    "print(test.shape)\n",
    "display(titles.head())\n",
    "test = test.merge(titles[[\"context\", \"title\"]], on=\"context\").rename(columns={\"title\": \"context_title\"})\n",
    "test = test.merge(titles[[\"context\", \"title\"]].rename(columns={\"context\": \"section\"}), on=\"section\").rename(columns={\"title\": \"section_title\"})\n",
    "display(test.head())"
   ]
  },
  {
   "cell_type": "code",
   "execution_count": 40,
   "id": "3c1cb6e2",
   "metadata": {
    "execution": {
     "iopub.execute_input": "2022-06-19T23:19:43.660849Z",
     "iopub.status.busy": "2022-06-19T23:19:43.660627Z",
     "iopub.status.idle": "2022-06-19T23:19:43.666020Z",
     "shell.execute_reply": "2022-06-19T23:19:43.665329Z"
    },
    "papermill": {
     "duration": 0.080726,
     "end_time": "2022-06-19T23:19:43.667667",
     "exception": false,
     "start_time": "2022-06-19T23:19:43.586941",
     "status": "completed"
    },
    "tags": []
   },
   "outputs": [],
   "source": [
    "test[\"inputs\"] = test[\"section_title\"].apply(clean) + \" [SEP] \" + test[\"anchor\"] + \" [SEP] \" + test[\"target\"]"
   ]
  },
  {
   "cell_type": "code",
   "execution_count": 41,
   "id": "502f379c",
   "metadata": {
    "execution": {
     "iopub.execute_input": "2022-06-19T23:19:43.815141Z",
     "iopub.status.busy": "2022-06-19T23:19:43.814435Z",
     "iopub.status.idle": "2022-06-19T23:19:43.821039Z",
     "shell.execute_reply": "2022-06-19T23:19:43.820444Z"
    },
    "papermill": {
     "duration": 0.081157,
     "end_time": "2022-06-19T23:19:43.822651",
     "exception": false,
     "start_time": "2022-06-19T23:19:43.741494",
     "status": "completed"
    },
    "tags": []
   },
   "outputs": [],
   "source": [
    "test_ds = Dataset.from_pandas(test)"
   ]
  },
  {
   "cell_type": "code",
   "execution_count": 42,
   "id": "a0051506",
   "metadata": {
    "execution": {
     "iopub.execute_input": "2022-06-19T23:19:43.968886Z",
     "iopub.status.busy": "2022-06-19T23:19:43.968345Z",
     "iopub.status.idle": "2022-06-19T23:19:43.972877Z",
     "shell.execute_reply": "2022-06-19T23:19:43.972291Z"
    },
    "papermill": {
     "duration": 0.079653,
     "end_time": "2022-06-19T23:19:43.974826",
     "exception": false,
     "start_time": "2022-06-19T23:19:43.895173",
     "status": "completed"
    },
    "tags": []
   },
   "outputs": [
    {
     "data": {
      "text/plain": [
       "Dataset({\n",
       "    features: ['id', 'anchor', 'target', 'context', 'section', 'context_title', 'section_title', 'inputs', '__index_level_0__'],\n",
       "    num_rows: 36\n",
       "})"
      ]
     },
     "execution_count": 42,
     "metadata": {},
     "output_type": "execute_result"
    }
   ],
   "source": [
    "test_ds"
   ]
  },
  {
   "cell_type": "code",
   "execution_count": 43,
   "id": "8e3cce4c",
   "metadata": {
    "execution": {
     "iopub.execute_input": "2022-06-19T23:19:44.122610Z",
     "iopub.status.busy": "2022-06-19T23:19:44.122223Z",
     "iopub.status.idle": "2022-06-19T23:19:44.170616Z",
     "shell.execute_reply": "2022-06-19T23:19:44.169934Z"
    },
    "papermill": {
     "duration": 0.124769,
     "end_time": "2022-06-19T23:19:44.173054",
     "exception": false,
     "start_time": "2022-06-19T23:19:44.048285",
     "status": "completed"
    },
    "tags": []
   },
   "outputs": [
    {
     "data": {
      "application/vnd.jupyter.widget-view+json": {
       "model_id": "5ce127a113224652aa0f7e0901f72d6b",
       "version_major": 2,
       "version_minor": 0
      },
      "text/plain": [
       "  0%|          | 0/1 [00:00<?, ?ba/s]"
      ]
     },
     "metadata": {},
     "output_type": "display_data"
    }
   ],
   "source": [
    "inps = \"anchor\",\"target\",\"context\",\"context_title\",\"section_title\"\n",
    "test_tok_ds = test_ds.map(tok_func, batched=True, remove_columns=inps+('inputs','id','section'))"
   ]
  },
  {
   "cell_type": "code",
   "execution_count": 44,
   "id": "921293d0",
   "metadata": {
    "execution": {
     "iopub.execute_input": "2022-06-19T23:19:44.325694Z",
     "iopub.status.busy": "2022-06-19T23:19:44.325484Z",
     "iopub.status.idle": "2022-06-19T23:19:44.370529Z",
     "shell.execute_reply": "2022-06-19T23:19:44.369752Z"
    },
    "papermill": {
     "duration": 0.124505,
     "end_time": "2022-06-19T23:19:44.372406",
     "exception": false,
     "start_time": "2022-06-19T23:19:44.247901",
     "status": "completed"
    },
    "tags": []
   },
   "outputs": [
    {
     "data": {
      "text/plain": [
       "array([[ 0.48749384],\n",
       "       [ 0.948901  ],\n",
       "       [ 0.28694433],\n",
       "       [ 0.50278115],\n",
       "       [ 0.31292188],\n",
       "       [ 0.73349011],\n",
       "       [ 0.4781965 ],\n",
       "       [ 0.79074466],\n",
       "       [ 1.05603766],\n",
       "       [ 0.2435392 ],\n",
       "       [ 0.24521858],\n",
       "       [ 0.55106753],\n",
       "       [-0.01621631],\n",
       "       [ 0.5375756 ],\n",
       "       [ 0.63313073],\n",
       "       [-0.00538462],\n",
       "       [ 0.17454851],\n",
       "       [ 0.79013216],\n",
       "       [ 0.79604405],\n",
       "       [-0.00391432],\n",
       "       [ 0.27687433],\n",
       "       [ 0.27295172],\n",
       "       [ 0.52643836],\n",
       "       [ 0.3617987 ],\n",
       "       [ 0.01224874],\n",
       "       [ 0.30376944],\n",
       "       [ 0.29838696],\n",
       "       [ 0.53494966],\n",
       "       [ 0.12322883],\n",
       "       [ 0.49000978],\n",
       "       [ 0.48843858],\n",
       "       [ 0.14339146],\n",
       "       [-0.01222257],\n",
       "       [ 0.1442931 ],\n",
       "       [-0.0065867 ],\n",
       "       [-0.00724098]])"
      ]
     },
     "execution_count": 44,
     "metadata": {},
     "output_type": "execute_result"
    }
   ],
   "source": [
    "preds_sberta = trainer.predict(test_tok_ds).predictions.astype(float)\n",
    "preds_sberta"
   ]
  },
  {
   "cell_type": "code",
   "execution_count": 45,
   "id": "107ba9b4",
   "metadata": {
    "execution": {
     "iopub.execute_input": "2022-06-19T23:19:44.528060Z",
     "iopub.status.busy": "2022-06-19T23:19:44.527508Z",
     "iopub.status.idle": "2022-06-19T23:19:44.531937Z",
     "shell.execute_reply": "2022-06-19T23:19:44.531319Z"
    },
    "papermill": {
     "duration": 0.082274,
     "end_time": "2022-06-19T23:19:44.533862",
     "exception": false,
     "start_time": "2022-06-19T23:19:44.451588",
     "status": "completed"
    },
    "tags": []
   },
   "outputs": [
    {
     "data": {
      "text/plain": [
       "numpy.ndarray"
      ]
     },
     "execution_count": 45,
     "metadata": {},
     "output_type": "execute_result"
    }
   ],
   "source": [
    "type(preds_sberta)"
   ]
  },
  {
   "cell_type": "code",
   "execution_count": 46,
   "id": "b314075a",
   "metadata": {
    "execution": {
     "iopub.execute_input": "2022-06-19T23:19:44.686100Z",
     "iopub.status.busy": "2022-06-19T23:19:44.685892Z",
     "iopub.status.idle": "2022-06-19T23:19:44.689308Z",
     "shell.execute_reply": "2022-06-19T23:19:44.688654Z"
    },
    "papermill": {
     "duration": 0.08094,
     "end_time": "2022-06-19T23:19:44.690946",
     "exception": false,
     "start_time": "2022-06-19T23:19:44.610006",
     "status": "completed"
    },
    "tags": []
   },
   "outputs": [],
   "source": [
    "del model_name, tokenizer, model, tok_ds, test_tok_ds, dds"
   ]
  },
  {
   "cell_type": "markdown",
   "id": "0740cccb",
   "metadata": {
    "papermill": {
     "duration": 0.074266,
     "end_time": "2022-06-19T23:19:44.839664",
     "exception": false,
     "start_time": "2022-06-19T23:19:44.765398",
     "status": "completed"
    },
    "tags": []
   },
   "source": [
    "# Deberta-V3_small inference"
   ]
  },
  {
   "cell_type": "code",
   "execution_count": 47,
   "id": "25f57b43",
   "metadata": {
    "execution": {
     "iopub.execute_input": "2022-06-19T23:19:44.990814Z",
     "iopub.status.busy": "2022-06-19T23:19:44.990230Z",
     "iopub.status.idle": "2022-06-19T23:19:44.993724Z",
     "shell.execute_reply": "2022-06-19T23:19:44.992966Z"
    },
    "papermill": {
     "duration": 0.081331,
     "end_time": "2022-06-19T23:19:44.995320",
     "exception": false,
     "start_time": "2022-06-19T23:19:44.913989",
     "status": "completed"
    },
    "tags": []
   },
   "outputs": [],
   "source": [
    "#model_name = 'microsoft/deberta-v3-small' (online version)\n",
    "model_name = '../input/debertav3small'"
   ]
  },
  {
   "cell_type": "code",
   "execution_count": 48,
   "id": "e0218ae1",
   "metadata": {
    "execution": {
     "iopub.execute_input": "2022-06-19T23:19:45.148516Z",
     "iopub.status.busy": "2022-06-19T23:19:45.148159Z",
     "iopub.status.idle": "2022-06-19T23:19:45.152005Z",
     "shell.execute_reply": "2022-06-19T23:19:45.151334Z"
    },
    "papermill": {
     "duration": 0.082939,
     "end_time": "2022-06-19T23:19:45.153838",
     "exception": false,
     "start_time": "2022-06-19T23:19:45.070899",
     "status": "completed"
    },
    "tags": []
   },
   "outputs": [],
   "source": [
    "def corr_deberta(eval_pred): return {'pearson': np.corrcoef(*eval_pred)[0][1]}"
   ]
  },
  {
   "cell_type": "code",
   "execution_count": 49,
   "id": "dd47ad02",
   "metadata": {
    "execution": {
     "iopub.execute_input": "2022-06-19T23:19:45.304485Z",
     "iopub.status.busy": "2022-06-19T23:19:45.303941Z",
     "iopub.status.idle": "2022-06-19T23:19:45.976278Z",
     "shell.execute_reply": "2022-06-19T23:19:45.975519Z"
    },
    "papermill": {
     "duration": 0.749913,
     "end_time": "2022-06-19T23:19:45.978740",
     "exception": false,
     "start_time": "2022-06-19T23:19:45.228827",
     "status": "completed"
    },
    "tags": []
   },
   "outputs": [],
   "source": [
    "tokenizer = AutoTokenizer.from_pretrained(model_name)"
   ]
  },
  {
   "cell_type": "code",
   "execution_count": 50,
   "id": "4f8642df",
   "metadata": {
    "execution": {
     "iopub.execute_input": "2022-06-19T23:19:46.133775Z",
     "iopub.status.busy": "2022-06-19T23:19:46.133491Z",
     "iopub.status.idle": "2022-06-19T23:19:46.138457Z",
     "shell.execute_reply": "2022-06-19T23:19:46.137764Z"
    },
    "papermill": {
     "duration": 0.082698,
     "end_time": "2022-06-19T23:19:46.140297",
     "exception": false,
     "start_time": "2022-06-19T23:19:46.057599",
     "status": "completed"
    },
    "tags": []
   },
   "outputs": [
    {
     "data": {
      "text/plain": [
       "['[CLS]', '[SEP]', '[UNK]', '[PAD]', '[MASK]']"
      ]
     },
     "execution_count": 50,
     "metadata": {},
     "output_type": "execute_result"
    }
   ],
   "source": [
    "tokenizer.all_special_tokens"
   ]
  },
  {
   "cell_type": "code",
   "execution_count": 51,
   "id": "be66684c",
   "metadata": {
    "execution": {
     "iopub.execute_input": "2022-06-19T23:19:46.290317Z",
     "iopub.status.busy": "2022-06-19T23:19:46.289784Z",
     "iopub.status.idle": "2022-06-19T23:19:54.429425Z",
     "shell.execute_reply": "2022-06-19T23:19:54.428626Z"
    },
    "papermill": {
     "duration": 8.216335,
     "end_time": "2022-06-19T23:19:54.431208",
     "exception": false,
     "start_time": "2022-06-19T23:19:46.214873",
     "status": "completed"
    },
    "tags": []
   },
   "outputs": [
    {
     "data": {
      "application/vnd.jupyter.widget-view+json": {
       "model_id": "c67043b8e4274c49b48014e02ce8e2af",
       "version_major": 2,
       "version_minor": 0
      },
      "text/plain": [
       "  0%|          | 0/37 [00:00<?, ?ba/s]"
      ]
     },
     "metadata": {},
     "output_type": "display_data"
    }
   ],
   "source": [
    "tok_ds = train_ds.map(tok_func, batched=True, remove_columns=inps+('inputs','id','section'))"
   ]
  },
  {
   "cell_type": "code",
   "execution_count": 52,
   "id": "59c8acd5",
   "metadata": {
    "execution": {
     "iopub.execute_input": "2022-06-19T23:19:54.585970Z",
     "iopub.status.busy": "2022-06-19T23:19:54.585727Z",
     "iopub.status.idle": "2022-06-19T23:19:54.605555Z",
     "shell.execute_reply": "2022-06-19T23:19:54.604910Z"
    },
    "papermill": {
     "duration": 0.099753,
     "end_time": "2022-06-19T23:19:54.607332",
     "exception": false,
     "start_time": "2022-06-19T23:19:54.507579",
     "status": "completed"
    },
    "tags": []
   },
   "outputs": [],
   "source": [
    "dds = DatasetDict({\"train\":tok_ds.select(trn_idxs),\n",
    "             \"test\": tok_ds.select(val_idxs)})"
   ]
  },
  {
   "cell_type": "code",
   "execution_count": 53,
   "id": "a46a4537",
   "metadata": {
    "execution": {
     "iopub.execute_input": "2022-06-19T23:19:54.760195Z",
     "iopub.status.busy": "2022-06-19T23:19:54.759979Z",
     "iopub.status.idle": "2022-06-19T23:19:58.812273Z",
     "shell.execute_reply": "2022-06-19T23:19:58.811526Z"
    },
    "papermill": {
     "duration": 4.130539,
     "end_time": "2022-06-19T23:19:58.814541",
     "exception": false,
     "start_time": "2022-06-19T23:19:54.684002",
     "status": "completed"
    },
    "tags": []
   },
   "outputs": [],
   "source": [
    "model = AutoModelForSequenceClassification.from_pretrained(model_name, num_labels=1)\n",
    "trainer = Trainer(model, args, train_dataset=dds['train'], eval_dataset=dds['test'],\n",
    "               tokenizer=tokenizer, compute_metrics=corr_deberta)"
   ]
  },
  {
   "cell_type": "code",
   "execution_count": 54,
   "id": "1fc1f556",
   "metadata": {
    "execution": {
     "iopub.execute_input": "2022-06-19T23:19:58.967666Z",
     "iopub.status.busy": "2022-06-19T23:19:58.967406Z",
     "iopub.status.idle": "2022-06-19T23:24:20.357010Z",
     "shell.execute_reply": "2022-06-19T23:24:20.356234Z"
    },
    "papermill": {
     "duration": 261.469473,
     "end_time": "2022-06-19T23:24:20.359591",
     "exception": false,
     "start_time": "2022-06-19T23:19:58.890118",
     "status": "completed"
    },
    "tags": []
   },
   "outputs": [
    {
     "data": {
      "text/html": [
       "\n",
       "    <div>\n",
       "      \n",
       "      <progress value='1660' max='1660' style='width:300px; height:20px; vertical-align: middle;'></progress>\n",
       "      [1660/1660 04:21, Epoch 4/4]\n",
       "    </div>\n",
       "    <table border=\"1\" class=\"dataframe\">\n",
       "  <thead>\n",
       " <tr style=\"text-align: left;\">\n",
       "      <th>Epoch</th>\n",
       "      <th>Training Loss</th>\n",
       "      <th>Validation Loss</th>\n",
       "      <th>Pearson</th>\n",
       "    </tr>\n",
       "  </thead>\n",
       "  <tbody>\n",
       "    <tr>\n",
       "      <td>1</td>\n",
       "      <td>No log</td>\n",
       "      <td>0.030505</td>\n",
       "      <td>0.786305</td>\n",
       "    </tr>\n",
       "    <tr>\n",
       "      <td>2</td>\n",
       "      <td>0.046300</td>\n",
       "      <td>0.024478</td>\n",
       "      <td>0.803951</td>\n",
       "    </tr>\n",
       "    <tr>\n",
       "      <td>3</td>\n",
       "      <td>0.018600</td>\n",
       "      <td>0.024581</td>\n",
       "      <td>0.805187</td>\n",
       "    </tr>\n",
       "    <tr>\n",
       "      <td>4</td>\n",
       "      <td>0.012200</td>\n",
       "      <td>0.024362</td>\n",
       "      <td>0.809510</td>\n",
       "    </tr>\n",
       "  </tbody>\n",
       "</table><p>"
      ],
      "text/plain": [
       "<IPython.core.display.HTML object>"
      ]
     },
     "metadata": {},
     "output_type": "display_data"
    },
    {
     "data": {
      "text/plain": [
       "TrainOutput(global_step=1660, training_loss=0.02423974246863859, metrics={'train_runtime': 261.3754, 'train_samples_per_second': 406.251, 'train_steps_per_second': 6.351, 'total_flos': 462650618918400.0, 'train_loss': 0.02423974246863859, 'epoch': 4.0})"
      ]
     },
     "execution_count": 54,
     "metadata": {},
     "output_type": "execute_result"
    }
   ],
   "source": [
    "trainer.train()"
   ]
  },
  {
   "cell_type": "code",
   "execution_count": 55,
   "id": "dfe4eb00",
   "metadata": {
    "execution": {
     "iopub.execute_input": "2022-06-19T23:24:20.513917Z",
     "iopub.status.busy": "2022-06-19T23:24:20.513706Z",
     "iopub.status.idle": "2022-06-19T23:24:26.768759Z",
     "shell.execute_reply": "2022-06-19T23:24:26.768087Z"
    },
    "papermill": {
     "duration": 6.334033,
     "end_time": "2022-06-19T23:24:26.770436",
     "exception": false,
     "start_time": "2022-06-19T23:24:20.436403",
     "status": "completed"
    },
    "tags": []
   },
   "outputs": [
    {
     "data": {
      "text/html": [
       "\n",
       "    <div>\n",
       "      \n",
       "      <progress value='79' max='78' style='width:300px; height:20px; vertical-align: middle;'></progress>\n",
       "      [78/78 00:07]\n",
       "    </div>\n",
       "    "
      ],
      "text/plain": [
       "<IPython.core.display.HTML object>"
      ]
     },
     "metadata": {},
     "output_type": "display_data"
    },
    {
     "data": {
      "text/plain": [
       "{'eval_loss': 0.024362346157431602,\n",
       " 'eval_pearson': 0.8095097173423833,\n",
       " 'eval_runtime': 6.2466,\n",
       " 'eval_samples_per_second': 1589.18,\n",
       " 'eval_steps_per_second': 12.487,\n",
       " 'epoch': 4.0}"
      ]
     },
     "execution_count": 55,
     "metadata": {},
     "output_type": "execute_result"
    }
   ],
   "source": [
    "eval_deberta = trainer.evaluate()\n",
    "eval_deberta"
   ]
  },
  {
   "cell_type": "code",
   "execution_count": 56,
   "id": "bc7a4890",
   "metadata": {
    "execution": {
     "iopub.execute_input": "2022-06-19T23:24:26.925708Z",
     "iopub.status.busy": "2022-06-19T23:24:26.925043Z",
     "iopub.status.idle": "2022-06-19T23:24:28.008999Z",
     "shell.execute_reply": "2022-06-19T23:24:28.008216Z"
    },
    "papermill": {
     "duration": 1.162983,
     "end_time": "2022-06-19T23:24:28.011083",
     "exception": false,
     "start_time": "2022-06-19T23:24:26.848100",
     "status": "completed"
    },
    "tags": []
   },
   "outputs": [
    {
     "data": {
      "application/vnd.jupyter.widget-view+json": {
       "model_id": "81bccebfa24e4881a51cfb04d9f17f82",
       "version_major": 2,
       "version_minor": 0
      },
      "text/plain": [
       "  0%|          | 0/1 [00:00<?, ?ba/s]"
      ]
     },
     "metadata": {},
     "output_type": "display_data"
    }
   ],
   "source": [
    "test_tok_ds = test_ds.map(tok_func, batched=True, remove_columns=inps+('inputs','id','section'))"
   ]
  },
  {
   "cell_type": "code",
   "execution_count": 57,
   "id": "3512cc01",
   "metadata": {
    "execution": {
     "iopub.execute_input": "2022-06-19T23:24:28.167713Z",
     "iopub.status.busy": "2022-06-19T23:24:28.167490Z",
     "iopub.status.idle": "2022-06-19T23:24:28.209328Z",
     "shell.execute_reply": "2022-06-19T23:24:28.208610Z"
    },
    "papermill": {
     "duration": 0.121079,
     "end_time": "2022-06-19T23:24:28.210987",
     "exception": false,
     "start_time": "2022-06-19T23:24:28.089908",
     "status": "completed"
    },
    "tags": []
   },
   "outputs": [
    {
     "data": {
      "text/plain": [
       "array([[ 0.47512332],\n",
       "       [ 0.93188006],\n",
       "       [ 0.3357994 ],\n",
       "       [ 0.42735329],\n",
       "       [ 0.09561732],\n",
       "       [ 0.75598294],\n",
       "       [ 0.57309926],\n",
       "       [ 0.73525792],\n",
       "       [ 1.09592617],\n",
       "       [ 0.22496426],\n",
       "       [ 0.2182516 ],\n",
       "       [ 0.5165168 ],\n",
       "       [-0.01931833],\n",
       "       [ 0.6032902 ],\n",
       "       [ 0.54243577],\n",
       "       [-0.01312365],\n",
       "       [ 0.22481541],\n",
       "       [ 0.79621786],\n",
       "       [ 0.82313555],\n",
       "       [-0.01335787],\n",
       "       [ 0.27258927],\n",
       "       [ 0.25757989],\n",
       "       [-0.02062943],\n",
       "       [ 0.27017459],\n",
       "       [-0.01196046],\n",
       "       [ 0.39508039],\n",
       "       [ 0.43529677],\n",
       "       [ 0.4923608 ],\n",
       "       [ 0.28513709],\n",
       "       [ 0.55472535],\n",
       "       [ 0.45663142],\n",
       "       [ 0.19141655],\n",
       "       [-0.02379162],\n",
       "       [ 0.25850114],\n",
       "       [-0.02292352],\n",
       "       [-0.00308337]])"
      ]
     },
     "execution_count": 57,
     "metadata": {},
     "output_type": "execute_result"
    }
   ],
   "source": [
    "preds_deberta = trainer.predict(test_tok_ds).predictions.astype(float)\n",
    "preds_deberta"
   ]
  },
  {
   "cell_type": "code",
   "execution_count": 58,
   "id": "b3fb9ae6",
   "metadata": {
    "execution": {
     "iopub.execute_input": "2022-06-19T23:24:28.368555Z",
     "iopub.status.busy": "2022-06-19T23:24:28.367960Z",
     "iopub.status.idle": "2022-06-19T23:24:28.371379Z",
     "shell.execute_reply": "2022-06-19T23:24:28.370727Z"
    },
    "papermill": {
     "duration": 0.082757,
     "end_time": "2022-06-19T23:24:28.372973",
     "exception": false,
     "start_time": "2022-06-19T23:24:28.290216",
     "status": "completed"
    },
    "tags": []
   },
   "outputs": [],
   "source": [
    "del model_name, tokenizer, model"
   ]
  },
  {
   "cell_type": "markdown",
   "id": "ce95f766",
   "metadata": {
    "papermill": {
     "duration": 0.076708,
     "end_time": "2022-06-19T23:24:28.526784",
     "exception": false,
     "start_time": "2022-06-19T23:24:28.450076",
     "status": "completed"
    },
    "tags": []
   },
   "source": [
    "# Ensemble"
   ]
  },
  {
   "cell_type": "markdown",
   "id": "e7c44b24",
   "metadata": {
    "papermill": {
     "duration": 0.079828,
     "end_time": "2022-06-19T23:24:28.683978",
     "exception": false,
     "start_time": "2022-06-19T23:24:28.604150",
     "status": "completed"
    },
    "tags": []
   },
   "source": [
    "ensemble methode inspired by Valentin Werner's \"In Depth EDA & 3 Model Ensemble\" notebook "
   ]
  },
  {
   "cell_type": "code",
   "execution_count": 59,
   "id": "776fbe02",
   "metadata": {
    "execution": {
     "iopub.execute_input": "2022-06-19T23:24:28.841922Z",
     "iopub.status.busy": "2022-06-19T23:24:28.841225Z",
     "iopub.status.idle": "2022-06-19T23:24:28.845167Z",
     "shell.execute_reply": "2022-06-19T23:24:28.844406Z"
    },
    "papermill": {
     "duration": 0.083655,
     "end_time": "2022-06-19T23:24:28.846849",
     "exception": false,
     "start_time": "2022-06-19T23:24:28.763194",
     "status": "completed"
    },
    "tags": []
   },
   "outputs": [],
   "source": [
    "test_preds = 0.5 * preds_sberta + (0.5) * preds_deberta"
   ]
  },
  {
   "cell_type": "code",
   "execution_count": 60,
   "id": "c19c9b21",
   "metadata": {
    "execution": {
     "iopub.execute_input": "2022-06-19T23:24:29.006729Z",
     "iopub.status.busy": "2022-06-19T23:24:29.006050Z",
     "iopub.status.idle": "2022-06-19T23:24:29.012978Z",
     "shell.execute_reply": "2022-06-19T23:24:29.012300Z"
    },
    "papermill": {
     "duration": 0.087343,
     "end_time": "2022-06-19T23:24:29.014843",
     "exception": false,
     "start_time": "2022-06-19T23:24:28.927500",
     "status": "completed"
    },
    "tags": []
   },
   "outputs": [
    {
     "data": {
      "text/plain": [
       "array([[ 4.81308579e-01],\n",
       "       [ 9.40390527e-01],\n",
       "       [ 3.11371863e-01],\n",
       "       [ 4.65067223e-01],\n",
       "       [ 2.04269599e-01],\n",
       "       [ 7.44736522e-01],\n",
       "       [ 5.25647879e-01],\n",
       "       [ 7.63001293e-01],\n",
       "       [ 1.07598191e+00],\n",
       "       [ 2.34251730e-01],\n",
       "       [ 2.31735088e-01],\n",
       "       [ 5.33792168e-01],\n",
       "       [-1.77673204e-02],\n",
       "       [ 5.70432901e-01],\n",
       "       [ 5.87783247e-01],\n",
       "       [-9.25413705e-03],\n",
       "       [ 1.99681960e-01],\n",
       "       [ 7.93175012e-01],\n",
       "       [ 8.09589803e-01],\n",
       "       [-8.63609463e-03],\n",
       "       [ 2.74731800e-01],\n",
       "       [ 2.65265808e-01],\n",
       "       [ 2.52904464e-01],\n",
       "       [ 3.15986648e-01],\n",
       "       [ 1.44139864e-04],\n",
       "       [ 3.49424914e-01],\n",
       "       [ 3.66841868e-01],\n",
       "       [ 5.13655230e-01],\n",
       "       [ 2.04182956e-01],\n",
       "       [ 5.22367567e-01],\n",
       "       [ 4.72534999e-01],\n",
       "       [ 1.67404003e-01],\n",
       "       [-1.80070982e-02],\n",
       "       [ 2.01397121e-01],\n",
       "       [-1.47551098e-02],\n",
       "       [-5.16217644e-03]])"
      ]
     },
     "execution_count": 60,
     "metadata": {},
     "output_type": "execute_result"
    }
   ],
   "source": [
    "test_preds"
   ]
  },
  {
   "cell_type": "code",
   "execution_count": 61,
   "id": "9504ab44",
   "metadata": {
    "execution": {
     "iopub.execute_input": "2022-06-19T23:24:29.172562Z",
     "iopub.status.busy": "2022-06-19T23:24:29.172121Z",
     "iopub.status.idle": "2022-06-19T23:24:29.175952Z",
     "shell.execute_reply": "2022-06-19T23:24:29.175306Z"
    },
    "papermill": {
     "duration": 0.08489,
     "end_time": "2022-06-19T23:24:29.177682",
     "exception": false,
     "start_time": "2022-06-19T23:24:29.092792",
     "status": "completed"
    },
    "tags": []
   },
   "outputs": [],
   "source": [
    "df_submission = pd.DataFrame()"
   ]
  },
  {
   "cell_type": "code",
   "execution_count": 62,
   "id": "29a26ded",
   "metadata": {
    "execution": {
     "iopub.execute_input": "2022-06-19T23:24:29.349157Z",
     "iopub.status.busy": "2022-06-19T23:24:29.348515Z",
     "iopub.status.idle": "2022-06-19T23:24:29.353589Z",
     "shell.execute_reply": "2022-06-19T23:24:29.352905Z"
    },
    "papermill": {
     "duration": 0.099312,
     "end_time": "2022-06-19T23:24:29.355321",
     "exception": false,
     "start_time": "2022-06-19T23:24:29.256009",
     "status": "completed"
    },
    "tags": []
   },
   "outputs": [],
   "source": [
    "df_submission['id'] = test['id'].copy()"
   ]
  },
  {
   "cell_type": "code",
   "execution_count": 63,
   "id": "4d3c9875",
   "metadata": {
    "execution": {
     "iopub.execute_input": "2022-06-19T23:24:29.512334Z",
     "iopub.status.busy": "2022-06-19T23:24:29.512118Z",
     "iopub.status.idle": "2022-06-19T23:24:29.520684Z",
     "shell.execute_reply": "2022-06-19T23:24:29.520043Z"
    },
    "papermill": {
     "duration": 0.088213,
     "end_time": "2022-06-19T23:24:29.522311",
     "exception": false,
     "start_time": "2022-06-19T23:24:29.434098",
     "status": "completed"
    },
    "tags": []
   },
   "outputs": [
    {
     "data": {
      "text/html": [
       "<div>\n",
       "<style scoped>\n",
       "    .dataframe tbody tr th:only-of-type {\n",
       "        vertical-align: middle;\n",
       "    }\n",
       "\n",
       "    .dataframe tbody tr th {\n",
       "        vertical-align: top;\n",
       "    }\n",
       "\n",
       "    .dataframe thead th {\n",
       "        text-align: right;\n",
       "    }\n",
       "</style>\n",
       "<table border=\"1\" class=\"dataframe\">\n",
       "  <thead>\n",
       "    <tr style=\"text-align: right;\">\n",
       "      <th></th>\n",
       "      <th>id</th>\n",
       "    </tr>\n",
       "  </thead>\n",
       "  <tbody>\n",
       "    <tr>\n",
       "      <th>0</th>\n",
       "      <td>4112d61851461f60</td>\n",
       "    </tr>\n",
       "    <tr>\n",
       "      <th>1</th>\n",
       "      <td>5203a36c501f1b7c</td>\n",
       "    </tr>\n",
       "    <tr>\n",
       "      <th>2</th>\n",
       "      <td>7aa5908a77a7ec24</td>\n",
       "    </tr>\n",
       "    <tr>\n",
       "      <th>3</th>\n",
       "      <td>442c114ed5c4e3c9</td>\n",
       "    </tr>\n",
       "    <tr>\n",
       "      <th>4</th>\n",
       "      <td>12ca31f018a2e2b9</td>\n",
       "    </tr>\n",
       "    <tr>\n",
       "      <th>5</th>\n",
       "      <td>9f2279ce667b21dc</td>\n",
       "    </tr>\n",
       "    <tr>\n",
       "      <th>6</th>\n",
       "      <td>b9ea2b06a878df6f</td>\n",
       "    </tr>\n",
       "    <tr>\n",
       "      <th>7</th>\n",
       "      <td>09e418c93a776564</td>\n",
       "    </tr>\n",
       "    <tr>\n",
       "      <th>8</th>\n",
       "      <td>ae0262c02566d2ce</td>\n",
       "    </tr>\n",
       "    <tr>\n",
       "      <th>9</th>\n",
       "      <td>03ba802ed4029e4d</td>\n",
       "    </tr>\n",
       "    <tr>\n",
       "      <th>10</th>\n",
       "      <td>25522ee5411e63e9</td>\n",
       "    </tr>\n",
       "    <tr>\n",
       "      <th>11</th>\n",
       "      <td>c404f8b378cbb008</td>\n",
       "    </tr>\n",
       "    <tr>\n",
       "      <th>12</th>\n",
       "      <td>26c3c6dc6174b589</td>\n",
       "    </tr>\n",
       "    <tr>\n",
       "      <th>13</th>\n",
       "      <td>36baf228038e314b</td>\n",
       "    </tr>\n",
       "    <tr>\n",
       "      <th>14</th>\n",
       "      <td>b892011ab2e2cabc</td>\n",
       "    </tr>\n",
       "    <tr>\n",
       "      <th>15</th>\n",
       "      <td>b8ae62ea5e1d8bdb</td>\n",
       "    </tr>\n",
       "    <tr>\n",
       "      <th>16</th>\n",
       "      <td>a8808e31641e856d</td>\n",
       "    </tr>\n",
       "    <tr>\n",
       "      <th>17</th>\n",
       "      <td>25c555ca3d5a2092</td>\n",
       "    </tr>\n",
       "    <tr>\n",
       "      <th>18</th>\n",
       "      <td>b9fdc772bb8fd61c</td>\n",
       "    </tr>\n",
       "    <tr>\n",
       "      <th>19</th>\n",
       "      <td>de51114bc0faec3e</td>\n",
       "    </tr>\n",
       "    <tr>\n",
       "      <th>20</th>\n",
       "      <td>8247ff562ca185cc</td>\n",
       "    </tr>\n",
       "    <tr>\n",
       "      <th>21</th>\n",
       "      <td>1f37ead645e7f0c8</td>\n",
       "    </tr>\n",
       "    <tr>\n",
       "      <th>22</th>\n",
       "      <td>71a5b6ad068d531f</td>\n",
       "    </tr>\n",
       "    <tr>\n",
       "      <th>23</th>\n",
       "      <td>16ae4b99d3601e60</td>\n",
       "    </tr>\n",
       "    <tr>\n",
       "      <th>24</th>\n",
       "      <td>fd83613b7843f5e1</td>\n",
       "    </tr>\n",
       "    <tr>\n",
       "      <th>25</th>\n",
       "      <td>733979d75f59770d</td>\n",
       "    </tr>\n",
       "    <tr>\n",
       "      <th>26</th>\n",
       "      <td>79795133c30ef097</td>\n",
       "    </tr>\n",
       "    <tr>\n",
       "      <th>27</th>\n",
       "      <td>474c874d0c07bd21</td>\n",
       "    </tr>\n",
       "    <tr>\n",
       "      <th>28</th>\n",
       "      <td>faaddaf8fcba8a3f</td>\n",
       "    </tr>\n",
       "    <tr>\n",
       "      <th>29</th>\n",
       "      <td>2a619016908bfa45</td>\n",
       "    </tr>\n",
       "    <tr>\n",
       "      <th>30</th>\n",
       "      <td>6546846df17f9800</td>\n",
       "    </tr>\n",
       "    <tr>\n",
       "      <th>31</th>\n",
       "      <td>d19ef3979396d47e</td>\n",
       "    </tr>\n",
       "    <tr>\n",
       "      <th>32</th>\n",
       "      <td>7e3aff857f056bf9</td>\n",
       "    </tr>\n",
       "    <tr>\n",
       "      <th>33</th>\n",
       "      <td>3ff0e7a35015be69</td>\n",
       "    </tr>\n",
       "    <tr>\n",
       "      <th>34</th>\n",
       "      <td>78243984c02a72e4</td>\n",
       "    </tr>\n",
       "    <tr>\n",
       "      <th>35</th>\n",
       "      <td>c057aecbba832387</td>\n",
       "    </tr>\n",
       "  </tbody>\n",
       "</table>\n",
       "</div>"
      ],
      "text/plain": [
       "                  id\n",
       "0   4112d61851461f60\n",
       "1   5203a36c501f1b7c\n",
       "2   7aa5908a77a7ec24\n",
       "3   442c114ed5c4e3c9\n",
       "4   12ca31f018a2e2b9\n",
       "5   9f2279ce667b21dc\n",
       "6   b9ea2b06a878df6f\n",
       "7   09e418c93a776564\n",
       "8   ae0262c02566d2ce\n",
       "9   03ba802ed4029e4d\n",
       "10  25522ee5411e63e9\n",
       "11  c404f8b378cbb008\n",
       "12  26c3c6dc6174b589\n",
       "13  36baf228038e314b\n",
       "14  b892011ab2e2cabc\n",
       "15  b8ae62ea5e1d8bdb\n",
       "16  a8808e31641e856d\n",
       "17  25c555ca3d5a2092\n",
       "18  b9fdc772bb8fd61c\n",
       "19  de51114bc0faec3e\n",
       "20  8247ff562ca185cc\n",
       "21  1f37ead645e7f0c8\n",
       "22  71a5b6ad068d531f\n",
       "23  16ae4b99d3601e60\n",
       "24  fd83613b7843f5e1\n",
       "25  733979d75f59770d\n",
       "26  79795133c30ef097\n",
       "27  474c874d0c07bd21\n",
       "28  faaddaf8fcba8a3f\n",
       "29  2a619016908bfa45\n",
       "30  6546846df17f9800\n",
       "31  d19ef3979396d47e\n",
       "32  7e3aff857f056bf9\n",
       "33  3ff0e7a35015be69\n",
       "34  78243984c02a72e4\n",
       "35  c057aecbba832387"
      ]
     },
     "execution_count": 63,
     "metadata": {},
     "output_type": "execute_result"
    }
   ],
   "source": [
    "df_submission"
   ]
  },
  {
   "cell_type": "code",
   "execution_count": 64,
   "id": "f77d54e5",
   "metadata": {
    "execution": {
     "iopub.execute_input": "2022-06-19T23:24:29.681987Z",
     "iopub.status.busy": "2022-06-19T23:24:29.681010Z",
     "iopub.status.idle": "2022-06-19T23:24:29.685218Z",
     "shell.execute_reply": "2022-06-19T23:24:29.684591Z"
    },
    "papermill": {
     "duration": 0.085904,
     "end_time": "2022-06-19T23:24:29.686891",
     "exception": false,
     "start_time": "2022-06-19T23:24:29.600987",
     "status": "completed"
    },
    "tags": []
   },
   "outputs": [],
   "source": [
    "preds_list = test_preds.tolist()"
   ]
  },
  {
   "cell_type": "code",
   "execution_count": 65,
   "id": "592f75bf",
   "metadata": {
    "execution": {
     "iopub.execute_input": "2022-06-19T23:24:29.845167Z",
     "iopub.status.busy": "2022-06-19T23:24:29.844615Z",
     "iopub.status.idle": "2022-06-19T23:24:29.849970Z",
     "shell.execute_reply": "2022-06-19T23:24:29.849320Z"
    },
    "papermill": {
     "duration": 0.087195,
     "end_time": "2022-06-19T23:24:29.851819",
     "exception": false,
     "start_time": "2022-06-19T23:24:29.764624",
     "status": "completed"
    },
    "tags": []
   },
   "outputs": [
    {
     "data": {
      "text/plain": [
       "[[0.48130857944488525],\n",
       " [0.9403905272483826],\n",
       " [0.3113718628883362],\n",
       " [0.46506722271442413],\n",
       " [0.20426959916949272],\n",
       " [0.744736522436142],\n",
       " [0.5256478786468506],\n",
       " [0.7630012929439545],\n",
       " [1.0759819149971008],\n",
       " [0.2342517301440239],\n",
       " [0.23173508793115616],\n",
       " [0.5337921679019928],\n",
       " [-0.01776732038706541],\n",
       " [0.5704329013824463],\n",
       " [0.5877832472324371],\n",
       " [-0.009254137054085732],\n",
       " [0.19968196004629135],\n",
       " [0.7931750118732452],\n",
       " [0.8095898032188416],\n",
       " [-0.008636094629764557],\n",
       " [0.2747317999601364],\n",
       " [0.2652658075094223],\n",
       " [0.2529044644907117],\n",
       " [0.31598664820194244],\n",
       " [0.000144139863550663],\n",
       " [0.34942491352558136],\n",
       " [0.3668418675661087],\n",
       " [0.5136552304029465],\n",
       " [0.2041829563677311],\n",
       " [0.5223675668239594],\n",
       " [0.47253499925136566],\n",
       " [0.16740400344133377],\n",
       " [-0.018007098231464624],\n",
       " [0.2013971209526062],\n",
       " [-0.014755109790712595],\n",
       " [-0.005162176443263888]]"
      ]
     },
     "execution_count": 65,
     "metadata": {},
     "output_type": "execute_result"
    }
   ],
   "source": [
    "preds_list"
   ]
  },
  {
   "cell_type": "code",
   "execution_count": 66,
   "id": "66bc7718",
   "metadata": {
    "execution": {
     "iopub.execute_input": "2022-06-19T23:24:30.009547Z",
     "iopub.status.busy": "2022-06-19T23:24:30.009324Z",
     "iopub.status.idle": "2022-06-19T23:24:30.014877Z",
     "shell.execute_reply": "2022-06-19T23:24:30.014124Z"
    },
    "papermill": {
     "duration": 0.087812,
     "end_time": "2022-06-19T23:24:30.017361",
     "exception": false,
     "start_time": "2022-06-19T23:24:29.929549",
     "status": "completed"
    },
    "tags": []
   },
   "outputs": [
    {
     "data": {
      "text/plain": [
       "[0.48130857944488525,\n",
       " 0.9403905272483826,\n",
       " 0.3113718628883362,\n",
       " 0.46506722271442413,\n",
       " 0.20426959916949272,\n",
       " 0.744736522436142,\n",
       " 0.5256478786468506,\n",
       " 0.7630012929439545,\n",
       " 1.0759819149971008,\n",
       " 0.2342517301440239,\n",
       " 0.23173508793115616,\n",
       " 0.5337921679019928,\n",
       " -0.01776732038706541,\n",
       " 0.5704329013824463,\n",
       " 0.5877832472324371,\n",
       " -0.009254137054085732,\n",
       " 0.19968196004629135,\n",
       " 0.7931750118732452,\n",
       " 0.8095898032188416,\n",
       " -0.008636094629764557,\n",
       " 0.2747317999601364,\n",
       " 0.2652658075094223,\n",
       " 0.2529044644907117,\n",
       " 0.31598664820194244,\n",
       " 0.000144139863550663,\n",
       " 0.34942491352558136,\n",
       " 0.3668418675661087,\n",
       " 0.5136552304029465,\n",
       " 0.2041829563677311,\n",
       " 0.5223675668239594,\n",
       " 0.47253499925136566,\n",
       " 0.16740400344133377,\n",
       " -0.018007098231464624,\n",
       " 0.2013971209526062,\n",
       " -0.014755109790712595,\n",
       " -0.005162176443263888]"
      ]
     },
     "execution_count": 66,
     "metadata": {},
     "output_type": "execute_result"
    }
   ],
   "source": [
    "flat_list = [x for xs in preds_list for x in xs]\n",
    "flat_list"
   ]
  },
  {
   "cell_type": "code",
   "execution_count": 67,
   "id": "daa51f7f",
   "metadata": {
    "execution": {
     "iopub.execute_input": "2022-06-19T23:24:30.174678Z",
     "iopub.status.busy": "2022-06-19T23:24:30.174150Z",
     "iopub.status.idle": "2022-06-19T23:24:30.178214Z",
     "shell.execute_reply": "2022-06-19T23:24:30.177581Z"
    },
    "papermill": {
     "duration": 0.084524,
     "end_time": "2022-06-19T23:24:30.179848",
     "exception": false,
     "start_time": "2022-06-19T23:24:30.095324",
     "status": "completed"
    },
    "tags": []
   },
   "outputs": [],
   "source": [
    "df_submission['score' ] = flat_list"
   ]
  },
  {
   "cell_type": "code",
   "execution_count": 68,
   "id": "0df36436",
   "metadata": {
    "execution": {
     "iopub.execute_input": "2022-06-19T23:24:30.339876Z",
     "iopub.status.busy": "2022-06-19T23:24:30.339664Z",
     "iopub.status.idle": "2022-06-19T23:24:30.350192Z",
     "shell.execute_reply": "2022-06-19T23:24:30.349562Z"
    },
    "papermill": {
     "duration": 0.092019,
     "end_time": "2022-06-19T23:24:30.351992",
     "exception": false,
     "start_time": "2022-06-19T23:24:30.259973",
     "status": "completed"
    },
    "tags": []
   },
   "outputs": [
    {
     "data": {
      "text/html": [
       "<div>\n",
       "<style scoped>\n",
       "    .dataframe tbody tr th:only-of-type {\n",
       "        vertical-align: middle;\n",
       "    }\n",
       "\n",
       "    .dataframe tbody tr th {\n",
       "        vertical-align: top;\n",
       "    }\n",
       "\n",
       "    .dataframe thead th {\n",
       "        text-align: right;\n",
       "    }\n",
       "</style>\n",
       "<table border=\"1\" class=\"dataframe\">\n",
       "  <thead>\n",
       "    <tr style=\"text-align: right;\">\n",
       "      <th></th>\n",
       "      <th>id</th>\n",
       "      <th>score</th>\n",
       "    </tr>\n",
       "  </thead>\n",
       "  <tbody>\n",
       "    <tr>\n",
       "      <th>0</th>\n",
       "      <td>4112d61851461f60</td>\n",
       "      <td>0.481309</td>\n",
       "    </tr>\n",
       "    <tr>\n",
       "      <th>1</th>\n",
       "      <td>5203a36c501f1b7c</td>\n",
       "      <td>0.940391</td>\n",
       "    </tr>\n",
       "    <tr>\n",
       "      <th>2</th>\n",
       "      <td>7aa5908a77a7ec24</td>\n",
       "      <td>0.311372</td>\n",
       "    </tr>\n",
       "    <tr>\n",
       "      <th>3</th>\n",
       "      <td>442c114ed5c4e3c9</td>\n",
       "      <td>0.465067</td>\n",
       "    </tr>\n",
       "    <tr>\n",
       "      <th>4</th>\n",
       "      <td>12ca31f018a2e2b9</td>\n",
       "      <td>0.204270</td>\n",
       "    </tr>\n",
       "    <tr>\n",
       "      <th>5</th>\n",
       "      <td>9f2279ce667b21dc</td>\n",
       "      <td>0.744737</td>\n",
       "    </tr>\n",
       "    <tr>\n",
       "      <th>6</th>\n",
       "      <td>b9ea2b06a878df6f</td>\n",
       "      <td>0.525648</td>\n",
       "    </tr>\n",
       "    <tr>\n",
       "      <th>7</th>\n",
       "      <td>09e418c93a776564</td>\n",
       "      <td>0.763001</td>\n",
       "    </tr>\n",
       "    <tr>\n",
       "      <th>8</th>\n",
       "      <td>ae0262c02566d2ce</td>\n",
       "      <td>1.075982</td>\n",
       "    </tr>\n",
       "    <tr>\n",
       "      <th>9</th>\n",
       "      <td>03ba802ed4029e4d</td>\n",
       "      <td>0.234252</td>\n",
       "    </tr>\n",
       "    <tr>\n",
       "      <th>10</th>\n",
       "      <td>25522ee5411e63e9</td>\n",
       "      <td>0.231735</td>\n",
       "    </tr>\n",
       "    <tr>\n",
       "      <th>11</th>\n",
       "      <td>c404f8b378cbb008</td>\n",
       "      <td>0.533792</td>\n",
       "    </tr>\n",
       "    <tr>\n",
       "      <th>12</th>\n",
       "      <td>26c3c6dc6174b589</td>\n",
       "      <td>-0.017767</td>\n",
       "    </tr>\n",
       "    <tr>\n",
       "      <th>13</th>\n",
       "      <td>36baf228038e314b</td>\n",
       "      <td>0.570433</td>\n",
       "    </tr>\n",
       "    <tr>\n",
       "      <th>14</th>\n",
       "      <td>b892011ab2e2cabc</td>\n",
       "      <td>0.587783</td>\n",
       "    </tr>\n",
       "    <tr>\n",
       "      <th>15</th>\n",
       "      <td>b8ae62ea5e1d8bdb</td>\n",
       "      <td>-0.009254</td>\n",
       "    </tr>\n",
       "    <tr>\n",
       "      <th>16</th>\n",
       "      <td>a8808e31641e856d</td>\n",
       "      <td>0.199682</td>\n",
       "    </tr>\n",
       "    <tr>\n",
       "      <th>17</th>\n",
       "      <td>25c555ca3d5a2092</td>\n",
       "      <td>0.793175</td>\n",
       "    </tr>\n",
       "    <tr>\n",
       "      <th>18</th>\n",
       "      <td>b9fdc772bb8fd61c</td>\n",
       "      <td>0.809590</td>\n",
       "    </tr>\n",
       "    <tr>\n",
       "      <th>19</th>\n",
       "      <td>de51114bc0faec3e</td>\n",
       "      <td>-0.008636</td>\n",
       "    </tr>\n",
       "    <tr>\n",
       "      <th>20</th>\n",
       "      <td>8247ff562ca185cc</td>\n",
       "      <td>0.274732</td>\n",
       "    </tr>\n",
       "    <tr>\n",
       "      <th>21</th>\n",
       "      <td>1f37ead645e7f0c8</td>\n",
       "      <td>0.265266</td>\n",
       "    </tr>\n",
       "    <tr>\n",
       "      <th>22</th>\n",
       "      <td>71a5b6ad068d531f</td>\n",
       "      <td>0.252904</td>\n",
       "    </tr>\n",
       "    <tr>\n",
       "      <th>23</th>\n",
       "      <td>16ae4b99d3601e60</td>\n",
       "      <td>0.315987</td>\n",
       "    </tr>\n",
       "    <tr>\n",
       "      <th>24</th>\n",
       "      <td>fd83613b7843f5e1</td>\n",
       "      <td>0.000144</td>\n",
       "    </tr>\n",
       "    <tr>\n",
       "      <th>25</th>\n",
       "      <td>733979d75f59770d</td>\n",
       "      <td>0.349425</td>\n",
       "    </tr>\n",
       "    <tr>\n",
       "      <th>26</th>\n",
       "      <td>79795133c30ef097</td>\n",
       "      <td>0.366842</td>\n",
       "    </tr>\n",
       "    <tr>\n",
       "      <th>27</th>\n",
       "      <td>474c874d0c07bd21</td>\n",
       "      <td>0.513655</td>\n",
       "    </tr>\n",
       "    <tr>\n",
       "      <th>28</th>\n",
       "      <td>faaddaf8fcba8a3f</td>\n",
       "      <td>0.204183</td>\n",
       "    </tr>\n",
       "    <tr>\n",
       "      <th>29</th>\n",
       "      <td>2a619016908bfa45</td>\n",
       "      <td>0.522368</td>\n",
       "    </tr>\n",
       "    <tr>\n",
       "      <th>30</th>\n",
       "      <td>6546846df17f9800</td>\n",
       "      <td>0.472535</td>\n",
       "    </tr>\n",
       "    <tr>\n",
       "      <th>31</th>\n",
       "      <td>d19ef3979396d47e</td>\n",
       "      <td>0.167404</td>\n",
       "    </tr>\n",
       "    <tr>\n",
       "      <th>32</th>\n",
       "      <td>7e3aff857f056bf9</td>\n",
       "      <td>-0.018007</td>\n",
       "    </tr>\n",
       "    <tr>\n",
       "      <th>33</th>\n",
       "      <td>3ff0e7a35015be69</td>\n",
       "      <td>0.201397</td>\n",
       "    </tr>\n",
       "    <tr>\n",
       "      <th>34</th>\n",
       "      <td>78243984c02a72e4</td>\n",
       "      <td>-0.014755</td>\n",
       "    </tr>\n",
       "    <tr>\n",
       "      <th>35</th>\n",
       "      <td>c057aecbba832387</td>\n",
       "      <td>-0.005162</td>\n",
       "    </tr>\n",
       "  </tbody>\n",
       "</table>\n",
       "</div>"
      ],
      "text/plain": [
       "                  id     score\n",
       "0   4112d61851461f60  0.481309\n",
       "1   5203a36c501f1b7c  0.940391\n",
       "2   7aa5908a77a7ec24  0.311372\n",
       "3   442c114ed5c4e3c9  0.465067\n",
       "4   12ca31f018a2e2b9  0.204270\n",
       "5   9f2279ce667b21dc  0.744737\n",
       "6   b9ea2b06a878df6f  0.525648\n",
       "7   09e418c93a776564  0.763001\n",
       "8   ae0262c02566d2ce  1.075982\n",
       "9   03ba802ed4029e4d  0.234252\n",
       "10  25522ee5411e63e9  0.231735\n",
       "11  c404f8b378cbb008  0.533792\n",
       "12  26c3c6dc6174b589 -0.017767\n",
       "13  36baf228038e314b  0.570433\n",
       "14  b892011ab2e2cabc  0.587783\n",
       "15  b8ae62ea5e1d8bdb -0.009254\n",
       "16  a8808e31641e856d  0.199682\n",
       "17  25c555ca3d5a2092  0.793175\n",
       "18  b9fdc772bb8fd61c  0.809590\n",
       "19  de51114bc0faec3e -0.008636\n",
       "20  8247ff562ca185cc  0.274732\n",
       "21  1f37ead645e7f0c8  0.265266\n",
       "22  71a5b6ad068d531f  0.252904\n",
       "23  16ae4b99d3601e60  0.315987\n",
       "24  fd83613b7843f5e1  0.000144\n",
       "25  733979d75f59770d  0.349425\n",
       "26  79795133c30ef097  0.366842\n",
       "27  474c874d0c07bd21  0.513655\n",
       "28  faaddaf8fcba8a3f  0.204183\n",
       "29  2a619016908bfa45  0.522368\n",
       "30  6546846df17f9800  0.472535\n",
       "31  d19ef3979396d47e  0.167404\n",
       "32  7e3aff857f056bf9 -0.018007\n",
       "33  3ff0e7a35015be69  0.201397\n",
       "34  78243984c02a72e4 -0.014755\n",
       "35  c057aecbba832387 -0.005162"
      ]
     },
     "execution_count": 68,
     "metadata": {},
     "output_type": "execute_result"
    }
   ],
   "source": [
    "df_submission"
   ]
  },
  {
   "cell_type": "code",
   "execution_count": 69,
   "id": "a4cfcb31",
   "metadata": {
    "execution": {
     "iopub.execute_input": "2022-06-19T23:24:30.514055Z",
     "iopub.status.busy": "2022-06-19T23:24:30.513861Z",
     "iopub.status.idle": "2022-06-19T23:24:30.521053Z",
     "shell.execute_reply": "2022-06-19T23:24:30.520451Z"
    },
    "papermill": {
     "duration": 0.090199,
     "end_time": "2022-06-19T23:24:30.522691",
     "exception": false,
     "start_time": "2022-06-19T23:24:30.432492",
     "status": "completed"
    },
    "tags": []
   },
   "outputs": [],
   "source": [
    "#submission = datasets.Dataset.from_dict({\n",
    "  #  'id': test_ds['id'],\n",
    " #   'score': preds\n",
    "#})\n",
    "\n",
    "df_submission.to_csv('submission.csv', index=False)"
   ]
  },
  {
   "cell_type": "code",
   "execution_count": null,
   "id": "672c105d",
   "metadata": {
    "papermill": {
     "duration": 0.079542,
     "end_time": "2022-06-19T23:24:30.681156",
     "exception": false,
     "start_time": "2022-06-19T23:24:30.601614",
     "status": "completed"
    },
    "tags": []
   },
   "outputs": [],
   "source": []
  }
 ],
 "metadata": {
  "kernelspec": {
   "display_name": "Python 3",
   "language": "python",
   "name": "python3"
  },
  "language_info": {
   "codemirror_mode": {
    "name": "ipython",
    "version": 3
   },
   "file_extension": ".py",
   "mimetype": "text/x-python",
   "name": "python",
   "nbconvert_exporter": "python",
   "pygments_lexer": "ipython3",
   "version": "3.7.12"
  },
  "papermill": {
   "default_parameters": {},
   "duration": 339.648501,
   "end_time": "2022-06-19T23:24:33.481619",
   "environment_variables": {},
   "exception": null,
   "input_path": "__notebook__.ipynb",
   "output_path": "__notebook__.ipynb",
   "parameters": {},
   "start_time": "2022-06-19T23:18:53.833118",
   "version": "2.3.4"
  },
  "widgets": {
   "application/vnd.jupyter.widget-state+json": {
    "state": {
     "041986c1a8f445f4978f3126b704cf64": {
      "model_module": "@jupyter-widgets/controls",
      "model_module_version": "1.5.0",
      "model_name": "DescriptionStyleModel",
      "state": {
       "_model_module": "@jupyter-widgets/controls",
       "_model_module_version": "1.5.0",
       "_model_name": "DescriptionStyleModel",
       "_view_count": null,
       "_view_module": "@jupyter-widgets/base",
       "_view_module_version": "1.2.0",
       "_view_name": "StyleView",
       "description_width": ""
      }
     },
     "093bb6fb705d41cb929abe73701bb9e8": {
      "model_module": "@jupyter-widgets/controls",
      "model_module_version": "1.5.0",
      "model_name": "DescriptionStyleModel",
      "state": {
       "_model_module": "@jupyter-widgets/controls",
       "_model_module_version": "1.5.0",
       "_model_name": "DescriptionStyleModel",
       "_view_count": null,
       "_view_module": "@jupyter-widgets/base",
       "_view_module_version": "1.2.0",
       "_view_name": "StyleView",
       "description_width": ""
      }
     },
     "0cbc40c84d0542778326956bfd9fc936": {
      "model_module": "@jupyter-widgets/controls",
      "model_module_version": "1.5.0",
      "model_name": "HTMLModel",
      "state": {
       "_dom_classes": [],
       "_model_module": "@jupyter-widgets/controls",
       "_model_module_version": "1.5.0",
       "_model_name": "HTMLModel",
       "_view_count": null,
       "_view_module": "@jupyter-widgets/controls",
       "_view_module_version": "1.5.0",
       "_view_name": "HTMLView",
       "description": "",
       "description_tooltip": null,
       "layout": "IPY_MODEL_9738f2af2cd247cdace8f9918217ea92",
       "placeholder": "​",
       "style": "IPY_MODEL_ba4b18ba70bc4234b2be152392af8836",
       "value": "100%"
      }
     },
     "1262c503b3f54e6bb267ed46d7ed0136": {
      "model_module": "@jupyter-widgets/controls",
      "model_module_version": "1.5.0",
      "model_name": "HBoxModel",
      "state": {
       "_dom_classes": [],
       "_model_module": "@jupyter-widgets/controls",
       "_model_module_version": "1.5.0",
       "_model_name": "HBoxModel",
       "_view_count": null,
       "_view_module": "@jupyter-widgets/controls",
       "_view_module_version": "1.5.0",
       "_view_name": "HBoxView",
       "box_style": "",
       "children": [
        "IPY_MODEL_757161303bac41c698aefe0b0accd969",
        "IPY_MODEL_de0a5c713a2845d2b2fcb8beaf612a95",
        "IPY_MODEL_83ad0600cf9141e0b2d44943feb38ec9"
       ],
       "layout": "IPY_MODEL_9e4b65ce76be44e0b091d6bae0bdc383"
      }
     },
     "15cf5b08bae84d05a0148bcae4d97ccf": {
      "model_module": "@jupyter-widgets/base",
      "model_module_version": "1.2.0",
      "model_name": "LayoutModel",
      "state": {
       "_model_module": "@jupyter-widgets/base",
       "_model_module_version": "1.2.0",
       "_model_name": "LayoutModel",
       "_view_count": null,
       "_view_module": "@jupyter-widgets/base",
       "_view_module_version": "1.2.0",
       "_view_name": "LayoutView",
       "align_content": null,
       "align_items": null,
       "align_self": null,
       "border": null,
       "bottom": null,
       "display": null,
       "flex": null,
       "flex_flow": null,
       "grid_area": null,
       "grid_auto_columns": null,
       "grid_auto_flow": null,
       "grid_auto_rows": null,
       "grid_column": null,
       "grid_gap": null,
       "grid_row": null,
       "grid_template_areas": null,
       "grid_template_columns": null,
       "grid_template_rows": null,
       "height": null,
       "justify_content": null,
       "justify_items": null,
       "left": null,
       "margin": null,
       "max_height": null,
       "max_width": null,
       "min_height": null,
       "min_width": null,
       "object_fit": null,
       "object_position": null,
       "order": null,
       "overflow": null,
       "overflow_x": null,
       "overflow_y": null,
       "padding": null,
       "right": null,
       "top": null,
       "visibility": null,
       "width": null
      }
     },
     "16f911a1bda04645851548c0de26c140": {
      "model_module": "@jupyter-widgets/controls",
      "model_module_version": "1.5.0",
      "model_name": "DescriptionStyleModel",
      "state": {
       "_model_module": "@jupyter-widgets/controls",
       "_model_module_version": "1.5.0",
       "_model_name": "DescriptionStyleModel",
       "_view_count": null,
       "_view_module": "@jupyter-widgets/base",
       "_view_module_version": "1.2.0",
       "_view_name": "StyleView",
       "description_width": ""
      }
     },
     "25626b4205c445369a765e7b30f7b3b5": {
      "model_module": "@jupyter-widgets/base",
      "model_module_version": "1.2.0",
      "model_name": "LayoutModel",
      "state": {
       "_model_module": "@jupyter-widgets/base",
       "_model_module_version": "1.2.0",
       "_model_name": "LayoutModel",
       "_view_count": null,
       "_view_module": "@jupyter-widgets/base",
       "_view_module_version": "1.2.0",
       "_view_name": "LayoutView",
       "align_content": null,
       "align_items": null,
       "align_self": null,
       "border": null,
       "bottom": null,
       "display": null,
       "flex": null,
       "flex_flow": null,
       "grid_area": null,
       "grid_auto_columns": null,
       "grid_auto_flow": null,
       "grid_auto_rows": null,
       "grid_column": null,
       "grid_gap": null,
       "grid_row": null,
       "grid_template_areas": null,
       "grid_template_columns": null,
       "grid_template_rows": null,
       "height": null,
       "justify_content": null,
       "justify_items": null,
       "left": null,
       "margin": null,
       "max_height": null,
       "max_width": null,
       "min_height": null,
       "min_width": null,
       "object_fit": null,
       "object_position": null,
       "order": null,
       "overflow": null,
       "overflow_x": null,
       "overflow_y": null,
       "padding": null,
       "right": null,
       "top": null,
       "visibility": null,
       "width": null
      }
     },
     "2cd438bf99944f019064f4f962bbb84d": {
      "model_module": "@jupyter-widgets/controls",
      "model_module_version": "1.5.0",
      "model_name": "ProgressStyleModel",
      "state": {
       "_model_module": "@jupyter-widgets/controls",
       "_model_module_version": "1.5.0",
       "_model_name": "ProgressStyleModel",
       "_view_count": null,
       "_view_module": "@jupyter-widgets/base",
       "_view_module_version": "1.2.0",
       "_view_name": "StyleView",
       "bar_color": null,
       "description_width": ""
      }
     },
     "2d68a04675004714ade54d005bd78688": {
      "model_module": "@jupyter-widgets/controls",
      "model_module_version": "1.5.0",
      "model_name": "DescriptionStyleModel",
      "state": {
       "_model_module": "@jupyter-widgets/controls",
       "_model_module_version": "1.5.0",
       "_model_name": "DescriptionStyleModel",
       "_view_count": null,
       "_view_module": "@jupyter-widgets/base",
       "_view_module_version": "1.2.0",
       "_view_name": "StyleView",
       "description_width": ""
      }
     },
     "379d0f2d0dfd41fbbffc6a80abccc540": {
      "model_module": "@jupyter-widgets/controls",
      "model_module_version": "1.5.0",
      "model_name": "HTMLModel",
      "state": {
       "_dom_classes": [],
       "_model_module": "@jupyter-widgets/controls",
       "_model_module_version": "1.5.0",
       "_model_name": "HTMLModel",
       "_view_count": null,
       "_view_module": "@jupyter-widgets/controls",
       "_view_module_version": "1.5.0",
       "_view_name": "HTMLView",
       "description": "",
       "description_tooltip": null,
       "layout": "IPY_MODEL_78974f496ae14a3f97b55e1351097f73",
       "placeholder": "​",
       "style": "IPY_MODEL_041986c1a8f445f4978f3126b704cf64",
       "value": " 1/1 [00:00&lt;00:00, 28.12ba/s]"
      }
     },
     "39652d8662294df5b1cd45c63d8e4c66": {
      "model_module": "@jupyter-widgets/base",
      "model_module_version": "1.2.0",
      "model_name": "LayoutModel",
      "state": {
       "_model_module": "@jupyter-widgets/base",
       "_model_module_version": "1.2.0",
       "_model_name": "LayoutModel",
       "_view_count": null,
       "_view_module": "@jupyter-widgets/base",
       "_view_module_version": "1.2.0",
       "_view_name": "LayoutView",
       "align_content": null,
       "align_items": null,
       "align_self": null,
       "border": null,
       "bottom": null,
       "display": null,
       "flex": null,
       "flex_flow": null,
       "grid_area": null,
       "grid_auto_columns": null,
       "grid_auto_flow": null,
       "grid_auto_rows": null,
       "grid_column": null,
       "grid_gap": null,
       "grid_row": null,
       "grid_template_areas": null,
       "grid_template_columns": null,
       "grid_template_rows": null,
       "height": null,
       "justify_content": null,
       "justify_items": null,
       "left": null,
       "margin": null,
       "max_height": null,
       "max_width": null,
       "min_height": null,
       "min_width": null,
       "object_fit": null,
       "object_position": null,
       "order": null,
       "overflow": null,
       "overflow_x": null,
       "overflow_y": null,
       "padding": null,
       "right": null,
       "top": null,
       "visibility": null,
       "width": null
      }
     },
     "42428505a21247e190e0079411a39ee1": {
      "model_module": "@jupyter-widgets/controls",
      "model_module_version": "1.5.0",
      "model_name": "DescriptionStyleModel",
      "state": {
       "_model_module": "@jupyter-widgets/controls",
       "_model_module_version": "1.5.0",
       "_model_name": "DescriptionStyleModel",
       "_view_count": null,
       "_view_module": "@jupyter-widgets/base",
       "_view_module_version": "1.2.0",
       "_view_name": "StyleView",
       "description_width": ""
      }
     },
     "4b2aa669ee134db4ab915a3bd2ad5709": {
      "model_module": "@jupyter-widgets/base",
      "model_module_version": "1.2.0",
      "model_name": "LayoutModel",
      "state": {
       "_model_module": "@jupyter-widgets/base",
       "_model_module_version": "1.2.0",
       "_model_name": "LayoutModel",
       "_view_count": null,
       "_view_module": "@jupyter-widgets/base",
       "_view_module_version": "1.2.0",
       "_view_name": "LayoutView",
       "align_content": null,
       "align_items": null,
       "align_self": null,
       "border": null,
       "bottom": null,
       "display": null,
       "flex": null,
       "flex_flow": null,
       "grid_area": null,
       "grid_auto_columns": null,
       "grid_auto_flow": null,
       "grid_auto_rows": null,
       "grid_column": null,
       "grid_gap": null,
       "grid_row": null,
       "grid_template_areas": null,
       "grid_template_columns": null,
       "grid_template_rows": null,
       "height": null,
       "justify_content": null,
       "justify_items": null,
       "left": null,
       "margin": null,
       "max_height": null,
       "max_width": null,
       "min_height": null,
       "min_width": null,
       "object_fit": null,
       "object_position": null,
       "order": null,
       "overflow": null,
       "overflow_x": null,
       "overflow_y": null,
       "padding": null,
       "right": null,
       "top": null,
       "visibility": null,
       "width": null
      }
     },
     "5058291e6edc4574a5312cd107bdc5a0": {
      "model_module": "@jupyter-widgets/controls",
      "model_module_version": "1.5.0",
      "model_name": "FloatProgressModel",
      "state": {
       "_dom_classes": [],
       "_model_module": "@jupyter-widgets/controls",
       "_model_module_version": "1.5.0",
       "_model_name": "FloatProgressModel",
       "_view_count": null,
       "_view_module": "@jupyter-widgets/controls",
       "_view_module_version": "1.5.0",
       "_view_name": "ProgressView",
       "bar_style": "success",
       "description": "",
       "description_tooltip": null,
       "layout": "IPY_MODEL_6ce08c55d8b24065ac4bff7948b35002",
       "max": 1.0,
       "min": 0.0,
       "orientation": "horizontal",
       "style": "IPY_MODEL_f94d455246fa4e7894eaa61826d1df43",
       "value": 1.0
      }
     },
     "53e07dd75a7b4a989dd2e9e1cafdd2ec": {
      "model_module": "@jupyter-widgets/base",
      "model_module_version": "1.2.0",
      "model_name": "LayoutModel",
      "state": {
       "_model_module": "@jupyter-widgets/base",
       "_model_module_version": "1.2.0",
       "_model_name": "LayoutModel",
       "_view_count": null,
       "_view_module": "@jupyter-widgets/base",
       "_view_module_version": "1.2.0",
       "_view_name": "LayoutView",
       "align_content": null,
       "align_items": null,
       "align_self": null,
       "border": null,
       "bottom": null,
       "display": null,
       "flex": null,
       "flex_flow": null,
       "grid_area": null,
       "grid_auto_columns": null,
       "grid_auto_flow": null,
       "grid_auto_rows": null,
       "grid_column": null,
       "grid_gap": null,
       "grid_row": null,
       "grid_template_areas": null,
       "grid_template_columns": null,
       "grid_template_rows": null,
       "height": null,
       "justify_content": null,
       "justify_items": null,
       "left": null,
       "margin": null,
       "max_height": null,
       "max_width": null,
       "min_height": null,
       "min_width": null,
       "object_fit": null,
       "object_position": null,
       "order": null,
       "overflow": null,
       "overflow_x": null,
       "overflow_y": null,
       "padding": null,
       "right": null,
       "top": null,
       "visibility": null,
       "width": null
      }
     },
     "5ce127a113224652aa0f7e0901f72d6b": {
      "model_module": "@jupyter-widgets/controls",
      "model_module_version": "1.5.0",
      "model_name": "HBoxModel",
      "state": {
       "_dom_classes": [],
       "_model_module": "@jupyter-widgets/controls",
       "_model_module_version": "1.5.0",
       "_model_name": "HBoxModel",
       "_view_count": null,
       "_view_module": "@jupyter-widgets/controls",
       "_view_module_version": "1.5.0",
       "_view_name": "HBoxView",
       "box_style": "",
       "children": [
        "IPY_MODEL_0cbc40c84d0542778326956bfd9fc936",
        "IPY_MODEL_5058291e6edc4574a5312cd107bdc5a0",
        "IPY_MODEL_ce32e7a1cc274837a775848a8dd61c65"
       ],
       "layout": "IPY_MODEL_914209c4e5cc4ed3878ebef68704a908"
      }
     },
     "5db99eb658f94d32addc9e2cdacf77a0": {
      "model_module": "@jupyter-widgets/controls",
      "model_module_version": "1.5.0",
      "model_name": "DescriptionStyleModel",
      "state": {
       "_model_module": "@jupyter-widgets/controls",
       "_model_module_version": "1.5.0",
       "_model_name": "DescriptionStyleModel",
       "_view_count": null,
       "_view_module": "@jupyter-widgets/base",
       "_view_module_version": "1.2.0",
       "_view_name": "StyleView",
       "description_width": ""
      }
     },
     "61a2013e68ae4cc7b2d7038f7670ea42": {
      "model_module": "@jupyter-widgets/base",
      "model_module_version": "1.2.0",
      "model_name": "LayoutModel",
      "state": {
       "_model_module": "@jupyter-widgets/base",
       "_model_module_version": "1.2.0",
       "_model_name": "LayoutModel",
       "_view_count": null,
       "_view_module": "@jupyter-widgets/base",
       "_view_module_version": "1.2.0",
       "_view_name": "LayoutView",
       "align_content": null,
       "align_items": null,
       "align_self": null,
       "border": null,
       "bottom": null,
       "display": null,
       "flex": null,
       "flex_flow": null,
       "grid_area": null,
       "grid_auto_columns": null,
       "grid_auto_flow": null,
       "grid_auto_rows": null,
       "grid_column": null,
       "grid_gap": null,
       "grid_row": null,
       "grid_template_areas": null,
       "grid_template_columns": null,
       "grid_template_rows": null,
       "height": null,
       "justify_content": null,
       "justify_items": null,
       "left": null,
       "margin": null,
       "max_height": null,
       "max_width": null,
       "min_height": null,
       "min_width": null,
       "object_fit": null,
       "object_position": null,
       "order": null,
       "overflow": null,
       "overflow_x": null,
       "overflow_y": null,
       "padding": null,
       "right": null,
       "top": null,
       "visibility": null,
       "width": null
      }
     },
     "67dcd3010fff44c48d26b91bbf3891ed": {
      "model_module": "@jupyter-widgets/controls",
      "model_module_version": "1.5.0",
      "model_name": "ProgressStyleModel",
      "state": {
       "_model_module": "@jupyter-widgets/controls",
       "_model_module_version": "1.5.0",
       "_model_name": "ProgressStyleModel",
       "_view_count": null,
       "_view_module": "@jupyter-widgets/base",
       "_view_module_version": "1.2.0",
       "_view_name": "StyleView",
       "bar_color": null,
       "description_width": ""
      }
     },
     "6ce08c55d8b24065ac4bff7948b35002": {
      "model_module": "@jupyter-widgets/base",
      "model_module_version": "1.2.0",
      "model_name": "LayoutModel",
      "state": {
       "_model_module": "@jupyter-widgets/base",
       "_model_module_version": "1.2.0",
       "_model_name": "LayoutModel",
       "_view_count": null,
       "_view_module": "@jupyter-widgets/base",
       "_view_module_version": "1.2.0",
       "_view_name": "LayoutView",
       "align_content": null,
       "align_items": null,
       "align_self": null,
       "border": null,
       "bottom": null,
       "display": null,
       "flex": null,
       "flex_flow": null,
       "grid_area": null,
       "grid_auto_columns": null,
       "grid_auto_flow": null,
       "grid_auto_rows": null,
       "grid_column": null,
       "grid_gap": null,
       "grid_row": null,
       "grid_template_areas": null,
       "grid_template_columns": null,
       "grid_template_rows": null,
       "height": null,
       "justify_content": null,
       "justify_items": null,
       "left": null,
       "margin": null,
       "max_height": null,
       "max_width": null,
       "min_height": null,
       "min_width": null,
       "object_fit": null,
       "object_position": null,
       "order": null,
       "overflow": null,
       "overflow_x": null,
       "overflow_y": null,
       "padding": null,
       "right": null,
       "top": null,
       "visibility": null,
       "width": null
      }
     },
     "757161303bac41c698aefe0b0accd969": {
      "model_module": "@jupyter-widgets/controls",
      "model_module_version": "1.5.0",
      "model_name": "HTMLModel",
      "state": {
       "_dom_classes": [],
       "_model_module": "@jupyter-widgets/controls",
       "_model_module_version": "1.5.0",
       "_model_name": "HTMLModel",
       "_view_count": null,
       "_view_module": "@jupyter-widgets/controls",
       "_view_module_version": "1.5.0",
       "_view_name": "HTMLView",
       "description": "",
       "description_tooltip": null,
       "layout": "IPY_MODEL_61a2013e68ae4cc7b2d7038f7670ea42",
       "placeholder": "​",
       "style": "IPY_MODEL_093bb6fb705d41cb929abe73701bb9e8",
       "value": "100%"
      }
     },
     "78974f496ae14a3f97b55e1351097f73": {
      "model_module": "@jupyter-widgets/base",
      "model_module_version": "1.2.0",
      "model_name": "LayoutModel",
      "state": {
       "_model_module": "@jupyter-widgets/base",
       "_model_module_version": "1.2.0",
       "_model_name": "LayoutModel",
       "_view_count": null,
       "_view_module": "@jupyter-widgets/base",
       "_view_module_version": "1.2.0",
       "_view_name": "LayoutView",
       "align_content": null,
       "align_items": null,
       "align_self": null,
       "border": null,
       "bottom": null,
       "display": null,
       "flex": null,
       "flex_flow": null,
       "grid_area": null,
       "grid_auto_columns": null,
       "grid_auto_flow": null,
       "grid_auto_rows": null,
       "grid_column": null,
       "grid_gap": null,
       "grid_row": null,
       "grid_template_areas": null,
       "grid_template_columns": null,
       "grid_template_rows": null,
       "height": null,
       "justify_content": null,
       "justify_items": null,
       "left": null,
       "margin": null,
       "max_height": null,
       "max_width": null,
       "min_height": null,
       "min_width": null,
       "object_fit": null,
       "object_position": null,
       "order": null,
       "overflow": null,
       "overflow_x": null,
       "overflow_y": null,
       "padding": null,
       "right": null,
       "top": null,
       "visibility": null,
       "width": null
      }
     },
     "81bccebfa24e4881a51cfb04d9f17f82": {
      "model_module": "@jupyter-widgets/controls",
      "model_module_version": "1.5.0",
      "model_name": "HBoxModel",
      "state": {
       "_dom_classes": [],
       "_model_module": "@jupyter-widgets/controls",
       "_model_module_version": "1.5.0",
       "_model_name": "HBoxModel",
       "_view_count": null,
       "_view_module": "@jupyter-widgets/controls",
       "_view_module_version": "1.5.0",
       "_view_name": "HBoxView",
       "box_style": "",
       "children": [
        "IPY_MODEL_dd70d43471ca413d92dbc866edc7d8d6",
        "IPY_MODEL_ac22deeade8542bc86418f507950bd3b",
        "IPY_MODEL_379d0f2d0dfd41fbbffc6a80abccc540"
       ],
       "layout": "IPY_MODEL_25626b4205c445369a765e7b30f7b3b5"
      }
     },
     "83ad0600cf9141e0b2d44943feb38ec9": {
      "model_module": "@jupyter-widgets/controls",
      "model_module_version": "1.5.0",
      "model_name": "HTMLModel",
      "state": {
       "_dom_classes": [],
       "_model_module": "@jupyter-widgets/controls",
       "_model_module_version": "1.5.0",
       "_model_name": "HTMLModel",
       "_view_count": null,
       "_view_module": "@jupyter-widgets/controls",
       "_view_module_version": "1.5.0",
       "_view_name": "HTMLView",
       "description": "",
       "description_tooltip": null,
       "layout": "IPY_MODEL_a54836af8084481c8188a2a19a16baf5",
       "placeholder": "​",
       "style": "IPY_MODEL_5db99eb658f94d32addc9e2cdacf77a0",
       "value": " 37/37 [00:03&lt;00:00, 13.06ba/s]"
      }
     },
     "8ad8068a03084ac58bea9a3dfc92da7b": {
      "model_module": "@jupyter-widgets/controls",
      "model_module_version": "1.5.0",
      "model_name": "DescriptionStyleModel",
      "state": {
       "_model_module": "@jupyter-widgets/controls",
       "_model_module_version": "1.5.0",
       "_model_name": "DescriptionStyleModel",
       "_view_count": null,
       "_view_module": "@jupyter-widgets/base",
       "_view_module_version": "1.2.0",
       "_view_name": "StyleView",
       "description_width": ""
      }
     },
     "914209c4e5cc4ed3878ebef68704a908": {
      "model_module": "@jupyter-widgets/base",
      "model_module_version": "1.2.0",
      "model_name": "LayoutModel",
      "state": {
       "_model_module": "@jupyter-widgets/base",
       "_model_module_version": "1.2.0",
       "_model_name": "LayoutModel",
       "_view_count": null,
       "_view_module": "@jupyter-widgets/base",
       "_view_module_version": "1.2.0",
       "_view_name": "LayoutView",
       "align_content": null,
       "align_items": null,
       "align_self": null,
       "border": null,
       "bottom": null,
       "display": null,
       "flex": null,
       "flex_flow": null,
       "grid_area": null,
       "grid_auto_columns": null,
       "grid_auto_flow": null,
       "grid_auto_rows": null,
       "grid_column": null,
       "grid_gap": null,
       "grid_row": null,
       "grid_template_areas": null,
       "grid_template_columns": null,
       "grid_template_rows": null,
       "height": null,
       "justify_content": null,
       "justify_items": null,
       "left": null,
       "margin": null,
       "max_height": null,
       "max_width": null,
       "min_height": null,
       "min_width": null,
       "object_fit": null,
       "object_position": null,
       "order": null,
       "overflow": null,
       "overflow_x": null,
       "overflow_y": null,
       "padding": null,
       "right": null,
       "top": null,
       "visibility": null,
       "width": null
      }
     },
     "9738f2af2cd247cdace8f9918217ea92": {
      "model_module": "@jupyter-widgets/base",
      "model_module_version": "1.2.0",
      "model_name": "LayoutModel",
      "state": {
       "_model_module": "@jupyter-widgets/base",
       "_model_module_version": "1.2.0",
       "_model_name": "LayoutModel",
       "_view_count": null,
       "_view_module": "@jupyter-widgets/base",
       "_view_module_version": "1.2.0",
       "_view_name": "LayoutView",
       "align_content": null,
       "align_items": null,
       "align_self": null,
       "border": null,
       "bottom": null,
       "display": null,
       "flex": null,
       "flex_flow": null,
       "grid_area": null,
       "grid_auto_columns": null,
       "grid_auto_flow": null,
       "grid_auto_rows": null,
       "grid_column": null,
       "grid_gap": null,
       "grid_row": null,
       "grid_template_areas": null,
       "grid_template_columns": null,
       "grid_template_rows": null,
       "height": null,
       "justify_content": null,
       "justify_items": null,
       "left": null,
       "margin": null,
       "max_height": null,
       "max_width": null,
       "min_height": null,
       "min_width": null,
       "object_fit": null,
       "object_position": null,
       "order": null,
       "overflow": null,
       "overflow_x": null,
       "overflow_y": null,
       "padding": null,
       "right": null,
       "top": null,
       "visibility": null,
       "width": null
      }
     },
     "9e4b65ce76be44e0b091d6bae0bdc383": {
      "model_module": "@jupyter-widgets/base",
      "model_module_version": "1.2.0",
      "model_name": "LayoutModel",
      "state": {
       "_model_module": "@jupyter-widgets/base",
       "_model_module_version": "1.2.0",
       "_model_name": "LayoutModel",
       "_view_count": null,
       "_view_module": "@jupyter-widgets/base",
       "_view_module_version": "1.2.0",
       "_view_name": "LayoutView",
       "align_content": null,
       "align_items": null,
       "align_self": null,
       "border": null,
       "bottom": null,
       "display": null,
       "flex": null,
       "flex_flow": null,
       "grid_area": null,
       "grid_auto_columns": null,
       "grid_auto_flow": null,
       "grid_auto_rows": null,
       "grid_column": null,
       "grid_gap": null,
       "grid_row": null,
       "grid_template_areas": null,
       "grid_template_columns": null,
       "grid_template_rows": null,
       "height": null,
       "justify_content": null,
       "justify_items": null,
       "left": null,
       "margin": null,
       "max_height": null,
       "max_width": null,
       "min_height": null,
       "min_width": null,
       "object_fit": null,
       "object_position": null,
       "order": null,
       "overflow": null,
       "overflow_x": null,
       "overflow_y": null,
       "padding": null,
       "right": null,
       "top": null,
       "visibility": null,
       "width": null
      }
     },
     "a54836af8084481c8188a2a19a16baf5": {
      "model_module": "@jupyter-widgets/base",
      "model_module_version": "1.2.0",
      "model_name": "LayoutModel",
      "state": {
       "_model_module": "@jupyter-widgets/base",
       "_model_module_version": "1.2.0",
       "_model_name": "LayoutModel",
       "_view_count": null,
       "_view_module": "@jupyter-widgets/base",
       "_view_module_version": "1.2.0",
       "_view_name": "LayoutView",
       "align_content": null,
       "align_items": null,
       "align_self": null,
       "border": null,
       "bottom": null,
       "display": null,
       "flex": null,
       "flex_flow": null,
       "grid_area": null,
       "grid_auto_columns": null,
       "grid_auto_flow": null,
       "grid_auto_rows": null,
       "grid_column": null,
       "grid_gap": null,
       "grid_row": null,
       "grid_template_areas": null,
       "grid_template_columns": null,
       "grid_template_rows": null,
       "height": null,
       "justify_content": null,
       "justify_items": null,
       "left": null,
       "margin": null,
       "max_height": null,
       "max_width": null,
       "min_height": null,
       "min_width": null,
       "object_fit": null,
       "object_position": null,
       "order": null,
       "overflow": null,
       "overflow_x": null,
       "overflow_y": null,
       "padding": null,
       "right": null,
       "top": null,
       "visibility": null,
       "width": null
      }
     },
     "ac22deeade8542bc86418f507950bd3b": {
      "model_module": "@jupyter-widgets/controls",
      "model_module_version": "1.5.0",
      "model_name": "FloatProgressModel",
      "state": {
       "_dom_classes": [],
       "_model_module": "@jupyter-widgets/controls",
       "_model_module_version": "1.5.0",
       "_model_name": "FloatProgressModel",
       "_view_count": null,
       "_view_module": "@jupyter-widgets/controls",
       "_view_module_version": "1.5.0",
       "_view_name": "ProgressView",
       "bar_style": "success",
       "description": "",
       "description_tooltip": null,
       "layout": "IPY_MODEL_39652d8662294df5b1cd45c63d8e4c66",
       "max": 1.0,
       "min": 0.0,
       "orientation": "horizontal",
       "style": "IPY_MODEL_c1b925c8b41a459b96f79dea73d872df",
       "value": 1.0
      }
     },
     "ba4b18ba70bc4234b2be152392af8836": {
      "model_module": "@jupyter-widgets/controls",
      "model_module_version": "1.5.0",
      "model_name": "DescriptionStyleModel",
      "state": {
       "_model_module": "@jupyter-widgets/controls",
       "_model_module_version": "1.5.0",
       "_model_name": "DescriptionStyleModel",
       "_view_count": null,
       "_view_module": "@jupyter-widgets/base",
       "_view_module_version": "1.2.0",
       "_view_name": "StyleView",
       "description_width": ""
      }
     },
     "bfbfac2085ef4717a4e81d1f62b4e09e": {
      "model_module": "@jupyter-widgets/base",
      "model_module_version": "1.2.0",
      "model_name": "LayoutModel",
      "state": {
       "_model_module": "@jupyter-widgets/base",
       "_model_module_version": "1.2.0",
       "_model_name": "LayoutModel",
       "_view_count": null,
       "_view_module": "@jupyter-widgets/base",
       "_view_module_version": "1.2.0",
       "_view_name": "LayoutView",
       "align_content": null,
       "align_items": null,
       "align_self": null,
       "border": null,
       "bottom": null,
       "display": null,
       "flex": null,
       "flex_flow": null,
       "grid_area": null,
       "grid_auto_columns": null,
       "grid_auto_flow": null,
       "grid_auto_rows": null,
       "grid_column": null,
       "grid_gap": null,
       "grid_row": null,
       "grid_template_areas": null,
       "grid_template_columns": null,
       "grid_template_rows": null,
       "height": null,
       "justify_content": null,
       "justify_items": null,
       "left": null,
       "margin": null,
       "max_height": null,
       "max_width": null,
       "min_height": null,
       "min_width": null,
       "object_fit": null,
       "object_position": null,
       "order": null,
       "overflow": null,
       "overflow_x": null,
       "overflow_y": null,
       "padding": null,
       "right": null,
       "top": null,
       "visibility": null,
       "width": null
      }
     },
     "c1b925c8b41a459b96f79dea73d872df": {
      "model_module": "@jupyter-widgets/controls",
      "model_module_version": "1.5.0",
      "model_name": "ProgressStyleModel",
      "state": {
       "_model_module": "@jupyter-widgets/controls",
       "_model_module_version": "1.5.0",
       "_model_name": "ProgressStyleModel",
       "_view_count": null,
       "_view_module": "@jupyter-widgets/base",
       "_view_module_version": "1.2.0",
       "_view_name": "StyleView",
       "bar_color": null,
       "description_width": ""
      }
     },
     "c67043b8e4274c49b48014e02ce8e2af": {
      "model_module": "@jupyter-widgets/controls",
      "model_module_version": "1.5.0",
      "model_name": "HBoxModel",
      "state": {
       "_dom_classes": [],
       "_model_module": "@jupyter-widgets/controls",
       "_model_module_version": "1.5.0",
       "_model_name": "HBoxModel",
       "_view_count": null,
       "_view_module": "@jupyter-widgets/controls",
       "_view_module_version": "1.5.0",
       "_view_name": "HBoxView",
       "box_style": "",
       "children": [
        "IPY_MODEL_ee12c0f7f44c43e9b2aac25d383c4a28",
        "IPY_MODEL_cc7e9ae59cc54acdb93e9cb0222cde6e",
        "IPY_MODEL_d4dfc460339945edac42c312a10078f6"
       ],
       "layout": "IPY_MODEL_f48dd5b1f5d34b7784d85335909e96d9"
      }
     },
     "cc7e9ae59cc54acdb93e9cb0222cde6e": {
      "model_module": "@jupyter-widgets/controls",
      "model_module_version": "1.5.0",
      "model_name": "FloatProgressModel",
      "state": {
       "_dom_classes": [],
       "_model_module": "@jupyter-widgets/controls",
       "_model_module_version": "1.5.0",
       "_model_name": "FloatProgressModel",
       "_view_count": null,
       "_view_module": "@jupyter-widgets/controls",
       "_view_module_version": "1.5.0",
       "_view_name": "ProgressView",
       "bar_style": "success",
       "description": "",
       "description_tooltip": null,
       "layout": "IPY_MODEL_bfbfac2085ef4717a4e81d1f62b4e09e",
       "max": 37.0,
       "min": 0.0,
       "orientation": "horizontal",
       "style": "IPY_MODEL_2cd438bf99944f019064f4f962bbb84d",
       "value": 37.0
      }
     },
     "ce32e7a1cc274837a775848a8dd61c65": {
      "model_module": "@jupyter-widgets/controls",
      "model_module_version": "1.5.0",
      "model_name": "HTMLModel",
      "state": {
       "_dom_classes": [],
       "_model_module": "@jupyter-widgets/controls",
       "_model_module_version": "1.5.0",
       "_model_name": "HTMLModel",
       "_view_count": null,
       "_view_module": "@jupyter-widgets/controls",
       "_view_module_version": "1.5.0",
       "_view_name": "HTMLView",
       "description": "",
       "description_tooltip": null,
       "layout": "IPY_MODEL_e59219d80caa4e598140111d102f3e7d",
       "placeholder": "​",
       "style": "IPY_MODEL_16f911a1bda04645851548c0de26c140",
       "value": " 1/1 [00:00&lt;00:00, 34.78ba/s]"
      }
     },
     "d4dfc460339945edac42c312a10078f6": {
      "model_module": "@jupyter-widgets/controls",
      "model_module_version": "1.5.0",
      "model_name": "HTMLModel",
      "state": {
       "_dom_classes": [],
       "_model_module": "@jupyter-widgets/controls",
       "_model_module_version": "1.5.0",
       "_model_name": "HTMLModel",
       "_view_count": null,
       "_view_module": "@jupyter-widgets/controls",
       "_view_module_version": "1.5.0",
       "_view_name": "HTMLView",
       "description": "",
       "description_tooltip": null,
       "layout": "IPY_MODEL_da275a91319c499ba9373d905cda9038",
       "placeholder": "​",
       "style": "IPY_MODEL_2d68a04675004714ade54d005bd78688",
       "value": " 37/37 [00:07&lt;00:00,  6.42ba/s]"
      }
     },
     "da275a91319c499ba9373d905cda9038": {
      "model_module": "@jupyter-widgets/base",
      "model_module_version": "1.2.0",
      "model_name": "LayoutModel",
      "state": {
       "_model_module": "@jupyter-widgets/base",
       "_model_module_version": "1.2.0",
       "_model_name": "LayoutModel",
       "_view_count": null,
       "_view_module": "@jupyter-widgets/base",
       "_view_module_version": "1.2.0",
       "_view_name": "LayoutView",
       "align_content": null,
       "align_items": null,
       "align_self": null,
       "border": null,
       "bottom": null,
       "display": null,
       "flex": null,
       "flex_flow": null,
       "grid_area": null,
       "grid_auto_columns": null,
       "grid_auto_flow": null,
       "grid_auto_rows": null,
       "grid_column": null,
       "grid_gap": null,
       "grid_row": null,
       "grid_template_areas": null,
       "grid_template_columns": null,
       "grid_template_rows": null,
       "height": null,
       "justify_content": null,
       "justify_items": null,
       "left": null,
       "margin": null,
       "max_height": null,
       "max_width": null,
       "min_height": null,
       "min_width": null,
       "object_fit": null,
       "object_position": null,
       "order": null,
       "overflow": null,
       "overflow_x": null,
       "overflow_y": null,
       "padding": null,
       "right": null,
       "top": null,
       "visibility": null,
       "width": null
      }
     },
     "dd70d43471ca413d92dbc866edc7d8d6": {
      "model_module": "@jupyter-widgets/controls",
      "model_module_version": "1.5.0",
      "model_name": "HTMLModel",
      "state": {
       "_dom_classes": [],
       "_model_module": "@jupyter-widgets/controls",
       "_model_module_version": "1.5.0",
       "_model_name": "HTMLModel",
       "_view_count": null,
       "_view_module": "@jupyter-widgets/controls",
       "_view_module_version": "1.5.0",
       "_view_name": "HTMLView",
       "description": "",
       "description_tooltip": null,
       "layout": "IPY_MODEL_53e07dd75a7b4a989dd2e9e1cafdd2ec",
       "placeholder": "​",
       "style": "IPY_MODEL_42428505a21247e190e0079411a39ee1",
       "value": "100%"
      }
     },
     "de0a5c713a2845d2b2fcb8beaf612a95": {
      "model_module": "@jupyter-widgets/controls",
      "model_module_version": "1.5.0",
      "model_name": "FloatProgressModel",
      "state": {
       "_dom_classes": [],
       "_model_module": "@jupyter-widgets/controls",
       "_model_module_version": "1.5.0",
       "_model_name": "FloatProgressModel",
       "_view_count": null,
       "_view_module": "@jupyter-widgets/controls",
       "_view_module_version": "1.5.0",
       "_view_name": "ProgressView",
       "bar_style": "success",
       "description": "",
       "description_tooltip": null,
       "layout": "IPY_MODEL_4b2aa669ee134db4ab915a3bd2ad5709",
       "max": 37.0,
       "min": 0.0,
       "orientation": "horizontal",
       "style": "IPY_MODEL_67dcd3010fff44c48d26b91bbf3891ed",
       "value": 37.0
      }
     },
     "e59219d80caa4e598140111d102f3e7d": {
      "model_module": "@jupyter-widgets/base",
      "model_module_version": "1.2.0",
      "model_name": "LayoutModel",
      "state": {
       "_model_module": "@jupyter-widgets/base",
       "_model_module_version": "1.2.0",
       "_model_name": "LayoutModel",
       "_view_count": null,
       "_view_module": "@jupyter-widgets/base",
       "_view_module_version": "1.2.0",
       "_view_name": "LayoutView",
       "align_content": null,
       "align_items": null,
       "align_self": null,
       "border": null,
       "bottom": null,
       "display": null,
       "flex": null,
       "flex_flow": null,
       "grid_area": null,
       "grid_auto_columns": null,
       "grid_auto_flow": null,
       "grid_auto_rows": null,
       "grid_column": null,
       "grid_gap": null,
       "grid_row": null,
       "grid_template_areas": null,
       "grid_template_columns": null,
       "grid_template_rows": null,
       "height": null,
       "justify_content": null,
       "justify_items": null,
       "left": null,
       "margin": null,
       "max_height": null,
       "max_width": null,
       "min_height": null,
       "min_width": null,
       "object_fit": null,
       "object_position": null,
       "order": null,
       "overflow": null,
       "overflow_x": null,
       "overflow_y": null,
       "padding": null,
       "right": null,
       "top": null,
       "visibility": null,
       "width": null
      }
     },
     "ee12c0f7f44c43e9b2aac25d383c4a28": {
      "model_module": "@jupyter-widgets/controls",
      "model_module_version": "1.5.0",
      "model_name": "HTMLModel",
      "state": {
       "_dom_classes": [],
       "_model_module": "@jupyter-widgets/controls",
       "_model_module_version": "1.5.0",
       "_model_name": "HTMLModel",
       "_view_count": null,
       "_view_module": "@jupyter-widgets/controls",
       "_view_module_version": "1.5.0",
       "_view_name": "HTMLView",
       "description": "",
       "description_tooltip": null,
       "layout": "IPY_MODEL_15cf5b08bae84d05a0148bcae4d97ccf",
       "placeholder": "​",
       "style": "IPY_MODEL_8ad8068a03084ac58bea9a3dfc92da7b",
       "value": "100%"
      }
     },
     "f48dd5b1f5d34b7784d85335909e96d9": {
      "model_module": "@jupyter-widgets/base",
      "model_module_version": "1.2.0",
      "model_name": "LayoutModel",
      "state": {
       "_model_module": "@jupyter-widgets/base",
       "_model_module_version": "1.2.0",
       "_model_name": "LayoutModel",
       "_view_count": null,
       "_view_module": "@jupyter-widgets/base",
       "_view_module_version": "1.2.0",
       "_view_name": "LayoutView",
       "align_content": null,
       "align_items": null,
       "align_self": null,
       "border": null,
       "bottom": null,
       "display": null,
       "flex": null,
       "flex_flow": null,
       "grid_area": null,
       "grid_auto_columns": null,
       "grid_auto_flow": null,
       "grid_auto_rows": null,
       "grid_column": null,
       "grid_gap": null,
       "grid_row": null,
       "grid_template_areas": null,
       "grid_template_columns": null,
       "grid_template_rows": null,
       "height": null,
       "justify_content": null,
       "justify_items": null,
       "left": null,
       "margin": null,
       "max_height": null,
       "max_width": null,
       "min_height": null,
       "min_width": null,
       "object_fit": null,
       "object_position": null,
       "order": null,
       "overflow": null,
       "overflow_x": null,
       "overflow_y": null,
       "padding": null,
       "right": null,
       "top": null,
       "visibility": null,
       "width": null
      }
     },
     "f94d455246fa4e7894eaa61826d1df43": {
      "model_module": "@jupyter-widgets/controls",
      "model_module_version": "1.5.0",
      "model_name": "ProgressStyleModel",
      "state": {
       "_model_module": "@jupyter-widgets/controls",
       "_model_module_version": "1.5.0",
       "_model_name": "ProgressStyleModel",
       "_view_count": null,
       "_view_module": "@jupyter-widgets/base",
       "_view_module_version": "1.2.0",
       "_view_name": "StyleView",
       "bar_color": null,
       "description_width": ""
      }
     }
    },
    "version_major": 2,
    "version_minor": 0
   }
  }
 },
 "nbformat": 4,
 "nbformat_minor": 5
}
