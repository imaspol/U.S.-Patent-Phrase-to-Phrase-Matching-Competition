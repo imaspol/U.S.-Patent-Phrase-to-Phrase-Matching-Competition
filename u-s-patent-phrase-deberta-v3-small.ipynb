{
 "cells": [
  {
   "cell_type": "code",
   "execution_count": 1,
   "id": "fcfebfc3",
   "metadata": {
    "_cell_guid": "b1076dfc-b9ad-4769-8c92-a6c4dae69d19",
    "_uuid": "8f2839f25d086af736a60e9eeb907d3b93b6e0e5",
    "execution": {
     "iopub.execute_input": "2022-06-10T23:30:46.269668Z",
     "iopub.status.busy": "2022-06-10T23:30:46.268982Z",
     "iopub.status.idle": "2022-06-10T23:30:46.290528Z",
     "shell.execute_reply": "2022-06-10T23:30:46.289801Z"
    },
    "papermill": {
     "duration": 0.079579,
     "end_time": "2022-06-10T23:30:46.293285",
     "exception": false,
     "start_time": "2022-06-10T23:30:46.213706",
     "status": "completed"
    },
    "tags": []
   },
   "outputs": [
    {
     "name": "stdout",
     "output_type": "stream",
     "text": [
      "/kaggle/input/debertav3small/spm.model\n",
      "/kaggle/input/debertav3small/config.json\n",
      "/kaggle/input/debertav3small/README.md\n",
      "/kaggle/input/debertav3small/tf_model.h5\n",
      "/kaggle/input/debertav3small/tokenizer_config.json\n",
      "/kaggle/input/debertav3small/pytorch_model.bin\n",
      "/kaggle/input/cpc-codes/titles.csv\n",
      "/kaggle/input/us-patent-phrase-to-phrase-matching/sample_submission.csv\n",
      "/kaggle/input/us-patent-phrase-to-phrase-matching/train.csv\n",
      "/kaggle/input/us-patent-phrase-to-phrase-matching/test.csv\n"
     ]
    }
   ],
   "source": [
    "# This Python 3 environment comes with many helpful analytics libraries installed\n",
    "# It is defined by the kaggle/python Docker image: https://github.com/kaggle/docker-python\n",
    "# For example, here's several helpful packages to load\n",
    "\n",
    "import numpy as np # linear algebra\n",
    "import pandas as pd # data processing, CSV file I/O (e.g. pd.read_csv)\n",
    "\n",
    "# Input data files are available in the read-only \"../input/\" directory\n",
    "# For example, running this (by clicking run or pressing Shift+Enter) will list all files under the input directory\n",
    "\n",
    "import os\n",
    "for dirname, _, filenames in os.walk('/kaggle/input'):\n",
    "    for filename in filenames:\n",
    "        print(os.path.join(dirname, filename))\n",
    "\n",
    "# You can write up to 20GB to the current directory (/kaggle/working/) that gets preserved as output when you create a version using \"Save & Run All\" \n",
    "# You can also write temporary files to /kaggle/temp/, but they won't be saved outside of the current session"
   ]
  },
  {
   "cell_type": "markdown",
   "id": "21c7410d",
   "metadata": {
    "papermill": {
     "duration": 0.049542,
     "end_time": "2022-06-10T23:30:46.394557",
     "exception": false,
     "start_time": "2022-06-10T23:30:46.345015",
     "status": "completed"
    },
    "tags": []
   },
   "source": [
    "# Credits:\n",
    "this notebook is based on the notbook [\"Getting started with NLP for absolute beginners\"](https://www.kaggle.com/code/jhoward/getting-started-with-nlp-for-absolute-beginners) by @Jeremy Howard"
   ]
  },
  {
   "cell_type": "markdown",
   "id": "7ce13cc5",
   "metadata": {
    "papermill": {
     "duration": 0.061929,
     "end_time": "2022-06-10T23:30:46.507410",
     "exception": false,
     "start_time": "2022-06-10T23:30:46.445481",
     "status": "completed"
    },
    "tags": []
   },
   "source": [
    "## Imports"
   ]
  },
  {
   "cell_type": "code",
   "execution_count": 2,
   "id": "e2139978",
   "metadata": {
    "execution": {
     "iopub.execute_input": "2022-06-10T23:30:46.684772Z",
     "iopub.status.busy": "2022-06-10T23:30:46.684359Z",
     "iopub.status.idle": "2022-06-10T23:30:53.057203Z",
     "shell.execute_reply": "2022-06-10T23:30:53.056330Z"
    },
    "papermill": {
     "duration": 6.463616,
     "end_time": "2022-06-10T23:30:53.060213",
     "exception": false,
     "start_time": "2022-06-10T23:30:46.596597",
     "status": "completed"
    },
    "tags": []
   },
   "outputs": [],
   "source": [
    "import tensorflow as tf\n",
    "import tensorflow_hub as hub\n",
    "import seaborn as sns\n",
    "import matplotlib.pyplot as plt"
   ]
  },
  {
   "cell_type": "markdown",
   "id": "e99e6bba",
   "metadata": {
    "papermill": {
     "duration": 0.07883,
     "end_time": "2022-06-10T23:30:53.213548",
     "exception": false,
     "start_time": "2022-06-10T23:30:53.134718",
     "status": "completed"
    },
    "tags": []
   },
   "source": [
    "# EDA"
   ]
  },
  {
   "cell_type": "code",
   "execution_count": 3,
   "id": "9ddf9bba",
   "metadata": {
    "execution": {
     "iopub.execute_input": "2022-06-10T23:30:53.374459Z",
     "iopub.status.busy": "2022-06-10T23:30:53.374062Z",
     "iopub.status.idle": "2022-06-10T23:30:53.492796Z",
     "shell.execute_reply": "2022-06-10T23:30:53.491766Z"
    },
    "papermill": {
     "duration": 0.20232,
     "end_time": "2022-06-10T23:30:53.495620",
     "exception": false,
     "start_time": "2022-06-10T23:30:53.293300",
     "status": "completed"
    },
    "tags": []
   },
   "outputs": [
    {
     "name": "stdout",
     "output_type": "stream",
     "text": [
      "(36473, 5)\n"
     ]
    },
    {
     "data": {
      "text/html": [
       "<div>\n",
       "<style scoped>\n",
       "    .dataframe tbody tr th:only-of-type {\n",
       "        vertical-align: middle;\n",
       "    }\n",
       "\n",
       "    .dataframe tbody tr th {\n",
       "        vertical-align: top;\n",
       "    }\n",
       "\n",
       "    .dataframe thead th {\n",
       "        text-align: right;\n",
       "    }\n",
       "</style>\n",
       "<table border=\"1\" class=\"dataframe\">\n",
       "  <thead>\n",
       "    <tr style=\"text-align: right;\">\n",
       "      <th></th>\n",
       "      <th>id</th>\n",
       "      <th>anchor</th>\n",
       "      <th>target</th>\n",
       "      <th>context</th>\n",
       "      <th>score</th>\n",
       "    </tr>\n",
       "  </thead>\n",
       "  <tbody>\n",
       "    <tr>\n",
       "      <th>0</th>\n",
       "      <td>37d61fd2272659b1</td>\n",
       "      <td>abatement</td>\n",
       "      <td>abatement of pollution</td>\n",
       "      <td>A47</td>\n",
       "      <td>0.50</td>\n",
       "    </tr>\n",
       "    <tr>\n",
       "      <th>1</th>\n",
       "      <td>7b9652b17b68b7a4</td>\n",
       "      <td>abatement</td>\n",
       "      <td>act of abating</td>\n",
       "      <td>A47</td>\n",
       "      <td>0.75</td>\n",
       "    </tr>\n",
       "    <tr>\n",
       "      <th>2</th>\n",
       "      <td>36d72442aefd8232</td>\n",
       "      <td>abatement</td>\n",
       "      <td>active catalyst</td>\n",
       "      <td>A47</td>\n",
       "      <td>0.25</td>\n",
       "    </tr>\n",
       "    <tr>\n",
       "      <th>3</th>\n",
       "      <td>5296b0c19e1ce60e</td>\n",
       "      <td>abatement</td>\n",
       "      <td>eliminating process</td>\n",
       "      <td>A47</td>\n",
       "      <td>0.50</td>\n",
       "    </tr>\n",
       "    <tr>\n",
       "      <th>4</th>\n",
       "      <td>54c1e3b9184cb5b6</td>\n",
       "      <td>abatement</td>\n",
       "      <td>forest region</td>\n",
       "      <td>A47</td>\n",
       "      <td>0.00</td>\n",
       "    </tr>\n",
       "  </tbody>\n",
       "</table>\n",
       "</div>"
      ],
      "text/plain": [
       "                 id     anchor                  target context  score\n",
       "0  37d61fd2272659b1  abatement  abatement of pollution     A47   0.50\n",
       "1  7b9652b17b68b7a4  abatement          act of abating     A47   0.75\n",
       "2  36d72442aefd8232  abatement         active catalyst     A47   0.25\n",
       "3  5296b0c19e1ce60e  abatement     eliminating process     A47   0.50\n",
       "4  54c1e3b9184cb5b6  abatement           forest region     A47   0.00"
      ]
     },
     "execution_count": 3,
     "metadata": {},
     "output_type": "execute_result"
    }
   ],
   "source": [
    "train = pd.read_csv(\"/kaggle/input/us-patent-phrase-to-phrase-matching/train.csv\")\n",
    "print(train.shape)\n",
    "train.head()"
   ]
  },
  {
   "cell_type": "code",
   "execution_count": 4,
   "id": "13ee6ce7",
   "metadata": {
    "execution": {
     "iopub.execute_input": "2022-06-10T23:30:53.669296Z",
     "iopub.status.busy": "2022-06-10T23:30:53.668898Z",
     "iopub.status.idle": "2022-06-10T23:30:53.780577Z",
     "shell.execute_reply": "2022-06-10T23:30:53.779949Z"
    },
    "papermill": {
     "duration": 0.200224,
     "end_time": "2022-06-10T23:30:53.782925",
     "exception": false,
     "start_time": "2022-06-10T23:30:53.582701",
     "status": "completed"
    },
    "tags": []
   },
   "outputs": [
    {
     "data": {
      "text/html": [
       "<div>\n",
       "<style scoped>\n",
       "    .dataframe tbody tr th:only-of-type {\n",
       "        vertical-align: middle;\n",
       "    }\n",
       "\n",
       "    .dataframe tbody tr th {\n",
       "        vertical-align: top;\n",
       "    }\n",
       "\n",
       "    .dataframe thead th {\n",
       "        text-align: right;\n",
       "    }\n",
       "</style>\n",
       "<table border=\"1\" class=\"dataframe\">\n",
       "  <thead>\n",
       "    <tr style=\"text-align: right;\">\n",
       "      <th></th>\n",
       "      <th>id</th>\n",
       "      <th>anchor</th>\n",
       "      <th>target</th>\n",
       "      <th>context</th>\n",
       "    </tr>\n",
       "  </thead>\n",
       "  <tbody>\n",
       "    <tr>\n",
       "      <th>count</th>\n",
       "      <td>36473</td>\n",
       "      <td>36473</td>\n",
       "      <td>36473</td>\n",
       "      <td>36473</td>\n",
       "    </tr>\n",
       "    <tr>\n",
       "      <th>unique</th>\n",
       "      <td>36473</td>\n",
       "      <td>733</td>\n",
       "      <td>29340</td>\n",
       "      <td>106</td>\n",
       "    </tr>\n",
       "    <tr>\n",
       "      <th>top</th>\n",
       "      <td>37d61fd2272659b1</td>\n",
       "      <td>component composite coating</td>\n",
       "      <td>composition</td>\n",
       "      <td>H01</td>\n",
       "    </tr>\n",
       "    <tr>\n",
       "      <th>freq</th>\n",
       "      <td>1</td>\n",
       "      <td>152</td>\n",
       "      <td>24</td>\n",
       "      <td>2186</td>\n",
       "    </tr>\n",
       "  </tbody>\n",
       "</table>\n",
       "</div>"
      ],
      "text/plain": [
       "                      id                       anchor       target context\n",
       "count              36473                        36473        36473   36473\n",
       "unique             36473                          733        29340     106\n",
       "top     37d61fd2272659b1  component composite coating  composition     H01\n",
       "freq                   1                          152           24    2186"
      ]
     },
     "execution_count": 4,
     "metadata": {},
     "output_type": "execute_result"
    }
   ],
   "source": [
    "train.describe(include='object')"
   ]
  },
  {
   "cell_type": "code",
   "execution_count": 5,
   "id": "fd79d7cb",
   "metadata": {
    "execution": {
     "iopub.execute_input": "2022-06-10T23:30:53.908871Z",
     "iopub.status.busy": "2022-06-10T23:30:53.908667Z",
     "iopub.status.idle": "2022-06-10T23:30:53.935746Z",
     "shell.execute_reply": "2022-06-10T23:30:53.935097Z"
    },
    "papermill": {
     "duration": 0.080385,
     "end_time": "2022-06-10T23:30:53.937437",
     "exception": false,
     "start_time": "2022-06-10T23:30:53.857052",
     "status": "completed"
    },
    "tags": []
   },
   "outputs": [
    {
     "data": {
      "text/html": [
       "<div>\n",
       "<style scoped>\n",
       "    .dataframe tbody tr th:only-of-type {\n",
       "        vertical-align: middle;\n",
       "    }\n",
       "\n",
       "    .dataframe tbody tr th {\n",
       "        vertical-align: top;\n",
       "    }\n",
       "\n",
       "    .dataframe thead th {\n",
       "        text-align: right;\n",
       "    }\n",
       "</style>\n",
       "<table border=\"1\" class=\"dataframe\">\n",
       "  <thead>\n",
       "    <tr style=\"text-align: right;\">\n",
       "      <th></th>\n",
       "      <th>id</th>\n",
       "      <th>anchor</th>\n",
       "      <th>target</th>\n",
       "      <th>context</th>\n",
       "    </tr>\n",
       "    <tr>\n",
       "      <th>score</th>\n",
       "      <th></th>\n",
       "      <th></th>\n",
       "      <th></th>\n",
       "      <th></th>\n",
       "    </tr>\n",
       "  </thead>\n",
       "  <tbody>\n",
       "    <tr>\n",
       "      <th>0.00</th>\n",
       "      <td>7471</td>\n",
       "      <td>7471</td>\n",
       "      <td>7471</td>\n",
       "      <td>7471</td>\n",
       "    </tr>\n",
       "    <tr>\n",
       "      <th>0.25</th>\n",
       "      <td>11519</td>\n",
       "      <td>11519</td>\n",
       "      <td>11519</td>\n",
       "      <td>11519</td>\n",
       "    </tr>\n",
       "    <tr>\n",
       "      <th>0.50</th>\n",
       "      <td>12300</td>\n",
       "      <td>12300</td>\n",
       "      <td>12300</td>\n",
       "      <td>12300</td>\n",
       "    </tr>\n",
       "    <tr>\n",
       "      <th>0.75</th>\n",
       "      <td>4029</td>\n",
       "      <td>4029</td>\n",
       "      <td>4029</td>\n",
       "      <td>4029</td>\n",
       "    </tr>\n",
       "    <tr>\n",
       "      <th>1.00</th>\n",
       "      <td>1154</td>\n",
       "      <td>1154</td>\n",
       "      <td>1154</td>\n",
       "      <td>1154</td>\n",
       "    </tr>\n",
       "  </tbody>\n",
       "</table>\n",
       "</div>"
      ],
      "text/plain": [
       "          id  anchor  target  context\n",
       "score                                \n",
       "0.00    7471    7471    7471     7471\n",
       "0.25   11519   11519   11519    11519\n",
       "0.50   12300   12300   12300    12300\n",
       "0.75    4029    4029    4029     4029\n",
       "1.00    1154    1154    1154     1154"
      ]
     },
     "execution_count": 5,
     "metadata": {},
     "output_type": "execute_result"
    }
   ],
   "source": [
    "train.groupby('score').count()"
   ]
  },
  {
   "cell_type": "markdown",
   "id": "cdbabb00",
   "metadata": {
    "papermill": {
     "duration": 0.051584,
     "end_time": "2022-06-10T23:30:54.041710",
     "exception": false,
     "start_time": "2022-06-10T23:30:53.990126",
     "status": "completed"
    },
    "tags": []
   },
   "source": [
    "## Score meanings according to [Data Description](https://www.kaggle.com/competitions/us-patent-phrase-to-phrase-matching/data?select=train.csv)\n",
    "\n",
    "The scores are in the 0-1 range with increments of 0.25 with the following meanings:\n",
    "\n",
    "    1.0 - Very close match. This is typically an exact match except possibly for differences in conjugation, quantity (e.g. singular vs. plural), and addition or removal of stopwords (e.g. “the”, “and”, “or”).\n",
    "    0.75 - Close synonym, e.g. “mobile phone” vs. “cellphone”. This also includes abbreviations, e.g. \"TCP\" -> \"transmission control protocol\".\n",
    "    0.5 - Synonyms which don’t have the same meaning (same function, same properties). This includes broad-narrow (hyponym) and narrow-broad (hypernym) matches.\n",
    "    0.25 - Somewhat related, e.g. the two phrases are in the same high level domain but are not synonyms. This also includes antonyms.\n",
    "    0.0 - Unrelated.\n"
   ]
  },
  {
   "cell_type": "markdown",
   "id": "d3f9954e",
   "metadata": {
    "papermill": {
     "duration": 0.050278,
     "end_time": "2022-06-10T23:30:54.142785",
     "exception": false,
     "start_time": "2022-06-10T23:30:54.092507",
     "status": "completed"
    },
    "tags": []
   },
   "source": [
    "# Test Corpus"
   ]
  },
  {
   "cell_type": "code",
   "execution_count": 6,
   "id": "011991e0",
   "metadata": {
    "execution": {
     "iopub.execute_input": "2022-06-10T23:30:54.244442Z",
     "iopub.status.busy": "2022-06-10T23:30:54.244217Z",
     "iopub.status.idle": "2022-06-10T23:30:54.252129Z",
     "shell.execute_reply": "2022-06-10T23:30:54.251534Z"
    },
    "papermill": {
     "duration": 0.061149,
     "end_time": "2022-06-10T23:30:54.253941",
     "exception": false,
     "start_time": "2022-06-10T23:30:54.192792",
     "status": "completed"
    },
    "tags": []
   },
   "outputs": [],
   "source": [
    "test = pd.read_csv(\"/kaggle/input/us-patent-phrase-to-phrase-matching/test.csv\")"
   ]
  },
  {
   "cell_type": "code",
   "execution_count": 7,
   "id": "44186880",
   "metadata": {
    "execution": {
     "iopub.execute_input": "2022-06-10T23:30:54.357098Z",
     "iopub.status.busy": "2022-06-10T23:30:54.356893Z",
     "iopub.status.idle": "2022-06-10T23:30:54.361352Z",
     "shell.execute_reply": "2022-06-10T23:30:54.360723Z"
    },
    "papermill": {
     "duration": 0.057665,
     "end_time": "2022-06-10T23:30:54.363164",
     "exception": false,
     "start_time": "2022-06-10T23:30:54.305499",
     "status": "completed"
    },
    "tags": []
   },
   "outputs": [
    {
     "data": {
      "text/plain": [
       "(36, 4)"
      ]
     },
     "execution_count": 7,
     "metadata": {},
     "output_type": "execute_result"
    }
   ],
   "source": [
    "test.shape"
   ]
  },
  {
   "cell_type": "code",
   "execution_count": 8,
   "id": "44afdb1b",
   "metadata": {
    "execution": {
     "iopub.execute_input": "2022-06-10T23:30:54.466666Z",
     "iopub.status.busy": "2022-06-10T23:30:54.466475Z",
     "iopub.status.idle": "2022-06-10T23:30:54.470731Z",
     "shell.execute_reply": "2022-06-10T23:30:54.470092Z"
    },
    "papermill": {
     "duration": 0.05735,
     "end_time": "2022-06-10T23:30:54.472272",
     "exception": false,
     "start_time": "2022-06-10T23:30:54.414922",
     "status": "completed"
    },
    "tags": []
   },
   "outputs": [],
   "source": [
    "def cosine(u, v):\n",
    "    \"\"\"\n",
    "    cosine similarity definition\n",
    "    \"\"\"\n",
    "    return np.dot(u, v) / (np.linalg.norm(u) * np.linalg.norm(v))"
   ]
  },
  {
   "cell_type": "markdown",
   "id": "42c98e9d",
   "metadata": {
    "papermill": {
     "duration": 0.050889,
     "end_time": "2022-06-10T23:30:54.584722",
     "exception": false,
     "start_time": "2022-06-10T23:30:54.533833",
     "status": "completed"
    },
    "tags": []
   },
   "source": [
    "# External Context"
   ]
  },
  {
   "cell_type": "code",
   "execution_count": 9,
   "id": "bc5bc343",
   "metadata": {
    "execution": {
     "iopub.execute_input": "2022-06-10T23:30:54.687675Z",
     "iopub.status.busy": "2022-06-10T23:30:54.687455Z",
     "iopub.status.idle": "2022-06-10T23:30:54.690812Z",
     "shell.execute_reply": "2022-06-10T23:30:54.689868Z"
    },
    "papermill": {
     "duration": 0.058173,
     "end_time": "2022-06-10T23:30:54.693114",
     "exception": false,
     "start_time": "2022-06-10T23:30:54.634941",
     "status": "completed"
    },
    "tags": []
   },
   "outputs": [],
   "source": [
    "# ajouter le contexte https://www.cooperativepatentclassification.org/Archive\n",
    "# extraire le contexte du fichier xml"
   ]
  },
  {
   "cell_type": "code",
   "execution_count": 10,
   "id": "95117302",
   "metadata": {
    "execution": {
     "iopub.execute_input": "2022-06-10T23:30:54.795188Z",
     "iopub.status.busy": "2022-06-10T23:30:54.795004Z",
     "iopub.status.idle": "2022-06-10T23:30:55.467158Z",
     "shell.execute_reply": "2022-06-10T23:30:55.466278Z"
    },
    "papermill": {
     "duration": 0.725235,
     "end_time": "2022-06-10T23:30:55.469257",
     "exception": false,
     "start_time": "2022-06-10T23:30:54.744022",
     "status": "completed"
    },
    "tags": []
   },
   "outputs": [
    {
     "name": "stdout",
     "output_type": "stream",
     "text": [
      "(260476, 7)\n"
     ]
    },
    {
     "data": {
      "text/html": [
       "<div>\n",
       "<style scoped>\n",
       "    .dataframe tbody tr th:only-of-type {\n",
       "        vertical-align: middle;\n",
       "    }\n",
       "\n",
       "    .dataframe tbody tr th {\n",
       "        vertical-align: top;\n",
       "    }\n",
       "\n",
       "    .dataframe thead th {\n",
       "        text-align: right;\n",
       "    }\n",
       "</style>\n",
       "<table border=\"1\" class=\"dataframe\">\n",
       "  <thead>\n",
       "    <tr style=\"text-align: right;\">\n",
       "      <th></th>\n",
       "      <th>code</th>\n",
       "      <th>title</th>\n",
       "      <th>section</th>\n",
       "      <th>class</th>\n",
       "      <th>subclass</th>\n",
       "      <th>group</th>\n",
       "      <th>main_group</th>\n",
       "    </tr>\n",
       "  </thead>\n",
       "  <tbody>\n",
       "    <tr>\n",
       "      <th>0</th>\n",
       "      <td>A</td>\n",
       "      <td>HUMAN NECESSITIES</td>\n",
       "      <td>A</td>\n",
       "      <td>NaN</td>\n",
       "      <td>NaN</td>\n",
       "      <td>NaN</td>\n",
       "      <td>NaN</td>\n",
       "    </tr>\n",
       "    <tr>\n",
       "      <th>1</th>\n",
       "      <td>A01</td>\n",
       "      <td>AGRICULTURE; FORESTRY; ANIMAL HUSBANDRY; HUNTI...</td>\n",
       "      <td>A</td>\n",
       "      <td>1.0</td>\n",
       "      <td>NaN</td>\n",
       "      <td>NaN</td>\n",
       "      <td>NaN</td>\n",
       "    </tr>\n",
       "    <tr>\n",
       "      <th>2</th>\n",
       "      <td>A01B</td>\n",
       "      <td>SOIL WORKING IN AGRICULTURE OR FORESTRY; PARTS...</td>\n",
       "      <td>A</td>\n",
       "      <td>1.0</td>\n",
       "      <td>B</td>\n",
       "      <td>NaN</td>\n",
       "      <td>NaN</td>\n",
       "    </tr>\n",
       "    <tr>\n",
       "      <th>3</th>\n",
       "      <td>A01B1/00</td>\n",
       "      <td>Hand tools (edge trimmers for lawns A01G3/06  ...</td>\n",
       "      <td>A</td>\n",
       "      <td>1.0</td>\n",
       "      <td>B</td>\n",
       "      <td>1.0</td>\n",
       "      <td>0.0</td>\n",
       "    </tr>\n",
       "    <tr>\n",
       "      <th>4</th>\n",
       "      <td>A01B1/02</td>\n",
       "      <td>Spades; Shovels {(hand-operated dredgers E02F3...</td>\n",
       "      <td>A</td>\n",
       "      <td>1.0</td>\n",
       "      <td>B</td>\n",
       "      <td>1.0</td>\n",
       "      <td>2.0</td>\n",
       "    </tr>\n",
       "  </tbody>\n",
       "</table>\n",
       "</div>"
      ],
      "text/plain": [
       "       code                                              title section  class  \\\n",
       "0         A                                  HUMAN NECESSITIES       A    NaN   \n",
       "1       A01  AGRICULTURE; FORESTRY; ANIMAL HUSBANDRY; HUNTI...       A    1.0   \n",
       "2      A01B  SOIL WORKING IN AGRICULTURE OR FORESTRY; PARTS...       A    1.0   \n",
       "3  A01B1/00  Hand tools (edge trimmers for lawns A01G3/06  ...       A    1.0   \n",
       "4  A01B1/02  Spades; Shovels {(hand-operated dredgers E02F3...       A    1.0   \n",
       "\n",
       "  subclass  group  main_group  \n",
       "0      NaN    NaN         NaN  \n",
       "1      NaN    NaN         NaN  \n",
       "2        B    NaN         NaN  \n",
       "3        B    1.0         0.0  \n",
       "4        B    1.0         2.0  "
      ]
     },
     "execution_count": 10,
     "metadata": {},
     "output_type": "execute_result"
    }
   ],
   "source": [
    "titles = pd.read_csv(\"../input/cpc-codes/titles.csv\")\n",
    "print(titles.shape)\n",
    "titles.head()"
   ]
  },
  {
   "cell_type": "markdown",
   "id": "b4b1fbbd",
   "metadata": {
    "papermill": {
     "duration": 0.051712,
     "end_time": "2022-06-10T23:30:55.574925",
     "exception": false,
     "start_time": "2022-06-10T23:30:55.523213",
     "status": "completed"
    },
    "tags": []
   },
   "source": [
    "# HuggingFace AutoModelForSequenceClassification"
   ]
  },
  {
   "cell_type": "code",
   "execution_count": 11,
   "id": "d89a1660",
   "metadata": {
    "execution": {
     "iopub.execute_input": "2022-06-10T23:30:55.679285Z",
     "iopub.status.busy": "2022-06-10T23:30:55.679058Z",
     "iopub.status.idle": "2022-06-10T23:30:55.838397Z",
     "shell.execute_reply": "2022-06-10T23:30:55.837695Z"
    },
    "papermill": {
     "duration": 0.213698,
     "end_time": "2022-06-10T23:30:55.840363",
     "exception": false,
     "start_time": "2022-06-10T23:30:55.626665",
     "status": "completed"
    },
    "tags": []
   },
   "outputs": [],
   "source": [
    "import numpy as np # linear algebra\n",
    "import pandas as pd # data processing, CSV file I/O (e.g. pd.read_csv)\n",
    "import os\n",
    "from scipy.stats import pearsonr\n",
    "from scipy.stats import spearmanr # pour trouver les correspondances entre les résultats sur des échelles variées\n",
    "from sklearn.model_selection import StratifiedGroupKFold"
   ]
  },
  {
   "cell_type": "code",
   "execution_count": 12,
   "id": "ba8cef45",
   "metadata": {
    "execution": {
     "iopub.execute_input": "2022-06-10T23:30:55.943998Z",
     "iopub.status.busy": "2022-06-10T23:30:55.943801Z",
     "iopub.status.idle": "2022-06-10T23:30:58.701380Z",
     "shell.execute_reply": "2022-06-10T23:30:58.700562Z"
    },
    "papermill": {
     "duration": 2.811555,
     "end_time": "2022-06-10T23:30:58.703547",
     "exception": false,
     "start_time": "2022-06-10T23:30:55.891992",
     "status": "completed"
    },
    "tags": []
   },
   "outputs": [],
   "source": [
    "import transformers\n",
    "from transformers import TrainingArguments,Trainer\n",
    "from transformers import AutoModelForSequenceClassification,AutoTokenizer\n",
    "\n",
    "import torch\n",
    "import datasets\n",
    "from datasets import load_dataset, Dataset, DatasetDict"
   ]
  },
  {
   "cell_type": "code",
   "execution_count": 13,
   "id": "94c2fb33",
   "metadata": {
    "execution": {
     "iopub.execute_input": "2022-06-10T23:30:58.816117Z",
     "iopub.status.busy": "2022-06-10T23:30:58.815364Z",
     "iopub.status.idle": "2022-06-10T23:30:58.819398Z",
     "shell.execute_reply": "2022-06-10T23:30:58.818658Z"
    },
    "papermill": {
     "duration": 0.061111,
     "end_time": "2022-06-10T23:30:58.821155",
     "exception": false,
     "start_time": "2022-06-10T23:30:58.760044",
     "status": "completed"
    },
    "tags": []
   },
   "outputs": [],
   "source": [
    "import warnings\n",
    "import logging\n",
    "from IPython.display import display, HTML"
   ]
  },
  {
   "cell_type": "markdown",
   "id": "4824eb20",
   "metadata": {
    "papermill": {
     "duration": 0.054177,
     "end_time": "2022-06-10T23:30:58.929230",
     "exception": false,
     "start_time": "2022-06-10T23:30:58.875053",
     "status": "completed"
    },
    "tags": []
   },
   "source": [
    "# Corpora merge"
   ]
  },
  {
   "cell_type": "code",
   "execution_count": 14,
   "id": "7026b06c",
   "metadata": {
    "execution": {
     "iopub.execute_input": "2022-06-10T23:30:59.039213Z",
     "iopub.status.busy": "2022-06-10T23:30:59.038599Z",
     "iopub.status.idle": "2022-06-10T23:30:59.371819Z",
     "shell.execute_reply": "2022-06-10T23:30:59.370856Z"
    },
    "papermill": {
     "duration": 0.391961,
     "end_time": "2022-06-10T23:30:59.374627",
     "exception": false,
     "start_time": "2022-06-10T23:30:58.982666",
     "status": "completed"
    },
    "tags": []
   },
   "outputs": [
    {
     "name": "stdout",
     "output_type": "stream",
     "text": [
      "(36473, 6)\n"
     ]
    },
    {
     "data": {
      "text/html": [
       "<div>\n",
       "<style scoped>\n",
       "    .dataframe tbody tr th:only-of-type {\n",
       "        vertical-align: middle;\n",
       "    }\n",
       "\n",
       "    .dataframe tbody tr th {\n",
       "        vertical-align: top;\n",
       "    }\n",
       "\n",
       "    .dataframe thead th {\n",
       "        text-align: right;\n",
       "    }\n",
       "</style>\n",
       "<table border=\"1\" class=\"dataframe\">\n",
       "  <thead>\n",
       "    <tr style=\"text-align: right;\">\n",
       "      <th></th>\n",
       "      <th>id</th>\n",
       "      <th>anchor</th>\n",
       "      <th>target</th>\n",
       "      <th>context</th>\n",
       "      <th>score</th>\n",
       "      <th>section</th>\n",
       "    </tr>\n",
       "  </thead>\n",
       "  <tbody>\n",
       "    <tr>\n",
       "      <th>0</th>\n",
       "      <td>37d61fd2272659b1</td>\n",
       "      <td>abatement</td>\n",
       "      <td>abatement of pollution</td>\n",
       "      <td>A47</td>\n",
       "      <td>0.50</td>\n",
       "      <td>A</td>\n",
       "    </tr>\n",
       "    <tr>\n",
       "      <th>1</th>\n",
       "      <td>7b9652b17b68b7a4</td>\n",
       "      <td>abatement</td>\n",
       "      <td>act of abating</td>\n",
       "      <td>A47</td>\n",
       "      <td>0.75</td>\n",
       "      <td>A</td>\n",
       "    </tr>\n",
       "    <tr>\n",
       "      <th>2</th>\n",
       "      <td>36d72442aefd8232</td>\n",
       "      <td>abatement</td>\n",
       "      <td>active catalyst</td>\n",
       "      <td>A47</td>\n",
       "      <td>0.25</td>\n",
       "      <td>A</td>\n",
       "    </tr>\n",
       "    <tr>\n",
       "      <th>3</th>\n",
       "      <td>5296b0c19e1ce60e</td>\n",
       "      <td>abatement</td>\n",
       "      <td>eliminating process</td>\n",
       "      <td>A47</td>\n",
       "      <td>0.50</td>\n",
       "      <td>A</td>\n",
       "    </tr>\n",
       "    <tr>\n",
       "      <th>4</th>\n",
       "      <td>54c1e3b9184cb5b6</td>\n",
       "      <td>abatement</td>\n",
       "      <td>forest region</td>\n",
       "      <td>A47</td>\n",
       "      <td>0.00</td>\n",
       "      <td>A</td>\n",
       "    </tr>\n",
       "  </tbody>\n",
       "</table>\n",
       "</div>"
      ],
      "text/plain": [
       "                 id     anchor                  target context  score section\n",
       "0  37d61fd2272659b1  abatement  abatement of pollution     A47   0.50       A\n",
       "1  7b9652b17b68b7a4  abatement          act of abating     A47   0.75       A\n",
       "2  36d72442aefd8232  abatement         active catalyst     A47   0.25       A\n",
       "3  5296b0c19e1ce60e  abatement     eliminating process     A47   0.50       A\n",
       "4  54c1e3b9184cb5b6  abatement           forest region     A47   0.00       A"
      ]
     },
     "metadata": {},
     "output_type": "display_data"
    },
    {
     "data": {
      "text/html": [
       "<div>\n",
       "<style scoped>\n",
       "    .dataframe tbody tr th:only-of-type {\n",
       "        vertical-align: middle;\n",
       "    }\n",
       "\n",
       "    .dataframe tbody tr th {\n",
       "        vertical-align: top;\n",
       "    }\n",
       "\n",
       "    .dataframe thead th {\n",
       "        text-align: right;\n",
       "    }\n",
       "</style>\n",
       "<table border=\"1\" class=\"dataframe\">\n",
       "  <thead>\n",
       "    <tr style=\"text-align: right;\">\n",
       "      <th></th>\n",
       "      <th>context</th>\n",
       "      <th>title</th>\n",
       "      <th>section</th>\n",
       "      <th>class</th>\n",
       "      <th>subclass</th>\n",
       "      <th>group</th>\n",
       "      <th>main_group</th>\n",
       "    </tr>\n",
       "  </thead>\n",
       "  <tbody>\n",
       "    <tr>\n",
       "      <th>0</th>\n",
       "      <td>A</td>\n",
       "      <td>HUMAN NECESSITIES</td>\n",
       "      <td>A</td>\n",
       "      <td>NaN</td>\n",
       "      <td>NaN</td>\n",
       "      <td>NaN</td>\n",
       "      <td>NaN</td>\n",
       "    </tr>\n",
       "    <tr>\n",
       "      <th>1</th>\n",
       "      <td>A01</td>\n",
       "      <td>AGRICULTURE; FORESTRY; ANIMAL HUSBANDRY; HUNTI...</td>\n",
       "      <td>A</td>\n",
       "      <td>1.0</td>\n",
       "      <td>NaN</td>\n",
       "      <td>NaN</td>\n",
       "      <td>NaN</td>\n",
       "    </tr>\n",
       "    <tr>\n",
       "      <th>2</th>\n",
       "      <td>A01B</td>\n",
       "      <td>SOIL WORKING IN AGRICULTURE OR FORESTRY; PARTS...</td>\n",
       "      <td>A</td>\n",
       "      <td>1.0</td>\n",
       "      <td>B</td>\n",
       "      <td>NaN</td>\n",
       "      <td>NaN</td>\n",
       "    </tr>\n",
       "    <tr>\n",
       "      <th>3</th>\n",
       "      <td>A01B1/00</td>\n",
       "      <td>Hand tools (edge trimmers for lawns A01G3/06  ...</td>\n",
       "      <td>A</td>\n",
       "      <td>1.0</td>\n",
       "      <td>B</td>\n",
       "      <td>1.0</td>\n",
       "      <td>0.0</td>\n",
       "    </tr>\n",
       "    <tr>\n",
       "      <th>4</th>\n",
       "      <td>A01B1/02</td>\n",
       "      <td>Spades; Shovels {(hand-operated dredgers E02F3...</td>\n",
       "      <td>A</td>\n",
       "      <td>1.0</td>\n",
       "      <td>B</td>\n",
       "      <td>1.0</td>\n",
       "      <td>2.0</td>\n",
       "    </tr>\n",
       "  </tbody>\n",
       "</table>\n",
       "</div>"
      ],
      "text/plain": [
       "    context                                              title section  class  \\\n",
       "0         A                                  HUMAN NECESSITIES       A    NaN   \n",
       "1       A01  AGRICULTURE; FORESTRY; ANIMAL HUSBANDRY; HUNTI...       A    1.0   \n",
       "2      A01B  SOIL WORKING IN AGRICULTURE OR FORESTRY; PARTS...       A    1.0   \n",
       "3  A01B1/00  Hand tools (edge trimmers for lawns A01G3/06  ...       A    1.0   \n",
       "4  A01B1/02  Spades; Shovels {(hand-operated dredgers E02F3...       A    1.0   \n",
       "\n",
       "  subclass  group  main_group  \n",
       "0      NaN    NaN         NaN  \n",
       "1      NaN    NaN         NaN  \n",
       "2        B    NaN         NaN  \n",
       "3        B    1.0         0.0  \n",
       "4        B    1.0         2.0  "
      ]
     },
     "metadata": {},
     "output_type": "display_data"
    },
    {
     "data": {
      "text/html": [
       "<div>\n",
       "<style scoped>\n",
       "    .dataframe tbody tr th:only-of-type {\n",
       "        vertical-align: middle;\n",
       "    }\n",
       "\n",
       "    .dataframe tbody tr th {\n",
       "        vertical-align: top;\n",
       "    }\n",
       "\n",
       "    .dataframe thead th {\n",
       "        text-align: right;\n",
       "    }\n",
       "</style>\n",
       "<table border=\"1\" class=\"dataframe\">\n",
       "  <thead>\n",
       "    <tr style=\"text-align: right;\">\n",
       "      <th></th>\n",
       "      <th>id</th>\n",
       "      <th>anchor</th>\n",
       "      <th>target</th>\n",
       "      <th>context</th>\n",
       "      <th>score</th>\n",
       "      <th>section</th>\n",
       "      <th>context_title</th>\n",
       "      <th>section_title</th>\n",
       "    </tr>\n",
       "  </thead>\n",
       "  <tbody>\n",
       "    <tr>\n",
       "      <th>0</th>\n",
       "      <td>37d61fd2272659b1</td>\n",
       "      <td>abatement</td>\n",
       "      <td>abatement of pollution</td>\n",
       "      <td>A47</td>\n",
       "      <td>0.50</td>\n",
       "      <td>A</td>\n",
       "      <td>FURNITURE; DOMESTIC ARTICLES OR APPLIANCES; CO...</td>\n",
       "      <td>HUMAN NECESSITIES</td>\n",
       "    </tr>\n",
       "    <tr>\n",
       "      <th>1</th>\n",
       "      <td>7b9652b17b68b7a4</td>\n",
       "      <td>abatement</td>\n",
       "      <td>act of abating</td>\n",
       "      <td>A47</td>\n",
       "      <td>0.75</td>\n",
       "      <td>A</td>\n",
       "      <td>FURNITURE; DOMESTIC ARTICLES OR APPLIANCES; CO...</td>\n",
       "      <td>HUMAN NECESSITIES</td>\n",
       "    </tr>\n",
       "    <tr>\n",
       "      <th>2</th>\n",
       "      <td>36d72442aefd8232</td>\n",
       "      <td>abatement</td>\n",
       "      <td>active catalyst</td>\n",
       "      <td>A47</td>\n",
       "      <td>0.25</td>\n",
       "      <td>A</td>\n",
       "      <td>FURNITURE; DOMESTIC ARTICLES OR APPLIANCES; CO...</td>\n",
       "      <td>HUMAN NECESSITIES</td>\n",
       "    </tr>\n",
       "    <tr>\n",
       "      <th>3</th>\n",
       "      <td>5296b0c19e1ce60e</td>\n",
       "      <td>abatement</td>\n",
       "      <td>eliminating process</td>\n",
       "      <td>A47</td>\n",
       "      <td>0.50</td>\n",
       "      <td>A</td>\n",
       "      <td>FURNITURE; DOMESTIC ARTICLES OR APPLIANCES; CO...</td>\n",
       "      <td>HUMAN NECESSITIES</td>\n",
       "    </tr>\n",
       "    <tr>\n",
       "      <th>4</th>\n",
       "      <td>54c1e3b9184cb5b6</td>\n",
       "      <td>abatement</td>\n",
       "      <td>forest region</td>\n",
       "      <td>A47</td>\n",
       "      <td>0.00</td>\n",
       "      <td>A</td>\n",
       "      <td>FURNITURE; DOMESTIC ARTICLES OR APPLIANCES; CO...</td>\n",
       "      <td>HUMAN NECESSITIES</td>\n",
       "    </tr>\n",
       "  </tbody>\n",
       "</table>\n",
       "</div>"
      ],
      "text/plain": [
       "                 id     anchor                  target context  score section  \\\n",
       "0  37d61fd2272659b1  abatement  abatement of pollution     A47   0.50       A   \n",
       "1  7b9652b17b68b7a4  abatement          act of abating     A47   0.75       A   \n",
       "2  36d72442aefd8232  abatement         active catalyst     A47   0.25       A   \n",
       "3  5296b0c19e1ce60e  abatement     eliminating process     A47   0.50       A   \n",
       "4  54c1e3b9184cb5b6  abatement           forest region     A47   0.00       A   \n",
       "\n",
       "                                       context_title      section_title  \n",
       "0  FURNITURE; DOMESTIC ARTICLES OR APPLIANCES; CO...  HUMAN NECESSITIES  \n",
       "1  FURNITURE; DOMESTIC ARTICLES OR APPLIANCES; CO...  HUMAN NECESSITIES  \n",
       "2  FURNITURE; DOMESTIC ARTICLES OR APPLIANCES; CO...  HUMAN NECESSITIES  \n",
       "3  FURNITURE; DOMESTIC ARTICLES OR APPLIANCES; CO...  HUMAN NECESSITIES  \n",
       "4  FURNITURE; DOMESTIC ARTICLES OR APPLIANCES; CO...  HUMAN NECESSITIES  "
      ]
     },
     "metadata": {},
     "output_type": "display_data"
    }
   ],
   "source": [
    "train['section'] = train[\"context\"].str[0]\n",
    "print(train.shape)\n",
    "display(train.head())\n",
    "titles=titles.rename(columns={\"code\": \"context\"})\n",
    "display(titles.head())\n",
    "train = train.merge(titles[[\"context\", \"title\"]], on=\"context\").rename(columns={\"title\": \"context_title\"})\n",
    "train = train.merge(titles[[\"context\", \"title\"]].rename(columns={\"context\": \"section\"}), on=\"section\").rename(columns={\"title\": \"section_title\"})\n",
    "display(train.head())"
   ]
  },
  {
   "cell_type": "code",
   "execution_count": 15,
   "id": "8be5f208",
   "metadata": {
    "execution": {
     "iopub.execute_input": "2022-06-10T23:30:59.495454Z",
     "iopub.status.busy": "2022-06-10T23:30:59.495208Z",
     "iopub.status.idle": "2022-06-10T23:30:59.499237Z",
     "shell.execute_reply": "2022-06-10T23:30:59.498445Z"
    },
    "papermill": {
     "duration": 0.064049,
     "end_time": "2022-06-10T23:30:59.501370",
     "exception": false,
     "start_time": "2022-06-10T23:30:59.437321",
     "status": "completed"
    },
    "tags": []
   },
   "outputs": [],
   "source": [
    "logging.disable(logging.WARNING)\n",
    "warnings.simplefilter('ignore')"
   ]
  },
  {
   "cell_type": "markdown",
   "id": "c15c6f28",
   "metadata": {
    "papermill": {
     "duration": 0.056585,
     "end_time": "2022-06-10T23:30:59.614350",
     "exception": false,
     "start_time": "2022-06-10T23:30:59.557765",
     "status": "completed"
    },
    "tags": []
   },
   "source": [
    "# Deberta-v3-small"
   ]
  },
  {
   "cell_type": "code",
   "execution_count": 16,
   "id": "157bc864",
   "metadata": {
    "execution": {
     "iopub.execute_input": "2022-06-10T23:30:59.731065Z",
     "iopub.status.busy": "2022-06-10T23:30:59.730351Z",
     "iopub.status.idle": "2022-06-10T23:30:59.734786Z",
     "shell.execute_reply": "2022-06-10T23:30:59.734083Z"
    },
    "papermill": {
     "duration": 0.06466,
     "end_time": "2022-06-10T23:30:59.736525",
     "exception": false,
     "start_time": "2022-06-10T23:30:59.671865",
     "status": "completed"
    },
    "tags": []
   },
   "outputs": [],
   "source": [
    "#model_name = 'microsoft/deberta-v3-small' (online version)\n",
    "model_name = '../input/debertav3small'"
   ]
  },
  {
   "cell_type": "code",
   "execution_count": 17,
   "id": "2e21373c",
   "metadata": {
    "execution": {
     "iopub.execute_input": "2022-06-10T23:30:59.853217Z",
     "iopub.status.busy": "2022-06-10T23:30:59.852978Z",
     "iopub.status.idle": "2022-06-10T23:31:00.544802Z",
     "shell.execute_reply": "2022-06-10T23:31:00.544008Z"
    },
    "papermill": {
     "duration": 0.752659,
     "end_time": "2022-06-10T23:31:00.547321",
     "exception": false,
     "start_time": "2022-06-10T23:30:59.794662",
     "status": "completed"
    },
    "tags": []
   },
   "outputs": [],
   "source": [
    "tokenizer = AutoTokenizer.from_pretrained(model_name)"
   ]
  },
  {
   "cell_type": "code",
   "execution_count": 18,
   "id": "35787158",
   "metadata": {
    "execution": {
     "iopub.execute_input": "2022-06-10T23:31:00.661792Z",
     "iopub.status.busy": "2022-06-10T23:31:00.661560Z",
     "iopub.status.idle": "2022-06-10T23:31:00.667112Z",
     "shell.execute_reply": "2022-06-10T23:31:00.666224Z"
    },
    "papermill": {
     "duration": 0.068042,
     "end_time": "2022-06-10T23:31:00.669876",
     "exception": false,
     "start_time": "2022-06-10T23:31:00.601834",
     "status": "completed"
    },
    "tags": []
   },
   "outputs": [
    {
     "data": {
      "text/plain": [
       "['[CLS]', '[SEP]', '[UNK]', '[PAD]', '[MASK]']"
      ]
     },
     "execution_count": 18,
     "metadata": {},
     "output_type": "execute_result"
    }
   ],
   "source": [
    "tokenizer.all_special_tokens"
   ]
  },
  {
   "cell_type": "code",
   "execution_count": 19,
   "id": "225800a0",
   "metadata": {
    "execution": {
     "iopub.execute_input": "2022-06-10T23:31:00.783840Z",
     "iopub.status.busy": "2022-06-10T23:31:00.783596Z",
     "iopub.status.idle": "2022-06-10T23:31:00.789452Z",
     "shell.execute_reply": "2022-06-10T23:31:00.788689Z"
    },
    "papermill": {
     "duration": 0.065725,
     "end_time": "2022-06-10T23:31:00.791707",
     "exception": false,
     "start_time": "2022-06-10T23:31:00.725982",
     "status": "completed"
    },
    "tags": []
   },
   "outputs": [],
   "source": [
    "def clean(x):\n",
    "    t = x.lower()\n",
    "    t = t.replace(\"[\",'')\n",
    "    t = t.replace(\";\",'')\n",
    "    t = t.replace(\",\",'')\n",
    "    t = t.replace(\"]\",'')\n",
    "    t = t.replace(\":\",'')\n",
    "    t = t.replace(\"(\",'')\n",
    "    t = t.replace(\")\",'')\n",
    "    t = t.replace(\"{\",'')\n",
    "    t = t.replace(\"}\",'')\n",
    "    t = t.replace(\"/\",' ')\n",
    "    t = t.replace(\"-\",' ')\n",
    "    return t"
   ]
  },
  {
   "cell_type": "code",
   "execution_count": 20,
   "id": "36493b01",
   "metadata": {
    "execution": {
     "iopub.execute_input": "2022-06-10T23:31:00.904820Z",
     "iopub.status.busy": "2022-06-10T23:31:00.904614Z",
     "iopub.status.idle": "2022-06-10T23:31:00.985597Z",
     "shell.execute_reply": "2022-06-10T23:31:00.984804Z"
    },
    "papermill": {
     "duration": 0.14,
     "end_time": "2022-06-10T23:31:00.987839",
     "exception": false,
     "start_time": "2022-06-10T23:31:00.847839",
     "status": "completed"
    },
    "tags": []
   },
   "outputs": [],
   "source": [
    "train[\"inputs\"] = train[\"section_title\"].apply(clean) + \" [SEP] \" + train[\"anchor\"] + \" [SEP] \" + train[\"target\"]"
   ]
  },
  {
   "cell_type": "code",
   "execution_count": 21,
   "id": "23ed9159",
   "metadata": {
    "execution": {
     "iopub.execute_input": "2022-06-10T23:31:01.099705Z",
     "iopub.status.busy": "2022-06-10T23:31:01.099293Z",
     "iopub.status.idle": "2022-06-10T23:31:01.104214Z",
     "shell.execute_reply": "2022-06-10T23:31:01.103490Z"
    },
    "papermill": {
     "duration": 0.06346,
     "end_time": "2022-06-10T23:31:01.106009",
     "exception": false,
     "start_time": "2022-06-10T23:31:01.042549",
     "status": "completed"
    },
    "tags": []
   },
   "outputs": [],
   "source": [
    "def tok_func(x):\n",
    "    return tokenizer(x[\"inputs\"])"
   ]
  },
  {
   "cell_type": "code",
   "execution_count": 22,
   "id": "ab7bdcb5",
   "metadata": {
    "execution": {
     "iopub.execute_input": "2022-06-10T23:31:01.219736Z",
     "iopub.status.busy": "2022-06-10T23:31:01.219288Z",
     "iopub.status.idle": "2022-06-10T23:31:01.267051Z",
     "shell.execute_reply": "2022-06-10T23:31:01.266392Z"
    },
    "papermill": {
     "duration": 0.107205,
     "end_time": "2022-06-10T23:31:01.269119",
     "exception": false,
     "start_time": "2022-06-10T23:31:01.161914",
     "status": "completed"
    },
    "tags": []
   },
   "outputs": [],
   "source": [
    "train_ds = Dataset.from_pandas(train).rename_column('score', 'label')"
   ]
  },
  {
   "cell_type": "code",
   "execution_count": 23,
   "id": "108f1124",
   "metadata": {
    "execution": {
     "iopub.execute_input": "2022-06-10T23:31:01.382665Z",
     "iopub.status.busy": "2022-06-10T23:31:01.382450Z",
     "iopub.status.idle": "2022-06-10T23:31:08.858716Z",
     "shell.execute_reply": "2022-06-10T23:31:08.858051Z"
    },
    "papermill": {
     "duration": 7.534904,
     "end_time": "2022-06-10T23:31:08.860975",
     "exception": false,
     "start_time": "2022-06-10T23:31:01.326071",
     "status": "completed"
    },
    "tags": []
   },
   "outputs": [
    {
     "data": {
      "application/vnd.jupyter.widget-view+json": {
       "model_id": "6c875fb6f371487d8bfdc3249600d48e",
       "version_major": 2,
       "version_minor": 0
      },
      "text/plain": [
       "  0%|          | 0/37 [00:00<?, ?ba/s]"
      ]
     },
     "metadata": {},
     "output_type": "display_data"
    }
   ],
   "source": [
    "inps = \"anchor\",\"target\",\"context\",\"context_title\",\"section_title\"\n",
    "tok_ds = train_ds.map(tok_func, batched=True, remove_columns=inps+('inputs','id','section'))"
   ]
  },
  {
   "cell_type": "code",
   "execution_count": 24,
   "id": "2a4e0ee5",
   "metadata": {
    "execution": {
     "iopub.execute_input": "2022-06-10T23:31:09.044399Z",
     "iopub.status.busy": "2022-06-10T23:31:09.044075Z",
     "iopub.status.idle": "2022-06-10T23:31:09.049435Z",
     "shell.execute_reply": "2022-06-10T23:31:09.048830Z"
    },
    "papermill": {
     "duration": 0.104566,
     "end_time": "2022-06-10T23:31:09.056033",
     "exception": false,
     "start_time": "2022-06-10T23:31:08.951467",
     "status": "completed"
    },
    "tags": []
   },
   "outputs": [
    {
     "data": {
      "text/plain": [
       "Dataset({\n",
       "    features: ['label', '__index_level_0__', 'input_ids', 'token_type_ids', 'attention_mask'],\n",
       "    num_rows: 36473\n",
       "})"
      ]
     },
     "execution_count": 24,
     "metadata": {},
     "output_type": "execute_result"
    }
   ],
   "source": [
    "tok_ds"
   ]
  },
  {
   "cell_type": "code",
   "execution_count": 25,
   "id": "91738a4b",
   "metadata": {
    "execution": {
     "iopub.execute_input": "2022-06-10T23:31:09.172981Z",
     "iopub.status.busy": "2022-06-10T23:31:09.172746Z",
     "iopub.status.idle": "2022-06-10T23:31:09.176406Z",
     "shell.execute_reply": "2022-06-10T23:31:09.175725Z"
    },
    "papermill": {
     "duration": 0.061507,
     "end_time": "2022-06-10T23:31:09.178104",
     "exception": false,
     "start_time": "2022-06-10T23:31:09.116597",
     "status": "completed"
    },
    "tags": []
   },
   "outputs": [],
   "source": [
    "# bs - batch size\n",
    "lr,bs = 8e-5,64\n",
    "# wd: weight decay\n",
    "wd,epochs = 0.01,4"
   ]
  },
  {
   "cell_type": "code",
   "execution_count": 26,
   "id": "1e9177f9",
   "metadata": {
    "execution": {
     "iopub.execute_input": "2022-06-10T23:31:09.290222Z",
     "iopub.status.busy": "2022-06-10T23:31:09.290017Z",
     "iopub.status.idle": "2022-06-10T23:31:09.296786Z",
     "shell.execute_reply": "2022-06-10T23:31:09.296132Z"
    },
    "papermill": {
     "duration": 0.065149,
     "end_time": "2022-06-10T23:31:09.298626",
     "exception": false,
     "start_time": "2022-06-10T23:31:09.233477",
     "status": "completed"
    },
    "tags": []
   },
   "outputs": [],
   "source": [
    "anchors = train[\"anchor\"].unique()\n",
    "np.random.shuffle(anchors)"
   ]
  },
  {
   "cell_type": "code",
   "execution_count": 27,
   "id": "d6685052",
   "metadata": {
    "execution": {
     "iopub.execute_input": "2022-06-10T23:31:09.410483Z",
     "iopub.status.busy": "2022-06-10T23:31:09.410272Z",
     "iopub.status.idle": "2022-06-10T23:31:09.413852Z",
     "shell.execute_reply": "2022-06-10T23:31:09.413122Z"
    },
    "papermill": {
     "duration": 0.061295,
     "end_time": "2022-06-10T23:31:09.415577",
     "exception": false,
     "start_time": "2022-06-10T23:31:09.354282",
     "status": "completed"
    },
    "tags": []
   },
   "outputs": [],
   "source": [
    "val_prop = 0.25\n",
    "val_sz = int(len(anchors)*val_prop)\n",
    "val_anchors = anchors[:val_sz]"
   ]
  },
  {
   "cell_type": "code",
   "execution_count": 28,
   "id": "3c2b5216",
   "metadata": {
    "execution": {
     "iopub.execute_input": "2022-06-10T23:31:09.529013Z",
     "iopub.status.busy": "2022-06-10T23:31:09.528815Z",
     "iopub.status.idle": "2022-06-10T23:31:09.750194Z",
     "shell.execute_reply": "2022-06-10T23:31:09.749435Z"
    },
    "papermill": {
     "duration": 0.279878,
     "end_time": "2022-06-10T23:31:09.751991",
     "exception": false,
     "start_time": "2022-06-10T23:31:09.472113",
     "status": "completed"
    },
    "tags": []
   },
   "outputs": [
    {
     "data": {
      "text/plain": [
       "(9049, 27424)"
      ]
     },
     "execution_count": 28,
     "metadata": {},
     "output_type": "execute_result"
    }
   ],
   "source": [
    "is_val = np.isin(train.anchor, val_anchors)\n",
    "idxs = np.arange(len(train))\n",
    "val_idxs = idxs[ is_val]\n",
    "trn_idxs = idxs[~is_val]\n",
    "len(val_idxs),len(trn_idxs)"
   ]
  },
  {
   "cell_type": "code",
   "execution_count": 29,
   "id": "8873cdd2",
   "metadata": {
    "execution": {
     "iopub.execute_input": "2022-06-10T23:31:09.865981Z",
     "iopub.status.busy": "2022-06-10T23:31:09.865780Z",
     "iopub.status.idle": "2022-06-10T23:31:09.884452Z",
     "shell.execute_reply": "2022-06-10T23:31:09.883736Z"
    },
    "papermill": {
     "duration": 0.077786,
     "end_time": "2022-06-10T23:31:09.886337",
     "exception": false,
     "start_time": "2022-06-10T23:31:09.808551",
     "status": "completed"
    },
    "tags": []
   },
   "outputs": [],
   "source": [
    "dds = DatasetDict({\"train\":tok_ds.select(trn_idxs),\n",
    "             \"test\": tok_ds.select(val_idxs)})"
   ]
  },
  {
   "cell_type": "code",
   "execution_count": 30,
   "id": "1820eb19",
   "metadata": {
    "execution": {
     "iopub.execute_input": "2022-06-10T23:31:09.998393Z",
     "iopub.status.busy": "2022-06-10T23:31:09.998185Z",
     "iopub.status.idle": "2022-06-10T23:31:10.002903Z",
     "shell.execute_reply": "2022-06-10T23:31:10.002190Z"
    },
    "papermill": {
     "duration": 0.062499,
     "end_time": "2022-06-10T23:31:10.004665",
     "exception": false,
     "start_time": "2022-06-10T23:31:09.942166",
     "status": "completed"
    },
    "tags": []
   },
   "outputs": [],
   "source": [
    "def corr(eval_pred): return {'pearson': np.corrcoef(*eval_pred)[0][1]}"
   ]
  },
  {
   "cell_type": "code",
   "execution_count": 31,
   "id": "767676d0",
   "metadata": {
    "execution": {
     "iopub.execute_input": "2022-06-10T23:31:10.119001Z",
     "iopub.status.busy": "2022-06-10T23:31:10.118782Z",
     "iopub.status.idle": "2022-06-10T23:31:10.179195Z",
     "shell.execute_reply": "2022-06-10T23:31:10.178567Z"
    },
    "papermill": {
     "duration": 0.119841,
     "end_time": "2022-06-10T23:31:10.180986",
     "exception": false,
     "start_time": "2022-06-10T23:31:10.061145",
     "status": "completed"
    },
    "tags": []
   },
   "outputs": [],
   "source": [
    "#args = TrainingArguments('outputs', learning_rate=lr, warmup_ratio=0.1, lr_scheduler_type='cosine', fp16=True,\n",
    "    #evaluation_strategy=\"epoch\", per_device_train_batch_size=bs, per_device_eval_batch_size=bs*2,\n",
    "     #num_train_epochs=epochs, weight_decay=wd, report_to='none')\n",
    "args = TrainingArguments('outputs', learning_rate=lr, warmup_ratio=0.1, lr_scheduler_type='cosine',\n",
    "    evaluation_strategy=\"epoch\", per_device_train_batch_size=bs, per_device_eval_batch_size=bs*2,\n",
    "    num_train_epochs=epochs, weight_decay=wd, report_to='none')"
   ]
  },
  {
   "cell_type": "code",
   "execution_count": 32,
   "id": "ef0a29fb",
   "metadata": {
    "execution": {
     "iopub.execute_input": "2022-06-10T23:31:10.295671Z",
     "iopub.status.busy": "2022-06-10T23:31:10.295451Z",
     "iopub.status.idle": "2022-06-10T23:31:19.335817Z",
     "shell.execute_reply": "2022-06-10T23:31:19.334904Z"
    },
    "papermill": {
     "duration": 9.099917,
     "end_time": "2022-06-10T23:31:19.338160",
     "exception": false,
     "start_time": "2022-06-10T23:31:10.238243",
     "status": "completed"
    },
    "tags": []
   },
   "outputs": [],
   "source": [
    "model = AutoModelForSequenceClassification.from_pretrained(model_name, num_labels=1)\n",
    "trainer = Trainer(model, args, train_dataset=dds['train'], eval_dataset=dds['test'],\n",
    "               tokenizer=tokenizer, compute_metrics=corr)"
   ]
  },
  {
   "cell_type": "code",
   "execution_count": 33,
   "id": "f9e9de7f",
   "metadata": {
    "execution": {
     "iopub.execute_input": "2022-06-10T23:31:19.450899Z",
     "iopub.status.busy": "2022-06-10T23:31:19.450668Z",
     "iopub.status.idle": "2022-06-10T23:31:19.456982Z",
     "shell.execute_reply": "2022-06-10T23:31:19.456353Z"
    },
    "papermill": {
     "duration": 0.065101,
     "end_time": "2022-06-10T23:31:19.458818",
     "exception": false,
     "start_time": "2022-06-10T23:31:19.393717",
     "status": "completed"
    },
    "tags": []
   },
   "outputs": [
    {
     "data": {
      "text/plain": [
       "{'label': 0.5,\n",
       " '__index_level_0__': 0,\n",
       " 'input_ids': [1, 857, 19629, 2, 47284, 2, 47284, 265, 6435, 2],\n",
       " 'token_type_ids': [0, 0, 0, 0, 0, 0, 0, 0, 0, 0],\n",
       " 'attention_mask': [1, 1, 1, 1, 1, 1, 1, 1, 1, 1]}"
      ]
     },
     "execution_count": 33,
     "metadata": {},
     "output_type": "execute_result"
    }
   ],
   "source": [
    "dds['train'][0]"
   ]
  },
  {
   "cell_type": "code",
   "execution_count": 34,
   "id": "44715546",
   "metadata": {
    "execution": {
     "iopub.execute_input": "2022-06-10T23:31:19.648029Z",
     "iopub.status.busy": "2022-06-10T23:31:19.647731Z",
     "iopub.status.idle": "2022-06-10T23:35:48.193953Z",
     "shell.execute_reply": "2022-06-10T23:35:48.193171Z"
    },
    "papermill": {
     "duration": 268.64888,
     "end_time": "2022-06-10T23:35:48.195733",
     "exception": false,
     "start_time": "2022-06-10T23:31:19.546853",
     "status": "completed"
    },
    "tags": []
   },
   "outputs": [
    {
     "data": {
      "text/html": [
       "\n",
       "    <div>\n",
       "      \n",
       "      <progress value='1716' max='1716' style='width:300px; height:20px; vertical-align: middle;'></progress>\n",
       "      [1716/1716 04:27, Epoch 4/4]\n",
       "    </div>\n",
       "    <table border=\"1\" class=\"dataframe\">\n",
       "  <thead>\n",
       " <tr style=\"text-align: left;\">\n",
       "      <th>Epoch</th>\n",
       "      <th>Training Loss</th>\n",
       "      <th>Validation Loss</th>\n",
       "      <th>Pearson</th>\n",
       "    </tr>\n",
       "  </thead>\n",
       "  <tbody>\n",
       "    <tr>\n",
       "      <td>1</td>\n",
       "      <td>No log</td>\n",
       "      <td>0.033694</td>\n",
       "      <td>0.780499</td>\n",
       "    </tr>\n",
       "    <tr>\n",
       "      <td>2</td>\n",
       "      <td>0.045800</td>\n",
       "      <td>0.025136</td>\n",
       "      <td>0.805393</td>\n",
       "    </tr>\n",
       "    <tr>\n",
       "      <td>3</td>\n",
       "      <td>0.018800</td>\n",
       "      <td>0.025332</td>\n",
       "      <td>0.809586</td>\n",
       "    </tr>\n",
       "    <tr>\n",
       "      <td>4</td>\n",
       "      <td>0.012100</td>\n",
       "      <td>0.025609</td>\n",
       "      <td>0.809461</td>\n",
       "    </tr>\n",
       "  </tbody>\n",
       "</table><p>"
      ],
      "text/plain": [
       "<IPython.core.display.HTML object>"
      ]
     },
     "metadata": {},
     "output_type": "display_data"
    },
    {
     "data": {
      "text/plain": [
       "TrainOutput(global_step=1716, training_loss=0.02363121481764289, metrics={'train_runtime': 268.5281, 'train_samples_per_second': 408.508, 'train_steps_per_second': 6.39, 'total_flos': 473595932415360.0, 'train_loss': 0.02363121481764289, 'epoch': 4.0})"
      ]
     },
     "execution_count": 34,
     "metadata": {},
     "output_type": "execute_result"
    }
   ],
   "source": [
    "trainer.train()"
   ]
  },
  {
   "cell_type": "code",
   "execution_count": 35,
   "id": "eb9c07ed",
   "metadata": {
    "execution": {
     "iopub.execute_input": "2022-06-10T23:35:48.312939Z",
     "iopub.status.busy": "2022-06-10T23:35:48.312402Z",
     "iopub.status.idle": "2022-06-10T23:35:49.706199Z",
     "shell.execute_reply": "2022-06-10T23:35:49.705414Z"
    },
    "papermill": {
     "duration": 1.455288,
     "end_time": "2022-06-10T23:35:49.708330",
     "exception": false,
     "start_time": "2022-06-10T23:35:48.253042",
     "status": "completed"
    },
    "tags": []
   },
   "outputs": [],
   "source": [
    "trainer.save_model()"
   ]
  },
  {
   "cell_type": "markdown",
   "id": "f188fbc5",
   "metadata": {
    "papermill": {
     "duration": 0.059159,
     "end_time": "2022-06-10T23:35:49.825635",
     "exception": false,
     "start_time": "2022-06-10T23:35:49.766476",
     "status": "completed"
    },
    "tags": []
   },
   "source": [
    "# Test corpus preprocessing"
   ]
  },
  {
   "cell_type": "code",
   "execution_count": 36,
   "id": "104fd940",
   "metadata": {
    "execution": {
     "iopub.execute_input": "2022-06-10T23:35:49.943265Z",
     "iopub.status.busy": "2022-06-10T23:35:49.942662Z",
     "iopub.status.idle": "2022-06-10T23:35:49.954831Z",
     "shell.execute_reply": "2022-06-10T23:35:49.954055Z"
    },
    "papermill": {
     "duration": 0.073716,
     "end_time": "2022-06-10T23:35:49.956550",
     "exception": false,
     "start_time": "2022-06-10T23:35:49.882834",
     "status": "completed"
    },
    "tags": []
   },
   "outputs": [
    {
     "data": {
      "text/html": [
       "<div>\n",
       "<style scoped>\n",
       "    .dataframe tbody tr th:only-of-type {\n",
       "        vertical-align: middle;\n",
       "    }\n",
       "\n",
       "    .dataframe tbody tr th {\n",
       "        vertical-align: top;\n",
       "    }\n",
       "\n",
       "    .dataframe thead th {\n",
       "        text-align: right;\n",
       "    }\n",
       "</style>\n",
       "<table border=\"1\" class=\"dataframe\">\n",
       "  <thead>\n",
       "    <tr style=\"text-align: right;\">\n",
       "      <th></th>\n",
       "      <th>id</th>\n",
       "      <th>anchor</th>\n",
       "      <th>target</th>\n",
       "      <th>context</th>\n",
       "    </tr>\n",
       "  </thead>\n",
       "  <tbody>\n",
       "    <tr>\n",
       "      <th>0</th>\n",
       "      <td>4112d61851461f60</td>\n",
       "      <td>opc drum</td>\n",
       "      <td>inorganic photoconductor drum</td>\n",
       "      <td>G02</td>\n",
       "    </tr>\n",
       "    <tr>\n",
       "      <th>1</th>\n",
       "      <td>09e418c93a776564</td>\n",
       "      <td>adjust gas flow</td>\n",
       "      <td>altering gas flow</td>\n",
       "      <td>F23</td>\n",
       "    </tr>\n",
       "    <tr>\n",
       "      <th>2</th>\n",
       "      <td>36baf228038e314b</td>\n",
       "      <td>lower trunnion</td>\n",
       "      <td>lower locating</td>\n",
       "      <td>B60</td>\n",
       "    </tr>\n",
       "    <tr>\n",
       "      <th>3</th>\n",
       "      <td>1f37ead645e7f0c8</td>\n",
       "      <td>cap component</td>\n",
       "      <td>upper portion</td>\n",
       "      <td>D06</td>\n",
       "    </tr>\n",
       "    <tr>\n",
       "      <th>4</th>\n",
       "      <td>71a5b6ad068d531f</td>\n",
       "      <td>neural stimulation</td>\n",
       "      <td>artificial neural network</td>\n",
       "      <td>H04</td>\n",
       "    </tr>\n",
       "  </tbody>\n",
       "</table>\n",
       "</div>"
      ],
      "text/plain": [
       "                 id              anchor                         target context\n",
       "0  4112d61851461f60            opc drum  inorganic photoconductor drum     G02\n",
       "1  09e418c93a776564     adjust gas flow              altering gas flow     F23\n",
       "2  36baf228038e314b      lower trunnion                 lower locating     B60\n",
       "3  1f37ead645e7f0c8       cap component                  upper portion     D06\n",
       "4  71a5b6ad068d531f  neural stimulation      artificial neural network     H04"
      ]
     },
     "execution_count": 36,
     "metadata": {},
     "output_type": "execute_result"
    }
   ],
   "source": [
    "test.head()"
   ]
  },
  {
   "cell_type": "code",
   "execution_count": 37,
   "id": "47b638cf",
   "metadata": {
    "execution": {
     "iopub.execute_input": "2022-06-10T23:35:50.075456Z",
     "iopub.status.busy": "2022-06-10T23:35:50.075189Z",
     "iopub.status.idle": "2022-06-10T23:35:50.318318Z",
     "shell.execute_reply": "2022-06-10T23:35:50.317441Z"
    },
    "papermill": {
     "duration": 0.305609,
     "end_time": "2022-06-10T23:35:50.320765",
     "exception": false,
     "start_time": "2022-06-10T23:35:50.015156",
     "status": "completed"
    },
    "tags": []
   },
   "outputs": [
    {
     "name": "stdout",
     "output_type": "stream",
     "text": [
      "(36, 5)\n"
     ]
    },
    {
     "data": {
      "text/html": [
       "<div>\n",
       "<style scoped>\n",
       "    .dataframe tbody tr th:only-of-type {\n",
       "        vertical-align: middle;\n",
       "    }\n",
       "\n",
       "    .dataframe tbody tr th {\n",
       "        vertical-align: top;\n",
       "    }\n",
       "\n",
       "    .dataframe thead th {\n",
       "        text-align: right;\n",
       "    }\n",
       "</style>\n",
       "<table border=\"1\" class=\"dataframe\">\n",
       "  <thead>\n",
       "    <tr style=\"text-align: right;\">\n",
       "      <th></th>\n",
       "      <th>context</th>\n",
       "      <th>title</th>\n",
       "      <th>section</th>\n",
       "      <th>class</th>\n",
       "      <th>subclass</th>\n",
       "      <th>group</th>\n",
       "      <th>main_group</th>\n",
       "    </tr>\n",
       "  </thead>\n",
       "  <tbody>\n",
       "    <tr>\n",
       "      <th>0</th>\n",
       "      <td>A</td>\n",
       "      <td>HUMAN NECESSITIES</td>\n",
       "      <td>A</td>\n",
       "      <td>NaN</td>\n",
       "      <td>NaN</td>\n",
       "      <td>NaN</td>\n",
       "      <td>NaN</td>\n",
       "    </tr>\n",
       "    <tr>\n",
       "      <th>1</th>\n",
       "      <td>A01</td>\n",
       "      <td>AGRICULTURE; FORESTRY; ANIMAL HUSBANDRY; HUNTI...</td>\n",
       "      <td>A</td>\n",
       "      <td>1.0</td>\n",
       "      <td>NaN</td>\n",
       "      <td>NaN</td>\n",
       "      <td>NaN</td>\n",
       "    </tr>\n",
       "    <tr>\n",
       "      <th>2</th>\n",
       "      <td>A01B</td>\n",
       "      <td>SOIL WORKING IN AGRICULTURE OR FORESTRY; PARTS...</td>\n",
       "      <td>A</td>\n",
       "      <td>1.0</td>\n",
       "      <td>B</td>\n",
       "      <td>NaN</td>\n",
       "      <td>NaN</td>\n",
       "    </tr>\n",
       "    <tr>\n",
       "      <th>3</th>\n",
       "      <td>A01B1/00</td>\n",
       "      <td>Hand tools (edge trimmers for lawns A01G3/06  ...</td>\n",
       "      <td>A</td>\n",
       "      <td>1.0</td>\n",
       "      <td>B</td>\n",
       "      <td>1.0</td>\n",
       "      <td>0.0</td>\n",
       "    </tr>\n",
       "    <tr>\n",
       "      <th>4</th>\n",
       "      <td>A01B1/02</td>\n",
       "      <td>Spades; Shovels {(hand-operated dredgers E02F3...</td>\n",
       "      <td>A</td>\n",
       "      <td>1.0</td>\n",
       "      <td>B</td>\n",
       "      <td>1.0</td>\n",
       "      <td>2.0</td>\n",
       "    </tr>\n",
       "  </tbody>\n",
       "</table>\n",
       "</div>"
      ],
      "text/plain": [
       "    context                                              title section  class  \\\n",
       "0         A                                  HUMAN NECESSITIES       A    NaN   \n",
       "1       A01  AGRICULTURE; FORESTRY; ANIMAL HUSBANDRY; HUNTI...       A    1.0   \n",
       "2      A01B  SOIL WORKING IN AGRICULTURE OR FORESTRY; PARTS...       A    1.0   \n",
       "3  A01B1/00  Hand tools (edge trimmers for lawns A01G3/06  ...       A    1.0   \n",
       "4  A01B1/02  Spades; Shovels {(hand-operated dredgers E02F3...       A    1.0   \n",
       "\n",
       "  subclass  group  main_group  \n",
       "0      NaN    NaN         NaN  \n",
       "1      NaN    NaN         NaN  \n",
       "2        B    NaN         NaN  \n",
       "3        B    1.0         0.0  \n",
       "4        B    1.0         2.0  "
      ]
     },
     "metadata": {},
     "output_type": "display_data"
    },
    {
     "data": {
      "text/html": [
       "<div>\n",
       "<style scoped>\n",
       "    .dataframe tbody tr th:only-of-type {\n",
       "        vertical-align: middle;\n",
       "    }\n",
       "\n",
       "    .dataframe tbody tr th {\n",
       "        vertical-align: top;\n",
       "    }\n",
       "\n",
       "    .dataframe thead th {\n",
       "        text-align: right;\n",
       "    }\n",
       "</style>\n",
       "<table border=\"1\" class=\"dataframe\">\n",
       "  <thead>\n",
       "    <tr style=\"text-align: right;\">\n",
       "      <th></th>\n",
       "      <th>id</th>\n",
       "      <th>anchor</th>\n",
       "      <th>target</th>\n",
       "      <th>context</th>\n",
       "      <th>section</th>\n",
       "      <th>context_title</th>\n",
       "      <th>section_title</th>\n",
       "    </tr>\n",
       "  </thead>\n",
       "  <tbody>\n",
       "    <tr>\n",
       "      <th>0</th>\n",
       "      <td>4112d61851461f60</td>\n",
       "      <td>opc drum</td>\n",
       "      <td>inorganic photoconductor drum</td>\n",
       "      <td>G02</td>\n",
       "      <td>G</td>\n",
       "      <td>OPTICS</td>\n",
       "      <td>PHYSICS</td>\n",
       "    </tr>\n",
       "    <tr>\n",
       "      <th>1</th>\n",
       "      <td>5203a36c501f1b7c</td>\n",
       "      <td>generate in layer</td>\n",
       "      <td>generate by layer</td>\n",
       "      <td>G02</td>\n",
       "      <td>G</td>\n",
       "      <td>OPTICS</td>\n",
       "      <td>PHYSICS</td>\n",
       "    </tr>\n",
       "    <tr>\n",
       "      <th>2</th>\n",
       "      <td>7aa5908a77a7ec24</td>\n",
       "      <td>el display</td>\n",
       "      <td>illumination</td>\n",
       "      <td>G02</td>\n",
       "      <td>G</td>\n",
       "      <td>OPTICS</td>\n",
       "      <td>PHYSICS</td>\n",
       "    </tr>\n",
       "    <tr>\n",
       "      <th>3</th>\n",
       "      <td>442c114ed5c4e3c9</td>\n",
       "      <td>tunneling capacitor</td>\n",
       "      <td>capacitor housing</td>\n",
       "      <td>G11</td>\n",
       "      <td>G</td>\n",
       "      <td>INFORMATION STORAGE</td>\n",
       "      <td>PHYSICS</td>\n",
       "    </tr>\n",
       "    <tr>\n",
       "      <th>4</th>\n",
       "      <td>12ca31f018a2e2b9</td>\n",
       "      <td>speed control means</td>\n",
       "      <td>control loop</td>\n",
       "      <td>G05</td>\n",
       "      <td>G</td>\n",
       "      <td>CONTROLLING; REGULATING</td>\n",
       "      <td>PHYSICS</td>\n",
       "    </tr>\n",
       "  </tbody>\n",
       "</table>\n",
       "</div>"
      ],
      "text/plain": [
       "                 id               anchor                         target  \\\n",
       "0  4112d61851461f60             opc drum  inorganic photoconductor drum   \n",
       "1  5203a36c501f1b7c    generate in layer              generate by layer   \n",
       "2  7aa5908a77a7ec24           el display                   illumination   \n",
       "3  442c114ed5c4e3c9  tunneling capacitor              capacitor housing   \n",
       "4  12ca31f018a2e2b9  speed control means                   control loop   \n",
       "\n",
       "  context section            context_title section_title  \n",
       "0     G02       G                   OPTICS       PHYSICS  \n",
       "1     G02       G                   OPTICS       PHYSICS  \n",
       "2     G02       G                   OPTICS       PHYSICS  \n",
       "3     G11       G      INFORMATION STORAGE       PHYSICS  \n",
       "4     G05       G  CONTROLLING; REGULATING       PHYSICS  "
      ]
     },
     "metadata": {},
     "output_type": "display_data"
    }
   ],
   "source": [
    "test['section'] = test[\"context\"].str[0]\n",
    "print(test.shape)\n",
    "display(titles.head())\n",
    "test = test.merge(titles[[\"context\", \"title\"]], on=\"context\").rename(columns={\"title\": \"context_title\"})\n",
    "test = test.merge(titles[[\"context\", \"title\"]].rename(columns={\"context\": \"section\"}), on=\"section\").rename(columns={\"title\": \"section_title\"})\n",
    "display(test.head())"
   ]
  },
  {
   "cell_type": "code",
   "execution_count": 38,
   "id": "57bc6598",
   "metadata": {
    "execution": {
     "iopub.execute_input": "2022-06-10T23:35:50.441440Z",
     "iopub.status.busy": "2022-06-10T23:35:50.441168Z",
     "iopub.status.idle": "2022-06-10T23:35:50.448451Z",
     "shell.execute_reply": "2022-06-10T23:35:50.447718Z"
    },
    "papermill": {
     "duration": 0.069481,
     "end_time": "2022-06-10T23:35:50.450277",
     "exception": false,
     "start_time": "2022-06-10T23:35:50.380796",
     "status": "completed"
    },
    "tags": []
   },
   "outputs": [],
   "source": [
    "test[\"inputs\"] = test[\"section_title\"].apply(clean) + \" [SEP] \" + test[\"anchor\"] + \" [SEP] \" + test[\"target\"]"
   ]
  },
  {
   "cell_type": "code",
   "execution_count": 39,
   "id": "7f5e2f3c",
   "metadata": {
    "execution": {
     "iopub.execute_input": "2022-06-10T23:35:50.572068Z",
     "iopub.status.busy": "2022-06-10T23:35:50.571809Z",
     "iopub.status.idle": "2022-06-10T23:35:50.579701Z",
     "shell.execute_reply": "2022-06-10T23:35:50.579030Z"
    },
    "papermill": {
     "duration": 0.071201,
     "end_time": "2022-06-10T23:35:50.581431",
     "exception": false,
     "start_time": "2022-06-10T23:35:50.510230",
     "status": "completed"
    },
    "tags": []
   },
   "outputs": [],
   "source": [
    "test_ds = Dataset.from_pandas(test)"
   ]
  },
  {
   "cell_type": "code",
   "execution_count": 40,
   "id": "2931be43",
   "metadata": {
    "execution": {
     "iopub.execute_input": "2022-06-10T23:35:50.704464Z",
     "iopub.status.busy": "2022-06-10T23:35:50.703836Z",
     "iopub.status.idle": "2022-06-10T23:35:50.709011Z",
     "shell.execute_reply": "2022-06-10T23:35:50.708339Z"
    },
    "papermill": {
     "duration": 0.070089,
     "end_time": "2022-06-10T23:35:50.711242",
     "exception": false,
     "start_time": "2022-06-10T23:35:50.641153",
     "status": "completed"
    },
    "tags": []
   },
   "outputs": [
    {
     "data": {
      "text/plain": [
       "Dataset({\n",
       "    features: ['id', 'anchor', 'target', 'context', 'section', 'context_title', 'section_title', 'inputs', '__index_level_0__'],\n",
       "    num_rows: 36\n",
       "})"
      ]
     },
     "execution_count": 40,
     "metadata": {},
     "output_type": "execute_result"
    }
   ],
   "source": [
    "test_ds"
   ]
  },
  {
   "cell_type": "code",
   "execution_count": 41,
   "id": "c546e1a6",
   "metadata": {
    "execution": {
     "iopub.execute_input": "2022-06-10T23:35:50.835595Z",
     "iopub.status.busy": "2022-06-10T23:35:50.834870Z",
     "iopub.status.idle": "2022-06-10T23:35:51.927244Z",
     "shell.execute_reply": "2022-06-10T23:35:51.926603Z"
    },
    "papermill": {
     "duration": 1.15745,
     "end_time": "2022-06-10T23:35:51.928992",
     "exception": false,
     "start_time": "2022-06-10T23:35:50.771542",
     "status": "completed"
    },
    "tags": []
   },
   "outputs": [
    {
     "data": {
      "application/vnd.jupyter.widget-view+json": {
       "model_id": "2ed78622ac7e4604a8d817725080067d",
       "version_major": 2,
       "version_minor": 0
      },
      "text/plain": [
       "  0%|          | 0/1 [00:00<?, ?ba/s]"
      ]
     },
     "metadata": {},
     "output_type": "display_data"
    }
   ],
   "source": [
    "inps = \"anchor\",\"target\",\"context\",\"context_title\",\"section_title\"\n",
    "test_tok_ds = test_ds.map(tok_func, batched=True, remove_columns=inps+('inputs','id','section'))"
   ]
  },
  {
   "cell_type": "code",
   "execution_count": 42,
   "id": "c994c679",
   "metadata": {
    "execution": {
     "iopub.execute_input": "2022-06-10T23:35:52.050602Z",
     "iopub.status.busy": "2022-06-10T23:35:52.050399Z",
     "iopub.status.idle": "2022-06-10T23:35:52.092942Z",
     "shell.execute_reply": "2022-06-10T23:35:52.092039Z"
    },
    "papermill": {
     "duration": 0.104805,
     "end_time": "2022-06-10T23:35:52.094842",
     "exception": false,
     "start_time": "2022-06-10T23:35:51.990037",
     "status": "completed"
    },
    "tags": []
   },
   "outputs": [
    {
     "data": {
      "text/html": [
       "\n",
       "    <div>\n",
       "      \n",
       "      <progress value='1' max='1' style='width:300px; height:20px; vertical-align: middle;'></progress>\n",
       "      [1/1 : < :]\n",
       "    </div>\n",
       "    "
      ],
      "text/plain": [
       "<IPython.core.display.HTML object>"
      ]
     },
     "metadata": {},
     "output_type": "display_data"
    },
    {
     "data": {
      "text/plain": [
       "array([[ 0.53923142],\n",
       "       [ 0.85298049],\n",
       "       [ 0.31983212],\n",
       "       [ 0.36495647],\n",
       "       [ 0.18946397],\n",
       "       [ 0.702847  ],\n",
       "       [ 0.54116148],\n",
       "       [ 0.72308135],\n",
       "       [ 1.07947719],\n",
       "       [ 0.23125757],\n",
       "       [ 0.25740179],\n",
       "       [ 0.56247634],\n",
       "       [-0.02564822],\n",
       "       [ 0.19008911],\n",
       "       [ 0.60096627],\n",
       "       [-0.04830486],\n",
       "       [ 0.18783677],\n",
       "       [ 0.78126013],\n",
       "       [ 0.85516119],\n",
       "       [-0.03089761],\n",
       "       [ 0.2711083 ],\n",
       "       [ 0.28160259],\n",
       "       [-0.03539699],\n",
       "       [ 0.27376983],\n",
       "       [-0.03780739],\n",
       "       [ 0.34644434],\n",
       "       [ 0.39110672],\n",
       "       [ 0.54413128],\n",
       "       [ 0.32073078],\n",
       "       [ 0.27651149],\n",
       "       [ 0.34499526],\n",
       "       [ 0.25509268],\n",
       "       [-0.02622694],\n",
       "       [ 0.27806762],\n",
       "       [-0.02011129],\n",
       "       [-0.03646948]])"
      ]
     },
     "execution_count": 42,
     "metadata": {},
     "output_type": "execute_result"
    }
   ],
   "source": [
    "preds = trainer.predict(test_tok_ds).predictions.astype(float)\n",
    "preds"
   ]
  },
  {
   "cell_type": "code",
   "execution_count": 43,
   "id": "fb70c4a5",
   "metadata": {
    "execution": {
     "iopub.execute_input": "2022-06-10T23:35:52.217267Z",
     "iopub.status.busy": "2022-06-10T23:35:52.217080Z",
     "iopub.status.idle": "2022-06-10T23:35:52.221644Z",
     "shell.execute_reply": "2022-06-10T23:35:52.221010Z"
    },
    "papermill": {
     "duration": 0.06716,
     "end_time": "2022-06-10T23:35:52.223286",
     "exception": false,
     "start_time": "2022-06-10T23:35:52.156126",
     "status": "completed"
    },
    "tags": []
   },
   "outputs": [
    {
     "data": {
      "text/plain": [
       "numpy.ndarray"
      ]
     },
     "execution_count": 43,
     "metadata": {},
     "output_type": "execute_result"
    }
   ],
   "source": [
    "type(preds)"
   ]
  },
  {
   "cell_type": "code",
   "execution_count": 44,
   "id": "2b7c1d19",
   "metadata": {
    "execution": {
     "iopub.execute_input": "2022-06-10T23:35:52.346571Z",
     "iopub.status.busy": "2022-06-10T23:35:52.346024Z",
     "iopub.status.idle": "2022-06-10T23:35:52.349800Z",
     "shell.execute_reply": "2022-06-10T23:35:52.349096Z"
    },
    "papermill": {
     "duration": 0.067891,
     "end_time": "2022-06-10T23:35:52.351415",
     "exception": false,
     "start_time": "2022-06-10T23:35:52.283524",
     "status": "completed"
    },
    "tags": []
   },
   "outputs": [],
   "source": [
    "df_submission = pd.DataFrame()"
   ]
  },
  {
   "cell_type": "code",
   "execution_count": 45,
   "id": "3ec256e2",
   "metadata": {
    "execution": {
     "iopub.execute_input": "2022-06-10T23:35:52.474178Z",
     "iopub.status.busy": "2022-06-10T23:35:52.473606Z",
     "iopub.status.idle": "2022-06-10T23:35:52.479011Z",
     "shell.execute_reply": "2022-06-10T23:35:52.478328Z"
    },
    "papermill": {
     "duration": 0.067968,
     "end_time": "2022-06-10T23:35:52.480662",
     "exception": false,
     "start_time": "2022-06-10T23:35:52.412694",
     "status": "completed"
    },
    "tags": []
   },
   "outputs": [],
   "source": [
    "df_submission['id'] = test['id'].copy()"
   ]
  },
  {
   "cell_type": "code",
   "execution_count": 46,
   "id": "06526e0c",
   "metadata": {
    "execution": {
     "iopub.execute_input": "2022-06-10T23:35:52.603883Z",
     "iopub.status.busy": "2022-06-10T23:35:52.603679Z",
     "iopub.status.idle": "2022-06-10T23:35:52.612276Z",
     "shell.execute_reply": "2022-06-10T23:35:52.611657Z"
    },
    "papermill": {
     "duration": 0.072692,
     "end_time": "2022-06-10T23:35:52.614057",
     "exception": false,
     "start_time": "2022-06-10T23:35:52.541365",
     "status": "completed"
    },
    "tags": []
   },
   "outputs": [
    {
     "data": {
      "text/html": [
       "<div>\n",
       "<style scoped>\n",
       "    .dataframe tbody tr th:only-of-type {\n",
       "        vertical-align: middle;\n",
       "    }\n",
       "\n",
       "    .dataframe tbody tr th {\n",
       "        vertical-align: top;\n",
       "    }\n",
       "\n",
       "    .dataframe thead th {\n",
       "        text-align: right;\n",
       "    }\n",
       "</style>\n",
       "<table border=\"1\" class=\"dataframe\">\n",
       "  <thead>\n",
       "    <tr style=\"text-align: right;\">\n",
       "      <th></th>\n",
       "      <th>id</th>\n",
       "    </tr>\n",
       "  </thead>\n",
       "  <tbody>\n",
       "    <tr>\n",
       "      <th>0</th>\n",
       "      <td>4112d61851461f60</td>\n",
       "    </tr>\n",
       "    <tr>\n",
       "      <th>1</th>\n",
       "      <td>5203a36c501f1b7c</td>\n",
       "    </tr>\n",
       "    <tr>\n",
       "      <th>2</th>\n",
       "      <td>7aa5908a77a7ec24</td>\n",
       "    </tr>\n",
       "    <tr>\n",
       "      <th>3</th>\n",
       "      <td>442c114ed5c4e3c9</td>\n",
       "    </tr>\n",
       "    <tr>\n",
       "      <th>4</th>\n",
       "      <td>12ca31f018a2e2b9</td>\n",
       "    </tr>\n",
       "    <tr>\n",
       "      <th>5</th>\n",
       "      <td>9f2279ce667b21dc</td>\n",
       "    </tr>\n",
       "    <tr>\n",
       "      <th>6</th>\n",
       "      <td>b9ea2b06a878df6f</td>\n",
       "    </tr>\n",
       "    <tr>\n",
       "      <th>7</th>\n",
       "      <td>09e418c93a776564</td>\n",
       "    </tr>\n",
       "    <tr>\n",
       "      <th>8</th>\n",
       "      <td>ae0262c02566d2ce</td>\n",
       "    </tr>\n",
       "    <tr>\n",
       "      <th>9</th>\n",
       "      <td>03ba802ed4029e4d</td>\n",
       "    </tr>\n",
       "    <tr>\n",
       "      <th>10</th>\n",
       "      <td>25522ee5411e63e9</td>\n",
       "    </tr>\n",
       "    <tr>\n",
       "      <th>11</th>\n",
       "      <td>c404f8b378cbb008</td>\n",
       "    </tr>\n",
       "    <tr>\n",
       "      <th>12</th>\n",
       "      <td>26c3c6dc6174b589</td>\n",
       "    </tr>\n",
       "    <tr>\n",
       "      <th>13</th>\n",
       "      <td>36baf228038e314b</td>\n",
       "    </tr>\n",
       "    <tr>\n",
       "      <th>14</th>\n",
       "      <td>b892011ab2e2cabc</td>\n",
       "    </tr>\n",
       "    <tr>\n",
       "      <th>15</th>\n",
       "      <td>b8ae62ea5e1d8bdb</td>\n",
       "    </tr>\n",
       "    <tr>\n",
       "      <th>16</th>\n",
       "      <td>a8808e31641e856d</td>\n",
       "    </tr>\n",
       "    <tr>\n",
       "      <th>17</th>\n",
       "      <td>25c555ca3d5a2092</td>\n",
       "    </tr>\n",
       "    <tr>\n",
       "      <th>18</th>\n",
       "      <td>b9fdc772bb8fd61c</td>\n",
       "    </tr>\n",
       "    <tr>\n",
       "      <th>19</th>\n",
       "      <td>de51114bc0faec3e</td>\n",
       "    </tr>\n",
       "    <tr>\n",
       "      <th>20</th>\n",
       "      <td>8247ff562ca185cc</td>\n",
       "    </tr>\n",
       "    <tr>\n",
       "      <th>21</th>\n",
       "      <td>1f37ead645e7f0c8</td>\n",
       "    </tr>\n",
       "    <tr>\n",
       "      <th>22</th>\n",
       "      <td>71a5b6ad068d531f</td>\n",
       "    </tr>\n",
       "    <tr>\n",
       "      <th>23</th>\n",
       "      <td>16ae4b99d3601e60</td>\n",
       "    </tr>\n",
       "    <tr>\n",
       "      <th>24</th>\n",
       "      <td>fd83613b7843f5e1</td>\n",
       "    </tr>\n",
       "    <tr>\n",
       "      <th>25</th>\n",
       "      <td>733979d75f59770d</td>\n",
       "    </tr>\n",
       "    <tr>\n",
       "      <th>26</th>\n",
       "      <td>79795133c30ef097</td>\n",
       "    </tr>\n",
       "    <tr>\n",
       "      <th>27</th>\n",
       "      <td>474c874d0c07bd21</td>\n",
       "    </tr>\n",
       "    <tr>\n",
       "      <th>28</th>\n",
       "      <td>faaddaf8fcba8a3f</td>\n",
       "    </tr>\n",
       "    <tr>\n",
       "      <th>29</th>\n",
       "      <td>2a619016908bfa45</td>\n",
       "    </tr>\n",
       "    <tr>\n",
       "      <th>30</th>\n",
       "      <td>6546846df17f9800</td>\n",
       "    </tr>\n",
       "    <tr>\n",
       "      <th>31</th>\n",
       "      <td>d19ef3979396d47e</td>\n",
       "    </tr>\n",
       "    <tr>\n",
       "      <th>32</th>\n",
       "      <td>7e3aff857f056bf9</td>\n",
       "    </tr>\n",
       "    <tr>\n",
       "      <th>33</th>\n",
       "      <td>3ff0e7a35015be69</td>\n",
       "    </tr>\n",
       "    <tr>\n",
       "      <th>34</th>\n",
       "      <td>78243984c02a72e4</td>\n",
       "    </tr>\n",
       "    <tr>\n",
       "      <th>35</th>\n",
       "      <td>c057aecbba832387</td>\n",
       "    </tr>\n",
       "  </tbody>\n",
       "</table>\n",
       "</div>"
      ],
      "text/plain": [
       "                  id\n",
       "0   4112d61851461f60\n",
       "1   5203a36c501f1b7c\n",
       "2   7aa5908a77a7ec24\n",
       "3   442c114ed5c4e3c9\n",
       "4   12ca31f018a2e2b9\n",
       "5   9f2279ce667b21dc\n",
       "6   b9ea2b06a878df6f\n",
       "7   09e418c93a776564\n",
       "8   ae0262c02566d2ce\n",
       "9   03ba802ed4029e4d\n",
       "10  25522ee5411e63e9\n",
       "11  c404f8b378cbb008\n",
       "12  26c3c6dc6174b589\n",
       "13  36baf228038e314b\n",
       "14  b892011ab2e2cabc\n",
       "15  b8ae62ea5e1d8bdb\n",
       "16  a8808e31641e856d\n",
       "17  25c555ca3d5a2092\n",
       "18  b9fdc772bb8fd61c\n",
       "19  de51114bc0faec3e\n",
       "20  8247ff562ca185cc\n",
       "21  1f37ead645e7f0c8\n",
       "22  71a5b6ad068d531f\n",
       "23  16ae4b99d3601e60\n",
       "24  fd83613b7843f5e1\n",
       "25  733979d75f59770d\n",
       "26  79795133c30ef097\n",
       "27  474c874d0c07bd21\n",
       "28  faaddaf8fcba8a3f\n",
       "29  2a619016908bfa45\n",
       "30  6546846df17f9800\n",
       "31  d19ef3979396d47e\n",
       "32  7e3aff857f056bf9\n",
       "33  3ff0e7a35015be69\n",
       "34  78243984c02a72e4\n",
       "35  c057aecbba832387"
      ]
     },
     "execution_count": 46,
     "metadata": {},
     "output_type": "execute_result"
    }
   ],
   "source": [
    "df_submission"
   ]
  },
  {
   "cell_type": "code",
   "execution_count": 47,
   "id": "9224d626",
   "metadata": {
    "execution": {
     "iopub.execute_input": "2022-06-10T23:35:52.740916Z",
     "iopub.status.busy": "2022-06-10T23:35:52.740295Z",
     "iopub.status.idle": "2022-06-10T23:35:52.743890Z",
     "shell.execute_reply": "2022-06-10T23:35:52.743206Z"
    },
    "papermill": {
     "duration": 0.069498,
     "end_time": "2022-06-10T23:35:52.745785",
     "exception": false,
     "start_time": "2022-06-10T23:35:52.676287",
     "status": "completed"
    },
    "tags": []
   },
   "outputs": [],
   "source": [
    "preds_list = preds.tolist()"
   ]
  },
  {
   "cell_type": "code",
   "execution_count": 48,
   "id": "e50077e3",
   "metadata": {
    "execution": {
     "iopub.execute_input": "2022-06-10T23:35:52.872258Z",
     "iopub.status.busy": "2022-06-10T23:35:52.871639Z",
     "iopub.status.idle": "2022-06-10T23:35:52.877087Z",
     "shell.execute_reply": "2022-06-10T23:35:52.876440Z"
    },
    "papermill": {
     "duration": 0.070491,
     "end_time": "2022-06-10T23:35:52.879152",
     "exception": false,
     "start_time": "2022-06-10T23:35:52.808661",
     "status": "completed"
    },
    "tags": []
   },
   "outputs": [
    {
     "data": {
      "text/plain": [
       "[[0.5392314195632935],\n",
       " [0.8529804944992065],\n",
       " [0.31983211636543274],\n",
       " [0.36495646834373474],\n",
       " [0.18946397304534912],\n",
       " [0.7028470039367676],\n",
       " [0.5411614775657654],\n",
       " [0.7230813503265381],\n",
       " [1.0794771909713745],\n",
       " [0.2312575727701187],\n",
       " [0.25740179419517517],\n",
       " [0.5624763369560242],\n",
       " [-0.025648223236203194],\n",
       " [0.19008910655975342],\n",
       " [0.6009662747383118],\n",
       " [-0.04830486327409744],\n",
       " [0.18783676624298096],\n",
       " [0.7812601327896118],\n",
       " [0.855161190032959],\n",
       " [-0.030897611752152443],\n",
       " [0.2711082994937897],\n",
       " [0.2816025912761688],\n",
       " [-0.035396985709667206],\n",
       " [0.2737698256969452],\n",
       " [-0.037807393819093704],\n",
       " [0.34644433856010437],\n",
       " [0.3911067247390747],\n",
       " [0.5441312789916992],\n",
       " [0.3207307755947113],\n",
       " [0.2765114903450012],\n",
       " [0.34499526023864746],\n",
       " [0.25509268045425415],\n",
       " [-0.026226935908198357],\n",
       " [0.27806761860847473],\n",
       " [-0.020111290737986565],\n",
       " [-0.0364694818854332]]"
      ]
     },
     "execution_count": 48,
     "metadata": {},
     "output_type": "execute_result"
    }
   ],
   "source": [
    "preds_list"
   ]
  },
  {
   "cell_type": "code",
   "execution_count": 49,
   "id": "8bb3d486",
   "metadata": {
    "execution": {
     "iopub.execute_input": "2022-06-10T23:35:53.112408Z",
     "iopub.status.busy": "2022-06-10T23:35:53.112156Z",
     "iopub.status.idle": "2022-06-10T23:35:53.117876Z",
     "shell.execute_reply": "2022-06-10T23:35:53.117179Z"
    },
    "papermill": {
     "duration": 0.098238,
     "end_time": "2022-06-10T23:35:53.120076",
     "exception": false,
     "start_time": "2022-06-10T23:35:53.021838",
     "status": "completed"
    },
    "tags": []
   },
   "outputs": [
    {
     "data": {
      "text/plain": [
       "[0.5392314195632935,\n",
       " 0.8529804944992065,\n",
       " 0.31983211636543274,\n",
       " 0.36495646834373474,\n",
       " 0.18946397304534912,\n",
       " 0.7028470039367676,\n",
       " 0.5411614775657654,\n",
       " 0.7230813503265381,\n",
       " 1.0794771909713745,\n",
       " 0.2312575727701187,\n",
       " 0.25740179419517517,\n",
       " 0.5624763369560242,\n",
       " -0.025648223236203194,\n",
       " 0.19008910655975342,\n",
       " 0.6009662747383118,\n",
       " -0.04830486327409744,\n",
       " 0.18783676624298096,\n",
       " 0.7812601327896118,\n",
       " 0.855161190032959,\n",
       " -0.030897611752152443,\n",
       " 0.2711082994937897,\n",
       " 0.2816025912761688,\n",
       " -0.035396985709667206,\n",
       " 0.2737698256969452,\n",
       " -0.037807393819093704,\n",
       " 0.34644433856010437,\n",
       " 0.3911067247390747,\n",
       " 0.5441312789916992,\n",
       " 0.3207307755947113,\n",
       " 0.2765114903450012,\n",
       " 0.34499526023864746,\n",
       " 0.25509268045425415,\n",
       " -0.026226935908198357,\n",
       " 0.27806761860847473,\n",
       " -0.020111290737986565,\n",
       " -0.0364694818854332]"
      ]
     },
     "execution_count": 49,
     "metadata": {},
     "output_type": "execute_result"
    }
   ],
   "source": [
    "flat_list = [x for xs in preds_list for x in xs]\n",
    "flat_list"
   ]
  },
  {
   "cell_type": "code",
   "execution_count": 50,
   "id": "11f23e72",
   "metadata": {
    "execution": {
     "iopub.execute_input": "2022-06-10T23:35:53.247730Z",
     "iopub.status.busy": "2022-06-10T23:35:53.247486Z",
     "iopub.status.idle": "2022-06-10T23:35:53.251812Z",
     "shell.execute_reply": "2022-06-10T23:35:53.251147Z"
    },
    "papermill": {
     "duration": 0.070797,
     "end_time": "2022-06-10T23:35:53.253470",
     "exception": false,
     "start_time": "2022-06-10T23:35:53.182673",
     "status": "completed"
    },
    "tags": []
   },
   "outputs": [],
   "source": [
    "df_submission['score' ] = flat_list"
   ]
  },
  {
   "cell_type": "code",
   "execution_count": 51,
   "id": "eba1d438",
   "metadata": {
    "execution": {
     "iopub.execute_input": "2022-06-10T23:35:53.380792Z",
     "iopub.status.busy": "2022-06-10T23:35:53.380125Z",
     "iopub.status.idle": "2022-06-10T23:35:53.391168Z",
     "shell.execute_reply": "2022-06-10T23:35:53.390524Z"
    },
    "papermill": {
     "duration": 0.07642,
     "end_time": "2022-06-10T23:35:53.393224",
     "exception": false,
     "start_time": "2022-06-10T23:35:53.316804",
     "status": "completed"
    },
    "tags": []
   },
   "outputs": [
    {
     "data": {
      "text/html": [
       "<div>\n",
       "<style scoped>\n",
       "    .dataframe tbody tr th:only-of-type {\n",
       "        vertical-align: middle;\n",
       "    }\n",
       "\n",
       "    .dataframe tbody tr th {\n",
       "        vertical-align: top;\n",
       "    }\n",
       "\n",
       "    .dataframe thead th {\n",
       "        text-align: right;\n",
       "    }\n",
       "</style>\n",
       "<table border=\"1\" class=\"dataframe\">\n",
       "  <thead>\n",
       "    <tr style=\"text-align: right;\">\n",
       "      <th></th>\n",
       "      <th>id</th>\n",
       "      <th>score</th>\n",
       "    </tr>\n",
       "  </thead>\n",
       "  <tbody>\n",
       "    <tr>\n",
       "      <th>0</th>\n",
       "      <td>4112d61851461f60</td>\n",
       "      <td>0.539231</td>\n",
       "    </tr>\n",
       "    <tr>\n",
       "      <th>1</th>\n",
       "      <td>5203a36c501f1b7c</td>\n",
       "      <td>0.852980</td>\n",
       "    </tr>\n",
       "    <tr>\n",
       "      <th>2</th>\n",
       "      <td>7aa5908a77a7ec24</td>\n",
       "      <td>0.319832</td>\n",
       "    </tr>\n",
       "    <tr>\n",
       "      <th>3</th>\n",
       "      <td>442c114ed5c4e3c9</td>\n",
       "      <td>0.364956</td>\n",
       "    </tr>\n",
       "    <tr>\n",
       "      <th>4</th>\n",
       "      <td>12ca31f018a2e2b9</td>\n",
       "      <td>0.189464</td>\n",
       "    </tr>\n",
       "    <tr>\n",
       "      <th>5</th>\n",
       "      <td>9f2279ce667b21dc</td>\n",
       "      <td>0.702847</td>\n",
       "    </tr>\n",
       "    <tr>\n",
       "      <th>6</th>\n",
       "      <td>b9ea2b06a878df6f</td>\n",
       "      <td>0.541161</td>\n",
       "    </tr>\n",
       "    <tr>\n",
       "      <th>7</th>\n",
       "      <td>09e418c93a776564</td>\n",
       "      <td>0.723081</td>\n",
       "    </tr>\n",
       "    <tr>\n",
       "      <th>8</th>\n",
       "      <td>ae0262c02566d2ce</td>\n",
       "      <td>1.079477</td>\n",
       "    </tr>\n",
       "    <tr>\n",
       "      <th>9</th>\n",
       "      <td>03ba802ed4029e4d</td>\n",
       "      <td>0.231258</td>\n",
       "    </tr>\n",
       "    <tr>\n",
       "      <th>10</th>\n",
       "      <td>25522ee5411e63e9</td>\n",
       "      <td>0.257402</td>\n",
       "    </tr>\n",
       "    <tr>\n",
       "      <th>11</th>\n",
       "      <td>c404f8b378cbb008</td>\n",
       "      <td>0.562476</td>\n",
       "    </tr>\n",
       "    <tr>\n",
       "      <th>12</th>\n",
       "      <td>26c3c6dc6174b589</td>\n",
       "      <td>-0.025648</td>\n",
       "    </tr>\n",
       "    <tr>\n",
       "      <th>13</th>\n",
       "      <td>36baf228038e314b</td>\n",
       "      <td>0.190089</td>\n",
       "    </tr>\n",
       "    <tr>\n",
       "      <th>14</th>\n",
       "      <td>b892011ab2e2cabc</td>\n",
       "      <td>0.600966</td>\n",
       "    </tr>\n",
       "    <tr>\n",
       "      <th>15</th>\n",
       "      <td>b8ae62ea5e1d8bdb</td>\n",
       "      <td>-0.048305</td>\n",
       "    </tr>\n",
       "    <tr>\n",
       "      <th>16</th>\n",
       "      <td>a8808e31641e856d</td>\n",
       "      <td>0.187837</td>\n",
       "    </tr>\n",
       "    <tr>\n",
       "      <th>17</th>\n",
       "      <td>25c555ca3d5a2092</td>\n",
       "      <td>0.781260</td>\n",
       "    </tr>\n",
       "    <tr>\n",
       "      <th>18</th>\n",
       "      <td>b9fdc772bb8fd61c</td>\n",
       "      <td>0.855161</td>\n",
       "    </tr>\n",
       "    <tr>\n",
       "      <th>19</th>\n",
       "      <td>de51114bc0faec3e</td>\n",
       "      <td>-0.030898</td>\n",
       "    </tr>\n",
       "    <tr>\n",
       "      <th>20</th>\n",
       "      <td>8247ff562ca185cc</td>\n",
       "      <td>0.271108</td>\n",
       "    </tr>\n",
       "    <tr>\n",
       "      <th>21</th>\n",
       "      <td>1f37ead645e7f0c8</td>\n",
       "      <td>0.281603</td>\n",
       "    </tr>\n",
       "    <tr>\n",
       "      <th>22</th>\n",
       "      <td>71a5b6ad068d531f</td>\n",
       "      <td>-0.035397</td>\n",
       "    </tr>\n",
       "    <tr>\n",
       "      <th>23</th>\n",
       "      <td>16ae4b99d3601e60</td>\n",
       "      <td>0.273770</td>\n",
       "    </tr>\n",
       "    <tr>\n",
       "      <th>24</th>\n",
       "      <td>fd83613b7843f5e1</td>\n",
       "      <td>-0.037807</td>\n",
       "    </tr>\n",
       "    <tr>\n",
       "      <th>25</th>\n",
       "      <td>733979d75f59770d</td>\n",
       "      <td>0.346444</td>\n",
       "    </tr>\n",
       "    <tr>\n",
       "      <th>26</th>\n",
       "      <td>79795133c30ef097</td>\n",
       "      <td>0.391107</td>\n",
       "    </tr>\n",
       "    <tr>\n",
       "      <th>27</th>\n",
       "      <td>474c874d0c07bd21</td>\n",
       "      <td>0.544131</td>\n",
       "    </tr>\n",
       "    <tr>\n",
       "      <th>28</th>\n",
       "      <td>faaddaf8fcba8a3f</td>\n",
       "      <td>0.320731</td>\n",
       "    </tr>\n",
       "    <tr>\n",
       "      <th>29</th>\n",
       "      <td>2a619016908bfa45</td>\n",
       "      <td>0.276511</td>\n",
       "    </tr>\n",
       "    <tr>\n",
       "      <th>30</th>\n",
       "      <td>6546846df17f9800</td>\n",
       "      <td>0.344995</td>\n",
       "    </tr>\n",
       "    <tr>\n",
       "      <th>31</th>\n",
       "      <td>d19ef3979396d47e</td>\n",
       "      <td>0.255093</td>\n",
       "    </tr>\n",
       "    <tr>\n",
       "      <th>32</th>\n",
       "      <td>7e3aff857f056bf9</td>\n",
       "      <td>-0.026227</td>\n",
       "    </tr>\n",
       "    <tr>\n",
       "      <th>33</th>\n",
       "      <td>3ff0e7a35015be69</td>\n",
       "      <td>0.278068</td>\n",
       "    </tr>\n",
       "    <tr>\n",
       "      <th>34</th>\n",
       "      <td>78243984c02a72e4</td>\n",
       "      <td>-0.020111</td>\n",
       "    </tr>\n",
       "    <tr>\n",
       "      <th>35</th>\n",
       "      <td>c057aecbba832387</td>\n",
       "      <td>-0.036469</td>\n",
       "    </tr>\n",
       "  </tbody>\n",
       "</table>\n",
       "</div>"
      ],
      "text/plain": [
       "                  id     score\n",
       "0   4112d61851461f60  0.539231\n",
       "1   5203a36c501f1b7c  0.852980\n",
       "2   7aa5908a77a7ec24  0.319832\n",
       "3   442c114ed5c4e3c9  0.364956\n",
       "4   12ca31f018a2e2b9  0.189464\n",
       "5   9f2279ce667b21dc  0.702847\n",
       "6   b9ea2b06a878df6f  0.541161\n",
       "7   09e418c93a776564  0.723081\n",
       "8   ae0262c02566d2ce  1.079477\n",
       "9   03ba802ed4029e4d  0.231258\n",
       "10  25522ee5411e63e9  0.257402\n",
       "11  c404f8b378cbb008  0.562476\n",
       "12  26c3c6dc6174b589 -0.025648\n",
       "13  36baf228038e314b  0.190089\n",
       "14  b892011ab2e2cabc  0.600966\n",
       "15  b8ae62ea5e1d8bdb -0.048305\n",
       "16  a8808e31641e856d  0.187837\n",
       "17  25c555ca3d5a2092  0.781260\n",
       "18  b9fdc772bb8fd61c  0.855161\n",
       "19  de51114bc0faec3e -0.030898\n",
       "20  8247ff562ca185cc  0.271108\n",
       "21  1f37ead645e7f0c8  0.281603\n",
       "22  71a5b6ad068d531f -0.035397\n",
       "23  16ae4b99d3601e60  0.273770\n",
       "24  fd83613b7843f5e1 -0.037807\n",
       "25  733979d75f59770d  0.346444\n",
       "26  79795133c30ef097  0.391107\n",
       "27  474c874d0c07bd21  0.544131\n",
       "28  faaddaf8fcba8a3f  0.320731\n",
       "29  2a619016908bfa45  0.276511\n",
       "30  6546846df17f9800  0.344995\n",
       "31  d19ef3979396d47e  0.255093\n",
       "32  7e3aff857f056bf9 -0.026227\n",
       "33  3ff0e7a35015be69  0.278068\n",
       "34  78243984c02a72e4 -0.020111\n",
       "35  c057aecbba832387 -0.036469"
      ]
     },
     "execution_count": 51,
     "metadata": {},
     "output_type": "execute_result"
    }
   ],
   "source": [
    "df_submission"
   ]
  },
  {
   "cell_type": "code",
   "execution_count": 52,
   "id": "2497c267",
   "metadata": {
    "execution": {
     "iopub.execute_input": "2022-06-10T23:35:53.526161Z",
     "iopub.status.busy": "2022-06-10T23:35:53.525448Z",
     "iopub.status.idle": "2022-06-10T23:35:53.528769Z",
     "shell.execute_reply": "2022-06-10T23:35:53.528067Z"
    },
    "papermill": {
     "duration": 0.071319,
     "end_time": "2022-06-10T23:35:53.530411",
     "exception": false,
     "start_time": "2022-06-10T23:35:53.459092",
     "status": "completed"
    },
    "tags": []
   },
   "outputs": [],
   "source": [
    "#preds = np.clip(preds, 0, 1)\n",
    "#preds"
   ]
  },
  {
   "cell_type": "code",
   "execution_count": 53,
   "id": "d2ed0b93",
   "metadata": {
    "execution": {
     "iopub.execute_input": "2022-06-10T23:35:53.659082Z",
     "iopub.status.busy": "2022-06-10T23:35:53.658577Z",
     "iopub.status.idle": "2022-06-10T23:35:53.666917Z",
     "shell.execute_reply": "2022-06-10T23:35:53.666255Z"
    },
    "papermill": {
     "duration": 0.074674,
     "end_time": "2022-06-10T23:35:53.668756",
     "exception": false,
     "start_time": "2022-06-10T23:35:53.594082",
     "status": "completed"
    },
    "tags": []
   },
   "outputs": [],
   "source": [
    "#submission = datasets.Dataset.from_dict({\n",
    "  #  'id': test_ds['id'],\n",
    " #   'score': preds\n",
    "#})\n",
    "\n",
    "df_submission.to_csv('submission.csv', index=False)"
   ]
  }
 ],
 "metadata": {
  "kernelspec": {
   "display_name": "Python 3",
   "language": "python",
   "name": "python3"
  },
  "language_info": {
   "codemirror_mode": {
    "name": "ipython",
    "version": 3
   },
   "file_extension": ".py",
   "mimetype": "text/x-python",
   "name": "python",
   "nbconvert_exporter": "python",
   "pygments_lexer": "ipython3",
   "version": "3.7.12"
  },
  "papermill": {
   "default_parameters": {},
   "duration": 319.698503,
   "end_time": "2022-06-10T23:35:56.973270",
   "environment_variables": {},
   "exception": null,
   "input_path": "__notebook__.ipynb",
   "output_path": "__notebook__.ipynb",
   "parameters": {},
   "start_time": "2022-06-10T23:30:37.274767",
   "version": "2.3.4"
  },
  "widgets": {
   "application/vnd.jupyter.widget-state+json": {
    "state": {
     "05db6a2d90174f1497f8daadefdb8e23": {
      "model_module": "@jupyter-widgets/base",
      "model_module_version": "1.2.0",
      "model_name": "LayoutModel",
      "state": {
       "_model_module": "@jupyter-widgets/base",
       "_model_module_version": "1.2.0",
       "_model_name": "LayoutModel",
       "_view_count": null,
       "_view_module": "@jupyter-widgets/base",
       "_view_module_version": "1.2.0",
       "_view_name": "LayoutView",
       "align_content": null,
       "align_items": null,
       "align_self": null,
       "border": null,
       "bottom": null,
       "display": null,
       "flex": null,
       "flex_flow": null,
       "grid_area": null,
       "grid_auto_columns": null,
       "grid_auto_flow": null,
       "grid_auto_rows": null,
       "grid_column": null,
       "grid_gap": null,
       "grid_row": null,
       "grid_template_areas": null,
       "grid_template_columns": null,
       "grid_template_rows": null,
       "height": null,
       "justify_content": null,
       "justify_items": null,
       "left": null,
       "margin": null,
       "max_height": null,
       "max_width": null,
       "min_height": null,
       "min_width": null,
       "object_fit": null,
       "object_position": null,
       "order": null,
       "overflow": null,
       "overflow_x": null,
       "overflow_y": null,
       "padding": null,
       "right": null,
       "top": null,
       "visibility": null,
       "width": null
      }
     },
     "1974f5fda83d41ac98dc9eeaa2286e57": {
      "model_module": "@jupyter-widgets/controls",
      "model_module_version": "1.5.0",
      "model_name": "DescriptionStyleModel",
      "state": {
       "_model_module": "@jupyter-widgets/controls",
       "_model_module_version": "1.5.0",
       "_model_name": "DescriptionStyleModel",
       "_view_count": null,
       "_view_module": "@jupyter-widgets/base",
       "_view_module_version": "1.2.0",
       "_view_name": "StyleView",
       "description_width": ""
      }
     },
     "290877cbf4004aacbaf97b51f3818463": {
      "model_module": "@jupyter-widgets/controls",
      "model_module_version": "1.5.0",
      "model_name": "ProgressStyleModel",
      "state": {
       "_model_module": "@jupyter-widgets/controls",
       "_model_module_version": "1.5.0",
       "_model_name": "ProgressStyleModel",
       "_view_count": null,
       "_view_module": "@jupyter-widgets/base",
       "_view_module_version": "1.2.0",
       "_view_name": "StyleView",
       "bar_color": null,
       "description_width": ""
      }
     },
     "2ed78622ac7e4604a8d817725080067d": {
      "model_module": "@jupyter-widgets/controls",
      "model_module_version": "1.5.0",
      "model_name": "HBoxModel",
      "state": {
       "_dom_classes": [],
       "_model_module": "@jupyter-widgets/controls",
       "_model_module_version": "1.5.0",
       "_model_name": "HBoxModel",
       "_view_count": null,
       "_view_module": "@jupyter-widgets/controls",
       "_view_module_version": "1.5.0",
       "_view_name": "HBoxView",
       "box_style": "",
       "children": [
        "IPY_MODEL_6886eb5529694738aa7a99cffb380ecf",
        "IPY_MODEL_bbfc01f5dc744692981011e9da55b396",
        "IPY_MODEL_c90c36c10ad94b21a83989ae47f63706"
       ],
       "layout": "IPY_MODEL_3c3abcf9e4e14003a06d55b1961f87fa"
      }
     },
     "3c3abcf9e4e14003a06d55b1961f87fa": {
      "model_module": "@jupyter-widgets/base",
      "model_module_version": "1.2.0",
      "model_name": "LayoutModel",
      "state": {
       "_model_module": "@jupyter-widgets/base",
       "_model_module_version": "1.2.0",
       "_model_name": "LayoutModel",
       "_view_count": null,
       "_view_module": "@jupyter-widgets/base",
       "_view_module_version": "1.2.0",
       "_view_name": "LayoutView",
       "align_content": null,
       "align_items": null,
       "align_self": null,
       "border": null,
       "bottom": null,
       "display": null,
       "flex": null,
       "flex_flow": null,
       "grid_area": null,
       "grid_auto_columns": null,
       "grid_auto_flow": null,
       "grid_auto_rows": null,
       "grid_column": null,
       "grid_gap": null,
       "grid_row": null,
       "grid_template_areas": null,
       "grid_template_columns": null,
       "grid_template_rows": null,
       "height": null,
       "justify_content": null,
       "justify_items": null,
       "left": null,
       "margin": null,
       "max_height": null,
       "max_width": null,
       "min_height": null,
       "min_width": null,
       "object_fit": null,
       "object_position": null,
       "order": null,
       "overflow": null,
       "overflow_x": null,
       "overflow_y": null,
       "padding": null,
       "right": null,
       "top": null,
       "visibility": null,
       "width": null
      }
     },
     "409561f114f1451eadce458fafad96c7": {
      "model_module": "@jupyter-widgets/base",
      "model_module_version": "1.2.0",
      "model_name": "LayoutModel",
      "state": {
       "_model_module": "@jupyter-widgets/base",
       "_model_module_version": "1.2.0",
       "_model_name": "LayoutModel",
       "_view_count": null,
       "_view_module": "@jupyter-widgets/base",
       "_view_module_version": "1.2.0",
       "_view_name": "LayoutView",
       "align_content": null,
       "align_items": null,
       "align_self": null,
       "border": null,
       "bottom": null,
       "display": null,
       "flex": null,
       "flex_flow": null,
       "grid_area": null,
       "grid_auto_columns": null,
       "grid_auto_flow": null,
       "grid_auto_rows": null,
       "grid_column": null,
       "grid_gap": null,
       "grid_row": null,
       "grid_template_areas": null,
       "grid_template_columns": null,
       "grid_template_rows": null,
       "height": null,
       "justify_content": null,
       "justify_items": null,
       "left": null,
       "margin": null,
       "max_height": null,
       "max_width": null,
       "min_height": null,
       "min_width": null,
       "object_fit": null,
       "object_position": null,
       "order": null,
       "overflow": null,
       "overflow_x": null,
       "overflow_y": null,
       "padding": null,
       "right": null,
       "top": null,
       "visibility": null,
       "width": null
      }
     },
     "6886eb5529694738aa7a99cffb380ecf": {
      "model_module": "@jupyter-widgets/controls",
      "model_module_version": "1.5.0",
      "model_name": "HTMLModel",
      "state": {
       "_dom_classes": [],
       "_model_module": "@jupyter-widgets/controls",
       "_model_module_version": "1.5.0",
       "_model_name": "HTMLModel",
       "_view_count": null,
       "_view_module": "@jupyter-widgets/controls",
       "_view_module_version": "1.5.0",
       "_view_name": "HTMLView",
       "description": "",
       "description_tooltip": null,
       "layout": "IPY_MODEL_f7ab05f8ddd74f4fb623ea659cc23a7d",
       "placeholder": "​",
       "style": "IPY_MODEL_90e6dcfb31b7427aa0a1c989d9874fd4",
       "value": "100%"
      }
     },
     "6b96a83a6c7f4c19b1f470faa35e0585": {
      "model_module": "@jupyter-widgets/controls",
      "model_module_version": "1.5.0",
      "model_name": "DescriptionStyleModel",
      "state": {
       "_model_module": "@jupyter-widgets/controls",
       "_model_module_version": "1.5.0",
       "_model_name": "DescriptionStyleModel",
       "_view_count": null,
       "_view_module": "@jupyter-widgets/base",
       "_view_module_version": "1.2.0",
       "_view_name": "StyleView",
       "description_width": ""
      }
     },
     "6c875fb6f371487d8bfdc3249600d48e": {
      "model_module": "@jupyter-widgets/controls",
      "model_module_version": "1.5.0",
      "model_name": "HBoxModel",
      "state": {
       "_dom_classes": [],
       "_model_module": "@jupyter-widgets/controls",
       "_model_module_version": "1.5.0",
       "_model_name": "HBoxModel",
       "_view_count": null,
       "_view_module": "@jupyter-widgets/controls",
       "_view_module_version": "1.5.0",
       "_view_name": "HBoxView",
       "box_style": "",
       "children": [
        "IPY_MODEL_858dac5150574164b7f9bb826dbda87e",
        "IPY_MODEL_a263382844f746bc857e1b7903bc254c",
        "IPY_MODEL_d016c10850c34f5585313a1a1d7f6c95"
       ],
       "layout": "IPY_MODEL_05db6a2d90174f1497f8daadefdb8e23"
      }
     },
     "7a6b83c7e2f147cabf47c3eb1f79fda8": {
      "model_module": "@jupyter-widgets/controls",
      "model_module_version": "1.5.0",
      "model_name": "ProgressStyleModel",
      "state": {
       "_model_module": "@jupyter-widgets/controls",
       "_model_module_version": "1.5.0",
       "_model_name": "ProgressStyleModel",
       "_view_count": null,
       "_view_module": "@jupyter-widgets/base",
       "_view_module_version": "1.2.0",
       "_view_name": "StyleView",
       "bar_color": null,
       "description_width": ""
      }
     },
     "858dac5150574164b7f9bb826dbda87e": {
      "model_module": "@jupyter-widgets/controls",
      "model_module_version": "1.5.0",
      "model_name": "HTMLModel",
      "state": {
       "_dom_classes": [],
       "_model_module": "@jupyter-widgets/controls",
       "_model_module_version": "1.5.0",
       "_model_name": "HTMLModel",
       "_view_count": null,
       "_view_module": "@jupyter-widgets/controls",
       "_view_module_version": "1.5.0",
       "_view_name": "HTMLView",
       "description": "",
       "description_tooltip": null,
       "layout": "IPY_MODEL_9cff0bd7b9634928a7539ceadfbd3537",
       "placeholder": "​",
       "style": "IPY_MODEL_bb8dbbcf3d7742a6b66cbd3ec46d3abc",
       "value": "100%"
      }
     },
     "90e6dcfb31b7427aa0a1c989d9874fd4": {
      "model_module": "@jupyter-widgets/controls",
      "model_module_version": "1.5.0",
      "model_name": "DescriptionStyleModel",
      "state": {
       "_model_module": "@jupyter-widgets/controls",
       "_model_module_version": "1.5.0",
       "_model_name": "DescriptionStyleModel",
       "_view_count": null,
       "_view_module": "@jupyter-widgets/base",
       "_view_module_version": "1.2.0",
       "_view_name": "StyleView",
       "description_width": ""
      }
     },
     "9cff0bd7b9634928a7539ceadfbd3537": {
      "model_module": "@jupyter-widgets/base",
      "model_module_version": "1.2.0",
      "model_name": "LayoutModel",
      "state": {
       "_model_module": "@jupyter-widgets/base",
       "_model_module_version": "1.2.0",
       "_model_name": "LayoutModel",
       "_view_count": null,
       "_view_module": "@jupyter-widgets/base",
       "_view_module_version": "1.2.0",
       "_view_name": "LayoutView",
       "align_content": null,
       "align_items": null,
       "align_self": null,
       "border": null,
       "bottom": null,
       "display": null,
       "flex": null,
       "flex_flow": null,
       "grid_area": null,
       "grid_auto_columns": null,
       "grid_auto_flow": null,
       "grid_auto_rows": null,
       "grid_column": null,
       "grid_gap": null,
       "grid_row": null,
       "grid_template_areas": null,
       "grid_template_columns": null,
       "grid_template_rows": null,
       "height": null,
       "justify_content": null,
       "justify_items": null,
       "left": null,
       "margin": null,
       "max_height": null,
       "max_width": null,
       "min_height": null,
       "min_width": null,
       "object_fit": null,
       "object_position": null,
       "order": null,
       "overflow": null,
       "overflow_x": null,
       "overflow_y": null,
       "padding": null,
       "right": null,
       "top": null,
       "visibility": null,
       "width": null
      }
     },
     "a263382844f746bc857e1b7903bc254c": {
      "model_module": "@jupyter-widgets/controls",
      "model_module_version": "1.5.0",
      "model_name": "FloatProgressModel",
      "state": {
       "_dom_classes": [],
       "_model_module": "@jupyter-widgets/controls",
       "_model_module_version": "1.5.0",
       "_model_name": "FloatProgressModel",
       "_view_count": null,
       "_view_module": "@jupyter-widgets/controls",
       "_view_module_version": "1.5.0",
       "_view_name": "ProgressView",
       "bar_style": "success",
       "description": "",
       "description_tooltip": null,
       "layout": "IPY_MODEL_409561f114f1451eadce458fafad96c7",
       "max": 37.0,
       "min": 0.0,
       "orientation": "horizontal",
       "style": "IPY_MODEL_290877cbf4004aacbaf97b51f3818463",
       "value": 37.0
      }
     },
     "bb8dbbcf3d7742a6b66cbd3ec46d3abc": {
      "model_module": "@jupyter-widgets/controls",
      "model_module_version": "1.5.0",
      "model_name": "DescriptionStyleModel",
      "state": {
       "_model_module": "@jupyter-widgets/controls",
       "_model_module_version": "1.5.0",
       "_model_name": "DescriptionStyleModel",
       "_view_count": null,
       "_view_module": "@jupyter-widgets/base",
       "_view_module_version": "1.2.0",
       "_view_name": "StyleView",
       "description_width": ""
      }
     },
     "bbfc01f5dc744692981011e9da55b396": {
      "model_module": "@jupyter-widgets/controls",
      "model_module_version": "1.5.0",
      "model_name": "FloatProgressModel",
      "state": {
       "_dom_classes": [],
       "_model_module": "@jupyter-widgets/controls",
       "_model_module_version": "1.5.0",
       "_model_name": "FloatProgressModel",
       "_view_count": null,
       "_view_module": "@jupyter-widgets/controls",
       "_view_module_version": "1.5.0",
       "_view_name": "ProgressView",
       "bar_style": "success",
       "description": "",
       "description_tooltip": null,
       "layout": "IPY_MODEL_c39fd493751c4397a2d595ab3d85ef6c",
       "max": 1.0,
       "min": 0.0,
       "orientation": "horizontal",
       "style": "IPY_MODEL_7a6b83c7e2f147cabf47c3eb1f79fda8",
       "value": 1.0
      }
     },
     "c39fd493751c4397a2d595ab3d85ef6c": {
      "model_module": "@jupyter-widgets/base",
      "model_module_version": "1.2.0",
      "model_name": "LayoutModel",
      "state": {
       "_model_module": "@jupyter-widgets/base",
       "_model_module_version": "1.2.0",
       "_model_name": "LayoutModel",
       "_view_count": null,
       "_view_module": "@jupyter-widgets/base",
       "_view_module_version": "1.2.0",
       "_view_name": "LayoutView",
       "align_content": null,
       "align_items": null,
       "align_self": null,
       "border": null,
       "bottom": null,
       "display": null,
       "flex": null,
       "flex_flow": null,
       "grid_area": null,
       "grid_auto_columns": null,
       "grid_auto_flow": null,
       "grid_auto_rows": null,
       "grid_column": null,
       "grid_gap": null,
       "grid_row": null,
       "grid_template_areas": null,
       "grid_template_columns": null,
       "grid_template_rows": null,
       "height": null,
       "justify_content": null,
       "justify_items": null,
       "left": null,
       "margin": null,
       "max_height": null,
       "max_width": null,
       "min_height": null,
       "min_width": null,
       "object_fit": null,
       "object_position": null,
       "order": null,
       "overflow": null,
       "overflow_x": null,
       "overflow_y": null,
       "padding": null,
       "right": null,
       "top": null,
       "visibility": null,
       "width": null
      }
     },
     "c90c36c10ad94b21a83989ae47f63706": {
      "model_module": "@jupyter-widgets/controls",
      "model_module_version": "1.5.0",
      "model_name": "HTMLModel",
      "state": {
       "_dom_classes": [],
       "_model_module": "@jupyter-widgets/controls",
       "_model_module_version": "1.5.0",
       "_model_name": "HTMLModel",
       "_view_count": null,
       "_view_module": "@jupyter-widgets/controls",
       "_view_module_version": "1.5.0",
       "_view_name": "HTMLView",
       "description": "",
       "description_tooltip": null,
       "layout": "IPY_MODEL_e94e0a65f4a64c3f8b7387b0fd8b57d9",
       "placeholder": "​",
       "style": "IPY_MODEL_6b96a83a6c7f4c19b1f470faa35e0585",
       "value": " 1/1 [00:00&lt;00:00, 26.67ba/s]"
      }
     },
     "d016c10850c34f5585313a1a1d7f6c95": {
      "model_module": "@jupyter-widgets/controls",
      "model_module_version": "1.5.0",
      "model_name": "HTMLModel",
      "state": {
       "_dom_classes": [],
       "_model_module": "@jupyter-widgets/controls",
       "_model_module_version": "1.5.0",
       "_model_name": "HTMLModel",
       "_view_count": null,
       "_view_module": "@jupyter-widgets/controls",
       "_view_module_version": "1.5.0",
       "_view_name": "HTMLView",
       "description": "",
       "description_tooltip": null,
       "layout": "IPY_MODEL_f7bfbfcbfd7b4553a9031b11b6d95853",
       "placeholder": "​",
       "style": "IPY_MODEL_1974f5fda83d41ac98dc9eeaa2286e57",
       "value": " 37/37 [00:06&lt;00:00,  5.80ba/s]"
      }
     },
     "e94e0a65f4a64c3f8b7387b0fd8b57d9": {
      "model_module": "@jupyter-widgets/base",
      "model_module_version": "1.2.0",
      "model_name": "LayoutModel",
      "state": {
       "_model_module": "@jupyter-widgets/base",
       "_model_module_version": "1.2.0",
       "_model_name": "LayoutModel",
       "_view_count": null,
       "_view_module": "@jupyter-widgets/base",
       "_view_module_version": "1.2.0",
       "_view_name": "LayoutView",
       "align_content": null,
       "align_items": null,
       "align_self": null,
       "border": null,
       "bottom": null,
       "display": null,
       "flex": null,
       "flex_flow": null,
       "grid_area": null,
       "grid_auto_columns": null,
       "grid_auto_flow": null,
       "grid_auto_rows": null,
       "grid_column": null,
       "grid_gap": null,
       "grid_row": null,
       "grid_template_areas": null,
       "grid_template_columns": null,
       "grid_template_rows": null,
       "height": null,
       "justify_content": null,
       "justify_items": null,
       "left": null,
       "margin": null,
       "max_height": null,
       "max_width": null,
       "min_height": null,
       "min_width": null,
       "object_fit": null,
       "object_position": null,
       "order": null,
       "overflow": null,
       "overflow_x": null,
       "overflow_y": null,
       "padding": null,
       "right": null,
       "top": null,
       "visibility": null,
       "width": null
      }
     },
     "f7ab05f8ddd74f4fb623ea659cc23a7d": {
      "model_module": "@jupyter-widgets/base",
      "model_module_version": "1.2.0",
      "model_name": "LayoutModel",
      "state": {
       "_model_module": "@jupyter-widgets/base",
       "_model_module_version": "1.2.0",
       "_model_name": "LayoutModel",
       "_view_count": null,
       "_view_module": "@jupyter-widgets/base",
       "_view_module_version": "1.2.0",
       "_view_name": "LayoutView",
       "align_content": null,
       "align_items": null,
       "align_self": null,
       "border": null,
       "bottom": null,
       "display": null,
       "flex": null,
       "flex_flow": null,
       "grid_area": null,
       "grid_auto_columns": null,
       "grid_auto_flow": null,
       "grid_auto_rows": null,
       "grid_column": null,
       "grid_gap": null,
       "grid_row": null,
       "grid_template_areas": null,
       "grid_template_columns": null,
       "grid_template_rows": null,
       "height": null,
       "justify_content": null,
       "justify_items": null,
       "left": null,
       "margin": null,
       "max_height": null,
       "max_width": null,
       "min_height": null,
       "min_width": null,
       "object_fit": null,
       "object_position": null,
       "order": null,
       "overflow": null,
       "overflow_x": null,
       "overflow_y": null,
       "padding": null,
       "right": null,
       "top": null,
       "visibility": null,
       "width": null
      }
     },
     "f7bfbfcbfd7b4553a9031b11b6d95853": {
      "model_module": "@jupyter-widgets/base",
      "model_module_version": "1.2.0",
      "model_name": "LayoutModel",
      "state": {
       "_model_module": "@jupyter-widgets/base",
       "_model_module_version": "1.2.0",
       "_model_name": "LayoutModel",
       "_view_count": null,
       "_view_module": "@jupyter-widgets/base",
       "_view_module_version": "1.2.0",
       "_view_name": "LayoutView",
       "align_content": null,
       "align_items": null,
       "align_self": null,
       "border": null,
       "bottom": null,
       "display": null,
       "flex": null,
       "flex_flow": null,
       "grid_area": null,
       "grid_auto_columns": null,
       "grid_auto_flow": null,
       "grid_auto_rows": null,
       "grid_column": null,
       "grid_gap": null,
       "grid_row": null,
       "grid_template_areas": null,
       "grid_template_columns": null,
       "grid_template_rows": null,
       "height": null,
       "justify_content": null,
       "justify_items": null,
       "left": null,
       "margin": null,
       "max_height": null,
       "max_width": null,
       "min_height": null,
       "min_width": null,
       "object_fit": null,
       "object_position": null,
       "order": null,
       "overflow": null,
       "overflow_x": null,
       "overflow_y": null,
       "padding": null,
       "right": null,
       "top": null,
       "visibility": null,
       "width": null
      }
     }
    },
    "version_major": 2,
    "version_minor": 0
   }
  }
 },
 "nbformat": 4,
 "nbformat_minor": 5
}
