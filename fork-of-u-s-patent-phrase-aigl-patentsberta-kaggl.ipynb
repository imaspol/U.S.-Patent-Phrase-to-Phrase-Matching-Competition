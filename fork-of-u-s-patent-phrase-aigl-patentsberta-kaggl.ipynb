{
 "cells": [
  {
   "cell_type": "code",
   "execution_count": 1,
   "id": "c0204d43",
   "metadata": {
    "_cell_guid": "b1076dfc-b9ad-4769-8c92-a6c4dae69d19",
    "_uuid": "8f2839f25d086af736a60e9eeb907d3b93b6e0e5",
    "execution": {
     "iopub.execute_input": "2022-06-15T18:39:43.913623Z",
     "iopub.status.busy": "2022-06-15T18:39:43.912874Z",
     "iopub.status.idle": "2022-06-15T18:39:43.946095Z",
     "shell.execute_reply": "2022-06-15T18:39:43.943424Z"
    },
    "papermill": {
     "duration": 0.116655,
     "end_time": "2022-06-15T18:39:43.948718",
     "exception": false,
     "start_time": "2022-06-15T18:39:43.832063",
     "status": "completed"
    },
    "tags": []
   },
   "outputs": [
    {
     "name": "stdout",
     "output_type": "stream",
     "text": [
      "/kaggle/input/us-patent-phrase-to-phrase-matching/sample_submission.csv\n",
      "/kaggle/input/us-patent-phrase-to-phrase-matching/train.csv\n",
      "/kaggle/input/us-patent-phrase-to-phrase-matching/test.csv\n",
      "/kaggle/input/cpc-codes/titles.csv\n",
      "/kaggle/input/aigl-patentsberta-kaggle-v3/config.json\n",
      "/kaggle/input/aigl-patentsberta-kaggle-v3/training_args.bin\n",
      "/kaggle/input/aigl-patentsberta-kaggle-v3/tokenizer.json\n",
      "/kaggle/input/aigl-patentsberta-kaggle-v3/tokenizer_config.json\n",
      "/kaggle/input/aigl-patentsberta-kaggle-v3/pytorch_model.bin\n",
      "/kaggle/input/aigl-patentsberta-kaggle-v3/special_tokens_map.json\n",
      "/kaggle/input/aigl-patentsberta-kaggle-v3/vocab.txt\n"
     ]
    }
   ],
   "source": [
    "# This Python 3 environment comes with many helpful analytics libraries installed\n",
    "# It is defined by the kaggle/python Docker image: https://github.com/kaggle/docker-python\n",
    "# For example, here's several helpful packages to load\n",
    "\n",
    "import numpy as np # linear algebra\n",
    "import pandas as pd # data processing, CSV file I/O (e.g. pd.read_csv)\n",
    "\n",
    "# Input data files are available in the read-only \"../input/\" directory\n",
    "# For example, running this (by clicking run or pressing Shift+Enter) will list all files under the input directory\n",
    "\n",
    "import os\n",
    "for dirname, _, filenames in os.walk('/kaggle/input'):\n",
    "    for filename in filenames:\n",
    "        print(os.path.join(dirname, filename))\n",
    "\n",
    "# You can write up to 20GB to the current directory (/kaggle/working/) that gets preserved as output when you create a version using \"Save & Run All\" \n",
    "# You can also write temporary files to /kaggle/temp/, but they won't be saved outside of the current session"
   ]
  },
  {
   "cell_type": "markdown",
   "id": "156f77be",
   "metadata": {
    "papermill": {
     "duration": 0.070955,
     "end_time": "2022-06-15T18:39:44.092308",
     "exception": false,
     "start_time": "2022-06-15T18:39:44.021353",
     "status": "completed"
    },
    "tags": []
   },
   "source": [
    "# Credits:\n",
    "this notebook is based on the notbook [\"Getting started with NLP for absolute beginners\"](https://www.kaggle.com/code/jhoward/getting-started-with-nlp-for-absolute-beginners) by @Jeremy Howard"
   ]
  },
  {
   "cell_type": "markdown",
   "id": "0aa0ca53",
   "metadata": {
    "papermill": {
     "duration": 0.072793,
     "end_time": "2022-06-15T18:39:44.235073",
     "exception": false,
     "start_time": "2022-06-15T18:39:44.162280",
     "status": "completed"
    },
    "tags": []
   },
   "source": [
    "## Imports"
   ]
  },
  {
   "cell_type": "code",
   "execution_count": 2,
   "id": "a566b4d6",
   "metadata": {
    "execution": {
     "iopub.execute_input": "2022-06-15T18:39:44.385626Z",
     "iopub.status.busy": "2022-06-15T18:39:44.385265Z",
     "iopub.status.idle": "2022-06-15T18:39:51.839290Z",
     "shell.execute_reply": "2022-06-15T18:39:51.838195Z"
    },
    "papermill": {
     "duration": 7.53383,
     "end_time": "2022-06-15T18:39:51.841902",
     "exception": false,
     "start_time": "2022-06-15T18:39:44.308072",
     "status": "completed"
    },
    "tags": []
   },
   "outputs": [],
   "source": [
    "import tensorflow as tf\n",
    "import tensorflow_hub as hub\n",
    "import seaborn as sns\n",
    "import matplotlib.pyplot as plt"
   ]
  },
  {
   "cell_type": "markdown",
   "id": "82cdc99a",
   "metadata": {
    "papermill": {
     "duration": 0.061741,
     "end_time": "2022-06-15T18:39:51.966378",
     "exception": false,
     "start_time": "2022-06-15T18:39:51.904637",
     "status": "completed"
    },
    "tags": []
   },
   "source": [
    "# EDA"
   ]
  },
  {
   "cell_type": "code",
   "execution_count": 3,
   "id": "1d1a1188",
   "metadata": {
    "execution": {
     "iopub.execute_input": "2022-06-15T18:39:52.091769Z",
     "iopub.status.busy": "2022-06-15T18:39:52.091027Z",
     "iopub.status.idle": "2022-06-15T18:39:52.198675Z",
     "shell.execute_reply": "2022-06-15T18:39:52.197725Z"
    },
    "papermill": {
     "duration": 0.172731,
     "end_time": "2022-06-15T18:39:52.200857",
     "exception": false,
     "start_time": "2022-06-15T18:39:52.028126",
     "status": "completed"
    },
    "tags": []
   },
   "outputs": [
    {
     "name": "stdout",
     "output_type": "stream",
     "text": [
      "(36473, 5)\n"
     ]
    },
    {
     "data": {
      "text/html": [
       "<div>\n",
       "<style scoped>\n",
       "    .dataframe tbody tr th:only-of-type {\n",
       "        vertical-align: middle;\n",
       "    }\n",
       "\n",
       "    .dataframe tbody tr th {\n",
       "        vertical-align: top;\n",
       "    }\n",
       "\n",
       "    .dataframe thead th {\n",
       "        text-align: right;\n",
       "    }\n",
       "</style>\n",
       "<table border=\"1\" class=\"dataframe\">\n",
       "  <thead>\n",
       "    <tr style=\"text-align: right;\">\n",
       "      <th></th>\n",
       "      <th>id</th>\n",
       "      <th>anchor</th>\n",
       "      <th>target</th>\n",
       "      <th>context</th>\n",
       "      <th>score</th>\n",
       "    </tr>\n",
       "  </thead>\n",
       "  <tbody>\n",
       "    <tr>\n",
       "      <th>0</th>\n",
       "      <td>37d61fd2272659b1</td>\n",
       "      <td>abatement</td>\n",
       "      <td>abatement of pollution</td>\n",
       "      <td>A47</td>\n",
       "      <td>0.50</td>\n",
       "    </tr>\n",
       "    <tr>\n",
       "      <th>1</th>\n",
       "      <td>7b9652b17b68b7a4</td>\n",
       "      <td>abatement</td>\n",
       "      <td>act of abating</td>\n",
       "      <td>A47</td>\n",
       "      <td>0.75</td>\n",
       "    </tr>\n",
       "    <tr>\n",
       "      <th>2</th>\n",
       "      <td>36d72442aefd8232</td>\n",
       "      <td>abatement</td>\n",
       "      <td>active catalyst</td>\n",
       "      <td>A47</td>\n",
       "      <td>0.25</td>\n",
       "    </tr>\n",
       "    <tr>\n",
       "      <th>3</th>\n",
       "      <td>5296b0c19e1ce60e</td>\n",
       "      <td>abatement</td>\n",
       "      <td>eliminating process</td>\n",
       "      <td>A47</td>\n",
       "      <td>0.50</td>\n",
       "    </tr>\n",
       "    <tr>\n",
       "      <th>4</th>\n",
       "      <td>54c1e3b9184cb5b6</td>\n",
       "      <td>abatement</td>\n",
       "      <td>forest region</td>\n",
       "      <td>A47</td>\n",
       "      <td>0.00</td>\n",
       "    </tr>\n",
       "  </tbody>\n",
       "</table>\n",
       "</div>"
      ],
      "text/plain": [
       "                 id     anchor                  target context  score\n",
       "0  37d61fd2272659b1  abatement  abatement of pollution     A47   0.50\n",
       "1  7b9652b17b68b7a4  abatement          act of abating     A47   0.75\n",
       "2  36d72442aefd8232  abatement         active catalyst     A47   0.25\n",
       "3  5296b0c19e1ce60e  abatement     eliminating process     A47   0.50\n",
       "4  54c1e3b9184cb5b6  abatement           forest region     A47   0.00"
      ]
     },
     "execution_count": 3,
     "metadata": {},
     "output_type": "execute_result"
    }
   ],
   "source": [
    "train = pd.read_csv(\"/kaggle/input/us-patent-phrase-to-phrase-matching/train.csv\")\n",
    "print(train.shape)\n",
    "train.head()"
   ]
  },
  {
   "cell_type": "code",
   "execution_count": 4,
   "id": "d6f4d7dc",
   "metadata": {
    "execution": {
     "iopub.execute_input": "2022-06-15T18:39:52.334557Z",
     "iopub.status.busy": "2022-06-15T18:39:52.334251Z",
     "iopub.status.idle": "2022-06-15T18:39:52.416426Z",
     "shell.execute_reply": "2022-06-15T18:39:52.415269Z"
    },
    "papermill": {
     "duration": 0.152474,
     "end_time": "2022-06-15T18:39:52.419336",
     "exception": false,
     "start_time": "2022-06-15T18:39:52.266862",
     "status": "completed"
    },
    "tags": []
   },
   "outputs": [
    {
     "data": {
      "text/html": [
       "<div>\n",
       "<style scoped>\n",
       "    .dataframe tbody tr th:only-of-type {\n",
       "        vertical-align: middle;\n",
       "    }\n",
       "\n",
       "    .dataframe tbody tr th {\n",
       "        vertical-align: top;\n",
       "    }\n",
       "\n",
       "    .dataframe thead th {\n",
       "        text-align: right;\n",
       "    }\n",
       "</style>\n",
       "<table border=\"1\" class=\"dataframe\">\n",
       "  <thead>\n",
       "    <tr style=\"text-align: right;\">\n",
       "      <th></th>\n",
       "      <th>id</th>\n",
       "      <th>anchor</th>\n",
       "      <th>target</th>\n",
       "      <th>context</th>\n",
       "    </tr>\n",
       "  </thead>\n",
       "  <tbody>\n",
       "    <tr>\n",
       "      <th>count</th>\n",
       "      <td>36473</td>\n",
       "      <td>36473</td>\n",
       "      <td>36473</td>\n",
       "      <td>36473</td>\n",
       "    </tr>\n",
       "    <tr>\n",
       "      <th>unique</th>\n",
       "      <td>36473</td>\n",
       "      <td>733</td>\n",
       "      <td>29340</td>\n",
       "      <td>106</td>\n",
       "    </tr>\n",
       "    <tr>\n",
       "      <th>top</th>\n",
       "      <td>37d61fd2272659b1</td>\n",
       "      <td>component composite coating</td>\n",
       "      <td>composition</td>\n",
       "      <td>H01</td>\n",
       "    </tr>\n",
       "    <tr>\n",
       "      <th>freq</th>\n",
       "      <td>1</td>\n",
       "      <td>152</td>\n",
       "      <td>24</td>\n",
       "      <td>2186</td>\n",
       "    </tr>\n",
       "  </tbody>\n",
       "</table>\n",
       "</div>"
      ],
      "text/plain": [
       "                      id                       anchor       target context\n",
       "count              36473                        36473        36473   36473\n",
       "unique             36473                          733        29340     106\n",
       "top     37d61fd2272659b1  component composite coating  composition     H01\n",
       "freq                   1                          152           24    2186"
      ]
     },
     "execution_count": 4,
     "metadata": {},
     "output_type": "execute_result"
    }
   ],
   "source": [
    "train.describe(include='object')"
   ]
  },
  {
   "cell_type": "code",
   "execution_count": 5,
   "id": "d56d03bf",
   "metadata": {
    "execution": {
     "iopub.execute_input": "2022-06-15T18:39:52.550608Z",
     "iopub.status.busy": "2022-06-15T18:39:52.550335Z",
     "iopub.status.idle": "2022-06-15T18:39:52.578798Z",
     "shell.execute_reply": "2022-06-15T18:39:52.577822Z"
    },
    "papermill": {
     "duration": 0.096405,
     "end_time": "2022-06-15T18:39:52.581039",
     "exception": false,
     "start_time": "2022-06-15T18:39:52.484634",
     "status": "completed"
    },
    "tags": []
   },
   "outputs": [
    {
     "data": {
      "text/html": [
       "<div>\n",
       "<style scoped>\n",
       "    .dataframe tbody tr th:only-of-type {\n",
       "        vertical-align: middle;\n",
       "    }\n",
       "\n",
       "    .dataframe tbody tr th {\n",
       "        vertical-align: top;\n",
       "    }\n",
       "\n",
       "    .dataframe thead th {\n",
       "        text-align: right;\n",
       "    }\n",
       "</style>\n",
       "<table border=\"1\" class=\"dataframe\">\n",
       "  <thead>\n",
       "    <tr style=\"text-align: right;\">\n",
       "      <th></th>\n",
       "      <th>id</th>\n",
       "      <th>anchor</th>\n",
       "      <th>target</th>\n",
       "      <th>context</th>\n",
       "    </tr>\n",
       "    <tr>\n",
       "      <th>score</th>\n",
       "      <th></th>\n",
       "      <th></th>\n",
       "      <th></th>\n",
       "      <th></th>\n",
       "    </tr>\n",
       "  </thead>\n",
       "  <tbody>\n",
       "    <tr>\n",
       "      <th>0.00</th>\n",
       "      <td>7471</td>\n",
       "      <td>7471</td>\n",
       "      <td>7471</td>\n",
       "      <td>7471</td>\n",
       "    </tr>\n",
       "    <tr>\n",
       "      <th>0.25</th>\n",
       "      <td>11519</td>\n",
       "      <td>11519</td>\n",
       "      <td>11519</td>\n",
       "      <td>11519</td>\n",
       "    </tr>\n",
       "    <tr>\n",
       "      <th>0.50</th>\n",
       "      <td>12300</td>\n",
       "      <td>12300</td>\n",
       "      <td>12300</td>\n",
       "      <td>12300</td>\n",
       "    </tr>\n",
       "    <tr>\n",
       "      <th>0.75</th>\n",
       "      <td>4029</td>\n",
       "      <td>4029</td>\n",
       "      <td>4029</td>\n",
       "      <td>4029</td>\n",
       "    </tr>\n",
       "    <tr>\n",
       "      <th>1.00</th>\n",
       "      <td>1154</td>\n",
       "      <td>1154</td>\n",
       "      <td>1154</td>\n",
       "      <td>1154</td>\n",
       "    </tr>\n",
       "  </tbody>\n",
       "</table>\n",
       "</div>"
      ],
      "text/plain": [
       "          id  anchor  target  context\n",
       "score                                \n",
       "0.00    7471    7471    7471     7471\n",
       "0.25   11519   11519   11519    11519\n",
       "0.50   12300   12300   12300    12300\n",
       "0.75    4029    4029    4029     4029\n",
       "1.00    1154    1154    1154     1154"
      ]
     },
     "execution_count": 5,
     "metadata": {},
     "output_type": "execute_result"
    }
   ],
   "source": [
    "train.groupby('score').count()"
   ]
  },
  {
   "cell_type": "markdown",
   "id": "70550990",
   "metadata": {
    "papermill": {
     "duration": 0.064463,
     "end_time": "2022-06-15T18:39:52.710929",
     "exception": false,
     "start_time": "2022-06-15T18:39:52.646466",
     "status": "completed"
    },
    "tags": []
   },
   "source": [
    "## Score meanings according to [Data Description](https://www.kaggle.com/competitions/us-patent-phrase-to-phrase-matching/data?select=train.csv)\n",
    "\n",
    "The scores are in the 0-1 range with increments of 0.25 with the following meanings:\n",
    "\n",
    "    1.0 - Very close match. This is typically an exact match except possibly for differences in conjugation, quantity (e.g. singular vs. plural), and addition or removal of stopwords (e.g. “the”, “and”, “or”).\n",
    "    0.75 - Close synonym, e.g. “mobile phone” vs. “cellphone”. This also includes abbreviations, e.g. \"TCP\" -> \"transmission control protocol\".\n",
    "    0.5 - Synonyms which don’t have the same meaning (same function, same properties). This includes broad-narrow (hyponym) and narrow-broad (hypernym) matches.\n",
    "    0.25 - Somewhat related, e.g. the two phrases are in the same high level domain but are not synonyms. This also includes antonyms.\n",
    "    0.0 - Unrelated.\n"
   ]
  },
  {
   "cell_type": "markdown",
   "id": "0da16782",
   "metadata": {
    "papermill": {
     "duration": 0.064055,
     "end_time": "2022-06-15T18:39:52.839156",
     "exception": false,
     "start_time": "2022-06-15T18:39:52.775101",
     "status": "completed"
    },
    "tags": []
   },
   "source": [
    "# Test Corpus"
   ]
  },
  {
   "cell_type": "code",
   "execution_count": 6,
   "id": "a33c4c6a",
   "metadata": {
    "execution": {
     "iopub.execute_input": "2022-06-15T18:39:52.969723Z",
     "iopub.status.busy": "2022-06-15T18:39:52.968812Z",
     "iopub.status.idle": "2022-06-15T18:39:52.979897Z",
     "shell.execute_reply": "2022-06-15T18:39:52.979014Z"
    },
    "papermill": {
     "duration": 0.07871,
     "end_time": "2022-06-15T18:39:52.982182",
     "exception": false,
     "start_time": "2022-06-15T18:39:52.903472",
     "status": "completed"
    },
    "tags": []
   },
   "outputs": [],
   "source": [
    "test = pd.read_csv(\"/kaggle/input/us-patent-phrase-to-phrase-matching/test.csv\")"
   ]
  },
  {
   "cell_type": "code",
   "execution_count": 7,
   "id": "6d4f50e4",
   "metadata": {
    "execution": {
     "iopub.execute_input": "2022-06-15T18:39:53.115368Z",
     "iopub.status.busy": "2022-06-15T18:39:53.114525Z",
     "iopub.status.idle": "2022-06-15T18:39:53.121581Z",
     "shell.execute_reply": "2022-06-15T18:39:53.120557Z"
    },
    "papermill": {
     "duration": 0.077159,
     "end_time": "2022-06-15T18:39:53.125145",
     "exception": false,
     "start_time": "2022-06-15T18:39:53.047986",
     "status": "completed"
    },
    "tags": []
   },
   "outputs": [
    {
     "data": {
      "text/plain": [
       "(36, 4)"
      ]
     },
     "execution_count": 7,
     "metadata": {},
     "output_type": "execute_result"
    }
   ],
   "source": [
    "test.shape"
   ]
  },
  {
   "cell_type": "code",
   "execution_count": 8,
   "id": "bd012efc",
   "metadata": {
    "execution": {
     "iopub.execute_input": "2022-06-15T18:39:53.283098Z",
     "iopub.status.busy": "2022-06-15T18:39:53.282335Z",
     "iopub.status.idle": "2022-06-15T18:39:53.288479Z",
     "shell.execute_reply": "2022-06-15T18:39:53.287504Z"
    },
    "papermill": {
     "duration": 0.087345,
     "end_time": "2022-06-15T18:39:53.290752",
     "exception": false,
     "start_time": "2022-06-15T18:39:53.203407",
     "status": "completed"
    },
    "tags": []
   },
   "outputs": [],
   "source": [
    "def cosine(u, v):\n",
    "    \"\"\"\n",
    "    cosine similarity definition\n",
    "    \"\"\"\n",
    "    return np.dot(u, v) / (np.linalg.norm(u) * np.linalg.norm(v))"
   ]
  },
  {
   "cell_type": "markdown",
   "id": "9f69b0e6",
   "metadata": {
    "papermill": {
     "duration": 0.066212,
     "end_time": "2022-06-15T18:39:53.422205",
     "exception": false,
     "start_time": "2022-06-15T18:39:53.355993",
     "status": "completed"
    },
    "tags": []
   },
   "source": [
    "# External Context"
   ]
  },
  {
   "cell_type": "code",
   "execution_count": 9,
   "id": "5bd66fc6",
   "metadata": {
    "execution": {
     "iopub.execute_input": "2022-06-15T18:39:53.554413Z",
     "iopub.status.busy": "2022-06-15T18:39:53.554133Z",
     "iopub.status.idle": "2022-06-15T18:39:53.558165Z",
     "shell.execute_reply": "2022-06-15T18:39:53.557037Z"
    },
    "papermill": {
     "duration": 0.073055,
     "end_time": "2022-06-15T18:39:53.560472",
     "exception": false,
     "start_time": "2022-06-15T18:39:53.487417",
     "status": "completed"
    },
    "tags": []
   },
   "outputs": [],
   "source": [
    "# ajouter le contexte https://www.cooperativepatentclassification.org/Archive\n",
    "# extraire le contexte du fichier xml"
   ]
  },
  {
   "cell_type": "code",
   "execution_count": 10,
   "id": "f1a0fd0a",
   "metadata": {
    "execution": {
     "iopub.execute_input": "2022-06-15T18:39:53.692312Z",
     "iopub.status.busy": "2022-06-15T18:39:53.691408Z",
     "iopub.status.idle": "2022-06-15T18:39:54.583840Z",
     "shell.execute_reply": "2022-06-15T18:39:54.581571Z"
    },
    "papermill": {
     "duration": 0.961216,
     "end_time": "2022-06-15T18:39:54.587099",
     "exception": false,
     "start_time": "2022-06-15T18:39:53.625883",
     "status": "completed"
    },
    "tags": []
   },
   "outputs": [
    {
     "name": "stdout",
     "output_type": "stream",
     "text": [
      "(260476, 7)\n"
     ]
    },
    {
     "data": {
      "text/html": [
       "<div>\n",
       "<style scoped>\n",
       "    .dataframe tbody tr th:only-of-type {\n",
       "        vertical-align: middle;\n",
       "    }\n",
       "\n",
       "    .dataframe tbody tr th {\n",
       "        vertical-align: top;\n",
       "    }\n",
       "\n",
       "    .dataframe thead th {\n",
       "        text-align: right;\n",
       "    }\n",
       "</style>\n",
       "<table border=\"1\" class=\"dataframe\">\n",
       "  <thead>\n",
       "    <tr style=\"text-align: right;\">\n",
       "      <th></th>\n",
       "      <th>code</th>\n",
       "      <th>title</th>\n",
       "      <th>section</th>\n",
       "      <th>class</th>\n",
       "      <th>subclass</th>\n",
       "      <th>group</th>\n",
       "      <th>main_group</th>\n",
       "    </tr>\n",
       "  </thead>\n",
       "  <tbody>\n",
       "    <tr>\n",
       "      <th>0</th>\n",
       "      <td>A</td>\n",
       "      <td>HUMAN NECESSITIES</td>\n",
       "      <td>A</td>\n",
       "      <td>NaN</td>\n",
       "      <td>NaN</td>\n",
       "      <td>NaN</td>\n",
       "      <td>NaN</td>\n",
       "    </tr>\n",
       "    <tr>\n",
       "      <th>1</th>\n",
       "      <td>A01</td>\n",
       "      <td>AGRICULTURE; FORESTRY; ANIMAL HUSBANDRY; HUNTI...</td>\n",
       "      <td>A</td>\n",
       "      <td>1.0</td>\n",
       "      <td>NaN</td>\n",
       "      <td>NaN</td>\n",
       "      <td>NaN</td>\n",
       "    </tr>\n",
       "    <tr>\n",
       "      <th>2</th>\n",
       "      <td>A01B</td>\n",
       "      <td>SOIL WORKING IN AGRICULTURE OR FORESTRY; PARTS...</td>\n",
       "      <td>A</td>\n",
       "      <td>1.0</td>\n",
       "      <td>B</td>\n",
       "      <td>NaN</td>\n",
       "      <td>NaN</td>\n",
       "    </tr>\n",
       "    <tr>\n",
       "      <th>3</th>\n",
       "      <td>A01B1/00</td>\n",
       "      <td>Hand tools (edge trimmers for lawns A01G3/06  ...</td>\n",
       "      <td>A</td>\n",
       "      <td>1.0</td>\n",
       "      <td>B</td>\n",
       "      <td>1.0</td>\n",
       "      <td>0.0</td>\n",
       "    </tr>\n",
       "    <tr>\n",
       "      <th>4</th>\n",
       "      <td>A01B1/02</td>\n",
       "      <td>Spades; Shovels {(hand-operated dredgers E02F3...</td>\n",
       "      <td>A</td>\n",
       "      <td>1.0</td>\n",
       "      <td>B</td>\n",
       "      <td>1.0</td>\n",
       "      <td>2.0</td>\n",
       "    </tr>\n",
       "  </tbody>\n",
       "</table>\n",
       "</div>"
      ],
      "text/plain": [
       "       code                                              title section  class  \\\n",
       "0         A                                  HUMAN NECESSITIES       A    NaN   \n",
       "1       A01  AGRICULTURE; FORESTRY; ANIMAL HUSBANDRY; HUNTI...       A    1.0   \n",
       "2      A01B  SOIL WORKING IN AGRICULTURE OR FORESTRY; PARTS...       A    1.0   \n",
       "3  A01B1/00  Hand tools (edge trimmers for lawns A01G3/06  ...       A    1.0   \n",
       "4  A01B1/02  Spades; Shovels {(hand-operated dredgers E02F3...       A    1.0   \n",
       "\n",
       "  subclass  group  main_group  \n",
       "0      NaN    NaN         NaN  \n",
       "1      NaN    NaN         NaN  \n",
       "2        B    NaN         NaN  \n",
       "3        B    1.0         0.0  \n",
       "4        B    1.0         2.0  "
      ]
     },
     "execution_count": 10,
     "metadata": {},
     "output_type": "execute_result"
    }
   ],
   "source": [
    "titles = pd.read_csv(\"../input/cpc-codes/titles.csv\")\n",
    "print(titles.shape)\n",
    "titles.head()"
   ]
  },
  {
   "cell_type": "markdown",
   "id": "32145a7f",
   "metadata": {
    "papermill": {
     "duration": 0.099844,
     "end_time": "2022-06-15T18:39:54.814439",
     "exception": false,
     "start_time": "2022-06-15T18:39:54.714595",
     "status": "completed"
    },
    "tags": []
   },
   "source": [
    "# HuggingFace AutoModelForSequenceClassification"
   ]
  },
  {
   "cell_type": "code",
   "execution_count": 11,
   "id": "65d2540a",
   "metadata": {
    "execution": {
     "iopub.execute_input": "2022-06-15T18:39:54.948085Z",
     "iopub.status.busy": "2022-06-15T18:39:54.947784Z",
     "iopub.status.idle": "2022-06-15T18:39:55.130883Z",
     "shell.execute_reply": "2022-06-15T18:39:55.129963Z"
    },
    "papermill": {
     "duration": 0.252244,
     "end_time": "2022-06-15T18:39:55.133414",
     "exception": false,
     "start_time": "2022-06-15T18:39:54.881170",
     "status": "completed"
    },
    "tags": []
   },
   "outputs": [],
   "source": [
    "import numpy as np # linear algebra\n",
    "import pandas as pd # data processing, CSV file I/O (e.g. pd.read_csv)\n",
    "import os\n",
    "from scipy.stats import pearsonr\n",
    "from scipy.stats import spearmanr # pour trouver les correspondances entre les résultats sur des échelles variées\n",
    "from sklearn.model_selection import StratifiedGroupKFold"
   ]
  },
  {
   "cell_type": "code",
   "execution_count": 12,
   "id": "8a69a742",
   "metadata": {
    "execution": {
     "iopub.execute_input": "2022-06-15T18:39:55.265233Z",
     "iopub.status.busy": "2022-06-15T18:39:55.264554Z",
     "iopub.status.idle": "2022-06-15T18:39:58.418191Z",
     "shell.execute_reply": "2022-06-15T18:39:58.417294Z"
    },
    "papermill": {
     "duration": 3.223025,
     "end_time": "2022-06-15T18:39:58.420765",
     "exception": false,
     "start_time": "2022-06-15T18:39:55.197740",
     "status": "completed"
    },
    "tags": []
   },
   "outputs": [],
   "source": [
    "import transformers\n",
    "from transformers import TrainingArguments,Trainer\n",
    "from transformers import AutoModelForSequenceClassification,AutoTokenizer\n",
    "\n",
    "import torch\n",
    "import datasets\n",
    "from datasets import load_dataset, Dataset, DatasetDict"
   ]
  },
  {
   "cell_type": "code",
   "execution_count": 13,
   "id": "bb447341",
   "metadata": {
    "execution": {
     "iopub.execute_input": "2022-06-15T18:39:58.554234Z",
     "iopub.status.busy": "2022-06-15T18:39:58.553995Z",
     "iopub.status.idle": "2022-06-15T18:39:58.558486Z",
     "shell.execute_reply": "2022-06-15T18:39:58.557465Z"
    },
    "papermill": {
     "duration": 0.074178,
     "end_time": "2022-06-15T18:39:58.560789",
     "exception": false,
     "start_time": "2022-06-15T18:39:58.486611",
     "status": "completed"
    },
    "tags": []
   },
   "outputs": [],
   "source": [
    "import warnings\n",
    "import logging\n",
    "from IPython.display import display, HTML"
   ]
  },
  {
   "cell_type": "markdown",
   "id": "0d4365d9",
   "metadata": {
    "papermill": {
     "duration": 0.064551,
     "end_time": "2022-06-15T18:39:58.688908",
     "exception": false,
     "start_time": "2022-06-15T18:39:58.624357",
     "status": "completed"
    },
    "tags": []
   },
   "source": [
    "# Corpora merge"
   ]
  },
  {
   "cell_type": "code",
   "execution_count": 14,
   "id": "e178942a",
   "metadata": {
    "execution": {
     "iopub.execute_input": "2022-06-15T18:39:58.819349Z",
     "iopub.status.busy": "2022-06-15T18:39:58.818720Z",
     "iopub.status.idle": "2022-06-15T18:39:59.182196Z",
     "shell.execute_reply": "2022-06-15T18:39:59.181157Z"
    },
    "papermill": {
     "duration": 0.430903,
     "end_time": "2022-06-15T18:39:59.184284",
     "exception": false,
     "start_time": "2022-06-15T18:39:58.753381",
     "status": "completed"
    },
    "tags": []
   },
   "outputs": [
    {
     "name": "stdout",
     "output_type": "stream",
     "text": [
      "(36473, 6)\n"
     ]
    },
    {
     "data": {
      "text/html": [
       "<div>\n",
       "<style scoped>\n",
       "    .dataframe tbody tr th:only-of-type {\n",
       "        vertical-align: middle;\n",
       "    }\n",
       "\n",
       "    .dataframe tbody tr th {\n",
       "        vertical-align: top;\n",
       "    }\n",
       "\n",
       "    .dataframe thead th {\n",
       "        text-align: right;\n",
       "    }\n",
       "</style>\n",
       "<table border=\"1\" class=\"dataframe\">\n",
       "  <thead>\n",
       "    <tr style=\"text-align: right;\">\n",
       "      <th></th>\n",
       "      <th>id</th>\n",
       "      <th>anchor</th>\n",
       "      <th>target</th>\n",
       "      <th>context</th>\n",
       "      <th>score</th>\n",
       "      <th>section</th>\n",
       "    </tr>\n",
       "  </thead>\n",
       "  <tbody>\n",
       "    <tr>\n",
       "      <th>0</th>\n",
       "      <td>37d61fd2272659b1</td>\n",
       "      <td>abatement</td>\n",
       "      <td>abatement of pollution</td>\n",
       "      <td>A47</td>\n",
       "      <td>0.50</td>\n",
       "      <td>A</td>\n",
       "    </tr>\n",
       "    <tr>\n",
       "      <th>1</th>\n",
       "      <td>7b9652b17b68b7a4</td>\n",
       "      <td>abatement</td>\n",
       "      <td>act of abating</td>\n",
       "      <td>A47</td>\n",
       "      <td>0.75</td>\n",
       "      <td>A</td>\n",
       "    </tr>\n",
       "    <tr>\n",
       "      <th>2</th>\n",
       "      <td>36d72442aefd8232</td>\n",
       "      <td>abatement</td>\n",
       "      <td>active catalyst</td>\n",
       "      <td>A47</td>\n",
       "      <td>0.25</td>\n",
       "      <td>A</td>\n",
       "    </tr>\n",
       "    <tr>\n",
       "      <th>3</th>\n",
       "      <td>5296b0c19e1ce60e</td>\n",
       "      <td>abatement</td>\n",
       "      <td>eliminating process</td>\n",
       "      <td>A47</td>\n",
       "      <td>0.50</td>\n",
       "      <td>A</td>\n",
       "    </tr>\n",
       "    <tr>\n",
       "      <th>4</th>\n",
       "      <td>54c1e3b9184cb5b6</td>\n",
       "      <td>abatement</td>\n",
       "      <td>forest region</td>\n",
       "      <td>A47</td>\n",
       "      <td>0.00</td>\n",
       "      <td>A</td>\n",
       "    </tr>\n",
       "  </tbody>\n",
       "</table>\n",
       "</div>"
      ],
      "text/plain": [
       "                 id     anchor                  target context  score section\n",
       "0  37d61fd2272659b1  abatement  abatement of pollution     A47   0.50       A\n",
       "1  7b9652b17b68b7a4  abatement          act of abating     A47   0.75       A\n",
       "2  36d72442aefd8232  abatement         active catalyst     A47   0.25       A\n",
       "3  5296b0c19e1ce60e  abatement     eliminating process     A47   0.50       A\n",
       "4  54c1e3b9184cb5b6  abatement           forest region     A47   0.00       A"
      ]
     },
     "metadata": {},
     "output_type": "display_data"
    },
    {
     "data": {
      "text/html": [
       "<div>\n",
       "<style scoped>\n",
       "    .dataframe tbody tr th:only-of-type {\n",
       "        vertical-align: middle;\n",
       "    }\n",
       "\n",
       "    .dataframe tbody tr th {\n",
       "        vertical-align: top;\n",
       "    }\n",
       "\n",
       "    .dataframe thead th {\n",
       "        text-align: right;\n",
       "    }\n",
       "</style>\n",
       "<table border=\"1\" class=\"dataframe\">\n",
       "  <thead>\n",
       "    <tr style=\"text-align: right;\">\n",
       "      <th></th>\n",
       "      <th>context</th>\n",
       "      <th>title</th>\n",
       "      <th>section</th>\n",
       "      <th>class</th>\n",
       "      <th>subclass</th>\n",
       "      <th>group</th>\n",
       "      <th>main_group</th>\n",
       "    </tr>\n",
       "  </thead>\n",
       "  <tbody>\n",
       "    <tr>\n",
       "      <th>0</th>\n",
       "      <td>A</td>\n",
       "      <td>HUMAN NECESSITIES</td>\n",
       "      <td>A</td>\n",
       "      <td>NaN</td>\n",
       "      <td>NaN</td>\n",
       "      <td>NaN</td>\n",
       "      <td>NaN</td>\n",
       "    </tr>\n",
       "    <tr>\n",
       "      <th>1</th>\n",
       "      <td>A01</td>\n",
       "      <td>AGRICULTURE; FORESTRY; ANIMAL HUSBANDRY; HUNTI...</td>\n",
       "      <td>A</td>\n",
       "      <td>1.0</td>\n",
       "      <td>NaN</td>\n",
       "      <td>NaN</td>\n",
       "      <td>NaN</td>\n",
       "    </tr>\n",
       "    <tr>\n",
       "      <th>2</th>\n",
       "      <td>A01B</td>\n",
       "      <td>SOIL WORKING IN AGRICULTURE OR FORESTRY; PARTS...</td>\n",
       "      <td>A</td>\n",
       "      <td>1.0</td>\n",
       "      <td>B</td>\n",
       "      <td>NaN</td>\n",
       "      <td>NaN</td>\n",
       "    </tr>\n",
       "    <tr>\n",
       "      <th>3</th>\n",
       "      <td>A01B1/00</td>\n",
       "      <td>Hand tools (edge trimmers for lawns A01G3/06  ...</td>\n",
       "      <td>A</td>\n",
       "      <td>1.0</td>\n",
       "      <td>B</td>\n",
       "      <td>1.0</td>\n",
       "      <td>0.0</td>\n",
       "    </tr>\n",
       "    <tr>\n",
       "      <th>4</th>\n",
       "      <td>A01B1/02</td>\n",
       "      <td>Spades; Shovels {(hand-operated dredgers E02F3...</td>\n",
       "      <td>A</td>\n",
       "      <td>1.0</td>\n",
       "      <td>B</td>\n",
       "      <td>1.0</td>\n",
       "      <td>2.0</td>\n",
       "    </tr>\n",
       "  </tbody>\n",
       "</table>\n",
       "</div>"
      ],
      "text/plain": [
       "    context                                              title section  class  \\\n",
       "0         A                                  HUMAN NECESSITIES       A    NaN   \n",
       "1       A01  AGRICULTURE; FORESTRY; ANIMAL HUSBANDRY; HUNTI...       A    1.0   \n",
       "2      A01B  SOIL WORKING IN AGRICULTURE OR FORESTRY; PARTS...       A    1.0   \n",
       "3  A01B1/00  Hand tools (edge trimmers for lawns A01G3/06  ...       A    1.0   \n",
       "4  A01B1/02  Spades; Shovels {(hand-operated dredgers E02F3...       A    1.0   \n",
       "\n",
       "  subclass  group  main_group  \n",
       "0      NaN    NaN         NaN  \n",
       "1      NaN    NaN         NaN  \n",
       "2        B    NaN         NaN  \n",
       "3        B    1.0         0.0  \n",
       "4        B    1.0         2.0  "
      ]
     },
     "metadata": {},
     "output_type": "display_data"
    },
    {
     "data": {
      "text/html": [
       "<div>\n",
       "<style scoped>\n",
       "    .dataframe tbody tr th:only-of-type {\n",
       "        vertical-align: middle;\n",
       "    }\n",
       "\n",
       "    .dataframe tbody tr th {\n",
       "        vertical-align: top;\n",
       "    }\n",
       "\n",
       "    .dataframe thead th {\n",
       "        text-align: right;\n",
       "    }\n",
       "</style>\n",
       "<table border=\"1\" class=\"dataframe\">\n",
       "  <thead>\n",
       "    <tr style=\"text-align: right;\">\n",
       "      <th></th>\n",
       "      <th>id</th>\n",
       "      <th>anchor</th>\n",
       "      <th>target</th>\n",
       "      <th>context</th>\n",
       "      <th>score</th>\n",
       "      <th>section</th>\n",
       "      <th>context_title</th>\n",
       "      <th>section_title</th>\n",
       "    </tr>\n",
       "  </thead>\n",
       "  <tbody>\n",
       "    <tr>\n",
       "      <th>0</th>\n",
       "      <td>37d61fd2272659b1</td>\n",
       "      <td>abatement</td>\n",
       "      <td>abatement of pollution</td>\n",
       "      <td>A47</td>\n",
       "      <td>0.50</td>\n",
       "      <td>A</td>\n",
       "      <td>FURNITURE; DOMESTIC ARTICLES OR APPLIANCES; CO...</td>\n",
       "      <td>HUMAN NECESSITIES</td>\n",
       "    </tr>\n",
       "    <tr>\n",
       "      <th>1</th>\n",
       "      <td>7b9652b17b68b7a4</td>\n",
       "      <td>abatement</td>\n",
       "      <td>act of abating</td>\n",
       "      <td>A47</td>\n",
       "      <td>0.75</td>\n",
       "      <td>A</td>\n",
       "      <td>FURNITURE; DOMESTIC ARTICLES OR APPLIANCES; CO...</td>\n",
       "      <td>HUMAN NECESSITIES</td>\n",
       "    </tr>\n",
       "    <tr>\n",
       "      <th>2</th>\n",
       "      <td>36d72442aefd8232</td>\n",
       "      <td>abatement</td>\n",
       "      <td>active catalyst</td>\n",
       "      <td>A47</td>\n",
       "      <td>0.25</td>\n",
       "      <td>A</td>\n",
       "      <td>FURNITURE; DOMESTIC ARTICLES OR APPLIANCES; CO...</td>\n",
       "      <td>HUMAN NECESSITIES</td>\n",
       "    </tr>\n",
       "    <tr>\n",
       "      <th>3</th>\n",
       "      <td>5296b0c19e1ce60e</td>\n",
       "      <td>abatement</td>\n",
       "      <td>eliminating process</td>\n",
       "      <td>A47</td>\n",
       "      <td>0.50</td>\n",
       "      <td>A</td>\n",
       "      <td>FURNITURE; DOMESTIC ARTICLES OR APPLIANCES; CO...</td>\n",
       "      <td>HUMAN NECESSITIES</td>\n",
       "    </tr>\n",
       "    <tr>\n",
       "      <th>4</th>\n",
       "      <td>54c1e3b9184cb5b6</td>\n",
       "      <td>abatement</td>\n",
       "      <td>forest region</td>\n",
       "      <td>A47</td>\n",
       "      <td>0.00</td>\n",
       "      <td>A</td>\n",
       "      <td>FURNITURE; DOMESTIC ARTICLES OR APPLIANCES; CO...</td>\n",
       "      <td>HUMAN NECESSITIES</td>\n",
       "    </tr>\n",
       "  </tbody>\n",
       "</table>\n",
       "</div>"
      ],
      "text/plain": [
       "                 id     anchor                  target context  score section  \\\n",
       "0  37d61fd2272659b1  abatement  abatement of pollution     A47   0.50       A   \n",
       "1  7b9652b17b68b7a4  abatement          act of abating     A47   0.75       A   \n",
       "2  36d72442aefd8232  abatement         active catalyst     A47   0.25       A   \n",
       "3  5296b0c19e1ce60e  abatement     eliminating process     A47   0.50       A   \n",
       "4  54c1e3b9184cb5b6  abatement           forest region     A47   0.00       A   \n",
       "\n",
       "                                       context_title      section_title  \n",
       "0  FURNITURE; DOMESTIC ARTICLES OR APPLIANCES; CO...  HUMAN NECESSITIES  \n",
       "1  FURNITURE; DOMESTIC ARTICLES OR APPLIANCES; CO...  HUMAN NECESSITIES  \n",
       "2  FURNITURE; DOMESTIC ARTICLES OR APPLIANCES; CO...  HUMAN NECESSITIES  \n",
       "3  FURNITURE; DOMESTIC ARTICLES OR APPLIANCES; CO...  HUMAN NECESSITIES  \n",
       "4  FURNITURE; DOMESTIC ARTICLES OR APPLIANCES; CO...  HUMAN NECESSITIES  "
      ]
     },
     "metadata": {},
     "output_type": "display_data"
    }
   ],
   "source": [
    "train['section'] = train[\"context\"].str[0]\n",
    "print(train.shape)\n",
    "display(train.head())\n",
    "titles=titles.rename(columns={\"code\": \"context\"})\n",
    "display(titles.head())\n",
    "train = train.merge(titles[[\"context\", \"title\"]], on=\"context\").rename(columns={\"title\": \"context_title\"})\n",
    "train = train.merge(titles[[\"context\", \"title\"]].rename(columns={\"context\": \"section\"}), on=\"section\").rename(columns={\"title\": \"section_title\"})\n",
    "display(train.head())"
   ]
  },
  {
   "cell_type": "code",
   "execution_count": 15,
   "id": "0cef241a",
   "metadata": {
    "execution": {
     "iopub.execute_input": "2022-06-15T18:39:59.324431Z",
     "iopub.status.busy": "2022-06-15T18:39:59.324192Z",
     "iopub.status.idle": "2022-06-15T18:39:59.328850Z",
     "shell.execute_reply": "2022-06-15T18:39:59.327901Z"
    },
    "papermill": {
     "duration": 0.077254,
     "end_time": "2022-06-15T18:39:59.331158",
     "exception": false,
     "start_time": "2022-06-15T18:39:59.253904",
     "status": "completed"
    },
    "tags": []
   },
   "outputs": [],
   "source": [
    "logging.disable(logging.WARNING)\n",
    "warnings.simplefilter('ignore')"
   ]
  },
  {
   "cell_type": "markdown",
   "id": "60fc6f6c",
   "metadata": {
    "papermill": {
     "duration": 0.068,
     "end_time": "2022-06-15T18:39:59.467674",
     "exception": false,
     "start_time": "2022-06-15T18:39:59.399674",
     "status": "completed"
    },
    "tags": []
   },
   "source": [
    "# Deberta-v3-small"
   ]
  },
  {
   "cell_type": "code",
   "execution_count": 16,
   "id": "40e9610c",
   "metadata": {
    "execution": {
     "iopub.execute_input": "2022-06-15T18:39:59.605296Z",
     "iopub.status.busy": "2022-06-15T18:39:59.604578Z",
     "iopub.status.idle": "2022-06-15T18:39:59.608516Z",
     "shell.execute_reply": "2022-06-15T18:39:59.607642Z"
    },
    "papermill": {
     "duration": 0.075626,
     "end_time": "2022-06-15T18:39:59.610766",
     "exception": false,
     "start_time": "2022-06-15T18:39:59.535140",
     "status": "completed"
    },
    "tags": []
   },
   "outputs": [],
   "source": [
    "#model_name = 'AI-Growth-Lab/PatentSBERTa_Kaggle_V3' #(online version)\n",
    "model_name = '../input/aigl-patentsberta-kaggle-v3'"
   ]
  },
  {
   "cell_type": "code",
   "execution_count": 17,
   "id": "bf454113",
   "metadata": {
    "execution": {
     "iopub.execute_input": "2022-06-15T18:39:59.787646Z",
     "iopub.status.busy": "2022-06-15T18:39:59.787103Z",
     "iopub.status.idle": "2022-06-15T18:39:59.875021Z",
     "shell.execute_reply": "2022-06-15T18:39:59.873777Z"
    },
    "papermill": {
     "duration": 0.199071,
     "end_time": "2022-06-15T18:39:59.878822",
     "exception": false,
     "start_time": "2022-06-15T18:39:59.679751",
     "status": "completed"
    },
    "tags": []
   },
   "outputs": [],
   "source": [
    "tokenizer = AutoTokenizer.from_pretrained(model_name)"
   ]
  },
  {
   "cell_type": "code",
   "execution_count": 18,
   "id": "3835d309",
   "metadata": {
    "execution": {
     "iopub.execute_input": "2022-06-15T18:40:00.140468Z",
     "iopub.status.busy": "2022-06-15T18:40:00.140147Z",
     "iopub.status.idle": "2022-06-15T18:40:00.153307Z",
     "shell.execute_reply": "2022-06-15T18:40:00.146271Z"
    },
    "papermill": {
     "duration": 0.142772,
     "end_time": "2022-06-15T18:40:00.161827",
     "exception": false,
     "start_time": "2022-06-15T18:40:00.019055",
     "status": "completed"
    },
    "tags": []
   },
   "outputs": [
    {
     "data": {
      "text/plain": [
       "['<s>', '</s>', '[UNK]', '<pad>', '<mask>']"
      ]
     },
     "execution_count": 18,
     "metadata": {},
     "output_type": "execute_result"
    }
   ],
   "source": [
    "tokenizer.all_special_tokens"
   ]
  },
  {
   "cell_type": "code",
   "execution_count": 19,
   "id": "f29dc456",
   "metadata": {
    "execution": {
     "iopub.execute_input": "2022-06-15T18:40:00.417608Z",
     "iopub.status.busy": "2022-06-15T18:40:00.417097Z",
     "iopub.status.idle": "2022-06-15T18:40:00.428906Z",
     "shell.execute_reply": "2022-06-15T18:40:00.427297Z"
    },
    "papermill": {
     "duration": 0.149169,
     "end_time": "2022-06-15T18:40:00.433877",
     "exception": false,
     "start_time": "2022-06-15T18:40:00.284708",
     "status": "completed"
    },
    "tags": []
   },
   "outputs": [],
   "source": [
    "def clean(x):\n",
    "    t = x.lower()\n",
    "    t = t.replace(\"[\",'')\n",
    "    t = t.replace(\";\",'')\n",
    "    t = t.replace(\",\",'')\n",
    "    t = t.replace(\"]\",'')\n",
    "    t = t.replace(\":\",'')\n",
    "    t = t.replace(\"(\",'')\n",
    "    t = t.replace(\")\",'')\n",
    "    t = t.replace(\"{\",'')\n",
    "    t = t.replace(\"}\",'')\n",
    "    t = t.replace(\"/\",' ')\n",
    "    t = t.replace(\"-\",' ')\n",
    "    return t"
   ]
  },
  {
   "cell_type": "code",
   "execution_count": 20,
   "id": "827cb474",
   "metadata": {
    "execution": {
     "iopub.execute_input": "2022-06-15T18:40:00.669941Z",
     "iopub.status.busy": "2022-06-15T18:40:00.669641Z",
     "iopub.status.idle": "2022-06-15T18:40:00.845614Z",
     "shell.execute_reply": "2022-06-15T18:40:00.844637Z"
    },
    "papermill": {
     "duration": 0.295013,
     "end_time": "2022-06-15T18:40:00.848864",
     "exception": false,
     "start_time": "2022-06-15T18:40:00.553851",
     "status": "completed"
    },
    "tags": []
   },
   "outputs": [],
   "source": [
    "train[\"inputs\"] = train[\"section_title\"].apply(clean) + \" [SEP] \" + train[\"anchor\"] + \" [SEP] \" + train[\"target\"]"
   ]
  },
  {
   "cell_type": "code",
   "execution_count": 21,
   "id": "b277cfd6",
   "metadata": {
    "execution": {
     "iopub.execute_input": "2022-06-15T18:40:01.077020Z",
     "iopub.status.busy": "2022-06-15T18:40:01.076695Z",
     "iopub.status.idle": "2022-06-15T18:40:01.081417Z",
     "shell.execute_reply": "2022-06-15T18:40:01.080578Z"
    },
    "papermill": {
     "duration": 0.123584,
     "end_time": "2022-06-15T18:40:01.086342",
     "exception": false,
     "start_time": "2022-06-15T18:40:00.962758",
     "status": "completed"
    },
    "tags": []
   },
   "outputs": [],
   "source": [
    "def tok_func(x):\n",
    "    return tokenizer(x[\"inputs\"])"
   ]
  },
  {
   "cell_type": "code",
   "execution_count": 22,
   "id": "9fdf2728",
   "metadata": {
    "execution": {
     "iopub.execute_input": "2022-06-15T18:40:01.315730Z",
     "iopub.status.busy": "2022-06-15T18:40:01.315445Z",
     "iopub.status.idle": "2022-06-15T18:40:01.362312Z",
     "shell.execute_reply": "2022-06-15T18:40:01.361387Z"
    },
    "papermill": {
     "duration": 0.148273,
     "end_time": "2022-06-15T18:40:01.364480",
     "exception": false,
     "start_time": "2022-06-15T18:40:01.216207",
     "status": "completed"
    },
    "tags": []
   },
   "outputs": [],
   "source": [
    "train_ds = Dataset.from_pandas(train).rename_column('score', 'label')"
   ]
  },
  {
   "cell_type": "code",
   "execution_count": 23,
   "id": "af76a87a",
   "metadata": {
    "execution": {
     "iopub.execute_input": "2022-06-15T18:40:01.506228Z",
     "iopub.status.busy": "2022-06-15T18:40:01.506013Z",
     "iopub.status.idle": "2022-06-15T18:40:04.406852Z",
     "shell.execute_reply": "2022-06-15T18:40:04.405969Z"
    },
    "papermill": {
     "duration": 2.973836,
     "end_time": "2022-06-15T18:40:04.409093",
     "exception": false,
     "start_time": "2022-06-15T18:40:01.435257",
     "status": "completed"
    },
    "tags": []
   },
   "outputs": [
    {
     "data": {
      "application/vnd.jupyter.widget-view+json": {
       "model_id": "612f685bfb2948e1b3fe57d1b913e086",
       "version_major": 2,
       "version_minor": 0
      },
      "text/plain": [
       "  0%|          | 0/37 [00:00<?, ?ba/s]"
      ]
     },
     "metadata": {},
     "output_type": "display_data"
    }
   ],
   "source": [
    "inps = \"anchor\",\"target\",\"context\",\"context_title\",\"section_title\"\n",
    "tok_ds = train_ds.map(tok_func, batched=True, remove_columns=inps+('inputs','id','section'))"
   ]
  },
  {
   "cell_type": "code",
   "execution_count": 24,
   "id": "9c5db09b",
   "metadata": {
    "execution": {
     "iopub.execute_input": "2022-06-15T18:40:04.555708Z",
     "iopub.status.busy": "2022-06-15T18:40:04.554930Z",
     "iopub.status.idle": "2022-06-15T18:40:04.561354Z",
     "shell.execute_reply": "2022-06-15T18:40:04.560394Z"
    },
    "papermill": {
     "duration": 0.082323,
     "end_time": "2022-06-15T18:40:04.563613",
     "exception": false,
     "start_time": "2022-06-15T18:40:04.481290",
     "status": "completed"
    },
    "tags": []
   },
   "outputs": [
    {
     "data": {
      "text/plain": [
       "Dataset({\n",
       "    features: ['label', '__index_level_0__', 'input_ids', 'attention_mask'],\n",
       "    num_rows: 36473\n",
       "})"
      ]
     },
     "execution_count": 24,
     "metadata": {},
     "output_type": "execute_result"
    }
   ],
   "source": [
    "tok_ds"
   ]
  },
  {
   "cell_type": "code",
   "execution_count": 25,
   "id": "2b01699d",
   "metadata": {
    "execution": {
     "iopub.execute_input": "2022-06-15T18:40:04.707323Z",
     "iopub.status.busy": "2022-06-15T18:40:04.706664Z",
     "iopub.status.idle": "2022-06-15T18:40:04.711414Z",
     "shell.execute_reply": "2022-06-15T18:40:04.710346Z"
    },
    "papermill": {
     "duration": 0.078937,
     "end_time": "2022-06-15T18:40:04.713656",
     "exception": false,
     "start_time": "2022-06-15T18:40:04.634719",
     "status": "completed"
    },
    "tags": []
   },
   "outputs": [],
   "source": [
    "# bs - batch size\n",
    "lr,bs = 8e-5,64\n",
    "# wd: weight decay\n",
    "wd,epochs = 0.01,4"
   ]
  },
  {
   "cell_type": "code",
   "execution_count": 26,
   "id": "7c183724",
   "metadata": {
    "execution": {
     "iopub.execute_input": "2022-06-15T18:40:04.856334Z",
     "iopub.status.busy": "2022-06-15T18:40:04.855985Z",
     "iopub.status.idle": "2022-06-15T18:40:04.863745Z",
     "shell.execute_reply": "2022-06-15T18:40:04.862848Z"
    },
    "papermill": {
     "duration": 0.081905,
     "end_time": "2022-06-15T18:40:04.865972",
     "exception": false,
     "start_time": "2022-06-15T18:40:04.784067",
     "status": "completed"
    },
    "tags": []
   },
   "outputs": [],
   "source": [
    "anchors = train[\"anchor\"].unique()\n",
    "np.random.shuffle(anchors)"
   ]
  },
  {
   "cell_type": "code",
   "execution_count": 27,
   "id": "7e9ef9be",
   "metadata": {
    "execution": {
     "iopub.execute_input": "2022-06-15T18:40:05.009449Z",
     "iopub.status.busy": "2022-06-15T18:40:05.009022Z",
     "iopub.status.idle": "2022-06-15T18:40:05.014183Z",
     "shell.execute_reply": "2022-06-15T18:40:05.013300Z"
    },
    "papermill": {
     "duration": 0.079164,
     "end_time": "2022-06-15T18:40:05.016450",
     "exception": false,
     "start_time": "2022-06-15T18:40:04.937286",
     "status": "completed"
    },
    "tags": []
   },
   "outputs": [],
   "source": [
    "val_prop = 0.25\n",
    "val_sz = int(len(anchors)*val_prop)\n",
    "val_anchors = anchors[:val_sz]"
   ]
  },
  {
   "cell_type": "code",
   "execution_count": 28,
   "id": "d3f489b9",
   "metadata": {
    "execution": {
     "iopub.execute_input": "2022-06-15T18:40:05.198139Z",
     "iopub.status.busy": "2022-06-15T18:40:05.197654Z",
     "iopub.status.idle": "2022-06-15T18:40:05.503412Z",
     "shell.execute_reply": "2022-06-15T18:40:05.502258Z"
    },
    "papermill": {
     "duration": 0.418321,
     "end_time": "2022-06-15T18:40:05.506403",
     "exception": false,
     "start_time": "2022-06-15T18:40:05.088082",
     "status": "completed"
    },
    "tags": []
   },
   "outputs": [
    {
     "data": {
      "text/plain": [
       "(9358, 27115)"
      ]
     },
     "execution_count": 28,
     "metadata": {},
     "output_type": "execute_result"
    }
   ],
   "source": [
    "is_val = np.isin(train.anchor, val_anchors)\n",
    "idxs = np.arange(len(train))\n",
    "val_idxs = idxs[ is_val]\n",
    "trn_idxs = idxs[~is_val]\n",
    "len(val_idxs),len(trn_idxs)"
   ]
  },
  {
   "cell_type": "code",
   "execution_count": 29,
   "id": "12684ad9",
   "metadata": {
    "execution": {
     "iopub.execute_input": "2022-06-15T18:40:05.755959Z",
     "iopub.status.busy": "2022-06-15T18:40:05.755705Z",
     "iopub.status.idle": "2022-06-15T18:40:05.777483Z",
     "shell.execute_reply": "2022-06-15T18:40:05.776642Z"
    },
    "papermill": {
     "duration": 0.14904,
     "end_time": "2022-06-15T18:40:05.779549",
     "exception": false,
     "start_time": "2022-06-15T18:40:05.630509",
     "status": "completed"
    },
    "tags": []
   },
   "outputs": [],
   "source": [
    "dds = DatasetDict({\"train\":tok_ds.select(trn_idxs),\n",
    "             \"test\": tok_ds.select(val_idxs)})"
   ]
  },
  {
   "cell_type": "code",
   "execution_count": 30,
   "id": "bfb3a95f",
   "metadata": {
    "execution": {
     "iopub.execute_input": "2022-06-15T18:40:05.921186Z",
     "iopub.status.busy": "2022-06-15T18:40:05.920435Z",
     "iopub.status.idle": "2022-06-15T18:40:05.925485Z",
     "shell.execute_reply": "2022-06-15T18:40:05.924592Z"
    },
    "papermill": {
     "duration": 0.078227,
     "end_time": "2022-06-15T18:40:05.927522",
     "exception": false,
     "start_time": "2022-06-15T18:40:05.849295",
     "status": "completed"
    },
    "tags": []
   },
   "outputs": [],
   "source": [
    "def corr(eval_pred): \n",
    "    logits, labels = eval_pred\n",
    "    logits = logits.reshape(-1)\n",
    "    return {'pearson': np.corrcoef(logits, labels)[0][1]}"
   ]
  },
  {
   "cell_type": "code",
   "execution_count": 31,
   "id": "3cdfdac7",
   "metadata": {
    "execution": {
     "iopub.execute_input": "2022-06-15T18:40:06.069888Z",
     "iopub.status.busy": "2022-06-15T18:40:06.069067Z",
     "iopub.status.idle": "2022-06-15T18:40:06.146706Z",
     "shell.execute_reply": "2022-06-15T18:40:06.145713Z"
    },
    "papermill": {
     "duration": 0.150594,
     "end_time": "2022-06-15T18:40:06.149339",
     "exception": false,
     "start_time": "2022-06-15T18:40:05.998745",
     "status": "completed"
    },
    "tags": []
   },
   "outputs": [],
   "source": [
    "#args = TrainingArguments('outputs', learning_rate=lr, warmup_ratio=0.1, lr_scheduler_type='cosine', fp16=True,\n",
    "    #evaluation_strategy=\"epoch\", per_device_train_batch_size=bs, per_device_eval_batch_size=bs*2,\n",
    "     #num_train_epochs=epochs, weight_decay=wd, report_to='none')\n",
    "args = TrainingArguments('outputs', learning_rate=lr, warmup_ratio=0.1, lr_scheduler_type='cosine',\n",
    "    evaluation_strategy=\"epoch\", per_device_train_batch_size=bs, per_device_eval_batch_size=bs*2,\n",
    "    num_train_epochs=epochs, weight_decay=wd, report_to='none')"
   ]
  },
  {
   "cell_type": "code",
   "execution_count": 32,
   "id": "4e563dbf",
   "metadata": {
    "execution": {
     "iopub.execute_input": "2022-06-15T18:40:06.292626Z",
     "iopub.status.busy": "2022-06-15T18:40:06.292382Z",
     "iopub.status.idle": "2022-06-15T18:40:17.370394Z",
     "shell.execute_reply": "2022-06-15T18:40:17.369405Z"
    },
    "papermill": {
     "duration": 11.153039,
     "end_time": "2022-06-15T18:40:17.373213",
     "exception": false,
     "start_time": "2022-06-15T18:40:06.220174",
     "status": "completed"
    },
    "tags": []
   },
   "outputs": [],
   "source": [
    "model = AutoModelForSequenceClassification.from_pretrained(model_name, num_labels=1, ignore_mismatched_sizes=True)\n",
    "trainer = Trainer(model, args, train_dataset=dds['train'], eval_dataset=dds['test'],\n",
    "               tokenizer=tokenizer, compute_metrics=corr)"
   ]
  },
  {
   "cell_type": "code",
   "execution_count": 33,
   "id": "781d9d7c",
   "metadata": {
    "execution": {
     "iopub.execute_input": "2022-06-15T18:40:17.522294Z",
     "iopub.status.busy": "2022-06-15T18:40:17.521964Z",
     "iopub.status.idle": "2022-06-15T18:40:17.532216Z",
     "shell.execute_reply": "2022-06-15T18:40:17.531272Z"
    },
    "papermill": {
     "duration": 0.085184,
     "end_time": "2022-06-15T18:40:17.534657",
     "exception": false,
     "start_time": "2022-06-15T18:40:17.449473",
     "status": "completed"
    },
    "tags": []
   },
   "outputs": [
    {
     "data": {
      "text/plain": [
       "{'label': 0.5,\n",
       " '__index_level_0__': 0,\n",
       " 'input_ids': [0,\n",
       "  2533,\n",
       "  26789,\n",
       "  7975,\n",
       "  6451,\n",
       "  1035,\n",
       "  19806,\n",
       "  1037,\n",
       "  19561,\n",
       "  18536,\n",
       "  4769,\n",
       "  1035,\n",
       "  19806,\n",
       "  1037,\n",
       "  19561,\n",
       "  18536,\n",
       "  4769,\n",
       "  2001,\n",
       "  10800,\n",
       "  2],\n",
       " 'attention_mask': [1,\n",
       "  1,\n",
       "  1,\n",
       "  1,\n",
       "  1,\n",
       "  1,\n",
       "  1,\n",
       "  1,\n",
       "  1,\n",
       "  1,\n",
       "  1,\n",
       "  1,\n",
       "  1,\n",
       "  1,\n",
       "  1,\n",
       "  1,\n",
       "  1,\n",
       "  1,\n",
       "  1,\n",
       "  1]}"
      ]
     },
     "execution_count": 33,
     "metadata": {},
     "output_type": "execute_result"
    }
   ],
   "source": [
    "dds['train'][0]"
   ]
  },
  {
   "cell_type": "code",
   "execution_count": 34,
   "id": "aadb1610",
   "metadata": {
    "execution": {
     "iopub.execute_input": "2022-06-15T18:40:17.681913Z",
     "iopub.status.busy": "2022-06-15T18:40:17.681683Z",
     "iopub.status.idle": "2022-06-15T18:46:35.951202Z",
     "shell.execute_reply": "2022-06-15T18:46:35.950180Z"
    },
    "papermill": {
     "duration": 378.345598,
     "end_time": "2022-06-15T18:46:35.954254",
     "exception": false,
     "start_time": "2022-06-15T18:40:17.608656",
     "status": "completed"
    },
    "tags": []
   },
   "outputs": [
    {
     "data": {
      "text/html": [
       "\n",
       "    <div>\n",
       "      \n",
       "      <progress value='1696' max='1696' style='width:300px; height:20px; vertical-align: middle;'></progress>\n",
       "      [1696/1696 06:16, Epoch 4/4]\n",
       "    </div>\n",
       "    <table border=\"1\" class=\"dataframe\">\n",
       "  <thead>\n",
       " <tr style=\"text-align: left;\">\n",
       "      <th>Epoch</th>\n",
       "      <th>Training Loss</th>\n",
       "      <th>Validation Loss</th>\n",
       "      <th>Pearson</th>\n",
       "    </tr>\n",
       "  </thead>\n",
       "  <tbody>\n",
       "    <tr>\n",
       "      <td>1</td>\n",
       "      <td>No log</td>\n",
       "      <td>0.021913</td>\n",
       "      <td>0.878728</td>\n",
       "    </tr>\n",
       "    <tr>\n",
       "      <td>2</td>\n",
       "      <td>0.015400</td>\n",
       "      <td>0.014768</td>\n",
       "      <td>0.883138</td>\n",
       "    </tr>\n",
       "    <tr>\n",
       "      <td>3</td>\n",
       "      <td>0.011200</td>\n",
       "      <td>0.015245</td>\n",
       "      <td>0.891145</td>\n",
       "    </tr>\n",
       "    <tr>\n",
       "      <td>4</td>\n",
       "      <td>0.007100</td>\n",
       "      <td>0.014845</td>\n",
       "      <td>0.893373</td>\n",
       "    </tr>\n",
       "  </tbody>\n",
       "</table><p>"
      ],
      "text/plain": [
       "<IPython.core.display.HTML object>"
      ]
     },
     "metadata": {},
     "output_type": "display_data"
    },
    {
     "data": {
      "text/plain": [
       "TrainOutput(global_step=1696, training_loss=0.010615652883952519, metrics={'train_runtime': 378.2473, 'train_samples_per_second': 286.744, 'train_steps_per_second': 4.484, 'total_flos': 1367150796214716.0, 'train_loss': 0.010615652883952519, 'epoch': 4.0})"
      ]
     },
     "execution_count": 34,
     "metadata": {},
     "output_type": "execute_result"
    }
   ],
   "source": [
    "trainer.train()"
   ]
  },
  {
   "cell_type": "code",
   "execution_count": 35,
   "id": "50824fa8",
   "metadata": {
    "execution": {
     "iopub.execute_input": "2022-06-15T18:46:36.196063Z",
     "iopub.status.busy": "2022-06-15T18:46:36.195557Z",
     "iopub.status.idle": "2022-06-15T18:46:37.234138Z",
     "shell.execute_reply": "2022-06-15T18:46:37.232771Z"
    },
    "papermill": {
     "duration": 1.162296,
     "end_time": "2022-06-15T18:46:37.236936",
     "exception": false,
     "start_time": "2022-06-15T18:46:36.074640",
     "status": "completed"
    },
    "tags": []
   },
   "outputs": [],
   "source": [
    "trainer.save_model()"
   ]
  },
  {
   "cell_type": "markdown",
   "id": "c182bf75",
   "metadata": {
    "papermill": {
     "duration": 0.076729,
     "end_time": "2022-06-15T18:46:37.386644",
     "exception": false,
     "start_time": "2022-06-15T18:46:37.309915",
     "status": "completed"
    },
    "tags": []
   },
   "source": [
    "# Test corpus preprocessing"
   ]
  },
  {
   "cell_type": "code",
   "execution_count": 36,
   "id": "49cdd78d",
   "metadata": {
    "execution": {
     "iopub.execute_input": "2022-06-15T18:46:37.538726Z",
     "iopub.status.busy": "2022-06-15T18:46:37.538444Z",
     "iopub.status.idle": "2022-06-15T18:46:37.551959Z",
     "shell.execute_reply": "2022-06-15T18:46:37.550936Z"
    },
    "papermill": {
     "duration": 0.092473,
     "end_time": "2022-06-15T18:46:37.554262",
     "exception": false,
     "start_time": "2022-06-15T18:46:37.461789",
     "status": "completed"
    },
    "tags": []
   },
   "outputs": [
    {
     "data": {
      "text/html": [
       "<div>\n",
       "<style scoped>\n",
       "    .dataframe tbody tr th:only-of-type {\n",
       "        vertical-align: middle;\n",
       "    }\n",
       "\n",
       "    .dataframe tbody tr th {\n",
       "        vertical-align: top;\n",
       "    }\n",
       "\n",
       "    .dataframe thead th {\n",
       "        text-align: right;\n",
       "    }\n",
       "</style>\n",
       "<table border=\"1\" class=\"dataframe\">\n",
       "  <thead>\n",
       "    <tr style=\"text-align: right;\">\n",
       "      <th></th>\n",
       "      <th>id</th>\n",
       "      <th>anchor</th>\n",
       "      <th>target</th>\n",
       "      <th>context</th>\n",
       "    </tr>\n",
       "  </thead>\n",
       "  <tbody>\n",
       "    <tr>\n",
       "      <th>0</th>\n",
       "      <td>4112d61851461f60</td>\n",
       "      <td>opc drum</td>\n",
       "      <td>inorganic photoconductor drum</td>\n",
       "      <td>G02</td>\n",
       "    </tr>\n",
       "    <tr>\n",
       "      <th>1</th>\n",
       "      <td>09e418c93a776564</td>\n",
       "      <td>adjust gas flow</td>\n",
       "      <td>altering gas flow</td>\n",
       "      <td>F23</td>\n",
       "    </tr>\n",
       "    <tr>\n",
       "      <th>2</th>\n",
       "      <td>36baf228038e314b</td>\n",
       "      <td>lower trunnion</td>\n",
       "      <td>lower locating</td>\n",
       "      <td>B60</td>\n",
       "    </tr>\n",
       "    <tr>\n",
       "      <th>3</th>\n",
       "      <td>1f37ead645e7f0c8</td>\n",
       "      <td>cap component</td>\n",
       "      <td>upper portion</td>\n",
       "      <td>D06</td>\n",
       "    </tr>\n",
       "    <tr>\n",
       "      <th>4</th>\n",
       "      <td>71a5b6ad068d531f</td>\n",
       "      <td>neural stimulation</td>\n",
       "      <td>artificial neural network</td>\n",
       "      <td>H04</td>\n",
       "    </tr>\n",
       "  </tbody>\n",
       "</table>\n",
       "</div>"
      ],
      "text/plain": [
       "                 id              anchor                         target context\n",
       "0  4112d61851461f60            opc drum  inorganic photoconductor drum     G02\n",
       "1  09e418c93a776564     adjust gas flow              altering gas flow     F23\n",
       "2  36baf228038e314b      lower trunnion                 lower locating     B60\n",
       "3  1f37ead645e7f0c8       cap component                  upper portion     D06\n",
       "4  71a5b6ad068d531f  neural stimulation      artificial neural network     H04"
      ]
     },
     "execution_count": 36,
     "metadata": {},
     "output_type": "execute_result"
    }
   ],
   "source": [
    "test.head()"
   ]
  },
  {
   "cell_type": "code",
   "execution_count": 37,
   "id": "b58d480d",
   "metadata": {
    "execution": {
     "iopub.execute_input": "2022-06-15T18:46:37.706198Z",
     "iopub.status.busy": "2022-06-15T18:46:37.705352Z",
     "iopub.status.idle": "2022-06-15T18:46:37.949741Z",
     "shell.execute_reply": "2022-06-15T18:46:37.948591Z"
    },
    "papermill": {
     "duration": 0.323453,
     "end_time": "2022-06-15T18:46:37.952833",
     "exception": false,
     "start_time": "2022-06-15T18:46:37.629380",
     "status": "completed"
    },
    "tags": []
   },
   "outputs": [
    {
     "name": "stdout",
     "output_type": "stream",
     "text": [
      "(36, 5)\n"
     ]
    },
    {
     "data": {
      "text/html": [
       "<div>\n",
       "<style scoped>\n",
       "    .dataframe tbody tr th:only-of-type {\n",
       "        vertical-align: middle;\n",
       "    }\n",
       "\n",
       "    .dataframe tbody tr th {\n",
       "        vertical-align: top;\n",
       "    }\n",
       "\n",
       "    .dataframe thead th {\n",
       "        text-align: right;\n",
       "    }\n",
       "</style>\n",
       "<table border=\"1\" class=\"dataframe\">\n",
       "  <thead>\n",
       "    <tr style=\"text-align: right;\">\n",
       "      <th></th>\n",
       "      <th>context</th>\n",
       "      <th>title</th>\n",
       "      <th>section</th>\n",
       "      <th>class</th>\n",
       "      <th>subclass</th>\n",
       "      <th>group</th>\n",
       "      <th>main_group</th>\n",
       "    </tr>\n",
       "  </thead>\n",
       "  <tbody>\n",
       "    <tr>\n",
       "      <th>0</th>\n",
       "      <td>A</td>\n",
       "      <td>HUMAN NECESSITIES</td>\n",
       "      <td>A</td>\n",
       "      <td>NaN</td>\n",
       "      <td>NaN</td>\n",
       "      <td>NaN</td>\n",
       "      <td>NaN</td>\n",
       "    </tr>\n",
       "    <tr>\n",
       "      <th>1</th>\n",
       "      <td>A01</td>\n",
       "      <td>AGRICULTURE; FORESTRY; ANIMAL HUSBANDRY; HUNTI...</td>\n",
       "      <td>A</td>\n",
       "      <td>1.0</td>\n",
       "      <td>NaN</td>\n",
       "      <td>NaN</td>\n",
       "      <td>NaN</td>\n",
       "    </tr>\n",
       "    <tr>\n",
       "      <th>2</th>\n",
       "      <td>A01B</td>\n",
       "      <td>SOIL WORKING IN AGRICULTURE OR FORESTRY; PARTS...</td>\n",
       "      <td>A</td>\n",
       "      <td>1.0</td>\n",
       "      <td>B</td>\n",
       "      <td>NaN</td>\n",
       "      <td>NaN</td>\n",
       "    </tr>\n",
       "    <tr>\n",
       "      <th>3</th>\n",
       "      <td>A01B1/00</td>\n",
       "      <td>Hand tools (edge trimmers for lawns A01G3/06  ...</td>\n",
       "      <td>A</td>\n",
       "      <td>1.0</td>\n",
       "      <td>B</td>\n",
       "      <td>1.0</td>\n",
       "      <td>0.0</td>\n",
       "    </tr>\n",
       "    <tr>\n",
       "      <th>4</th>\n",
       "      <td>A01B1/02</td>\n",
       "      <td>Spades; Shovels {(hand-operated dredgers E02F3...</td>\n",
       "      <td>A</td>\n",
       "      <td>1.0</td>\n",
       "      <td>B</td>\n",
       "      <td>1.0</td>\n",
       "      <td>2.0</td>\n",
       "    </tr>\n",
       "  </tbody>\n",
       "</table>\n",
       "</div>"
      ],
      "text/plain": [
       "    context                                              title section  class  \\\n",
       "0         A                                  HUMAN NECESSITIES       A    NaN   \n",
       "1       A01  AGRICULTURE; FORESTRY; ANIMAL HUSBANDRY; HUNTI...       A    1.0   \n",
       "2      A01B  SOIL WORKING IN AGRICULTURE OR FORESTRY; PARTS...       A    1.0   \n",
       "3  A01B1/00  Hand tools (edge trimmers for lawns A01G3/06  ...       A    1.0   \n",
       "4  A01B1/02  Spades; Shovels {(hand-operated dredgers E02F3...       A    1.0   \n",
       "\n",
       "  subclass  group  main_group  \n",
       "0      NaN    NaN         NaN  \n",
       "1      NaN    NaN         NaN  \n",
       "2        B    NaN         NaN  \n",
       "3        B    1.0         0.0  \n",
       "4        B    1.0         2.0  "
      ]
     },
     "metadata": {},
     "output_type": "display_data"
    },
    {
     "data": {
      "text/html": [
       "<div>\n",
       "<style scoped>\n",
       "    .dataframe tbody tr th:only-of-type {\n",
       "        vertical-align: middle;\n",
       "    }\n",
       "\n",
       "    .dataframe tbody tr th {\n",
       "        vertical-align: top;\n",
       "    }\n",
       "\n",
       "    .dataframe thead th {\n",
       "        text-align: right;\n",
       "    }\n",
       "</style>\n",
       "<table border=\"1\" class=\"dataframe\">\n",
       "  <thead>\n",
       "    <tr style=\"text-align: right;\">\n",
       "      <th></th>\n",
       "      <th>id</th>\n",
       "      <th>anchor</th>\n",
       "      <th>target</th>\n",
       "      <th>context</th>\n",
       "      <th>section</th>\n",
       "      <th>context_title</th>\n",
       "      <th>section_title</th>\n",
       "    </tr>\n",
       "  </thead>\n",
       "  <tbody>\n",
       "    <tr>\n",
       "      <th>0</th>\n",
       "      <td>4112d61851461f60</td>\n",
       "      <td>opc drum</td>\n",
       "      <td>inorganic photoconductor drum</td>\n",
       "      <td>G02</td>\n",
       "      <td>G</td>\n",
       "      <td>OPTICS</td>\n",
       "      <td>PHYSICS</td>\n",
       "    </tr>\n",
       "    <tr>\n",
       "      <th>1</th>\n",
       "      <td>5203a36c501f1b7c</td>\n",
       "      <td>generate in layer</td>\n",
       "      <td>generate by layer</td>\n",
       "      <td>G02</td>\n",
       "      <td>G</td>\n",
       "      <td>OPTICS</td>\n",
       "      <td>PHYSICS</td>\n",
       "    </tr>\n",
       "    <tr>\n",
       "      <th>2</th>\n",
       "      <td>7aa5908a77a7ec24</td>\n",
       "      <td>el display</td>\n",
       "      <td>illumination</td>\n",
       "      <td>G02</td>\n",
       "      <td>G</td>\n",
       "      <td>OPTICS</td>\n",
       "      <td>PHYSICS</td>\n",
       "    </tr>\n",
       "    <tr>\n",
       "      <th>3</th>\n",
       "      <td>442c114ed5c4e3c9</td>\n",
       "      <td>tunneling capacitor</td>\n",
       "      <td>capacitor housing</td>\n",
       "      <td>G11</td>\n",
       "      <td>G</td>\n",
       "      <td>INFORMATION STORAGE</td>\n",
       "      <td>PHYSICS</td>\n",
       "    </tr>\n",
       "    <tr>\n",
       "      <th>4</th>\n",
       "      <td>12ca31f018a2e2b9</td>\n",
       "      <td>speed control means</td>\n",
       "      <td>control loop</td>\n",
       "      <td>G05</td>\n",
       "      <td>G</td>\n",
       "      <td>CONTROLLING; REGULATING</td>\n",
       "      <td>PHYSICS</td>\n",
       "    </tr>\n",
       "  </tbody>\n",
       "</table>\n",
       "</div>"
      ],
      "text/plain": [
       "                 id               anchor                         target  \\\n",
       "0  4112d61851461f60             opc drum  inorganic photoconductor drum   \n",
       "1  5203a36c501f1b7c    generate in layer              generate by layer   \n",
       "2  7aa5908a77a7ec24           el display                   illumination   \n",
       "3  442c114ed5c4e3c9  tunneling capacitor              capacitor housing   \n",
       "4  12ca31f018a2e2b9  speed control means                   control loop   \n",
       "\n",
       "  context section            context_title section_title  \n",
       "0     G02       G                   OPTICS       PHYSICS  \n",
       "1     G02       G                   OPTICS       PHYSICS  \n",
       "2     G02       G                   OPTICS       PHYSICS  \n",
       "3     G11       G      INFORMATION STORAGE       PHYSICS  \n",
       "4     G05       G  CONTROLLING; REGULATING       PHYSICS  "
      ]
     },
     "metadata": {},
     "output_type": "display_data"
    }
   ],
   "source": [
    "test['section'] = test[\"context\"].str[0]\n",
    "print(test.shape)\n",
    "display(titles.head())\n",
    "test = test.merge(titles[[\"context\", \"title\"]], on=\"context\").rename(columns={\"title\": \"context_title\"})\n",
    "test = test.merge(titles[[\"context\", \"title\"]].rename(columns={\"context\": \"section\"}), on=\"section\").rename(columns={\"title\": \"section_title\"})\n",
    "display(test.head())"
   ]
  },
  {
   "cell_type": "code",
   "execution_count": 38,
   "id": "d445b085",
   "metadata": {
    "execution": {
     "iopub.execute_input": "2022-06-15T18:46:38.102414Z",
     "iopub.status.busy": "2022-06-15T18:46:38.102157Z",
     "iopub.status.idle": "2022-06-15T18:46:38.109312Z",
     "shell.execute_reply": "2022-06-15T18:46:38.108213Z"
    },
    "papermill": {
     "duration": 0.08334,
     "end_time": "2022-06-15T18:46:38.111514",
     "exception": false,
     "start_time": "2022-06-15T18:46:38.028174",
     "status": "completed"
    },
    "tags": []
   },
   "outputs": [],
   "source": [
    "test[\"inputs\"] = test[\"section_title\"].apply(clean) + \" [SEP] \" + test[\"anchor\"] + \" [SEP] \" + test[\"target\"]"
   ]
  },
  {
   "cell_type": "code",
   "execution_count": 39,
   "id": "57cb1fe1",
   "metadata": {
    "execution": {
     "iopub.execute_input": "2022-06-15T18:46:38.264853Z",
     "iopub.status.busy": "2022-06-15T18:46:38.264596Z",
     "iopub.status.idle": "2022-06-15T18:46:38.274607Z",
     "shell.execute_reply": "2022-06-15T18:46:38.273752Z"
    },
    "papermill": {
     "duration": 0.089929,
     "end_time": "2022-06-15T18:46:38.276881",
     "exception": false,
     "start_time": "2022-06-15T18:46:38.186952",
     "status": "completed"
    },
    "tags": []
   },
   "outputs": [],
   "source": [
    "test_ds = Dataset.from_pandas(test)"
   ]
  },
  {
   "cell_type": "code",
   "execution_count": 40,
   "id": "0a5c539c",
   "metadata": {
    "execution": {
     "iopub.execute_input": "2022-06-15T18:46:38.429365Z",
     "iopub.status.busy": "2022-06-15T18:46:38.429053Z",
     "iopub.status.idle": "2022-06-15T18:46:38.437856Z",
     "shell.execute_reply": "2022-06-15T18:46:38.436945Z"
    },
    "papermill": {
     "duration": 0.086443,
     "end_time": "2022-06-15T18:46:38.440128",
     "exception": false,
     "start_time": "2022-06-15T18:46:38.353685",
     "status": "completed"
    },
    "tags": []
   },
   "outputs": [
    {
     "data": {
      "text/plain": [
       "Dataset({\n",
       "    features: ['id', 'anchor', 'target', 'context', 'section', 'context_title', 'section_title', 'inputs', '__index_level_0__'],\n",
       "    num_rows: 36\n",
       "})"
      ]
     },
     "execution_count": 40,
     "metadata": {},
     "output_type": "execute_result"
    }
   ],
   "source": [
    "test_ds"
   ]
  },
  {
   "cell_type": "code",
   "execution_count": 41,
   "id": "afd86423",
   "metadata": {
    "execution": {
     "iopub.execute_input": "2022-06-15T18:46:38.595795Z",
     "iopub.status.busy": "2022-06-15T18:46:38.595493Z",
     "iopub.status.idle": "2022-06-15T18:46:38.661691Z",
     "shell.execute_reply": "2022-06-15T18:46:38.660486Z"
    },
    "papermill": {
     "duration": 0.147459,
     "end_time": "2022-06-15T18:46:38.664900",
     "exception": false,
     "start_time": "2022-06-15T18:46:38.517441",
     "status": "completed"
    },
    "tags": []
   },
   "outputs": [
    {
     "data": {
      "application/vnd.jupyter.widget-view+json": {
       "model_id": "8bbaf45f44ac4c50bcbdb0173b0e26a2",
       "version_major": 2,
       "version_minor": 0
      },
      "text/plain": [
       "  0%|          | 0/1 [00:00<?, ?ba/s]"
      ]
     },
     "metadata": {},
     "output_type": "display_data"
    }
   ],
   "source": [
    "inps = \"anchor\",\"target\",\"context\",\"context_title\",\"section_title\"\n",
    "test_tok_ds = test_ds.map(tok_func, batched=True, remove_columns=inps+('inputs','id','section'))"
   ]
  },
  {
   "cell_type": "code",
   "execution_count": 42,
   "id": "fc5ef594",
   "metadata": {
    "execution": {
     "iopub.execute_input": "2022-06-15T18:46:38.820109Z",
     "iopub.status.busy": "2022-06-15T18:46:38.819851Z",
     "iopub.status.idle": "2022-06-15T18:46:38.873671Z",
     "shell.execute_reply": "2022-06-15T18:46:38.872796Z"
    },
    "papermill": {
     "duration": 0.132886,
     "end_time": "2022-06-15T18:46:38.875903",
     "exception": false,
     "start_time": "2022-06-15T18:46:38.743017",
     "status": "completed"
    },
    "tags": []
   },
   "outputs": [
    {
     "data": {
      "text/html": [
       "\n",
       "    <div>\n",
       "      \n",
       "      <progress value='1' max='1' style='width:300px; height:20px; vertical-align: middle;'></progress>\n",
       "      [1/1 : < :]\n",
       "    </div>\n",
       "    "
      ],
      "text/plain": [
       "<IPython.core.display.HTML object>"
      ]
     },
     "metadata": {},
     "output_type": "display_data"
    },
    {
     "data": {
      "text/plain": [
       "array([[ 0.49192902],\n",
       "       [ 1.01180053],\n",
       "       [ 0.27321777],\n",
       "       [ 0.50883985],\n",
       "       [ 0.15532695],\n",
       "       [ 0.79315227],\n",
       "       [ 0.52949548],\n",
       "       [ 0.75912106],\n",
       "       [ 1.05208457],\n",
       "       [ 0.26867014],\n",
       "       [ 0.268154  ],\n",
       "       [ 0.53384495],\n",
       "       [-0.0079232 ],\n",
       "       [ 0.56982422],\n",
       "       [ 0.77778244],\n",
       "       [-0.00385815],\n",
       "       [ 0.19702075],\n",
       "       [ 0.78184533],\n",
       "       [ 0.7969408 ],\n",
       "       [-0.0103711 ],\n",
       "       [ 0.2803936 ],\n",
       "       [ 0.23474042],\n",
       "       [-0.00709068],\n",
       "       [ 0.28545764],\n",
       "       [-0.00724544],\n",
       "       [ 0.48683783],\n",
       "       [ 0.31521079],\n",
       "       [ 0.53596586],\n",
       "       [ 0.05472084],\n",
       "       [ 0.48354414],\n",
       "       [ 0.47155106],\n",
       "       [ 0.20992929],\n",
       "       [-0.00682015],\n",
       "       [ 0.22267312],\n",
       "       [-0.00698859],\n",
       "       [-0.00766702]])"
      ]
     },
     "execution_count": 42,
     "metadata": {},
     "output_type": "execute_result"
    }
   ],
   "source": [
    "preds = trainer.predict(test_tok_ds).predictions.astype(float)\n",
    "preds"
   ]
  },
  {
   "cell_type": "code",
   "execution_count": 43,
   "id": "1fb5ec7a",
   "metadata": {
    "execution": {
     "iopub.execute_input": "2022-06-15T18:46:39.030686Z",
     "iopub.status.busy": "2022-06-15T18:46:39.030449Z",
     "iopub.status.idle": "2022-06-15T18:46:39.036195Z",
     "shell.execute_reply": "2022-06-15T18:46:39.035321Z"
    },
    "papermill": {
     "duration": 0.085587,
     "end_time": "2022-06-15T18:46:39.038800",
     "exception": false,
     "start_time": "2022-06-15T18:46:38.953213",
     "status": "completed"
    },
    "tags": []
   },
   "outputs": [
    {
     "data": {
      "text/plain": [
       "numpy.ndarray"
      ]
     },
     "execution_count": 43,
     "metadata": {},
     "output_type": "execute_result"
    }
   ],
   "source": [
    "type(preds)"
   ]
  },
  {
   "cell_type": "code",
   "execution_count": 44,
   "id": "8916b6eb",
   "metadata": {
    "execution": {
     "iopub.execute_input": "2022-06-15T18:46:39.194390Z",
     "iopub.status.busy": "2022-06-15T18:46:39.193570Z",
     "iopub.status.idle": "2022-06-15T18:46:39.198815Z",
     "shell.execute_reply": "2022-06-15T18:46:39.197732Z"
    },
    "papermill": {
     "duration": 0.085286,
     "end_time": "2022-06-15T18:46:39.201180",
     "exception": false,
     "start_time": "2022-06-15T18:46:39.115894",
     "status": "completed"
    },
    "tags": []
   },
   "outputs": [],
   "source": [
    "df_submission = pd.DataFrame()"
   ]
  },
  {
   "cell_type": "code",
   "execution_count": 45,
   "id": "096dec21",
   "metadata": {
    "execution": {
     "iopub.execute_input": "2022-06-15T18:46:39.359311Z",
     "iopub.status.busy": "2022-06-15T18:46:39.359057Z",
     "iopub.status.idle": "2022-06-15T18:46:39.365712Z",
     "shell.execute_reply": "2022-06-15T18:46:39.364196Z"
    },
    "papermill": {
     "duration": 0.087806,
     "end_time": "2022-06-15T18:46:39.367788",
     "exception": false,
     "start_time": "2022-06-15T18:46:39.279982",
     "status": "completed"
    },
    "tags": []
   },
   "outputs": [],
   "source": [
    "df_submission['id'] = test['id'].copy()"
   ]
  },
  {
   "cell_type": "code",
   "execution_count": 46,
   "id": "7729f3fa",
   "metadata": {
    "execution": {
     "iopub.execute_input": "2022-06-15T18:46:39.524931Z",
     "iopub.status.busy": "2022-06-15T18:46:39.524666Z",
     "iopub.status.idle": "2022-06-15T18:46:39.535129Z",
     "shell.execute_reply": "2022-06-15T18:46:39.534217Z"
    },
    "papermill": {
     "duration": 0.090457,
     "end_time": "2022-06-15T18:46:39.537654",
     "exception": false,
     "start_time": "2022-06-15T18:46:39.447197",
     "status": "completed"
    },
    "tags": []
   },
   "outputs": [
    {
     "data": {
      "text/html": [
       "<div>\n",
       "<style scoped>\n",
       "    .dataframe tbody tr th:only-of-type {\n",
       "        vertical-align: middle;\n",
       "    }\n",
       "\n",
       "    .dataframe tbody tr th {\n",
       "        vertical-align: top;\n",
       "    }\n",
       "\n",
       "    .dataframe thead th {\n",
       "        text-align: right;\n",
       "    }\n",
       "</style>\n",
       "<table border=\"1\" class=\"dataframe\">\n",
       "  <thead>\n",
       "    <tr style=\"text-align: right;\">\n",
       "      <th></th>\n",
       "      <th>id</th>\n",
       "    </tr>\n",
       "  </thead>\n",
       "  <tbody>\n",
       "    <tr>\n",
       "      <th>0</th>\n",
       "      <td>4112d61851461f60</td>\n",
       "    </tr>\n",
       "    <tr>\n",
       "      <th>1</th>\n",
       "      <td>5203a36c501f1b7c</td>\n",
       "    </tr>\n",
       "    <tr>\n",
       "      <th>2</th>\n",
       "      <td>7aa5908a77a7ec24</td>\n",
       "    </tr>\n",
       "    <tr>\n",
       "      <th>3</th>\n",
       "      <td>442c114ed5c4e3c9</td>\n",
       "    </tr>\n",
       "    <tr>\n",
       "      <th>4</th>\n",
       "      <td>12ca31f018a2e2b9</td>\n",
       "    </tr>\n",
       "    <tr>\n",
       "      <th>5</th>\n",
       "      <td>9f2279ce667b21dc</td>\n",
       "    </tr>\n",
       "    <tr>\n",
       "      <th>6</th>\n",
       "      <td>b9ea2b06a878df6f</td>\n",
       "    </tr>\n",
       "    <tr>\n",
       "      <th>7</th>\n",
       "      <td>09e418c93a776564</td>\n",
       "    </tr>\n",
       "    <tr>\n",
       "      <th>8</th>\n",
       "      <td>ae0262c02566d2ce</td>\n",
       "    </tr>\n",
       "    <tr>\n",
       "      <th>9</th>\n",
       "      <td>03ba802ed4029e4d</td>\n",
       "    </tr>\n",
       "    <tr>\n",
       "      <th>10</th>\n",
       "      <td>25522ee5411e63e9</td>\n",
       "    </tr>\n",
       "    <tr>\n",
       "      <th>11</th>\n",
       "      <td>c404f8b378cbb008</td>\n",
       "    </tr>\n",
       "    <tr>\n",
       "      <th>12</th>\n",
       "      <td>26c3c6dc6174b589</td>\n",
       "    </tr>\n",
       "    <tr>\n",
       "      <th>13</th>\n",
       "      <td>36baf228038e314b</td>\n",
       "    </tr>\n",
       "    <tr>\n",
       "      <th>14</th>\n",
       "      <td>b892011ab2e2cabc</td>\n",
       "    </tr>\n",
       "    <tr>\n",
       "      <th>15</th>\n",
       "      <td>b8ae62ea5e1d8bdb</td>\n",
       "    </tr>\n",
       "    <tr>\n",
       "      <th>16</th>\n",
       "      <td>a8808e31641e856d</td>\n",
       "    </tr>\n",
       "    <tr>\n",
       "      <th>17</th>\n",
       "      <td>25c555ca3d5a2092</td>\n",
       "    </tr>\n",
       "    <tr>\n",
       "      <th>18</th>\n",
       "      <td>b9fdc772bb8fd61c</td>\n",
       "    </tr>\n",
       "    <tr>\n",
       "      <th>19</th>\n",
       "      <td>de51114bc0faec3e</td>\n",
       "    </tr>\n",
       "    <tr>\n",
       "      <th>20</th>\n",
       "      <td>8247ff562ca185cc</td>\n",
       "    </tr>\n",
       "    <tr>\n",
       "      <th>21</th>\n",
       "      <td>1f37ead645e7f0c8</td>\n",
       "    </tr>\n",
       "    <tr>\n",
       "      <th>22</th>\n",
       "      <td>71a5b6ad068d531f</td>\n",
       "    </tr>\n",
       "    <tr>\n",
       "      <th>23</th>\n",
       "      <td>16ae4b99d3601e60</td>\n",
       "    </tr>\n",
       "    <tr>\n",
       "      <th>24</th>\n",
       "      <td>fd83613b7843f5e1</td>\n",
       "    </tr>\n",
       "    <tr>\n",
       "      <th>25</th>\n",
       "      <td>733979d75f59770d</td>\n",
       "    </tr>\n",
       "    <tr>\n",
       "      <th>26</th>\n",
       "      <td>79795133c30ef097</td>\n",
       "    </tr>\n",
       "    <tr>\n",
       "      <th>27</th>\n",
       "      <td>474c874d0c07bd21</td>\n",
       "    </tr>\n",
       "    <tr>\n",
       "      <th>28</th>\n",
       "      <td>faaddaf8fcba8a3f</td>\n",
       "    </tr>\n",
       "    <tr>\n",
       "      <th>29</th>\n",
       "      <td>2a619016908bfa45</td>\n",
       "    </tr>\n",
       "    <tr>\n",
       "      <th>30</th>\n",
       "      <td>6546846df17f9800</td>\n",
       "    </tr>\n",
       "    <tr>\n",
       "      <th>31</th>\n",
       "      <td>d19ef3979396d47e</td>\n",
       "    </tr>\n",
       "    <tr>\n",
       "      <th>32</th>\n",
       "      <td>7e3aff857f056bf9</td>\n",
       "    </tr>\n",
       "    <tr>\n",
       "      <th>33</th>\n",
       "      <td>3ff0e7a35015be69</td>\n",
       "    </tr>\n",
       "    <tr>\n",
       "      <th>34</th>\n",
       "      <td>78243984c02a72e4</td>\n",
       "    </tr>\n",
       "    <tr>\n",
       "      <th>35</th>\n",
       "      <td>c057aecbba832387</td>\n",
       "    </tr>\n",
       "  </tbody>\n",
       "</table>\n",
       "</div>"
      ],
      "text/plain": [
       "                  id\n",
       "0   4112d61851461f60\n",
       "1   5203a36c501f1b7c\n",
       "2   7aa5908a77a7ec24\n",
       "3   442c114ed5c4e3c9\n",
       "4   12ca31f018a2e2b9\n",
       "5   9f2279ce667b21dc\n",
       "6   b9ea2b06a878df6f\n",
       "7   09e418c93a776564\n",
       "8   ae0262c02566d2ce\n",
       "9   03ba802ed4029e4d\n",
       "10  25522ee5411e63e9\n",
       "11  c404f8b378cbb008\n",
       "12  26c3c6dc6174b589\n",
       "13  36baf228038e314b\n",
       "14  b892011ab2e2cabc\n",
       "15  b8ae62ea5e1d8bdb\n",
       "16  a8808e31641e856d\n",
       "17  25c555ca3d5a2092\n",
       "18  b9fdc772bb8fd61c\n",
       "19  de51114bc0faec3e\n",
       "20  8247ff562ca185cc\n",
       "21  1f37ead645e7f0c8\n",
       "22  71a5b6ad068d531f\n",
       "23  16ae4b99d3601e60\n",
       "24  fd83613b7843f5e1\n",
       "25  733979d75f59770d\n",
       "26  79795133c30ef097\n",
       "27  474c874d0c07bd21\n",
       "28  faaddaf8fcba8a3f\n",
       "29  2a619016908bfa45\n",
       "30  6546846df17f9800\n",
       "31  d19ef3979396d47e\n",
       "32  7e3aff857f056bf9\n",
       "33  3ff0e7a35015be69\n",
       "34  78243984c02a72e4\n",
       "35  c057aecbba832387"
      ]
     },
     "execution_count": 46,
     "metadata": {},
     "output_type": "execute_result"
    }
   ],
   "source": [
    "df_submission"
   ]
  },
  {
   "cell_type": "code",
   "execution_count": 47,
   "id": "7d0e9164",
   "metadata": {
    "execution": {
     "iopub.execute_input": "2022-06-15T18:46:39.692591Z",
     "iopub.status.busy": "2022-06-15T18:46:39.691979Z",
     "iopub.status.idle": "2022-06-15T18:46:39.695996Z",
     "shell.execute_reply": "2022-06-15T18:46:39.695191Z"
    },
    "papermill": {
     "duration": 0.085466,
     "end_time": "2022-06-15T18:46:39.698059",
     "exception": false,
     "start_time": "2022-06-15T18:46:39.612593",
     "status": "completed"
    },
    "tags": []
   },
   "outputs": [],
   "source": [
    "preds_list = preds.tolist()"
   ]
  },
  {
   "cell_type": "code",
   "execution_count": 48,
   "id": "2757339e",
   "metadata": {
    "execution": {
     "iopub.execute_input": "2022-06-15T18:46:39.854066Z",
     "iopub.status.busy": "2022-06-15T18:46:39.853380Z",
     "iopub.status.idle": "2022-06-15T18:46:39.860112Z",
     "shell.execute_reply": "2022-06-15T18:46:39.859172Z"
    },
    "papermill": {
     "duration": 0.087615,
     "end_time": "2022-06-15T18:46:39.862345",
     "exception": false,
     "start_time": "2022-06-15T18:46:39.774730",
     "status": "completed"
    },
    "tags": []
   },
   "outputs": [
    {
     "data": {
      "text/plain": [
       "[[0.4919290244579315],\n",
       " [1.0118005275726318],\n",
       " [0.2732177674770355],\n",
       " [0.5088398456573486],\n",
       " [0.1553269475698471],\n",
       " [0.7931522727012634],\n",
       " [0.5294954776763916],\n",
       " [0.7591210603713989],\n",
       " [1.0520845651626587],\n",
       " [0.26867014169692993],\n",
       " [0.26815399527549744],\n",
       " [0.5338449478149414],\n",
       " [-0.00792319979518652],\n",
       " [0.56982421875],\n",
       " [0.7777824401855469],\n",
       " [-0.0038581511471420527],\n",
       " [0.1970207542181015],\n",
       " [0.7818453311920166],\n",
       " [0.796940803527832],\n",
       " [-0.010371102951467037],\n",
       " [0.2803936004638672],\n",
       " [0.23474042117595673],\n",
       " [-0.007090682163834572],\n",
       " [0.28545764088630676],\n",
       " [-0.007245441898703575],\n",
       " [0.48683783411979675],\n",
       " [0.3152107894420624],\n",
       " [0.5359658598899841],\n",
       " [0.054720837622880936],\n",
       " [0.48354414105415344],\n",
       " [0.4715510606765747],\n",
       " [0.20992928743362427],\n",
       " [-0.006820147857069969],\n",
       " [0.22267311811447144],\n",
       " [-0.0069885943084955215],\n",
       " [-0.007667019963264465]]"
      ]
     },
     "execution_count": 48,
     "metadata": {},
     "output_type": "execute_result"
    }
   ],
   "source": [
    "preds_list"
   ]
  },
  {
   "cell_type": "code",
   "execution_count": 49,
   "id": "a883fe63",
   "metadata": {
    "execution": {
     "iopub.execute_input": "2022-06-15T18:46:40.018646Z",
     "iopub.status.busy": "2022-06-15T18:46:40.017740Z",
     "iopub.status.idle": "2022-06-15T18:46:40.025539Z",
     "shell.execute_reply": "2022-06-15T18:46:40.024538Z"
    },
    "papermill": {
     "duration": 0.089649,
     "end_time": "2022-06-15T18:46:40.027750",
     "exception": false,
     "start_time": "2022-06-15T18:46:39.938101",
     "status": "completed"
    },
    "tags": []
   },
   "outputs": [
    {
     "data": {
      "text/plain": [
       "[0.4919290244579315,\n",
       " 1.0118005275726318,\n",
       " 0.2732177674770355,\n",
       " 0.5088398456573486,\n",
       " 0.1553269475698471,\n",
       " 0.7931522727012634,\n",
       " 0.5294954776763916,\n",
       " 0.7591210603713989,\n",
       " 1.0520845651626587,\n",
       " 0.26867014169692993,\n",
       " 0.26815399527549744,\n",
       " 0.5338449478149414,\n",
       " -0.00792319979518652,\n",
       " 0.56982421875,\n",
       " 0.7777824401855469,\n",
       " -0.0038581511471420527,\n",
       " 0.1970207542181015,\n",
       " 0.7818453311920166,\n",
       " 0.796940803527832,\n",
       " -0.010371102951467037,\n",
       " 0.2803936004638672,\n",
       " 0.23474042117595673,\n",
       " -0.007090682163834572,\n",
       " 0.28545764088630676,\n",
       " -0.007245441898703575,\n",
       " 0.48683783411979675,\n",
       " 0.3152107894420624,\n",
       " 0.5359658598899841,\n",
       " 0.054720837622880936,\n",
       " 0.48354414105415344,\n",
       " 0.4715510606765747,\n",
       " 0.20992928743362427,\n",
       " -0.006820147857069969,\n",
       " 0.22267311811447144,\n",
       " -0.0069885943084955215,\n",
       " -0.007667019963264465]"
      ]
     },
     "execution_count": 49,
     "metadata": {},
     "output_type": "execute_result"
    }
   ],
   "source": [
    "flat_list = [x for xs in preds_list for x in xs]\n",
    "flat_list"
   ]
  },
  {
   "cell_type": "code",
   "execution_count": 50,
   "id": "fd450ba4",
   "metadata": {
    "execution": {
     "iopub.execute_input": "2022-06-15T18:46:40.200337Z",
     "iopub.status.busy": "2022-06-15T18:46:40.199521Z",
     "iopub.status.idle": "2022-06-15T18:46:40.204928Z",
     "shell.execute_reply": "2022-06-15T18:46:40.203923Z"
    },
    "papermill": {
     "duration": 0.099177,
     "end_time": "2022-06-15T18:46:40.207120",
     "exception": false,
     "start_time": "2022-06-15T18:46:40.107943",
     "status": "completed"
    },
    "tags": []
   },
   "outputs": [],
   "source": [
    "df_submission['score' ] = flat_list"
   ]
  },
  {
   "cell_type": "code",
   "execution_count": 51,
   "id": "9dd1f620",
   "metadata": {
    "execution": {
     "iopub.execute_input": "2022-06-15T18:46:40.367867Z",
     "iopub.status.busy": "2022-06-15T18:46:40.367493Z",
     "iopub.status.idle": "2022-06-15T18:46:40.380334Z",
     "shell.execute_reply": "2022-06-15T18:46:40.379384Z"
    },
    "papermill": {
     "duration": 0.096763,
     "end_time": "2022-06-15T18:46:40.382713",
     "exception": false,
     "start_time": "2022-06-15T18:46:40.285950",
     "status": "completed"
    },
    "tags": []
   },
   "outputs": [
    {
     "data": {
      "text/html": [
       "<div>\n",
       "<style scoped>\n",
       "    .dataframe tbody tr th:only-of-type {\n",
       "        vertical-align: middle;\n",
       "    }\n",
       "\n",
       "    .dataframe tbody tr th {\n",
       "        vertical-align: top;\n",
       "    }\n",
       "\n",
       "    .dataframe thead th {\n",
       "        text-align: right;\n",
       "    }\n",
       "</style>\n",
       "<table border=\"1\" class=\"dataframe\">\n",
       "  <thead>\n",
       "    <tr style=\"text-align: right;\">\n",
       "      <th></th>\n",
       "      <th>id</th>\n",
       "      <th>score</th>\n",
       "    </tr>\n",
       "  </thead>\n",
       "  <tbody>\n",
       "    <tr>\n",
       "      <th>0</th>\n",
       "      <td>4112d61851461f60</td>\n",
       "      <td>0.491929</td>\n",
       "    </tr>\n",
       "    <tr>\n",
       "      <th>1</th>\n",
       "      <td>5203a36c501f1b7c</td>\n",
       "      <td>1.011801</td>\n",
       "    </tr>\n",
       "    <tr>\n",
       "      <th>2</th>\n",
       "      <td>7aa5908a77a7ec24</td>\n",
       "      <td>0.273218</td>\n",
       "    </tr>\n",
       "    <tr>\n",
       "      <th>3</th>\n",
       "      <td>442c114ed5c4e3c9</td>\n",
       "      <td>0.508840</td>\n",
       "    </tr>\n",
       "    <tr>\n",
       "      <th>4</th>\n",
       "      <td>12ca31f018a2e2b9</td>\n",
       "      <td>0.155327</td>\n",
       "    </tr>\n",
       "    <tr>\n",
       "      <th>5</th>\n",
       "      <td>9f2279ce667b21dc</td>\n",
       "      <td>0.793152</td>\n",
       "    </tr>\n",
       "    <tr>\n",
       "      <th>6</th>\n",
       "      <td>b9ea2b06a878df6f</td>\n",
       "      <td>0.529495</td>\n",
       "    </tr>\n",
       "    <tr>\n",
       "      <th>7</th>\n",
       "      <td>09e418c93a776564</td>\n",
       "      <td>0.759121</td>\n",
       "    </tr>\n",
       "    <tr>\n",
       "      <th>8</th>\n",
       "      <td>ae0262c02566d2ce</td>\n",
       "      <td>1.052085</td>\n",
       "    </tr>\n",
       "    <tr>\n",
       "      <th>9</th>\n",
       "      <td>03ba802ed4029e4d</td>\n",
       "      <td>0.268670</td>\n",
       "    </tr>\n",
       "    <tr>\n",
       "      <th>10</th>\n",
       "      <td>25522ee5411e63e9</td>\n",
       "      <td>0.268154</td>\n",
       "    </tr>\n",
       "    <tr>\n",
       "      <th>11</th>\n",
       "      <td>c404f8b378cbb008</td>\n",
       "      <td>0.533845</td>\n",
       "    </tr>\n",
       "    <tr>\n",
       "      <th>12</th>\n",
       "      <td>26c3c6dc6174b589</td>\n",
       "      <td>-0.007923</td>\n",
       "    </tr>\n",
       "    <tr>\n",
       "      <th>13</th>\n",
       "      <td>36baf228038e314b</td>\n",
       "      <td>0.569824</td>\n",
       "    </tr>\n",
       "    <tr>\n",
       "      <th>14</th>\n",
       "      <td>b892011ab2e2cabc</td>\n",
       "      <td>0.777782</td>\n",
       "    </tr>\n",
       "    <tr>\n",
       "      <th>15</th>\n",
       "      <td>b8ae62ea5e1d8bdb</td>\n",
       "      <td>-0.003858</td>\n",
       "    </tr>\n",
       "    <tr>\n",
       "      <th>16</th>\n",
       "      <td>a8808e31641e856d</td>\n",
       "      <td>0.197021</td>\n",
       "    </tr>\n",
       "    <tr>\n",
       "      <th>17</th>\n",
       "      <td>25c555ca3d5a2092</td>\n",
       "      <td>0.781845</td>\n",
       "    </tr>\n",
       "    <tr>\n",
       "      <th>18</th>\n",
       "      <td>b9fdc772bb8fd61c</td>\n",
       "      <td>0.796941</td>\n",
       "    </tr>\n",
       "    <tr>\n",
       "      <th>19</th>\n",
       "      <td>de51114bc0faec3e</td>\n",
       "      <td>-0.010371</td>\n",
       "    </tr>\n",
       "    <tr>\n",
       "      <th>20</th>\n",
       "      <td>8247ff562ca185cc</td>\n",
       "      <td>0.280394</td>\n",
       "    </tr>\n",
       "    <tr>\n",
       "      <th>21</th>\n",
       "      <td>1f37ead645e7f0c8</td>\n",
       "      <td>0.234740</td>\n",
       "    </tr>\n",
       "    <tr>\n",
       "      <th>22</th>\n",
       "      <td>71a5b6ad068d531f</td>\n",
       "      <td>-0.007091</td>\n",
       "    </tr>\n",
       "    <tr>\n",
       "      <th>23</th>\n",
       "      <td>16ae4b99d3601e60</td>\n",
       "      <td>0.285458</td>\n",
       "    </tr>\n",
       "    <tr>\n",
       "      <th>24</th>\n",
       "      <td>fd83613b7843f5e1</td>\n",
       "      <td>-0.007245</td>\n",
       "    </tr>\n",
       "    <tr>\n",
       "      <th>25</th>\n",
       "      <td>733979d75f59770d</td>\n",
       "      <td>0.486838</td>\n",
       "    </tr>\n",
       "    <tr>\n",
       "      <th>26</th>\n",
       "      <td>79795133c30ef097</td>\n",
       "      <td>0.315211</td>\n",
       "    </tr>\n",
       "    <tr>\n",
       "      <th>27</th>\n",
       "      <td>474c874d0c07bd21</td>\n",
       "      <td>0.535966</td>\n",
       "    </tr>\n",
       "    <tr>\n",
       "      <th>28</th>\n",
       "      <td>faaddaf8fcba8a3f</td>\n",
       "      <td>0.054721</td>\n",
       "    </tr>\n",
       "    <tr>\n",
       "      <th>29</th>\n",
       "      <td>2a619016908bfa45</td>\n",
       "      <td>0.483544</td>\n",
       "    </tr>\n",
       "    <tr>\n",
       "      <th>30</th>\n",
       "      <td>6546846df17f9800</td>\n",
       "      <td>0.471551</td>\n",
       "    </tr>\n",
       "    <tr>\n",
       "      <th>31</th>\n",
       "      <td>d19ef3979396d47e</td>\n",
       "      <td>0.209929</td>\n",
       "    </tr>\n",
       "    <tr>\n",
       "      <th>32</th>\n",
       "      <td>7e3aff857f056bf9</td>\n",
       "      <td>-0.006820</td>\n",
       "    </tr>\n",
       "    <tr>\n",
       "      <th>33</th>\n",
       "      <td>3ff0e7a35015be69</td>\n",
       "      <td>0.222673</td>\n",
       "    </tr>\n",
       "    <tr>\n",
       "      <th>34</th>\n",
       "      <td>78243984c02a72e4</td>\n",
       "      <td>-0.006989</td>\n",
       "    </tr>\n",
       "    <tr>\n",
       "      <th>35</th>\n",
       "      <td>c057aecbba832387</td>\n",
       "      <td>-0.007667</td>\n",
       "    </tr>\n",
       "  </tbody>\n",
       "</table>\n",
       "</div>"
      ],
      "text/plain": [
       "                  id     score\n",
       "0   4112d61851461f60  0.491929\n",
       "1   5203a36c501f1b7c  1.011801\n",
       "2   7aa5908a77a7ec24  0.273218\n",
       "3   442c114ed5c4e3c9  0.508840\n",
       "4   12ca31f018a2e2b9  0.155327\n",
       "5   9f2279ce667b21dc  0.793152\n",
       "6   b9ea2b06a878df6f  0.529495\n",
       "7   09e418c93a776564  0.759121\n",
       "8   ae0262c02566d2ce  1.052085\n",
       "9   03ba802ed4029e4d  0.268670\n",
       "10  25522ee5411e63e9  0.268154\n",
       "11  c404f8b378cbb008  0.533845\n",
       "12  26c3c6dc6174b589 -0.007923\n",
       "13  36baf228038e314b  0.569824\n",
       "14  b892011ab2e2cabc  0.777782\n",
       "15  b8ae62ea5e1d8bdb -0.003858\n",
       "16  a8808e31641e856d  0.197021\n",
       "17  25c555ca3d5a2092  0.781845\n",
       "18  b9fdc772bb8fd61c  0.796941\n",
       "19  de51114bc0faec3e -0.010371\n",
       "20  8247ff562ca185cc  0.280394\n",
       "21  1f37ead645e7f0c8  0.234740\n",
       "22  71a5b6ad068d531f -0.007091\n",
       "23  16ae4b99d3601e60  0.285458\n",
       "24  fd83613b7843f5e1 -0.007245\n",
       "25  733979d75f59770d  0.486838\n",
       "26  79795133c30ef097  0.315211\n",
       "27  474c874d0c07bd21  0.535966\n",
       "28  faaddaf8fcba8a3f  0.054721\n",
       "29  2a619016908bfa45  0.483544\n",
       "30  6546846df17f9800  0.471551\n",
       "31  d19ef3979396d47e  0.209929\n",
       "32  7e3aff857f056bf9 -0.006820\n",
       "33  3ff0e7a35015be69  0.222673\n",
       "34  78243984c02a72e4 -0.006989\n",
       "35  c057aecbba832387 -0.007667"
      ]
     },
     "execution_count": 51,
     "metadata": {},
     "output_type": "execute_result"
    }
   ],
   "source": [
    "df_submission"
   ]
  },
  {
   "cell_type": "code",
   "execution_count": 52,
   "id": "4066919e",
   "metadata": {
    "execution": {
     "iopub.execute_input": "2022-06-15T18:46:40.543587Z",
     "iopub.status.busy": "2022-06-15T18:46:40.543351Z",
     "iopub.status.idle": "2022-06-15T18:46:40.552423Z",
     "shell.execute_reply": "2022-06-15T18:46:40.551533Z"
    },
    "papermill": {
     "duration": 0.093121,
     "end_time": "2022-06-15T18:46:40.554730",
     "exception": false,
     "start_time": "2022-06-15T18:46:40.461609",
     "status": "completed"
    },
    "tags": []
   },
   "outputs": [],
   "source": [
    "#submission = datasets.Dataset.from_dict({\n",
    "  #  'id': test_ds['id'],\n",
    " #   'score': preds\n",
    "#})\n",
    "\n",
    "df_submission.to_csv('submission.csv', index=False)"
   ]
  }
 ],
 "metadata": {
  "kernelspec": {
   "display_name": "Python 3",
   "language": "python",
   "name": "python3"
  },
  "language_info": {
   "codemirror_mode": {
    "name": "ipython",
    "version": 3
   },
   "file_extension": ".py",
   "mimetype": "text/x-python",
   "name": "python",
   "nbconvert_exporter": "python",
   "pygments_lexer": "ipython3",
   "version": "3.7.12"
  },
  "papermill": {
   "default_parameters": {},
   "duration": 429.963573,
   "end_time": "2022-06-15T18:46:43.793102",
   "environment_variables": {},
   "exception": null,
   "input_path": "__notebook__.ipynb",
   "output_path": "__notebook__.ipynb",
   "parameters": {},
   "start_time": "2022-06-15T18:39:33.829529",
   "version": "2.3.4"
  },
  "widgets": {
   "application/vnd.jupyter.widget-state+json": {
    "state": {
     "022738bb909e4e008fd7419d1a8461e4": {
      "model_module": "@jupyter-widgets/controls",
      "model_module_version": "1.5.0",
      "model_name": "HTMLModel",
      "state": {
       "_dom_classes": [],
       "_model_module": "@jupyter-widgets/controls",
       "_model_module_version": "1.5.0",
       "_model_name": "HTMLModel",
       "_view_count": null,
       "_view_module": "@jupyter-widgets/controls",
       "_view_module_version": "1.5.0",
       "_view_name": "HTMLView",
       "description": "",
       "description_tooltip": null,
       "layout": "IPY_MODEL_8f35bec8271e484ea696ebd46772d7bc",
       "placeholder": "​",
       "style": "IPY_MODEL_ff9d1f41abd54b8db90266316e21acd9",
       "value": "100%"
      }
     },
     "04afd3d00f2342a588f8bfbac7b4b290": {
      "model_module": "@jupyter-widgets/controls",
      "model_module_version": "1.5.0",
      "model_name": "HTMLModel",
      "state": {
       "_dom_classes": [],
       "_model_module": "@jupyter-widgets/controls",
       "_model_module_version": "1.5.0",
       "_model_name": "HTMLModel",
       "_view_count": null,
       "_view_module": "@jupyter-widgets/controls",
       "_view_module_version": "1.5.0",
       "_view_name": "HTMLView",
       "description": "",
       "description_tooltip": null,
       "layout": "IPY_MODEL_ffb0d969a93544a5ab10b74009ef5d84",
       "placeholder": "​",
       "style": "IPY_MODEL_2f804a1749ae483f8368b7effd48ca35",
       "value": " 37/37 [00:02&lt;00:00, 15.02ba/s]"
      }
     },
     "28f4bf372ca64b3c9c7d2157ebe1ca05": {
      "model_module": "@jupyter-widgets/controls",
      "model_module_version": "1.5.0",
      "model_name": "FloatProgressModel",
      "state": {
       "_dom_classes": [],
       "_model_module": "@jupyter-widgets/controls",
       "_model_module_version": "1.5.0",
       "_model_name": "FloatProgressModel",
       "_view_count": null,
       "_view_module": "@jupyter-widgets/controls",
       "_view_module_version": "1.5.0",
       "_view_name": "ProgressView",
       "bar_style": "success",
       "description": "",
       "description_tooltip": null,
       "layout": "IPY_MODEL_408e9915cadd44839fe234d60ae03486",
       "max": 1.0,
       "min": 0.0,
       "orientation": "horizontal",
       "style": "IPY_MODEL_2d7830fbc9b04b1586905e571dbf0cbc",
       "value": 1.0
      }
     },
     "2d7830fbc9b04b1586905e571dbf0cbc": {
      "model_module": "@jupyter-widgets/controls",
      "model_module_version": "1.5.0",
      "model_name": "ProgressStyleModel",
      "state": {
       "_model_module": "@jupyter-widgets/controls",
       "_model_module_version": "1.5.0",
       "_model_name": "ProgressStyleModel",
       "_view_count": null,
       "_view_module": "@jupyter-widgets/base",
       "_view_module_version": "1.2.0",
       "_view_name": "StyleView",
       "bar_color": null,
       "description_width": ""
      }
     },
     "2f804a1749ae483f8368b7effd48ca35": {
      "model_module": "@jupyter-widgets/controls",
      "model_module_version": "1.5.0",
      "model_name": "DescriptionStyleModel",
      "state": {
       "_model_module": "@jupyter-widgets/controls",
       "_model_module_version": "1.5.0",
       "_model_name": "DescriptionStyleModel",
       "_view_count": null,
       "_view_module": "@jupyter-widgets/base",
       "_view_module_version": "1.2.0",
       "_view_name": "StyleView",
       "description_width": ""
      }
     },
     "2fb91c71a0dd4f1aac29e3fdb92d641a": {
      "model_module": "@jupyter-widgets/base",
      "model_module_version": "1.2.0",
      "model_name": "LayoutModel",
      "state": {
       "_model_module": "@jupyter-widgets/base",
       "_model_module_version": "1.2.0",
       "_model_name": "LayoutModel",
       "_view_count": null,
       "_view_module": "@jupyter-widgets/base",
       "_view_module_version": "1.2.0",
       "_view_name": "LayoutView",
       "align_content": null,
       "align_items": null,
       "align_self": null,
       "border": null,
       "bottom": null,
       "display": null,
       "flex": null,
       "flex_flow": null,
       "grid_area": null,
       "grid_auto_columns": null,
       "grid_auto_flow": null,
       "grid_auto_rows": null,
       "grid_column": null,
       "grid_gap": null,
       "grid_row": null,
       "grid_template_areas": null,
       "grid_template_columns": null,
       "grid_template_rows": null,
       "height": null,
       "justify_content": null,
       "justify_items": null,
       "left": null,
       "margin": null,
       "max_height": null,
       "max_width": null,
       "min_height": null,
       "min_width": null,
       "object_fit": null,
       "object_position": null,
       "order": null,
       "overflow": null,
       "overflow_x": null,
       "overflow_y": null,
       "padding": null,
       "right": null,
       "top": null,
       "visibility": null,
       "width": null
      }
     },
     "3a736b96c9874619a7777cca6038d23d": {
      "model_module": "@jupyter-widgets/base",
      "model_module_version": "1.2.0",
      "model_name": "LayoutModel",
      "state": {
       "_model_module": "@jupyter-widgets/base",
       "_model_module_version": "1.2.0",
       "_model_name": "LayoutModel",
       "_view_count": null,
       "_view_module": "@jupyter-widgets/base",
       "_view_module_version": "1.2.0",
       "_view_name": "LayoutView",
       "align_content": null,
       "align_items": null,
       "align_self": null,
       "border": null,
       "bottom": null,
       "display": null,
       "flex": null,
       "flex_flow": null,
       "grid_area": null,
       "grid_auto_columns": null,
       "grid_auto_flow": null,
       "grid_auto_rows": null,
       "grid_column": null,
       "grid_gap": null,
       "grid_row": null,
       "grid_template_areas": null,
       "grid_template_columns": null,
       "grid_template_rows": null,
       "height": null,
       "justify_content": null,
       "justify_items": null,
       "left": null,
       "margin": null,
       "max_height": null,
       "max_width": null,
       "min_height": null,
       "min_width": null,
       "object_fit": null,
       "object_position": null,
       "order": null,
       "overflow": null,
       "overflow_x": null,
       "overflow_y": null,
       "padding": null,
       "right": null,
       "top": null,
       "visibility": null,
       "width": null
      }
     },
     "408e9915cadd44839fe234d60ae03486": {
      "model_module": "@jupyter-widgets/base",
      "model_module_version": "1.2.0",
      "model_name": "LayoutModel",
      "state": {
       "_model_module": "@jupyter-widgets/base",
       "_model_module_version": "1.2.0",
       "_model_name": "LayoutModel",
       "_view_count": null,
       "_view_module": "@jupyter-widgets/base",
       "_view_module_version": "1.2.0",
       "_view_name": "LayoutView",
       "align_content": null,
       "align_items": null,
       "align_self": null,
       "border": null,
       "bottom": null,
       "display": null,
       "flex": null,
       "flex_flow": null,
       "grid_area": null,
       "grid_auto_columns": null,
       "grid_auto_flow": null,
       "grid_auto_rows": null,
       "grid_column": null,
       "grid_gap": null,
       "grid_row": null,
       "grid_template_areas": null,
       "grid_template_columns": null,
       "grid_template_rows": null,
       "height": null,
       "justify_content": null,
       "justify_items": null,
       "left": null,
       "margin": null,
       "max_height": null,
       "max_width": null,
       "min_height": null,
       "min_width": null,
       "object_fit": null,
       "object_position": null,
       "order": null,
       "overflow": null,
       "overflow_x": null,
       "overflow_y": null,
       "padding": null,
       "right": null,
       "top": null,
       "visibility": null,
       "width": null
      }
     },
     "44bc01162f034dd5b74ac4cf4bd2242b": {
      "model_module": "@jupyter-widgets/controls",
      "model_module_version": "1.5.0",
      "model_name": "DescriptionStyleModel",
      "state": {
       "_model_module": "@jupyter-widgets/controls",
       "_model_module_version": "1.5.0",
       "_model_name": "DescriptionStyleModel",
       "_view_count": null,
       "_view_module": "@jupyter-widgets/base",
       "_view_module_version": "1.2.0",
       "_view_name": "StyleView",
       "description_width": ""
      }
     },
     "460347a5f9f84f3283024f90fcda5414": {
      "model_module": "@jupyter-widgets/controls",
      "model_module_version": "1.5.0",
      "model_name": "DescriptionStyleModel",
      "state": {
       "_model_module": "@jupyter-widgets/controls",
       "_model_module_version": "1.5.0",
       "_model_name": "DescriptionStyleModel",
       "_view_count": null,
       "_view_module": "@jupyter-widgets/base",
       "_view_module_version": "1.2.0",
       "_view_name": "StyleView",
       "description_width": ""
      }
     },
     "612f685bfb2948e1b3fe57d1b913e086": {
      "model_module": "@jupyter-widgets/controls",
      "model_module_version": "1.5.0",
      "model_name": "HBoxModel",
      "state": {
       "_dom_classes": [],
       "_model_module": "@jupyter-widgets/controls",
       "_model_module_version": "1.5.0",
       "_model_name": "HBoxModel",
       "_view_count": null,
       "_view_module": "@jupyter-widgets/controls",
       "_view_module_version": "1.5.0",
       "_view_name": "HBoxView",
       "box_style": "",
       "children": [
        "IPY_MODEL_022738bb909e4e008fd7419d1a8461e4",
        "IPY_MODEL_74fd0df3123045eda00d8e0bb15e2fec",
        "IPY_MODEL_04afd3d00f2342a588f8bfbac7b4b290"
       ],
       "layout": "IPY_MODEL_6be9e5ea39ac476a9ceaf3110919b519"
      }
     },
     "6be9e5ea39ac476a9ceaf3110919b519": {
      "model_module": "@jupyter-widgets/base",
      "model_module_version": "1.2.0",
      "model_name": "LayoutModel",
      "state": {
       "_model_module": "@jupyter-widgets/base",
       "_model_module_version": "1.2.0",
       "_model_name": "LayoutModel",
       "_view_count": null,
       "_view_module": "@jupyter-widgets/base",
       "_view_module_version": "1.2.0",
       "_view_name": "LayoutView",
       "align_content": null,
       "align_items": null,
       "align_self": null,
       "border": null,
       "bottom": null,
       "display": null,
       "flex": null,
       "flex_flow": null,
       "grid_area": null,
       "grid_auto_columns": null,
       "grid_auto_flow": null,
       "grid_auto_rows": null,
       "grid_column": null,
       "grid_gap": null,
       "grid_row": null,
       "grid_template_areas": null,
       "grid_template_columns": null,
       "grid_template_rows": null,
       "height": null,
       "justify_content": null,
       "justify_items": null,
       "left": null,
       "margin": null,
       "max_height": null,
       "max_width": null,
       "min_height": null,
       "min_width": null,
       "object_fit": null,
       "object_position": null,
       "order": null,
       "overflow": null,
       "overflow_x": null,
       "overflow_y": null,
       "padding": null,
       "right": null,
       "top": null,
       "visibility": null,
       "width": null
      }
     },
     "74fd0df3123045eda00d8e0bb15e2fec": {
      "model_module": "@jupyter-widgets/controls",
      "model_module_version": "1.5.0",
      "model_name": "FloatProgressModel",
      "state": {
       "_dom_classes": [],
       "_model_module": "@jupyter-widgets/controls",
       "_model_module_version": "1.5.0",
       "_model_name": "FloatProgressModel",
       "_view_count": null,
       "_view_module": "@jupyter-widgets/controls",
       "_view_module_version": "1.5.0",
       "_view_name": "ProgressView",
       "bar_style": "success",
       "description": "",
       "description_tooltip": null,
       "layout": "IPY_MODEL_cabfb85e36634d2a8f32b1c41e924716",
       "max": 37.0,
       "min": 0.0,
       "orientation": "horizontal",
       "style": "IPY_MODEL_ff0d89484a1b46f8b4ecfb0a63c0c4a4",
       "value": 37.0
      }
     },
     "8238dafd47204b09ba6c049c1cddd0c3": {
      "model_module": "@jupyter-widgets/controls",
      "model_module_version": "1.5.0",
      "model_name": "HTMLModel",
      "state": {
       "_dom_classes": [],
       "_model_module": "@jupyter-widgets/controls",
       "_model_module_version": "1.5.0",
       "_model_name": "HTMLModel",
       "_view_count": null,
       "_view_module": "@jupyter-widgets/controls",
       "_view_module_version": "1.5.0",
       "_view_name": "HTMLView",
       "description": "",
       "description_tooltip": null,
       "layout": "IPY_MODEL_3a736b96c9874619a7777cca6038d23d",
       "placeholder": "​",
       "style": "IPY_MODEL_44bc01162f034dd5b74ac4cf4bd2242b",
       "value": "100%"
      }
     },
     "8bbaf45f44ac4c50bcbdb0173b0e26a2": {
      "model_module": "@jupyter-widgets/controls",
      "model_module_version": "1.5.0",
      "model_name": "HBoxModel",
      "state": {
       "_dom_classes": [],
       "_model_module": "@jupyter-widgets/controls",
       "_model_module_version": "1.5.0",
       "_model_name": "HBoxModel",
       "_view_count": null,
       "_view_module": "@jupyter-widgets/controls",
       "_view_module_version": "1.5.0",
       "_view_name": "HBoxView",
       "box_style": "",
       "children": [
        "IPY_MODEL_8238dafd47204b09ba6c049c1cddd0c3",
        "IPY_MODEL_28f4bf372ca64b3c9c7d2157ebe1ca05",
        "IPY_MODEL_f48f903520fc413d8386f10cb05e708a"
       ],
       "layout": "IPY_MODEL_2fb91c71a0dd4f1aac29e3fdb92d641a"
      }
     },
     "8f35bec8271e484ea696ebd46772d7bc": {
      "model_module": "@jupyter-widgets/base",
      "model_module_version": "1.2.0",
      "model_name": "LayoutModel",
      "state": {
       "_model_module": "@jupyter-widgets/base",
       "_model_module_version": "1.2.0",
       "_model_name": "LayoutModel",
       "_view_count": null,
       "_view_module": "@jupyter-widgets/base",
       "_view_module_version": "1.2.0",
       "_view_name": "LayoutView",
       "align_content": null,
       "align_items": null,
       "align_self": null,
       "border": null,
       "bottom": null,
       "display": null,
       "flex": null,
       "flex_flow": null,
       "grid_area": null,
       "grid_auto_columns": null,
       "grid_auto_flow": null,
       "grid_auto_rows": null,
       "grid_column": null,
       "grid_gap": null,
       "grid_row": null,
       "grid_template_areas": null,
       "grid_template_columns": null,
       "grid_template_rows": null,
       "height": null,
       "justify_content": null,
       "justify_items": null,
       "left": null,
       "margin": null,
       "max_height": null,
       "max_width": null,
       "min_height": null,
       "min_width": null,
       "object_fit": null,
       "object_position": null,
       "order": null,
       "overflow": null,
       "overflow_x": null,
       "overflow_y": null,
       "padding": null,
       "right": null,
       "top": null,
       "visibility": null,
       "width": null
      }
     },
     "cabfb85e36634d2a8f32b1c41e924716": {
      "model_module": "@jupyter-widgets/base",
      "model_module_version": "1.2.0",
      "model_name": "LayoutModel",
      "state": {
       "_model_module": "@jupyter-widgets/base",
       "_model_module_version": "1.2.0",
       "_model_name": "LayoutModel",
       "_view_count": null,
       "_view_module": "@jupyter-widgets/base",
       "_view_module_version": "1.2.0",
       "_view_name": "LayoutView",
       "align_content": null,
       "align_items": null,
       "align_self": null,
       "border": null,
       "bottom": null,
       "display": null,
       "flex": null,
       "flex_flow": null,
       "grid_area": null,
       "grid_auto_columns": null,
       "grid_auto_flow": null,
       "grid_auto_rows": null,
       "grid_column": null,
       "grid_gap": null,
       "grid_row": null,
       "grid_template_areas": null,
       "grid_template_columns": null,
       "grid_template_rows": null,
       "height": null,
       "justify_content": null,
       "justify_items": null,
       "left": null,
       "margin": null,
       "max_height": null,
       "max_width": null,
       "min_height": null,
       "min_width": null,
       "object_fit": null,
       "object_position": null,
       "order": null,
       "overflow": null,
       "overflow_x": null,
       "overflow_y": null,
       "padding": null,
       "right": null,
       "top": null,
       "visibility": null,
       "width": null
      }
     },
     "d5850e785fe645c5a29280943afc06bb": {
      "model_module": "@jupyter-widgets/base",
      "model_module_version": "1.2.0",
      "model_name": "LayoutModel",
      "state": {
       "_model_module": "@jupyter-widgets/base",
       "_model_module_version": "1.2.0",
       "_model_name": "LayoutModel",
       "_view_count": null,
       "_view_module": "@jupyter-widgets/base",
       "_view_module_version": "1.2.0",
       "_view_name": "LayoutView",
       "align_content": null,
       "align_items": null,
       "align_self": null,
       "border": null,
       "bottom": null,
       "display": null,
       "flex": null,
       "flex_flow": null,
       "grid_area": null,
       "grid_auto_columns": null,
       "grid_auto_flow": null,
       "grid_auto_rows": null,
       "grid_column": null,
       "grid_gap": null,
       "grid_row": null,
       "grid_template_areas": null,
       "grid_template_columns": null,
       "grid_template_rows": null,
       "height": null,
       "justify_content": null,
       "justify_items": null,
       "left": null,
       "margin": null,
       "max_height": null,
       "max_width": null,
       "min_height": null,
       "min_width": null,
       "object_fit": null,
       "object_position": null,
       "order": null,
       "overflow": null,
       "overflow_x": null,
       "overflow_y": null,
       "padding": null,
       "right": null,
       "top": null,
       "visibility": null,
       "width": null
      }
     },
     "f48f903520fc413d8386f10cb05e708a": {
      "model_module": "@jupyter-widgets/controls",
      "model_module_version": "1.5.0",
      "model_name": "HTMLModel",
      "state": {
       "_dom_classes": [],
       "_model_module": "@jupyter-widgets/controls",
       "_model_module_version": "1.5.0",
       "_model_name": "HTMLModel",
       "_view_count": null,
       "_view_module": "@jupyter-widgets/controls",
       "_view_module_version": "1.5.0",
       "_view_name": "HTMLView",
       "description": "",
       "description_tooltip": null,
       "layout": "IPY_MODEL_d5850e785fe645c5a29280943afc06bb",
       "placeholder": "​",
       "style": "IPY_MODEL_460347a5f9f84f3283024f90fcda5414",
       "value": " 1/1 [00:00&lt;00:00, 25.29ba/s]"
      }
     },
     "ff0d89484a1b46f8b4ecfb0a63c0c4a4": {
      "model_module": "@jupyter-widgets/controls",
      "model_module_version": "1.5.0",
      "model_name": "ProgressStyleModel",
      "state": {
       "_model_module": "@jupyter-widgets/controls",
       "_model_module_version": "1.5.0",
       "_model_name": "ProgressStyleModel",
       "_view_count": null,
       "_view_module": "@jupyter-widgets/base",
       "_view_module_version": "1.2.0",
       "_view_name": "StyleView",
       "bar_color": null,
       "description_width": ""
      }
     },
     "ff9d1f41abd54b8db90266316e21acd9": {
      "model_module": "@jupyter-widgets/controls",
      "model_module_version": "1.5.0",
      "model_name": "DescriptionStyleModel",
      "state": {
       "_model_module": "@jupyter-widgets/controls",
       "_model_module_version": "1.5.0",
       "_model_name": "DescriptionStyleModel",
       "_view_count": null,
       "_view_module": "@jupyter-widgets/base",
       "_view_module_version": "1.2.0",
       "_view_name": "StyleView",
       "description_width": ""
      }
     },
     "ffb0d969a93544a5ab10b74009ef5d84": {
      "model_module": "@jupyter-widgets/base",
      "model_module_version": "1.2.0",
      "model_name": "LayoutModel",
      "state": {
       "_model_module": "@jupyter-widgets/base",
       "_model_module_version": "1.2.0",
       "_model_name": "LayoutModel",
       "_view_count": null,
       "_view_module": "@jupyter-widgets/base",
       "_view_module_version": "1.2.0",
       "_view_name": "LayoutView",
       "align_content": null,
       "align_items": null,
       "align_self": null,
       "border": null,
       "bottom": null,
       "display": null,
       "flex": null,
       "flex_flow": null,
       "grid_area": null,
       "grid_auto_columns": null,
       "grid_auto_flow": null,
       "grid_auto_rows": null,
       "grid_column": null,
       "grid_gap": null,
       "grid_row": null,
       "grid_template_areas": null,
       "grid_template_columns": null,
       "grid_template_rows": null,
       "height": null,
       "justify_content": null,
       "justify_items": null,
       "left": null,
       "margin": null,
       "max_height": null,
       "max_width": null,
       "min_height": null,
       "min_width": null,
       "object_fit": null,
       "object_position": null,
       "order": null,
       "overflow": null,
       "overflow_x": null,
       "overflow_y": null,
       "padding": null,
       "right": null,
       "top": null,
       "visibility": null,
       "width": null
      }
     }
    },
    "version_major": 2,
    "version_minor": 0
   }
  }
 },
 "nbformat": 4,
 "nbformat_minor": 5
}
