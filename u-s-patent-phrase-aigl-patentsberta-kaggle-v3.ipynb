{
 "cells": [
  {
   "cell_type": "code",
   "execution_count": 1,
   "id": "0317945f",
   "metadata": {
    "_cell_guid": "b1076dfc-b9ad-4769-8c92-a6c4dae69d19",
    "_uuid": "8f2839f25d086af736a60e9eeb907d3b93b6e0e5",
    "execution": {
     "iopub.execute_input": "2022-06-15T12:29:02.350682Z",
     "iopub.status.busy": "2022-06-15T12:29:02.350292Z",
     "iopub.status.idle": "2022-06-15T12:29:02.368002Z",
     "shell.execute_reply": "2022-06-15T12:29:02.367309Z"
    },
    "papermill": {
     "duration": 0.074066,
     "end_time": "2022-06-15T12:29:02.370825",
     "exception": false,
     "start_time": "2022-06-15T12:29:02.296759",
     "status": "completed"
    },
    "tags": []
   },
   "outputs": [
    {
     "name": "stdout",
     "output_type": "stream",
     "text": [
      "/kaggle/input/us-patent-phrase-to-phrase-matching/sample_submission.csv\n",
      "/kaggle/input/us-patent-phrase-to-phrase-matching/train.csv\n",
      "/kaggle/input/us-patent-phrase-to-phrase-matching/test.csv\n",
      "/kaggle/input/cpc-codes/titles.csv\n"
     ]
    }
   ],
   "source": [
    "# This Python 3 environment comes with many helpful analytics libraries installed\n",
    "# It is defined by the kaggle/python Docker image: https://github.com/kaggle/docker-python\n",
    "# For example, here's several helpful packages to load\n",
    "\n",
    "import numpy as np # linear algebra\n",
    "import pandas as pd # data processing, CSV file I/O (e.g. pd.read_csv)\n",
    "\n",
    "# Input data files are available in the read-only \"../input/\" directory\n",
    "# For example, running this (by clicking run or pressing Shift+Enter) will list all files under the input directory\n",
    "\n",
    "import os\n",
    "for dirname, _, filenames in os.walk('/kaggle/input'):\n",
    "    for filename in filenames:\n",
    "        print(os.path.join(dirname, filename))\n",
    "\n",
    "# You can write up to 20GB to the current directory (/kaggle/working/) that gets preserved as output when you create a version using \"Save & Run All\" \n",
    "# You can also write temporary files to /kaggle/temp/, but they won't be saved outside of the current session"
   ]
  },
  {
   "cell_type": "markdown",
   "id": "a3dd9d52",
   "metadata": {
    "papermill": {
     "duration": 0.048043,
     "end_time": "2022-06-15T12:29:02.469397",
     "exception": false,
     "start_time": "2022-06-15T12:29:02.421354",
     "status": "completed"
    },
    "tags": []
   },
   "source": [
    "# Credits:\n",
    "this notebook is based on the notbook [\"Getting started with NLP for absolute beginners\"](https://www.kaggle.com/code/jhoward/getting-started-with-nlp-for-absolute-beginners) by @Jeremy Howard"
   ]
  },
  {
   "cell_type": "markdown",
   "id": "0997b3cb",
   "metadata": {
    "papermill": {
     "duration": 0.061693,
     "end_time": "2022-06-15T12:29:02.579646",
     "exception": false,
     "start_time": "2022-06-15T12:29:02.517953",
     "status": "completed"
    },
    "tags": []
   },
   "source": [
    "## Imports"
   ]
  },
  {
   "cell_type": "code",
   "execution_count": 2,
   "id": "928cdd69",
   "metadata": {
    "execution": {
     "iopub.execute_input": "2022-06-15T12:29:02.700893Z",
     "iopub.status.busy": "2022-06-15T12:29:02.700639Z",
     "iopub.status.idle": "2022-06-15T12:29:08.914969Z",
     "shell.execute_reply": "2022-06-15T12:29:08.914135Z"
    },
    "papermill": {
     "duration": 6.265677,
     "end_time": "2022-06-15T12:29:08.917376",
     "exception": false,
     "start_time": "2022-06-15T12:29:02.651699",
     "status": "completed"
    },
    "tags": []
   },
   "outputs": [],
   "source": [
    "import tensorflow as tf\n",
    "import tensorflow_hub as hub\n",
    "import seaborn as sns\n",
    "import matplotlib.pyplot as plt"
   ]
  },
  {
   "cell_type": "markdown",
   "id": "60030ba1",
   "metadata": {
    "papermill": {
     "duration": 0.048454,
     "end_time": "2022-06-15T12:29:09.013791",
     "exception": false,
     "start_time": "2022-06-15T12:29:08.965337",
     "status": "completed"
    },
    "tags": []
   },
   "source": [
    "# EDA"
   ]
  },
  {
   "cell_type": "code",
   "execution_count": 3,
   "id": "69eb6963",
   "metadata": {
    "execution": {
     "iopub.execute_input": "2022-06-15T12:29:09.109307Z",
     "iopub.status.busy": "2022-06-15T12:29:09.109049Z",
     "iopub.status.idle": "2022-06-15T12:29:09.202766Z",
     "shell.execute_reply": "2022-06-15T12:29:09.201924Z"
    },
    "papermill": {
     "duration": 0.14454,
     "end_time": "2022-06-15T12:29:09.205433",
     "exception": false,
     "start_time": "2022-06-15T12:29:09.060893",
     "status": "completed"
    },
    "tags": []
   },
   "outputs": [
    {
     "name": "stdout",
     "output_type": "stream",
     "text": [
      "(36473, 5)\n"
     ]
    },
    {
     "data": {
      "text/html": [
       "<div>\n",
       "<style scoped>\n",
       "    .dataframe tbody tr th:only-of-type {\n",
       "        vertical-align: middle;\n",
       "    }\n",
       "\n",
       "    .dataframe tbody tr th {\n",
       "        vertical-align: top;\n",
       "    }\n",
       "\n",
       "    .dataframe thead th {\n",
       "        text-align: right;\n",
       "    }\n",
       "</style>\n",
       "<table border=\"1\" class=\"dataframe\">\n",
       "  <thead>\n",
       "    <tr style=\"text-align: right;\">\n",
       "      <th></th>\n",
       "      <th>id</th>\n",
       "      <th>anchor</th>\n",
       "      <th>target</th>\n",
       "      <th>context</th>\n",
       "      <th>score</th>\n",
       "    </tr>\n",
       "  </thead>\n",
       "  <tbody>\n",
       "    <tr>\n",
       "      <th>0</th>\n",
       "      <td>37d61fd2272659b1</td>\n",
       "      <td>abatement</td>\n",
       "      <td>abatement of pollution</td>\n",
       "      <td>A47</td>\n",
       "      <td>0.50</td>\n",
       "    </tr>\n",
       "    <tr>\n",
       "      <th>1</th>\n",
       "      <td>7b9652b17b68b7a4</td>\n",
       "      <td>abatement</td>\n",
       "      <td>act of abating</td>\n",
       "      <td>A47</td>\n",
       "      <td>0.75</td>\n",
       "    </tr>\n",
       "    <tr>\n",
       "      <th>2</th>\n",
       "      <td>36d72442aefd8232</td>\n",
       "      <td>abatement</td>\n",
       "      <td>active catalyst</td>\n",
       "      <td>A47</td>\n",
       "      <td>0.25</td>\n",
       "    </tr>\n",
       "    <tr>\n",
       "      <th>3</th>\n",
       "      <td>5296b0c19e1ce60e</td>\n",
       "      <td>abatement</td>\n",
       "      <td>eliminating process</td>\n",
       "      <td>A47</td>\n",
       "      <td>0.50</td>\n",
       "    </tr>\n",
       "    <tr>\n",
       "      <th>4</th>\n",
       "      <td>54c1e3b9184cb5b6</td>\n",
       "      <td>abatement</td>\n",
       "      <td>forest region</td>\n",
       "      <td>A47</td>\n",
       "      <td>0.00</td>\n",
       "    </tr>\n",
       "  </tbody>\n",
       "</table>\n",
       "</div>"
      ],
      "text/plain": [
       "                 id     anchor                  target context  score\n",
       "0  37d61fd2272659b1  abatement  abatement of pollution     A47   0.50\n",
       "1  7b9652b17b68b7a4  abatement          act of abating     A47   0.75\n",
       "2  36d72442aefd8232  abatement         active catalyst     A47   0.25\n",
       "3  5296b0c19e1ce60e  abatement     eliminating process     A47   0.50\n",
       "4  54c1e3b9184cb5b6  abatement           forest region     A47   0.00"
      ]
     },
     "execution_count": 3,
     "metadata": {},
     "output_type": "execute_result"
    }
   ],
   "source": [
    "train = pd.read_csv(\"/kaggle/input/us-patent-phrase-to-phrase-matching/train.csv\")\n",
    "print(train.shape)\n",
    "train.head()"
   ]
  },
  {
   "cell_type": "code",
   "execution_count": 4,
   "id": "84c0e3ba",
   "metadata": {
    "execution": {
     "iopub.execute_input": "2022-06-15T12:29:09.305044Z",
     "iopub.status.busy": "2022-06-15T12:29:09.304374Z",
     "iopub.status.idle": "2022-06-15T12:29:09.378383Z",
     "shell.execute_reply": "2022-06-15T12:29:09.377518Z"
    },
    "papermill": {
     "duration": 0.125278,
     "end_time": "2022-06-15T12:29:09.380853",
     "exception": false,
     "start_time": "2022-06-15T12:29:09.255575",
     "status": "completed"
    },
    "tags": []
   },
   "outputs": [
    {
     "data": {
      "text/html": [
       "<div>\n",
       "<style scoped>\n",
       "    .dataframe tbody tr th:only-of-type {\n",
       "        vertical-align: middle;\n",
       "    }\n",
       "\n",
       "    .dataframe tbody tr th {\n",
       "        vertical-align: top;\n",
       "    }\n",
       "\n",
       "    .dataframe thead th {\n",
       "        text-align: right;\n",
       "    }\n",
       "</style>\n",
       "<table border=\"1\" class=\"dataframe\">\n",
       "  <thead>\n",
       "    <tr style=\"text-align: right;\">\n",
       "      <th></th>\n",
       "      <th>id</th>\n",
       "      <th>anchor</th>\n",
       "      <th>target</th>\n",
       "      <th>context</th>\n",
       "    </tr>\n",
       "  </thead>\n",
       "  <tbody>\n",
       "    <tr>\n",
       "      <th>count</th>\n",
       "      <td>36473</td>\n",
       "      <td>36473</td>\n",
       "      <td>36473</td>\n",
       "      <td>36473</td>\n",
       "    </tr>\n",
       "    <tr>\n",
       "      <th>unique</th>\n",
       "      <td>36473</td>\n",
       "      <td>733</td>\n",
       "      <td>29340</td>\n",
       "      <td>106</td>\n",
       "    </tr>\n",
       "    <tr>\n",
       "      <th>top</th>\n",
       "      <td>37d61fd2272659b1</td>\n",
       "      <td>component composite coating</td>\n",
       "      <td>composition</td>\n",
       "      <td>H01</td>\n",
       "    </tr>\n",
       "    <tr>\n",
       "      <th>freq</th>\n",
       "      <td>1</td>\n",
       "      <td>152</td>\n",
       "      <td>24</td>\n",
       "      <td>2186</td>\n",
       "    </tr>\n",
       "  </tbody>\n",
       "</table>\n",
       "</div>"
      ],
      "text/plain": [
       "                      id                       anchor       target context\n",
       "count              36473                        36473        36473   36473\n",
       "unique             36473                          733        29340     106\n",
       "top     37d61fd2272659b1  component composite coating  composition     H01\n",
       "freq                   1                          152           24    2186"
      ]
     },
     "execution_count": 4,
     "metadata": {},
     "output_type": "execute_result"
    }
   ],
   "source": [
    "train.describe(include='object')"
   ]
  },
  {
   "cell_type": "code",
   "execution_count": 5,
   "id": "751f41c8",
   "metadata": {
    "execution": {
     "iopub.execute_input": "2022-06-15T12:29:09.480108Z",
     "iopub.status.busy": "2022-06-15T12:29:09.479575Z",
     "iopub.status.idle": "2022-06-15T12:29:09.508024Z",
     "shell.execute_reply": "2022-06-15T12:29:09.507328Z"
    },
    "papermill": {
     "duration": 0.079416,
     "end_time": "2022-06-15T12:29:09.509763",
     "exception": false,
     "start_time": "2022-06-15T12:29:09.430347",
     "status": "completed"
    },
    "tags": []
   },
   "outputs": [
    {
     "data": {
      "text/html": [
       "<div>\n",
       "<style scoped>\n",
       "    .dataframe tbody tr th:only-of-type {\n",
       "        vertical-align: middle;\n",
       "    }\n",
       "\n",
       "    .dataframe tbody tr th {\n",
       "        vertical-align: top;\n",
       "    }\n",
       "\n",
       "    .dataframe thead th {\n",
       "        text-align: right;\n",
       "    }\n",
       "</style>\n",
       "<table border=\"1\" class=\"dataframe\">\n",
       "  <thead>\n",
       "    <tr style=\"text-align: right;\">\n",
       "      <th></th>\n",
       "      <th>id</th>\n",
       "      <th>anchor</th>\n",
       "      <th>target</th>\n",
       "      <th>context</th>\n",
       "    </tr>\n",
       "    <tr>\n",
       "      <th>score</th>\n",
       "      <th></th>\n",
       "      <th></th>\n",
       "      <th></th>\n",
       "      <th></th>\n",
       "    </tr>\n",
       "  </thead>\n",
       "  <tbody>\n",
       "    <tr>\n",
       "      <th>0.00</th>\n",
       "      <td>7471</td>\n",
       "      <td>7471</td>\n",
       "      <td>7471</td>\n",
       "      <td>7471</td>\n",
       "    </tr>\n",
       "    <tr>\n",
       "      <th>0.25</th>\n",
       "      <td>11519</td>\n",
       "      <td>11519</td>\n",
       "      <td>11519</td>\n",
       "      <td>11519</td>\n",
       "    </tr>\n",
       "    <tr>\n",
       "      <th>0.50</th>\n",
       "      <td>12300</td>\n",
       "      <td>12300</td>\n",
       "      <td>12300</td>\n",
       "      <td>12300</td>\n",
       "    </tr>\n",
       "    <tr>\n",
       "      <th>0.75</th>\n",
       "      <td>4029</td>\n",
       "      <td>4029</td>\n",
       "      <td>4029</td>\n",
       "      <td>4029</td>\n",
       "    </tr>\n",
       "    <tr>\n",
       "      <th>1.00</th>\n",
       "      <td>1154</td>\n",
       "      <td>1154</td>\n",
       "      <td>1154</td>\n",
       "      <td>1154</td>\n",
       "    </tr>\n",
       "  </tbody>\n",
       "</table>\n",
       "</div>"
      ],
      "text/plain": [
       "          id  anchor  target  context\n",
       "score                                \n",
       "0.00    7471    7471    7471     7471\n",
       "0.25   11519   11519   11519    11519\n",
       "0.50   12300   12300   12300    12300\n",
       "0.75    4029    4029    4029     4029\n",
       "1.00    1154    1154    1154     1154"
      ]
     },
     "execution_count": 5,
     "metadata": {},
     "output_type": "execute_result"
    }
   ],
   "source": [
    "train.groupby('score').count()"
   ]
  },
  {
   "cell_type": "markdown",
   "id": "f84118a2",
   "metadata": {
    "papermill": {
     "duration": 0.050308,
     "end_time": "2022-06-15T12:29:09.609653",
     "exception": false,
     "start_time": "2022-06-15T12:29:09.559345",
     "status": "completed"
    },
    "tags": []
   },
   "source": [
    "## Score meanings according to [Data Description](https://www.kaggle.com/competitions/us-patent-phrase-to-phrase-matching/data?select=train.csv)\n",
    "\n",
    "The scores are in the 0-1 range with increments of 0.25 with the following meanings:\n",
    "\n",
    "    1.0 - Very close match. This is typically an exact match except possibly for differences in conjugation, quantity (e.g. singular vs. plural), and addition or removal of stopwords (e.g. “the”, “and”, “or”).\n",
    "    0.75 - Close synonym, e.g. “mobile phone” vs. “cellphone”. This also includes abbreviations, e.g. \"TCP\" -> \"transmission control protocol\".\n",
    "    0.5 - Synonyms which don’t have the same meaning (same function, same properties). This includes broad-narrow (hyponym) and narrow-broad (hypernym) matches.\n",
    "    0.25 - Somewhat related, e.g. the two phrases are in the same high level domain but are not synonyms. This also includes antonyms.\n",
    "    0.0 - Unrelated.\n"
   ]
  },
  {
   "cell_type": "markdown",
   "id": "2d650f09",
   "metadata": {
    "papermill": {
     "duration": 0.048323,
     "end_time": "2022-06-15T12:29:09.707310",
     "exception": false,
     "start_time": "2022-06-15T12:29:09.658987",
     "status": "completed"
    },
    "tags": []
   },
   "source": [
    "# Test Corpus"
   ]
  },
  {
   "cell_type": "code",
   "execution_count": 6,
   "id": "eb9acd72",
   "metadata": {
    "execution": {
     "iopub.execute_input": "2022-06-15T12:29:09.806513Z",
     "iopub.status.busy": "2022-06-15T12:29:09.806265Z",
     "iopub.status.idle": "2022-06-15T12:29:09.814653Z",
     "shell.execute_reply": "2022-06-15T12:29:09.814020Z"
    },
    "papermill": {
     "duration": 0.059956,
     "end_time": "2022-06-15T12:29:09.816712",
     "exception": false,
     "start_time": "2022-06-15T12:29:09.756756",
     "status": "completed"
    },
    "tags": []
   },
   "outputs": [],
   "source": [
    "test = pd.read_csv(\"/kaggle/input/us-patent-phrase-to-phrase-matching/test.csv\")"
   ]
  },
  {
   "cell_type": "code",
   "execution_count": 7,
   "id": "e2541566",
   "metadata": {
    "execution": {
     "iopub.execute_input": "2022-06-15T12:29:09.916874Z",
     "iopub.status.busy": "2022-06-15T12:29:09.916651Z",
     "iopub.status.idle": "2022-06-15T12:29:09.921651Z",
     "shell.execute_reply": "2022-06-15T12:29:09.921036Z"
    },
    "papermill": {
     "duration": 0.056151,
     "end_time": "2022-06-15T12:29:09.923305",
     "exception": false,
     "start_time": "2022-06-15T12:29:09.867154",
     "status": "completed"
    },
    "tags": []
   },
   "outputs": [
    {
     "data": {
      "text/plain": [
       "(36, 4)"
      ]
     },
     "execution_count": 7,
     "metadata": {},
     "output_type": "execute_result"
    }
   ],
   "source": [
    "test.shape"
   ]
  },
  {
   "cell_type": "code",
   "execution_count": 8,
   "id": "4c72b50e",
   "metadata": {
    "execution": {
     "iopub.execute_input": "2022-06-15T12:29:10.023945Z",
     "iopub.status.busy": "2022-06-15T12:29:10.023708Z",
     "iopub.status.idle": "2022-06-15T12:29:10.028055Z",
     "shell.execute_reply": "2022-06-15T12:29:10.027406Z"
    },
    "papermill": {
     "duration": 0.057166,
     "end_time": "2022-06-15T12:29:10.029741",
     "exception": false,
     "start_time": "2022-06-15T12:29:09.972575",
     "status": "completed"
    },
    "tags": []
   },
   "outputs": [],
   "source": [
    "def cosine(u, v):\n",
    "    \"\"\"\n",
    "    cosine similarity definition\n",
    "    \"\"\"\n",
    "    return np.dot(u, v) / (np.linalg.norm(u) * np.linalg.norm(v))"
   ]
  },
  {
   "cell_type": "markdown",
   "id": "aa0f5e0f",
   "metadata": {
    "papermill": {
     "duration": 0.049415,
     "end_time": "2022-06-15T12:29:10.127936",
     "exception": false,
     "start_time": "2022-06-15T12:29:10.078521",
     "status": "completed"
    },
    "tags": []
   },
   "source": [
    "# External Context"
   ]
  },
  {
   "cell_type": "code",
   "execution_count": 9,
   "id": "baf1694d",
   "metadata": {
    "execution": {
     "iopub.execute_input": "2022-06-15T12:29:10.228439Z",
     "iopub.status.busy": "2022-06-15T12:29:10.227625Z",
     "iopub.status.idle": "2022-06-15T12:29:10.231378Z",
     "shell.execute_reply": "2022-06-15T12:29:10.230725Z"
    },
    "papermill": {
     "duration": 0.055899,
     "end_time": "2022-06-15T12:29:10.232944",
     "exception": false,
     "start_time": "2022-06-15T12:29:10.177045",
     "status": "completed"
    },
    "tags": []
   },
   "outputs": [],
   "source": [
    "# ajouter le contexte https://www.cooperativepatentclassification.org/Archive\n",
    "# extraire le contexte du fichier xml"
   ]
  },
  {
   "cell_type": "code",
   "execution_count": 10,
   "id": "395bc7ab",
   "metadata": {
    "execution": {
     "iopub.execute_input": "2022-06-15T12:29:10.333905Z",
     "iopub.status.busy": "2022-06-15T12:29:10.333670Z",
     "iopub.status.idle": "2022-06-15T12:29:11.048364Z",
     "shell.execute_reply": "2022-06-15T12:29:11.047514Z"
    },
    "papermill": {
     "duration": 0.766422,
     "end_time": "2022-06-15T12:29:11.050247",
     "exception": false,
     "start_time": "2022-06-15T12:29:10.283825",
     "status": "completed"
    },
    "tags": []
   },
   "outputs": [
    {
     "name": "stdout",
     "output_type": "stream",
     "text": [
      "(260476, 7)\n"
     ]
    },
    {
     "data": {
      "text/html": [
       "<div>\n",
       "<style scoped>\n",
       "    .dataframe tbody tr th:only-of-type {\n",
       "        vertical-align: middle;\n",
       "    }\n",
       "\n",
       "    .dataframe tbody tr th {\n",
       "        vertical-align: top;\n",
       "    }\n",
       "\n",
       "    .dataframe thead th {\n",
       "        text-align: right;\n",
       "    }\n",
       "</style>\n",
       "<table border=\"1\" class=\"dataframe\">\n",
       "  <thead>\n",
       "    <tr style=\"text-align: right;\">\n",
       "      <th></th>\n",
       "      <th>code</th>\n",
       "      <th>title</th>\n",
       "      <th>section</th>\n",
       "      <th>class</th>\n",
       "      <th>subclass</th>\n",
       "      <th>group</th>\n",
       "      <th>main_group</th>\n",
       "    </tr>\n",
       "  </thead>\n",
       "  <tbody>\n",
       "    <tr>\n",
       "      <th>0</th>\n",
       "      <td>A</td>\n",
       "      <td>HUMAN NECESSITIES</td>\n",
       "      <td>A</td>\n",
       "      <td>NaN</td>\n",
       "      <td>NaN</td>\n",
       "      <td>NaN</td>\n",
       "      <td>NaN</td>\n",
       "    </tr>\n",
       "    <tr>\n",
       "      <th>1</th>\n",
       "      <td>A01</td>\n",
       "      <td>AGRICULTURE; FORESTRY; ANIMAL HUSBANDRY; HUNTI...</td>\n",
       "      <td>A</td>\n",
       "      <td>1.0</td>\n",
       "      <td>NaN</td>\n",
       "      <td>NaN</td>\n",
       "      <td>NaN</td>\n",
       "    </tr>\n",
       "    <tr>\n",
       "      <th>2</th>\n",
       "      <td>A01B</td>\n",
       "      <td>SOIL WORKING IN AGRICULTURE OR FORESTRY; PARTS...</td>\n",
       "      <td>A</td>\n",
       "      <td>1.0</td>\n",
       "      <td>B</td>\n",
       "      <td>NaN</td>\n",
       "      <td>NaN</td>\n",
       "    </tr>\n",
       "    <tr>\n",
       "      <th>3</th>\n",
       "      <td>A01B1/00</td>\n",
       "      <td>Hand tools (edge trimmers for lawns A01G3/06  ...</td>\n",
       "      <td>A</td>\n",
       "      <td>1.0</td>\n",
       "      <td>B</td>\n",
       "      <td>1.0</td>\n",
       "      <td>0.0</td>\n",
       "    </tr>\n",
       "    <tr>\n",
       "      <th>4</th>\n",
       "      <td>A01B1/02</td>\n",
       "      <td>Spades; Shovels {(hand-operated dredgers E02F3...</td>\n",
       "      <td>A</td>\n",
       "      <td>1.0</td>\n",
       "      <td>B</td>\n",
       "      <td>1.0</td>\n",
       "      <td>2.0</td>\n",
       "    </tr>\n",
       "  </tbody>\n",
       "</table>\n",
       "</div>"
      ],
      "text/plain": [
       "       code                                              title section  class  \\\n",
       "0         A                                  HUMAN NECESSITIES       A    NaN   \n",
       "1       A01  AGRICULTURE; FORESTRY; ANIMAL HUSBANDRY; HUNTI...       A    1.0   \n",
       "2      A01B  SOIL WORKING IN AGRICULTURE OR FORESTRY; PARTS...       A    1.0   \n",
       "3  A01B1/00  Hand tools (edge trimmers for lawns A01G3/06  ...       A    1.0   \n",
       "4  A01B1/02  Spades; Shovels {(hand-operated dredgers E02F3...       A    1.0   \n",
       "\n",
       "  subclass  group  main_group  \n",
       "0      NaN    NaN         NaN  \n",
       "1      NaN    NaN         NaN  \n",
       "2        B    NaN         NaN  \n",
       "3        B    1.0         0.0  \n",
       "4        B    1.0         2.0  "
      ]
     },
     "execution_count": 10,
     "metadata": {},
     "output_type": "execute_result"
    }
   ],
   "source": [
    "titles = pd.read_csv(\"../input/cpc-codes/titles.csv\")\n",
    "print(titles.shape)\n",
    "titles.head()"
   ]
  },
  {
   "cell_type": "markdown",
   "id": "2bb53d54",
   "metadata": {
    "papermill": {
     "duration": 0.04973,
     "end_time": "2022-06-15T12:29:11.152602",
     "exception": false,
     "start_time": "2022-06-15T12:29:11.102872",
     "status": "completed"
    },
    "tags": []
   },
   "source": [
    "# HuggingFace AutoModelForSequenceClassification"
   ]
  },
  {
   "cell_type": "code",
   "execution_count": 11,
   "id": "dc94f41e",
   "metadata": {
    "execution": {
     "iopub.execute_input": "2022-06-15T12:29:11.255252Z",
     "iopub.status.busy": "2022-06-15T12:29:11.254970Z",
     "iopub.status.idle": "2022-06-15T12:29:11.407565Z",
     "shell.execute_reply": "2022-06-15T12:29:11.406753Z"
    },
    "papermill": {
     "duration": 0.206697,
     "end_time": "2022-06-15T12:29:11.409939",
     "exception": false,
     "start_time": "2022-06-15T12:29:11.203242",
     "status": "completed"
    },
    "tags": []
   },
   "outputs": [],
   "source": [
    "import numpy as np # linear algebra\n",
    "import pandas as pd # data processing, CSV file I/O (e.g. pd.read_csv)\n",
    "import os\n",
    "from scipy.stats import pearsonr\n",
    "from scipy.stats import spearmanr # pour trouver les correspondances entre les résultats sur des échelles variées\n",
    "from sklearn.model_selection import StratifiedGroupKFold"
   ]
  },
  {
   "cell_type": "code",
   "execution_count": 12,
   "id": "a754d029",
   "metadata": {
    "execution": {
     "iopub.execute_input": "2022-06-15T12:29:11.513624Z",
     "iopub.status.busy": "2022-06-15T12:29:11.512953Z",
     "iopub.status.idle": "2022-06-15T12:29:14.010682Z",
     "shell.execute_reply": "2022-06-15T12:29:14.009987Z"
    },
    "papermill": {
     "duration": 2.551458,
     "end_time": "2022-06-15T12:29:14.012789",
     "exception": false,
     "start_time": "2022-06-15T12:29:11.461331",
     "status": "completed"
    },
    "tags": []
   },
   "outputs": [],
   "source": [
    "import transformers\n",
    "from transformers import TrainingArguments,Trainer\n",
    "from transformers import AutoModelForSequenceClassification,AutoTokenizer\n",
    "\n",
    "import torch\n",
    "import datasets\n",
    "from datasets import load_dataset, Dataset, DatasetDict"
   ]
  },
  {
   "cell_type": "code",
   "execution_count": 13,
   "id": "a14243e1",
   "metadata": {
    "execution": {
     "iopub.execute_input": "2022-06-15T12:29:14.116614Z",
     "iopub.status.busy": "2022-06-15T12:29:14.116366Z",
     "iopub.status.idle": "2022-06-15T12:29:14.119897Z",
     "shell.execute_reply": "2022-06-15T12:29:14.119238Z"
    },
    "papermill": {
     "duration": 0.058506,
     "end_time": "2022-06-15T12:29:14.121628",
     "exception": false,
     "start_time": "2022-06-15T12:29:14.063122",
     "status": "completed"
    },
    "tags": []
   },
   "outputs": [],
   "source": [
    "import warnings\n",
    "import logging\n",
    "from IPython.display import display, HTML"
   ]
  },
  {
   "cell_type": "markdown",
   "id": "f0a77e4e",
   "metadata": {
    "papermill": {
     "duration": 0.049572,
     "end_time": "2022-06-15T12:29:14.221847",
     "exception": false,
     "start_time": "2022-06-15T12:29:14.172275",
     "status": "completed"
    },
    "tags": []
   },
   "source": [
    "# Corpora merge"
   ]
  },
  {
   "cell_type": "code",
   "execution_count": 14,
   "id": "cc0ef30c",
   "metadata": {
    "execution": {
     "iopub.execute_input": "2022-06-15T12:29:14.323161Z",
     "iopub.status.busy": "2022-06-15T12:29:14.322483Z",
     "iopub.status.idle": "2022-06-15T12:29:14.660703Z",
     "shell.execute_reply": "2022-06-15T12:29:14.659935Z"
    },
    "papermill": {
     "duration": 0.391058,
     "end_time": "2022-06-15T12:29:14.662675",
     "exception": false,
     "start_time": "2022-06-15T12:29:14.271617",
     "status": "completed"
    },
    "tags": []
   },
   "outputs": [
    {
     "name": "stdout",
     "output_type": "stream",
     "text": [
      "(36473, 6)\n"
     ]
    },
    {
     "data": {
      "text/html": [
       "<div>\n",
       "<style scoped>\n",
       "    .dataframe tbody tr th:only-of-type {\n",
       "        vertical-align: middle;\n",
       "    }\n",
       "\n",
       "    .dataframe tbody tr th {\n",
       "        vertical-align: top;\n",
       "    }\n",
       "\n",
       "    .dataframe thead th {\n",
       "        text-align: right;\n",
       "    }\n",
       "</style>\n",
       "<table border=\"1\" class=\"dataframe\">\n",
       "  <thead>\n",
       "    <tr style=\"text-align: right;\">\n",
       "      <th></th>\n",
       "      <th>id</th>\n",
       "      <th>anchor</th>\n",
       "      <th>target</th>\n",
       "      <th>context</th>\n",
       "      <th>score</th>\n",
       "      <th>section</th>\n",
       "    </tr>\n",
       "  </thead>\n",
       "  <tbody>\n",
       "    <tr>\n",
       "      <th>0</th>\n",
       "      <td>37d61fd2272659b1</td>\n",
       "      <td>abatement</td>\n",
       "      <td>abatement of pollution</td>\n",
       "      <td>A47</td>\n",
       "      <td>0.50</td>\n",
       "      <td>A</td>\n",
       "    </tr>\n",
       "    <tr>\n",
       "      <th>1</th>\n",
       "      <td>7b9652b17b68b7a4</td>\n",
       "      <td>abatement</td>\n",
       "      <td>act of abating</td>\n",
       "      <td>A47</td>\n",
       "      <td>0.75</td>\n",
       "      <td>A</td>\n",
       "    </tr>\n",
       "    <tr>\n",
       "      <th>2</th>\n",
       "      <td>36d72442aefd8232</td>\n",
       "      <td>abatement</td>\n",
       "      <td>active catalyst</td>\n",
       "      <td>A47</td>\n",
       "      <td>0.25</td>\n",
       "      <td>A</td>\n",
       "    </tr>\n",
       "    <tr>\n",
       "      <th>3</th>\n",
       "      <td>5296b0c19e1ce60e</td>\n",
       "      <td>abatement</td>\n",
       "      <td>eliminating process</td>\n",
       "      <td>A47</td>\n",
       "      <td>0.50</td>\n",
       "      <td>A</td>\n",
       "    </tr>\n",
       "    <tr>\n",
       "      <th>4</th>\n",
       "      <td>54c1e3b9184cb5b6</td>\n",
       "      <td>abatement</td>\n",
       "      <td>forest region</td>\n",
       "      <td>A47</td>\n",
       "      <td>0.00</td>\n",
       "      <td>A</td>\n",
       "    </tr>\n",
       "  </tbody>\n",
       "</table>\n",
       "</div>"
      ],
      "text/plain": [
       "                 id     anchor                  target context  score section\n",
       "0  37d61fd2272659b1  abatement  abatement of pollution     A47   0.50       A\n",
       "1  7b9652b17b68b7a4  abatement          act of abating     A47   0.75       A\n",
       "2  36d72442aefd8232  abatement         active catalyst     A47   0.25       A\n",
       "3  5296b0c19e1ce60e  abatement     eliminating process     A47   0.50       A\n",
       "4  54c1e3b9184cb5b6  abatement           forest region     A47   0.00       A"
      ]
     },
     "metadata": {},
     "output_type": "display_data"
    },
    {
     "data": {
      "text/html": [
       "<div>\n",
       "<style scoped>\n",
       "    .dataframe tbody tr th:only-of-type {\n",
       "        vertical-align: middle;\n",
       "    }\n",
       "\n",
       "    .dataframe tbody tr th {\n",
       "        vertical-align: top;\n",
       "    }\n",
       "\n",
       "    .dataframe thead th {\n",
       "        text-align: right;\n",
       "    }\n",
       "</style>\n",
       "<table border=\"1\" class=\"dataframe\">\n",
       "  <thead>\n",
       "    <tr style=\"text-align: right;\">\n",
       "      <th></th>\n",
       "      <th>context</th>\n",
       "      <th>title</th>\n",
       "      <th>section</th>\n",
       "      <th>class</th>\n",
       "      <th>subclass</th>\n",
       "      <th>group</th>\n",
       "      <th>main_group</th>\n",
       "    </tr>\n",
       "  </thead>\n",
       "  <tbody>\n",
       "    <tr>\n",
       "      <th>0</th>\n",
       "      <td>A</td>\n",
       "      <td>HUMAN NECESSITIES</td>\n",
       "      <td>A</td>\n",
       "      <td>NaN</td>\n",
       "      <td>NaN</td>\n",
       "      <td>NaN</td>\n",
       "      <td>NaN</td>\n",
       "    </tr>\n",
       "    <tr>\n",
       "      <th>1</th>\n",
       "      <td>A01</td>\n",
       "      <td>AGRICULTURE; FORESTRY; ANIMAL HUSBANDRY; HUNTI...</td>\n",
       "      <td>A</td>\n",
       "      <td>1.0</td>\n",
       "      <td>NaN</td>\n",
       "      <td>NaN</td>\n",
       "      <td>NaN</td>\n",
       "    </tr>\n",
       "    <tr>\n",
       "      <th>2</th>\n",
       "      <td>A01B</td>\n",
       "      <td>SOIL WORKING IN AGRICULTURE OR FORESTRY; PARTS...</td>\n",
       "      <td>A</td>\n",
       "      <td>1.0</td>\n",
       "      <td>B</td>\n",
       "      <td>NaN</td>\n",
       "      <td>NaN</td>\n",
       "    </tr>\n",
       "    <tr>\n",
       "      <th>3</th>\n",
       "      <td>A01B1/00</td>\n",
       "      <td>Hand tools (edge trimmers for lawns A01G3/06  ...</td>\n",
       "      <td>A</td>\n",
       "      <td>1.0</td>\n",
       "      <td>B</td>\n",
       "      <td>1.0</td>\n",
       "      <td>0.0</td>\n",
       "    </tr>\n",
       "    <tr>\n",
       "      <th>4</th>\n",
       "      <td>A01B1/02</td>\n",
       "      <td>Spades; Shovels {(hand-operated dredgers E02F3...</td>\n",
       "      <td>A</td>\n",
       "      <td>1.0</td>\n",
       "      <td>B</td>\n",
       "      <td>1.0</td>\n",
       "      <td>2.0</td>\n",
       "    </tr>\n",
       "  </tbody>\n",
       "</table>\n",
       "</div>"
      ],
      "text/plain": [
       "    context                                              title section  class  \\\n",
       "0         A                                  HUMAN NECESSITIES       A    NaN   \n",
       "1       A01  AGRICULTURE; FORESTRY; ANIMAL HUSBANDRY; HUNTI...       A    1.0   \n",
       "2      A01B  SOIL WORKING IN AGRICULTURE OR FORESTRY; PARTS...       A    1.0   \n",
       "3  A01B1/00  Hand tools (edge trimmers for lawns A01G3/06  ...       A    1.0   \n",
       "4  A01B1/02  Spades; Shovels {(hand-operated dredgers E02F3...       A    1.0   \n",
       "\n",
       "  subclass  group  main_group  \n",
       "0      NaN    NaN         NaN  \n",
       "1      NaN    NaN         NaN  \n",
       "2        B    NaN         NaN  \n",
       "3        B    1.0         0.0  \n",
       "4        B    1.0         2.0  "
      ]
     },
     "metadata": {},
     "output_type": "display_data"
    },
    {
     "data": {
      "text/html": [
       "<div>\n",
       "<style scoped>\n",
       "    .dataframe tbody tr th:only-of-type {\n",
       "        vertical-align: middle;\n",
       "    }\n",
       "\n",
       "    .dataframe tbody tr th {\n",
       "        vertical-align: top;\n",
       "    }\n",
       "\n",
       "    .dataframe thead th {\n",
       "        text-align: right;\n",
       "    }\n",
       "</style>\n",
       "<table border=\"1\" class=\"dataframe\">\n",
       "  <thead>\n",
       "    <tr style=\"text-align: right;\">\n",
       "      <th></th>\n",
       "      <th>id</th>\n",
       "      <th>anchor</th>\n",
       "      <th>target</th>\n",
       "      <th>context</th>\n",
       "      <th>score</th>\n",
       "      <th>section</th>\n",
       "      <th>context_title</th>\n",
       "      <th>section_title</th>\n",
       "    </tr>\n",
       "  </thead>\n",
       "  <tbody>\n",
       "    <tr>\n",
       "      <th>0</th>\n",
       "      <td>37d61fd2272659b1</td>\n",
       "      <td>abatement</td>\n",
       "      <td>abatement of pollution</td>\n",
       "      <td>A47</td>\n",
       "      <td>0.50</td>\n",
       "      <td>A</td>\n",
       "      <td>FURNITURE; DOMESTIC ARTICLES OR APPLIANCES; CO...</td>\n",
       "      <td>HUMAN NECESSITIES</td>\n",
       "    </tr>\n",
       "    <tr>\n",
       "      <th>1</th>\n",
       "      <td>7b9652b17b68b7a4</td>\n",
       "      <td>abatement</td>\n",
       "      <td>act of abating</td>\n",
       "      <td>A47</td>\n",
       "      <td>0.75</td>\n",
       "      <td>A</td>\n",
       "      <td>FURNITURE; DOMESTIC ARTICLES OR APPLIANCES; CO...</td>\n",
       "      <td>HUMAN NECESSITIES</td>\n",
       "    </tr>\n",
       "    <tr>\n",
       "      <th>2</th>\n",
       "      <td>36d72442aefd8232</td>\n",
       "      <td>abatement</td>\n",
       "      <td>active catalyst</td>\n",
       "      <td>A47</td>\n",
       "      <td>0.25</td>\n",
       "      <td>A</td>\n",
       "      <td>FURNITURE; DOMESTIC ARTICLES OR APPLIANCES; CO...</td>\n",
       "      <td>HUMAN NECESSITIES</td>\n",
       "    </tr>\n",
       "    <tr>\n",
       "      <th>3</th>\n",
       "      <td>5296b0c19e1ce60e</td>\n",
       "      <td>abatement</td>\n",
       "      <td>eliminating process</td>\n",
       "      <td>A47</td>\n",
       "      <td>0.50</td>\n",
       "      <td>A</td>\n",
       "      <td>FURNITURE; DOMESTIC ARTICLES OR APPLIANCES; CO...</td>\n",
       "      <td>HUMAN NECESSITIES</td>\n",
       "    </tr>\n",
       "    <tr>\n",
       "      <th>4</th>\n",
       "      <td>54c1e3b9184cb5b6</td>\n",
       "      <td>abatement</td>\n",
       "      <td>forest region</td>\n",
       "      <td>A47</td>\n",
       "      <td>0.00</td>\n",
       "      <td>A</td>\n",
       "      <td>FURNITURE; DOMESTIC ARTICLES OR APPLIANCES; CO...</td>\n",
       "      <td>HUMAN NECESSITIES</td>\n",
       "    </tr>\n",
       "  </tbody>\n",
       "</table>\n",
       "</div>"
      ],
      "text/plain": [
       "                 id     anchor                  target context  score section  \\\n",
       "0  37d61fd2272659b1  abatement  abatement of pollution     A47   0.50       A   \n",
       "1  7b9652b17b68b7a4  abatement          act of abating     A47   0.75       A   \n",
       "2  36d72442aefd8232  abatement         active catalyst     A47   0.25       A   \n",
       "3  5296b0c19e1ce60e  abatement     eliminating process     A47   0.50       A   \n",
       "4  54c1e3b9184cb5b6  abatement           forest region     A47   0.00       A   \n",
       "\n",
       "                                       context_title      section_title  \n",
       "0  FURNITURE; DOMESTIC ARTICLES OR APPLIANCES; CO...  HUMAN NECESSITIES  \n",
       "1  FURNITURE; DOMESTIC ARTICLES OR APPLIANCES; CO...  HUMAN NECESSITIES  \n",
       "2  FURNITURE; DOMESTIC ARTICLES OR APPLIANCES; CO...  HUMAN NECESSITIES  \n",
       "3  FURNITURE; DOMESTIC ARTICLES OR APPLIANCES; CO...  HUMAN NECESSITIES  \n",
       "4  FURNITURE; DOMESTIC ARTICLES OR APPLIANCES; CO...  HUMAN NECESSITIES  "
      ]
     },
     "metadata": {},
     "output_type": "display_data"
    }
   ],
   "source": [
    "train['section'] = train[\"context\"].str[0]\n",
    "print(train.shape)\n",
    "display(train.head())\n",
    "titles=titles.rename(columns={\"code\": \"context\"})\n",
    "display(titles.head())\n",
    "train = train.merge(titles[[\"context\", \"title\"]], on=\"context\").rename(columns={\"title\": \"context_title\"})\n",
    "train = train.merge(titles[[\"context\", \"title\"]].rename(columns={\"context\": \"section\"}), on=\"section\").rename(columns={\"title\": \"section_title\"})\n",
    "display(train.head())"
   ]
  },
  {
   "cell_type": "code",
   "execution_count": 15,
   "id": "77f26a6d",
   "metadata": {
    "execution": {
     "iopub.execute_input": "2022-06-15T12:29:14.779125Z",
     "iopub.status.busy": "2022-06-15T12:29:14.778420Z",
     "iopub.status.idle": "2022-06-15T12:29:14.782438Z",
     "shell.execute_reply": "2022-06-15T12:29:14.781760Z"
    },
    "papermill": {
     "duration": 0.062103,
     "end_time": "2022-06-15T12:29:14.784071",
     "exception": false,
     "start_time": "2022-06-15T12:29:14.721968",
     "status": "completed"
    },
    "tags": []
   },
   "outputs": [],
   "source": [
    "logging.disable(logging.WARNING)\n",
    "warnings.simplefilter('ignore')"
   ]
  },
  {
   "cell_type": "markdown",
   "id": "d68b9567",
   "metadata": {
    "papermill": {
     "duration": 0.053145,
     "end_time": "2022-06-15T12:29:14.890610",
     "exception": false,
     "start_time": "2022-06-15T12:29:14.837465",
     "status": "completed"
    },
    "tags": []
   },
   "source": [
    "# Deberta-v3-small"
   ]
  },
  {
   "cell_type": "code",
   "execution_count": 16,
   "id": "e4d6a923",
   "metadata": {
    "execution": {
     "iopub.execute_input": "2022-06-15T12:29:14.997336Z",
     "iopub.status.busy": "2022-06-15T12:29:14.997073Z",
     "iopub.status.idle": "2022-06-15T12:29:15.000492Z",
     "shell.execute_reply": "2022-06-15T12:29:14.999826Z"
    },
    "papermill": {
     "duration": 0.059071,
     "end_time": "2022-06-15T12:29:15.002145",
     "exception": false,
     "start_time": "2022-06-15T12:29:14.943074",
     "status": "completed"
    },
    "tags": []
   },
   "outputs": [],
   "source": [
    "model_name = 'AI-Growth-Lab/PatentSBERTa_Kaggle_V3' #(online version)\n",
    "#model_name = '../input/debertav3small'"
   ]
  },
  {
   "cell_type": "code",
   "execution_count": 17,
   "id": "2ec461ee",
   "metadata": {
    "execution": {
     "iopub.execute_input": "2022-06-15T12:29:15.108313Z",
     "iopub.status.busy": "2022-06-15T12:29:15.107602Z",
     "iopub.status.idle": "2022-06-15T12:29:21.180345Z",
     "shell.execute_reply": "2022-06-15T12:29:21.179492Z"
    },
    "papermill": {
     "duration": 6.127939,
     "end_time": "2022-06-15T12:29:21.182438",
     "exception": false,
     "start_time": "2022-06-15T12:29:15.054499",
     "status": "completed"
    },
    "tags": []
   },
   "outputs": [
    {
     "data": {
      "application/vnd.jupyter.widget-view+json": {
       "model_id": "7a3a4291d0544da39286226c4bfc9cb8",
       "version_major": 2,
       "version_minor": 0
      },
      "text/plain": [
       "Downloading:   0%|          | 0.00/388 [00:00<?, ?B/s]"
      ]
     },
     "metadata": {},
     "output_type": "display_data"
    },
    {
     "data": {
      "application/vnd.jupyter.widget-view+json": {
       "model_id": "033a65a8e7b84030b55a7184b1f3787d",
       "version_major": 2,
       "version_minor": 0
      },
      "text/plain": [
       "Downloading:   0%|          | 0.00/226k [00:00<?, ?B/s]"
      ]
     },
     "metadata": {},
     "output_type": "display_data"
    },
    {
     "data": {
      "application/vnd.jupyter.widget-view+json": {
       "model_id": "7c53ab1090df472a8c3a32b6e2f7f278",
       "version_major": 2,
       "version_minor": 0
      },
      "text/plain": [
       "Downloading:   0%|          | 0.00/455k [00:00<?, ?B/s]"
      ]
     },
     "metadata": {},
     "output_type": "display_data"
    },
    {
     "data": {
      "application/vnd.jupyter.widget-view+json": {
       "model_id": "070da0027d40451bac59290775d4e8f6",
       "version_major": 2,
       "version_minor": 0
      },
      "text/plain": [
       "Downloading:   0%|          | 0.00/239 [00:00<?, ?B/s]"
      ]
     },
     "metadata": {},
     "output_type": "display_data"
    }
   ],
   "source": [
    "tokenizer = AutoTokenizer.from_pretrained(model_name)"
   ]
  },
  {
   "cell_type": "code",
   "execution_count": 18,
   "id": "eeed4ba7",
   "metadata": {
    "execution": {
     "iopub.execute_input": "2022-06-15T12:29:21.294495Z",
     "iopub.status.busy": "2022-06-15T12:29:21.293814Z",
     "iopub.status.idle": "2022-06-15T12:29:21.299251Z",
     "shell.execute_reply": "2022-06-15T12:29:21.298476Z"
    },
    "papermill": {
     "duration": 0.063472,
     "end_time": "2022-06-15T12:29:21.300905",
     "exception": false,
     "start_time": "2022-06-15T12:29:21.237433",
     "status": "completed"
    },
    "tags": []
   },
   "outputs": [
    {
     "data": {
      "text/plain": [
       "['<s>', '</s>', '[UNK]', '<pad>', '<mask>']"
      ]
     },
     "execution_count": 18,
     "metadata": {},
     "output_type": "execute_result"
    }
   ],
   "source": [
    "tokenizer.all_special_tokens"
   ]
  },
  {
   "cell_type": "code",
   "execution_count": 19,
   "id": "97d3c017",
   "metadata": {
    "execution": {
     "iopub.execute_input": "2022-06-15T12:29:21.411654Z",
     "iopub.status.busy": "2022-06-15T12:29:21.411096Z",
     "iopub.status.idle": "2022-06-15T12:29:21.418644Z",
     "shell.execute_reply": "2022-06-15T12:29:21.417991Z"
    },
    "papermill": {
     "duration": 0.064809,
     "end_time": "2022-06-15T12:29:21.420364",
     "exception": false,
     "start_time": "2022-06-15T12:29:21.355555",
     "status": "completed"
    },
    "tags": []
   },
   "outputs": [],
   "source": [
    "def clean(x):\n",
    "    t = x.lower()\n",
    "    t = t.replace(\"[\",'')\n",
    "    t = t.replace(\";\",'')\n",
    "    t = t.replace(\",\",'')\n",
    "    t = t.replace(\"]\",'')\n",
    "    t = t.replace(\":\",'')\n",
    "    t = t.replace(\"(\",'')\n",
    "    t = t.replace(\")\",'')\n",
    "    t = t.replace(\"{\",'')\n",
    "    t = t.replace(\"}\",'')\n",
    "    t = t.replace(\"/\",' ')\n",
    "    t = t.replace(\"-\",' ')\n",
    "    return t"
   ]
  },
  {
   "cell_type": "code",
   "execution_count": 20,
   "id": "19d6cb42",
   "metadata": {
    "execution": {
     "iopub.execute_input": "2022-06-15T12:29:21.532007Z",
     "iopub.status.busy": "2022-06-15T12:29:21.531285Z",
     "iopub.status.idle": "2022-06-15T12:29:21.609631Z",
     "shell.execute_reply": "2022-06-15T12:29:21.608829Z"
    },
    "papermill": {
     "duration": 0.137097,
     "end_time": "2022-06-15T12:29:21.611718",
     "exception": false,
     "start_time": "2022-06-15T12:29:21.474621",
     "status": "completed"
    },
    "tags": []
   },
   "outputs": [],
   "source": [
    "train[\"inputs\"] = train[\"section_title\"].apply(clean) + \" [SEP] \" + train[\"anchor\"] + \" [SEP] \" + train[\"target\"]"
   ]
  },
  {
   "cell_type": "code",
   "execution_count": 21,
   "id": "96655f4c",
   "metadata": {
    "execution": {
     "iopub.execute_input": "2022-06-15T12:29:21.723449Z",
     "iopub.status.busy": "2022-06-15T12:29:21.723219Z",
     "iopub.status.idle": "2022-06-15T12:29:21.726688Z",
     "shell.execute_reply": "2022-06-15T12:29:21.726033Z"
    },
    "papermill": {
     "duration": 0.060861,
     "end_time": "2022-06-15T12:29:21.728413",
     "exception": false,
     "start_time": "2022-06-15T12:29:21.667552",
     "status": "completed"
    },
    "tags": []
   },
   "outputs": [],
   "source": [
    "def tok_func(x):\n",
    "    return tokenizer(x[\"inputs\"])"
   ]
  },
  {
   "cell_type": "code",
   "execution_count": 22,
   "id": "f5992301",
   "metadata": {
    "execution": {
     "iopub.execute_input": "2022-06-15T12:29:21.842060Z",
     "iopub.status.busy": "2022-06-15T12:29:21.841812Z",
     "iopub.status.idle": "2022-06-15T12:29:21.884889Z",
     "shell.execute_reply": "2022-06-15T12:29:21.884200Z"
    },
    "papermill": {
     "duration": 0.102445,
     "end_time": "2022-06-15T12:29:21.886844",
     "exception": false,
     "start_time": "2022-06-15T12:29:21.784399",
     "status": "completed"
    },
    "tags": []
   },
   "outputs": [],
   "source": [
    "train_ds = Dataset.from_pandas(train).rename_column('score', 'label')"
   ]
  },
  {
   "cell_type": "code",
   "execution_count": 23,
   "id": "42f36844",
   "metadata": {
    "execution": {
     "iopub.execute_input": "2022-06-15T12:29:21.999202Z",
     "iopub.status.busy": "2022-06-15T12:29:21.998500Z",
     "iopub.status.idle": "2022-06-15T12:29:25.087305Z",
     "shell.execute_reply": "2022-06-15T12:29:25.086573Z"
    },
    "papermill": {
     "duration": 3.146523,
     "end_time": "2022-06-15T12:29:25.089009",
     "exception": false,
     "start_time": "2022-06-15T12:29:21.942486",
     "status": "completed"
    },
    "tags": []
   },
   "outputs": [
    {
     "data": {
      "application/vnd.jupyter.widget-view+json": {
       "model_id": "4031e416350c4e06a4182ad6ba08b367",
       "version_major": 2,
       "version_minor": 0
      },
      "text/plain": [
       "  0%|          | 0/37 [00:00<?, ?ba/s]"
      ]
     },
     "metadata": {},
     "output_type": "display_data"
    }
   ],
   "source": [
    "inps = \"anchor\",\"target\",\"context\",\"context_title\",\"section_title\"\n",
    "tok_ds = train_ds.map(tok_func, batched=True, remove_columns=inps+('inputs','id','section'))"
   ]
  },
  {
   "cell_type": "code",
   "execution_count": 24,
   "id": "2e76712b",
   "metadata": {
    "execution": {
     "iopub.execute_input": "2022-06-15T12:29:25.201728Z",
     "iopub.status.busy": "2022-06-15T12:29:25.201491Z",
     "iopub.status.idle": "2022-06-15T12:29:25.206124Z",
     "shell.execute_reply": "2022-06-15T12:29:25.205480Z"
    },
    "papermill": {
     "duration": 0.062882,
     "end_time": "2022-06-15T12:29:25.207996",
     "exception": false,
     "start_time": "2022-06-15T12:29:25.145114",
     "status": "completed"
    },
    "tags": []
   },
   "outputs": [
    {
     "data": {
      "text/plain": [
       "Dataset({\n",
       "    features: ['label', '__index_level_0__', 'input_ids', 'attention_mask'],\n",
       "    num_rows: 36473\n",
       "})"
      ]
     },
     "execution_count": 24,
     "metadata": {},
     "output_type": "execute_result"
    }
   ],
   "source": [
    "tok_ds"
   ]
  },
  {
   "cell_type": "code",
   "execution_count": 25,
   "id": "c5c32f6e",
   "metadata": {
    "execution": {
     "iopub.execute_input": "2022-06-15T12:29:25.321071Z",
     "iopub.status.busy": "2022-06-15T12:29:25.320415Z",
     "iopub.status.idle": "2022-06-15T12:29:25.325339Z",
     "shell.execute_reply": "2022-06-15T12:29:25.324650Z"
    },
    "papermill": {
     "duration": 0.063495,
     "end_time": "2022-06-15T12:29:25.327069",
     "exception": false,
     "start_time": "2022-06-15T12:29:25.263574",
     "status": "completed"
    },
    "tags": []
   },
   "outputs": [],
   "source": [
    "# bs - batch size\n",
    "lr,bs = 8e-5,64\n",
    "# wd: weight decay\n",
    "wd,epochs = 0.01,4"
   ]
  },
  {
   "cell_type": "code",
   "execution_count": 26,
   "id": "ae6ab237",
   "metadata": {
    "execution": {
     "iopub.execute_input": "2022-06-15T12:29:25.439368Z",
     "iopub.status.busy": "2022-06-15T12:29:25.438879Z",
     "iopub.status.idle": "2022-06-15T12:29:25.445836Z",
     "shell.execute_reply": "2022-06-15T12:29:25.445225Z"
    },
    "papermill": {
     "duration": 0.064955,
     "end_time": "2022-06-15T12:29:25.447537",
     "exception": false,
     "start_time": "2022-06-15T12:29:25.382582",
     "status": "completed"
    },
    "tags": []
   },
   "outputs": [],
   "source": [
    "anchors = train[\"anchor\"].unique()\n",
    "np.random.shuffle(anchors)"
   ]
  },
  {
   "cell_type": "code",
   "execution_count": 27,
   "id": "a5adba71",
   "metadata": {
    "execution": {
     "iopub.execute_input": "2022-06-15T12:29:25.561382Z",
     "iopub.status.busy": "2022-06-15T12:29:25.561144Z",
     "iopub.status.idle": "2022-06-15T12:29:25.564785Z",
     "shell.execute_reply": "2022-06-15T12:29:25.564130Z"
    },
    "papermill": {
     "duration": 0.063241,
     "end_time": "2022-06-15T12:29:25.566477",
     "exception": false,
     "start_time": "2022-06-15T12:29:25.503236",
     "status": "completed"
    },
    "tags": []
   },
   "outputs": [],
   "source": [
    "val_prop = 0.25\n",
    "val_sz = int(len(anchors)*val_prop)\n",
    "val_anchors = anchors[:val_sz]"
   ]
  },
  {
   "cell_type": "code",
   "execution_count": 28,
   "id": "f490b879",
   "metadata": {
    "execution": {
     "iopub.execute_input": "2022-06-15T12:29:25.679766Z",
     "iopub.status.busy": "2022-06-15T12:29:25.679516Z",
     "iopub.status.idle": "2022-06-15T12:29:25.899577Z",
     "shell.execute_reply": "2022-06-15T12:29:25.898552Z"
    },
    "papermill": {
     "duration": 0.278755,
     "end_time": "2022-06-15T12:29:25.901211",
     "exception": false,
     "start_time": "2022-06-15T12:29:25.622456",
     "status": "completed"
    },
    "tags": []
   },
   "outputs": [
    {
     "data": {
      "text/plain": [
       "(8560, 27913)"
      ]
     },
     "execution_count": 28,
     "metadata": {},
     "output_type": "execute_result"
    }
   ],
   "source": [
    "is_val = np.isin(train.anchor, val_anchors)\n",
    "idxs = np.arange(len(train))\n",
    "val_idxs = idxs[ is_val]\n",
    "trn_idxs = idxs[~is_val]\n",
    "len(val_idxs),len(trn_idxs)"
   ]
  },
  {
   "cell_type": "code",
   "execution_count": 29,
   "id": "66ab6c18",
   "metadata": {
    "execution": {
     "iopub.execute_input": "2022-06-15T12:29:26.015443Z",
     "iopub.status.busy": "2022-06-15T12:29:26.014792Z",
     "iopub.status.idle": "2022-06-15T12:29:26.033706Z",
     "shell.execute_reply": "2022-06-15T12:29:26.033099Z"
    },
    "papermill": {
     "duration": 0.077415,
     "end_time": "2022-06-15T12:29:26.035371",
     "exception": false,
     "start_time": "2022-06-15T12:29:25.957956",
     "status": "completed"
    },
    "tags": []
   },
   "outputs": [],
   "source": [
    "dds = DatasetDict({\"train\":tok_ds.select(trn_idxs),\n",
    "             \"test\": tok_ds.select(val_idxs)})"
   ]
  },
  {
   "cell_type": "code",
   "execution_count": 30,
   "id": "ddb6c714",
   "metadata": {
    "execution": {
     "iopub.execute_input": "2022-06-15T12:29:26.148261Z",
     "iopub.status.busy": "2022-06-15T12:29:26.147625Z",
     "iopub.status.idle": "2022-06-15T12:29:26.153012Z",
     "shell.execute_reply": "2022-06-15T12:29:26.152324Z"
    },
    "papermill": {
     "duration": 0.063919,
     "end_time": "2022-06-15T12:29:26.154749",
     "exception": false,
     "start_time": "2022-06-15T12:29:26.090830",
     "status": "completed"
    },
    "tags": []
   },
   "outputs": [],
   "source": [
    "def corr(eval_pred): \n",
    "    logits, labels = eval_pred\n",
    "    logits = logits.reshape(-1)\n",
    "    return {'pearson': np.corrcoef(logits, labels)[0][1]}"
   ]
  },
  {
   "cell_type": "code",
   "execution_count": 31,
   "id": "8ce11e43",
   "metadata": {
    "execution": {
     "iopub.execute_input": "2022-06-15T12:29:26.267031Z",
     "iopub.status.busy": "2022-06-15T12:29:26.266788Z",
     "iopub.status.idle": "2022-06-15T12:29:26.327825Z",
     "shell.execute_reply": "2022-06-15T12:29:26.327119Z"
    },
    "papermill": {
     "duration": 0.118944,
     "end_time": "2022-06-15T12:29:26.329783",
     "exception": false,
     "start_time": "2022-06-15T12:29:26.210839",
     "status": "completed"
    },
    "tags": []
   },
   "outputs": [],
   "source": [
    "#args = TrainingArguments('outputs', learning_rate=lr, warmup_ratio=0.1, lr_scheduler_type='cosine', fp16=True,\n",
    "    #evaluation_strategy=\"epoch\", per_device_train_batch_size=bs, per_device_eval_batch_size=bs*2,\n",
    "     #num_train_epochs=epochs, weight_decay=wd, report_to='none')\n",
    "args = TrainingArguments('outputs', learning_rate=lr, warmup_ratio=0.1, lr_scheduler_type='cosine',\n",
    "    evaluation_strategy=\"epoch\", per_device_train_batch_size=bs, per_device_eval_batch_size=bs*2,\n",
    "    num_train_epochs=epochs, weight_decay=wd, report_to='none')"
   ]
  },
  {
   "cell_type": "code",
   "execution_count": 32,
   "id": "b0ed6fe6",
   "metadata": {
    "execution": {
     "iopub.execute_input": "2022-06-15T12:29:26.442833Z",
     "iopub.status.busy": "2022-06-15T12:29:26.442613Z",
     "iopub.status.idle": "2022-06-15T12:29:43.633623Z",
     "shell.execute_reply": "2022-06-15T12:29:43.632877Z"
    },
    "papermill": {
     "duration": 17.249579,
     "end_time": "2022-06-15T12:29:43.635965",
     "exception": false,
     "start_time": "2022-06-15T12:29:26.386386",
     "status": "completed"
    },
    "tags": []
   },
   "outputs": [
    {
     "data": {
      "application/vnd.jupyter.widget-view+json": {
       "model_id": "5a36dc0e53bb4445a7ba3cb8a9e93ccb",
       "version_major": 2,
       "version_minor": 0
      },
      "text/plain": [
       "Downloading:   0%|          | 0.00/619 [00:00<?, ?B/s]"
      ]
     },
     "metadata": {},
     "output_type": "display_data"
    },
    {
     "data": {
      "application/vnd.jupyter.widget-view+json": {
       "model_id": "95beca5114584d0890ef9f087d22a72e",
       "version_major": 2,
       "version_minor": 0
      },
      "text/plain": [
       "Downloading:   0%|          | 0.00/418M [00:00<?, ?B/s]"
      ]
     },
     "metadata": {},
     "output_type": "display_data"
    }
   ],
   "source": [
    "model = AutoModelForSequenceClassification.from_pretrained(model_name, num_labels=1, ignore_mismatched_sizes=True)\n",
    "trainer = Trainer(model, args, train_dataset=dds['train'], eval_dataset=dds['test'],\n",
    "               tokenizer=tokenizer, compute_metrics=corr)"
   ]
  },
  {
   "cell_type": "code",
   "execution_count": 33,
   "id": "90509abe",
   "metadata": {
    "execution": {
     "iopub.execute_input": "2022-06-15T12:29:43.751831Z",
     "iopub.status.busy": "2022-06-15T12:29:43.751596Z",
     "iopub.status.idle": "2022-06-15T12:29:43.758211Z",
     "shell.execute_reply": "2022-06-15T12:29:43.757522Z"
    },
    "papermill": {
     "duration": 0.066105,
     "end_time": "2022-06-15T12:29:43.759830",
     "exception": false,
     "start_time": "2022-06-15T12:29:43.693725",
     "status": "completed"
    },
    "tags": []
   },
   "outputs": [
    {
     "data": {
      "text/plain": [
       "{'label': 0.5,\n",
       " '__index_level_0__': 0,\n",
       " 'input_ids': [0,\n",
       "  2533,\n",
       "  26789,\n",
       "  7975,\n",
       "  6451,\n",
       "  1035,\n",
       "  19806,\n",
       "  1037,\n",
       "  19561,\n",
       "  18536,\n",
       "  4769,\n",
       "  1035,\n",
       "  19806,\n",
       "  1037,\n",
       "  19561,\n",
       "  18536,\n",
       "  4769,\n",
       "  2001,\n",
       "  10800,\n",
       "  2],\n",
       " 'attention_mask': [1,\n",
       "  1,\n",
       "  1,\n",
       "  1,\n",
       "  1,\n",
       "  1,\n",
       "  1,\n",
       "  1,\n",
       "  1,\n",
       "  1,\n",
       "  1,\n",
       "  1,\n",
       "  1,\n",
       "  1,\n",
       "  1,\n",
       "  1,\n",
       "  1,\n",
       "  1,\n",
       "  1,\n",
       "  1]}"
      ]
     },
     "execution_count": 33,
     "metadata": {},
     "output_type": "execute_result"
    }
   ],
   "source": [
    "dds['train'][0]"
   ]
  },
  {
   "cell_type": "code",
   "execution_count": 34,
   "id": "d854baff",
   "metadata": {
    "execution": {
     "iopub.execute_input": "2022-06-15T12:29:43.875825Z",
     "iopub.status.busy": "2022-06-15T12:29:43.875586Z",
     "iopub.status.idle": "2022-06-15T12:35:35.692953Z",
     "shell.execute_reply": "2022-06-15T12:35:35.692179Z"
    },
    "papermill": {
     "duration": 351.879261,
     "end_time": "2022-06-15T12:35:35.695562",
     "exception": false,
     "start_time": "2022-06-15T12:29:43.816301",
     "status": "completed"
    },
    "tags": []
   },
   "outputs": [
    {
     "data": {
      "text/html": [
       "\n",
       "    <div>\n",
       "      \n",
       "      <progress value='1748' max='1748' style='width:300px; height:20px; vertical-align: middle;'></progress>\n",
       "      [1748/1748 05:50, Epoch 4/4]\n",
       "    </div>\n",
       "    <table border=\"1\" class=\"dataframe\">\n",
       "  <thead>\n",
       " <tr style=\"text-align: left;\">\n",
       "      <th>Epoch</th>\n",
       "      <th>Training Loss</th>\n",
       "      <th>Validation Loss</th>\n",
       "      <th>Pearson</th>\n",
       "    </tr>\n",
       "  </thead>\n",
       "  <tbody>\n",
       "    <tr>\n",
       "      <td>1</td>\n",
       "      <td>No log</td>\n",
       "      <td>0.026825</td>\n",
       "      <td>0.784176</td>\n",
       "    </tr>\n",
       "    <tr>\n",
       "      <td>2</td>\n",
       "      <td>0.035800</td>\n",
       "      <td>0.024498</td>\n",
       "      <td>0.802064</td>\n",
       "    </tr>\n",
       "    <tr>\n",
       "      <td>3</td>\n",
       "      <td>0.017100</td>\n",
       "      <td>0.026585</td>\n",
       "      <td>0.805899</td>\n",
       "    </tr>\n",
       "    <tr>\n",
       "      <td>4</td>\n",
       "      <td>0.011400</td>\n",
       "      <td>0.026324</td>\n",
       "      <td>0.806866</td>\n",
       "    </tr>\n",
       "  </tbody>\n",
       "</table><p>"
      ],
      "text/plain": [
       "<IPython.core.display.HTML object>"
      ]
     },
     "metadata": {},
     "output_type": "display_data"
    },
    {
     "data": {
      "text/plain": [
       "TrainOutput(global_step=1748, training_loss=0.019643733375950864, metrics={'train_runtime': 351.8022, 'train_samples_per_second': 317.372, 'train_steps_per_second': 4.969, 'total_flos': 1411417292158122.0, 'train_loss': 0.019643733375950864, 'epoch': 4.0})"
      ]
     },
     "execution_count": 34,
     "metadata": {},
     "output_type": "execute_result"
    }
   ],
   "source": [
    "trainer.train()"
   ]
  },
  {
   "cell_type": "code",
   "execution_count": 35,
   "id": "81f82a8f",
   "metadata": {
    "execution": {
     "iopub.execute_input": "2022-06-15T12:35:35.813292Z",
     "iopub.status.busy": "2022-06-15T12:35:35.812861Z",
     "iopub.status.idle": "2022-06-15T12:35:36.592253Z",
     "shell.execute_reply": "2022-06-15T12:35:36.591397Z"
    },
    "papermill": {
     "duration": 0.840019,
     "end_time": "2022-06-15T12:35:36.594900",
     "exception": false,
     "start_time": "2022-06-15T12:35:35.754881",
     "status": "completed"
    },
    "tags": []
   },
   "outputs": [],
   "source": [
    "trainer.save_model()"
   ]
  },
  {
   "cell_type": "markdown",
   "id": "0cf0d31a",
   "metadata": {
    "papermill": {
     "duration": 0.057636,
     "end_time": "2022-06-15T12:35:36.711367",
     "exception": false,
     "start_time": "2022-06-15T12:35:36.653731",
     "status": "completed"
    },
    "tags": []
   },
   "source": [
    "# Test corpus preprocessing"
   ]
  },
  {
   "cell_type": "code",
   "execution_count": 36,
   "id": "3c452bfd",
   "metadata": {
    "execution": {
     "iopub.execute_input": "2022-06-15T12:35:36.828353Z",
     "iopub.status.busy": "2022-06-15T12:35:36.828111Z",
     "iopub.status.idle": "2022-06-15T12:35:36.837595Z",
     "shell.execute_reply": "2022-06-15T12:35:36.836965Z"
    },
    "papermill": {
     "duration": 0.070429,
     "end_time": "2022-06-15T12:35:36.839466",
     "exception": false,
     "start_time": "2022-06-15T12:35:36.769037",
     "status": "completed"
    },
    "tags": []
   },
   "outputs": [
    {
     "data": {
      "text/html": [
       "<div>\n",
       "<style scoped>\n",
       "    .dataframe tbody tr th:only-of-type {\n",
       "        vertical-align: middle;\n",
       "    }\n",
       "\n",
       "    .dataframe tbody tr th {\n",
       "        vertical-align: top;\n",
       "    }\n",
       "\n",
       "    .dataframe thead th {\n",
       "        text-align: right;\n",
       "    }\n",
       "</style>\n",
       "<table border=\"1\" class=\"dataframe\">\n",
       "  <thead>\n",
       "    <tr style=\"text-align: right;\">\n",
       "      <th></th>\n",
       "      <th>id</th>\n",
       "      <th>anchor</th>\n",
       "      <th>target</th>\n",
       "      <th>context</th>\n",
       "    </tr>\n",
       "  </thead>\n",
       "  <tbody>\n",
       "    <tr>\n",
       "      <th>0</th>\n",
       "      <td>4112d61851461f60</td>\n",
       "      <td>opc drum</td>\n",
       "      <td>inorganic photoconductor drum</td>\n",
       "      <td>G02</td>\n",
       "    </tr>\n",
       "    <tr>\n",
       "      <th>1</th>\n",
       "      <td>09e418c93a776564</td>\n",
       "      <td>adjust gas flow</td>\n",
       "      <td>altering gas flow</td>\n",
       "      <td>F23</td>\n",
       "    </tr>\n",
       "    <tr>\n",
       "      <th>2</th>\n",
       "      <td>36baf228038e314b</td>\n",
       "      <td>lower trunnion</td>\n",
       "      <td>lower locating</td>\n",
       "      <td>B60</td>\n",
       "    </tr>\n",
       "    <tr>\n",
       "      <th>3</th>\n",
       "      <td>1f37ead645e7f0c8</td>\n",
       "      <td>cap component</td>\n",
       "      <td>upper portion</td>\n",
       "      <td>D06</td>\n",
       "    </tr>\n",
       "    <tr>\n",
       "      <th>4</th>\n",
       "      <td>71a5b6ad068d531f</td>\n",
       "      <td>neural stimulation</td>\n",
       "      <td>artificial neural network</td>\n",
       "      <td>H04</td>\n",
       "    </tr>\n",
       "  </tbody>\n",
       "</table>\n",
       "</div>"
      ],
      "text/plain": [
       "                 id              anchor                         target context\n",
       "0  4112d61851461f60            opc drum  inorganic photoconductor drum     G02\n",
       "1  09e418c93a776564     adjust gas flow              altering gas flow     F23\n",
       "2  36baf228038e314b      lower trunnion                 lower locating     B60\n",
       "3  1f37ead645e7f0c8       cap component                  upper portion     D06\n",
       "4  71a5b6ad068d531f  neural stimulation      artificial neural network     H04"
      ]
     },
     "execution_count": 36,
     "metadata": {},
     "output_type": "execute_result"
    }
   ],
   "source": [
    "test.head()"
   ]
  },
  {
   "cell_type": "code",
   "execution_count": 37,
   "id": "74fda1ba",
   "metadata": {
    "execution": {
     "iopub.execute_input": "2022-06-15T12:35:36.956997Z",
     "iopub.status.busy": "2022-06-15T12:35:36.956775Z",
     "iopub.status.idle": "2022-06-15T12:35:37.153604Z",
     "shell.execute_reply": "2022-06-15T12:35:37.152773Z"
    },
    "papermill": {
     "duration": 0.258218,
     "end_time": "2022-06-15T12:35:37.155847",
     "exception": false,
     "start_time": "2022-06-15T12:35:36.897629",
     "status": "completed"
    },
    "tags": []
   },
   "outputs": [
    {
     "name": "stdout",
     "output_type": "stream",
     "text": [
      "(36, 5)\n"
     ]
    },
    {
     "data": {
      "text/html": [
       "<div>\n",
       "<style scoped>\n",
       "    .dataframe tbody tr th:only-of-type {\n",
       "        vertical-align: middle;\n",
       "    }\n",
       "\n",
       "    .dataframe tbody tr th {\n",
       "        vertical-align: top;\n",
       "    }\n",
       "\n",
       "    .dataframe thead th {\n",
       "        text-align: right;\n",
       "    }\n",
       "</style>\n",
       "<table border=\"1\" class=\"dataframe\">\n",
       "  <thead>\n",
       "    <tr style=\"text-align: right;\">\n",
       "      <th></th>\n",
       "      <th>context</th>\n",
       "      <th>title</th>\n",
       "      <th>section</th>\n",
       "      <th>class</th>\n",
       "      <th>subclass</th>\n",
       "      <th>group</th>\n",
       "      <th>main_group</th>\n",
       "    </tr>\n",
       "  </thead>\n",
       "  <tbody>\n",
       "    <tr>\n",
       "      <th>0</th>\n",
       "      <td>A</td>\n",
       "      <td>HUMAN NECESSITIES</td>\n",
       "      <td>A</td>\n",
       "      <td>NaN</td>\n",
       "      <td>NaN</td>\n",
       "      <td>NaN</td>\n",
       "      <td>NaN</td>\n",
       "    </tr>\n",
       "    <tr>\n",
       "      <th>1</th>\n",
       "      <td>A01</td>\n",
       "      <td>AGRICULTURE; FORESTRY; ANIMAL HUSBANDRY; HUNTI...</td>\n",
       "      <td>A</td>\n",
       "      <td>1.0</td>\n",
       "      <td>NaN</td>\n",
       "      <td>NaN</td>\n",
       "      <td>NaN</td>\n",
       "    </tr>\n",
       "    <tr>\n",
       "      <th>2</th>\n",
       "      <td>A01B</td>\n",
       "      <td>SOIL WORKING IN AGRICULTURE OR FORESTRY; PARTS...</td>\n",
       "      <td>A</td>\n",
       "      <td>1.0</td>\n",
       "      <td>B</td>\n",
       "      <td>NaN</td>\n",
       "      <td>NaN</td>\n",
       "    </tr>\n",
       "    <tr>\n",
       "      <th>3</th>\n",
       "      <td>A01B1/00</td>\n",
       "      <td>Hand tools (edge trimmers for lawns A01G3/06  ...</td>\n",
       "      <td>A</td>\n",
       "      <td>1.0</td>\n",
       "      <td>B</td>\n",
       "      <td>1.0</td>\n",
       "      <td>0.0</td>\n",
       "    </tr>\n",
       "    <tr>\n",
       "      <th>4</th>\n",
       "      <td>A01B1/02</td>\n",
       "      <td>Spades; Shovels {(hand-operated dredgers E02F3...</td>\n",
       "      <td>A</td>\n",
       "      <td>1.0</td>\n",
       "      <td>B</td>\n",
       "      <td>1.0</td>\n",
       "      <td>2.0</td>\n",
       "    </tr>\n",
       "  </tbody>\n",
       "</table>\n",
       "</div>"
      ],
      "text/plain": [
       "    context                                              title section  class  \\\n",
       "0         A                                  HUMAN NECESSITIES       A    NaN   \n",
       "1       A01  AGRICULTURE; FORESTRY; ANIMAL HUSBANDRY; HUNTI...       A    1.0   \n",
       "2      A01B  SOIL WORKING IN AGRICULTURE OR FORESTRY; PARTS...       A    1.0   \n",
       "3  A01B1/00  Hand tools (edge trimmers for lawns A01G3/06  ...       A    1.0   \n",
       "4  A01B1/02  Spades; Shovels {(hand-operated dredgers E02F3...       A    1.0   \n",
       "\n",
       "  subclass  group  main_group  \n",
       "0      NaN    NaN         NaN  \n",
       "1      NaN    NaN         NaN  \n",
       "2        B    NaN         NaN  \n",
       "3        B    1.0         0.0  \n",
       "4        B    1.0         2.0  "
      ]
     },
     "metadata": {},
     "output_type": "display_data"
    },
    {
     "data": {
      "text/html": [
       "<div>\n",
       "<style scoped>\n",
       "    .dataframe tbody tr th:only-of-type {\n",
       "        vertical-align: middle;\n",
       "    }\n",
       "\n",
       "    .dataframe tbody tr th {\n",
       "        vertical-align: top;\n",
       "    }\n",
       "\n",
       "    .dataframe thead th {\n",
       "        text-align: right;\n",
       "    }\n",
       "</style>\n",
       "<table border=\"1\" class=\"dataframe\">\n",
       "  <thead>\n",
       "    <tr style=\"text-align: right;\">\n",
       "      <th></th>\n",
       "      <th>id</th>\n",
       "      <th>anchor</th>\n",
       "      <th>target</th>\n",
       "      <th>context</th>\n",
       "      <th>section</th>\n",
       "      <th>context_title</th>\n",
       "      <th>section_title</th>\n",
       "    </tr>\n",
       "  </thead>\n",
       "  <tbody>\n",
       "    <tr>\n",
       "      <th>0</th>\n",
       "      <td>4112d61851461f60</td>\n",
       "      <td>opc drum</td>\n",
       "      <td>inorganic photoconductor drum</td>\n",
       "      <td>G02</td>\n",
       "      <td>G</td>\n",
       "      <td>OPTICS</td>\n",
       "      <td>PHYSICS</td>\n",
       "    </tr>\n",
       "    <tr>\n",
       "      <th>1</th>\n",
       "      <td>5203a36c501f1b7c</td>\n",
       "      <td>generate in layer</td>\n",
       "      <td>generate by layer</td>\n",
       "      <td>G02</td>\n",
       "      <td>G</td>\n",
       "      <td>OPTICS</td>\n",
       "      <td>PHYSICS</td>\n",
       "    </tr>\n",
       "    <tr>\n",
       "      <th>2</th>\n",
       "      <td>7aa5908a77a7ec24</td>\n",
       "      <td>el display</td>\n",
       "      <td>illumination</td>\n",
       "      <td>G02</td>\n",
       "      <td>G</td>\n",
       "      <td>OPTICS</td>\n",
       "      <td>PHYSICS</td>\n",
       "    </tr>\n",
       "    <tr>\n",
       "      <th>3</th>\n",
       "      <td>442c114ed5c4e3c9</td>\n",
       "      <td>tunneling capacitor</td>\n",
       "      <td>capacitor housing</td>\n",
       "      <td>G11</td>\n",
       "      <td>G</td>\n",
       "      <td>INFORMATION STORAGE</td>\n",
       "      <td>PHYSICS</td>\n",
       "    </tr>\n",
       "    <tr>\n",
       "      <th>4</th>\n",
       "      <td>12ca31f018a2e2b9</td>\n",
       "      <td>speed control means</td>\n",
       "      <td>control loop</td>\n",
       "      <td>G05</td>\n",
       "      <td>G</td>\n",
       "      <td>CONTROLLING; REGULATING</td>\n",
       "      <td>PHYSICS</td>\n",
       "    </tr>\n",
       "  </tbody>\n",
       "</table>\n",
       "</div>"
      ],
      "text/plain": [
       "                 id               anchor                         target  \\\n",
       "0  4112d61851461f60             opc drum  inorganic photoconductor drum   \n",
       "1  5203a36c501f1b7c    generate in layer              generate by layer   \n",
       "2  7aa5908a77a7ec24           el display                   illumination   \n",
       "3  442c114ed5c4e3c9  tunneling capacitor              capacitor housing   \n",
       "4  12ca31f018a2e2b9  speed control means                   control loop   \n",
       "\n",
       "  context section            context_title section_title  \n",
       "0     G02       G                   OPTICS       PHYSICS  \n",
       "1     G02       G                   OPTICS       PHYSICS  \n",
       "2     G02       G                   OPTICS       PHYSICS  \n",
       "3     G11       G      INFORMATION STORAGE       PHYSICS  \n",
       "4     G05       G  CONTROLLING; REGULATING       PHYSICS  "
      ]
     },
     "metadata": {},
     "output_type": "display_data"
    }
   ],
   "source": [
    "test['section'] = test[\"context\"].str[0]\n",
    "print(test.shape)\n",
    "display(titles.head())\n",
    "test = test.merge(titles[[\"context\", \"title\"]], on=\"context\").rename(columns={\"title\": \"context_title\"})\n",
    "test = test.merge(titles[[\"context\", \"title\"]].rename(columns={\"context\": \"section\"}), on=\"section\").rename(columns={\"title\": \"section_title\"})\n",
    "display(test.head())"
   ]
  },
  {
   "cell_type": "code",
   "execution_count": 38,
   "id": "26b5d228",
   "metadata": {
    "execution": {
     "iopub.execute_input": "2022-06-15T12:35:37.275400Z",
     "iopub.status.busy": "2022-06-15T12:35:37.275179Z",
     "iopub.status.idle": "2022-06-15T12:35:37.280548Z",
     "shell.execute_reply": "2022-06-15T12:35:37.279882Z"
    },
    "papermill": {
     "duration": 0.066772,
     "end_time": "2022-06-15T12:35:37.282243",
     "exception": false,
     "start_time": "2022-06-15T12:35:37.215471",
     "status": "completed"
    },
    "tags": []
   },
   "outputs": [],
   "source": [
    "test[\"inputs\"] = test[\"section_title\"].apply(clean) + \" [SEP] \" + test[\"anchor\"] + \" [SEP] \" + test[\"target\"]"
   ]
  },
  {
   "cell_type": "code",
   "execution_count": 39,
   "id": "a28e423c",
   "metadata": {
    "execution": {
     "iopub.execute_input": "2022-06-15T12:35:37.401962Z",
     "iopub.status.busy": "2022-06-15T12:35:37.401772Z",
     "iopub.status.idle": "2022-06-15T12:35:37.409174Z",
     "shell.execute_reply": "2022-06-15T12:35:37.408574Z"
    },
    "papermill": {
     "duration": 0.068576,
     "end_time": "2022-06-15T12:35:37.410752",
     "exception": false,
     "start_time": "2022-06-15T12:35:37.342176",
     "status": "completed"
    },
    "tags": []
   },
   "outputs": [],
   "source": [
    "test_ds = Dataset.from_pandas(test)"
   ]
  },
  {
   "cell_type": "code",
   "execution_count": 40,
   "id": "85feeece",
   "metadata": {
    "execution": {
     "iopub.execute_input": "2022-06-15T12:35:37.530430Z",
     "iopub.status.busy": "2022-06-15T12:35:37.530246Z",
     "iopub.status.idle": "2022-06-15T12:35:37.535068Z",
     "shell.execute_reply": "2022-06-15T12:35:37.534313Z"
    },
    "papermill": {
     "duration": 0.066765,
     "end_time": "2022-06-15T12:35:37.537555",
     "exception": false,
     "start_time": "2022-06-15T12:35:37.470790",
     "status": "completed"
    },
    "tags": []
   },
   "outputs": [
    {
     "data": {
      "text/plain": [
       "Dataset({\n",
       "    features: ['id', 'anchor', 'target', 'context', 'section', 'context_title', 'section_title', 'inputs', '__index_level_0__'],\n",
       "    num_rows: 36\n",
       "})"
      ]
     },
     "execution_count": 40,
     "metadata": {},
     "output_type": "execute_result"
    }
   ],
   "source": [
    "test_ds"
   ]
  },
  {
   "cell_type": "code",
   "execution_count": 41,
   "id": "1c214a63",
   "metadata": {
    "execution": {
     "iopub.execute_input": "2022-06-15T12:35:37.657240Z",
     "iopub.status.busy": "2022-06-15T12:35:37.657019Z",
     "iopub.status.idle": "2022-06-15T12:35:37.705701Z",
     "shell.execute_reply": "2022-06-15T12:35:37.705091Z"
    },
    "papermill": {
     "duration": 0.11103,
     "end_time": "2022-06-15T12:35:37.708250",
     "exception": false,
     "start_time": "2022-06-15T12:35:37.597220",
     "status": "completed"
    },
    "tags": []
   },
   "outputs": [
    {
     "data": {
      "application/vnd.jupyter.widget-view+json": {
       "model_id": "e9ef0b43e06e447eb979049c5ca5def8",
       "version_major": 2,
       "version_minor": 0
      },
      "text/plain": [
       "  0%|          | 0/1 [00:00<?, ?ba/s]"
      ]
     },
     "metadata": {},
     "output_type": "display_data"
    }
   ],
   "source": [
    "inps = \"anchor\",\"target\",\"context\",\"context_title\",\"section_title\"\n",
    "test_tok_ds = test_ds.map(tok_func, batched=True, remove_columns=inps+('inputs','id','section'))"
   ]
  },
  {
   "cell_type": "code",
   "execution_count": 42,
   "id": "dcf7d34e",
   "metadata": {
    "execution": {
     "iopub.execute_input": "2022-06-15T12:35:37.836202Z",
     "iopub.status.busy": "2022-06-15T12:35:37.835798Z",
     "iopub.status.idle": "2022-06-15T12:35:37.880373Z",
     "shell.execute_reply": "2022-06-15T12:35:37.879543Z"
    },
    "papermill": {
     "duration": 0.10924,
     "end_time": "2022-06-15T12:35:37.882094",
     "exception": false,
     "start_time": "2022-06-15T12:35:37.772854",
     "status": "completed"
    },
    "tags": []
   },
   "outputs": [
    {
     "data": {
      "text/html": [
       "\n",
       "    <div>\n",
       "      \n",
       "      <progress value='1' max='1' style='width:300px; height:20px; vertical-align: middle;'></progress>\n",
       "      [1/1 : < :]\n",
       "    </div>\n",
       "    "
      ],
      "text/plain": [
       "<IPython.core.display.HTML object>"
      ]
     },
     "metadata": {},
     "output_type": "display_data"
    },
    {
     "data": {
      "text/plain": [
       "array([[ 0.48749384],\n",
       "       [ 0.948901  ],\n",
       "       [ 0.28694433],\n",
       "       [ 0.50278115],\n",
       "       [ 0.31292188],\n",
       "       [ 0.73349011],\n",
       "       [ 0.4781965 ],\n",
       "       [ 0.79074466],\n",
       "       [ 1.05603766],\n",
       "       [ 0.2435392 ],\n",
       "       [ 0.24521858],\n",
       "       [ 0.55106753],\n",
       "       [-0.01621631],\n",
       "       [ 0.5375756 ],\n",
       "       [ 0.63313073],\n",
       "       [-0.00538462],\n",
       "       [ 0.17454851],\n",
       "       [ 0.79013216],\n",
       "       [ 0.79604405],\n",
       "       [-0.00391432],\n",
       "       [ 0.27687433],\n",
       "       [ 0.27295172],\n",
       "       [ 0.52643836],\n",
       "       [ 0.3617987 ],\n",
       "       [ 0.01224874],\n",
       "       [ 0.30376944],\n",
       "       [ 0.29838696],\n",
       "       [ 0.53494966],\n",
       "       [ 0.12322883],\n",
       "       [ 0.49000978],\n",
       "       [ 0.48843858],\n",
       "       [ 0.14339146],\n",
       "       [-0.01222257],\n",
       "       [ 0.1442931 ],\n",
       "       [-0.0065867 ],\n",
       "       [-0.00724098]])"
      ]
     },
     "execution_count": 42,
     "metadata": {},
     "output_type": "execute_result"
    }
   ],
   "source": [
    "preds = trainer.predict(test_tok_ds).predictions.astype(float)\n",
    "preds"
   ]
  },
  {
   "cell_type": "code",
   "execution_count": 43,
   "id": "9e552beb",
   "metadata": {
    "execution": {
     "iopub.execute_input": "2022-06-15T12:35:38.008565Z",
     "iopub.status.busy": "2022-06-15T12:35:38.008374Z",
     "iopub.status.idle": "2022-06-15T12:35:38.012838Z",
     "shell.execute_reply": "2022-06-15T12:35:38.012205Z"
    },
    "papermill": {
     "duration": 0.069212,
     "end_time": "2022-06-15T12:35:38.014513",
     "exception": false,
     "start_time": "2022-06-15T12:35:37.945301",
     "status": "completed"
    },
    "tags": []
   },
   "outputs": [
    {
     "data": {
      "text/plain": [
       "numpy.ndarray"
      ]
     },
     "execution_count": 43,
     "metadata": {},
     "output_type": "execute_result"
    }
   ],
   "source": [
    "type(preds)"
   ]
  },
  {
   "cell_type": "code",
   "execution_count": 44,
   "id": "90cb0990",
   "metadata": {
    "execution": {
     "iopub.execute_input": "2022-06-15T12:35:38.137146Z",
     "iopub.status.busy": "2022-06-15T12:35:38.136754Z",
     "iopub.status.idle": "2022-06-15T12:35:38.140565Z",
     "shell.execute_reply": "2022-06-15T12:35:38.139890Z"
    },
    "papermill": {
     "duration": 0.066856,
     "end_time": "2022-06-15T12:35:38.142252",
     "exception": false,
     "start_time": "2022-06-15T12:35:38.075396",
     "status": "completed"
    },
    "tags": []
   },
   "outputs": [],
   "source": [
    "df_submission = pd.DataFrame()"
   ]
  },
  {
   "cell_type": "code",
   "execution_count": 45,
   "id": "bdbfc518",
   "metadata": {
    "execution": {
     "iopub.execute_input": "2022-06-15T12:35:38.266619Z",
     "iopub.status.busy": "2022-06-15T12:35:38.266400Z",
     "iopub.status.idle": "2022-06-15T12:35:38.271114Z",
     "shell.execute_reply": "2022-06-15T12:35:38.270466Z"
    },
    "papermill": {
     "duration": 0.068268,
     "end_time": "2022-06-15T12:35:38.272696",
     "exception": false,
     "start_time": "2022-06-15T12:35:38.204428",
     "status": "completed"
    },
    "tags": []
   },
   "outputs": [],
   "source": [
    "df_submission['id'] = test['id'].copy()"
   ]
  },
  {
   "cell_type": "code",
   "execution_count": 46,
   "id": "fc7eb6fb",
   "metadata": {
    "execution": {
     "iopub.execute_input": "2022-06-15T12:35:38.403411Z",
     "iopub.status.busy": "2022-06-15T12:35:38.402758Z",
     "iopub.status.idle": "2022-06-15T12:35:38.413203Z",
     "shell.execute_reply": "2022-06-15T12:35:38.412463Z"
    },
    "papermill": {
     "duration": 0.078139,
     "end_time": "2022-06-15T12:35:38.415164",
     "exception": false,
     "start_time": "2022-06-15T12:35:38.337025",
     "status": "completed"
    },
    "tags": []
   },
   "outputs": [
    {
     "data": {
      "text/html": [
       "<div>\n",
       "<style scoped>\n",
       "    .dataframe tbody tr th:only-of-type {\n",
       "        vertical-align: middle;\n",
       "    }\n",
       "\n",
       "    .dataframe tbody tr th {\n",
       "        vertical-align: top;\n",
       "    }\n",
       "\n",
       "    .dataframe thead th {\n",
       "        text-align: right;\n",
       "    }\n",
       "</style>\n",
       "<table border=\"1\" class=\"dataframe\">\n",
       "  <thead>\n",
       "    <tr style=\"text-align: right;\">\n",
       "      <th></th>\n",
       "      <th>id</th>\n",
       "    </tr>\n",
       "  </thead>\n",
       "  <tbody>\n",
       "    <tr>\n",
       "      <th>0</th>\n",
       "      <td>4112d61851461f60</td>\n",
       "    </tr>\n",
       "    <tr>\n",
       "      <th>1</th>\n",
       "      <td>5203a36c501f1b7c</td>\n",
       "    </tr>\n",
       "    <tr>\n",
       "      <th>2</th>\n",
       "      <td>7aa5908a77a7ec24</td>\n",
       "    </tr>\n",
       "    <tr>\n",
       "      <th>3</th>\n",
       "      <td>442c114ed5c4e3c9</td>\n",
       "    </tr>\n",
       "    <tr>\n",
       "      <th>4</th>\n",
       "      <td>12ca31f018a2e2b9</td>\n",
       "    </tr>\n",
       "    <tr>\n",
       "      <th>5</th>\n",
       "      <td>9f2279ce667b21dc</td>\n",
       "    </tr>\n",
       "    <tr>\n",
       "      <th>6</th>\n",
       "      <td>b9ea2b06a878df6f</td>\n",
       "    </tr>\n",
       "    <tr>\n",
       "      <th>7</th>\n",
       "      <td>09e418c93a776564</td>\n",
       "    </tr>\n",
       "    <tr>\n",
       "      <th>8</th>\n",
       "      <td>ae0262c02566d2ce</td>\n",
       "    </tr>\n",
       "    <tr>\n",
       "      <th>9</th>\n",
       "      <td>03ba802ed4029e4d</td>\n",
       "    </tr>\n",
       "    <tr>\n",
       "      <th>10</th>\n",
       "      <td>25522ee5411e63e9</td>\n",
       "    </tr>\n",
       "    <tr>\n",
       "      <th>11</th>\n",
       "      <td>c404f8b378cbb008</td>\n",
       "    </tr>\n",
       "    <tr>\n",
       "      <th>12</th>\n",
       "      <td>26c3c6dc6174b589</td>\n",
       "    </tr>\n",
       "    <tr>\n",
       "      <th>13</th>\n",
       "      <td>36baf228038e314b</td>\n",
       "    </tr>\n",
       "    <tr>\n",
       "      <th>14</th>\n",
       "      <td>b892011ab2e2cabc</td>\n",
       "    </tr>\n",
       "    <tr>\n",
       "      <th>15</th>\n",
       "      <td>b8ae62ea5e1d8bdb</td>\n",
       "    </tr>\n",
       "    <tr>\n",
       "      <th>16</th>\n",
       "      <td>a8808e31641e856d</td>\n",
       "    </tr>\n",
       "    <tr>\n",
       "      <th>17</th>\n",
       "      <td>25c555ca3d5a2092</td>\n",
       "    </tr>\n",
       "    <tr>\n",
       "      <th>18</th>\n",
       "      <td>b9fdc772bb8fd61c</td>\n",
       "    </tr>\n",
       "    <tr>\n",
       "      <th>19</th>\n",
       "      <td>de51114bc0faec3e</td>\n",
       "    </tr>\n",
       "    <tr>\n",
       "      <th>20</th>\n",
       "      <td>8247ff562ca185cc</td>\n",
       "    </tr>\n",
       "    <tr>\n",
       "      <th>21</th>\n",
       "      <td>1f37ead645e7f0c8</td>\n",
       "    </tr>\n",
       "    <tr>\n",
       "      <th>22</th>\n",
       "      <td>71a5b6ad068d531f</td>\n",
       "    </tr>\n",
       "    <tr>\n",
       "      <th>23</th>\n",
       "      <td>16ae4b99d3601e60</td>\n",
       "    </tr>\n",
       "    <tr>\n",
       "      <th>24</th>\n",
       "      <td>fd83613b7843f5e1</td>\n",
       "    </tr>\n",
       "    <tr>\n",
       "      <th>25</th>\n",
       "      <td>733979d75f59770d</td>\n",
       "    </tr>\n",
       "    <tr>\n",
       "      <th>26</th>\n",
       "      <td>79795133c30ef097</td>\n",
       "    </tr>\n",
       "    <tr>\n",
       "      <th>27</th>\n",
       "      <td>474c874d0c07bd21</td>\n",
       "    </tr>\n",
       "    <tr>\n",
       "      <th>28</th>\n",
       "      <td>faaddaf8fcba8a3f</td>\n",
       "    </tr>\n",
       "    <tr>\n",
       "      <th>29</th>\n",
       "      <td>2a619016908bfa45</td>\n",
       "    </tr>\n",
       "    <tr>\n",
       "      <th>30</th>\n",
       "      <td>6546846df17f9800</td>\n",
       "    </tr>\n",
       "    <tr>\n",
       "      <th>31</th>\n",
       "      <td>d19ef3979396d47e</td>\n",
       "    </tr>\n",
       "    <tr>\n",
       "      <th>32</th>\n",
       "      <td>7e3aff857f056bf9</td>\n",
       "    </tr>\n",
       "    <tr>\n",
       "      <th>33</th>\n",
       "      <td>3ff0e7a35015be69</td>\n",
       "    </tr>\n",
       "    <tr>\n",
       "      <th>34</th>\n",
       "      <td>78243984c02a72e4</td>\n",
       "    </tr>\n",
       "    <tr>\n",
       "      <th>35</th>\n",
       "      <td>c057aecbba832387</td>\n",
       "    </tr>\n",
       "  </tbody>\n",
       "</table>\n",
       "</div>"
      ],
      "text/plain": [
       "                  id\n",
       "0   4112d61851461f60\n",
       "1   5203a36c501f1b7c\n",
       "2   7aa5908a77a7ec24\n",
       "3   442c114ed5c4e3c9\n",
       "4   12ca31f018a2e2b9\n",
       "5   9f2279ce667b21dc\n",
       "6   b9ea2b06a878df6f\n",
       "7   09e418c93a776564\n",
       "8   ae0262c02566d2ce\n",
       "9   03ba802ed4029e4d\n",
       "10  25522ee5411e63e9\n",
       "11  c404f8b378cbb008\n",
       "12  26c3c6dc6174b589\n",
       "13  36baf228038e314b\n",
       "14  b892011ab2e2cabc\n",
       "15  b8ae62ea5e1d8bdb\n",
       "16  a8808e31641e856d\n",
       "17  25c555ca3d5a2092\n",
       "18  b9fdc772bb8fd61c\n",
       "19  de51114bc0faec3e\n",
       "20  8247ff562ca185cc\n",
       "21  1f37ead645e7f0c8\n",
       "22  71a5b6ad068d531f\n",
       "23  16ae4b99d3601e60\n",
       "24  fd83613b7843f5e1\n",
       "25  733979d75f59770d\n",
       "26  79795133c30ef097\n",
       "27  474c874d0c07bd21\n",
       "28  faaddaf8fcba8a3f\n",
       "29  2a619016908bfa45\n",
       "30  6546846df17f9800\n",
       "31  d19ef3979396d47e\n",
       "32  7e3aff857f056bf9\n",
       "33  3ff0e7a35015be69\n",
       "34  78243984c02a72e4\n",
       "35  c057aecbba832387"
      ]
     },
     "execution_count": 46,
     "metadata": {},
     "output_type": "execute_result"
    }
   ],
   "source": [
    "df_submission"
   ]
  },
  {
   "cell_type": "code",
   "execution_count": 47,
   "id": "0d6f6244",
   "metadata": {
    "execution": {
     "iopub.execute_input": "2022-06-15T12:35:38.548409Z",
     "iopub.status.busy": "2022-06-15T12:35:38.548133Z",
     "iopub.status.idle": "2022-06-15T12:35:38.551797Z",
     "shell.execute_reply": "2022-06-15T12:35:38.551179Z"
    },
    "papermill": {
     "duration": 0.068391,
     "end_time": "2022-06-15T12:35:38.553403",
     "exception": false,
     "start_time": "2022-06-15T12:35:38.485012",
     "status": "completed"
    },
    "tags": []
   },
   "outputs": [],
   "source": [
    "preds_list = preds.tolist()"
   ]
  },
  {
   "cell_type": "code",
   "execution_count": 48,
   "id": "2abe0eba",
   "metadata": {
    "execution": {
     "iopub.execute_input": "2022-06-15T12:35:38.678738Z",
     "iopub.status.busy": "2022-06-15T12:35:38.678539Z",
     "iopub.status.idle": "2022-06-15T12:35:38.683639Z",
     "shell.execute_reply": "2022-06-15T12:35:38.683032Z"
    },
    "papermill": {
     "duration": 0.070264,
     "end_time": "2022-06-15T12:35:38.685424",
     "exception": false,
     "start_time": "2022-06-15T12:35:38.615160",
     "status": "completed"
    },
    "tags": []
   },
   "outputs": [
    {
     "data": {
      "text/plain": [
       "[[0.4874938428401947],\n",
       " [0.9489009976387024],\n",
       " [0.28694432973861694],\n",
       " [0.5027811527252197],\n",
       " [0.3129218816757202],\n",
       " [0.7334901094436646],\n",
       " [0.47819650173187256],\n",
       " [0.7907446622848511],\n",
       " [1.0560376644134521],\n",
       " [0.24353919923305511],\n",
       " [0.24521857500076294],\n",
       " [0.5510675311088562],\n",
       " [-0.016216306015849113],\n",
       " [0.5375756025314331],\n",
       " [0.6331307291984558],\n",
       " [-0.005384623073041439],\n",
       " [0.17454850673675537],\n",
       " [0.7901321649551392],\n",
       " [0.7960440516471863],\n",
       " [-0.003914319910109043],\n",
       " [0.2768743336200714],\n",
       " [0.27295172214508057],\n",
       " [0.5264383554458618],\n",
       " [0.3617987036705017],\n",
       " [0.012248742394149303],\n",
       " [0.30376943945884705],\n",
       " [0.29838696122169495],\n",
       " [0.5349496603012085],\n",
       " [0.12322882562875748],\n",
       " [0.49000978469848633],\n",
       " [0.48843857645988464],\n",
       " [0.1433914601802826],\n",
       " [-0.012222572229802608],\n",
       " [0.14429309964179993],\n",
       " [-0.006586701609194279],\n",
       " [-0.007240978069603443]]"
      ]
     },
     "execution_count": 48,
     "metadata": {},
     "output_type": "execute_result"
    }
   ],
   "source": [
    "preds_list"
   ]
  },
  {
   "cell_type": "code",
   "execution_count": 49,
   "id": "29e6d6dd",
   "metadata": {
    "execution": {
     "iopub.execute_input": "2022-06-15T12:35:38.812118Z",
     "iopub.status.busy": "2022-06-15T12:35:38.811622Z",
     "iopub.status.idle": "2022-06-15T12:35:38.816728Z",
     "shell.execute_reply": "2022-06-15T12:35:38.816103Z"
    },
    "papermill": {
     "duration": 0.070617,
     "end_time": "2022-06-15T12:35:38.818555",
     "exception": false,
     "start_time": "2022-06-15T12:35:38.747938",
     "status": "completed"
    },
    "tags": []
   },
   "outputs": [
    {
     "data": {
      "text/plain": [
       "[0.4874938428401947,\n",
       " 0.9489009976387024,\n",
       " 0.28694432973861694,\n",
       " 0.5027811527252197,\n",
       " 0.3129218816757202,\n",
       " 0.7334901094436646,\n",
       " 0.47819650173187256,\n",
       " 0.7907446622848511,\n",
       " 1.0560376644134521,\n",
       " 0.24353919923305511,\n",
       " 0.24521857500076294,\n",
       " 0.5510675311088562,\n",
       " -0.016216306015849113,\n",
       " 0.5375756025314331,\n",
       " 0.6331307291984558,\n",
       " -0.005384623073041439,\n",
       " 0.17454850673675537,\n",
       " 0.7901321649551392,\n",
       " 0.7960440516471863,\n",
       " -0.003914319910109043,\n",
       " 0.2768743336200714,\n",
       " 0.27295172214508057,\n",
       " 0.5264383554458618,\n",
       " 0.3617987036705017,\n",
       " 0.012248742394149303,\n",
       " 0.30376943945884705,\n",
       " 0.29838696122169495,\n",
       " 0.5349496603012085,\n",
       " 0.12322882562875748,\n",
       " 0.49000978469848633,\n",
       " 0.48843857645988464,\n",
       " 0.1433914601802826,\n",
       " -0.012222572229802608,\n",
       " 0.14429309964179993,\n",
       " -0.006586701609194279,\n",
       " -0.007240978069603443]"
      ]
     },
     "execution_count": 49,
     "metadata": {},
     "output_type": "execute_result"
    }
   ],
   "source": [
    "flat_list = [x for xs in preds_list for x in xs]\n",
    "flat_list"
   ]
  },
  {
   "cell_type": "code",
   "execution_count": 50,
   "id": "69437a7a",
   "metadata": {
    "execution": {
     "iopub.execute_input": "2022-06-15T12:35:38.945828Z",
     "iopub.status.busy": "2022-06-15T12:35:38.945630Z",
     "iopub.status.idle": "2022-06-15T12:35:38.949550Z",
     "shell.execute_reply": "2022-06-15T12:35:38.948862Z"
    },
    "papermill": {
     "duration": 0.070503,
     "end_time": "2022-06-15T12:35:38.951128",
     "exception": false,
     "start_time": "2022-06-15T12:35:38.880625",
     "status": "completed"
    },
    "tags": []
   },
   "outputs": [],
   "source": [
    "df_submission['score' ] = flat_list"
   ]
  },
  {
   "cell_type": "code",
   "execution_count": 51,
   "id": "1b858cc2",
   "metadata": {
    "execution": {
     "iopub.execute_input": "2022-06-15T12:35:39.078220Z",
     "iopub.status.busy": "2022-06-15T12:35:39.077856Z",
     "iopub.status.idle": "2022-06-15T12:35:39.088024Z",
     "shell.execute_reply": "2022-06-15T12:35:39.087386Z"
    },
    "papermill": {
     "duration": 0.075633,
     "end_time": "2022-06-15T12:35:39.089741",
     "exception": false,
     "start_time": "2022-06-15T12:35:39.014108",
     "status": "completed"
    },
    "tags": []
   },
   "outputs": [
    {
     "data": {
      "text/html": [
       "<div>\n",
       "<style scoped>\n",
       "    .dataframe tbody tr th:only-of-type {\n",
       "        vertical-align: middle;\n",
       "    }\n",
       "\n",
       "    .dataframe tbody tr th {\n",
       "        vertical-align: top;\n",
       "    }\n",
       "\n",
       "    .dataframe thead th {\n",
       "        text-align: right;\n",
       "    }\n",
       "</style>\n",
       "<table border=\"1\" class=\"dataframe\">\n",
       "  <thead>\n",
       "    <tr style=\"text-align: right;\">\n",
       "      <th></th>\n",
       "      <th>id</th>\n",
       "      <th>score</th>\n",
       "    </tr>\n",
       "  </thead>\n",
       "  <tbody>\n",
       "    <tr>\n",
       "      <th>0</th>\n",
       "      <td>4112d61851461f60</td>\n",
       "      <td>0.487494</td>\n",
       "    </tr>\n",
       "    <tr>\n",
       "      <th>1</th>\n",
       "      <td>5203a36c501f1b7c</td>\n",
       "      <td>0.948901</td>\n",
       "    </tr>\n",
       "    <tr>\n",
       "      <th>2</th>\n",
       "      <td>7aa5908a77a7ec24</td>\n",
       "      <td>0.286944</td>\n",
       "    </tr>\n",
       "    <tr>\n",
       "      <th>3</th>\n",
       "      <td>442c114ed5c4e3c9</td>\n",
       "      <td>0.502781</td>\n",
       "    </tr>\n",
       "    <tr>\n",
       "      <th>4</th>\n",
       "      <td>12ca31f018a2e2b9</td>\n",
       "      <td>0.312922</td>\n",
       "    </tr>\n",
       "    <tr>\n",
       "      <th>5</th>\n",
       "      <td>9f2279ce667b21dc</td>\n",
       "      <td>0.733490</td>\n",
       "    </tr>\n",
       "    <tr>\n",
       "      <th>6</th>\n",
       "      <td>b9ea2b06a878df6f</td>\n",
       "      <td>0.478197</td>\n",
       "    </tr>\n",
       "    <tr>\n",
       "      <th>7</th>\n",
       "      <td>09e418c93a776564</td>\n",
       "      <td>0.790745</td>\n",
       "    </tr>\n",
       "    <tr>\n",
       "      <th>8</th>\n",
       "      <td>ae0262c02566d2ce</td>\n",
       "      <td>1.056038</td>\n",
       "    </tr>\n",
       "    <tr>\n",
       "      <th>9</th>\n",
       "      <td>03ba802ed4029e4d</td>\n",
       "      <td>0.243539</td>\n",
       "    </tr>\n",
       "    <tr>\n",
       "      <th>10</th>\n",
       "      <td>25522ee5411e63e9</td>\n",
       "      <td>0.245219</td>\n",
       "    </tr>\n",
       "    <tr>\n",
       "      <th>11</th>\n",
       "      <td>c404f8b378cbb008</td>\n",
       "      <td>0.551068</td>\n",
       "    </tr>\n",
       "    <tr>\n",
       "      <th>12</th>\n",
       "      <td>26c3c6dc6174b589</td>\n",
       "      <td>-0.016216</td>\n",
       "    </tr>\n",
       "    <tr>\n",
       "      <th>13</th>\n",
       "      <td>36baf228038e314b</td>\n",
       "      <td>0.537576</td>\n",
       "    </tr>\n",
       "    <tr>\n",
       "      <th>14</th>\n",
       "      <td>b892011ab2e2cabc</td>\n",
       "      <td>0.633131</td>\n",
       "    </tr>\n",
       "    <tr>\n",
       "      <th>15</th>\n",
       "      <td>b8ae62ea5e1d8bdb</td>\n",
       "      <td>-0.005385</td>\n",
       "    </tr>\n",
       "    <tr>\n",
       "      <th>16</th>\n",
       "      <td>a8808e31641e856d</td>\n",
       "      <td>0.174549</td>\n",
       "    </tr>\n",
       "    <tr>\n",
       "      <th>17</th>\n",
       "      <td>25c555ca3d5a2092</td>\n",
       "      <td>0.790132</td>\n",
       "    </tr>\n",
       "    <tr>\n",
       "      <th>18</th>\n",
       "      <td>b9fdc772bb8fd61c</td>\n",
       "      <td>0.796044</td>\n",
       "    </tr>\n",
       "    <tr>\n",
       "      <th>19</th>\n",
       "      <td>de51114bc0faec3e</td>\n",
       "      <td>-0.003914</td>\n",
       "    </tr>\n",
       "    <tr>\n",
       "      <th>20</th>\n",
       "      <td>8247ff562ca185cc</td>\n",
       "      <td>0.276874</td>\n",
       "    </tr>\n",
       "    <tr>\n",
       "      <th>21</th>\n",
       "      <td>1f37ead645e7f0c8</td>\n",
       "      <td>0.272952</td>\n",
       "    </tr>\n",
       "    <tr>\n",
       "      <th>22</th>\n",
       "      <td>71a5b6ad068d531f</td>\n",
       "      <td>0.526438</td>\n",
       "    </tr>\n",
       "    <tr>\n",
       "      <th>23</th>\n",
       "      <td>16ae4b99d3601e60</td>\n",
       "      <td>0.361799</td>\n",
       "    </tr>\n",
       "    <tr>\n",
       "      <th>24</th>\n",
       "      <td>fd83613b7843f5e1</td>\n",
       "      <td>0.012249</td>\n",
       "    </tr>\n",
       "    <tr>\n",
       "      <th>25</th>\n",
       "      <td>733979d75f59770d</td>\n",
       "      <td>0.303769</td>\n",
       "    </tr>\n",
       "    <tr>\n",
       "      <th>26</th>\n",
       "      <td>79795133c30ef097</td>\n",
       "      <td>0.298387</td>\n",
       "    </tr>\n",
       "    <tr>\n",
       "      <th>27</th>\n",
       "      <td>474c874d0c07bd21</td>\n",
       "      <td>0.534950</td>\n",
       "    </tr>\n",
       "    <tr>\n",
       "      <th>28</th>\n",
       "      <td>faaddaf8fcba8a3f</td>\n",
       "      <td>0.123229</td>\n",
       "    </tr>\n",
       "    <tr>\n",
       "      <th>29</th>\n",
       "      <td>2a619016908bfa45</td>\n",
       "      <td>0.490010</td>\n",
       "    </tr>\n",
       "    <tr>\n",
       "      <th>30</th>\n",
       "      <td>6546846df17f9800</td>\n",
       "      <td>0.488439</td>\n",
       "    </tr>\n",
       "    <tr>\n",
       "      <th>31</th>\n",
       "      <td>d19ef3979396d47e</td>\n",
       "      <td>0.143391</td>\n",
       "    </tr>\n",
       "    <tr>\n",
       "      <th>32</th>\n",
       "      <td>7e3aff857f056bf9</td>\n",
       "      <td>-0.012223</td>\n",
       "    </tr>\n",
       "    <tr>\n",
       "      <th>33</th>\n",
       "      <td>3ff0e7a35015be69</td>\n",
       "      <td>0.144293</td>\n",
       "    </tr>\n",
       "    <tr>\n",
       "      <th>34</th>\n",
       "      <td>78243984c02a72e4</td>\n",
       "      <td>-0.006587</td>\n",
       "    </tr>\n",
       "    <tr>\n",
       "      <th>35</th>\n",
       "      <td>c057aecbba832387</td>\n",
       "      <td>-0.007241</td>\n",
       "    </tr>\n",
       "  </tbody>\n",
       "</table>\n",
       "</div>"
      ],
      "text/plain": [
       "                  id     score\n",
       "0   4112d61851461f60  0.487494\n",
       "1   5203a36c501f1b7c  0.948901\n",
       "2   7aa5908a77a7ec24  0.286944\n",
       "3   442c114ed5c4e3c9  0.502781\n",
       "4   12ca31f018a2e2b9  0.312922\n",
       "5   9f2279ce667b21dc  0.733490\n",
       "6   b9ea2b06a878df6f  0.478197\n",
       "7   09e418c93a776564  0.790745\n",
       "8   ae0262c02566d2ce  1.056038\n",
       "9   03ba802ed4029e4d  0.243539\n",
       "10  25522ee5411e63e9  0.245219\n",
       "11  c404f8b378cbb008  0.551068\n",
       "12  26c3c6dc6174b589 -0.016216\n",
       "13  36baf228038e314b  0.537576\n",
       "14  b892011ab2e2cabc  0.633131\n",
       "15  b8ae62ea5e1d8bdb -0.005385\n",
       "16  a8808e31641e856d  0.174549\n",
       "17  25c555ca3d5a2092  0.790132\n",
       "18  b9fdc772bb8fd61c  0.796044\n",
       "19  de51114bc0faec3e -0.003914\n",
       "20  8247ff562ca185cc  0.276874\n",
       "21  1f37ead645e7f0c8  0.272952\n",
       "22  71a5b6ad068d531f  0.526438\n",
       "23  16ae4b99d3601e60  0.361799\n",
       "24  fd83613b7843f5e1  0.012249\n",
       "25  733979d75f59770d  0.303769\n",
       "26  79795133c30ef097  0.298387\n",
       "27  474c874d0c07bd21  0.534950\n",
       "28  faaddaf8fcba8a3f  0.123229\n",
       "29  2a619016908bfa45  0.490010\n",
       "30  6546846df17f9800  0.488439\n",
       "31  d19ef3979396d47e  0.143391\n",
       "32  7e3aff857f056bf9 -0.012223\n",
       "33  3ff0e7a35015be69  0.144293\n",
       "34  78243984c02a72e4 -0.006587\n",
       "35  c057aecbba832387 -0.007241"
      ]
     },
     "execution_count": 51,
     "metadata": {},
     "output_type": "execute_result"
    }
   ],
   "source": [
    "df_submission"
   ]
  },
  {
   "cell_type": "code",
   "execution_count": 52,
   "id": "3193c7bc",
   "metadata": {
    "execution": {
     "iopub.execute_input": "2022-06-15T12:35:39.217811Z",
     "iopub.status.busy": "2022-06-15T12:35:39.217215Z",
     "iopub.status.idle": "2022-06-15T12:35:39.224998Z",
     "shell.execute_reply": "2022-06-15T12:35:39.224336Z"
    },
    "papermill": {
     "duration": 0.073114,
     "end_time": "2022-06-15T12:35:39.226657",
     "exception": false,
     "start_time": "2022-06-15T12:35:39.153543",
     "status": "completed"
    },
    "tags": []
   },
   "outputs": [],
   "source": [
    "#submission = datasets.Dataset.from_dict({\n",
    "  #  'id': test_ds['id'],\n",
    " #   'score': preds\n",
    "#})\n",
    "\n",
    "df_submission.to_csv('submission.csv', index=False)"
   ]
  }
 ],
 "metadata": {
  "kernelspec": {
   "display_name": "Python 3",
   "language": "python",
   "name": "python3"
  },
  "language_info": {
   "codemirror_mode": {
    "name": "ipython",
    "version": 3
   },
   "file_extension": ".py",
   "mimetype": "text/x-python",
   "name": "python",
   "nbconvert_exporter": "python",
   "pygments_lexer": "ipython3",
   "version": "3.7.12"
  },
  "papermill": {
   "default_parameters": {},
   "duration": 408.633396,
   "end_time": "2022-06-15T12:35:42.923680",
   "environment_variables": {},
   "exception": null,
   "input_path": "__notebook__.ipynb",
   "output_path": "__notebook__.ipynb",
   "parameters": {},
   "start_time": "2022-06-15T12:28:54.290284",
   "version": "2.3.4"
  },
  "widgets": {
   "application/vnd.jupyter.widget-state+json": {
    "state": {
     "00b0c10bc6aa4a1db95563b286dfe8da": {
      "model_module": "@jupyter-widgets/controls",
      "model_module_version": "1.5.0",
      "model_name": "DescriptionStyleModel",
      "state": {
       "_model_module": "@jupyter-widgets/controls",
       "_model_module_version": "1.5.0",
       "_model_name": "DescriptionStyleModel",
       "_view_count": null,
       "_view_module": "@jupyter-widgets/base",
       "_view_module_version": "1.2.0",
       "_view_name": "StyleView",
       "description_width": ""
      }
     },
     "0289727a12fb44339c0af08bf12bdc5f": {
      "model_module": "@jupyter-widgets/controls",
      "model_module_version": "1.5.0",
      "model_name": "HTMLModel",
      "state": {
       "_dom_classes": [],
       "_model_module": "@jupyter-widgets/controls",
       "_model_module_version": "1.5.0",
       "_model_name": "HTMLModel",
       "_view_count": null,
       "_view_module": "@jupyter-widgets/controls",
       "_view_module_version": "1.5.0",
       "_view_name": "HTMLView",
       "description": "",
       "description_tooltip": null,
       "layout": "IPY_MODEL_ac6d87d7f579467e9f588235882a4b0c",
       "placeholder": "​",
       "style": "IPY_MODEL_73a6d3fe98c5489bacab23e3b65b4dcd",
       "value": "Downloading: 100%"
      }
     },
     "033a65a8e7b84030b55a7184b1f3787d": {
      "model_module": "@jupyter-widgets/controls",
      "model_module_version": "1.5.0",
      "model_name": "HBoxModel",
      "state": {
       "_dom_classes": [],
       "_model_module": "@jupyter-widgets/controls",
       "_model_module_version": "1.5.0",
       "_model_name": "HBoxModel",
       "_view_count": null,
       "_view_module": "@jupyter-widgets/controls",
       "_view_module_version": "1.5.0",
       "_view_name": "HBoxView",
       "box_style": "",
       "children": [
        "IPY_MODEL_68feaff6af0f443caebe546e1aaf8c13",
        "IPY_MODEL_d91aabca33b148798d494179c54ec52d",
        "IPY_MODEL_5c762f9b817f4687a7cd57a7b6dc2b08"
       ],
       "layout": "IPY_MODEL_d0560a35abbc474fa1056cd453eda173"
      }
     },
     "040354edfa5e487a99bfc40cc4c3e7a7": {
      "model_module": "@jupyter-widgets/controls",
      "model_module_version": "1.5.0",
      "model_name": "DescriptionStyleModel",
      "state": {
       "_model_module": "@jupyter-widgets/controls",
       "_model_module_version": "1.5.0",
       "_model_name": "DescriptionStyleModel",
       "_view_count": null,
       "_view_module": "@jupyter-widgets/base",
       "_view_module_version": "1.2.0",
       "_view_name": "StyleView",
       "description_width": ""
      }
     },
     "04d05559ba19477ba12928dfe3e35bb2": {
      "model_module": "@jupyter-widgets/controls",
      "model_module_version": "1.5.0",
      "model_name": "DescriptionStyleModel",
      "state": {
       "_model_module": "@jupyter-widgets/controls",
       "_model_module_version": "1.5.0",
       "_model_name": "DescriptionStyleModel",
       "_view_count": null,
       "_view_module": "@jupyter-widgets/base",
       "_view_module_version": "1.2.0",
       "_view_name": "StyleView",
       "description_width": ""
      }
     },
     "070da0027d40451bac59290775d4e8f6": {
      "model_module": "@jupyter-widgets/controls",
      "model_module_version": "1.5.0",
      "model_name": "HBoxModel",
      "state": {
       "_dom_classes": [],
       "_model_module": "@jupyter-widgets/controls",
       "_model_module_version": "1.5.0",
       "_model_name": "HBoxModel",
       "_view_count": null,
       "_view_module": "@jupyter-widgets/controls",
       "_view_module_version": "1.5.0",
       "_view_name": "HBoxView",
       "box_style": "",
       "children": [
        "IPY_MODEL_0289727a12fb44339c0af08bf12bdc5f",
        "IPY_MODEL_483ae692207b4e0ca1c932877189396d",
        "IPY_MODEL_c0cdf685f5dc406890fdfbfd9c772f3c"
       ],
       "layout": "IPY_MODEL_ea4d298512cb4eca900668a5b4e7e7b0"
      }
     },
     "07adb568f81d4d83ac349c54b5bde708": {
      "model_module": "@jupyter-widgets/controls",
      "model_module_version": "1.5.0",
      "model_name": "DescriptionStyleModel",
      "state": {
       "_model_module": "@jupyter-widgets/controls",
       "_model_module_version": "1.5.0",
       "_model_name": "DescriptionStyleModel",
       "_view_count": null,
       "_view_module": "@jupyter-widgets/base",
       "_view_module_version": "1.2.0",
       "_view_name": "StyleView",
       "description_width": ""
      }
     },
     "1197881bef464be3baa6560994485589": {
      "model_module": "@jupyter-widgets/controls",
      "model_module_version": "1.5.0",
      "model_name": "DescriptionStyleModel",
      "state": {
       "_model_module": "@jupyter-widgets/controls",
       "_model_module_version": "1.5.0",
       "_model_name": "DescriptionStyleModel",
       "_view_count": null,
       "_view_module": "@jupyter-widgets/base",
       "_view_module_version": "1.2.0",
       "_view_name": "StyleView",
       "description_width": ""
      }
     },
     "12d110704b174ab68cd46bbfcd29a804": {
      "model_module": "@jupyter-widgets/controls",
      "model_module_version": "1.5.0",
      "model_name": "HTMLModel",
      "state": {
       "_dom_classes": [],
       "_model_module": "@jupyter-widgets/controls",
       "_model_module_version": "1.5.0",
       "_model_name": "HTMLModel",
       "_view_count": null,
       "_view_module": "@jupyter-widgets/controls",
       "_view_module_version": "1.5.0",
       "_view_name": "HTMLView",
       "description": "",
       "description_tooltip": null,
       "layout": "IPY_MODEL_63b492e2ec5f42258be7fe8a17ca55df",
       "placeholder": "​",
       "style": "IPY_MODEL_04d05559ba19477ba12928dfe3e35bb2",
       "value": " 388/388 [00:00&lt;00:00, 15.4kB/s]"
      }
     },
     "137be653de01432f90d2c5d1b5069942": {
      "model_module": "@jupyter-widgets/controls",
      "model_module_version": "1.5.0",
      "model_name": "FloatProgressModel",
      "state": {
       "_dom_classes": [],
       "_model_module": "@jupyter-widgets/controls",
       "_model_module_version": "1.5.0",
       "_model_name": "FloatProgressModel",
       "_view_count": null,
       "_view_module": "@jupyter-widgets/controls",
       "_view_module_version": "1.5.0",
       "_view_name": "ProgressView",
       "bar_style": "success",
       "description": "",
       "description_tooltip": null,
       "layout": "IPY_MODEL_df82e00d77d347eebc9b3c59cac9d970",
       "max": 466022.0,
       "min": 0.0,
       "orientation": "horizontal",
       "style": "IPY_MODEL_d13b493724784815a1cfab823d0b4b2f",
       "value": 466022.0
      }
     },
     "187ca5480f504ba096f2d41ac666ab57": {
      "model_module": "@jupyter-widgets/base",
      "model_module_version": "1.2.0",
      "model_name": "LayoutModel",
      "state": {
       "_model_module": "@jupyter-widgets/base",
       "_model_module_version": "1.2.0",
       "_model_name": "LayoutModel",
       "_view_count": null,
       "_view_module": "@jupyter-widgets/base",
       "_view_module_version": "1.2.0",
       "_view_name": "LayoutView",
       "align_content": null,
       "align_items": null,
       "align_self": null,
       "border": null,
       "bottom": null,
       "display": null,
       "flex": null,
       "flex_flow": null,
       "grid_area": null,
       "grid_auto_columns": null,
       "grid_auto_flow": null,
       "grid_auto_rows": null,
       "grid_column": null,
       "grid_gap": null,
       "grid_row": null,
       "grid_template_areas": null,
       "grid_template_columns": null,
       "grid_template_rows": null,
       "height": null,
       "justify_content": null,
       "justify_items": null,
       "left": null,
       "margin": null,
       "max_height": null,
       "max_width": null,
       "min_height": null,
       "min_width": null,
       "object_fit": null,
       "object_position": null,
       "order": null,
       "overflow": null,
       "overflow_x": null,
       "overflow_y": null,
       "padding": null,
       "right": null,
       "top": null,
       "visibility": null,
       "width": null
      }
     },
     "1cf8ef9510364aad91f04c65269a3e05": {
      "model_module": "@jupyter-widgets/controls",
      "model_module_version": "1.5.0",
      "model_name": "ProgressStyleModel",
      "state": {
       "_model_module": "@jupyter-widgets/controls",
       "_model_module_version": "1.5.0",
       "_model_name": "ProgressStyleModel",
       "_view_count": null,
       "_view_module": "@jupyter-widgets/base",
       "_view_module_version": "1.2.0",
       "_view_name": "StyleView",
       "bar_color": null,
       "description_width": ""
      }
     },
     "24551c3113d344709776cde9224b58aa": {
      "model_module": "@jupyter-widgets/controls",
      "model_module_version": "1.5.0",
      "model_name": "DescriptionStyleModel",
      "state": {
       "_model_module": "@jupyter-widgets/controls",
       "_model_module_version": "1.5.0",
       "_model_name": "DescriptionStyleModel",
       "_view_count": null,
       "_view_module": "@jupyter-widgets/base",
       "_view_module_version": "1.2.0",
       "_view_name": "StyleView",
       "description_width": ""
      }
     },
     "2487ce6e62d04015bcc664496fdb8653": {
      "model_module": "@jupyter-widgets/controls",
      "model_module_version": "1.5.0",
      "model_name": "FloatProgressModel",
      "state": {
       "_dom_classes": [],
       "_model_module": "@jupyter-widgets/controls",
       "_model_module_version": "1.5.0",
       "_model_name": "FloatProgressModel",
       "_view_count": null,
       "_view_module": "@jupyter-widgets/controls",
       "_view_module_version": "1.5.0",
       "_view_name": "ProgressView",
       "bar_style": "success",
       "description": "",
       "description_tooltip": null,
       "layout": "IPY_MODEL_9ad62a0d39ab46d5aeb4292edb1c570c",
       "max": 619.0,
       "min": 0.0,
       "orientation": "horizontal",
       "style": "IPY_MODEL_de65d789e21a48b6a15ad180932325de",
       "value": 619.0
      }
     },
     "2bd9b6019ffb449ea38b65a1c3cc9899": {
      "model_module": "@jupyter-widgets/controls",
      "model_module_version": "1.5.0",
      "model_name": "ProgressStyleModel",
      "state": {
       "_model_module": "@jupyter-widgets/controls",
       "_model_module_version": "1.5.0",
       "_model_name": "ProgressStyleModel",
       "_view_count": null,
       "_view_module": "@jupyter-widgets/base",
       "_view_module_version": "1.2.0",
       "_view_name": "StyleView",
       "bar_color": null,
       "description_width": ""
      }
     },
     "31352c7e03d1448aaa2c7eb56d78ac17": {
      "model_module": "@jupyter-widgets/controls",
      "model_module_version": "1.5.0",
      "model_name": "FloatProgressModel",
      "state": {
       "_dom_classes": [],
       "_model_module": "@jupyter-widgets/controls",
       "_model_module_version": "1.5.0",
       "_model_name": "FloatProgressModel",
       "_view_count": null,
       "_view_module": "@jupyter-widgets/controls",
       "_view_module_version": "1.5.0",
       "_view_name": "ProgressView",
       "bar_style": "success",
       "description": "",
       "description_tooltip": null,
       "layout": "IPY_MODEL_b6e3a39bfa5d4074b923fbb03b1c24b7",
       "max": 37.0,
       "min": 0.0,
       "orientation": "horizontal",
       "style": "IPY_MODEL_db7baa57557242d1a950207186155ee3",
       "value": 37.0
      }
     },
     "3855a508e2e04f1fb9a1bc7caf46d4a3": {
      "model_module": "@jupyter-widgets/controls",
      "model_module_version": "1.5.0",
      "model_name": "ProgressStyleModel",
      "state": {
       "_model_module": "@jupyter-widgets/controls",
       "_model_module_version": "1.5.0",
       "_model_name": "ProgressStyleModel",
       "_view_count": null,
       "_view_module": "@jupyter-widgets/base",
       "_view_module_version": "1.2.0",
       "_view_name": "StyleView",
       "bar_color": null,
       "description_width": ""
      }
     },
     "3a04f0e6f44b4e16a029512ab9283b10": {
      "model_module": "@jupyter-widgets/controls",
      "model_module_version": "1.5.0",
      "model_name": "DescriptionStyleModel",
      "state": {
       "_model_module": "@jupyter-widgets/controls",
       "_model_module_version": "1.5.0",
       "_model_name": "DescriptionStyleModel",
       "_view_count": null,
       "_view_module": "@jupyter-widgets/base",
       "_view_module_version": "1.2.0",
       "_view_name": "StyleView",
       "description_width": ""
      }
     },
     "3b15ffdea2e346dd8aaee4da602bf950": {
      "model_module": "@jupyter-widgets/controls",
      "model_module_version": "1.5.0",
      "model_name": "ProgressStyleModel",
      "state": {
       "_model_module": "@jupyter-widgets/controls",
       "_model_module_version": "1.5.0",
       "_model_name": "ProgressStyleModel",
       "_view_count": null,
       "_view_module": "@jupyter-widgets/base",
       "_view_module_version": "1.2.0",
       "_view_name": "StyleView",
       "bar_color": null,
       "description_width": ""
      }
     },
     "3c233877677246779e64e99e44db5991": {
      "model_module": "@jupyter-widgets/base",
      "model_module_version": "1.2.0",
      "model_name": "LayoutModel",
      "state": {
       "_model_module": "@jupyter-widgets/base",
       "_model_module_version": "1.2.0",
       "_model_name": "LayoutModel",
       "_view_count": null,
       "_view_module": "@jupyter-widgets/base",
       "_view_module_version": "1.2.0",
       "_view_name": "LayoutView",
       "align_content": null,
       "align_items": null,
       "align_self": null,
       "border": null,
       "bottom": null,
       "display": null,
       "flex": null,
       "flex_flow": null,
       "grid_area": null,
       "grid_auto_columns": null,
       "grid_auto_flow": null,
       "grid_auto_rows": null,
       "grid_column": null,
       "grid_gap": null,
       "grid_row": null,
       "grid_template_areas": null,
       "grid_template_columns": null,
       "grid_template_rows": null,
       "height": null,
       "justify_content": null,
       "justify_items": null,
       "left": null,
       "margin": null,
       "max_height": null,
       "max_width": null,
       "min_height": null,
       "min_width": null,
       "object_fit": null,
       "object_position": null,
       "order": null,
       "overflow": null,
       "overflow_x": null,
       "overflow_y": null,
       "padding": null,
       "right": null,
       "top": null,
       "visibility": null,
       "width": null
      }
     },
     "3d555449744e442e8c6fb01e0a59871d": {
      "model_module": "@jupyter-widgets/controls",
      "model_module_version": "1.5.0",
      "model_name": "HTMLModel",
      "state": {
       "_dom_classes": [],
       "_model_module": "@jupyter-widgets/controls",
       "_model_module_version": "1.5.0",
       "_model_name": "HTMLModel",
       "_view_count": null,
       "_view_module": "@jupyter-widgets/controls",
       "_view_module_version": "1.5.0",
       "_view_name": "HTMLView",
       "description": "",
       "description_tooltip": null,
       "layout": "IPY_MODEL_f745a3c6e7464c3c905dbcf03c79bc97",
       "placeholder": "​",
       "style": "IPY_MODEL_24551c3113d344709776cde9224b58aa",
       "value": " 619/619 [00:00&lt;00:00, 24.6kB/s]"
      }
     },
     "3da94f6bcb774f8e983b5845957cecde": {
      "model_module": "@jupyter-widgets/controls",
      "model_module_version": "1.5.0",
      "model_name": "HTMLModel",
      "state": {
       "_dom_classes": [],
       "_model_module": "@jupyter-widgets/controls",
       "_model_module_version": "1.5.0",
       "_model_name": "HTMLModel",
       "_view_count": null,
       "_view_module": "@jupyter-widgets/controls",
       "_view_module_version": "1.5.0",
       "_view_name": "HTMLView",
       "description": "",
       "description_tooltip": null,
       "layout": "IPY_MODEL_3c233877677246779e64e99e44db5991",
       "placeholder": "​",
       "style": "IPY_MODEL_3a04f0e6f44b4e16a029512ab9283b10",
       "value": " 37/37 [00:03&lt;00:00, 15.82ba/s]"
      }
     },
     "3ec4c8f15e884f3a815a2381c8195e14": {
      "model_module": "@jupyter-widgets/base",
      "model_module_version": "1.2.0",
      "model_name": "LayoutModel",
      "state": {
       "_model_module": "@jupyter-widgets/base",
       "_model_module_version": "1.2.0",
       "_model_name": "LayoutModel",
       "_view_count": null,
       "_view_module": "@jupyter-widgets/base",
       "_view_module_version": "1.2.0",
       "_view_name": "LayoutView",
       "align_content": null,
       "align_items": null,
       "align_self": null,
       "border": null,
       "bottom": null,
       "display": null,
       "flex": null,
       "flex_flow": null,
       "grid_area": null,
       "grid_auto_columns": null,
       "grid_auto_flow": null,
       "grid_auto_rows": null,
       "grid_column": null,
       "grid_gap": null,
       "grid_row": null,
       "grid_template_areas": null,
       "grid_template_columns": null,
       "grid_template_rows": null,
       "height": null,
       "justify_content": null,
       "justify_items": null,
       "left": null,
       "margin": null,
       "max_height": null,
       "max_width": null,
       "min_height": null,
       "min_width": null,
       "object_fit": null,
       "object_position": null,
       "order": null,
       "overflow": null,
       "overflow_x": null,
       "overflow_y": null,
       "padding": null,
       "right": null,
       "top": null,
       "visibility": null,
       "width": null
      }
     },
     "4031e416350c4e06a4182ad6ba08b367": {
      "model_module": "@jupyter-widgets/controls",
      "model_module_version": "1.5.0",
      "model_name": "HBoxModel",
      "state": {
       "_dom_classes": [],
       "_model_module": "@jupyter-widgets/controls",
       "_model_module_version": "1.5.0",
       "_model_name": "HBoxModel",
       "_view_count": null,
       "_view_module": "@jupyter-widgets/controls",
       "_view_module_version": "1.5.0",
       "_view_name": "HBoxView",
       "box_style": "",
       "children": [
        "IPY_MODEL_ac17a9f6a1ac4144b38363d32632b80a",
        "IPY_MODEL_31352c7e03d1448aaa2c7eb56d78ac17",
        "IPY_MODEL_3da94f6bcb774f8e983b5845957cecde"
       ],
       "layout": "IPY_MODEL_f3772f0f3a5044d79fb356cec42d09e0"
      }
     },
     "41d7466ced53459bad4f8981fe8ee033": {
      "model_module": "@jupyter-widgets/controls",
      "model_module_version": "1.5.0",
      "model_name": "HTMLModel",
      "state": {
       "_dom_classes": [],
       "_model_module": "@jupyter-widgets/controls",
       "_model_module_version": "1.5.0",
       "_model_name": "HTMLModel",
       "_view_count": null,
       "_view_module": "@jupyter-widgets/controls",
       "_view_module_version": "1.5.0",
       "_view_name": "HTMLView",
       "description": "",
       "description_tooltip": null,
       "layout": "IPY_MODEL_b5de65ece41e4ab29d6f3520faa7e350",
       "placeholder": "​",
       "style": "IPY_MODEL_1197881bef464be3baa6560994485589",
       "value": "Downloading: 100%"
      }
     },
     "42e7bd7de29945878226f8307462d030": {
      "model_module": "@jupyter-widgets/controls",
      "model_module_version": "1.5.0",
      "model_name": "DescriptionStyleModel",
      "state": {
       "_model_module": "@jupyter-widgets/controls",
       "_model_module_version": "1.5.0",
       "_model_name": "DescriptionStyleModel",
       "_view_count": null,
       "_view_module": "@jupyter-widgets/base",
       "_view_module_version": "1.2.0",
       "_view_name": "StyleView",
       "description_width": ""
      }
     },
     "44417c15c60e44069a62ef9eb6768087": {
      "model_module": "@jupyter-widgets/controls",
      "model_module_version": "1.5.0",
      "model_name": "HTMLModel",
      "state": {
       "_dom_classes": [],
       "_model_module": "@jupyter-widgets/controls",
       "_model_module_version": "1.5.0",
       "_model_name": "HTMLModel",
       "_view_count": null,
       "_view_module": "@jupyter-widgets/controls",
       "_view_module_version": "1.5.0",
       "_view_name": "HTMLView",
       "description": "",
       "description_tooltip": null,
       "layout": "IPY_MODEL_98d9beb1ada340d0a5dc83a4400e2d59",
       "placeholder": "​",
       "style": "IPY_MODEL_553f9b31e8034765848482c457a39c7c",
       "value": "Downloading: 100%"
      }
     },
     "452b930c9c7d420f8ff4e7edb9b4f408": {
      "model_module": "@jupyter-widgets/base",
      "model_module_version": "1.2.0",
      "model_name": "LayoutModel",
      "state": {
       "_model_module": "@jupyter-widgets/base",
       "_model_module_version": "1.2.0",
       "_model_name": "LayoutModel",
       "_view_count": null,
       "_view_module": "@jupyter-widgets/base",
       "_view_module_version": "1.2.0",
       "_view_name": "LayoutView",
       "align_content": null,
       "align_items": null,
       "align_self": null,
       "border": null,
       "bottom": null,
       "display": null,
       "flex": null,
       "flex_flow": null,
       "grid_area": null,
       "grid_auto_columns": null,
       "grid_auto_flow": null,
       "grid_auto_rows": null,
       "grid_column": null,
       "grid_gap": null,
       "grid_row": null,
       "grid_template_areas": null,
       "grid_template_columns": null,
       "grid_template_rows": null,
       "height": null,
       "justify_content": null,
       "justify_items": null,
       "left": null,
       "margin": null,
       "max_height": null,
       "max_width": null,
       "min_height": null,
       "min_width": null,
       "object_fit": null,
       "object_position": null,
       "order": null,
       "overflow": null,
       "overflow_x": null,
       "overflow_y": null,
       "padding": null,
       "right": null,
       "top": null,
       "visibility": null,
       "width": null
      }
     },
     "483ae692207b4e0ca1c932877189396d": {
      "model_module": "@jupyter-widgets/controls",
      "model_module_version": "1.5.0",
      "model_name": "FloatProgressModel",
      "state": {
       "_dom_classes": [],
       "_model_module": "@jupyter-widgets/controls",
       "_model_module_version": "1.5.0",
       "_model_name": "FloatProgressModel",
       "_view_count": null,
       "_view_module": "@jupyter-widgets/controls",
       "_view_module_version": "1.5.0",
       "_view_name": "ProgressView",
       "bar_style": "success",
       "description": "",
       "description_tooltip": null,
       "layout": "IPY_MODEL_3ec4c8f15e884f3a815a2381c8195e14",
       "max": 239.0,
       "min": 0.0,
       "orientation": "horizontal",
       "style": "IPY_MODEL_3855a508e2e04f1fb9a1bc7caf46d4a3",
       "value": 239.0
      }
     },
     "4958c4b4e6824b81ace0c19f8463bf91": {
      "model_module": "@jupyter-widgets/base",
      "model_module_version": "1.2.0",
      "model_name": "LayoutModel",
      "state": {
       "_model_module": "@jupyter-widgets/base",
       "_model_module_version": "1.2.0",
       "_model_name": "LayoutModel",
       "_view_count": null,
       "_view_module": "@jupyter-widgets/base",
       "_view_module_version": "1.2.0",
       "_view_name": "LayoutView",
       "align_content": null,
       "align_items": null,
       "align_self": null,
       "border": null,
       "bottom": null,
       "display": null,
       "flex": null,
       "flex_flow": null,
       "grid_area": null,
       "grid_auto_columns": null,
       "grid_auto_flow": null,
       "grid_auto_rows": null,
       "grid_column": null,
       "grid_gap": null,
       "grid_row": null,
       "grid_template_areas": null,
       "grid_template_columns": null,
       "grid_template_rows": null,
       "height": null,
       "justify_content": null,
       "justify_items": null,
       "left": null,
       "margin": null,
       "max_height": null,
       "max_width": null,
       "min_height": null,
       "min_width": null,
       "object_fit": null,
       "object_position": null,
       "order": null,
       "overflow": null,
       "overflow_x": null,
       "overflow_y": null,
       "padding": null,
       "right": null,
       "top": null,
       "visibility": null,
       "width": null
      }
     },
     "4aecc67065d44fed96daa2a3d928fb49": {
      "model_module": "@jupyter-widgets/controls",
      "model_module_version": "1.5.0",
      "model_name": "FloatProgressModel",
      "state": {
       "_dom_classes": [],
       "_model_module": "@jupyter-widgets/controls",
       "_model_module_version": "1.5.0",
       "_model_name": "FloatProgressModel",
       "_view_count": null,
       "_view_module": "@jupyter-widgets/controls",
       "_view_module_version": "1.5.0",
       "_view_name": "ProgressView",
       "bar_style": "success",
       "description": "",
       "description_tooltip": null,
       "layout": "IPY_MODEL_5fac98887e1248cdb99c8e391eb448fb",
       "max": 1.0,
       "min": 0.0,
       "orientation": "horizontal",
       "style": "IPY_MODEL_1cf8ef9510364aad91f04c65269a3e05",
       "value": 1.0
      }
     },
     "4b92e3219d25479a90266fbd99c202cc": {
      "model_module": "@jupyter-widgets/base",
      "model_module_version": "1.2.0",
      "model_name": "LayoutModel",
      "state": {
       "_model_module": "@jupyter-widgets/base",
       "_model_module_version": "1.2.0",
       "_model_name": "LayoutModel",
       "_view_count": null,
       "_view_module": "@jupyter-widgets/base",
       "_view_module_version": "1.2.0",
       "_view_name": "LayoutView",
       "align_content": null,
       "align_items": null,
       "align_self": null,
       "border": null,
       "bottom": null,
       "display": null,
       "flex": null,
       "flex_flow": null,
       "grid_area": null,
       "grid_auto_columns": null,
       "grid_auto_flow": null,
       "grid_auto_rows": null,
       "grid_column": null,
       "grid_gap": null,
       "grid_row": null,
       "grid_template_areas": null,
       "grid_template_columns": null,
       "grid_template_rows": null,
       "height": null,
       "justify_content": null,
       "justify_items": null,
       "left": null,
       "margin": null,
       "max_height": null,
       "max_width": null,
       "min_height": null,
       "min_width": null,
       "object_fit": null,
       "object_position": null,
       "order": null,
       "overflow": null,
       "overflow_x": null,
       "overflow_y": null,
       "padding": null,
       "right": null,
       "top": null,
       "visibility": null,
       "width": null
      }
     },
     "4e47def80c2f46bc82e981c7c86621ed": {
      "model_module": "@jupyter-widgets/controls",
      "model_module_version": "1.5.0",
      "model_name": "FloatProgressModel",
      "state": {
       "_dom_classes": [],
       "_model_module": "@jupyter-widgets/controls",
       "_model_module_version": "1.5.0",
       "_model_name": "FloatProgressModel",
       "_view_count": null,
       "_view_module": "@jupyter-widgets/controls",
       "_view_module_version": "1.5.0",
       "_view_name": "ProgressView",
       "bar_style": "success",
       "description": "",
       "description_tooltip": null,
       "layout": "IPY_MODEL_452b930c9c7d420f8ff4e7edb9b4f408",
       "max": 438030839.0,
       "min": 0.0,
       "orientation": "horizontal",
       "style": "IPY_MODEL_2bd9b6019ffb449ea38b65a1c3cc9899",
       "value": 438030839.0
      }
     },
     "553f9b31e8034765848482c457a39c7c": {
      "model_module": "@jupyter-widgets/controls",
      "model_module_version": "1.5.0",
      "model_name": "DescriptionStyleModel",
      "state": {
       "_model_module": "@jupyter-widgets/controls",
       "_model_module_version": "1.5.0",
       "_model_name": "DescriptionStyleModel",
       "_view_count": null,
       "_view_module": "@jupyter-widgets/base",
       "_view_module_version": "1.2.0",
       "_view_name": "StyleView",
       "description_width": ""
      }
     },
     "5a36dc0e53bb4445a7ba3cb8a9e93ccb": {
      "model_module": "@jupyter-widgets/controls",
      "model_module_version": "1.5.0",
      "model_name": "HBoxModel",
      "state": {
       "_dom_classes": [],
       "_model_module": "@jupyter-widgets/controls",
       "_model_module_version": "1.5.0",
       "_model_name": "HBoxModel",
       "_view_count": null,
       "_view_module": "@jupyter-widgets/controls",
       "_view_module_version": "1.5.0",
       "_view_name": "HBoxView",
       "box_style": "",
       "children": [
        "IPY_MODEL_44417c15c60e44069a62ef9eb6768087",
        "IPY_MODEL_2487ce6e62d04015bcc664496fdb8653",
        "IPY_MODEL_3d555449744e442e8c6fb01e0a59871d"
       ],
       "layout": "IPY_MODEL_fc1c5fe1b1ec49e484af31b375fdee38"
      }
     },
     "5c762f9b817f4687a7cd57a7b6dc2b08": {
      "model_module": "@jupyter-widgets/controls",
      "model_module_version": "1.5.0",
      "model_name": "HTMLModel",
      "state": {
       "_dom_classes": [],
       "_model_module": "@jupyter-widgets/controls",
       "_model_module_version": "1.5.0",
       "_model_name": "HTMLModel",
       "_view_count": null,
       "_view_module": "@jupyter-widgets/controls",
       "_view_module_version": "1.5.0",
       "_view_name": "HTMLView",
       "description": "",
       "description_tooltip": null,
       "layout": "IPY_MODEL_187ca5480f504ba096f2d41ac666ab57",
       "placeholder": "​",
       "style": "IPY_MODEL_040354edfa5e487a99bfc40cc4c3e7a7",
       "value": " 226k/226k [00:00&lt;00:00, 647kB/s]"
      }
     },
     "5e6a26ca1ef641449e02b483b2ee45bd": {
      "model_module": "@jupyter-widgets/controls",
      "model_module_version": "1.5.0",
      "model_name": "HTMLModel",
      "state": {
       "_dom_classes": [],
       "_model_module": "@jupyter-widgets/controls",
       "_model_module_version": "1.5.0",
       "_model_name": "HTMLModel",
       "_view_count": null,
       "_view_module": "@jupyter-widgets/controls",
       "_view_module_version": "1.5.0",
       "_view_name": "HTMLView",
       "description": "",
       "description_tooltip": null,
       "layout": "IPY_MODEL_d469a605a9c640cea0ebb93c672b4905",
       "placeholder": "​",
       "style": "IPY_MODEL_07adb568f81d4d83ac349c54b5bde708",
       "value": " 418M/418M [00:09&lt;00:00, 48.5MB/s]"
      }
     },
     "5fac98887e1248cdb99c8e391eb448fb": {
      "model_module": "@jupyter-widgets/base",
      "model_module_version": "1.2.0",
      "model_name": "LayoutModel",
      "state": {
       "_model_module": "@jupyter-widgets/base",
       "_model_module_version": "1.2.0",
       "_model_name": "LayoutModel",
       "_view_count": null,
       "_view_module": "@jupyter-widgets/base",
       "_view_module_version": "1.2.0",
       "_view_name": "LayoutView",
       "align_content": null,
       "align_items": null,
       "align_self": null,
       "border": null,
       "bottom": null,
       "display": null,
       "flex": null,
       "flex_flow": null,
       "grid_area": null,
       "grid_auto_columns": null,
       "grid_auto_flow": null,
       "grid_auto_rows": null,
       "grid_column": null,
       "grid_gap": null,
       "grid_row": null,
       "grid_template_areas": null,
       "grid_template_columns": null,
       "grid_template_rows": null,
       "height": null,
       "justify_content": null,
       "justify_items": null,
       "left": null,
       "margin": null,
       "max_height": null,
       "max_width": null,
       "min_height": null,
       "min_width": null,
       "object_fit": null,
       "object_position": null,
       "order": null,
       "overflow": null,
       "overflow_x": null,
       "overflow_y": null,
       "padding": null,
       "right": null,
       "top": null,
       "visibility": null,
       "width": null
      }
     },
     "6291509e20784bc6be055f3a27570b05": {
      "model_module": "@jupyter-widgets/controls",
      "model_module_version": "1.5.0",
      "model_name": "DescriptionStyleModel",
      "state": {
       "_model_module": "@jupyter-widgets/controls",
       "_model_module_version": "1.5.0",
       "_model_name": "DescriptionStyleModel",
       "_view_count": null,
       "_view_module": "@jupyter-widgets/base",
       "_view_module_version": "1.2.0",
       "_view_name": "StyleView",
       "description_width": ""
      }
     },
     "63b492e2ec5f42258be7fe8a17ca55df": {
      "model_module": "@jupyter-widgets/base",
      "model_module_version": "1.2.0",
      "model_name": "LayoutModel",
      "state": {
       "_model_module": "@jupyter-widgets/base",
       "_model_module_version": "1.2.0",
       "_model_name": "LayoutModel",
       "_view_count": null,
       "_view_module": "@jupyter-widgets/base",
       "_view_module_version": "1.2.0",
       "_view_name": "LayoutView",
       "align_content": null,
       "align_items": null,
       "align_self": null,
       "border": null,
       "bottom": null,
       "display": null,
       "flex": null,
       "flex_flow": null,
       "grid_area": null,
       "grid_auto_columns": null,
       "grid_auto_flow": null,
       "grid_auto_rows": null,
       "grid_column": null,
       "grid_gap": null,
       "grid_row": null,
       "grid_template_areas": null,
       "grid_template_columns": null,
       "grid_template_rows": null,
       "height": null,
       "justify_content": null,
       "justify_items": null,
       "left": null,
       "margin": null,
       "max_height": null,
       "max_width": null,
       "min_height": null,
       "min_width": null,
       "object_fit": null,
       "object_position": null,
       "order": null,
       "overflow": null,
       "overflow_x": null,
       "overflow_y": null,
       "padding": null,
       "right": null,
       "top": null,
       "visibility": null,
       "width": null
      }
     },
     "68feaff6af0f443caebe546e1aaf8c13": {
      "model_module": "@jupyter-widgets/controls",
      "model_module_version": "1.5.0",
      "model_name": "HTMLModel",
      "state": {
       "_dom_classes": [],
       "_model_module": "@jupyter-widgets/controls",
       "_model_module_version": "1.5.0",
       "_model_name": "HTMLModel",
       "_view_count": null,
       "_view_module": "@jupyter-widgets/controls",
       "_view_module_version": "1.5.0",
       "_view_name": "HTMLView",
       "description": "",
       "description_tooltip": null,
       "layout": "IPY_MODEL_737ca1f351424573bc14322c770abf8b",
       "placeholder": "​",
       "style": "IPY_MODEL_7944ca2d031e4910b5b40d5aeb8a2ee0",
       "value": "Downloading: 100%"
      }
     },
     "694856d5dcf14887885694c89ef87381": {
      "model_module": "@jupyter-widgets/base",
      "model_module_version": "1.2.0",
      "model_name": "LayoutModel",
      "state": {
       "_model_module": "@jupyter-widgets/base",
       "_model_module_version": "1.2.0",
       "_model_name": "LayoutModel",
       "_view_count": null,
       "_view_module": "@jupyter-widgets/base",
       "_view_module_version": "1.2.0",
       "_view_name": "LayoutView",
       "align_content": null,
       "align_items": null,
       "align_self": null,
       "border": null,
       "bottom": null,
       "display": null,
       "flex": null,
       "flex_flow": null,
       "grid_area": null,
       "grid_auto_columns": null,
       "grid_auto_flow": null,
       "grid_auto_rows": null,
       "grid_column": null,
       "grid_gap": null,
       "grid_row": null,
       "grid_template_areas": null,
       "grid_template_columns": null,
       "grid_template_rows": null,
       "height": null,
       "justify_content": null,
       "justify_items": null,
       "left": null,
       "margin": null,
       "max_height": null,
       "max_width": null,
       "min_height": null,
       "min_width": null,
       "object_fit": null,
       "object_position": null,
       "order": null,
       "overflow": null,
       "overflow_x": null,
       "overflow_y": null,
       "padding": null,
       "right": null,
       "top": null,
       "visibility": null,
       "width": null
      }
     },
     "7099b3fa5aba46d8a1d43b2841ab0286": {
      "model_module": "@jupyter-widgets/controls",
      "model_module_version": "1.5.0",
      "model_name": "ProgressStyleModel",
      "state": {
       "_model_module": "@jupyter-widgets/controls",
       "_model_module_version": "1.5.0",
       "_model_name": "ProgressStyleModel",
       "_view_count": null,
       "_view_module": "@jupyter-widgets/base",
       "_view_module_version": "1.2.0",
       "_view_name": "StyleView",
       "bar_color": null,
       "description_width": ""
      }
     },
     "737ca1f351424573bc14322c770abf8b": {
      "model_module": "@jupyter-widgets/base",
      "model_module_version": "1.2.0",
      "model_name": "LayoutModel",
      "state": {
       "_model_module": "@jupyter-widgets/base",
       "_model_module_version": "1.2.0",
       "_model_name": "LayoutModel",
       "_view_count": null,
       "_view_module": "@jupyter-widgets/base",
       "_view_module_version": "1.2.0",
       "_view_name": "LayoutView",
       "align_content": null,
       "align_items": null,
       "align_self": null,
       "border": null,
       "bottom": null,
       "display": null,
       "flex": null,
       "flex_flow": null,
       "grid_area": null,
       "grid_auto_columns": null,
       "grid_auto_flow": null,
       "grid_auto_rows": null,
       "grid_column": null,
       "grid_gap": null,
       "grid_row": null,
       "grid_template_areas": null,
       "grid_template_columns": null,
       "grid_template_rows": null,
       "height": null,
       "justify_content": null,
       "justify_items": null,
       "left": null,
       "margin": null,
       "max_height": null,
       "max_width": null,
       "min_height": null,
       "min_width": null,
       "object_fit": null,
       "object_position": null,
       "order": null,
       "overflow": null,
       "overflow_x": null,
       "overflow_y": null,
       "padding": null,
       "right": null,
       "top": null,
       "visibility": null,
       "width": null
      }
     },
     "73a6d3fe98c5489bacab23e3b65b4dcd": {
      "model_module": "@jupyter-widgets/controls",
      "model_module_version": "1.5.0",
      "model_name": "DescriptionStyleModel",
      "state": {
       "_model_module": "@jupyter-widgets/controls",
       "_model_module_version": "1.5.0",
       "_model_name": "DescriptionStyleModel",
       "_view_count": null,
       "_view_module": "@jupyter-widgets/base",
       "_view_module_version": "1.2.0",
       "_view_name": "StyleView",
       "description_width": ""
      }
     },
     "7944ca2d031e4910b5b40d5aeb8a2ee0": {
      "model_module": "@jupyter-widgets/controls",
      "model_module_version": "1.5.0",
      "model_name": "DescriptionStyleModel",
      "state": {
       "_model_module": "@jupyter-widgets/controls",
       "_model_module_version": "1.5.0",
       "_model_name": "DescriptionStyleModel",
       "_view_count": null,
       "_view_module": "@jupyter-widgets/base",
       "_view_module_version": "1.2.0",
       "_view_name": "StyleView",
       "description_width": ""
      }
     },
     "7a3a4291d0544da39286226c4bfc9cb8": {
      "model_module": "@jupyter-widgets/controls",
      "model_module_version": "1.5.0",
      "model_name": "HBoxModel",
      "state": {
       "_dom_classes": [],
       "_model_module": "@jupyter-widgets/controls",
       "_model_module_version": "1.5.0",
       "_model_name": "HBoxModel",
       "_view_count": null,
       "_view_module": "@jupyter-widgets/controls",
       "_view_module_version": "1.5.0",
       "_view_name": "HBoxView",
       "box_style": "",
       "children": [
        "IPY_MODEL_7bf328d3413946dc9ada381b8ead0f82",
        "IPY_MODEL_bd688bc6a92f430496bdaf3efa1f2073",
        "IPY_MODEL_12d110704b174ab68cd46bbfcd29a804"
       ],
       "layout": "IPY_MODEL_ee16d533ca124a8c9813e47827e53f32"
      }
     },
     "7bf328d3413946dc9ada381b8ead0f82": {
      "model_module": "@jupyter-widgets/controls",
      "model_module_version": "1.5.0",
      "model_name": "HTMLModel",
      "state": {
       "_dom_classes": [],
       "_model_module": "@jupyter-widgets/controls",
       "_model_module_version": "1.5.0",
       "_model_name": "HTMLModel",
       "_view_count": null,
       "_view_module": "@jupyter-widgets/controls",
       "_view_module_version": "1.5.0",
       "_view_name": "HTMLView",
       "description": "",
       "description_tooltip": null,
       "layout": "IPY_MODEL_b346cfdc57c048618a6364c644534b16",
       "placeholder": "​",
       "style": "IPY_MODEL_e5b821b0f6f842bfb040c7d54ecc2896",
       "value": "Downloading: 100%"
      }
     },
     "7c53ab1090df472a8c3a32b6e2f7f278": {
      "model_module": "@jupyter-widgets/controls",
      "model_module_version": "1.5.0",
      "model_name": "HBoxModel",
      "state": {
       "_dom_classes": [],
       "_model_module": "@jupyter-widgets/controls",
       "_model_module_version": "1.5.0",
       "_model_name": "HBoxModel",
       "_view_count": null,
       "_view_module": "@jupyter-widgets/controls",
       "_view_module_version": "1.5.0",
       "_view_name": "HBoxView",
       "box_style": "",
       "children": [
        "IPY_MODEL_41d7466ced53459bad4f8981fe8ee033",
        "IPY_MODEL_137be653de01432f90d2c5d1b5069942",
        "IPY_MODEL_bab13d040f8a4634af1c2df33d2e9b00"
       ],
       "layout": "IPY_MODEL_694856d5dcf14887885694c89ef87381"
      }
     },
     "7ceb3646da0a4ed89198d573c9894ab4": {
      "model_module": "@jupyter-widgets/base",
      "model_module_version": "1.2.0",
      "model_name": "LayoutModel",
      "state": {
       "_model_module": "@jupyter-widgets/base",
       "_model_module_version": "1.2.0",
       "_model_name": "LayoutModel",
       "_view_count": null,
       "_view_module": "@jupyter-widgets/base",
       "_view_module_version": "1.2.0",
       "_view_name": "LayoutView",
       "align_content": null,
       "align_items": null,
       "align_self": null,
       "border": null,
       "bottom": null,
       "display": null,
       "flex": null,
       "flex_flow": null,
       "grid_area": null,
       "grid_auto_columns": null,
       "grid_auto_flow": null,
       "grid_auto_rows": null,
       "grid_column": null,
       "grid_gap": null,
       "grid_row": null,
       "grid_template_areas": null,
       "grid_template_columns": null,
       "grid_template_rows": null,
       "height": null,
       "justify_content": null,
       "justify_items": null,
       "left": null,
       "margin": null,
       "max_height": null,
       "max_width": null,
       "min_height": null,
       "min_width": null,
       "object_fit": null,
       "object_position": null,
       "order": null,
       "overflow": null,
       "overflow_x": null,
       "overflow_y": null,
       "padding": null,
       "right": null,
       "top": null,
       "visibility": null,
       "width": null
      }
     },
     "869ac98911e94b8b8fddca3a8e4ad772": {
      "model_module": "@jupyter-widgets/controls",
      "model_module_version": "1.5.0",
      "model_name": "HTMLModel",
      "state": {
       "_dom_classes": [],
       "_model_module": "@jupyter-widgets/controls",
       "_model_module_version": "1.5.0",
       "_model_name": "HTMLModel",
       "_view_count": null,
       "_view_module": "@jupyter-widgets/controls",
       "_view_module_version": "1.5.0",
       "_view_name": "HTMLView",
       "description": "",
       "description_tooltip": null,
       "layout": "IPY_MODEL_c01b839925134121901ee7d82bfa4bd9",
       "placeholder": "​",
       "style": "IPY_MODEL_42e7bd7de29945878226f8307462d030",
       "value": "100%"
      }
     },
     "8dcbfb73407c4b40a13b0431ece462d7": {
      "model_module": "@jupyter-widgets/controls",
      "model_module_version": "1.5.0",
      "model_name": "DescriptionStyleModel",
      "state": {
       "_model_module": "@jupyter-widgets/controls",
       "_model_module_version": "1.5.0",
       "_model_name": "DescriptionStyleModel",
       "_view_count": null,
       "_view_module": "@jupyter-widgets/base",
       "_view_module_version": "1.2.0",
       "_view_name": "StyleView",
       "description_width": ""
      }
     },
     "95beca5114584d0890ef9f087d22a72e": {
      "model_module": "@jupyter-widgets/controls",
      "model_module_version": "1.5.0",
      "model_name": "HBoxModel",
      "state": {
       "_dom_classes": [],
       "_model_module": "@jupyter-widgets/controls",
       "_model_module_version": "1.5.0",
       "_model_name": "HBoxModel",
       "_view_count": null,
       "_view_module": "@jupyter-widgets/controls",
       "_view_module_version": "1.5.0",
       "_view_name": "HBoxView",
       "box_style": "",
       "children": [
        "IPY_MODEL_f5e8909200614f6a86672b32b019d9f6",
        "IPY_MODEL_4e47def80c2f46bc82e981c7c86621ed",
        "IPY_MODEL_5e6a26ca1ef641449e02b483b2ee45bd"
       ],
       "layout": "IPY_MODEL_e60e636b8400466e8e01873df3df0302"
      }
     },
     "98d9beb1ada340d0a5dc83a4400e2d59": {
      "model_module": "@jupyter-widgets/base",
      "model_module_version": "1.2.0",
      "model_name": "LayoutModel",
      "state": {
       "_model_module": "@jupyter-widgets/base",
       "_model_module_version": "1.2.0",
       "_model_name": "LayoutModel",
       "_view_count": null,
       "_view_module": "@jupyter-widgets/base",
       "_view_module_version": "1.2.0",
       "_view_name": "LayoutView",
       "align_content": null,
       "align_items": null,
       "align_self": null,
       "border": null,
       "bottom": null,
       "display": null,
       "flex": null,
       "flex_flow": null,
       "grid_area": null,
       "grid_auto_columns": null,
       "grid_auto_flow": null,
       "grid_auto_rows": null,
       "grid_column": null,
       "grid_gap": null,
       "grid_row": null,
       "grid_template_areas": null,
       "grid_template_columns": null,
       "grid_template_rows": null,
       "height": null,
       "justify_content": null,
       "justify_items": null,
       "left": null,
       "margin": null,
       "max_height": null,
       "max_width": null,
       "min_height": null,
       "min_width": null,
       "object_fit": null,
       "object_position": null,
       "order": null,
       "overflow": null,
       "overflow_x": null,
       "overflow_y": null,
       "padding": null,
       "right": null,
       "top": null,
       "visibility": null,
       "width": null
      }
     },
     "9ad62a0d39ab46d5aeb4292edb1c570c": {
      "model_module": "@jupyter-widgets/base",
      "model_module_version": "1.2.0",
      "model_name": "LayoutModel",
      "state": {
       "_model_module": "@jupyter-widgets/base",
       "_model_module_version": "1.2.0",
       "_model_name": "LayoutModel",
       "_view_count": null,
       "_view_module": "@jupyter-widgets/base",
       "_view_module_version": "1.2.0",
       "_view_name": "LayoutView",
       "align_content": null,
       "align_items": null,
       "align_self": null,
       "border": null,
       "bottom": null,
       "display": null,
       "flex": null,
       "flex_flow": null,
       "grid_area": null,
       "grid_auto_columns": null,
       "grid_auto_flow": null,
       "grid_auto_rows": null,
       "grid_column": null,
       "grid_gap": null,
       "grid_row": null,
       "grid_template_areas": null,
       "grid_template_columns": null,
       "grid_template_rows": null,
       "height": null,
       "justify_content": null,
       "justify_items": null,
       "left": null,
       "margin": null,
       "max_height": null,
       "max_width": null,
       "min_height": null,
       "min_width": null,
       "object_fit": null,
       "object_position": null,
       "order": null,
       "overflow": null,
       "overflow_x": null,
       "overflow_y": null,
       "padding": null,
       "right": null,
       "top": null,
       "visibility": null,
       "width": null
      }
     },
     "9bc4d06b04b6488c968e5ed57bd893f5": {
      "model_module": "@jupyter-widgets/base",
      "model_module_version": "1.2.0",
      "model_name": "LayoutModel",
      "state": {
       "_model_module": "@jupyter-widgets/base",
       "_model_module_version": "1.2.0",
       "_model_name": "LayoutModel",
       "_view_count": null,
       "_view_module": "@jupyter-widgets/base",
       "_view_module_version": "1.2.0",
       "_view_name": "LayoutView",
       "align_content": null,
       "align_items": null,
       "align_self": null,
       "border": null,
       "bottom": null,
       "display": null,
       "flex": null,
       "flex_flow": null,
       "grid_area": null,
       "grid_auto_columns": null,
       "grid_auto_flow": null,
       "grid_auto_rows": null,
       "grid_column": null,
       "grid_gap": null,
       "grid_row": null,
       "grid_template_areas": null,
       "grid_template_columns": null,
       "grid_template_rows": null,
       "height": null,
       "justify_content": null,
       "justify_items": null,
       "left": null,
       "margin": null,
       "max_height": null,
       "max_width": null,
       "min_height": null,
       "min_width": null,
       "object_fit": null,
       "object_position": null,
       "order": null,
       "overflow": null,
       "overflow_x": null,
       "overflow_y": null,
       "padding": null,
       "right": null,
       "top": null,
       "visibility": null,
       "width": null
      }
     },
     "a68c20c5e28343788462b14d30705fb2": {
      "model_module": "@jupyter-widgets/controls",
      "model_module_version": "1.5.0",
      "model_name": "HTMLModel",
      "state": {
       "_dom_classes": [],
       "_model_module": "@jupyter-widgets/controls",
       "_model_module_version": "1.5.0",
       "_model_name": "HTMLModel",
       "_view_count": null,
       "_view_module": "@jupyter-widgets/controls",
       "_view_module_version": "1.5.0",
       "_view_name": "HTMLView",
       "description": "",
       "description_tooltip": null,
       "layout": "IPY_MODEL_ce1c1aee605841e2a0e050d936a825a4",
       "placeholder": "​",
       "style": "IPY_MODEL_8dcbfb73407c4b40a13b0431ece462d7",
       "value": " 1/1 [00:00&lt;00:00, 33.48ba/s]"
      }
     },
     "ac17a9f6a1ac4144b38363d32632b80a": {
      "model_module": "@jupyter-widgets/controls",
      "model_module_version": "1.5.0",
      "model_name": "HTMLModel",
      "state": {
       "_dom_classes": [],
       "_model_module": "@jupyter-widgets/controls",
       "_model_module_version": "1.5.0",
       "_model_name": "HTMLModel",
       "_view_count": null,
       "_view_module": "@jupyter-widgets/controls",
       "_view_module_version": "1.5.0",
       "_view_name": "HTMLView",
       "description": "",
       "description_tooltip": null,
       "layout": "IPY_MODEL_9bc4d06b04b6488c968e5ed57bd893f5",
       "placeholder": "​",
       "style": "IPY_MODEL_00b0c10bc6aa4a1db95563b286dfe8da",
       "value": "100%"
      }
     },
     "ac6d87d7f579467e9f588235882a4b0c": {
      "model_module": "@jupyter-widgets/base",
      "model_module_version": "1.2.0",
      "model_name": "LayoutModel",
      "state": {
       "_model_module": "@jupyter-widgets/base",
       "_model_module_version": "1.2.0",
       "_model_name": "LayoutModel",
       "_view_count": null,
       "_view_module": "@jupyter-widgets/base",
       "_view_module_version": "1.2.0",
       "_view_name": "LayoutView",
       "align_content": null,
       "align_items": null,
       "align_self": null,
       "border": null,
       "bottom": null,
       "display": null,
       "flex": null,
       "flex_flow": null,
       "grid_area": null,
       "grid_auto_columns": null,
       "grid_auto_flow": null,
       "grid_auto_rows": null,
       "grid_column": null,
       "grid_gap": null,
       "grid_row": null,
       "grid_template_areas": null,
       "grid_template_columns": null,
       "grid_template_rows": null,
       "height": null,
       "justify_content": null,
       "justify_items": null,
       "left": null,
       "margin": null,
       "max_height": null,
       "max_width": null,
       "min_height": null,
       "min_width": null,
       "object_fit": null,
       "object_position": null,
       "order": null,
       "overflow": null,
       "overflow_x": null,
       "overflow_y": null,
       "padding": null,
       "right": null,
       "top": null,
       "visibility": null,
       "width": null
      }
     },
     "af23e746e855430c885377e18e8b1eef": {
      "model_module": "@jupyter-widgets/base",
      "model_module_version": "1.2.0",
      "model_name": "LayoutModel",
      "state": {
       "_model_module": "@jupyter-widgets/base",
       "_model_module_version": "1.2.0",
       "_model_name": "LayoutModel",
       "_view_count": null,
       "_view_module": "@jupyter-widgets/base",
       "_view_module_version": "1.2.0",
       "_view_name": "LayoutView",
       "align_content": null,
       "align_items": null,
       "align_self": null,
       "border": null,
       "bottom": null,
       "display": null,
       "flex": null,
       "flex_flow": null,
       "grid_area": null,
       "grid_auto_columns": null,
       "grid_auto_flow": null,
       "grid_auto_rows": null,
       "grid_column": null,
       "grid_gap": null,
       "grid_row": null,
       "grid_template_areas": null,
       "grid_template_columns": null,
       "grid_template_rows": null,
       "height": null,
       "justify_content": null,
       "justify_items": null,
       "left": null,
       "margin": null,
       "max_height": null,
       "max_width": null,
       "min_height": null,
       "min_width": null,
       "object_fit": null,
       "object_position": null,
       "order": null,
       "overflow": null,
       "overflow_x": null,
       "overflow_y": null,
       "padding": null,
       "right": null,
       "top": null,
       "visibility": null,
       "width": null
      }
     },
     "b346cfdc57c048618a6364c644534b16": {
      "model_module": "@jupyter-widgets/base",
      "model_module_version": "1.2.0",
      "model_name": "LayoutModel",
      "state": {
       "_model_module": "@jupyter-widgets/base",
       "_model_module_version": "1.2.0",
       "_model_name": "LayoutModel",
       "_view_count": null,
       "_view_module": "@jupyter-widgets/base",
       "_view_module_version": "1.2.0",
       "_view_name": "LayoutView",
       "align_content": null,
       "align_items": null,
       "align_self": null,
       "border": null,
       "bottom": null,
       "display": null,
       "flex": null,
       "flex_flow": null,
       "grid_area": null,
       "grid_auto_columns": null,
       "grid_auto_flow": null,
       "grid_auto_rows": null,
       "grid_column": null,
       "grid_gap": null,
       "grid_row": null,
       "grid_template_areas": null,
       "grid_template_columns": null,
       "grid_template_rows": null,
       "height": null,
       "justify_content": null,
       "justify_items": null,
       "left": null,
       "margin": null,
       "max_height": null,
       "max_width": null,
       "min_height": null,
       "min_width": null,
       "object_fit": null,
       "object_position": null,
       "order": null,
       "overflow": null,
       "overflow_x": null,
       "overflow_y": null,
       "padding": null,
       "right": null,
       "top": null,
       "visibility": null,
       "width": null
      }
     },
     "b5de65ece41e4ab29d6f3520faa7e350": {
      "model_module": "@jupyter-widgets/base",
      "model_module_version": "1.2.0",
      "model_name": "LayoutModel",
      "state": {
       "_model_module": "@jupyter-widgets/base",
       "_model_module_version": "1.2.0",
       "_model_name": "LayoutModel",
       "_view_count": null,
       "_view_module": "@jupyter-widgets/base",
       "_view_module_version": "1.2.0",
       "_view_name": "LayoutView",
       "align_content": null,
       "align_items": null,
       "align_self": null,
       "border": null,
       "bottom": null,
       "display": null,
       "flex": null,
       "flex_flow": null,
       "grid_area": null,
       "grid_auto_columns": null,
       "grid_auto_flow": null,
       "grid_auto_rows": null,
       "grid_column": null,
       "grid_gap": null,
       "grid_row": null,
       "grid_template_areas": null,
       "grid_template_columns": null,
       "grid_template_rows": null,
       "height": null,
       "justify_content": null,
       "justify_items": null,
       "left": null,
       "margin": null,
       "max_height": null,
       "max_width": null,
       "min_height": null,
       "min_width": null,
       "object_fit": null,
       "object_position": null,
       "order": null,
       "overflow": null,
       "overflow_x": null,
       "overflow_y": null,
       "padding": null,
       "right": null,
       "top": null,
       "visibility": null,
       "width": null
      }
     },
     "b6e3a39bfa5d4074b923fbb03b1c24b7": {
      "model_module": "@jupyter-widgets/base",
      "model_module_version": "1.2.0",
      "model_name": "LayoutModel",
      "state": {
       "_model_module": "@jupyter-widgets/base",
       "_model_module_version": "1.2.0",
       "_model_name": "LayoutModel",
       "_view_count": null,
       "_view_module": "@jupyter-widgets/base",
       "_view_module_version": "1.2.0",
       "_view_name": "LayoutView",
       "align_content": null,
       "align_items": null,
       "align_self": null,
       "border": null,
       "bottom": null,
       "display": null,
       "flex": null,
       "flex_flow": null,
       "grid_area": null,
       "grid_auto_columns": null,
       "grid_auto_flow": null,
       "grid_auto_rows": null,
       "grid_column": null,
       "grid_gap": null,
       "grid_row": null,
       "grid_template_areas": null,
       "grid_template_columns": null,
       "grid_template_rows": null,
       "height": null,
       "justify_content": null,
       "justify_items": null,
       "left": null,
       "margin": null,
       "max_height": null,
       "max_width": null,
       "min_height": null,
       "min_width": null,
       "object_fit": null,
       "object_position": null,
       "order": null,
       "overflow": null,
       "overflow_x": null,
       "overflow_y": null,
       "padding": null,
       "right": null,
       "top": null,
       "visibility": null,
       "width": null
      }
     },
     "bab13d040f8a4634af1c2df33d2e9b00": {
      "model_module": "@jupyter-widgets/controls",
      "model_module_version": "1.5.0",
      "model_name": "HTMLModel",
      "state": {
       "_dom_classes": [],
       "_model_module": "@jupyter-widgets/controls",
       "_model_module_version": "1.5.0",
       "_model_name": "HTMLModel",
       "_view_count": null,
       "_view_module": "@jupyter-widgets/controls",
       "_view_module_version": "1.5.0",
       "_view_name": "HTMLView",
       "description": "",
       "description_tooltip": null,
       "layout": "IPY_MODEL_7ceb3646da0a4ed89198d573c9894ab4",
       "placeholder": "​",
       "style": "IPY_MODEL_ddd0e12a377948d1a7fb87e6420e9067",
       "value": " 455k/455k [00:00&lt;00:00, 729kB/s]"
      }
     },
     "bd688bc6a92f430496bdaf3efa1f2073": {
      "model_module": "@jupyter-widgets/controls",
      "model_module_version": "1.5.0",
      "model_name": "FloatProgressModel",
      "state": {
       "_dom_classes": [],
       "_model_module": "@jupyter-widgets/controls",
       "_model_module_version": "1.5.0",
       "_model_name": "FloatProgressModel",
       "_view_count": null,
       "_view_module": "@jupyter-widgets/controls",
       "_view_module_version": "1.5.0",
       "_view_name": "ProgressView",
       "bar_style": "success",
       "description": "",
       "description_tooltip": null,
       "layout": "IPY_MODEL_db168988a9de44d0b0e87e678bfe6491",
       "max": 388.0,
       "min": 0.0,
       "orientation": "horizontal",
       "style": "IPY_MODEL_7099b3fa5aba46d8a1d43b2841ab0286",
       "value": 388.0
      }
     },
     "c01b839925134121901ee7d82bfa4bd9": {
      "model_module": "@jupyter-widgets/base",
      "model_module_version": "1.2.0",
      "model_name": "LayoutModel",
      "state": {
       "_model_module": "@jupyter-widgets/base",
       "_model_module_version": "1.2.0",
       "_model_name": "LayoutModel",
       "_view_count": null,
       "_view_module": "@jupyter-widgets/base",
       "_view_module_version": "1.2.0",
       "_view_name": "LayoutView",
       "align_content": null,
       "align_items": null,
       "align_self": null,
       "border": null,
       "bottom": null,
       "display": null,
       "flex": null,
       "flex_flow": null,
       "grid_area": null,
       "grid_auto_columns": null,
       "grid_auto_flow": null,
       "grid_auto_rows": null,
       "grid_column": null,
       "grid_gap": null,
       "grid_row": null,
       "grid_template_areas": null,
       "grid_template_columns": null,
       "grid_template_rows": null,
       "height": null,
       "justify_content": null,
       "justify_items": null,
       "left": null,
       "margin": null,
       "max_height": null,
       "max_width": null,
       "min_height": null,
       "min_width": null,
       "object_fit": null,
       "object_position": null,
       "order": null,
       "overflow": null,
       "overflow_x": null,
       "overflow_y": null,
       "padding": null,
       "right": null,
       "top": null,
       "visibility": null,
       "width": null
      }
     },
     "c0cdf685f5dc406890fdfbfd9c772f3c": {
      "model_module": "@jupyter-widgets/controls",
      "model_module_version": "1.5.0",
      "model_name": "HTMLModel",
      "state": {
       "_dom_classes": [],
       "_model_module": "@jupyter-widgets/controls",
       "_model_module_version": "1.5.0",
       "_model_name": "HTMLModel",
       "_view_count": null,
       "_view_module": "@jupyter-widgets/controls",
       "_view_module_version": "1.5.0",
       "_view_name": "HTMLView",
       "description": "",
       "description_tooltip": null,
       "layout": "IPY_MODEL_4958c4b4e6824b81ace0c19f8463bf91",
       "placeholder": "​",
       "style": "IPY_MODEL_c3069e9c0d6440b698bd88f7d21a3e45",
       "value": " 239/239 [00:00&lt;00:00, 9.45kB/s]"
      }
     },
     "c2ae175338ad4f4c857664bf7c5b4b44": {
      "model_module": "@jupyter-widgets/base",
      "model_module_version": "1.2.0",
      "model_name": "LayoutModel",
      "state": {
       "_model_module": "@jupyter-widgets/base",
       "_model_module_version": "1.2.0",
       "_model_name": "LayoutModel",
       "_view_count": null,
       "_view_module": "@jupyter-widgets/base",
       "_view_module_version": "1.2.0",
       "_view_name": "LayoutView",
       "align_content": null,
       "align_items": null,
       "align_self": null,
       "border": null,
       "bottom": null,
       "display": null,
       "flex": null,
       "flex_flow": null,
       "grid_area": null,
       "grid_auto_columns": null,
       "grid_auto_flow": null,
       "grid_auto_rows": null,
       "grid_column": null,
       "grid_gap": null,
       "grid_row": null,
       "grid_template_areas": null,
       "grid_template_columns": null,
       "grid_template_rows": null,
       "height": null,
       "justify_content": null,
       "justify_items": null,
       "left": null,
       "margin": null,
       "max_height": null,
       "max_width": null,
       "min_height": null,
       "min_width": null,
       "object_fit": null,
       "object_position": null,
       "order": null,
       "overflow": null,
       "overflow_x": null,
       "overflow_y": null,
       "padding": null,
       "right": null,
       "top": null,
       "visibility": null,
       "width": null
      }
     },
     "c3069e9c0d6440b698bd88f7d21a3e45": {
      "model_module": "@jupyter-widgets/controls",
      "model_module_version": "1.5.0",
      "model_name": "DescriptionStyleModel",
      "state": {
       "_model_module": "@jupyter-widgets/controls",
       "_model_module_version": "1.5.0",
       "_model_name": "DescriptionStyleModel",
       "_view_count": null,
       "_view_module": "@jupyter-widgets/base",
       "_view_module_version": "1.2.0",
       "_view_name": "StyleView",
       "description_width": ""
      }
     },
     "ce1c1aee605841e2a0e050d936a825a4": {
      "model_module": "@jupyter-widgets/base",
      "model_module_version": "1.2.0",
      "model_name": "LayoutModel",
      "state": {
       "_model_module": "@jupyter-widgets/base",
       "_model_module_version": "1.2.0",
       "_model_name": "LayoutModel",
       "_view_count": null,
       "_view_module": "@jupyter-widgets/base",
       "_view_module_version": "1.2.0",
       "_view_name": "LayoutView",
       "align_content": null,
       "align_items": null,
       "align_self": null,
       "border": null,
       "bottom": null,
       "display": null,
       "flex": null,
       "flex_flow": null,
       "grid_area": null,
       "grid_auto_columns": null,
       "grid_auto_flow": null,
       "grid_auto_rows": null,
       "grid_column": null,
       "grid_gap": null,
       "grid_row": null,
       "grid_template_areas": null,
       "grid_template_columns": null,
       "grid_template_rows": null,
       "height": null,
       "justify_content": null,
       "justify_items": null,
       "left": null,
       "margin": null,
       "max_height": null,
       "max_width": null,
       "min_height": null,
       "min_width": null,
       "object_fit": null,
       "object_position": null,
       "order": null,
       "overflow": null,
       "overflow_x": null,
       "overflow_y": null,
       "padding": null,
       "right": null,
       "top": null,
       "visibility": null,
       "width": null
      }
     },
     "d0560a35abbc474fa1056cd453eda173": {
      "model_module": "@jupyter-widgets/base",
      "model_module_version": "1.2.0",
      "model_name": "LayoutModel",
      "state": {
       "_model_module": "@jupyter-widgets/base",
       "_model_module_version": "1.2.0",
       "_model_name": "LayoutModel",
       "_view_count": null,
       "_view_module": "@jupyter-widgets/base",
       "_view_module_version": "1.2.0",
       "_view_name": "LayoutView",
       "align_content": null,
       "align_items": null,
       "align_self": null,
       "border": null,
       "bottom": null,
       "display": null,
       "flex": null,
       "flex_flow": null,
       "grid_area": null,
       "grid_auto_columns": null,
       "grid_auto_flow": null,
       "grid_auto_rows": null,
       "grid_column": null,
       "grid_gap": null,
       "grid_row": null,
       "grid_template_areas": null,
       "grid_template_columns": null,
       "grid_template_rows": null,
       "height": null,
       "justify_content": null,
       "justify_items": null,
       "left": null,
       "margin": null,
       "max_height": null,
       "max_width": null,
       "min_height": null,
       "min_width": null,
       "object_fit": null,
       "object_position": null,
       "order": null,
       "overflow": null,
       "overflow_x": null,
       "overflow_y": null,
       "padding": null,
       "right": null,
       "top": null,
       "visibility": null,
       "width": null
      }
     },
     "d13b493724784815a1cfab823d0b4b2f": {
      "model_module": "@jupyter-widgets/controls",
      "model_module_version": "1.5.0",
      "model_name": "ProgressStyleModel",
      "state": {
       "_model_module": "@jupyter-widgets/controls",
       "_model_module_version": "1.5.0",
       "_model_name": "ProgressStyleModel",
       "_view_count": null,
       "_view_module": "@jupyter-widgets/base",
       "_view_module_version": "1.2.0",
       "_view_name": "StyleView",
       "bar_color": null,
       "description_width": ""
      }
     },
     "d469a605a9c640cea0ebb93c672b4905": {
      "model_module": "@jupyter-widgets/base",
      "model_module_version": "1.2.0",
      "model_name": "LayoutModel",
      "state": {
       "_model_module": "@jupyter-widgets/base",
       "_model_module_version": "1.2.0",
       "_model_name": "LayoutModel",
       "_view_count": null,
       "_view_module": "@jupyter-widgets/base",
       "_view_module_version": "1.2.0",
       "_view_name": "LayoutView",
       "align_content": null,
       "align_items": null,
       "align_self": null,
       "border": null,
       "bottom": null,
       "display": null,
       "flex": null,
       "flex_flow": null,
       "grid_area": null,
       "grid_auto_columns": null,
       "grid_auto_flow": null,
       "grid_auto_rows": null,
       "grid_column": null,
       "grid_gap": null,
       "grid_row": null,
       "grid_template_areas": null,
       "grid_template_columns": null,
       "grid_template_rows": null,
       "height": null,
       "justify_content": null,
       "justify_items": null,
       "left": null,
       "margin": null,
       "max_height": null,
       "max_width": null,
       "min_height": null,
       "min_width": null,
       "object_fit": null,
       "object_position": null,
       "order": null,
       "overflow": null,
       "overflow_x": null,
       "overflow_y": null,
       "padding": null,
       "right": null,
       "top": null,
       "visibility": null,
       "width": null
      }
     },
     "d91aabca33b148798d494179c54ec52d": {
      "model_module": "@jupyter-widgets/controls",
      "model_module_version": "1.5.0",
      "model_name": "FloatProgressModel",
      "state": {
       "_dom_classes": [],
       "_model_module": "@jupyter-widgets/controls",
       "_model_module_version": "1.5.0",
       "_model_name": "FloatProgressModel",
       "_view_count": null,
       "_view_module": "@jupyter-widgets/controls",
       "_view_module_version": "1.5.0",
       "_view_name": "ProgressView",
       "bar_style": "success",
       "description": "",
       "description_tooltip": null,
       "layout": "IPY_MODEL_4b92e3219d25479a90266fbd99c202cc",
       "max": 231536.0,
       "min": 0.0,
       "orientation": "horizontal",
       "style": "IPY_MODEL_3b15ffdea2e346dd8aaee4da602bf950",
       "value": 231536.0
      }
     },
     "db168988a9de44d0b0e87e678bfe6491": {
      "model_module": "@jupyter-widgets/base",
      "model_module_version": "1.2.0",
      "model_name": "LayoutModel",
      "state": {
       "_model_module": "@jupyter-widgets/base",
       "_model_module_version": "1.2.0",
       "_model_name": "LayoutModel",
       "_view_count": null,
       "_view_module": "@jupyter-widgets/base",
       "_view_module_version": "1.2.0",
       "_view_name": "LayoutView",
       "align_content": null,
       "align_items": null,
       "align_self": null,
       "border": null,
       "bottom": null,
       "display": null,
       "flex": null,
       "flex_flow": null,
       "grid_area": null,
       "grid_auto_columns": null,
       "grid_auto_flow": null,
       "grid_auto_rows": null,
       "grid_column": null,
       "grid_gap": null,
       "grid_row": null,
       "grid_template_areas": null,
       "grid_template_columns": null,
       "grid_template_rows": null,
       "height": null,
       "justify_content": null,
       "justify_items": null,
       "left": null,
       "margin": null,
       "max_height": null,
       "max_width": null,
       "min_height": null,
       "min_width": null,
       "object_fit": null,
       "object_position": null,
       "order": null,
       "overflow": null,
       "overflow_x": null,
       "overflow_y": null,
       "padding": null,
       "right": null,
       "top": null,
       "visibility": null,
       "width": null
      }
     },
     "db7baa57557242d1a950207186155ee3": {
      "model_module": "@jupyter-widgets/controls",
      "model_module_version": "1.5.0",
      "model_name": "ProgressStyleModel",
      "state": {
       "_model_module": "@jupyter-widgets/controls",
       "_model_module_version": "1.5.0",
       "_model_name": "ProgressStyleModel",
       "_view_count": null,
       "_view_module": "@jupyter-widgets/base",
       "_view_module_version": "1.2.0",
       "_view_name": "StyleView",
       "bar_color": null,
       "description_width": ""
      }
     },
     "ddd0e12a377948d1a7fb87e6420e9067": {
      "model_module": "@jupyter-widgets/controls",
      "model_module_version": "1.5.0",
      "model_name": "DescriptionStyleModel",
      "state": {
       "_model_module": "@jupyter-widgets/controls",
       "_model_module_version": "1.5.0",
       "_model_name": "DescriptionStyleModel",
       "_view_count": null,
       "_view_module": "@jupyter-widgets/base",
       "_view_module_version": "1.2.0",
       "_view_name": "StyleView",
       "description_width": ""
      }
     },
     "de65d789e21a48b6a15ad180932325de": {
      "model_module": "@jupyter-widgets/controls",
      "model_module_version": "1.5.0",
      "model_name": "ProgressStyleModel",
      "state": {
       "_model_module": "@jupyter-widgets/controls",
       "_model_module_version": "1.5.0",
       "_model_name": "ProgressStyleModel",
       "_view_count": null,
       "_view_module": "@jupyter-widgets/base",
       "_view_module_version": "1.2.0",
       "_view_name": "StyleView",
       "bar_color": null,
       "description_width": ""
      }
     },
     "df82e00d77d347eebc9b3c59cac9d970": {
      "model_module": "@jupyter-widgets/base",
      "model_module_version": "1.2.0",
      "model_name": "LayoutModel",
      "state": {
       "_model_module": "@jupyter-widgets/base",
       "_model_module_version": "1.2.0",
       "_model_name": "LayoutModel",
       "_view_count": null,
       "_view_module": "@jupyter-widgets/base",
       "_view_module_version": "1.2.0",
       "_view_name": "LayoutView",
       "align_content": null,
       "align_items": null,
       "align_self": null,
       "border": null,
       "bottom": null,
       "display": null,
       "flex": null,
       "flex_flow": null,
       "grid_area": null,
       "grid_auto_columns": null,
       "grid_auto_flow": null,
       "grid_auto_rows": null,
       "grid_column": null,
       "grid_gap": null,
       "grid_row": null,
       "grid_template_areas": null,
       "grid_template_columns": null,
       "grid_template_rows": null,
       "height": null,
       "justify_content": null,
       "justify_items": null,
       "left": null,
       "margin": null,
       "max_height": null,
       "max_width": null,
       "min_height": null,
       "min_width": null,
       "object_fit": null,
       "object_position": null,
       "order": null,
       "overflow": null,
       "overflow_x": null,
       "overflow_y": null,
       "padding": null,
       "right": null,
       "top": null,
       "visibility": null,
       "width": null
      }
     },
     "e5b821b0f6f842bfb040c7d54ecc2896": {
      "model_module": "@jupyter-widgets/controls",
      "model_module_version": "1.5.0",
      "model_name": "DescriptionStyleModel",
      "state": {
       "_model_module": "@jupyter-widgets/controls",
       "_model_module_version": "1.5.0",
       "_model_name": "DescriptionStyleModel",
       "_view_count": null,
       "_view_module": "@jupyter-widgets/base",
       "_view_module_version": "1.2.0",
       "_view_name": "StyleView",
       "description_width": ""
      }
     },
     "e60e636b8400466e8e01873df3df0302": {
      "model_module": "@jupyter-widgets/base",
      "model_module_version": "1.2.0",
      "model_name": "LayoutModel",
      "state": {
       "_model_module": "@jupyter-widgets/base",
       "_model_module_version": "1.2.0",
       "_model_name": "LayoutModel",
       "_view_count": null,
       "_view_module": "@jupyter-widgets/base",
       "_view_module_version": "1.2.0",
       "_view_name": "LayoutView",
       "align_content": null,
       "align_items": null,
       "align_self": null,
       "border": null,
       "bottom": null,
       "display": null,
       "flex": null,
       "flex_flow": null,
       "grid_area": null,
       "grid_auto_columns": null,
       "grid_auto_flow": null,
       "grid_auto_rows": null,
       "grid_column": null,
       "grid_gap": null,
       "grid_row": null,
       "grid_template_areas": null,
       "grid_template_columns": null,
       "grid_template_rows": null,
       "height": null,
       "justify_content": null,
       "justify_items": null,
       "left": null,
       "margin": null,
       "max_height": null,
       "max_width": null,
       "min_height": null,
       "min_width": null,
       "object_fit": null,
       "object_position": null,
       "order": null,
       "overflow": null,
       "overflow_x": null,
       "overflow_y": null,
       "padding": null,
       "right": null,
       "top": null,
       "visibility": null,
       "width": null
      }
     },
     "e9ef0b43e06e447eb979049c5ca5def8": {
      "model_module": "@jupyter-widgets/controls",
      "model_module_version": "1.5.0",
      "model_name": "HBoxModel",
      "state": {
       "_dom_classes": [],
       "_model_module": "@jupyter-widgets/controls",
       "_model_module_version": "1.5.0",
       "_model_name": "HBoxModel",
       "_view_count": null,
       "_view_module": "@jupyter-widgets/controls",
       "_view_module_version": "1.5.0",
       "_view_name": "HBoxView",
       "box_style": "",
       "children": [
        "IPY_MODEL_869ac98911e94b8b8fddca3a8e4ad772",
        "IPY_MODEL_4aecc67065d44fed96daa2a3d928fb49",
        "IPY_MODEL_a68c20c5e28343788462b14d30705fb2"
       ],
       "layout": "IPY_MODEL_c2ae175338ad4f4c857664bf7c5b4b44"
      }
     },
     "ea4d298512cb4eca900668a5b4e7e7b0": {
      "model_module": "@jupyter-widgets/base",
      "model_module_version": "1.2.0",
      "model_name": "LayoutModel",
      "state": {
       "_model_module": "@jupyter-widgets/base",
       "_model_module_version": "1.2.0",
       "_model_name": "LayoutModel",
       "_view_count": null,
       "_view_module": "@jupyter-widgets/base",
       "_view_module_version": "1.2.0",
       "_view_name": "LayoutView",
       "align_content": null,
       "align_items": null,
       "align_self": null,
       "border": null,
       "bottom": null,
       "display": null,
       "flex": null,
       "flex_flow": null,
       "grid_area": null,
       "grid_auto_columns": null,
       "grid_auto_flow": null,
       "grid_auto_rows": null,
       "grid_column": null,
       "grid_gap": null,
       "grid_row": null,
       "grid_template_areas": null,
       "grid_template_columns": null,
       "grid_template_rows": null,
       "height": null,
       "justify_content": null,
       "justify_items": null,
       "left": null,
       "margin": null,
       "max_height": null,
       "max_width": null,
       "min_height": null,
       "min_width": null,
       "object_fit": null,
       "object_position": null,
       "order": null,
       "overflow": null,
       "overflow_x": null,
       "overflow_y": null,
       "padding": null,
       "right": null,
       "top": null,
       "visibility": null,
       "width": null
      }
     },
     "ee16d533ca124a8c9813e47827e53f32": {
      "model_module": "@jupyter-widgets/base",
      "model_module_version": "1.2.0",
      "model_name": "LayoutModel",
      "state": {
       "_model_module": "@jupyter-widgets/base",
       "_model_module_version": "1.2.0",
       "_model_name": "LayoutModel",
       "_view_count": null,
       "_view_module": "@jupyter-widgets/base",
       "_view_module_version": "1.2.0",
       "_view_name": "LayoutView",
       "align_content": null,
       "align_items": null,
       "align_self": null,
       "border": null,
       "bottom": null,
       "display": null,
       "flex": null,
       "flex_flow": null,
       "grid_area": null,
       "grid_auto_columns": null,
       "grid_auto_flow": null,
       "grid_auto_rows": null,
       "grid_column": null,
       "grid_gap": null,
       "grid_row": null,
       "grid_template_areas": null,
       "grid_template_columns": null,
       "grid_template_rows": null,
       "height": null,
       "justify_content": null,
       "justify_items": null,
       "left": null,
       "margin": null,
       "max_height": null,
       "max_width": null,
       "min_height": null,
       "min_width": null,
       "object_fit": null,
       "object_position": null,
       "order": null,
       "overflow": null,
       "overflow_x": null,
       "overflow_y": null,
       "padding": null,
       "right": null,
       "top": null,
       "visibility": null,
       "width": null
      }
     },
     "f3772f0f3a5044d79fb356cec42d09e0": {
      "model_module": "@jupyter-widgets/base",
      "model_module_version": "1.2.0",
      "model_name": "LayoutModel",
      "state": {
       "_model_module": "@jupyter-widgets/base",
       "_model_module_version": "1.2.0",
       "_model_name": "LayoutModel",
       "_view_count": null,
       "_view_module": "@jupyter-widgets/base",
       "_view_module_version": "1.2.0",
       "_view_name": "LayoutView",
       "align_content": null,
       "align_items": null,
       "align_self": null,
       "border": null,
       "bottom": null,
       "display": null,
       "flex": null,
       "flex_flow": null,
       "grid_area": null,
       "grid_auto_columns": null,
       "grid_auto_flow": null,
       "grid_auto_rows": null,
       "grid_column": null,
       "grid_gap": null,
       "grid_row": null,
       "grid_template_areas": null,
       "grid_template_columns": null,
       "grid_template_rows": null,
       "height": null,
       "justify_content": null,
       "justify_items": null,
       "left": null,
       "margin": null,
       "max_height": null,
       "max_width": null,
       "min_height": null,
       "min_width": null,
       "object_fit": null,
       "object_position": null,
       "order": null,
       "overflow": null,
       "overflow_x": null,
       "overflow_y": null,
       "padding": null,
       "right": null,
       "top": null,
       "visibility": null,
       "width": null
      }
     },
     "f5e8909200614f6a86672b32b019d9f6": {
      "model_module": "@jupyter-widgets/controls",
      "model_module_version": "1.5.0",
      "model_name": "HTMLModel",
      "state": {
       "_dom_classes": [],
       "_model_module": "@jupyter-widgets/controls",
       "_model_module_version": "1.5.0",
       "_model_name": "HTMLModel",
       "_view_count": null,
       "_view_module": "@jupyter-widgets/controls",
       "_view_module_version": "1.5.0",
       "_view_name": "HTMLView",
       "description": "",
       "description_tooltip": null,
       "layout": "IPY_MODEL_af23e746e855430c885377e18e8b1eef",
       "placeholder": "​",
       "style": "IPY_MODEL_6291509e20784bc6be055f3a27570b05",
       "value": "Downloading: 100%"
      }
     },
     "f745a3c6e7464c3c905dbcf03c79bc97": {
      "model_module": "@jupyter-widgets/base",
      "model_module_version": "1.2.0",
      "model_name": "LayoutModel",
      "state": {
       "_model_module": "@jupyter-widgets/base",
       "_model_module_version": "1.2.0",
       "_model_name": "LayoutModel",
       "_view_count": null,
       "_view_module": "@jupyter-widgets/base",
       "_view_module_version": "1.2.0",
       "_view_name": "LayoutView",
       "align_content": null,
       "align_items": null,
       "align_self": null,
       "border": null,
       "bottom": null,
       "display": null,
       "flex": null,
       "flex_flow": null,
       "grid_area": null,
       "grid_auto_columns": null,
       "grid_auto_flow": null,
       "grid_auto_rows": null,
       "grid_column": null,
       "grid_gap": null,
       "grid_row": null,
       "grid_template_areas": null,
       "grid_template_columns": null,
       "grid_template_rows": null,
       "height": null,
       "justify_content": null,
       "justify_items": null,
       "left": null,
       "margin": null,
       "max_height": null,
       "max_width": null,
       "min_height": null,
       "min_width": null,
       "object_fit": null,
       "object_position": null,
       "order": null,
       "overflow": null,
       "overflow_x": null,
       "overflow_y": null,
       "padding": null,
       "right": null,
       "top": null,
       "visibility": null,
       "width": null
      }
     },
     "fc1c5fe1b1ec49e484af31b375fdee38": {
      "model_module": "@jupyter-widgets/base",
      "model_module_version": "1.2.0",
      "model_name": "LayoutModel",
      "state": {
       "_model_module": "@jupyter-widgets/base",
       "_model_module_version": "1.2.0",
       "_model_name": "LayoutModel",
       "_view_count": null,
       "_view_module": "@jupyter-widgets/base",
       "_view_module_version": "1.2.0",
       "_view_name": "LayoutView",
       "align_content": null,
       "align_items": null,
       "align_self": null,
       "border": null,
       "bottom": null,
       "display": null,
       "flex": null,
       "flex_flow": null,
       "grid_area": null,
       "grid_auto_columns": null,
       "grid_auto_flow": null,
       "grid_auto_rows": null,
       "grid_column": null,
       "grid_gap": null,
       "grid_row": null,
       "grid_template_areas": null,
       "grid_template_columns": null,
       "grid_template_rows": null,
       "height": null,
       "justify_content": null,
       "justify_items": null,
       "left": null,
       "margin": null,
       "max_height": null,
       "max_width": null,
       "min_height": null,
       "min_width": null,
       "object_fit": null,
       "object_position": null,
       "order": null,
       "overflow": null,
       "overflow_x": null,
       "overflow_y": null,
       "padding": null,
       "right": null,
       "top": null,
       "visibility": null,
       "width": null
      }
     }
    },
    "version_major": 2,
    "version_minor": 0
   }
  }
 },
 "nbformat": 4,
 "nbformat_minor": 5
}
