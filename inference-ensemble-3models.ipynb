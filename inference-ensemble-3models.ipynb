{
 "cells": [
  {
   "cell_type": "code",
   "execution_count": 1,
   "id": "55287e8c",
   "metadata": {
    "_cell_guid": "b1076dfc-b9ad-4769-8c92-a6c4dae69d19",
    "_uuid": "8f2839f25d086af736a60e9eeb907d3b93b6e0e5",
    "execution": {
     "iopub.execute_input": "2022-06-20T21:27:47.194498Z",
     "iopub.status.busy": "2022-06-20T21:27:47.194059Z",
     "iopub.status.idle": "2022-06-20T21:27:47.237635Z",
     "shell.execute_reply": "2022-06-20T21:27:47.236576Z"
    },
    "papermill": {
     "duration": 0.129186,
     "end_time": "2022-06-20T21:27:47.240157",
     "exception": false,
     "start_time": "2022-06-20T21:27:47.110971",
     "status": "completed"
    },
    "tags": []
   },
   "outputs": [
    {
     "name": "stdout",
     "output_type": "stream",
     "text": [
      "/kaggle/input/mbertav3base/spm.model\n",
      "/kaggle/input/mbertav3base/config.json\n",
      "/kaggle/input/mbertav3base/training_args.bin\n",
      "/kaggle/input/mbertav3base/tokenizer_config.json\n",
      "/kaggle/input/mbertav3base/pytorch_model.bin\n",
      "/kaggle/input/mbertav3base/special_tokens_map.json\n",
      "/kaggle/input/mbertav3base/added_tokens.json\n",
      "/kaggle/input/us-patent-phrase-to-phrase-matching/sample_submission.csv\n",
      "/kaggle/input/us-patent-phrase-to-phrase-matching/train.csv\n",
      "/kaggle/input/us-patent-phrase-to-phrase-matching/test.csv\n",
      "/kaggle/input/cpc-codes/titles.csv\n",
      "/kaggle/input/debertav3small/spm.model\n",
      "/kaggle/input/debertav3small/config.json\n",
      "/kaggle/input/debertav3small/README.md\n",
      "/kaggle/input/debertav3small/tf_model.h5\n",
      "/kaggle/input/debertav3small/tokenizer_config.json\n",
      "/kaggle/input/debertav3small/pytorch_model.bin\n",
      "/kaggle/input/aigl-patentsberta-kaggle-v3/config.json\n",
      "/kaggle/input/aigl-patentsberta-kaggle-v3/training_args.bin\n",
      "/kaggle/input/aigl-patentsberta-kaggle-v3/tokenizer.json\n",
      "/kaggle/input/aigl-patentsberta-kaggle-v3/tokenizer_config.json\n",
      "/kaggle/input/aigl-patentsberta-kaggle-v3/pytorch_model.bin\n",
      "/kaggle/input/aigl-patentsberta-kaggle-v3/special_tokens_map.json\n",
      "/kaggle/input/aigl-patentsberta-kaggle-v3/vocab.txt\n"
     ]
    }
   ],
   "source": [
    "# This Python 3 environment comes with many helpful analytics libraries installed\n",
    "# It is defined by the kaggle/python Docker image: https://github.com/kaggle/docker-python\n",
    "# For example, here's several helpful packages to load\n",
    "\n",
    "import numpy as np # linear algebra\n",
    "import pandas as pd # data processing, CSV file I/O (e.g. pd.read_csv)\n",
    "\n",
    "# Input data files are available in the read-only \"../input/\" directory\n",
    "# For example, running this (by clicking run or pressing Shift+Enter) will list all files under the input directory\n",
    "\n",
    "import os\n",
    "for dirname, _, filenames in os.walk('/kaggle/input'):\n",
    "    for filename in filenames:\n",
    "        print(os.path.join(dirname, filename))\n",
    "\n",
    "# You can write up to 20GB to the current directory (/kaggle/working/) that gets preserved as output when you create a version using \"Save & Run All\" \n",
    "# You can also write temporary files to /kaggle/temp/, but they won't be saved outside of the current session"
   ]
  },
  {
   "cell_type": "markdown",
   "id": "565da56c",
   "metadata": {
    "papermill": {
     "duration": 0.084408,
     "end_time": "2022-06-20T21:27:47.410016",
     "exception": false,
     "start_time": "2022-06-20T21:27:47.325608",
     "status": "completed"
    },
    "tags": []
   },
   "source": [
    "# Credits:\n",
    "this notebook is based on the notbook [\"Getting started with NLP for absolute beginners\"](https://www.kaggle.com/code/jhoward/getting-started-with-nlp-for-absolute-beginners) by @Jeremy Howard"
   ]
  },
  {
   "cell_type": "markdown",
   "id": "50bf15b3",
   "metadata": {
    "papermill": {
     "duration": 0.084958,
     "end_time": "2022-06-20T21:27:47.580935",
     "exception": false,
     "start_time": "2022-06-20T21:27:47.495977",
     "status": "completed"
    },
    "tags": []
   },
   "source": [
    "## Imports"
   ]
  },
  {
   "cell_type": "code",
   "execution_count": 2,
   "id": "9c7f292f",
   "metadata": {
    "execution": {
     "iopub.execute_input": "2022-06-20T21:27:47.774204Z",
     "iopub.status.busy": "2022-06-20T21:27:47.769764Z",
     "iopub.status.idle": "2022-06-20T21:27:54.976373Z",
     "shell.execute_reply": "2022-06-20T21:27:54.975538Z"
    },
    "papermill": {
     "duration": 7.312878,
     "end_time": "2022-06-20T21:27:54.978885",
     "exception": false,
     "start_time": "2022-06-20T21:27:47.666007",
     "status": "completed"
    },
    "tags": []
   },
   "outputs": [],
   "source": [
    "import tensorflow as tf\n",
    "import tensorflow_hub as hub\n",
    "import seaborn as sns\n",
    "import matplotlib.pyplot as plt"
   ]
  },
  {
   "cell_type": "markdown",
   "id": "b68a1a55",
   "metadata": {
    "papermill": {
     "duration": 0.078537,
     "end_time": "2022-06-20T21:27:55.136111",
     "exception": false,
     "start_time": "2022-06-20T21:27:55.057574",
     "status": "completed"
    },
    "tags": []
   },
   "source": [
    "# EDA"
   ]
  },
  {
   "cell_type": "code",
   "execution_count": 3,
   "id": "998ab85c",
   "metadata": {
    "execution": {
     "iopub.execute_input": "2022-06-20T21:27:55.295385Z",
     "iopub.status.busy": "2022-06-20T21:27:55.294669Z",
     "iopub.status.idle": "2022-06-20T21:27:55.397297Z",
     "shell.execute_reply": "2022-06-20T21:27:55.396216Z"
    },
    "papermill": {
     "duration": 0.186312,
     "end_time": "2022-06-20T21:27:55.400471",
     "exception": false,
     "start_time": "2022-06-20T21:27:55.214159",
     "status": "completed"
    },
    "tags": []
   },
   "outputs": [
    {
     "name": "stdout",
     "output_type": "stream",
     "text": [
      "(36473, 5)\n"
     ]
    },
    {
     "data": {
      "text/html": [
       "<div>\n",
       "<style scoped>\n",
       "    .dataframe tbody tr th:only-of-type {\n",
       "        vertical-align: middle;\n",
       "    }\n",
       "\n",
       "    .dataframe tbody tr th {\n",
       "        vertical-align: top;\n",
       "    }\n",
       "\n",
       "    .dataframe thead th {\n",
       "        text-align: right;\n",
       "    }\n",
       "</style>\n",
       "<table border=\"1\" class=\"dataframe\">\n",
       "  <thead>\n",
       "    <tr style=\"text-align: right;\">\n",
       "      <th></th>\n",
       "      <th>id</th>\n",
       "      <th>anchor</th>\n",
       "      <th>target</th>\n",
       "      <th>context</th>\n",
       "      <th>score</th>\n",
       "    </tr>\n",
       "  </thead>\n",
       "  <tbody>\n",
       "    <tr>\n",
       "      <th>0</th>\n",
       "      <td>37d61fd2272659b1</td>\n",
       "      <td>abatement</td>\n",
       "      <td>abatement of pollution</td>\n",
       "      <td>A47</td>\n",
       "      <td>0.50</td>\n",
       "    </tr>\n",
       "    <tr>\n",
       "      <th>1</th>\n",
       "      <td>7b9652b17b68b7a4</td>\n",
       "      <td>abatement</td>\n",
       "      <td>act of abating</td>\n",
       "      <td>A47</td>\n",
       "      <td>0.75</td>\n",
       "    </tr>\n",
       "    <tr>\n",
       "      <th>2</th>\n",
       "      <td>36d72442aefd8232</td>\n",
       "      <td>abatement</td>\n",
       "      <td>active catalyst</td>\n",
       "      <td>A47</td>\n",
       "      <td>0.25</td>\n",
       "    </tr>\n",
       "    <tr>\n",
       "      <th>3</th>\n",
       "      <td>5296b0c19e1ce60e</td>\n",
       "      <td>abatement</td>\n",
       "      <td>eliminating process</td>\n",
       "      <td>A47</td>\n",
       "      <td>0.50</td>\n",
       "    </tr>\n",
       "    <tr>\n",
       "      <th>4</th>\n",
       "      <td>54c1e3b9184cb5b6</td>\n",
       "      <td>abatement</td>\n",
       "      <td>forest region</td>\n",
       "      <td>A47</td>\n",
       "      <td>0.00</td>\n",
       "    </tr>\n",
       "  </tbody>\n",
       "</table>\n",
       "</div>"
      ],
      "text/plain": [
       "                 id     anchor                  target context  score\n",
       "0  37d61fd2272659b1  abatement  abatement of pollution     A47   0.50\n",
       "1  7b9652b17b68b7a4  abatement          act of abating     A47   0.75\n",
       "2  36d72442aefd8232  abatement         active catalyst     A47   0.25\n",
       "3  5296b0c19e1ce60e  abatement     eliminating process     A47   0.50\n",
       "4  54c1e3b9184cb5b6  abatement           forest region     A47   0.00"
      ]
     },
     "execution_count": 3,
     "metadata": {},
     "output_type": "execute_result"
    }
   ],
   "source": [
    "train = pd.read_csv(\"/kaggle/input/us-patent-phrase-to-phrase-matching/train.csv\")\n",
    "print(train.shape)\n",
    "train.head()"
   ]
  },
  {
   "cell_type": "code",
   "execution_count": 4,
   "id": "3db2f8b2",
   "metadata": {
    "execution": {
     "iopub.execute_input": "2022-06-20T21:27:55.569522Z",
     "iopub.status.busy": "2022-06-20T21:27:55.568992Z",
     "iopub.status.idle": "2022-06-20T21:27:55.655317Z",
     "shell.execute_reply": "2022-06-20T21:27:55.654361Z"
    },
    "papermill": {
     "duration": 0.171026,
     "end_time": "2022-06-20T21:27:55.658012",
     "exception": false,
     "start_time": "2022-06-20T21:27:55.486986",
     "status": "completed"
    },
    "tags": []
   },
   "outputs": [
    {
     "data": {
      "text/html": [
       "<div>\n",
       "<style scoped>\n",
       "    .dataframe tbody tr th:only-of-type {\n",
       "        vertical-align: middle;\n",
       "    }\n",
       "\n",
       "    .dataframe tbody tr th {\n",
       "        vertical-align: top;\n",
       "    }\n",
       "\n",
       "    .dataframe thead th {\n",
       "        text-align: right;\n",
       "    }\n",
       "</style>\n",
       "<table border=\"1\" class=\"dataframe\">\n",
       "  <thead>\n",
       "    <tr style=\"text-align: right;\">\n",
       "      <th></th>\n",
       "      <th>id</th>\n",
       "      <th>anchor</th>\n",
       "      <th>target</th>\n",
       "      <th>context</th>\n",
       "    </tr>\n",
       "  </thead>\n",
       "  <tbody>\n",
       "    <tr>\n",
       "      <th>count</th>\n",
       "      <td>36473</td>\n",
       "      <td>36473</td>\n",
       "      <td>36473</td>\n",
       "      <td>36473</td>\n",
       "    </tr>\n",
       "    <tr>\n",
       "      <th>unique</th>\n",
       "      <td>36473</td>\n",
       "      <td>733</td>\n",
       "      <td>29340</td>\n",
       "      <td>106</td>\n",
       "    </tr>\n",
       "    <tr>\n",
       "      <th>top</th>\n",
       "      <td>37d61fd2272659b1</td>\n",
       "      <td>component composite coating</td>\n",
       "      <td>composition</td>\n",
       "      <td>H01</td>\n",
       "    </tr>\n",
       "    <tr>\n",
       "      <th>freq</th>\n",
       "      <td>1</td>\n",
       "      <td>152</td>\n",
       "      <td>24</td>\n",
       "      <td>2186</td>\n",
       "    </tr>\n",
       "  </tbody>\n",
       "</table>\n",
       "</div>"
      ],
      "text/plain": [
       "                      id                       anchor       target context\n",
       "count              36473                        36473        36473   36473\n",
       "unique             36473                          733        29340     106\n",
       "top     37d61fd2272659b1  component composite coating  composition     H01\n",
       "freq                   1                          152           24    2186"
      ]
     },
     "execution_count": 4,
     "metadata": {},
     "output_type": "execute_result"
    }
   ],
   "source": [
    "train.describe(include='object')"
   ]
  },
  {
   "cell_type": "code",
   "execution_count": 5,
   "id": "810ed064",
   "metadata": {
    "execution": {
     "iopub.execute_input": "2022-06-20T21:27:55.828248Z",
     "iopub.status.busy": "2022-06-20T21:27:55.827961Z",
     "iopub.status.idle": "2022-06-20T21:27:55.860703Z",
     "shell.execute_reply": "2022-06-20T21:27:55.859791Z"
    },
    "papermill": {
     "duration": 0.12537,
     "end_time": "2022-06-20T21:27:55.863552",
     "exception": false,
     "start_time": "2022-06-20T21:27:55.738182",
     "status": "completed"
    },
    "tags": []
   },
   "outputs": [
    {
     "data": {
      "text/html": [
       "<div>\n",
       "<style scoped>\n",
       "    .dataframe tbody tr th:only-of-type {\n",
       "        vertical-align: middle;\n",
       "    }\n",
       "\n",
       "    .dataframe tbody tr th {\n",
       "        vertical-align: top;\n",
       "    }\n",
       "\n",
       "    .dataframe thead th {\n",
       "        text-align: right;\n",
       "    }\n",
       "</style>\n",
       "<table border=\"1\" class=\"dataframe\">\n",
       "  <thead>\n",
       "    <tr style=\"text-align: right;\">\n",
       "      <th></th>\n",
       "      <th>id</th>\n",
       "      <th>anchor</th>\n",
       "      <th>target</th>\n",
       "      <th>context</th>\n",
       "    </tr>\n",
       "    <tr>\n",
       "      <th>score</th>\n",
       "      <th></th>\n",
       "      <th></th>\n",
       "      <th></th>\n",
       "      <th></th>\n",
       "    </tr>\n",
       "  </thead>\n",
       "  <tbody>\n",
       "    <tr>\n",
       "      <th>0.00</th>\n",
       "      <td>7471</td>\n",
       "      <td>7471</td>\n",
       "      <td>7471</td>\n",
       "      <td>7471</td>\n",
       "    </tr>\n",
       "    <tr>\n",
       "      <th>0.25</th>\n",
       "      <td>11519</td>\n",
       "      <td>11519</td>\n",
       "      <td>11519</td>\n",
       "      <td>11519</td>\n",
       "    </tr>\n",
       "    <tr>\n",
       "      <th>0.50</th>\n",
       "      <td>12300</td>\n",
       "      <td>12300</td>\n",
       "      <td>12300</td>\n",
       "      <td>12300</td>\n",
       "    </tr>\n",
       "    <tr>\n",
       "      <th>0.75</th>\n",
       "      <td>4029</td>\n",
       "      <td>4029</td>\n",
       "      <td>4029</td>\n",
       "      <td>4029</td>\n",
       "    </tr>\n",
       "    <tr>\n",
       "      <th>1.00</th>\n",
       "      <td>1154</td>\n",
       "      <td>1154</td>\n",
       "      <td>1154</td>\n",
       "      <td>1154</td>\n",
       "    </tr>\n",
       "  </tbody>\n",
       "</table>\n",
       "</div>"
      ],
      "text/plain": [
       "          id  anchor  target  context\n",
       "score                                \n",
       "0.00    7471    7471    7471     7471\n",
       "0.25   11519   11519   11519    11519\n",
       "0.50   12300   12300   12300    12300\n",
       "0.75    4029    4029    4029     4029\n",
       "1.00    1154    1154    1154     1154"
      ]
     },
     "execution_count": 5,
     "metadata": {},
     "output_type": "execute_result"
    }
   ],
   "source": [
    "train.groupby('score').count()"
   ]
  },
  {
   "cell_type": "markdown",
   "id": "9cdff9e7",
   "metadata": {
    "papermill": {
     "duration": 0.083312,
     "end_time": "2022-06-20T21:27:56.035735",
     "exception": false,
     "start_time": "2022-06-20T21:27:55.952423",
     "status": "completed"
    },
    "tags": []
   },
   "source": [
    "## Score meanings according to [Data Description](https://www.kaggle.com/competitions/us-patent-phrase-to-phrase-matching/data?select=train.csv)\n",
    "\n",
    "The scores are in the 0-1 range with increments of 0.25 with the following meanings:\n",
    "\n",
    "    1.0 - Very close match. This is typically an exact match except possibly for differences in conjugation, quantity (e.g. singular vs. plural), and addition or removal of stopwords (e.g. “the”, “and”, “or”).\n",
    "    0.75 - Close synonym, e.g. “mobile phone” vs. “cellphone”. This also includes abbreviations, e.g. \"TCP\" -> \"transmission control protocol\".\n",
    "    0.5 - Synonyms which don’t have the same meaning (same function, same properties). This includes broad-narrow (hyponym) and narrow-broad (hypernym) matches.\n",
    "    0.25 - Somewhat related, e.g. the two phrases are in the same high level domain but are not synonyms. This also includes antonyms.\n",
    "    0.0 - Unrelated.\n"
   ]
  },
  {
   "cell_type": "markdown",
   "id": "01158beb",
   "metadata": {
    "papermill": {
     "duration": 0.081566,
     "end_time": "2022-06-20T21:27:56.199762",
     "exception": false,
     "start_time": "2022-06-20T21:27:56.118196",
     "status": "completed"
    },
    "tags": []
   },
   "source": [
    "# Test Corpus"
   ]
  },
  {
   "cell_type": "code",
   "execution_count": 6,
   "id": "7094295c",
   "metadata": {
    "execution": {
     "iopub.execute_input": "2022-06-20T21:27:56.361033Z",
     "iopub.status.busy": "2022-06-20T21:27:56.360738Z",
     "iopub.status.idle": "2022-06-20T21:27:56.369995Z",
     "shell.execute_reply": "2022-06-20T21:27:56.369287Z"
    },
    "papermill": {
     "duration": 0.091393,
     "end_time": "2022-06-20T21:27:56.371946",
     "exception": false,
     "start_time": "2022-06-20T21:27:56.280553",
     "status": "completed"
    },
    "tags": []
   },
   "outputs": [],
   "source": [
    "test = pd.read_csv(\"/kaggle/input/us-patent-phrase-to-phrase-matching/test.csv\")"
   ]
  },
  {
   "cell_type": "code",
   "execution_count": 7,
   "id": "d6d01538",
   "metadata": {
    "execution": {
     "iopub.execute_input": "2022-06-20T21:27:56.534542Z",
     "iopub.status.busy": "2022-06-20T21:27:56.534282Z",
     "iopub.status.idle": "2022-06-20T21:27:56.539549Z",
     "shell.execute_reply": "2022-06-20T21:27:56.538779Z"
    },
    "papermill": {
     "duration": 0.090564,
     "end_time": "2022-06-20T21:27:56.541661",
     "exception": false,
     "start_time": "2022-06-20T21:27:56.451097",
     "status": "completed"
    },
    "tags": []
   },
   "outputs": [
    {
     "data": {
      "text/plain": [
       "(36, 4)"
      ]
     },
     "execution_count": 7,
     "metadata": {},
     "output_type": "execute_result"
    }
   ],
   "source": [
    "test.shape"
   ]
  },
  {
   "cell_type": "code",
   "execution_count": 8,
   "id": "1766daf0",
   "metadata": {
    "execution": {
     "iopub.execute_input": "2022-06-20T21:27:56.707570Z",
     "iopub.status.busy": "2022-06-20T21:27:56.706752Z",
     "iopub.status.idle": "2022-06-20T21:27:56.711960Z",
     "shell.execute_reply": "2022-06-20T21:27:56.711152Z"
    },
    "papermill": {
     "duration": 0.091615,
     "end_time": "2022-06-20T21:27:56.714013",
     "exception": false,
     "start_time": "2022-06-20T21:27:56.622398",
     "status": "completed"
    },
    "tags": []
   },
   "outputs": [],
   "source": [
    "def cosine(u, v):\n",
    "    \"\"\"\n",
    "    cosine similarity definition\n",
    "    \"\"\"\n",
    "    return np.dot(u, v) / (np.linalg.norm(u) * np.linalg.norm(v))"
   ]
  },
  {
   "cell_type": "markdown",
   "id": "88fff689",
   "metadata": {
    "papermill": {
     "duration": 0.082336,
     "end_time": "2022-06-20T21:27:56.878079",
     "exception": false,
     "start_time": "2022-06-20T21:27:56.795743",
     "status": "completed"
    },
    "tags": []
   },
   "source": [
    "# External Context"
   ]
  },
  {
   "cell_type": "code",
   "execution_count": 9,
   "id": "c59b7b4f",
   "metadata": {
    "execution": {
     "iopub.execute_input": "2022-06-20T21:27:57.045937Z",
     "iopub.status.busy": "2022-06-20T21:27:57.045618Z",
     "iopub.status.idle": "2022-06-20T21:27:57.048768Z",
     "shell.execute_reply": "2022-06-20T21:27:57.048072Z"
    },
    "papermill": {
     "duration": 0.089509,
     "end_time": "2022-06-20T21:27:57.050532",
     "exception": false,
     "start_time": "2022-06-20T21:27:56.961023",
     "status": "completed"
    },
    "tags": []
   },
   "outputs": [],
   "source": [
    "# ajouter le contexte https://www.cooperativepatentclassification.org/Archive\n",
    "# extraire le contexte du fichier xml"
   ]
  },
  {
   "cell_type": "code",
   "execution_count": 10,
   "id": "25cc6ff5",
   "metadata": {
    "execution": {
     "iopub.execute_input": "2022-06-20T21:27:57.218652Z",
     "iopub.status.busy": "2022-06-20T21:27:57.218368Z",
     "iopub.status.idle": "2022-06-20T21:27:58.201753Z",
     "shell.execute_reply": "2022-06-20T21:27:58.200815Z"
    },
    "papermill": {
     "duration": 1.074299,
     "end_time": "2022-06-20T21:27:58.208461",
     "exception": false,
     "start_time": "2022-06-20T21:27:57.134162",
     "status": "completed"
    },
    "tags": []
   },
   "outputs": [
    {
     "name": "stdout",
     "output_type": "stream",
     "text": [
      "(260476, 7)\n"
     ]
    },
    {
     "data": {
      "text/html": [
       "<div>\n",
       "<style scoped>\n",
       "    .dataframe tbody tr th:only-of-type {\n",
       "        vertical-align: middle;\n",
       "    }\n",
       "\n",
       "    .dataframe tbody tr th {\n",
       "        vertical-align: top;\n",
       "    }\n",
       "\n",
       "    .dataframe thead th {\n",
       "        text-align: right;\n",
       "    }\n",
       "</style>\n",
       "<table border=\"1\" class=\"dataframe\">\n",
       "  <thead>\n",
       "    <tr style=\"text-align: right;\">\n",
       "      <th></th>\n",
       "      <th>code</th>\n",
       "      <th>title</th>\n",
       "      <th>section</th>\n",
       "      <th>class</th>\n",
       "      <th>subclass</th>\n",
       "      <th>group</th>\n",
       "      <th>main_group</th>\n",
       "    </tr>\n",
       "  </thead>\n",
       "  <tbody>\n",
       "    <tr>\n",
       "      <th>0</th>\n",
       "      <td>A</td>\n",
       "      <td>HUMAN NECESSITIES</td>\n",
       "      <td>A</td>\n",
       "      <td>NaN</td>\n",
       "      <td>NaN</td>\n",
       "      <td>NaN</td>\n",
       "      <td>NaN</td>\n",
       "    </tr>\n",
       "    <tr>\n",
       "      <th>1</th>\n",
       "      <td>A01</td>\n",
       "      <td>AGRICULTURE; FORESTRY; ANIMAL HUSBANDRY; HUNTI...</td>\n",
       "      <td>A</td>\n",
       "      <td>1.0</td>\n",
       "      <td>NaN</td>\n",
       "      <td>NaN</td>\n",
       "      <td>NaN</td>\n",
       "    </tr>\n",
       "    <tr>\n",
       "      <th>2</th>\n",
       "      <td>A01B</td>\n",
       "      <td>SOIL WORKING IN AGRICULTURE OR FORESTRY; PARTS...</td>\n",
       "      <td>A</td>\n",
       "      <td>1.0</td>\n",
       "      <td>B</td>\n",
       "      <td>NaN</td>\n",
       "      <td>NaN</td>\n",
       "    </tr>\n",
       "    <tr>\n",
       "      <th>3</th>\n",
       "      <td>A01B1/00</td>\n",
       "      <td>Hand tools (edge trimmers for lawns A01G3/06  ...</td>\n",
       "      <td>A</td>\n",
       "      <td>1.0</td>\n",
       "      <td>B</td>\n",
       "      <td>1.0</td>\n",
       "      <td>0.0</td>\n",
       "    </tr>\n",
       "    <tr>\n",
       "      <th>4</th>\n",
       "      <td>A01B1/02</td>\n",
       "      <td>Spades; Shovels {(hand-operated dredgers E02F3...</td>\n",
       "      <td>A</td>\n",
       "      <td>1.0</td>\n",
       "      <td>B</td>\n",
       "      <td>1.0</td>\n",
       "      <td>2.0</td>\n",
       "    </tr>\n",
       "  </tbody>\n",
       "</table>\n",
       "</div>"
      ],
      "text/plain": [
       "       code                                              title section  class  \\\n",
       "0         A                                  HUMAN NECESSITIES       A    NaN   \n",
       "1       A01  AGRICULTURE; FORESTRY; ANIMAL HUSBANDRY; HUNTI...       A    1.0   \n",
       "2      A01B  SOIL WORKING IN AGRICULTURE OR FORESTRY; PARTS...       A    1.0   \n",
       "3  A01B1/00  Hand tools (edge trimmers for lawns A01G3/06  ...       A    1.0   \n",
       "4  A01B1/02  Spades; Shovels {(hand-operated dredgers E02F3...       A    1.0   \n",
       "\n",
       "  subclass  group  main_group  \n",
       "0      NaN    NaN         NaN  \n",
       "1      NaN    NaN         NaN  \n",
       "2        B    NaN         NaN  \n",
       "3        B    1.0         0.0  \n",
       "4        B    1.0         2.0  "
      ]
     },
     "execution_count": 10,
     "metadata": {},
     "output_type": "execute_result"
    }
   ],
   "source": [
    "titles = pd.read_csv(\"../input/cpc-codes/titles.csv\")\n",
    "print(titles.shape)\n",
    "titles.head()"
   ]
  },
  {
   "cell_type": "markdown",
   "id": "5187d68c",
   "metadata": {
    "papermill": {
     "duration": 0.095754,
     "end_time": "2022-06-20T21:27:58.405527",
     "exception": false,
     "start_time": "2022-06-20T21:27:58.309773",
     "status": "completed"
    },
    "tags": []
   },
   "source": [
    "# HuggingFace AutoModelForSequenceClassification"
   ]
  },
  {
   "cell_type": "code",
   "execution_count": 11,
   "id": "a7ea6542",
   "metadata": {
    "execution": {
     "iopub.execute_input": "2022-06-20T21:27:58.589352Z",
     "iopub.status.busy": "2022-06-20T21:27:58.588667Z",
     "iopub.status.idle": "2022-06-20T21:27:58.797962Z",
     "shell.execute_reply": "2022-06-20T21:27:58.797122Z"
    },
    "papermill": {
     "duration": 0.30469,
     "end_time": "2022-06-20T21:27:58.800869",
     "exception": false,
     "start_time": "2022-06-20T21:27:58.496179",
     "status": "completed"
    },
    "tags": []
   },
   "outputs": [],
   "source": [
    "import numpy as np # linear algebra\n",
    "import pandas as pd # data processing, CSV file I/O (e.g. pd.read_csv)\n",
    "import os\n",
    "from scipy.stats import pearsonr\n",
    "from scipy.stats import spearmanr # pour trouver les correspondances entre les résultats sur des échelles variées\n",
    "from sklearn.model_selection import StratifiedGroupKFold"
   ]
  },
  {
   "cell_type": "code",
   "execution_count": 12,
   "id": "b86d7268",
   "metadata": {
    "execution": {
     "iopub.execute_input": "2022-06-20T21:27:58.985641Z",
     "iopub.status.busy": "2022-06-20T21:27:58.985325Z",
     "iopub.status.idle": "2022-06-20T21:28:02.076990Z",
     "shell.execute_reply": "2022-06-20T21:28:02.076164Z"
    },
    "papermill": {
     "duration": 3.18658,
     "end_time": "2022-06-20T21:28:02.079300",
     "exception": false,
     "start_time": "2022-06-20T21:27:58.892720",
     "status": "completed"
    },
    "tags": []
   },
   "outputs": [],
   "source": [
    "import transformers\n",
    "from transformers import TrainingArguments,Trainer\n",
    "from transformers import AutoModelForSequenceClassification,AutoTokenizer\n",
    "\n",
    "import torch\n",
    "import datasets\n",
    "from datasets import load_dataset, Dataset, DatasetDict"
   ]
  },
  {
   "cell_type": "code",
   "execution_count": 13,
   "id": "0c6fa636",
   "metadata": {
    "execution": {
     "iopub.execute_input": "2022-06-20T21:28:02.246620Z",
     "iopub.status.busy": "2022-06-20T21:28:02.246322Z",
     "iopub.status.idle": "2022-06-20T21:28:02.250418Z",
     "shell.execute_reply": "2022-06-20T21:28:02.249477Z"
    },
    "papermill": {
     "duration": 0.090353,
     "end_time": "2022-06-20T21:28:02.252716",
     "exception": false,
     "start_time": "2022-06-20T21:28:02.162363",
     "status": "completed"
    },
    "tags": []
   },
   "outputs": [],
   "source": [
    "import warnings\n",
    "import logging\n",
    "from IPython.display import display, HTML"
   ]
  },
  {
   "cell_type": "markdown",
   "id": "6a1bcab7",
   "metadata": {
    "papermill": {
     "duration": 0.081287,
     "end_time": "2022-06-20T21:28:02.416752",
     "exception": false,
     "start_time": "2022-06-20T21:28:02.335465",
     "status": "completed"
    },
    "tags": []
   },
   "source": [
    "# Corpora merge"
   ]
  },
  {
   "cell_type": "code",
   "execution_count": 14,
   "id": "4fc3a6cf",
   "metadata": {
    "execution": {
     "iopub.execute_input": "2022-06-20T21:28:02.582585Z",
     "iopub.status.busy": "2022-06-20T21:28:02.582309Z",
     "iopub.status.idle": "2022-06-20T21:28:02.986513Z",
     "shell.execute_reply": "2022-06-20T21:28:02.985354Z"
    },
    "papermill": {
     "duration": 0.491003,
     "end_time": "2022-06-20T21:28:02.989258",
     "exception": false,
     "start_time": "2022-06-20T21:28:02.498255",
     "status": "completed"
    },
    "tags": []
   },
   "outputs": [
    {
     "name": "stdout",
     "output_type": "stream",
     "text": [
      "(36473, 6)\n"
     ]
    },
    {
     "data": {
      "text/html": [
       "<div>\n",
       "<style scoped>\n",
       "    .dataframe tbody tr th:only-of-type {\n",
       "        vertical-align: middle;\n",
       "    }\n",
       "\n",
       "    .dataframe tbody tr th {\n",
       "        vertical-align: top;\n",
       "    }\n",
       "\n",
       "    .dataframe thead th {\n",
       "        text-align: right;\n",
       "    }\n",
       "</style>\n",
       "<table border=\"1\" class=\"dataframe\">\n",
       "  <thead>\n",
       "    <tr style=\"text-align: right;\">\n",
       "      <th></th>\n",
       "      <th>id</th>\n",
       "      <th>anchor</th>\n",
       "      <th>target</th>\n",
       "      <th>context</th>\n",
       "      <th>score</th>\n",
       "      <th>section</th>\n",
       "    </tr>\n",
       "  </thead>\n",
       "  <tbody>\n",
       "    <tr>\n",
       "      <th>0</th>\n",
       "      <td>37d61fd2272659b1</td>\n",
       "      <td>abatement</td>\n",
       "      <td>abatement of pollution</td>\n",
       "      <td>A47</td>\n",
       "      <td>0.50</td>\n",
       "      <td>A</td>\n",
       "    </tr>\n",
       "    <tr>\n",
       "      <th>1</th>\n",
       "      <td>7b9652b17b68b7a4</td>\n",
       "      <td>abatement</td>\n",
       "      <td>act of abating</td>\n",
       "      <td>A47</td>\n",
       "      <td>0.75</td>\n",
       "      <td>A</td>\n",
       "    </tr>\n",
       "    <tr>\n",
       "      <th>2</th>\n",
       "      <td>36d72442aefd8232</td>\n",
       "      <td>abatement</td>\n",
       "      <td>active catalyst</td>\n",
       "      <td>A47</td>\n",
       "      <td>0.25</td>\n",
       "      <td>A</td>\n",
       "    </tr>\n",
       "    <tr>\n",
       "      <th>3</th>\n",
       "      <td>5296b0c19e1ce60e</td>\n",
       "      <td>abatement</td>\n",
       "      <td>eliminating process</td>\n",
       "      <td>A47</td>\n",
       "      <td>0.50</td>\n",
       "      <td>A</td>\n",
       "    </tr>\n",
       "    <tr>\n",
       "      <th>4</th>\n",
       "      <td>54c1e3b9184cb5b6</td>\n",
       "      <td>abatement</td>\n",
       "      <td>forest region</td>\n",
       "      <td>A47</td>\n",
       "      <td>0.00</td>\n",
       "      <td>A</td>\n",
       "    </tr>\n",
       "  </tbody>\n",
       "</table>\n",
       "</div>"
      ],
      "text/plain": [
       "                 id     anchor                  target context  score section\n",
       "0  37d61fd2272659b1  abatement  abatement of pollution     A47   0.50       A\n",
       "1  7b9652b17b68b7a4  abatement          act of abating     A47   0.75       A\n",
       "2  36d72442aefd8232  abatement         active catalyst     A47   0.25       A\n",
       "3  5296b0c19e1ce60e  abatement     eliminating process     A47   0.50       A\n",
       "4  54c1e3b9184cb5b6  abatement           forest region     A47   0.00       A"
      ]
     },
     "metadata": {},
     "output_type": "display_data"
    },
    {
     "data": {
      "text/html": [
       "<div>\n",
       "<style scoped>\n",
       "    .dataframe tbody tr th:only-of-type {\n",
       "        vertical-align: middle;\n",
       "    }\n",
       "\n",
       "    .dataframe tbody tr th {\n",
       "        vertical-align: top;\n",
       "    }\n",
       "\n",
       "    .dataframe thead th {\n",
       "        text-align: right;\n",
       "    }\n",
       "</style>\n",
       "<table border=\"1\" class=\"dataframe\">\n",
       "  <thead>\n",
       "    <tr style=\"text-align: right;\">\n",
       "      <th></th>\n",
       "      <th>context</th>\n",
       "      <th>title</th>\n",
       "      <th>section</th>\n",
       "      <th>class</th>\n",
       "      <th>subclass</th>\n",
       "      <th>group</th>\n",
       "      <th>main_group</th>\n",
       "    </tr>\n",
       "  </thead>\n",
       "  <tbody>\n",
       "    <tr>\n",
       "      <th>0</th>\n",
       "      <td>A</td>\n",
       "      <td>HUMAN NECESSITIES</td>\n",
       "      <td>A</td>\n",
       "      <td>NaN</td>\n",
       "      <td>NaN</td>\n",
       "      <td>NaN</td>\n",
       "      <td>NaN</td>\n",
       "    </tr>\n",
       "    <tr>\n",
       "      <th>1</th>\n",
       "      <td>A01</td>\n",
       "      <td>AGRICULTURE; FORESTRY; ANIMAL HUSBANDRY; HUNTI...</td>\n",
       "      <td>A</td>\n",
       "      <td>1.0</td>\n",
       "      <td>NaN</td>\n",
       "      <td>NaN</td>\n",
       "      <td>NaN</td>\n",
       "    </tr>\n",
       "    <tr>\n",
       "      <th>2</th>\n",
       "      <td>A01B</td>\n",
       "      <td>SOIL WORKING IN AGRICULTURE OR FORESTRY; PARTS...</td>\n",
       "      <td>A</td>\n",
       "      <td>1.0</td>\n",
       "      <td>B</td>\n",
       "      <td>NaN</td>\n",
       "      <td>NaN</td>\n",
       "    </tr>\n",
       "    <tr>\n",
       "      <th>3</th>\n",
       "      <td>A01B1/00</td>\n",
       "      <td>Hand tools (edge trimmers for lawns A01G3/06  ...</td>\n",
       "      <td>A</td>\n",
       "      <td>1.0</td>\n",
       "      <td>B</td>\n",
       "      <td>1.0</td>\n",
       "      <td>0.0</td>\n",
       "    </tr>\n",
       "    <tr>\n",
       "      <th>4</th>\n",
       "      <td>A01B1/02</td>\n",
       "      <td>Spades; Shovels {(hand-operated dredgers E02F3...</td>\n",
       "      <td>A</td>\n",
       "      <td>1.0</td>\n",
       "      <td>B</td>\n",
       "      <td>1.0</td>\n",
       "      <td>2.0</td>\n",
       "    </tr>\n",
       "  </tbody>\n",
       "</table>\n",
       "</div>"
      ],
      "text/plain": [
       "    context                                              title section  class  \\\n",
       "0         A                                  HUMAN NECESSITIES       A    NaN   \n",
       "1       A01  AGRICULTURE; FORESTRY; ANIMAL HUSBANDRY; HUNTI...       A    1.0   \n",
       "2      A01B  SOIL WORKING IN AGRICULTURE OR FORESTRY; PARTS...       A    1.0   \n",
       "3  A01B1/00  Hand tools (edge trimmers for lawns A01G3/06  ...       A    1.0   \n",
       "4  A01B1/02  Spades; Shovels {(hand-operated dredgers E02F3...       A    1.0   \n",
       "\n",
       "  subclass  group  main_group  \n",
       "0      NaN    NaN         NaN  \n",
       "1      NaN    NaN         NaN  \n",
       "2        B    NaN         NaN  \n",
       "3        B    1.0         0.0  \n",
       "4        B    1.0         2.0  "
      ]
     },
     "metadata": {},
     "output_type": "display_data"
    },
    {
     "data": {
      "text/html": [
       "<div>\n",
       "<style scoped>\n",
       "    .dataframe tbody tr th:only-of-type {\n",
       "        vertical-align: middle;\n",
       "    }\n",
       "\n",
       "    .dataframe tbody tr th {\n",
       "        vertical-align: top;\n",
       "    }\n",
       "\n",
       "    .dataframe thead th {\n",
       "        text-align: right;\n",
       "    }\n",
       "</style>\n",
       "<table border=\"1\" class=\"dataframe\">\n",
       "  <thead>\n",
       "    <tr style=\"text-align: right;\">\n",
       "      <th></th>\n",
       "      <th>id</th>\n",
       "      <th>anchor</th>\n",
       "      <th>target</th>\n",
       "      <th>context</th>\n",
       "      <th>score</th>\n",
       "      <th>section</th>\n",
       "      <th>context_title</th>\n",
       "      <th>section_title</th>\n",
       "    </tr>\n",
       "  </thead>\n",
       "  <tbody>\n",
       "    <tr>\n",
       "      <th>0</th>\n",
       "      <td>37d61fd2272659b1</td>\n",
       "      <td>abatement</td>\n",
       "      <td>abatement of pollution</td>\n",
       "      <td>A47</td>\n",
       "      <td>0.50</td>\n",
       "      <td>A</td>\n",
       "      <td>FURNITURE; DOMESTIC ARTICLES OR APPLIANCES; CO...</td>\n",
       "      <td>HUMAN NECESSITIES</td>\n",
       "    </tr>\n",
       "    <tr>\n",
       "      <th>1</th>\n",
       "      <td>7b9652b17b68b7a4</td>\n",
       "      <td>abatement</td>\n",
       "      <td>act of abating</td>\n",
       "      <td>A47</td>\n",
       "      <td>0.75</td>\n",
       "      <td>A</td>\n",
       "      <td>FURNITURE; DOMESTIC ARTICLES OR APPLIANCES; CO...</td>\n",
       "      <td>HUMAN NECESSITIES</td>\n",
       "    </tr>\n",
       "    <tr>\n",
       "      <th>2</th>\n",
       "      <td>36d72442aefd8232</td>\n",
       "      <td>abatement</td>\n",
       "      <td>active catalyst</td>\n",
       "      <td>A47</td>\n",
       "      <td>0.25</td>\n",
       "      <td>A</td>\n",
       "      <td>FURNITURE; DOMESTIC ARTICLES OR APPLIANCES; CO...</td>\n",
       "      <td>HUMAN NECESSITIES</td>\n",
       "    </tr>\n",
       "    <tr>\n",
       "      <th>3</th>\n",
       "      <td>5296b0c19e1ce60e</td>\n",
       "      <td>abatement</td>\n",
       "      <td>eliminating process</td>\n",
       "      <td>A47</td>\n",
       "      <td>0.50</td>\n",
       "      <td>A</td>\n",
       "      <td>FURNITURE; DOMESTIC ARTICLES OR APPLIANCES; CO...</td>\n",
       "      <td>HUMAN NECESSITIES</td>\n",
       "    </tr>\n",
       "    <tr>\n",
       "      <th>4</th>\n",
       "      <td>54c1e3b9184cb5b6</td>\n",
       "      <td>abatement</td>\n",
       "      <td>forest region</td>\n",
       "      <td>A47</td>\n",
       "      <td>0.00</td>\n",
       "      <td>A</td>\n",
       "      <td>FURNITURE; DOMESTIC ARTICLES OR APPLIANCES; CO...</td>\n",
       "      <td>HUMAN NECESSITIES</td>\n",
       "    </tr>\n",
       "  </tbody>\n",
       "</table>\n",
       "</div>"
      ],
      "text/plain": [
       "                 id     anchor                  target context  score section  \\\n",
       "0  37d61fd2272659b1  abatement  abatement of pollution     A47   0.50       A   \n",
       "1  7b9652b17b68b7a4  abatement          act of abating     A47   0.75       A   \n",
       "2  36d72442aefd8232  abatement         active catalyst     A47   0.25       A   \n",
       "3  5296b0c19e1ce60e  abatement     eliminating process     A47   0.50       A   \n",
       "4  54c1e3b9184cb5b6  abatement           forest region     A47   0.00       A   \n",
       "\n",
       "                                       context_title      section_title  \n",
       "0  FURNITURE; DOMESTIC ARTICLES OR APPLIANCES; CO...  HUMAN NECESSITIES  \n",
       "1  FURNITURE; DOMESTIC ARTICLES OR APPLIANCES; CO...  HUMAN NECESSITIES  \n",
       "2  FURNITURE; DOMESTIC ARTICLES OR APPLIANCES; CO...  HUMAN NECESSITIES  \n",
       "3  FURNITURE; DOMESTIC ARTICLES OR APPLIANCES; CO...  HUMAN NECESSITIES  \n",
       "4  FURNITURE; DOMESTIC ARTICLES OR APPLIANCES; CO...  HUMAN NECESSITIES  "
      ]
     },
     "metadata": {},
     "output_type": "display_data"
    }
   ],
   "source": [
    "train['section'] = train[\"context\"].str[0]\n",
    "print(train.shape)\n",
    "display(train.head())\n",
    "titles=titles.rename(columns={\"code\": \"context\"})\n",
    "display(titles.head())\n",
    "train = train.merge(titles[[\"context\", \"title\"]], on=\"context\").rename(columns={\"title\": \"context_title\"})\n",
    "train = train.merge(titles[[\"context\", \"title\"]].rename(columns={\"context\": \"section\"}), on=\"section\").rename(columns={\"title\": \"section_title\"})\n",
    "display(train.head())"
   ]
  },
  {
   "cell_type": "code",
   "execution_count": 15,
   "id": "a45efbe2",
   "metadata": {
    "execution": {
     "iopub.execute_input": "2022-06-20T21:28:03.163304Z",
     "iopub.status.busy": "2022-06-20T21:28:03.163035Z",
     "iopub.status.idle": "2022-06-20T21:28:03.167140Z",
     "shell.execute_reply": "2022-06-20T21:28:03.166379Z"
    },
    "papermill": {
     "duration": 0.093162,
     "end_time": "2022-06-20T21:28:03.168940",
     "exception": false,
     "start_time": "2022-06-20T21:28:03.075778",
     "status": "completed"
    },
    "tags": []
   },
   "outputs": [],
   "source": [
    "logging.disable(logging.WARNING)\n",
    "warnings.simplefilter('ignore')"
   ]
  },
  {
   "cell_type": "markdown",
   "id": "4802f269",
   "metadata": {
    "papermill": {
     "duration": 0.08764,
     "end_time": "2022-06-20T21:28:03.341098",
     "exception": false,
     "start_time": "2022-06-20T21:28:03.253458",
     "status": "completed"
    },
    "tags": []
   },
   "source": [
    "# PatentSBerta"
   ]
  },
  {
   "cell_type": "code",
   "execution_count": 16,
   "id": "d112a7be",
   "metadata": {
    "execution": {
     "iopub.execute_input": "2022-06-20T21:28:03.514502Z",
     "iopub.status.busy": "2022-06-20T21:28:03.513948Z",
     "iopub.status.idle": "2022-06-20T21:28:03.517578Z",
     "shell.execute_reply": "2022-06-20T21:28:03.516861Z"
    },
    "papermill": {
     "duration": 0.09251,
     "end_time": "2022-06-20T21:28:03.519483",
     "exception": false,
     "start_time": "2022-06-20T21:28:03.426973",
     "status": "completed"
    },
    "tags": []
   },
   "outputs": [],
   "source": [
    "#model_name = 'AI-Growth-Lab/PatentSBERTa_Kaggle_V3' #(online version)\n",
    "model_name = '../input/aigl-patentsberta-kaggle-v3'"
   ]
  },
  {
   "cell_type": "code",
   "execution_count": 17,
   "id": "f3fb18a9",
   "metadata": {
    "execution": {
     "iopub.execute_input": "2022-06-20T21:28:03.691318Z",
     "iopub.status.busy": "2022-06-20T21:28:03.690662Z",
     "iopub.status.idle": "2022-06-20T21:28:03.765659Z",
     "shell.execute_reply": "2022-06-20T21:28:03.764832Z"
    },
    "papermill": {
     "duration": 0.1636,
     "end_time": "2022-06-20T21:28:03.768155",
     "exception": false,
     "start_time": "2022-06-20T21:28:03.604555",
     "status": "completed"
    },
    "tags": []
   },
   "outputs": [],
   "source": [
    "tokenizer = AutoTokenizer.from_pretrained(model_name)"
   ]
  },
  {
   "cell_type": "code",
   "execution_count": 18,
   "id": "f8639418",
   "metadata": {
    "execution": {
     "iopub.execute_input": "2022-06-20T21:28:03.967773Z",
     "iopub.status.busy": "2022-06-20T21:28:03.967149Z",
     "iopub.status.idle": "2022-06-20T21:28:03.972885Z",
     "shell.execute_reply": "2022-06-20T21:28:03.972127Z"
    },
    "papermill": {
     "duration": 0.095944,
     "end_time": "2022-06-20T21:28:03.975259",
     "exception": false,
     "start_time": "2022-06-20T21:28:03.879315",
     "status": "completed"
    },
    "tags": []
   },
   "outputs": [
    {
     "data": {
      "text/plain": [
       "['<s>', '</s>', '[UNK]', '<pad>', '<mask>']"
      ]
     },
     "execution_count": 18,
     "metadata": {},
     "output_type": "execute_result"
    }
   ],
   "source": [
    "tokenizer.all_special_tokens"
   ]
  },
  {
   "cell_type": "code",
   "execution_count": 19,
   "id": "50f03fba",
   "metadata": {
    "execution": {
     "iopub.execute_input": "2022-06-20T21:28:04.147074Z",
     "iopub.status.busy": "2022-06-20T21:28:04.146813Z",
     "iopub.status.idle": "2022-06-20T21:28:04.153066Z",
     "shell.execute_reply": "2022-06-20T21:28:04.152302Z"
    },
    "papermill": {
     "duration": 0.093543,
     "end_time": "2022-06-20T21:28:04.155059",
     "exception": false,
     "start_time": "2022-06-20T21:28:04.061516",
     "status": "completed"
    },
    "tags": []
   },
   "outputs": [],
   "source": [
    "def clean(x):\n",
    "    t = x.lower()\n",
    "    t = t.replace(\"[\",'')\n",
    "    t = t.replace(\";\",'')\n",
    "    t = t.replace(\",\",'')\n",
    "    t = t.replace(\"]\",'')\n",
    "    t = t.replace(\":\",'')\n",
    "    t = t.replace(\"(\",'')\n",
    "    t = t.replace(\")\",'')\n",
    "    t = t.replace(\"{\",'')\n",
    "    t = t.replace(\"}\",'')\n",
    "    t = t.replace(\"/\",' ')\n",
    "    t = t.replace(\"-\",' ')\n",
    "    return t"
   ]
  },
  {
   "cell_type": "code",
   "execution_count": 20,
   "id": "5e61fe5f",
   "metadata": {
    "execution": {
     "iopub.execute_input": "2022-06-20T21:28:04.335767Z",
     "iopub.status.busy": "2022-06-20T21:28:04.334936Z",
     "iopub.status.idle": "2022-06-20T21:28:04.421974Z",
     "shell.execute_reply": "2022-06-20T21:28:04.421168Z"
    },
    "papermill": {
     "duration": 0.174426,
     "end_time": "2022-06-20T21:28:04.424208",
     "exception": false,
     "start_time": "2022-06-20T21:28:04.249782",
     "status": "completed"
    },
    "tags": []
   },
   "outputs": [],
   "source": [
    "train[\"inputs\"] = train[\"section_title\"].apply(clean) + \" [SEP] \" + train[\"anchor\"] + \" [SEP] \" + train[\"target\"]"
   ]
  },
  {
   "cell_type": "code",
   "execution_count": 21,
   "id": "1726f6b6",
   "metadata": {
    "execution": {
     "iopub.execute_input": "2022-06-20T21:28:04.590603Z",
     "iopub.status.busy": "2022-06-20T21:28:04.590057Z",
     "iopub.status.idle": "2022-06-20T21:28:04.593857Z",
     "shell.execute_reply": "2022-06-20T21:28:04.593164Z"
    },
    "papermill": {
     "duration": 0.089526,
     "end_time": "2022-06-20T21:28:04.595613",
     "exception": false,
     "start_time": "2022-06-20T21:28:04.506087",
     "status": "completed"
    },
    "tags": []
   },
   "outputs": [],
   "source": [
    "def tok_func(x):\n",
    "    return tokenizer(x[\"inputs\"])"
   ]
  },
  {
   "cell_type": "code",
   "execution_count": 22,
   "id": "d57e97b5",
   "metadata": {
    "execution": {
     "iopub.execute_input": "2022-06-20T21:28:04.764492Z",
     "iopub.status.busy": "2022-06-20T21:28:04.764057Z",
     "iopub.status.idle": "2022-06-20T21:28:04.810063Z",
     "shell.execute_reply": "2022-06-20T21:28:04.809212Z"
    },
    "papermill": {
     "duration": 0.133208,
     "end_time": "2022-06-20T21:28:04.812645",
     "exception": false,
     "start_time": "2022-06-20T21:28:04.679437",
     "status": "completed"
    },
    "tags": []
   },
   "outputs": [],
   "source": [
    "train_ds = Dataset.from_pandas(train).rename_column('score', 'label')"
   ]
  },
  {
   "cell_type": "code",
   "execution_count": 23,
   "id": "e59a30af",
   "metadata": {
    "execution": {
     "iopub.execute_input": "2022-06-20T21:28:04.986087Z",
     "iopub.status.busy": "2022-06-20T21:28:04.985335Z",
     "iopub.status.idle": "2022-06-20T21:28:08.092950Z",
     "shell.execute_reply": "2022-06-20T21:28:08.092201Z"
    },
    "papermill": {
     "duration": 3.195912,
     "end_time": "2022-06-20T21:28:08.094902",
     "exception": false,
     "start_time": "2022-06-20T21:28:04.898990",
     "status": "completed"
    },
    "tags": []
   },
   "outputs": [
    {
     "data": {
      "application/vnd.jupyter.widget-view+json": {
       "model_id": "ed37acbadb634e9bab0c86820e6f325f",
       "version_major": 2,
       "version_minor": 0
      },
      "text/plain": [
       "  0%|          | 0/37 [00:00<?, ?ba/s]"
      ]
     },
     "metadata": {},
     "output_type": "display_data"
    }
   ],
   "source": [
    "inps = \"anchor\",\"target\",\"context\",\"context_title\",\"section_title\"\n",
    "tok_ds = train_ds.map(tok_func, batched=True, remove_columns=inps+('inputs','id','section'))"
   ]
  },
  {
   "cell_type": "code",
   "execution_count": 24,
   "id": "efe8068c",
   "metadata": {
    "execution": {
     "iopub.execute_input": "2022-06-20T21:28:08.310037Z",
     "iopub.status.busy": "2022-06-20T21:28:08.309686Z",
     "iopub.status.idle": "2022-06-20T21:28:08.316560Z",
     "shell.execute_reply": "2022-06-20T21:28:08.315858Z"
    },
    "papermill": {
     "duration": 0.136038,
     "end_time": "2022-06-20T21:28:08.319437",
     "exception": false,
     "start_time": "2022-06-20T21:28:08.183399",
     "status": "completed"
    },
    "tags": []
   },
   "outputs": [
    {
     "data": {
      "text/plain": [
       "Dataset({\n",
       "    features: ['label', '__index_level_0__', 'input_ids', 'attention_mask'],\n",
       "    num_rows: 36473\n",
       "})"
      ]
     },
     "execution_count": 24,
     "metadata": {},
     "output_type": "execute_result"
    }
   ],
   "source": [
    "tok_ds"
   ]
  },
  {
   "cell_type": "code",
   "execution_count": 25,
   "id": "19cc908a",
   "metadata": {
    "execution": {
     "iopub.execute_input": "2022-06-20T21:28:08.609693Z",
     "iopub.status.busy": "2022-06-20T21:28:08.609350Z",
     "iopub.status.idle": "2022-06-20T21:28:08.614000Z",
     "shell.execute_reply": "2022-06-20T21:28:08.613236Z"
    },
    "papermill": {
     "duration": 0.156946,
     "end_time": "2022-06-20T21:28:08.616263",
     "exception": false,
     "start_time": "2022-06-20T21:28:08.459317",
     "status": "completed"
    },
    "tags": []
   },
   "outputs": [],
   "source": [
    "# bs - batch size\n",
    "lr,bs = 8e-5,64\n",
    "# wd: weight decay\n",
    "wd,epochs = 0.01,4"
   ]
  },
  {
   "cell_type": "code",
   "execution_count": 26,
   "id": "f350f4af",
   "metadata": {
    "execution": {
     "iopub.execute_input": "2022-06-20T21:28:08.902503Z",
     "iopub.status.busy": "2022-06-20T21:28:08.901866Z",
     "iopub.status.idle": "2022-06-20T21:28:08.909662Z",
     "shell.execute_reply": "2022-06-20T21:28:08.908709Z"
    },
    "papermill": {
     "duration": 0.153257,
     "end_time": "2022-06-20T21:28:08.911651",
     "exception": false,
     "start_time": "2022-06-20T21:28:08.758394",
     "status": "completed"
    },
    "tags": []
   },
   "outputs": [],
   "source": [
    "anchors = train[\"anchor\"].unique()\n",
    "np.random.shuffle(anchors)"
   ]
  },
  {
   "cell_type": "code",
   "execution_count": 27,
   "id": "9578ef4a",
   "metadata": {
    "execution": {
     "iopub.execute_input": "2022-06-20T21:28:09.089841Z",
     "iopub.status.busy": "2022-06-20T21:28:09.089341Z",
     "iopub.status.idle": "2022-06-20T21:28:09.094494Z",
     "shell.execute_reply": "2022-06-20T21:28:09.093759Z"
    },
    "papermill": {
     "duration": 0.091659,
     "end_time": "2022-06-20T21:28:09.096288",
     "exception": false,
     "start_time": "2022-06-20T21:28:09.004629",
     "status": "completed"
    },
    "tags": []
   },
   "outputs": [],
   "source": [
    "val_prop = 0.25\n",
    "val_sz = int(len(anchors)*val_prop)\n",
    "val_anchors = anchors[:val_sz]"
   ]
  },
  {
   "cell_type": "code",
   "execution_count": 28,
   "id": "0a06070e",
   "metadata": {
    "execution": {
     "iopub.execute_input": "2022-06-20T21:28:09.272148Z",
     "iopub.status.busy": "2022-06-20T21:28:09.271869Z",
     "iopub.status.idle": "2022-06-20T21:28:09.516475Z",
     "shell.execute_reply": "2022-06-20T21:28:09.515708Z"
    },
    "papermill": {
     "duration": 0.33675,
     "end_time": "2022-06-20T21:28:09.518497",
     "exception": false,
     "start_time": "2022-06-20T21:28:09.181747",
     "status": "completed"
    },
    "tags": []
   },
   "outputs": [
    {
     "data": {
      "text/plain": [
       "(9574, 26899)"
      ]
     },
     "execution_count": 28,
     "metadata": {},
     "output_type": "execute_result"
    }
   ],
   "source": [
    "is_val = np.isin(train.anchor, val_anchors)\n",
    "idxs = np.arange(len(train))\n",
    "val_idxs = idxs[ is_val]\n",
    "trn_idxs = idxs[~is_val]\n",
    "len(val_idxs),len(trn_idxs)"
   ]
  },
  {
   "cell_type": "code",
   "execution_count": 29,
   "id": "e2fa33bc",
   "metadata": {
    "execution": {
     "iopub.execute_input": "2022-06-20T21:28:09.699803Z",
     "iopub.status.busy": "2022-06-20T21:28:09.699289Z",
     "iopub.status.idle": "2022-06-20T21:28:09.721141Z",
     "shell.execute_reply": "2022-06-20T21:28:09.720295Z"
    },
    "papermill": {
     "duration": 0.114898,
     "end_time": "2022-06-20T21:28:09.723203",
     "exception": false,
     "start_time": "2022-06-20T21:28:09.608305",
     "status": "completed"
    },
    "tags": []
   },
   "outputs": [],
   "source": [
    "dds = DatasetDict({\"train\":tok_ds.select(trn_idxs),\n",
    "             \"test\": tok_ds.select(val_idxs)})"
   ]
  },
  {
   "cell_type": "code",
   "execution_count": 30,
   "id": "6bd87cf0",
   "metadata": {
    "execution": {
     "iopub.execute_input": "2022-06-20T21:28:09.905445Z",
     "iopub.status.busy": "2022-06-20T21:28:09.905132Z",
     "iopub.status.idle": "2022-06-20T21:28:09.910120Z",
     "shell.execute_reply": "2022-06-20T21:28:09.909278Z"
    },
    "papermill": {
     "duration": 0.100518,
     "end_time": "2022-06-20T21:28:09.912028",
     "exception": false,
     "start_time": "2022-06-20T21:28:09.811510",
     "status": "completed"
    },
    "tags": []
   },
   "outputs": [],
   "source": [
    "def corr(eval_pred): \n",
    "    logits, labels = eval_pred\n",
    "    logits = logits.reshape(-1)\n",
    "    return {'pearson': np.corrcoef(logits, labels)[0][1]}"
   ]
  },
  {
   "cell_type": "code",
   "execution_count": 31,
   "id": "07e3cfdf",
   "metadata": {
    "execution": {
     "iopub.execute_input": "2022-06-20T21:28:10.088790Z",
     "iopub.status.busy": "2022-06-20T21:28:10.088018Z",
     "iopub.status.idle": "2022-06-20T21:28:10.160067Z",
     "shell.execute_reply": "2022-06-20T21:28:10.159213Z"
    },
    "papermill": {
     "duration": 0.161836,
     "end_time": "2022-06-20T21:28:10.162349",
     "exception": false,
     "start_time": "2022-06-20T21:28:10.000513",
     "status": "completed"
    },
    "tags": []
   },
   "outputs": [],
   "source": [
    "#args = TrainingArguments('outputs', learning_rate=lr, warmup_ratio=0.1, lr_scheduler_type='cosine', fp16=True,\n",
    "    #evaluation_strategy=\"epoch\", per_device_train_batch_size=bs, per_device_eval_batch_size=bs*2,\n",
    "     #num_train_epochs=epochs, weight_decay=wd, report_to='none')\n",
    "args = TrainingArguments('outputs', learning_rate=lr, warmup_ratio=0.1, lr_scheduler_type='cosine',\n",
    "    evaluation_strategy=\"epoch\", per_device_train_batch_size=bs, per_device_eval_batch_size=bs*2,\n",
    "    num_train_epochs=epochs, weight_decay=wd, report_to='none')"
   ]
  },
  {
   "cell_type": "code",
   "execution_count": 32,
   "id": "30f3d0fe",
   "metadata": {
    "execution": {
     "iopub.execute_input": "2022-06-20T21:28:10.340469Z",
     "iopub.status.busy": "2022-06-20T21:28:10.339734Z",
     "iopub.status.idle": "2022-06-20T21:28:24.028240Z",
     "shell.execute_reply": "2022-06-20T21:28:24.027321Z"
    },
    "papermill": {
     "duration": 13.779062,
     "end_time": "2022-06-20T21:28:24.030433",
     "exception": false,
     "start_time": "2022-06-20T21:28:10.251371",
     "status": "completed"
    },
    "tags": []
   },
   "outputs": [],
   "source": [
    "model = AutoModelForSequenceClassification.from_pretrained(model_name, num_labels=1, ignore_mismatched_sizes=True)\n",
    "trainer = Trainer(model, args, train_dataset=dds['train'], eval_dataset=dds['test'],\n",
    "               tokenizer=tokenizer, compute_metrics=corr)"
   ]
  },
  {
   "cell_type": "code",
   "execution_count": 33,
   "id": "359a5756",
   "metadata": {
    "execution": {
     "iopub.execute_input": "2022-06-20T21:28:24.201700Z",
     "iopub.status.busy": "2022-06-20T21:28:24.201437Z",
     "iopub.status.idle": "2022-06-20T21:28:24.206737Z",
     "shell.execute_reply": "2022-06-20T21:28:24.206026Z"
    },
    "papermill": {
     "duration": 0.092885,
     "end_time": "2022-06-20T21:28:24.209011",
     "exception": false,
     "start_time": "2022-06-20T21:28:24.116126",
     "status": "completed"
    },
    "tags": []
   },
   "outputs": [
    {
     "data": {
      "text/plain": [
       "Dataset({\n",
       "    features: ['label', '__index_level_0__', 'input_ids', 'attention_mask'],\n",
       "    num_rows: 26899\n",
       "})"
      ]
     },
     "execution_count": 33,
     "metadata": {},
     "output_type": "execute_result"
    }
   ],
   "source": [
    "dds['train']"
   ]
  },
  {
   "cell_type": "code",
   "execution_count": 34,
   "id": "c7e7133e",
   "metadata": {
    "execution": {
     "iopub.execute_input": "2022-06-20T21:28:24.390445Z",
     "iopub.status.busy": "2022-06-20T21:28:24.389680Z",
     "iopub.status.idle": "2022-06-20T21:28:33.559388Z",
     "shell.execute_reply": "2022-06-20T21:28:33.558450Z"
    },
    "papermill": {
     "duration": 9.257045,
     "end_time": "2022-06-20T21:28:33.561673",
     "exception": false,
     "start_time": "2022-06-20T21:28:24.304628",
     "status": "completed"
    },
    "tags": []
   },
   "outputs": [
    {
     "data": {
      "text/html": [
       "\n",
       "    <div>\n",
       "      \n",
       "      <progress value='76' max='75' style='width:300px; height:20px; vertical-align: middle;'></progress>\n",
       "      [75/75 00:10]\n",
       "    </div>\n",
       "    "
      ],
      "text/plain": [
       "<IPython.core.display.HTML object>"
      ]
     },
     "metadata": {},
     "output_type": "display_data"
    }
   ],
   "source": [
    "eval = trainer.evaluate()"
   ]
  },
  {
   "cell_type": "code",
   "execution_count": 35,
   "id": "0251af87",
   "metadata": {
    "execution": {
     "iopub.execute_input": "2022-06-20T21:28:33.746534Z",
     "iopub.status.busy": "2022-06-20T21:28:33.746247Z",
     "iopub.status.idle": "2022-06-20T21:28:33.751779Z",
     "shell.execute_reply": "2022-06-20T21:28:33.751093Z"
    },
    "papermill": {
     "duration": 0.096693,
     "end_time": "2022-06-20T21:28:33.753711",
     "exception": false,
     "start_time": "2022-06-20T21:28:33.657018",
     "status": "completed"
    },
    "tags": []
   },
   "outputs": [
    {
     "data": {
      "text/plain": [
       "{'eval_loss': 0.011825671419501305,\n",
       " 'eval_pearson': 0.9191270175669126,\n",
       " 'eval_runtime': 9.1621,\n",
       " 'eval_samples_per_second': 1044.96,\n",
       " 'eval_steps_per_second': 8.186}"
      ]
     },
     "execution_count": 35,
     "metadata": {},
     "output_type": "execute_result"
    }
   ],
   "source": [
    "eval"
   ]
  },
  {
   "cell_type": "code",
   "execution_count": 36,
   "id": "a833f222",
   "metadata": {
    "execution": {
     "iopub.execute_input": "2022-06-20T21:28:33.929158Z",
     "iopub.status.busy": "2022-06-20T21:28:33.928242Z",
     "iopub.status.idle": "2022-06-20T21:28:33.934198Z",
     "shell.execute_reply": "2022-06-20T21:28:33.933447Z"
    },
    "papermill": {
     "duration": 0.095543,
     "end_time": "2022-06-20T21:28:33.936514",
     "exception": false,
     "start_time": "2022-06-20T21:28:33.840971",
     "status": "completed"
    },
    "tags": []
   },
   "outputs": [
    {
     "data": {
      "text/plain": [
       "1721536"
      ]
     },
     "execution_count": 36,
     "metadata": {},
     "output_type": "execute_result"
    }
   ],
   "source": [
    "trainer.num_examples(dds['train'])"
   ]
  },
  {
   "cell_type": "code",
   "execution_count": 37,
   "id": "be370410",
   "metadata": {
    "execution": {
     "iopub.execute_input": "2022-06-20T21:28:34.112957Z",
     "iopub.status.busy": "2022-06-20T21:28:34.112184Z",
     "iopub.status.idle": "2022-06-20T21:28:34.116031Z",
     "shell.execute_reply": "2022-06-20T21:28:34.115220Z"
    },
    "papermill": {
     "duration": 0.094506,
     "end_time": "2022-06-20T21:28:34.117982",
     "exception": false,
     "start_time": "2022-06-20T21:28:34.023476",
     "status": "completed"
    },
    "tags": []
   },
   "outputs": [],
   "source": [
    "#trainer.save_model()"
   ]
  },
  {
   "cell_type": "markdown",
   "id": "bb43b732",
   "metadata": {
    "papermill": {
     "duration": 0.116596,
     "end_time": "2022-06-20T21:28:34.319994",
     "exception": false,
     "start_time": "2022-06-20T21:28:34.203398",
     "status": "completed"
    },
    "tags": []
   },
   "source": [
    "# Test corpus preprocessing"
   ]
  },
  {
   "cell_type": "code",
   "execution_count": 38,
   "id": "f2338b59",
   "metadata": {
    "execution": {
     "iopub.execute_input": "2022-06-20T21:28:34.489337Z",
     "iopub.status.busy": "2022-06-20T21:28:34.489080Z",
     "iopub.status.idle": "2022-06-20T21:28:34.499459Z",
     "shell.execute_reply": "2022-06-20T21:28:34.498726Z"
    },
    "papermill": {
     "duration": 0.097159,
     "end_time": "2022-06-20T21:28:34.501354",
     "exception": false,
     "start_time": "2022-06-20T21:28:34.404195",
     "status": "completed"
    },
    "tags": []
   },
   "outputs": [
    {
     "data": {
      "text/html": [
       "<div>\n",
       "<style scoped>\n",
       "    .dataframe tbody tr th:only-of-type {\n",
       "        vertical-align: middle;\n",
       "    }\n",
       "\n",
       "    .dataframe tbody tr th {\n",
       "        vertical-align: top;\n",
       "    }\n",
       "\n",
       "    .dataframe thead th {\n",
       "        text-align: right;\n",
       "    }\n",
       "</style>\n",
       "<table border=\"1\" class=\"dataframe\">\n",
       "  <thead>\n",
       "    <tr style=\"text-align: right;\">\n",
       "      <th></th>\n",
       "      <th>id</th>\n",
       "      <th>anchor</th>\n",
       "      <th>target</th>\n",
       "      <th>context</th>\n",
       "    </tr>\n",
       "  </thead>\n",
       "  <tbody>\n",
       "    <tr>\n",
       "      <th>0</th>\n",
       "      <td>4112d61851461f60</td>\n",
       "      <td>opc drum</td>\n",
       "      <td>inorganic photoconductor drum</td>\n",
       "      <td>G02</td>\n",
       "    </tr>\n",
       "    <tr>\n",
       "      <th>1</th>\n",
       "      <td>09e418c93a776564</td>\n",
       "      <td>adjust gas flow</td>\n",
       "      <td>altering gas flow</td>\n",
       "      <td>F23</td>\n",
       "    </tr>\n",
       "    <tr>\n",
       "      <th>2</th>\n",
       "      <td>36baf228038e314b</td>\n",
       "      <td>lower trunnion</td>\n",
       "      <td>lower locating</td>\n",
       "      <td>B60</td>\n",
       "    </tr>\n",
       "    <tr>\n",
       "      <th>3</th>\n",
       "      <td>1f37ead645e7f0c8</td>\n",
       "      <td>cap component</td>\n",
       "      <td>upper portion</td>\n",
       "      <td>D06</td>\n",
       "    </tr>\n",
       "    <tr>\n",
       "      <th>4</th>\n",
       "      <td>71a5b6ad068d531f</td>\n",
       "      <td>neural stimulation</td>\n",
       "      <td>artificial neural network</td>\n",
       "      <td>H04</td>\n",
       "    </tr>\n",
       "  </tbody>\n",
       "</table>\n",
       "</div>"
      ],
      "text/plain": [
       "                 id              anchor                         target context\n",
       "0  4112d61851461f60            opc drum  inorganic photoconductor drum     G02\n",
       "1  09e418c93a776564     adjust gas flow              altering gas flow     F23\n",
       "2  36baf228038e314b      lower trunnion                 lower locating     B60\n",
       "3  1f37ead645e7f0c8       cap component                  upper portion     D06\n",
       "4  71a5b6ad068d531f  neural stimulation      artificial neural network     H04"
      ]
     },
     "execution_count": 38,
     "metadata": {},
     "output_type": "execute_result"
    }
   ],
   "source": [
    "test.head()"
   ]
  },
  {
   "cell_type": "code",
   "execution_count": 39,
   "id": "d78cc435",
   "metadata": {
    "execution": {
     "iopub.execute_input": "2022-06-20T21:28:34.676172Z",
     "iopub.status.busy": "2022-06-20T21:28:34.675897Z",
     "iopub.status.idle": "2022-06-20T21:28:34.935213Z",
     "shell.execute_reply": "2022-06-20T21:28:34.934464Z"
    },
    "papermill": {
     "duration": 0.349702,
     "end_time": "2022-06-20T21:28:34.937024",
     "exception": false,
     "start_time": "2022-06-20T21:28:34.587322",
     "status": "completed"
    },
    "tags": []
   },
   "outputs": [
    {
     "name": "stdout",
     "output_type": "stream",
     "text": [
      "(36, 5)\n"
     ]
    },
    {
     "data": {
      "text/html": [
       "<div>\n",
       "<style scoped>\n",
       "    .dataframe tbody tr th:only-of-type {\n",
       "        vertical-align: middle;\n",
       "    }\n",
       "\n",
       "    .dataframe tbody tr th {\n",
       "        vertical-align: top;\n",
       "    }\n",
       "\n",
       "    .dataframe thead th {\n",
       "        text-align: right;\n",
       "    }\n",
       "</style>\n",
       "<table border=\"1\" class=\"dataframe\">\n",
       "  <thead>\n",
       "    <tr style=\"text-align: right;\">\n",
       "      <th></th>\n",
       "      <th>context</th>\n",
       "      <th>title</th>\n",
       "      <th>section</th>\n",
       "      <th>class</th>\n",
       "      <th>subclass</th>\n",
       "      <th>group</th>\n",
       "      <th>main_group</th>\n",
       "    </tr>\n",
       "  </thead>\n",
       "  <tbody>\n",
       "    <tr>\n",
       "      <th>0</th>\n",
       "      <td>A</td>\n",
       "      <td>HUMAN NECESSITIES</td>\n",
       "      <td>A</td>\n",
       "      <td>NaN</td>\n",
       "      <td>NaN</td>\n",
       "      <td>NaN</td>\n",
       "      <td>NaN</td>\n",
       "    </tr>\n",
       "    <tr>\n",
       "      <th>1</th>\n",
       "      <td>A01</td>\n",
       "      <td>AGRICULTURE; FORESTRY; ANIMAL HUSBANDRY; HUNTI...</td>\n",
       "      <td>A</td>\n",
       "      <td>1.0</td>\n",
       "      <td>NaN</td>\n",
       "      <td>NaN</td>\n",
       "      <td>NaN</td>\n",
       "    </tr>\n",
       "    <tr>\n",
       "      <th>2</th>\n",
       "      <td>A01B</td>\n",
       "      <td>SOIL WORKING IN AGRICULTURE OR FORESTRY; PARTS...</td>\n",
       "      <td>A</td>\n",
       "      <td>1.0</td>\n",
       "      <td>B</td>\n",
       "      <td>NaN</td>\n",
       "      <td>NaN</td>\n",
       "    </tr>\n",
       "    <tr>\n",
       "      <th>3</th>\n",
       "      <td>A01B1/00</td>\n",
       "      <td>Hand tools (edge trimmers for lawns A01G3/06  ...</td>\n",
       "      <td>A</td>\n",
       "      <td>1.0</td>\n",
       "      <td>B</td>\n",
       "      <td>1.0</td>\n",
       "      <td>0.0</td>\n",
       "    </tr>\n",
       "    <tr>\n",
       "      <th>4</th>\n",
       "      <td>A01B1/02</td>\n",
       "      <td>Spades; Shovels {(hand-operated dredgers E02F3...</td>\n",
       "      <td>A</td>\n",
       "      <td>1.0</td>\n",
       "      <td>B</td>\n",
       "      <td>1.0</td>\n",
       "      <td>2.0</td>\n",
       "    </tr>\n",
       "  </tbody>\n",
       "</table>\n",
       "</div>"
      ],
      "text/plain": [
       "    context                                              title section  class  \\\n",
       "0         A                                  HUMAN NECESSITIES       A    NaN   \n",
       "1       A01  AGRICULTURE; FORESTRY; ANIMAL HUSBANDRY; HUNTI...       A    1.0   \n",
       "2      A01B  SOIL WORKING IN AGRICULTURE OR FORESTRY; PARTS...       A    1.0   \n",
       "3  A01B1/00  Hand tools (edge trimmers for lawns A01G3/06  ...       A    1.0   \n",
       "4  A01B1/02  Spades; Shovels {(hand-operated dredgers E02F3...       A    1.0   \n",
       "\n",
       "  subclass  group  main_group  \n",
       "0      NaN    NaN         NaN  \n",
       "1      NaN    NaN         NaN  \n",
       "2        B    NaN         NaN  \n",
       "3        B    1.0         0.0  \n",
       "4        B    1.0         2.0  "
      ]
     },
     "metadata": {},
     "output_type": "display_data"
    },
    {
     "data": {
      "text/html": [
       "<div>\n",
       "<style scoped>\n",
       "    .dataframe tbody tr th:only-of-type {\n",
       "        vertical-align: middle;\n",
       "    }\n",
       "\n",
       "    .dataframe tbody tr th {\n",
       "        vertical-align: top;\n",
       "    }\n",
       "\n",
       "    .dataframe thead th {\n",
       "        text-align: right;\n",
       "    }\n",
       "</style>\n",
       "<table border=\"1\" class=\"dataframe\">\n",
       "  <thead>\n",
       "    <tr style=\"text-align: right;\">\n",
       "      <th></th>\n",
       "      <th>id</th>\n",
       "      <th>anchor</th>\n",
       "      <th>target</th>\n",
       "      <th>context</th>\n",
       "      <th>section</th>\n",
       "      <th>context_title</th>\n",
       "      <th>section_title</th>\n",
       "    </tr>\n",
       "  </thead>\n",
       "  <tbody>\n",
       "    <tr>\n",
       "      <th>0</th>\n",
       "      <td>4112d61851461f60</td>\n",
       "      <td>opc drum</td>\n",
       "      <td>inorganic photoconductor drum</td>\n",
       "      <td>G02</td>\n",
       "      <td>G</td>\n",
       "      <td>OPTICS</td>\n",
       "      <td>PHYSICS</td>\n",
       "    </tr>\n",
       "    <tr>\n",
       "      <th>1</th>\n",
       "      <td>5203a36c501f1b7c</td>\n",
       "      <td>generate in layer</td>\n",
       "      <td>generate by layer</td>\n",
       "      <td>G02</td>\n",
       "      <td>G</td>\n",
       "      <td>OPTICS</td>\n",
       "      <td>PHYSICS</td>\n",
       "    </tr>\n",
       "    <tr>\n",
       "      <th>2</th>\n",
       "      <td>7aa5908a77a7ec24</td>\n",
       "      <td>el display</td>\n",
       "      <td>illumination</td>\n",
       "      <td>G02</td>\n",
       "      <td>G</td>\n",
       "      <td>OPTICS</td>\n",
       "      <td>PHYSICS</td>\n",
       "    </tr>\n",
       "    <tr>\n",
       "      <th>3</th>\n",
       "      <td>442c114ed5c4e3c9</td>\n",
       "      <td>tunneling capacitor</td>\n",
       "      <td>capacitor housing</td>\n",
       "      <td>G11</td>\n",
       "      <td>G</td>\n",
       "      <td>INFORMATION STORAGE</td>\n",
       "      <td>PHYSICS</td>\n",
       "    </tr>\n",
       "    <tr>\n",
       "      <th>4</th>\n",
       "      <td>12ca31f018a2e2b9</td>\n",
       "      <td>speed control means</td>\n",
       "      <td>control loop</td>\n",
       "      <td>G05</td>\n",
       "      <td>G</td>\n",
       "      <td>CONTROLLING; REGULATING</td>\n",
       "      <td>PHYSICS</td>\n",
       "    </tr>\n",
       "  </tbody>\n",
       "</table>\n",
       "</div>"
      ],
      "text/plain": [
       "                 id               anchor                         target  \\\n",
       "0  4112d61851461f60             opc drum  inorganic photoconductor drum   \n",
       "1  5203a36c501f1b7c    generate in layer              generate by layer   \n",
       "2  7aa5908a77a7ec24           el display                   illumination   \n",
       "3  442c114ed5c4e3c9  tunneling capacitor              capacitor housing   \n",
       "4  12ca31f018a2e2b9  speed control means                   control loop   \n",
       "\n",
       "  context section            context_title section_title  \n",
       "0     G02       G                   OPTICS       PHYSICS  \n",
       "1     G02       G                   OPTICS       PHYSICS  \n",
       "2     G02       G                   OPTICS       PHYSICS  \n",
       "3     G11       G      INFORMATION STORAGE       PHYSICS  \n",
       "4     G05       G  CONTROLLING; REGULATING       PHYSICS  "
      ]
     },
     "metadata": {},
     "output_type": "display_data"
    }
   ],
   "source": [
    "test['section'] = test[\"context\"].str[0]\n",
    "print(test.shape)\n",
    "display(titles.head())\n",
    "test = test.merge(titles[[\"context\", \"title\"]], on=\"context\").rename(columns={\"title\": \"context_title\"})\n",
    "test = test.merge(titles[[\"context\", \"title\"]].rename(columns={\"context\": \"section\"}), on=\"section\").rename(columns={\"title\": \"section_title\"})\n",
    "display(test.head())"
   ]
  },
  {
   "cell_type": "code",
   "execution_count": 40,
   "id": "f6d36d44",
   "metadata": {
    "execution": {
     "iopub.execute_input": "2022-06-20T21:28:35.118150Z",
     "iopub.status.busy": "2022-06-20T21:28:35.117362Z",
     "iopub.status.idle": "2022-06-20T21:28:35.124514Z",
     "shell.execute_reply": "2022-06-20T21:28:35.123707Z"
    },
    "papermill": {
     "duration": 0.098844,
     "end_time": "2022-06-20T21:28:35.126402",
     "exception": false,
     "start_time": "2022-06-20T21:28:35.027558",
     "status": "completed"
    },
    "tags": []
   },
   "outputs": [],
   "source": [
    "test[\"inputs\"] = test[\"section_title\"].apply(clean) + \" [SEP] \" + test[\"anchor\"] + \" [SEP] \" + test[\"target\"]"
   ]
  },
  {
   "cell_type": "code",
   "execution_count": 41,
   "id": "4aa658ad",
   "metadata": {
    "execution": {
     "iopub.execute_input": "2022-06-20T21:28:35.311276Z",
     "iopub.status.busy": "2022-06-20T21:28:35.311023Z",
     "iopub.status.idle": "2022-06-20T21:28:35.319036Z",
     "shell.execute_reply": "2022-06-20T21:28:35.318250Z"
    },
    "papermill": {
     "duration": 0.103586,
     "end_time": "2022-06-20T21:28:35.320940",
     "exception": false,
     "start_time": "2022-06-20T21:28:35.217354",
     "status": "completed"
    },
    "tags": []
   },
   "outputs": [],
   "source": [
    "test_ds = Dataset.from_pandas(test)"
   ]
  },
  {
   "cell_type": "code",
   "execution_count": 42,
   "id": "5dd4ffeb",
   "metadata": {
    "execution": {
     "iopub.execute_input": "2022-06-20T21:28:35.497633Z",
     "iopub.status.busy": "2022-06-20T21:28:35.497160Z",
     "iopub.status.idle": "2022-06-20T21:28:35.502255Z",
     "shell.execute_reply": "2022-06-20T21:28:35.501564Z"
    },
    "papermill": {
     "duration": 0.096715,
     "end_time": "2022-06-20T21:28:35.504557",
     "exception": false,
     "start_time": "2022-06-20T21:28:35.407842",
     "status": "completed"
    },
    "tags": []
   },
   "outputs": [
    {
     "data": {
      "text/plain": [
       "Dataset({\n",
       "    features: ['id', 'anchor', 'target', 'context', 'section', 'context_title', 'section_title', 'inputs', '__index_level_0__'],\n",
       "    num_rows: 36\n",
       "})"
      ]
     },
     "execution_count": 42,
     "metadata": {},
     "output_type": "execute_result"
    }
   ],
   "source": [
    "test_ds"
   ]
  },
  {
   "cell_type": "code",
   "execution_count": 43,
   "id": "cdd9489b",
   "metadata": {
    "execution": {
     "iopub.execute_input": "2022-06-20T21:28:35.689065Z",
     "iopub.status.busy": "2022-06-20T21:28:35.688448Z",
     "iopub.status.idle": "2022-06-20T21:28:35.747281Z",
     "shell.execute_reply": "2022-06-20T21:28:35.746474Z"
    },
    "papermill": {
     "duration": 0.155416,
     "end_time": "2022-06-20T21:28:35.749158",
     "exception": false,
     "start_time": "2022-06-20T21:28:35.593742",
     "status": "completed"
    },
    "tags": []
   },
   "outputs": [
    {
     "data": {
      "application/vnd.jupyter.widget-view+json": {
       "model_id": "501a2b0d8a7345d0b10f09c8c076abdd",
       "version_major": 2,
       "version_minor": 0
      },
      "text/plain": [
       "  0%|          | 0/1 [00:00<?, ?ba/s]"
      ]
     },
     "metadata": {},
     "output_type": "display_data"
    }
   ],
   "source": [
    "inps = \"anchor\",\"target\",\"context\",\"context_title\",\"section_title\"\n",
    "test_tok_ds = test_ds.map(tok_func, batched=True, remove_columns=inps+('inputs','id','section'))"
   ]
  },
  {
   "cell_type": "code",
   "execution_count": 44,
   "id": "2db81735",
   "metadata": {
    "execution": {
     "iopub.execute_input": "2022-06-20T21:28:35.930356Z",
     "iopub.status.busy": "2022-06-20T21:28:35.929469Z",
     "iopub.status.idle": "2022-06-20T21:28:35.977462Z",
     "shell.execute_reply": "2022-06-20T21:28:35.976650Z"
    },
    "papermill": {
     "duration": 0.141233,
     "end_time": "2022-06-20T21:28:35.979574",
     "exception": false,
     "start_time": "2022-06-20T21:28:35.838341",
     "status": "completed"
    },
    "tags": []
   },
   "outputs": [
    {
     "data": {
      "text/plain": [
       "array([[ 0.48749384],\n",
       "       [ 0.948901  ],\n",
       "       [ 0.28694433],\n",
       "       [ 0.50278115],\n",
       "       [ 0.31292188],\n",
       "       [ 0.73349011],\n",
       "       [ 0.4781965 ],\n",
       "       [ 0.79074466],\n",
       "       [ 1.05603766],\n",
       "       [ 0.2435392 ],\n",
       "       [ 0.24521858],\n",
       "       [ 0.55106753],\n",
       "       [-0.01621631],\n",
       "       [ 0.5375756 ],\n",
       "       [ 0.63313073],\n",
       "       [-0.00538462],\n",
       "       [ 0.17454851],\n",
       "       [ 0.79013216],\n",
       "       [ 0.79604405],\n",
       "       [-0.00391432],\n",
       "       [ 0.27687433],\n",
       "       [ 0.27295172],\n",
       "       [ 0.52643836],\n",
       "       [ 0.3617987 ],\n",
       "       [ 0.01224874],\n",
       "       [ 0.30376944],\n",
       "       [ 0.29838696],\n",
       "       [ 0.53494966],\n",
       "       [ 0.12322883],\n",
       "       [ 0.49000978],\n",
       "       [ 0.48843858],\n",
       "       [ 0.14339146],\n",
       "       [-0.01222257],\n",
       "       [ 0.1442931 ],\n",
       "       [-0.0065867 ],\n",
       "       [-0.00724098]])"
      ]
     },
     "execution_count": 44,
     "metadata": {},
     "output_type": "execute_result"
    }
   ],
   "source": [
    "preds_sberta = trainer.predict(test_tok_ds).predictions.astype(float)\n",
    "preds_sberta"
   ]
  },
  {
   "cell_type": "code",
   "execution_count": 45,
   "id": "16853d5e",
   "metadata": {
    "execution": {
     "iopub.execute_input": "2022-06-20T21:28:36.165767Z",
     "iopub.status.busy": "2022-06-20T21:28:36.165012Z",
     "iopub.status.idle": "2022-06-20T21:28:36.170517Z",
     "shell.execute_reply": "2022-06-20T21:28:36.169784Z"
    },
    "papermill": {
     "duration": 0.101604,
     "end_time": "2022-06-20T21:28:36.172659",
     "exception": false,
     "start_time": "2022-06-20T21:28:36.071055",
     "status": "completed"
    },
    "tags": []
   },
   "outputs": [
    {
     "data": {
      "text/plain": [
       "numpy.ndarray"
      ]
     },
     "execution_count": 45,
     "metadata": {},
     "output_type": "execute_result"
    }
   ],
   "source": [
    "type(preds_sberta)"
   ]
  },
  {
   "cell_type": "code",
   "execution_count": 46,
   "id": "4987eecc",
   "metadata": {
    "execution": {
     "iopub.execute_input": "2022-06-20T21:28:36.360837Z",
     "iopub.status.busy": "2022-06-20T21:28:36.360527Z",
     "iopub.status.idle": "2022-06-20T21:28:36.364766Z",
     "shell.execute_reply": "2022-06-20T21:28:36.364002Z"
    },
    "papermill": {
     "duration": 0.097269,
     "end_time": "2022-06-20T21:28:36.366627",
     "exception": false,
     "start_time": "2022-06-20T21:28:36.269358",
     "status": "completed"
    },
    "tags": []
   },
   "outputs": [],
   "source": [
    "del model_name, tokenizer, model, tok_ds, test_tok_ds, dds"
   ]
  },
  {
   "cell_type": "markdown",
   "id": "95d082fb",
   "metadata": {
    "papermill": {
     "duration": 0.096771,
     "end_time": "2022-06-20T21:28:36.555672",
     "exception": false,
     "start_time": "2022-06-20T21:28:36.458901",
     "status": "completed"
    },
    "tags": []
   },
   "source": [
    "# Deberta-V3_small inference"
   ]
  },
  {
   "cell_type": "code",
   "execution_count": 47,
   "id": "5468697d",
   "metadata": {
    "execution": {
     "iopub.execute_input": "2022-06-20T21:28:36.754293Z",
     "iopub.status.busy": "2022-06-20T21:28:36.753509Z",
     "iopub.status.idle": "2022-06-20T21:28:36.757474Z",
     "shell.execute_reply": "2022-06-20T21:28:36.756724Z"
    },
    "papermill": {
     "duration": 0.105764,
     "end_time": "2022-06-20T21:28:36.759366",
     "exception": false,
     "start_time": "2022-06-20T21:28:36.653602",
     "status": "completed"
    },
    "tags": []
   },
   "outputs": [],
   "source": [
    "#model_name = 'microsoft/deberta-v3-small' (online version)\n",
    "model_name = '../input/debertav3small'"
   ]
  },
  {
   "cell_type": "code",
   "execution_count": 48,
   "id": "be74ec24",
   "metadata": {
    "execution": {
     "iopub.execute_input": "2022-06-20T21:28:36.953967Z",
     "iopub.status.busy": "2022-06-20T21:28:36.953449Z",
     "iopub.status.idle": "2022-06-20T21:28:36.957840Z",
     "shell.execute_reply": "2022-06-20T21:28:36.957081Z"
    },
    "papermill": {
     "duration": 0.104081,
     "end_time": "2022-06-20T21:28:36.959740",
     "exception": false,
     "start_time": "2022-06-20T21:28:36.855659",
     "status": "completed"
    },
    "tags": []
   },
   "outputs": [],
   "source": [
    "def corr_deberta(eval_pred): return {'pearson': np.corrcoef(*eval_pred)[0][1]}"
   ]
  },
  {
   "cell_type": "code",
   "execution_count": 49,
   "id": "2a74cf7d",
   "metadata": {
    "execution": {
     "iopub.execute_input": "2022-06-20T21:28:37.152485Z",
     "iopub.status.busy": "2022-06-20T21:28:37.151723Z",
     "iopub.status.idle": "2022-06-20T21:28:37.974059Z",
     "shell.execute_reply": "2022-06-20T21:28:37.973232Z"
    },
    "papermill": {
     "duration": 0.922119,
     "end_time": "2022-06-20T21:28:37.976732",
     "exception": false,
     "start_time": "2022-06-20T21:28:37.054613",
     "status": "completed"
    },
    "tags": []
   },
   "outputs": [],
   "source": [
    "tokenizer = AutoTokenizer.from_pretrained(model_name)"
   ]
  },
  {
   "cell_type": "code",
   "execution_count": 50,
   "id": "3055e7f4",
   "metadata": {
    "execution": {
     "iopub.execute_input": "2022-06-20T21:28:38.168326Z",
     "iopub.status.busy": "2022-06-20T21:28:38.168045Z",
     "iopub.status.idle": "2022-06-20T21:28:38.173676Z",
     "shell.execute_reply": "2022-06-20T21:28:38.172860Z"
    },
    "papermill": {
     "duration": 0.103697,
     "end_time": "2022-06-20T21:28:38.175963",
     "exception": false,
     "start_time": "2022-06-20T21:28:38.072266",
     "status": "completed"
    },
    "tags": []
   },
   "outputs": [
    {
     "data": {
      "text/plain": [
       "['[CLS]', '[SEP]', '[UNK]', '[PAD]', '[MASK]']"
      ]
     },
     "execution_count": 50,
     "metadata": {},
     "output_type": "execute_result"
    }
   ],
   "source": [
    "tokenizer.all_special_tokens"
   ]
  },
  {
   "cell_type": "code",
   "execution_count": 51,
   "id": "0c2cbcba",
   "metadata": {
    "execution": {
     "iopub.execute_input": "2022-06-20T21:28:38.370109Z",
     "iopub.status.busy": "2022-06-20T21:28:38.369758Z",
     "iopub.status.idle": "2022-06-20T21:28:46.834240Z",
     "shell.execute_reply": "2022-06-20T21:28:46.833340Z"
    },
    "papermill": {
     "duration": 8.565288,
     "end_time": "2022-06-20T21:28:46.836468",
     "exception": false,
     "start_time": "2022-06-20T21:28:38.271180",
     "status": "completed"
    },
    "tags": []
   },
   "outputs": [
    {
     "data": {
      "application/vnd.jupyter.widget-view+json": {
       "model_id": "dc26c87e17314dbaa860c347adb7f816",
       "version_major": 2,
       "version_minor": 0
      },
      "text/plain": [
       "  0%|          | 0/37 [00:00<?, ?ba/s]"
      ]
     },
     "metadata": {},
     "output_type": "display_data"
    }
   ],
   "source": [
    "tok_ds = train_ds.map(tok_func, batched=True, remove_columns=inps+('inputs','id','section'))"
   ]
  },
  {
   "cell_type": "code",
   "execution_count": 52,
   "id": "6d03bfea",
   "metadata": {
    "execution": {
     "iopub.execute_input": "2022-06-20T21:28:47.031709Z",
     "iopub.status.busy": "2022-06-20T21:28:47.030976Z",
     "iopub.status.idle": "2022-06-20T21:28:47.054238Z",
     "shell.execute_reply": "2022-06-20T21:28:47.053409Z"
    },
    "papermill": {
     "duration": 0.124145,
     "end_time": "2022-06-20T21:28:47.056477",
     "exception": false,
     "start_time": "2022-06-20T21:28:46.932332",
     "status": "completed"
    },
    "tags": []
   },
   "outputs": [],
   "source": [
    "dds = DatasetDict({\"train\":tok_ds.select(trn_idxs),\n",
    "             \"test\": tok_ds.select(val_idxs)})"
   ]
  },
  {
   "cell_type": "code",
   "execution_count": 53,
   "id": "db39fe03",
   "metadata": {
    "execution": {
     "iopub.execute_input": "2022-06-20T21:28:47.253637Z",
     "iopub.status.busy": "2022-06-20T21:28:47.253015Z",
     "iopub.status.idle": "2022-06-20T21:28:52.710133Z",
     "shell.execute_reply": "2022-06-20T21:28:52.709275Z"
    },
    "papermill": {
     "duration": 5.558857,
     "end_time": "2022-06-20T21:28:52.713322",
     "exception": false,
     "start_time": "2022-06-20T21:28:47.154465",
     "status": "completed"
    },
    "tags": []
   },
   "outputs": [],
   "source": [
    "model = AutoModelForSequenceClassification.from_pretrained(model_name, num_labels=1)\n",
    "trainer = Trainer(model, args, train_dataset=dds['train'], eval_dataset=dds['test'],\n",
    "               tokenizer=tokenizer, compute_metrics=corr_deberta)"
   ]
  },
  {
   "cell_type": "code",
   "execution_count": 54,
   "id": "8154945b",
   "metadata": {
    "execution": {
     "iopub.execute_input": "2022-06-20T21:28:53.339138Z",
     "iopub.status.busy": "2022-06-20T21:28:53.338678Z",
     "iopub.status.idle": "2022-06-20T21:33:27.188719Z",
     "shell.execute_reply": "2022-06-20T21:33:27.187863Z"
    },
    "papermill": {
     "duration": 274.097506,
     "end_time": "2022-06-20T21:33:27.190604",
     "exception": false,
     "start_time": "2022-06-20T21:28:53.093098",
     "status": "completed"
    },
    "tags": []
   },
   "outputs": [
    {
     "data": {
      "text/html": [
       "\n",
       "    <div>\n",
       "      \n",
       "      <progress value='1684' max='1684' style='width:300px; height:20px; vertical-align: middle;'></progress>\n",
       "      [1684/1684 04:33, Epoch 4/4]\n",
       "    </div>\n",
       "    <table border=\"1\" class=\"dataframe\">\n",
       "  <thead>\n",
       " <tr style=\"text-align: left;\">\n",
       "      <th>Epoch</th>\n",
       "      <th>Training Loss</th>\n",
       "      <th>Validation Loss</th>\n",
       "      <th>Pearson</th>\n",
       "    </tr>\n",
       "  </thead>\n",
       "  <tbody>\n",
       "    <tr>\n",
       "      <td>1</td>\n",
       "      <td>No log</td>\n",
       "      <td>0.028442</td>\n",
       "      <td>0.777731</td>\n",
       "    </tr>\n",
       "    <tr>\n",
       "      <td>2</td>\n",
       "      <td>0.045600</td>\n",
       "      <td>0.025528</td>\n",
       "      <td>0.796421</td>\n",
       "    </tr>\n",
       "    <tr>\n",
       "      <td>3</td>\n",
       "      <td>0.019000</td>\n",
       "      <td>0.024905</td>\n",
       "      <td>0.804414</td>\n",
       "    </tr>\n",
       "    <tr>\n",
       "      <td>4</td>\n",
       "      <td>0.012200</td>\n",
       "      <td>0.025109</td>\n",
       "      <td>0.806257</td>\n",
       "    </tr>\n",
       "  </tbody>\n",
       "</table><p>"
      ],
      "text/plain": [
       "<IPython.core.display.HTML object>"
      ]
     },
     "metadata": {},
     "output_type": "display_data"
    },
    {
     "data": {
      "text/plain": [
       "TrainOutput(global_step=1684, training_loss=0.023978924878702595, metrics={'train_runtime': 273.8329, 'train_samples_per_second': 392.926, 'train_steps_per_second': 6.15, 'total_flos': 466030408777770.0, 'train_loss': 0.023978924878702595, 'epoch': 4.0})"
      ]
     },
     "execution_count": 54,
     "metadata": {},
     "output_type": "execute_result"
    }
   ],
   "source": [
    "trainer.train()"
   ]
  },
  {
   "cell_type": "code",
   "execution_count": 55,
   "id": "e5f37175",
   "metadata": {
    "execution": {
     "iopub.execute_input": "2022-06-20T21:33:27.491394Z",
     "iopub.status.busy": "2022-06-20T21:33:27.490915Z",
     "iopub.status.idle": "2022-06-20T21:33:33.872764Z",
     "shell.execute_reply": "2022-06-20T21:33:33.871944Z"
    },
    "papermill": {
     "duration": 6.553364,
     "end_time": "2022-06-20T21:33:33.875139",
     "exception": false,
     "start_time": "2022-06-20T21:33:27.321775",
     "status": "completed"
    },
    "tags": []
   },
   "outputs": [
    {
     "data": {
      "text/html": [
       "\n",
       "    <div>\n",
       "      \n",
       "      <progress value='151' max='75' style='width:300px; height:20px; vertical-align: middle;'></progress>\n",
       "      [75/75 00:28]\n",
       "    </div>\n",
       "    "
      ],
      "text/plain": [
       "<IPython.core.display.HTML object>"
      ]
     },
     "metadata": {},
     "output_type": "display_data"
    },
    {
     "data": {
      "text/plain": [
       "{'eval_loss': 0.025108594447374344,\n",
       " 'eval_pearson': 0.8062570804201469,\n",
       " 'eval_runtime': 6.3696,\n",
       " 'eval_samples_per_second': 1503.072,\n",
       " 'eval_steps_per_second': 11.775,\n",
       " 'epoch': 4.0}"
      ]
     },
     "execution_count": 55,
     "metadata": {},
     "output_type": "execute_result"
    }
   ],
   "source": [
    "eval_deberta = trainer.evaluate()\n",
    "eval_deberta"
   ]
  },
  {
   "cell_type": "code",
   "execution_count": 56,
   "id": "438a87cd",
   "metadata": {
    "execution": {
     "iopub.execute_input": "2022-06-20T21:33:34.070924Z",
     "iopub.status.busy": "2022-06-20T21:33:34.070118Z",
     "iopub.status.idle": "2022-06-20T21:33:35.308643Z",
     "shell.execute_reply": "2022-06-20T21:33:35.307712Z"
    },
    "papermill": {
     "duration": 1.339245,
     "end_time": "2022-06-20T21:33:35.311346",
     "exception": false,
     "start_time": "2022-06-20T21:33:33.972101",
     "status": "completed"
    },
    "tags": []
   },
   "outputs": [
    {
     "data": {
      "application/vnd.jupyter.widget-view+json": {
       "model_id": "1536a577b51c478b81587794865e2738",
       "version_major": 2,
       "version_minor": 0
      },
      "text/plain": [
       "  0%|          | 0/1 [00:00<?, ?ba/s]"
      ]
     },
     "metadata": {},
     "output_type": "display_data"
    }
   ],
   "source": [
    "test_tok_ds = test_ds.map(tok_func, batched=True, remove_columns=inps+('inputs','id','section'))"
   ]
  },
  {
   "cell_type": "code",
   "execution_count": 57,
   "id": "72e8b4b1",
   "metadata": {
    "execution": {
     "iopub.execute_input": "2022-06-20T21:33:35.502594Z",
     "iopub.status.busy": "2022-06-20T21:33:35.502320Z",
     "iopub.status.idle": "2022-06-20T21:33:35.546724Z",
     "shell.execute_reply": "2022-06-20T21:33:35.545860Z"
    },
    "papermill": {
     "duration": 0.144135,
     "end_time": "2022-06-20T21:33:35.549027",
     "exception": false,
     "start_time": "2022-06-20T21:33:35.404892",
     "status": "completed"
    },
    "tags": []
   },
   "outputs": [
    {
     "data": {
      "text/plain": [
       "array([[ 0.4294847 ],\n",
       "       [ 0.67459488],\n",
       "       [ 0.37065387],\n",
       "       [ 0.44099724],\n",
       "       [ 0.12224401],\n",
       "       [ 0.68543702],\n",
       "       [ 0.54469669],\n",
       "       [ 0.76059484],\n",
       "       [ 1.07091916],\n",
       "       [ 0.21218741],\n",
       "       [ 0.27439523],\n",
       "       [ 0.57111704],\n",
       "       [-0.01673831],\n",
       "       [ 0.60749382],\n",
       "       [ 0.6025002 ],\n",
       "       [-0.01589945],\n",
       "       [ 0.27302894],\n",
       "       [ 0.81717235],\n",
       "       [ 0.79191828],\n",
       "       [-0.0060753 ],\n",
       "       [ 0.26814482],\n",
       "       [ 0.26163366],\n",
       "       [-0.03014177],\n",
       "       [ 0.22790876],\n",
       "       [-0.0024351 ],\n",
       "       [ 0.33818492],\n",
       "       [ 0.42688107],\n",
       "       [ 0.50269574],\n",
       "       [ 0.24224597],\n",
       "       [ 0.53079408],\n",
       "       [ 0.48534891],\n",
       "       [ 0.25089929],\n",
       "       [-0.02091357],\n",
       "       [ 0.24875912],\n",
       "       [-0.01795117],\n",
       "       [-0.02282841]])"
      ]
     },
     "execution_count": 57,
     "metadata": {},
     "output_type": "execute_result"
    }
   ],
   "source": [
    "preds_deberta = trainer.predict(test_tok_ds).predictions.astype(float)\n",
    "preds_deberta"
   ]
  },
  {
   "cell_type": "code",
   "execution_count": 58,
   "id": "2827419c",
   "metadata": {
    "execution": {
     "iopub.execute_input": "2022-06-20T21:33:35.749681Z",
     "iopub.status.busy": "2022-06-20T21:33:35.748895Z",
     "iopub.status.idle": "2022-06-20T21:33:35.753410Z",
     "shell.execute_reply": "2022-06-20T21:33:35.752595Z"
    },
    "papermill": {
     "duration": 0.103596,
     "end_time": "2022-06-20T21:33:35.755389",
     "exception": false,
     "start_time": "2022-06-20T21:33:35.651793",
     "status": "completed"
    },
    "tags": []
   },
   "outputs": [],
   "source": [
    "del model_name, tokenizer, model, tok_ds, test_tok_ds, dds"
   ]
  },
  {
   "cell_type": "markdown",
   "id": "4e3ca6dd",
   "metadata": {
    "papermill": {
     "duration": 0.094564,
     "end_time": "2022-06-20T21:33:35.946423",
     "exception": false,
     "start_time": "2022-06-20T21:33:35.851859",
     "status": "completed"
    },
    "tags": []
   },
   "source": [
    "# mdeberta-v3-base"
   ]
  },
  {
   "cell_type": "code",
   "execution_count": 59,
   "id": "dfd34fef",
   "metadata": {
    "execution": {
     "iopub.execute_input": "2022-06-20T21:33:36.142933Z",
     "iopub.status.busy": "2022-06-20T21:33:36.142322Z",
     "iopub.status.idle": "2022-06-20T21:33:36.147808Z",
     "shell.execute_reply": "2022-06-20T21:33:36.147038Z"
    },
    "papermill": {
     "duration": 0.10611,
     "end_time": "2022-06-20T21:33:36.149880",
     "exception": false,
     "start_time": "2022-06-20T21:33:36.043770",
     "status": "completed"
    },
    "tags": []
   },
   "outputs": [],
   "source": [
    "model_name = '../input/mbertav3base'"
   ]
  },
  {
   "cell_type": "code",
   "execution_count": 60,
   "id": "953c21d5",
   "metadata": {
    "execution": {
     "iopub.execute_input": "2022-06-20T21:33:36.336840Z",
     "iopub.status.busy": "2022-06-20T21:33:36.336563Z",
     "iopub.status.idle": "2022-06-20T21:33:36.340808Z",
     "shell.execute_reply": "2022-06-20T21:33:36.340027Z"
    },
    "papermill": {
     "duration": 0.09947,
     "end_time": "2022-06-20T21:33:36.342595",
     "exception": false,
     "start_time": "2022-06-20T21:33:36.243125",
     "status": "completed"
    },
    "tags": []
   },
   "outputs": [],
   "source": [
    "def corr_deberta(eval_pred): return {'pearson': np.corrcoef(*eval_pred)[0][1]}"
   ]
  },
  {
   "cell_type": "code",
   "execution_count": 61,
   "id": "8ea725fb",
   "metadata": {
    "execution": {
     "iopub.execute_input": "2022-06-20T21:33:36.528329Z",
     "iopub.status.busy": "2022-06-20T21:33:36.527735Z",
     "iopub.status.idle": "2022-06-20T21:33:38.123380Z",
     "shell.execute_reply": "2022-06-20T21:33:38.122531Z"
    },
    "papermill": {
     "duration": 1.691842,
     "end_time": "2022-06-20T21:33:38.126244",
     "exception": false,
     "start_time": "2022-06-20T21:33:36.434402",
     "status": "completed"
    },
    "tags": []
   },
   "outputs": [],
   "source": [
    "tokenizer = AutoTokenizer.from_pretrained(model_name)"
   ]
  },
  {
   "cell_type": "code",
   "execution_count": 62,
   "id": "ad195dd3",
   "metadata": {
    "execution": {
     "iopub.execute_input": "2022-06-20T21:33:38.404225Z",
     "iopub.status.busy": "2022-06-20T21:33:38.403709Z",
     "iopub.status.idle": "2022-06-20T21:33:38.413015Z",
     "shell.execute_reply": "2022-06-20T21:33:38.412232Z"
    },
    "papermill": {
     "duration": 0.191215,
     "end_time": "2022-06-20T21:33:38.416058",
     "exception": false,
     "start_time": "2022-06-20T21:33:38.224843",
     "status": "completed"
    },
    "tags": []
   },
   "outputs": [
    {
     "data": {
      "text/plain": [
       "['[CLS]', '[SEP]', '[UNK]', '[PAD]', '[MASK]']"
      ]
     },
     "execution_count": 62,
     "metadata": {},
     "output_type": "execute_result"
    }
   ],
   "source": [
    "tokenizer.all_special_tokens"
   ]
  },
  {
   "cell_type": "code",
   "execution_count": 63,
   "id": "e22d5801",
   "metadata": {
    "execution": {
     "iopub.execute_input": "2022-06-20T21:33:38.733662Z",
     "iopub.status.busy": "2022-06-20T21:33:38.733179Z",
     "iopub.status.idle": "2022-06-20T21:33:49.407395Z",
     "shell.execute_reply": "2022-06-20T21:33:49.400247Z"
    },
    "papermill": {
     "duration": 10.836954,
     "end_time": "2022-06-20T21:33:49.410838",
     "exception": false,
     "start_time": "2022-06-20T21:33:38.573884",
     "status": "completed"
    },
    "tags": []
   },
   "outputs": [
    {
     "data": {
      "application/vnd.jupyter.widget-view+json": {
       "model_id": "658cb44777b944959316025e8ff55ef6",
       "version_major": 2,
       "version_minor": 0
      },
      "text/plain": [
       "  0%|          | 0/37 [00:00<?, ?ba/s]"
      ]
     },
     "metadata": {},
     "output_type": "display_data"
    }
   ],
   "source": [
    "tok_ds = train_ds.map(tok_func, batched=True, remove_columns=inps+('inputs','id','section'))"
   ]
  },
  {
   "cell_type": "code",
   "execution_count": 64,
   "id": "ca2e68f6",
   "metadata": {
    "execution": {
     "iopub.execute_input": "2022-06-20T21:33:49.744640Z",
     "iopub.status.busy": "2022-06-20T21:33:49.744363Z",
     "iopub.status.idle": "2022-06-20T21:33:49.776938Z",
     "shell.execute_reply": "2022-06-20T21:33:49.775861Z"
    },
    "papermill": {
     "duration": 0.200225,
     "end_time": "2022-06-20T21:33:49.779950",
     "exception": false,
     "start_time": "2022-06-20T21:33:49.579725",
     "status": "completed"
    },
    "tags": []
   },
   "outputs": [],
   "source": [
    "dds = DatasetDict({\"train\":tok_ds.select(trn_idxs),\n",
    "             \"test\": tok_ds.select(val_idxs)})"
   ]
  },
  {
   "cell_type": "code",
   "execution_count": 65,
   "id": "364dbb68",
   "metadata": {
    "execution": {
     "iopub.execute_input": "2022-06-20T21:33:50.041426Z",
     "iopub.status.busy": "2022-06-20T21:33:50.040743Z",
     "iopub.status.idle": "2022-06-20T21:33:56.465339Z",
     "shell.execute_reply": "2022-06-20T21:33:56.464408Z"
    },
    "papermill": {
     "duration": 6.530348,
     "end_time": "2022-06-20T21:33:56.467782",
     "exception": false,
     "start_time": "2022-06-20T21:33:49.937434",
     "status": "completed"
    },
    "tags": []
   },
   "outputs": [
    {
     "data": {
      "text/plain": [
       "{'eval_loss': 0.025108594447374344,\n",
       " 'eval_pearson': 0.8062570804201469,\n",
       " 'eval_runtime': 6.4153,\n",
       " 'eval_samples_per_second': 1492.365,\n",
       " 'eval_steps_per_second': 11.691,\n",
       " 'epoch': 4.0}"
      ]
     },
     "execution_count": 65,
     "metadata": {},
     "output_type": "execute_result"
    }
   ],
   "source": [
    "eval_mberta = trainer.evaluate()\n",
    "eval_mberta"
   ]
  },
  {
   "cell_type": "code",
   "execution_count": 66,
   "id": "87d49dd3",
   "metadata": {
    "execution": {
     "iopub.execute_input": "2022-06-20T21:33:56.671452Z",
     "iopub.status.busy": "2022-06-20T21:33:56.670616Z",
     "iopub.status.idle": "2022-06-20T21:34:09.383418Z",
     "shell.execute_reply": "2022-06-20T21:34:09.382584Z"
    },
    "papermill": {
     "duration": 12.815175,
     "end_time": "2022-06-20T21:34:09.386132",
     "exception": false,
     "start_time": "2022-06-20T21:33:56.570957",
     "status": "completed"
    },
    "tags": []
   },
   "outputs": [],
   "source": [
    "model = AutoModelForSequenceClassification.from_pretrained(model_name, num_labels=1)\n",
    "trainer = Trainer(model, args, train_dataset=dds['train'], eval_dataset=dds['test'],\n",
    "               tokenizer=tokenizer, compute_metrics=corr_deberta)"
   ]
  },
  {
   "cell_type": "code",
   "execution_count": 67,
   "id": "8c569120",
   "metadata": {
    "execution": {
     "iopub.execute_input": "2022-06-20T21:34:09.588639Z",
     "iopub.status.busy": "2022-06-20T21:34:09.588360Z",
     "iopub.status.idle": "2022-06-20T21:34:12.249333Z",
     "shell.execute_reply": "2022-06-20T21:34:12.248538Z"
    },
    "papermill": {
     "duration": 2.765684,
     "end_time": "2022-06-20T21:34:12.251820",
     "exception": false,
     "start_time": "2022-06-20T21:34:09.486136",
     "status": "completed"
    },
    "tags": []
   },
   "outputs": [
    {
     "data": {
      "application/vnd.jupyter.widget-view+json": {
       "model_id": "229753ca1d6b46e38d5f3b8d535cab28",
       "version_major": 2,
       "version_minor": 0
      },
      "text/plain": [
       "  0%|          | 0/1 [00:00<?, ?ba/s]"
      ]
     },
     "metadata": {},
     "output_type": "display_data"
    }
   ],
   "source": [
    "test_tok_ds = test_ds.map(tok_func, batched=True, remove_columns=inps+('inputs','id','section'))"
   ]
  },
  {
   "cell_type": "code",
   "execution_count": 68,
   "id": "05fd04ad",
   "metadata": {
    "execution": {
     "iopub.execute_input": "2022-06-20T21:34:12.457453Z",
     "iopub.status.busy": "2022-06-20T21:34:12.456840Z",
     "iopub.status.idle": "2022-06-20T21:34:12.563364Z",
     "shell.execute_reply": "2022-06-20T21:34:12.562600Z"
    },
    "papermill": {
     "duration": 0.210987,
     "end_time": "2022-06-20T21:34:12.565581",
     "exception": false,
     "start_time": "2022-06-20T21:34:12.354594",
     "status": "completed"
    },
    "tags": []
   },
   "outputs": [
    {
     "data": {
      "text/html": [
       "\n",
       "    <div>\n",
       "      \n",
       "      <progress value='1' max='1' style='width:300px; height:20px; vertical-align: middle;'></progress>\n",
       "      [1/1 : < :]\n",
       "    </div>\n",
       "    "
      ],
      "text/plain": [
       "<IPython.core.display.HTML object>"
      ]
     },
     "metadata": {},
     "output_type": "display_data"
    },
    {
     "data": {
      "text/plain": [
       "array([[ 0.57342774],\n",
       "       [ 0.88247854],\n",
       "       [ 0.344686  ],\n",
       "       [ 0.47689673],\n",
       "       [ 0.10138647],\n",
       "       [ 0.76198739],\n",
       "       [ 0.51528311],\n",
       "       [ 0.78051585],\n",
       "       [ 1.05626392],\n",
       "       [ 0.19956696],\n",
       "       [ 0.25408095],\n",
       "       [ 0.53530359],\n",
       "       [-0.0234694 ],\n",
       "       [ 0.48995924],\n",
       "       [ 0.75317681],\n",
       "       [-0.01808831],\n",
       "       [ 0.27053031],\n",
       "       [ 0.79927522],\n",
       "       [ 0.76635557],\n",
       "       [-0.01418376],\n",
       "       [ 0.36837041],\n",
       "       [ 0.27161333],\n",
       "       [-0.01907934],\n",
       "       [ 0.26742202],\n",
       "       [-0.01893202],\n",
       "       [ 0.2128399 ],\n",
       "       [ 0.27632561],\n",
       "       [ 0.52651244],\n",
       "       [ 0.23279697],\n",
       "       [ 0.50571138],\n",
       "       [ 0.33413237],\n",
       "       [ 0.2365689 ],\n",
       "       [-0.01838638],\n",
       "       [ 0.27539331],\n",
       "       [-0.01062036],\n",
       "       [-0.00368166]])"
      ]
     },
     "execution_count": 68,
     "metadata": {},
     "output_type": "execute_result"
    }
   ],
   "source": [
    "preds_mberta = trainer.predict(test_tok_ds).predictions.astype(float)\n",
    "preds_mberta"
   ]
  },
  {
   "cell_type": "markdown",
   "id": "b48e2064",
   "metadata": {
    "papermill": {
     "duration": 0.102074,
     "end_time": "2022-06-20T21:34:12.779817",
     "exception": false,
     "start_time": "2022-06-20T21:34:12.677743",
     "status": "completed"
    },
    "tags": []
   },
   "source": [
    "# Ensemble"
   ]
  },
  {
   "cell_type": "markdown",
   "id": "7b4fef21",
   "metadata": {
    "papermill": {
     "duration": 0.100977,
     "end_time": "2022-06-20T21:34:12.989290",
     "exception": false,
     "start_time": "2022-06-20T21:34:12.888313",
     "status": "completed"
    },
    "tags": []
   },
   "source": [
    "ensemble methode inspired by Valentin Werner's \"In Depth EDA & 3 Model Ensemble\" notebook "
   ]
  },
  {
   "cell_type": "code",
   "execution_count": 69,
   "id": "7618e36f",
   "metadata": {
    "execution": {
     "iopub.execute_input": "2022-06-20T21:34:13.195347Z",
     "iopub.status.busy": "2022-06-20T21:34:13.195080Z",
     "iopub.status.idle": "2022-06-20T21:34:13.199325Z",
     "shell.execute_reply": "2022-06-20T21:34:13.198486Z"
    },
    "papermill": {
     "duration": 0.108253,
     "end_time": "2022-06-20T21:34:13.201277",
     "exception": false,
     "start_time": "2022-06-20T21:34:13.093024",
     "status": "completed"
    },
    "tags": []
   },
   "outputs": [],
   "source": [
    "test_preds = 0.333 * preds_sberta + (0.333) * preds_deberta + (0.333) * preds_mberta"
   ]
  },
  {
   "cell_type": "code",
   "execution_count": 70,
   "id": "cc68e6cf",
   "metadata": {
    "execution": {
     "iopub.execute_input": "2022-06-20T21:34:13.410786Z",
     "iopub.status.busy": "2022-06-20T21:34:13.410213Z",
     "iopub.status.idle": "2022-06-20T21:34:13.417535Z",
     "shell.execute_reply": "2022-06-20T21:34:13.416679Z"
    },
    "papermill": {
     "duration": 0.11075,
     "end_time": "2022-06-20T21:34:13.419772",
     "exception": false,
     "start_time": "2022-06-20T21:34:13.309022",
     "status": "completed"
    },
    "tags": []
   },
   "outputs": [
    {
     "data": {
      "text/plain": [
       "array([[ 0.49630529],\n",
       "       [ 0.83448948],\n",
       "       [ 0.33376064],\n",
       "       [ 0.47308482],\n",
       "       [ 0.17867193],\n",
       "       [ 0.72624454],\n",
       "       [ 0.51221271],\n",
       "       [ 0.77650783],\n",
       "       [ 1.06001251],\n",
       "       [ 0.21821276],\n",
       "       [ 0.25764035],\n",
       "       [ 0.55194356],\n",
       "       [-0.0187892 ],\n",
       "       [ 0.54446454],\n",
       "       [ 0.66227298],\n",
       "       [-0.013111  ],\n",
       "       [ 0.23912988],\n",
       "       [ 0.80139105],\n",
       "       [ 0.78398786],\n",
       "       [-0.00804974],\n",
       "       [ 0.30415872],\n",
       "       [ 0.26846417],\n",
       "       [ 0.15891334],\n",
       "       [ 0.28542412],\n",
       "       [-0.00303642],\n",
       "       [ 0.28464649],\n",
       "       [ 0.33353069],\n",
       "       [ 0.52086456],\n",
       "       [ 0.1992245 ],\n",
       "       [ 0.50832958],\n",
       "       [ 0.43553731],\n",
       "       [ 0.21007626],\n",
       "       [-0.017157  ],\n",
       "       [ 0.22259236],\n",
       "       [-0.01170769],\n",
       "       [-0.0112391 ]])"
      ]
     },
     "execution_count": 70,
     "metadata": {},
     "output_type": "execute_result"
    }
   ],
   "source": [
    "test_preds"
   ]
  },
  {
   "cell_type": "code",
   "execution_count": 71,
   "id": "a407f610",
   "metadata": {
    "execution": {
     "iopub.execute_input": "2022-06-20T21:34:13.636813Z",
     "iopub.status.busy": "2022-06-20T21:34:13.636198Z",
     "iopub.status.idle": "2022-06-20T21:34:13.640614Z",
     "shell.execute_reply": "2022-06-20T21:34:13.639841Z"
    },
    "papermill": {
     "duration": 0.11087,
     "end_time": "2022-06-20T21:34:13.642576",
     "exception": false,
     "start_time": "2022-06-20T21:34:13.531706",
     "status": "completed"
    },
    "tags": []
   },
   "outputs": [],
   "source": [
    "df_submission = pd.DataFrame()"
   ]
  },
  {
   "cell_type": "code",
   "execution_count": 72,
   "id": "6a3182b9",
   "metadata": {
    "execution": {
     "iopub.execute_input": "2022-06-20T21:34:13.847415Z",
     "iopub.status.busy": "2022-06-20T21:34:13.846668Z",
     "iopub.status.idle": "2022-06-20T21:34:13.853607Z",
     "shell.execute_reply": "2022-06-20T21:34:13.852756Z"
    },
    "papermill": {
     "duration": 0.110953,
     "end_time": "2022-06-20T21:34:13.855587",
     "exception": false,
     "start_time": "2022-06-20T21:34:13.744634",
     "status": "completed"
    },
    "tags": []
   },
   "outputs": [],
   "source": [
    "df_submission['id'] = test['id'].copy()"
   ]
  },
  {
   "cell_type": "code",
   "execution_count": 73,
   "id": "d264743d",
   "metadata": {
    "execution": {
     "iopub.execute_input": "2022-06-20T21:34:14.056745Z",
     "iopub.status.busy": "2022-06-20T21:34:14.056459Z",
     "iopub.status.idle": "2022-06-20T21:34:14.067364Z",
     "shell.execute_reply": "2022-06-20T21:34:14.066610Z"
    },
    "papermill": {
     "duration": 0.113574,
     "end_time": "2022-06-20T21:34:14.069345",
     "exception": false,
     "start_time": "2022-06-20T21:34:13.955771",
     "status": "completed"
    },
    "tags": []
   },
   "outputs": [
    {
     "data": {
      "text/html": [
       "<div>\n",
       "<style scoped>\n",
       "    .dataframe tbody tr th:only-of-type {\n",
       "        vertical-align: middle;\n",
       "    }\n",
       "\n",
       "    .dataframe tbody tr th {\n",
       "        vertical-align: top;\n",
       "    }\n",
       "\n",
       "    .dataframe thead th {\n",
       "        text-align: right;\n",
       "    }\n",
       "</style>\n",
       "<table border=\"1\" class=\"dataframe\">\n",
       "  <thead>\n",
       "    <tr style=\"text-align: right;\">\n",
       "      <th></th>\n",
       "      <th>id</th>\n",
       "    </tr>\n",
       "  </thead>\n",
       "  <tbody>\n",
       "    <tr>\n",
       "      <th>0</th>\n",
       "      <td>4112d61851461f60</td>\n",
       "    </tr>\n",
       "    <tr>\n",
       "      <th>1</th>\n",
       "      <td>5203a36c501f1b7c</td>\n",
       "    </tr>\n",
       "    <tr>\n",
       "      <th>2</th>\n",
       "      <td>7aa5908a77a7ec24</td>\n",
       "    </tr>\n",
       "    <tr>\n",
       "      <th>3</th>\n",
       "      <td>442c114ed5c4e3c9</td>\n",
       "    </tr>\n",
       "    <tr>\n",
       "      <th>4</th>\n",
       "      <td>12ca31f018a2e2b9</td>\n",
       "    </tr>\n",
       "    <tr>\n",
       "      <th>5</th>\n",
       "      <td>9f2279ce667b21dc</td>\n",
       "    </tr>\n",
       "    <tr>\n",
       "      <th>6</th>\n",
       "      <td>b9ea2b06a878df6f</td>\n",
       "    </tr>\n",
       "    <tr>\n",
       "      <th>7</th>\n",
       "      <td>09e418c93a776564</td>\n",
       "    </tr>\n",
       "    <tr>\n",
       "      <th>8</th>\n",
       "      <td>ae0262c02566d2ce</td>\n",
       "    </tr>\n",
       "    <tr>\n",
       "      <th>9</th>\n",
       "      <td>03ba802ed4029e4d</td>\n",
       "    </tr>\n",
       "    <tr>\n",
       "      <th>10</th>\n",
       "      <td>25522ee5411e63e9</td>\n",
       "    </tr>\n",
       "    <tr>\n",
       "      <th>11</th>\n",
       "      <td>c404f8b378cbb008</td>\n",
       "    </tr>\n",
       "    <tr>\n",
       "      <th>12</th>\n",
       "      <td>26c3c6dc6174b589</td>\n",
       "    </tr>\n",
       "    <tr>\n",
       "      <th>13</th>\n",
       "      <td>36baf228038e314b</td>\n",
       "    </tr>\n",
       "    <tr>\n",
       "      <th>14</th>\n",
       "      <td>b892011ab2e2cabc</td>\n",
       "    </tr>\n",
       "    <tr>\n",
       "      <th>15</th>\n",
       "      <td>b8ae62ea5e1d8bdb</td>\n",
       "    </tr>\n",
       "    <tr>\n",
       "      <th>16</th>\n",
       "      <td>a8808e31641e856d</td>\n",
       "    </tr>\n",
       "    <tr>\n",
       "      <th>17</th>\n",
       "      <td>25c555ca3d5a2092</td>\n",
       "    </tr>\n",
       "    <tr>\n",
       "      <th>18</th>\n",
       "      <td>b9fdc772bb8fd61c</td>\n",
       "    </tr>\n",
       "    <tr>\n",
       "      <th>19</th>\n",
       "      <td>de51114bc0faec3e</td>\n",
       "    </tr>\n",
       "    <tr>\n",
       "      <th>20</th>\n",
       "      <td>8247ff562ca185cc</td>\n",
       "    </tr>\n",
       "    <tr>\n",
       "      <th>21</th>\n",
       "      <td>1f37ead645e7f0c8</td>\n",
       "    </tr>\n",
       "    <tr>\n",
       "      <th>22</th>\n",
       "      <td>71a5b6ad068d531f</td>\n",
       "    </tr>\n",
       "    <tr>\n",
       "      <th>23</th>\n",
       "      <td>16ae4b99d3601e60</td>\n",
       "    </tr>\n",
       "    <tr>\n",
       "      <th>24</th>\n",
       "      <td>fd83613b7843f5e1</td>\n",
       "    </tr>\n",
       "    <tr>\n",
       "      <th>25</th>\n",
       "      <td>733979d75f59770d</td>\n",
       "    </tr>\n",
       "    <tr>\n",
       "      <th>26</th>\n",
       "      <td>79795133c30ef097</td>\n",
       "    </tr>\n",
       "    <tr>\n",
       "      <th>27</th>\n",
       "      <td>474c874d0c07bd21</td>\n",
       "    </tr>\n",
       "    <tr>\n",
       "      <th>28</th>\n",
       "      <td>faaddaf8fcba8a3f</td>\n",
       "    </tr>\n",
       "    <tr>\n",
       "      <th>29</th>\n",
       "      <td>2a619016908bfa45</td>\n",
       "    </tr>\n",
       "    <tr>\n",
       "      <th>30</th>\n",
       "      <td>6546846df17f9800</td>\n",
       "    </tr>\n",
       "    <tr>\n",
       "      <th>31</th>\n",
       "      <td>d19ef3979396d47e</td>\n",
       "    </tr>\n",
       "    <tr>\n",
       "      <th>32</th>\n",
       "      <td>7e3aff857f056bf9</td>\n",
       "    </tr>\n",
       "    <tr>\n",
       "      <th>33</th>\n",
       "      <td>3ff0e7a35015be69</td>\n",
       "    </tr>\n",
       "    <tr>\n",
       "      <th>34</th>\n",
       "      <td>78243984c02a72e4</td>\n",
       "    </tr>\n",
       "    <tr>\n",
       "      <th>35</th>\n",
       "      <td>c057aecbba832387</td>\n",
       "    </tr>\n",
       "  </tbody>\n",
       "</table>\n",
       "</div>"
      ],
      "text/plain": [
       "                  id\n",
       "0   4112d61851461f60\n",
       "1   5203a36c501f1b7c\n",
       "2   7aa5908a77a7ec24\n",
       "3   442c114ed5c4e3c9\n",
       "4   12ca31f018a2e2b9\n",
       "5   9f2279ce667b21dc\n",
       "6   b9ea2b06a878df6f\n",
       "7   09e418c93a776564\n",
       "8   ae0262c02566d2ce\n",
       "9   03ba802ed4029e4d\n",
       "10  25522ee5411e63e9\n",
       "11  c404f8b378cbb008\n",
       "12  26c3c6dc6174b589\n",
       "13  36baf228038e314b\n",
       "14  b892011ab2e2cabc\n",
       "15  b8ae62ea5e1d8bdb\n",
       "16  a8808e31641e856d\n",
       "17  25c555ca3d5a2092\n",
       "18  b9fdc772bb8fd61c\n",
       "19  de51114bc0faec3e\n",
       "20  8247ff562ca185cc\n",
       "21  1f37ead645e7f0c8\n",
       "22  71a5b6ad068d531f\n",
       "23  16ae4b99d3601e60\n",
       "24  fd83613b7843f5e1\n",
       "25  733979d75f59770d\n",
       "26  79795133c30ef097\n",
       "27  474c874d0c07bd21\n",
       "28  faaddaf8fcba8a3f\n",
       "29  2a619016908bfa45\n",
       "30  6546846df17f9800\n",
       "31  d19ef3979396d47e\n",
       "32  7e3aff857f056bf9\n",
       "33  3ff0e7a35015be69\n",
       "34  78243984c02a72e4\n",
       "35  c057aecbba832387"
      ]
     },
     "execution_count": 73,
     "metadata": {},
     "output_type": "execute_result"
    }
   ],
   "source": [
    "df_submission"
   ]
  },
  {
   "cell_type": "code",
   "execution_count": 74,
   "id": "7e731347",
   "metadata": {
    "execution": {
     "iopub.execute_input": "2022-06-20T21:34:14.284118Z",
     "iopub.status.busy": "2022-06-20T21:34:14.283839Z",
     "iopub.status.idle": "2022-06-20T21:34:14.287636Z",
     "shell.execute_reply": "2022-06-20T21:34:14.286877Z"
    },
    "papermill": {
     "duration": 0.118872,
     "end_time": "2022-06-20T21:34:14.289434",
     "exception": false,
     "start_time": "2022-06-20T21:34:14.170562",
     "status": "completed"
    },
    "tags": []
   },
   "outputs": [],
   "source": [
    "preds_list = test_preds.tolist()"
   ]
  },
  {
   "cell_type": "code",
   "execution_count": 75,
   "id": "6b67ae64",
   "metadata": {
    "execution": {
     "iopub.execute_input": "2022-06-20T21:34:14.493560Z",
     "iopub.status.busy": "2022-06-20T21:34:14.492936Z",
     "iopub.status.idle": "2022-06-20T21:34:14.500581Z",
     "shell.execute_reply": "2022-06-20T21:34:14.499653Z"
    },
    "papermill": {
     "duration": 0.11392,
     "end_time": "2022-06-20T21:34:14.504155",
     "exception": false,
     "start_time": "2022-06-20T21:34:14.390235",
     "status": "completed"
    },
    "tags": []
   },
   "outputs": [
    {
     "data": {
      "text/plain": [
       "[[0.4963052895069122],\n",
       " [0.8344894791841507],\n",
       " [0.33376063826680186],\n",
       " [0.4730848178565502],\n",
       " [0.17867193411290647],\n",
       " [0.7262445355653764],\n",
       " [0.5122127072811127],\n",
       " [0.7765078337788582],\n",
       " [1.0600125077962876],\n",
       " [0.21821275846660138],\n",
       " [0.25764035296440124],\n",
       " [0.5519435597062111],\n",
       " [-0.018789197992533445],\n",
       " [0.5444645438790322],\n",
       " [0.6622729766964912],\n",
       " [-0.013111004364676774],\n",
       " [0.23912988406419755],\n",
       " [0.801391051054001],\n",
       " [0.7839878618717194],\n",
       " [-0.008049736739136278],\n",
       " [0.3041587246656418],\n",
       " [0.26846417248249055],\n",
       " [0.15891334224678577],\n",
       " [0.2854241183102131],\n",
       " [-0.0030364202382043006],\n",
       " [0.2846464898586273],\n",
       " [0.3335306852459907],\n",
       " [0.5208645619153978],\n",
       " [0.19922449768334627],\n",
       " [0.5083295767307282],\n",
       " [0.43553731334209445],\n",
       " [0.21007626119256018],\n",
       " [-0.01715700238477439],\n",
       " [0.22259236067533494],\n",
       " [-0.011707688416354358],\n",
       " [-0.011239097947720439]]"
      ]
     },
     "execution_count": 75,
     "metadata": {},
     "output_type": "execute_result"
    }
   ],
   "source": [
    "preds_list"
   ]
  },
  {
   "cell_type": "code",
   "execution_count": 76,
   "id": "00ae9395",
   "metadata": {
    "execution": {
     "iopub.execute_input": "2022-06-20T21:34:14.713756Z",
     "iopub.status.busy": "2022-06-20T21:34:14.713446Z",
     "iopub.status.idle": "2022-06-20T21:34:14.719908Z",
     "shell.execute_reply": "2022-06-20T21:34:14.719132Z"
    },
    "papermill": {
     "duration": 0.114952,
     "end_time": "2022-06-20T21:34:14.722305",
     "exception": false,
     "start_time": "2022-06-20T21:34:14.607353",
     "status": "completed"
    },
    "tags": []
   },
   "outputs": [
    {
     "data": {
      "text/plain": [
       "[0.4963052895069122,\n",
       " 0.8344894791841507,\n",
       " 0.33376063826680186,\n",
       " 0.4730848178565502,\n",
       " 0.17867193411290647,\n",
       " 0.7262445355653764,\n",
       " 0.5122127072811127,\n",
       " 0.7765078337788582,\n",
       " 1.0600125077962876,\n",
       " 0.21821275846660138,\n",
       " 0.25764035296440124,\n",
       " 0.5519435597062111,\n",
       " -0.018789197992533445,\n",
       " 0.5444645438790322,\n",
       " 0.6622729766964912,\n",
       " -0.013111004364676774,\n",
       " 0.23912988406419755,\n",
       " 0.801391051054001,\n",
       " 0.7839878618717194,\n",
       " -0.008049736739136278,\n",
       " 0.3041587246656418,\n",
       " 0.26846417248249055,\n",
       " 0.15891334224678577,\n",
       " 0.2854241183102131,\n",
       " -0.0030364202382043006,\n",
       " 0.2846464898586273,\n",
       " 0.3335306852459907,\n",
       " 0.5208645619153978,\n",
       " 0.19922449768334627,\n",
       " 0.5083295767307282,\n",
       " 0.43553731334209445,\n",
       " 0.21007626119256018,\n",
       " -0.01715700238477439,\n",
       " 0.22259236067533494,\n",
       " -0.011707688416354358,\n",
       " -0.011239097947720439]"
      ]
     },
     "execution_count": 76,
     "metadata": {},
     "output_type": "execute_result"
    }
   ],
   "source": [
    "flat_list = [x for xs in preds_list for x in xs]\n",
    "flat_list"
   ]
  },
  {
   "cell_type": "code",
   "execution_count": 77,
   "id": "283bb9ed",
   "metadata": {
    "execution": {
     "iopub.execute_input": "2022-06-20T21:34:14.931468Z",
     "iopub.status.busy": "2022-06-20T21:34:14.930712Z",
     "iopub.status.idle": "2022-06-20T21:34:14.935374Z",
     "shell.execute_reply": "2022-06-20T21:34:14.934641Z"
    },
    "papermill": {
     "duration": 0.111284,
     "end_time": "2022-06-20T21:34:14.937176",
     "exception": false,
     "start_time": "2022-06-20T21:34:14.825892",
     "status": "completed"
    },
    "tags": []
   },
   "outputs": [],
   "source": [
    "df_submission['score' ] = flat_list"
   ]
  },
  {
   "cell_type": "code",
   "execution_count": 78,
   "id": "5e4870d1",
   "metadata": {
    "execution": {
     "iopub.execute_input": "2022-06-20T21:34:15.145442Z",
     "iopub.status.busy": "2022-06-20T21:34:15.145180Z",
     "iopub.status.idle": "2022-06-20T21:34:15.157591Z",
     "shell.execute_reply": "2022-06-20T21:34:15.156772Z"
    },
    "papermill": {
     "duration": 0.118747,
     "end_time": "2022-06-20T21:34:15.160348",
     "exception": false,
     "start_time": "2022-06-20T21:34:15.041601",
     "status": "completed"
    },
    "tags": []
   },
   "outputs": [
    {
     "data": {
      "text/html": [
       "<div>\n",
       "<style scoped>\n",
       "    .dataframe tbody tr th:only-of-type {\n",
       "        vertical-align: middle;\n",
       "    }\n",
       "\n",
       "    .dataframe tbody tr th {\n",
       "        vertical-align: top;\n",
       "    }\n",
       "\n",
       "    .dataframe thead th {\n",
       "        text-align: right;\n",
       "    }\n",
       "</style>\n",
       "<table border=\"1\" class=\"dataframe\">\n",
       "  <thead>\n",
       "    <tr style=\"text-align: right;\">\n",
       "      <th></th>\n",
       "      <th>id</th>\n",
       "      <th>score</th>\n",
       "    </tr>\n",
       "  </thead>\n",
       "  <tbody>\n",
       "    <tr>\n",
       "      <th>0</th>\n",
       "      <td>4112d61851461f60</td>\n",
       "      <td>0.496305</td>\n",
       "    </tr>\n",
       "    <tr>\n",
       "      <th>1</th>\n",
       "      <td>5203a36c501f1b7c</td>\n",
       "      <td>0.834489</td>\n",
       "    </tr>\n",
       "    <tr>\n",
       "      <th>2</th>\n",
       "      <td>7aa5908a77a7ec24</td>\n",
       "      <td>0.333761</td>\n",
       "    </tr>\n",
       "    <tr>\n",
       "      <th>3</th>\n",
       "      <td>442c114ed5c4e3c9</td>\n",
       "      <td>0.473085</td>\n",
       "    </tr>\n",
       "    <tr>\n",
       "      <th>4</th>\n",
       "      <td>12ca31f018a2e2b9</td>\n",
       "      <td>0.178672</td>\n",
       "    </tr>\n",
       "    <tr>\n",
       "      <th>5</th>\n",
       "      <td>9f2279ce667b21dc</td>\n",
       "      <td>0.726245</td>\n",
       "    </tr>\n",
       "    <tr>\n",
       "      <th>6</th>\n",
       "      <td>b9ea2b06a878df6f</td>\n",
       "      <td>0.512213</td>\n",
       "    </tr>\n",
       "    <tr>\n",
       "      <th>7</th>\n",
       "      <td>09e418c93a776564</td>\n",
       "      <td>0.776508</td>\n",
       "    </tr>\n",
       "    <tr>\n",
       "      <th>8</th>\n",
       "      <td>ae0262c02566d2ce</td>\n",
       "      <td>1.060013</td>\n",
       "    </tr>\n",
       "    <tr>\n",
       "      <th>9</th>\n",
       "      <td>03ba802ed4029e4d</td>\n",
       "      <td>0.218213</td>\n",
       "    </tr>\n",
       "    <tr>\n",
       "      <th>10</th>\n",
       "      <td>25522ee5411e63e9</td>\n",
       "      <td>0.257640</td>\n",
       "    </tr>\n",
       "    <tr>\n",
       "      <th>11</th>\n",
       "      <td>c404f8b378cbb008</td>\n",
       "      <td>0.551944</td>\n",
       "    </tr>\n",
       "    <tr>\n",
       "      <th>12</th>\n",
       "      <td>26c3c6dc6174b589</td>\n",
       "      <td>-0.018789</td>\n",
       "    </tr>\n",
       "    <tr>\n",
       "      <th>13</th>\n",
       "      <td>36baf228038e314b</td>\n",
       "      <td>0.544465</td>\n",
       "    </tr>\n",
       "    <tr>\n",
       "      <th>14</th>\n",
       "      <td>b892011ab2e2cabc</td>\n",
       "      <td>0.662273</td>\n",
       "    </tr>\n",
       "    <tr>\n",
       "      <th>15</th>\n",
       "      <td>b8ae62ea5e1d8bdb</td>\n",
       "      <td>-0.013111</td>\n",
       "    </tr>\n",
       "    <tr>\n",
       "      <th>16</th>\n",
       "      <td>a8808e31641e856d</td>\n",
       "      <td>0.239130</td>\n",
       "    </tr>\n",
       "    <tr>\n",
       "      <th>17</th>\n",
       "      <td>25c555ca3d5a2092</td>\n",
       "      <td>0.801391</td>\n",
       "    </tr>\n",
       "    <tr>\n",
       "      <th>18</th>\n",
       "      <td>b9fdc772bb8fd61c</td>\n",
       "      <td>0.783988</td>\n",
       "    </tr>\n",
       "    <tr>\n",
       "      <th>19</th>\n",
       "      <td>de51114bc0faec3e</td>\n",
       "      <td>-0.008050</td>\n",
       "    </tr>\n",
       "    <tr>\n",
       "      <th>20</th>\n",
       "      <td>8247ff562ca185cc</td>\n",
       "      <td>0.304159</td>\n",
       "    </tr>\n",
       "    <tr>\n",
       "      <th>21</th>\n",
       "      <td>1f37ead645e7f0c8</td>\n",
       "      <td>0.268464</td>\n",
       "    </tr>\n",
       "    <tr>\n",
       "      <th>22</th>\n",
       "      <td>71a5b6ad068d531f</td>\n",
       "      <td>0.158913</td>\n",
       "    </tr>\n",
       "    <tr>\n",
       "      <th>23</th>\n",
       "      <td>16ae4b99d3601e60</td>\n",
       "      <td>0.285424</td>\n",
       "    </tr>\n",
       "    <tr>\n",
       "      <th>24</th>\n",
       "      <td>fd83613b7843f5e1</td>\n",
       "      <td>-0.003036</td>\n",
       "    </tr>\n",
       "    <tr>\n",
       "      <th>25</th>\n",
       "      <td>733979d75f59770d</td>\n",
       "      <td>0.284646</td>\n",
       "    </tr>\n",
       "    <tr>\n",
       "      <th>26</th>\n",
       "      <td>79795133c30ef097</td>\n",
       "      <td>0.333531</td>\n",
       "    </tr>\n",
       "    <tr>\n",
       "      <th>27</th>\n",
       "      <td>474c874d0c07bd21</td>\n",
       "      <td>0.520865</td>\n",
       "    </tr>\n",
       "    <tr>\n",
       "      <th>28</th>\n",
       "      <td>faaddaf8fcba8a3f</td>\n",
       "      <td>0.199224</td>\n",
       "    </tr>\n",
       "    <tr>\n",
       "      <th>29</th>\n",
       "      <td>2a619016908bfa45</td>\n",
       "      <td>0.508330</td>\n",
       "    </tr>\n",
       "    <tr>\n",
       "      <th>30</th>\n",
       "      <td>6546846df17f9800</td>\n",
       "      <td>0.435537</td>\n",
       "    </tr>\n",
       "    <tr>\n",
       "      <th>31</th>\n",
       "      <td>d19ef3979396d47e</td>\n",
       "      <td>0.210076</td>\n",
       "    </tr>\n",
       "    <tr>\n",
       "      <th>32</th>\n",
       "      <td>7e3aff857f056bf9</td>\n",
       "      <td>-0.017157</td>\n",
       "    </tr>\n",
       "    <tr>\n",
       "      <th>33</th>\n",
       "      <td>3ff0e7a35015be69</td>\n",
       "      <td>0.222592</td>\n",
       "    </tr>\n",
       "    <tr>\n",
       "      <th>34</th>\n",
       "      <td>78243984c02a72e4</td>\n",
       "      <td>-0.011708</td>\n",
       "    </tr>\n",
       "    <tr>\n",
       "      <th>35</th>\n",
       "      <td>c057aecbba832387</td>\n",
       "      <td>-0.011239</td>\n",
       "    </tr>\n",
       "  </tbody>\n",
       "</table>\n",
       "</div>"
      ],
      "text/plain": [
       "                  id     score\n",
       "0   4112d61851461f60  0.496305\n",
       "1   5203a36c501f1b7c  0.834489\n",
       "2   7aa5908a77a7ec24  0.333761\n",
       "3   442c114ed5c4e3c9  0.473085\n",
       "4   12ca31f018a2e2b9  0.178672\n",
       "5   9f2279ce667b21dc  0.726245\n",
       "6   b9ea2b06a878df6f  0.512213\n",
       "7   09e418c93a776564  0.776508\n",
       "8   ae0262c02566d2ce  1.060013\n",
       "9   03ba802ed4029e4d  0.218213\n",
       "10  25522ee5411e63e9  0.257640\n",
       "11  c404f8b378cbb008  0.551944\n",
       "12  26c3c6dc6174b589 -0.018789\n",
       "13  36baf228038e314b  0.544465\n",
       "14  b892011ab2e2cabc  0.662273\n",
       "15  b8ae62ea5e1d8bdb -0.013111\n",
       "16  a8808e31641e856d  0.239130\n",
       "17  25c555ca3d5a2092  0.801391\n",
       "18  b9fdc772bb8fd61c  0.783988\n",
       "19  de51114bc0faec3e -0.008050\n",
       "20  8247ff562ca185cc  0.304159\n",
       "21  1f37ead645e7f0c8  0.268464\n",
       "22  71a5b6ad068d531f  0.158913\n",
       "23  16ae4b99d3601e60  0.285424\n",
       "24  fd83613b7843f5e1 -0.003036\n",
       "25  733979d75f59770d  0.284646\n",
       "26  79795133c30ef097  0.333531\n",
       "27  474c874d0c07bd21  0.520865\n",
       "28  faaddaf8fcba8a3f  0.199224\n",
       "29  2a619016908bfa45  0.508330\n",
       "30  6546846df17f9800  0.435537\n",
       "31  d19ef3979396d47e  0.210076\n",
       "32  7e3aff857f056bf9 -0.017157\n",
       "33  3ff0e7a35015be69  0.222592\n",
       "34  78243984c02a72e4 -0.011708\n",
       "35  c057aecbba832387 -0.011239"
      ]
     },
     "execution_count": 78,
     "metadata": {},
     "output_type": "execute_result"
    }
   ],
   "source": [
    "df_submission"
   ]
  },
  {
   "cell_type": "code",
   "execution_count": 79,
   "id": "832515c1",
   "metadata": {
    "execution": {
     "iopub.execute_input": "2022-06-20T21:34:15.384370Z",
     "iopub.status.busy": "2022-06-20T21:34:15.384102Z",
     "iopub.status.idle": "2022-06-20T21:34:15.393422Z",
     "shell.execute_reply": "2022-06-20T21:34:15.392593Z"
    },
    "papermill": {
     "duration": 0.12341,
     "end_time": "2022-06-20T21:34:15.395871",
     "exception": false,
     "start_time": "2022-06-20T21:34:15.272461",
     "status": "completed"
    },
    "tags": []
   },
   "outputs": [],
   "source": [
    "#submission = datasets.Dataset.from_dict({\n",
    "  #  'id': test_ds['id'],\n",
    " #   'score': preds\n",
    "#})\n",
    "\n",
    "df_submission.to_csv('submission.csv', index=False)"
   ]
  },
  {
   "cell_type": "code",
   "execution_count": null,
   "id": "1cf1154d",
   "metadata": {
    "papermill": {
     "duration": 0.107168,
     "end_time": "2022-06-20T21:34:15.616714",
     "exception": false,
     "start_time": "2022-06-20T21:34:15.509546",
     "status": "completed"
    },
    "tags": []
   },
   "outputs": [],
   "source": []
  }
 ],
 "metadata": {
  "kernelspec": {
   "display_name": "Python 3",
   "language": "python",
   "name": "python3"
  },
  "language_info": {
   "codemirror_mode": {
    "name": "ipython",
    "version": 3
   },
   "file_extension": ".py",
   "mimetype": "text/x-python",
   "name": "python",
   "nbconvert_exporter": "python",
   "pygments_lexer": "ipython3",
   "version": "3.7.12"
  },
  "papermill": {
   "default_parameters": {},
   "duration": 401.09776,
   "end_time": "2022-06-20T21:34:18.602285",
   "environment_variables": {},
   "exception": null,
   "input_path": "__notebook__.ipynb",
   "output_path": "__notebook__.ipynb",
   "parameters": {},
   "start_time": "2022-06-20T21:27:37.504525",
   "version": "2.3.4"
  },
  "widgets": {
   "application/vnd.jupyter.widget-state+json": {
    "state": {
     "0fcb13b5d9094502a5961d3394a88747": {
      "model_module": "@jupyter-widgets/base",
      "model_module_version": "1.2.0",
      "model_name": "LayoutModel",
      "state": {
       "_model_module": "@jupyter-widgets/base",
       "_model_module_version": "1.2.0",
       "_model_name": "LayoutModel",
       "_view_count": null,
       "_view_module": "@jupyter-widgets/base",
       "_view_module_version": "1.2.0",
       "_view_name": "LayoutView",
       "align_content": null,
       "align_items": null,
       "align_self": null,
       "border": null,
       "bottom": null,
       "display": null,
       "flex": null,
       "flex_flow": null,
       "grid_area": null,
       "grid_auto_columns": null,
       "grid_auto_flow": null,
       "grid_auto_rows": null,
       "grid_column": null,
       "grid_gap": null,
       "grid_row": null,
       "grid_template_areas": null,
       "grid_template_columns": null,
       "grid_template_rows": null,
       "height": null,
       "justify_content": null,
       "justify_items": null,
       "left": null,
       "margin": null,
       "max_height": null,
       "max_width": null,
       "min_height": null,
       "min_width": null,
       "object_fit": null,
       "object_position": null,
       "order": null,
       "overflow": null,
       "overflow_x": null,
       "overflow_y": null,
       "padding": null,
       "right": null,
       "top": null,
       "visibility": null,
       "width": null
      }
     },
     "122b2e909a6b461bbe4a8d84ed34ea23": {
      "model_module": "@jupyter-widgets/base",
      "model_module_version": "1.2.0",
      "model_name": "LayoutModel",
      "state": {
       "_model_module": "@jupyter-widgets/base",
       "_model_module_version": "1.2.0",
       "_model_name": "LayoutModel",
       "_view_count": null,
       "_view_module": "@jupyter-widgets/base",
       "_view_module_version": "1.2.0",
       "_view_name": "LayoutView",
       "align_content": null,
       "align_items": null,
       "align_self": null,
       "border": null,
       "bottom": null,
       "display": null,
       "flex": null,
       "flex_flow": null,
       "grid_area": null,
       "grid_auto_columns": null,
       "grid_auto_flow": null,
       "grid_auto_rows": null,
       "grid_column": null,
       "grid_gap": null,
       "grid_row": null,
       "grid_template_areas": null,
       "grid_template_columns": null,
       "grid_template_rows": null,
       "height": null,
       "justify_content": null,
       "justify_items": null,
       "left": null,
       "margin": null,
       "max_height": null,
       "max_width": null,
       "min_height": null,
       "min_width": null,
       "object_fit": null,
       "object_position": null,
       "order": null,
       "overflow": null,
       "overflow_x": null,
       "overflow_y": null,
       "padding": null,
       "right": null,
       "top": null,
       "visibility": null,
       "width": null
      }
     },
     "1389f56c496d493688b6f624165cff77": {
      "model_module": "@jupyter-widgets/base",
      "model_module_version": "1.2.0",
      "model_name": "LayoutModel",
      "state": {
       "_model_module": "@jupyter-widgets/base",
       "_model_module_version": "1.2.0",
       "_model_name": "LayoutModel",
       "_view_count": null,
       "_view_module": "@jupyter-widgets/base",
       "_view_module_version": "1.2.0",
       "_view_name": "LayoutView",
       "align_content": null,
       "align_items": null,
       "align_self": null,
       "border": null,
       "bottom": null,
       "display": null,
       "flex": null,
       "flex_flow": null,
       "grid_area": null,
       "grid_auto_columns": null,
       "grid_auto_flow": null,
       "grid_auto_rows": null,
       "grid_column": null,
       "grid_gap": null,
       "grid_row": null,
       "grid_template_areas": null,
       "grid_template_columns": null,
       "grid_template_rows": null,
       "height": null,
       "justify_content": null,
       "justify_items": null,
       "left": null,
       "margin": null,
       "max_height": null,
       "max_width": null,
       "min_height": null,
       "min_width": null,
       "object_fit": null,
       "object_position": null,
       "order": null,
       "overflow": null,
       "overflow_x": null,
       "overflow_y": null,
       "padding": null,
       "right": null,
       "top": null,
       "visibility": null,
       "width": null
      }
     },
     "1536a577b51c478b81587794865e2738": {
      "model_module": "@jupyter-widgets/controls",
      "model_module_version": "1.5.0",
      "model_name": "HBoxModel",
      "state": {
       "_dom_classes": [],
       "_model_module": "@jupyter-widgets/controls",
       "_model_module_version": "1.5.0",
       "_model_name": "HBoxModel",
       "_view_count": null,
       "_view_module": "@jupyter-widgets/controls",
       "_view_module_version": "1.5.0",
       "_view_name": "HBoxView",
       "box_style": "",
       "children": [
        "IPY_MODEL_a559a6e36dfe45869717e7a2f1bf16ed",
        "IPY_MODEL_3c9a8ee5f497456ab89b6611b79e04ff",
        "IPY_MODEL_963db9c172434045a4ca7f5a52722618"
       ],
       "layout": "IPY_MODEL_2f707ad50f474eeb87f1c0c24a5d630d"
      }
     },
     "19213ea4cbaf470b85e1debb8b3eb204": {
      "model_module": "@jupyter-widgets/base",
      "model_module_version": "1.2.0",
      "model_name": "LayoutModel",
      "state": {
       "_model_module": "@jupyter-widgets/base",
       "_model_module_version": "1.2.0",
       "_model_name": "LayoutModel",
       "_view_count": null,
       "_view_module": "@jupyter-widgets/base",
       "_view_module_version": "1.2.0",
       "_view_name": "LayoutView",
       "align_content": null,
       "align_items": null,
       "align_self": null,
       "border": null,
       "bottom": null,
       "display": null,
       "flex": null,
       "flex_flow": null,
       "grid_area": null,
       "grid_auto_columns": null,
       "grid_auto_flow": null,
       "grid_auto_rows": null,
       "grid_column": null,
       "grid_gap": null,
       "grid_row": null,
       "grid_template_areas": null,
       "grid_template_columns": null,
       "grid_template_rows": null,
       "height": null,
       "justify_content": null,
       "justify_items": null,
       "left": null,
       "margin": null,
       "max_height": null,
       "max_width": null,
       "min_height": null,
       "min_width": null,
       "object_fit": null,
       "object_position": null,
       "order": null,
       "overflow": null,
       "overflow_x": null,
       "overflow_y": null,
       "padding": null,
       "right": null,
       "top": null,
       "visibility": null,
       "width": null
      }
     },
     "21320c8f6a87418b9fb1bf63d6e46d75": {
      "model_module": "@jupyter-widgets/base",
      "model_module_version": "1.2.0",
      "model_name": "LayoutModel",
      "state": {
       "_model_module": "@jupyter-widgets/base",
       "_model_module_version": "1.2.0",
       "_model_name": "LayoutModel",
       "_view_count": null,
       "_view_module": "@jupyter-widgets/base",
       "_view_module_version": "1.2.0",
       "_view_name": "LayoutView",
       "align_content": null,
       "align_items": null,
       "align_self": null,
       "border": null,
       "bottom": null,
       "display": null,
       "flex": null,
       "flex_flow": null,
       "grid_area": null,
       "grid_auto_columns": null,
       "grid_auto_flow": null,
       "grid_auto_rows": null,
       "grid_column": null,
       "grid_gap": null,
       "grid_row": null,
       "grid_template_areas": null,
       "grid_template_columns": null,
       "grid_template_rows": null,
       "height": null,
       "justify_content": null,
       "justify_items": null,
       "left": null,
       "margin": null,
       "max_height": null,
       "max_width": null,
       "min_height": null,
       "min_width": null,
       "object_fit": null,
       "object_position": null,
       "order": null,
       "overflow": null,
       "overflow_x": null,
       "overflow_y": null,
       "padding": null,
       "right": null,
       "top": null,
       "visibility": null,
       "width": null
      }
     },
     "21c660bca4774a11ad4d316f3c19ab31": {
      "model_module": "@jupyter-widgets/base",
      "model_module_version": "1.2.0",
      "model_name": "LayoutModel",
      "state": {
       "_model_module": "@jupyter-widgets/base",
       "_model_module_version": "1.2.0",
       "_model_name": "LayoutModel",
       "_view_count": null,
       "_view_module": "@jupyter-widgets/base",
       "_view_module_version": "1.2.0",
       "_view_name": "LayoutView",
       "align_content": null,
       "align_items": null,
       "align_self": null,
       "border": null,
       "bottom": null,
       "display": null,
       "flex": null,
       "flex_flow": null,
       "grid_area": null,
       "grid_auto_columns": null,
       "grid_auto_flow": null,
       "grid_auto_rows": null,
       "grid_column": null,
       "grid_gap": null,
       "grid_row": null,
       "grid_template_areas": null,
       "grid_template_columns": null,
       "grid_template_rows": null,
       "height": null,
       "justify_content": null,
       "justify_items": null,
       "left": null,
       "margin": null,
       "max_height": null,
       "max_width": null,
       "min_height": null,
       "min_width": null,
       "object_fit": null,
       "object_position": null,
       "order": null,
       "overflow": null,
       "overflow_x": null,
       "overflow_y": null,
       "padding": null,
       "right": null,
       "top": null,
       "visibility": null,
       "width": null
      }
     },
     "229753ca1d6b46e38d5f3b8d535cab28": {
      "model_module": "@jupyter-widgets/controls",
      "model_module_version": "1.5.0",
      "model_name": "HBoxModel",
      "state": {
       "_dom_classes": [],
       "_model_module": "@jupyter-widgets/controls",
       "_model_module_version": "1.5.0",
       "_model_name": "HBoxModel",
       "_view_count": null,
       "_view_module": "@jupyter-widgets/controls",
       "_view_module_version": "1.5.0",
       "_view_name": "HBoxView",
       "box_style": "",
       "children": [
        "IPY_MODEL_a616d7ab1e1d4b66bb8b58c2b22f4c33",
        "IPY_MODEL_c8bc1ef3c75b47068f5ede253b5c161e",
        "IPY_MODEL_2872e8c9985340c280271e9a206fbd8b"
       ],
       "layout": "IPY_MODEL_732f43c34632494c8edf99318875100d"
      }
     },
     "262d3937be834ac1bcd247d46360f0cf": {
      "model_module": "@jupyter-widgets/controls",
      "model_module_version": "1.5.0",
      "model_name": "DescriptionStyleModel",
      "state": {
       "_model_module": "@jupyter-widgets/controls",
       "_model_module_version": "1.5.0",
       "_model_name": "DescriptionStyleModel",
       "_view_count": null,
       "_view_module": "@jupyter-widgets/base",
       "_view_module_version": "1.2.0",
       "_view_name": "StyleView",
       "description_width": ""
      }
     },
     "283702158f71427e8eb1a07deadbd8e2": {
      "model_module": "@jupyter-widgets/controls",
      "model_module_version": "1.5.0",
      "model_name": "FloatProgressModel",
      "state": {
       "_dom_classes": [],
       "_model_module": "@jupyter-widgets/controls",
       "_model_module_version": "1.5.0",
       "_model_name": "FloatProgressModel",
       "_view_count": null,
       "_view_module": "@jupyter-widgets/controls",
       "_view_module_version": "1.5.0",
       "_view_name": "ProgressView",
       "bar_style": "success",
       "description": "",
       "description_tooltip": null,
       "layout": "IPY_MODEL_a8305d862fd240e8bb35a04553b520b9",
       "max": 37.0,
       "min": 0.0,
       "orientation": "horizontal",
       "style": "IPY_MODEL_ac14d5abd1d64bed9938fd57e0316db7",
       "value": 37.0
      }
     },
     "2872e8c9985340c280271e9a206fbd8b": {
      "model_module": "@jupyter-widgets/controls",
      "model_module_version": "1.5.0",
      "model_name": "HTMLModel",
      "state": {
       "_dom_classes": [],
       "_model_module": "@jupyter-widgets/controls",
       "_model_module_version": "1.5.0",
       "_model_name": "HTMLModel",
       "_view_count": null,
       "_view_module": "@jupyter-widgets/controls",
       "_view_module_version": "1.5.0",
       "_view_name": "HTMLView",
       "description": "",
       "description_tooltip": null,
       "layout": "IPY_MODEL_de15c81db8ae4d7897ed7e4ed298e2e7",
       "placeholder": "​",
       "style": "IPY_MODEL_77a43c3bb8ed4a6ba5dbec75a8e6314f",
       "value": " 1/1 [00:00&lt;00:00, 24.30ba/s]"
      }
     },
     "2e5c21196d2341aaa601d11ade2bdbbb": {
      "model_module": "@jupyter-widgets/base",
      "model_module_version": "1.2.0",
      "model_name": "LayoutModel",
      "state": {
       "_model_module": "@jupyter-widgets/base",
       "_model_module_version": "1.2.0",
       "_model_name": "LayoutModel",
       "_view_count": null,
       "_view_module": "@jupyter-widgets/base",
       "_view_module_version": "1.2.0",
       "_view_name": "LayoutView",
       "align_content": null,
       "align_items": null,
       "align_self": null,
       "border": null,
       "bottom": null,
       "display": null,
       "flex": null,
       "flex_flow": null,
       "grid_area": null,
       "grid_auto_columns": null,
       "grid_auto_flow": null,
       "grid_auto_rows": null,
       "grid_column": null,
       "grid_gap": null,
       "grid_row": null,
       "grid_template_areas": null,
       "grid_template_columns": null,
       "grid_template_rows": null,
       "height": null,
       "justify_content": null,
       "justify_items": null,
       "left": null,
       "margin": null,
       "max_height": null,
       "max_width": null,
       "min_height": null,
       "min_width": null,
       "object_fit": null,
       "object_position": null,
       "order": null,
       "overflow": null,
       "overflow_x": null,
       "overflow_y": null,
       "padding": null,
       "right": null,
       "top": null,
       "visibility": null,
       "width": null
      }
     },
     "2f707ad50f474eeb87f1c0c24a5d630d": {
      "model_module": "@jupyter-widgets/base",
      "model_module_version": "1.2.0",
      "model_name": "LayoutModel",
      "state": {
       "_model_module": "@jupyter-widgets/base",
       "_model_module_version": "1.2.0",
       "_model_name": "LayoutModel",
       "_view_count": null,
       "_view_module": "@jupyter-widgets/base",
       "_view_module_version": "1.2.0",
       "_view_name": "LayoutView",
       "align_content": null,
       "align_items": null,
       "align_self": null,
       "border": null,
       "bottom": null,
       "display": null,
       "flex": null,
       "flex_flow": null,
       "grid_area": null,
       "grid_auto_columns": null,
       "grid_auto_flow": null,
       "grid_auto_rows": null,
       "grid_column": null,
       "grid_gap": null,
       "grid_row": null,
       "grid_template_areas": null,
       "grid_template_columns": null,
       "grid_template_rows": null,
       "height": null,
       "justify_content": null,
       "justify_items": null,
       "left": null,
       "margin": null,
       "max_height": null,
       "max_width": null,
       "min_height": null,
       "min_width": null,
       "object_fit": null,
       "object_position": null,
       "order": null,
       "overflow": null,
       "overflow_x": null,
       "overflow_y": null,
       "padding": null,
       "right": null,
       "top": null,
       "visibility": null,
       "width": null
      }
     },
     "31a1edb6106244d98215ccdb08cecdf9": {
      "model_module": "@jupyter-widgets/controls",
      "model_module_version": "1.5.0",
      "model_name": "HTMLModel",
      "state": {
       "_dom_classes": [],
       "_model_module": "@jupyter-widgets/controls",
       "_model_module_version": "1.5.0",
       "_model_name": "HTMLModel",
       "_view_count": null,
       "_view_module": "@jupyter-widgets/controls",
       "_view_module_version": "1.5.0",
       "_view_name": "HTMLView",
       "description": "",
       "description_tooltip": null,
       "layout": "IPY_MODEL_122b2e909a6b461bbe4a8d84ed34ea23",
       "placeholder": "​",
       "style": "IPY_MODEL_262d3937be834ac1bcd247d46360f0cf",
       "value": " 37/37 [00:08&lt;00:00,  5.44ba/s]"
      }
     },
     "3c9a8ee5f497456ab89b6611b79e04ff": {
      "model_module": "@jupyter-widgets/controls",
      "model_module_version": "1.5.0",
      "model_name": "FloatProgressModel",
      "state": {
       "_dom_classes": [],
       "_model_module": "@jupyter-widgets/controls",
       "_model_module_version": "1.5.0",
       "_model_name": "FloatProgressModel",
       "_view_count": null,
       "_view_module": "@jupyter-widgets/controls",
       "_view_module_version": "1.5.0",
       "_view_name": "ProgressView",
       "bar_style": "success",
       "description": "",
       "description_tooltip": null,
       "layout": "IPY_MODEL_4fa028c0ba0f46ac98cb70c22d82c896",
       "max": 1.0,
       "min": 0.0,
       "orientation": "horizontal",
       "style": "IPY_MODEL_3f5325aa44c0456abec848aa1365c23b",
       "value": 1.0
      }
     },
     "3f5325aa44c0456abec848aa1365c23b": {
      "model_module": "@jupyter-widgets/controls",
      "model_module_version": "1.5.0",
      "model_name": "ProgressStyleModel",
      "state": {
       "_model_module": "@jupyter-widgets/controls",
       "_model_module_version": "1.5.0",
       "_model_name": "ProgressStyleModel",
       "_view_count": null,
       "_view_module": "@jupyter-widgets/base",
       "_view_module_version": "1.2.0",
       "_view_name": "StyleView",
       "bar_color": null,
       "description_width": ""
      }
     },
     "43ef26bace754ad799d51b38982a3e50": {
      "model_module": "@jupyter-widgets/controls",
      "model_module_version": "1.5.0",
      "model_name": "FloatProgressModel",
      "state": {
       "_dom_classes": [],
       "_model_module": "@jupyter-widgets/controls",
       "_model_module_version": "1.5.0",
       "_model_name": "FloatProgressModel",
       "_view_count": null,
       "_view_module": "@jupyter-widgets/controls",
       "_view_module_version": "1.5.0",
       "_view_name": "ProgressView",
       "bar_style": "success",
       "description": "",
       "description_tooltip": null,
       "layout": "IPY_MODEL_2e5c21196d2341aaa601d11ade2bdbbb",
       "max": 37.0,
       "min": 0.0,
       "orientation": "horizontal",
       "style": "IPY_MODEL_4f32b72cac174580b2e57199aedc3784",
       "value": 37.0
      }
     },
     "441fa905eed6417aae8df9710e78735d": {
      "model_module": "@jupyter-widgets/controls",
      "model_module_version": "1.5.0",
      "model_name": "ProgressStyleModel",
      "state": {
       "_model_module": "@jupyter-widgets/controls",
       "_model_module_version": "1.5.0",
       "_model_name": "ProgressStyleModel",
       "_view_count": null,
       "_view_module": "@jupyter-widgets/base",
       "_view_module_version": "1.2.0",
       "_view_name": "StyleView",
       "bar_color": null,
       "description_width": ""
      }
     },
     "4f32b72cac174580b2e57199aedc3784": {
      "model_module": "@jupyter-widgets/controls",
      "model_module_version": "1.5.0",
      "model_name": "ProgressStyleModel",
      "state": {
       "_model_module": "@jupyter-widgets/controls",
       "_model_module_version": "1.5.0",
       "_model_name": "ProgressStyleModel",
       "_view_count": null,
       "_view_module": "@jupyter-widgets/base",
       "_view_module_version": "1.2.0",
       "_view_name": "StyleView",
       "bar_color": null,
       "description_width": ""
      }
     },
     "4f453db982f24a888e82e9fcba92e038": {
      "model_module": "@jupyter-widgets/controls",
      "model_module_version": "1.5.0",
      "model_name": "HTMLModel",
      "state": {
       "_dom_classes": [],
       "_model_module": "@jupyter-widgets/controls",
       "_model_module_version": "1.5.0",
       "_model_name": "HTMLModel",
       "_view_count": null,
       "_view_module": "@jupyter-widgets/controls",
       "_view_module_version": "1.5.0",
       "_view_name": "HTMLView",
       "description": "",
       "description_tooltip": null,
       "layout": "IPY_MODEL_b0f039902f454ef9b02a33aa11a59895",
       "placeholder": "​",
       "style": "IPY_MODEL_7e2190791aba4703baba159543229322",
       "value": " 37/37 [00:03&lt;00:00, 12.43ba/s]"
      }
     },
     "4f69c417b3084333b88be1665eb81827": {
      "model_module": "@jupyter-widgets/controls",
      "model_module_version": "1.5.0",
      "model_name": "ProgressStyleModel",
      "state": {
       "_model_module": "@jupyter-widgets/controls",
       "_model_module_version": "1.5.0",
       "_model_name": "ProgressStyleModel",
       "_view_count": null,
       "_view_module": "@jupyter-widgets/base",
       "_view_module_version": "1.2.0",
       "_view_name": "StyleView",
       "bar_color": null,
       "description_width": ""
      }
     },
     "4fa028c0ba0f46ac98cb70c22d82c896": {
      "model_module": "@jupyter-widgets/base",
      "model_module_version": "1.2.0",
      "model_name": "LayoutModel",
      "state": {
       "_model_module": "@jupyter-widgets/base",
       "_model_module_version": "1.2.0",
       "_model_name": "LayoutModel",
       "_view_count": null,
       "_view_module": "@jupyter-widgets/base",
       "_view_module_version": "1.2.0",
       "_view_name": "LayoutView",
       "align_content": null,
       "align_items": null,
       "align_self": null,
       "border": null,
       "bottom": null,
       "display": null,
       "flex": null,
       "flex_flow": null,
       "grid_area": null,
       "grid_auto_columns": null,
       "grid_auto_flow": null,
       "grid_auto_rows": null,
       "grid_column": null,
       "grid_gap": null,
       "grid_row": null,
       "grid_template_areas": null,
       "grid_template_columns": null,
       "grid_template_rows": null,
       "height": null,
       "justify_content": null,
       "justify_items": null,
       "left": null,
       "margin": null,
       "max_height": null,
       "max_width": null,
       "min_height": null,
       "min_width": null,
       "object_fit": null,
       "object_position": null,
       "order": null,
       "overflow": null,
       "overflow_x": null,
       "overflow_y": null,
       "padding": null,
       "right": null,
       "top": null,
       "visibility": null,
       "width": null
      }
     },
     "501a2b0d8a7345d0b10f09c8c076abdd": {
      "model_module": "@jupyter-widgets/controls",
      "model_module_version": "1.5.0",
      "model_name": "HBoxModel",
      "state": {
       "_dom_classes": [],
       "_model_module": "@jupyter-widgets/controls",
       "_model_module_version": "1.5.0",
       "_model_name": "HBoxModel",
       "_view_count": null,
       "_view_module": "@jupyter-widgets/controls",
       "_view_module_version": "1.5.0",
       "_view_name": "HBoxView",
       "box_style": "",
       "children": [
        "IPY_MODEL_75cbf8a2f75d4d55bc6893067ff649ba",
        "IPY_MODEL_5546e2c448ec47d39828555e11c55048",
        "IPY_MODEL_68b197310dcc497a8dda48ed122f5232"
       ],
       "layout": "IPY_MODEL_c0ac14aad8c54874b51b18be618b1d42"
      }
     },
     "5464e2d1445b473ab3bbedd8292f6c1f": {
      "model_module": "@jupyter-widgets/base",
      "model_module_version": "1.2.0",
      "model_name": "LayoutModel",
      "state": {
       "_model_module": "@jupyter-widgets/base",
       "_model_module_version": "1.2.0",
       "_model_name": "LayoutModel",
       "_view_count": null,
       "_view_module": "@jupyter-widgets/base",
       "_view_module_version": "1.2.0",
       "_view_name": "LayoutView",
       "align_content": null,
       "align_items": null,
       "align_self": null,
       "border": null,
       "bottom": null,
       "display": null,
       "flex": null,
       "flex_flow": null,
       "grid_area": null,
       "grid_auto_columns": null,
       "grid_auto_flow": null,
       "grid_auto_rows": null,
       "grid_column": null,
       "grid_gap": null,
       "grid_row": null,
       "grid_template_areas": null,
       "grid_template_columns": null,
       "grid_template_rows": null,
       "height": null,
       "justify_content": null,
       "justify_items": null,
       "left": null,
       "margin": null,
       "max_height": null,
       "max_width": null,
       "min_height": null,
       "min_width": null,
       "object_fit": null,
       "object_position": null,
       "order": null,
       "overflow": null,
       "overflow_x": null,
       "overflow_y": null,
       "padding": null,
       "right": null,
       "top": null,
       "visibility": null,
       "width": null
      }
     },
     "5546e2c448ec47d39828555e11c55048": {
      "model_module": "@jupyter-widgets/controls",
      "model_module_version": "1.5.0",
      "model_name": "FloatProgressModel",
      "state": {
       "_dom_classes": [],
       "_model_module": "@jupyter-widgets/controls",
       "_model_module_version": "1.5.0",
       "_model_name": "FloatProgressModel",
       "_view_count": null,
       "_view_module": "@jupyter-widgets/controls",
       "_view_module_version": "1.5.0",
       "_view_name": "ProgressView",
       "bar_style": "success",
       "description": "",
       "description_tooltip": null,
       "layout": "IPY_MODEL_cdcb53a2c89a431594204e005ca1aba2",
       "max": 1.0,
       "min": 0.0,
       "orientation": "horizontal",
       "style": "IPY_MODEL_67eebf4ea9574d68966748c402452f34",
       "value": 1.0
      }
     },
     "5f43b54c6e72480488504662f955d222": {
      "model_module": "@jupyter-widgets/base",
      "model_module_version": "1.2.0",
      "model_name": "LayoutModel",
      "state": {
       "_model_module": "@jupyter-widgets/base",
       "_model_module_version": "1.2.0",
       "_model_name": "LayoutModel",
       "_view_count": null,
       "_view_module": "@jupyter-widgets/base",
       "_view_module_version": "1.2.0",
       "_view_name": "LayoutView",
       "align_content": null,
       "align_items": null,
       "align_self": null,
       "border": null,
       "bottom": null,
       "display": null,
       "flex": null,
       "flex_flow": null,
       "grid_area": null,
       "grid_auto_columns": null,
       "grid_auto_flow": null,
       "grid_auto_rows": null,
       "grid_column": null,
       "grid_gap": null,
       "grid_row": null,
       "grid_template_areas": null,
       "grid_template_columns": null,
       "grid_template_rows": null,
       "height": null,
       "justify_content": null,
       "justify_items": null,
       "left": null,
       "margin": null,
       "max_height": null,
       "max_width": null,
       "min_height": null,
       "min_width": null,
       "object_fit": null,
       "object_position": null,
       "order": null,
       "overflow": null,
       "overflow_x": null,
       "overflow_y": null,
       "padding": null,
       "right": null,
       "top": null,
       "visibility": null,
       "width": null
      }
     },
     "62e5f2b131744527839a015a1b7f8180": {
      "model_module": "@jupyter-widgets/controls",
      "model_module_version": "1.5.0",
      "model_name": "DescriptionStyleModel",
      "state": {
       "_model_module": "@jupyter-widgets/controls",
       "_model_module_version": "1.5.0",
       "_model_name": "DescriptionStyleModel",
       "_view_count": null,
       "_view_module": "@jupyter-widgets/base",
       "_view_module_version": "1.2.0",
       "_view_name": "StyleView",
       "description_width": ""
      }
     },
     "65644b0a2230447c886ecbdfe3697f71": {
      "model_module": "@jupyter-widgets/base",
      "model_module_version": "1.2.0",
      "model_name": "LayoutModel",
      "state": {
       "_model_module": "@jupyter-widgets/base",
       "_model_module_version": "1.2.0",
       "_model_name": "LayoutModel",
       "_view_count": null,
       "_view_module": "@jupyter-widgets/base",
       "_view_module_version": "1.2.0",
       "_view_name": "LayoutView",
       "align_content": null,
       "align_items": null,
       "align_self": null,
       "border": null,
       "bottom": null,
       "display": null,
       "flex": null,
       "flex_flow": null,
       "grid_area": null,
       "grid_auto_columns": null,
       "grid_auto_flow": null,
       "grid_auto_rows": null,
       "grid_column": null,
       "grid_gap": null,
       "grid_row": null,
       "grid_template_areas": null,
       "grid_template_columns": null,
       "grid_template_rows": null,
       "height": null,
       "justify_content": null,
       "justify_items": null,
       "left": null,
       "margin": null,
       "max_height": null,
       "max_width": null,
       "min_height": null,
       "min_width": null,
       "object_fit": null,
       "object_position": null,
       "order": null,
       "overflow": null,
       "overflow_x": null,
       "overflow_y": null,
       "padding": null,
       "right": null,
       "top": null,
       "visibility": null,
       "width": null
      }
     },
     "658cb44777b944959316025e8ff55ef6": {
      "model_module": "@jupyter-widgets/controls",
      "model_module_version": "1.5.0",
      "model_name": "HBoxModel",
      "state": {
       "_dom_classes": [],
       "_model_module": "@jupyter-widgets/controls",
       "_model_module_version": "1.5.0",
       "_model_name": "HBoxModel",
       "_view_count": null,
       "_view_module": "@jupyter-widgets/controls",
       "_view_module_version": "1.5.0",
       "_view_name": "HBoxView",
       "box_style": "",
       "children": [
        "IPY_MODEL_7a9f87c0926d4357871dc66167e70cbb",
        "IPY_MODEL_e9955f5d3a69425ab426521df625a805",
        "IPY_MODEL_31a1edb6106244d98215ccdb08cecdf9"
       ],
       "layout": "IPY_MODEL_19213ea4cbaf470b85e1debb8b3eb204"
      }
     },
     "677becc2421a48c6972c326fa24593c2": {
      "model_module": "@jupyter-widgets/controls",
      "model_module_version": "1.5.0",
      "model_name": "DescriptionStyleModel",
      "state": {
       "_model_module": "@jupyter-widgets/controls",
       "_model_module_version": "1.5.0",
       "_model_name": "DescriptionStyleModel",
       "_view_count": null,
       "_view_module": "@jupyter-widgets/base",
       "_view_module_version": "1.2.0",
       "_view_name": "StyleView",
       "description_width": ""
      }
     },
     "67eebf4ea9574d68966748c402452f34": {
      "model_module": "@jupyter-widgets/controls",
      "model_module_version": "1.5.0",
      "model_name": "ProgressStyleModel",
      "state": {
       "_model_module": "@jupyter-widgets/controls",
       "_model_module_version": "1.5.0",
       "_model_name": "ProgressStyleModel",
       "_view_count": null,
       "_view_module": "@jupyter-widgets/base",
       "_view_module_version": "1.2.0",
       "_view_name": "StyleView",
       "bar_color": null,
       "description_width": ""
      }
     },
     "68b197310dcc497a8dda48ed122f5232": {
      "model_module": "@jupyter-widgets/controls",
      "model_module_version": "1.5.0",
      "model_name": "HTMLModel",
      "state": {
       "_dom_classes": [],
       "_model_module": "@jupyter-widgets/controls",
       "_model_module_version": "1.5.0",
       "_model_name": "HTMLModel",
       "_view_count": null,
       "_view_module": "@jupyter-widgets/controls",
       "_view_module_version": "1.5.0",
       "_view_name": "HTMLView",
       "description": "",
       "description_tooltip": null,
       "layout": "IPY_MODEL_fe33561f7b174834a38ad13f13f88a31",
       "placeholder": "​",
       "style": "IPY_MODEL_a462411853d240f6837640e8e39c4d6e",
       "value": " 1/1 [00:00&lt;00:00, 27.62ba/s]"
      }
     },
     "732f43c34632494c8edf99318875100d": {
      "model_module": "@jupyter-widgets/base",
      "model_module_version": "1.2.0",
      "model_name": "LayoutModel",
      "state": {
       "_model_module": "@jupyter-widgets/base",
       "_model_module_version": "1.2.0",
       "_model_name": "LayoutModel",
       "_view_count": null,
       "_view_module": "@jupyter-widgets/base",
       "_view_module_version": "1.2.0",
       "_view_name": "LayoutView",
       "align_content": null,
       "align_items": null,
       "align_self": null,
       "border": null,
       "bottom": null,
       "display": null,
       "flex": null,
       "flex_flow": null,
       "grid_area": null,
       "grid_auto_columns": null,
       "grid_auto_flow": null,
       "grid_auto_rows": null,
       "grid_column": null,
       "grid_gap": null,
       "grid_row": null,
       "grid_template_areas": null,
       "grid_template_columns": null,
       "grid_template_rows": null,
       "height": null,
       "justify_content": null,
       "justify_items": null,
       "left": null,
       "margin": null,
       "max_height": null,
       "max_width": null,
       "min_height": null,
       "min_width": null,
       "object_fit": null,
       "object_position": null,
       "order": null,
       "overflow": null,
       "overflow_x": null,
       "overflow_y": null,
       "padding": null,
       "right": null,
       "top": null,
       "visibility": null,
       "width": null
      }
     },
     "75785ac61db5458b8313e5e89f8d2f86": {
      "model_module": "@jupyter-widgets/controls",
      "model_module_version": "1.5.0",
      "model_name": "DescriptionStyleModel",
      "state": {
       "_model_module": "@jupyter-widgets/controls",
       "_model_module_version": "1.5.0",
       "_model_name": "DescriptionStyleModel",
       "_view_count": null,
       "_view_module": "@jupyter-widgets/base",
       "_view_module_version": "1.2.0",
       "_view_name": "StyleView",
       "description_width": ""
      }
     },
     "75cbf8a2f75d4d55bc6893067ff649ba": {
      "model_module": "@jupyter-widgets/controls",
      "model_module_version": "1.5.0",
      "model_name": "HTMLModel",
      "state": {
       "_dom_classes": [],
       "_model_module": "@jupyter-widgets/controls",
       "_model_module_version": "1.5.0",
       "_model_name": "HTMLModel",
       "_view_count": null,
       "_view_module": "@jupyter-widgets/controls",
       "_view_module_version": "1.5.0",
       "_view_name": "HTMLView",
       "description": "",
       "description_tooltip": null,
       "layout": "IPY_MODEL_0fcb13b5d9094502a5961d3394a88747",
       "placeholder": "​",
       "style": "IPY_MODEL_be33c54ab9f9494ebe99fc9a474d5305",
       "value": "100%"
      }
     },
     "77a43c3bb8ed4a6ba5dbec75a8e6314f": {
      "model_module": "@jupyter-widgets/controls",
      "model_module_version": "1.5.0",
      "model_name": "DescriptionStyleModel",
      "state": {
       "_model_module": "@jupyter-widgets/controls",
       "_model_module_version": "1.5.0",
       "_model_name": "DescriptionStyleModel",
       "_view_count": null,
       "_view_module": "@jupyter-widgets/base",
       "_view_module_version": "1.2.0",
       "_view_name": "StyleView",
       "description_width": ""
      }
     },
     "7a9f87c0926d4357871dc66167e70cbb": {
      "model_module": "@jupyter-widgets/controls",
      "model_module_version": "1.5.0",
      "model_name": "HTMLModel",
      "state": {
       "_dom_classes": [],
       "_model_module": "@jupyter-widgets/controls",
       "_model_module_version": "1.5.0",
       "_model_name": "HTMLModel",
       "_view_count": null,
       "_view_module": "@jupyter-widgets/controls",
       "_view_module_version": "1.5.0",
       "_view_name": "HTMLView",
       "description": "",
       "description_tooltip": null,
       "layout": "IPY_MODEL_8f323f5e93644aa2964b15090f09b52d",
       "placeholder": "​",
       "style": "IPY_MODEL_677becc2421a48c6972c326fa24593c2",
       "value": "100%"
      }
     },
     "7e2190791aba4703baba159543229322": {
      "model_module": "@jupyter-widgets/controls",
      "model_module_version": "1.5.0",
      "model_name": "DescriptionStyleModel",
      "state": {
       "_model_module": "@jupyter-widgets/controls",
       "_model_module_version": "1.5.0",
       "_model_name": "DescriptionStyleModel",
       "_view_count": null,
       "_view_module": "@jupyter-widgets/base",
       "_view_module_version": "1.2.0",
       "_view_name": "StyleView",
       "description_width": ""
      }
     },
     "8ea80e984df147ec83bc13df3cf1bee2": {
      "model_module": "@jupyter-widgets/controls",
      "model_module_version": "1.5.0",
      "model_name": "DescriptionStyleModel",
      "state": {
       "_model_module": "@jupyter-widgets/controls",
       "_model_module_version": "1.5.0",
       "_model_name": "DescriptionStyleModel",
       "_view_count": null,
       "_view_module": "@jupyter-widgets/base",
       "_view_module_version": "1.2.0",
       "_view_name": "StyleView",
       "description_width": ""
      }
     },
     "8f323f5e93644aa2964b15090f09b52d": {
      "model_module": "@jupyter-widgets/base",
      "model_module_version": "1.2.0",
      "model_name": "LayoutModel",
      "state": {
       "_model_module": "@jupyter-widgets/base",
       "_model_module_version": "1.2.0",
       "_model_name": "LayoutModel",
       "_view_count": null,
       "_view_module": "@jupyter-widgets/base",
       "_view_module_version": "1.2.0",
       "_view_name": "LayoutView",
       "align_content": null,
       "align_items": null,
       "align_self": null,
       "border": null,
       "bottom": null,
       "display": null,
       "flex": null,
       "flex_flow": null,
       "grid_area": null,
       "grid_auto_columns": null,
       "grid_auto_flow": null,
       "grid_auto_rows": null,
       "grid_column": null,
       "grid_gap": null,
       "grid_row": null,
       "grid_template_areas": null,
       "grid_template_columns": null,
       "grid_template_rows": null,
       "height": null,
       "justify_content": null,
       "justify_items": null,
       "left": null,
       "margin": null,
       "max_height": null,
       "max_width": null,
       "min_height": null,
       "min_width": null,
       "object_fit": null,
       "object_position": null,
       "order": null,
       "overflow": null,
       "overflow_x": null,
       "overflow_y": null,
       "padding": null,
       "right": null,
       "top": null,
       "visibility": null,
       "width": null
      }
     },
     "963db9c172434045a4ca7f5a52722618": {
      "model_module": "@jupyter-widgets/controls",
      "model_module_version": "1.5.0",
      "model_name": "HTMLModel",
      "state": {
       "_dom_classes": [],
       "_model_module": "@jupyter-widgets/controls",
       "_model_module_version": "1.5.0",
       "_model_name": "HTMLModel",
       "_view_count": null,
       "_view_module": "@jupyter-widgets/controls",
       "_view_module_version": "1.5.0",
       "_view_name": "HTMLView",
       "description": "",
       "description_tooltip": null,
       "layout": "IPY_MODEL_21c660bca4774a11ad4d316f3c19ab31",
       "placeholder": "​",
       "style": "IPY_MODEL_75785ac61db5458b8313e5e89f8d2f86",
       "value": " 1/1 [00:00&lt;00:00, 25.74ba/s]"
      }
     },
     "96f74b98784b4ae980473ad84a01738f": {
      "model_module": "@jupyter-widgets/controls",
      "model_module_version": "1.5.0",
      "model_name": "DescriptionStyleModel",
      "state": {
       "_model_module": "@jupyter-widgets/controls",
       "_model_module_version": "1.5.0",
       "_model_name": "DescriptionStyleModel",
       "_view_count": null,
       "_view_module": "@jupyter-widgets/base",
       "_view_module_version": "1.2.0",
       "_view_name": "StyleView",
       "description_width": ""
      }
     },
     "9eb40bbf1a18452399ade13a0c126b5d": {
      "model_module": "@jupyter-widgets/controls",
      "model_module_version": "1.5.0",
      "model_name": "HTMLModel",
      "state": {
       "_dom_classes": [],
       "_model_module": "@jupyter-widgets/controls",
       "_model_module_version": "1.5.0",
       "_model_name": "HTMLModel",
       "_view_count": null,
       "_view_module": "@jupyter-widgets/controls",
       "_view_module_version": "1.5.0",
       "_view_name": "HTMLView",
       "description": "",
       "description_tooltip": null,
       "layout": "IPY_MODEL_b406e82a204d430098427c7ee67c8682",
       "placeholder": "​",
       "style": "IPY_MODEL_fbe112ae4c0f41149c532047928b3053",
       "value": " 37/37 [00:07&lt;00:00,  5.55ba/s]"
      }
     },
     "a462411853d240f6837640e8e39c4d6e": {
      "model_module": "@jupyter-widgets/controls",
      "model_module_version": "1.5.0",
      "model_name": "DescriptionStyleModel",
      "state": {
       "_model_module": "@jupyter-widgets/controls",
       "_model_module_version": "1.5.0",
       "_model_name": "DescriptionStyleModel",
       "_view_count": null,
       "_view_module": "@jupyter-widgets/base",
       "_view_module_version": "1.2.0",
       "_view_name": "StyleView",
       "description_width": ""
      }
     },
     "a559a6e36dfe45869717e7a2f1bf16ed": {
      "model_module": "@jupyter-widgets/controls",
      "model_module_version": "1.5.0",
      "model_name": "HTMLModel",
      "state": {
       "_dom_classes": [],
       "_model_module": "@jupyter-widgets/controls",
       "_model_module_version": "1.5.0",
       "_model_name": "HTMLModel",
       "_view_count": null,
       "_view_module": "@jupyter-widgets/controls",
       "_view_module_version": "1.5.0",
       "_view_name": "HTMLView",
       "description": "",
       "description_tooltip": null,
       "layout": "IPY_MODEL_5f43b54c6e72480488504662f955d222",
       "placeholder": "​",
       "style": "IPY_MODEL_62e5f2b131744527839a015a1b7f8180",
       "value": "100%"
      }
     },
     "a616d7ab1e1d4b66bb8b58c2b22f4c33": {
      "model_module": "@jupyter-widgets/controls",
      "model_module_version": "1.5.0",
      "model_name": "HTMLModel",
      "state": {
       "_dom_classes": [],
       "_model_module": "@jupyter-widgets/controls",
       "_model_module_version": "1.5.0",
       "_model_name": "HTMLModel",
       "_view_count": null,
       "_view_module": "@jupyter-widgets/controls",
       "_view_module_version": "1.5.0",
       "_view_name": "HTMLView",
       "description": "",
       "description_tooltip": null,
       "layout": "IPY_MODEL_65644b0a2230447c886ecbdfe3697f71",
       "placeholder": "​",
       "style": "IPY_MODEL_e6af1975efec41adbe7d26a1465d7b80",
       "value": "100%"
      }
     },
     "a8305d862fd240e8bb35a04553b520b9": {
      "model_module": "@jupyter-widgets/base",
      "model_module_version": "1.2.0",
      "model_name": "LayoutModel",
      "state": {
       "_model_module": "@jupyter-widgets/base",
       "_model_module_version": "1.2.0",
       "_model_name": "LayoutModel",
       "_view_count": null,
       "_view_module": "@jupyter-widgets/base",
       "_view_module_version": "1.2.0",
       "_view_name": "LayoutView",
       "align_content": null,
       "align_items": null,
       "align_self": null,
       "border": null,
       "bottom": null,
       "display": null,
       "flex": null,
       "flex_flow": null,
       "grid_area": null,
       "grid_auto_columns": null,
       "grid_auto_flow": null,
       "grid_auto_rows": null,
       "grid_column": null,
       "grid_gap": null,
       "grid_row": null,
       "grid_template_areas": null,
       "grid_template_columns": null,
       "grid_template_rows": null,
       "height": null,
       "justify_content": null,
       "justify_items": null,
       "left": null,
       "margin": null,
       "max_height": null,
       "max_width": null,
       "min_height": null,
       "min_width": null,
       "object_fit": null,
       "object_position": null,
       "order": null,
       "overflow": null,
       "overflow_x": null,
       "overflow_y": null,
       "padding": null,
       "right": null,
       "top": null,
       "visibility": null,
       "width": null
      }
     },
     "ac14d5abd1d64bed9938fd57e0316db7": {
      "model_module": "@jupyter-widgets/controls",
      "model_module_version": "1.5.0",
      "model_name": "ProgressStyleModel",
      "state": {
       "_model_module": "@jupyter-widgets/controls",
       "_model_module_version": "1.5.0",
       "_model_name": "ProgressStyleModel",
       "_view_count": null,
       "_view_module": "@jupyter-widgets/base",
       "_view_module_version": "1.2.0",
       "_view_name": "StyleView",
       "bar_color": null,
       "description_width": ""
      }
     },
     "b0f039902f454ef9b02a33aa11a59895": {
      "model_module": "@jupyter-widgets/base",
      "model_module_version": "1.2.0",
      "model_name": "LayoutModel",
      "state": {
       "_model_module": "@jupyter-widgets/base",
       "_model_module_version": "1.2.0",
       "_model_name": "LayoutModel",
       "_view_count": null,
       "_view_module": "@jupyter-widgets/base",
       "_view_module_version": "1.2.0",
       "_view_name": "LayoutView",
       "align_content": null,
       "align_items": null,
       "align_self": null,
       "border": null,
       "bottom": null,
       "display": null,
       "flex": null,
       "flex_flow": null,
       "grid_area": null,
       "grid_auto_columns": null,
       "grid_auto_flow": null,
       "grid_auto_rows": null,
       "grid_column": null,
       "grid_gap": null,
       "grid_row": null,
       "grid_template_areas": null,
       "grid_template_columns": null,
       "grid_template_rows": null,
       "height": null,
       "justify_content": null,
       "justify_items": null,
       "left": null,
       "margin": null,
       "max_height": null,
       "max_width": null,
       "min_height": null,
       "min_width": null,
       "object_fit": null,
       "object_position": null,
       "order": null,
       "overflow": null,
       "overflow_x": null,
       "overflow_y": null,
       "padding": null,
       "right": null,
       "top": null,
       "visibility": null,
       "width": null
      }
     },
     "b1ff89c86967473a9f95f1d5000fa78f": {
      "model_module": "@jupyter-widgets/base",
      "model_module_version": "1.2.0",
      "model_name": "LayoutModel",
      "state": {
       "_model_module": "@jupyter-widgets/base",
       "_model_module_version": "1.2.0",
       "_model_name": "LayoutModel",
       "_view_count": null,
       "_view_module": "@jupyter-widgets/base",
       "_view_module_version": "1.2.0",
       "_view_name": "LayoutView",
       "align_content": null,
       "align_items": null,
       "align_self": null,
       "border": null,
       "bottom": null,
       "display": null,
       "flex": null,
       "flex_flow": null,
       "grid_area": null,
       "grid_auto_columns": null,
       "grid_auto_flow": null,
       "grid_auto_rows": null,
       "grid_column": null,
       "grid_gap": null,
       "grid_row": null,
       "grid_template_areas": null,
       "grid_template_columns": null,
       "grid_template_rows": null,
       "height": null,
       "justify_content": null,
       "justify_items": null,
       "left": null,
       "margin": null,
       "max_height": null,
       "max_width": null,
       "min_height": null,
       "min_width": null,
       "object_fit": null,
       "object_position": null,
       "order": null,
       "overflow": null,
       "overflow_x": null,
       "overflow_y": null,
       "padding": null,
       "right": null,
       "top": null,
       "visibility": null,
       "width": null
      }
     },
     "b406e82a204d430098427c7ee67c8682": {
      "model_module": "@jupyter-widgets/base",
      "model_module_version": "1.2.0",
      "model_name": "LayoutModel",
      "state": {
       "_model_module": "@jupyter-widgets/base",
       "_model_module_version": "1.2.0",
       "_model_name": "LayoutModel",
       "_view_count": null,
       "_view_module": "@jupyter-widgets/base",
       "_view_module_version": "1.2.0",
       "_view_name": "LayoutView",
       "align_content": null,
       "align_items": null,
       "align_self": null,
       "border": null,
       "bottom": null,
       "display": null,
       "flex": null,
       "flex_flow": null,
       "grid_area": null,
       "grid_auto_columns": null,
       "grid_auto_flow": null,
       "grid_auto_rows": null,
       "grid_column": null,
       "grid_gap": null,
       "grid_row": null,
       "grid_template_areas": null,
       "grid_template_columns": null,
       "grid_template_rows": null,
       "height": null,
       "justify_content": null,
       "justify_items": null,
       "left": null,
       "margin": null,
       "max_height": null,
       "max_width": null,
       "min_height": null,
       "min_width": null,
       "object_fit": null,
       "object_position": null,
       "order": null,
       "overflow": null,
       "overflow_x": null,
       "overflow_y": null,
       "padding": null,
       "right": null,
       "top": null,
       "visibility": null,
       "width": null
      }
     },
     "be33c54ab9f9494ebe99fc9a474d5305": {
      "model_module": "@jupyter-widgets/controls",
      "model_module_version": "1.5.0",
      "model_name": "DescriptionStyleModel",
      "state": {
       "_model_module": "@jupyter-widgets/controls",
       "_model_module_version": "1.5.0",
       "_model_name": "DescriptionStyleModel",
       "_view_count": null,
       "_view_module": "@jupyter-widgets/base",
       "_view_module_version": "1.2.0",
       "_view_name": "StyleView",
       "description_width": ""
      }
     },
     "c0ac14aad8c54874b51b18be618b1d42": {
      "model_module": "@jupyter-widgets/base",
      "model_module_version": "1.2.0",
      "model_name": "LayoutModel",
      "state": {
       "_model_module": "@jupyter-widgets/base",
       "_model_module_version": "1.2.0",
       "_model_name": "LayoutModel",
       "_view_count": null,
       "_view_module": "@jupyter-widgets/base",
       "_view_module_version": "1.2.0",
       "_view_name": "LayoutView",
       "align_content": null,
       "align_items": null,
       "align_self": null,
       "border": null,
       "bottom": null,
       "display": null,
       "flex": null,
       "flex_flow": null,
       "grid_area": null,
       "grid_auto_columns": null,
       "grid_auto_flow": null,
       "grid_auto_rows": null,
       "grid_column": null,
       "grid_gap": null,
       "grid_row": null,
       "grid_template_areas": null,
       "grid_template_columns": null,
       "grid_template_rows": null,
       "height": null,
       "justify_content": null,
       "justify_items": null,
       "left": null,
       "margin": null,
       "max_height": null,
       "max_width": null,
       "min_height": null,
       "min_width": null,
       "object_fit": null,
       "object_position": null,
       "order": null,
       "overflow": null,
       "overflow_x": null,
       "overflow_y": null,
       "padding": null,
       "right": null,
       "top": null,
       "visibility": null,
       "width": null
      }
     },
     "c8bc1ef3c75b47068f5ede253b5c161e": {
      "model_module": "@jupyter-widgets/controls",
      "model_module_version": "1.5.0",
      "model_name": "FloatProgressModel",
      "state": {
       "_dom_classes": [],
       "_model_module": "@jupyter-widgets/controls",
       "_model_module_version": "1.5.0",
       "_model_name": "FloatProgressModel",
       "_view_count": null,
       "_view_module": "@jupyter-widgets/controls",
       "_view_module_version": "1.5.0",
       "_view_name": "ProgressView",
       "bar_style": "success",
       "description": "",
       "description_tooltip": null,
       "layout": "IPY_MODEL_da4b85f6d62a4757aa3f826a68d38517",
       "max": 1.0,
       "min": 0.0,
       "orientation": "horizontal",
       "style": "IPY_MODEL_4f69c417b3084333b88be1665eb81827",
       "value": 1.0
      }
     },
     "c9850e18155a49c88267908a5e94924f": {
      "model_module": "@jupyter-widgets/controls",
      "model_module_version": "1.5.0",
      "model_name": "HTMLModel",
      "state": {
       "_dom_classes": [],
       "_model_module": "@jupyter-widgets/controls",
       "_model_module_version": "1.5.0",
       "_model_name": "HTMLModel",
       "_view_count": null,
       "_view_module": "@jupyter-widgets/controls",
       "_view_module_version": "1.5.0",
       "_view_name": "HTMLView",
       "description": "",
       "description_tooltip": null,
       "layout": "IPY_MODEL_21320c8f6a87418b9fb1bf63d6e46d75",
       "placeholder": "​",
       "style": "IPY_MODEL_8ea80e984df147ec83bc13df3cf1bee2",
       "value": "100%"
      }
     },
     "cdcb53a2c89a431594204e005ca1aba2": {
      "model_module": "@jupyter-widgets/base",
      "model_module_version": "1.2.0",
      "model_name": "LayoutModel",
      "state": {
       "_model_module": "@jupyter-widgets/base",
       "_model_module_version": "1.2.0",
       "_model_name": "LayoutModel",
       "_view_count": null,
       "_view_module": "@jupyter-widgets/base",
       "_view_module_version": "1.2.0",
       "_view_name": "LayoutView",
       "align_content": null,
       "align_items": null,
       "align_self": null,
       "border": null,
       "bottom": null,
       "display": null,
       "flex": null,
       "flex_flow": null,
       "grid_area": null,
       "grid_auto_columns": null,
       "grid_auto_flow": null,
       "grid_auto_rows": null,
       "grid_column": null,
       "grid_gap": null,
       "grid_row": null,
       "grid_template_areas": null,
       "grid_template_columns": null,
       "grid_template_rows": null,
       "height": null,
       "justify_content": null,
       "justify_items": null,
       "left": null,
       "margin": null,
       "max_height": null,
       "max_width": null,
       "min_height": null,
       "min_width": null,
       "object_fit": null,
       "object_position": null,
       "order": null,
       "overflow": null,
       "overflow_x": null,
       "overflow_y": null,
       "padding": null,
       "right": null,
       "top": null,
       "visibility": null,
       "width": null
      }
     },
     "d13089d84fb846679e6f0ddccf7f0d5f": {
      "model_module": "@jupyter-widgets/controls",
      "model_module_version": "1.5.0",
      "model_name": "HTMLModel",
      "state": {
       "_dom_classes": [],
       "_model_module": "@jupyter-widgets/controls",
       "_model_module_version": "1.5.0",
       "_model_name": "HTMLModel",
       "_view_count": null,
       "_view_module": "@jupyter-widgets/controls",
       "_view_module_version": "1.5.0",
       "_view_name": "HTMLView",
       "description": "",
       "description_tooltip": null,
       "layout": "IPY_MODEL_5464e2d1445b473ab3bbedd8292f6c1f",
       "placeholder": "​",
       "style": "IPY_MODEL_96f74b98784b4ae980473ad84a01738f",
       "value": "100%"
      }
     },
     "da4b85f6d62a4757aa3f826a68d38517": {
      "model_module": "@jupyter-widgets/base",
      "model_module_version": "1.2.0",
      "model_name": "LayoutModel",
      "state": {
       "_model_module": "@jupyter-widgets/base",
       "_model_module_version": "1.2.0",
       "_model_name": "LayoutModel",
       "_view_count": null,
       "_view_module": "@jupyter-widgets/base",
       "_view_module_version": "1.2.0",
       "_view_name": "LayoutView",
       "align_content": null,
       "align_items": null,
       "align_self": null,
       "border": null,
       "bottom": null,
       "display": null,
       "flex": null,
       "flex_flow": null,
       "grid_area": null,
       "grid_auto_columns": null,
       "grid_auto_flow": null,
       "grid_auto_rows": null,
       "grid_column": null,
       "grid_gap": null,
       "grid_row": null,
       "grid_template_areas": null,
       "grid_template_columns": null,
       "grid_template_rows": null,
       "height": null,
       "justify_content": null,
       "justify_items": null,
       "left": null,
       "margin": null,
       "max_height": null,
       "max_width": null,
       "min_height": null,
       "min_width": null,
       "object_fit": null,
       "object_position": null,
       "order": null,
       "overflow": null,
       "overflow_x": null,
       "overflow_y": null,
       "padding": null,
       "right": null,
       "top": null,
       "visibility": null,
       "width": null
      }
     },
     "dc26c87e17314dbaa860c347adb7f816": {
      "model_module": "@jupyter-widgets/controls",
      "model_module_version": "1.5.0",
      "model_name": "HBoxModel",
      "state": {
       "_dom_classes": [],
       "_model_module": "@jupyter-widgets/controls",
       "_model_module_version": "1.5.0",
       "_model_name": "HBoxModel",
       "_view_count": null,
       "_view_module": "@jupyter-widgets/controls",
       "_view_module_version": "1.5.0",
       "_view_name": "HBoxView",
       "box_style": "",
       "children": [
        "IPY_MODEL_c9850e18155a49c88267908a5e94924f",
        "IPY_MODEL_43ef26bace754ad799d51b38982a3e50",
        "IPY_MODEL_9eb40bbf1a18452399ade13a0c126b5d"
       ],
       "layout": "IPY_MODEL_f52eff5210bc4454b71f1df2a9bfe8a6"
      }
     },
     "de15c81db8ae4d7897ed7e4ed298e2e7": {
      "model_module": "@jupyter-widgets/base",
      "model_module_version": "1.2.0",
      "model_name": "LayoutModel",
      "state": {
       "_model_module": "@jupyter-widgets/base",
       "_model_module_version": "1.2.0",
       "_model_name": "LayoutModel",
       "_view_count": null,
       "_view_module": "@jupyter-widgets/base",
       "_view_module_version": "1.2.0",
       "_view_name": "LayoutView",
       "align_content": null,
       "align_items": null,
       "align_self": null,
       "border": null,
       "bottom": null,
       "display": null,
       "flex": null,
       "flex_flow": null,
       "grid_area": null,
       "grid_auto_columns": null,
       "grid_auto_flow": null,
       "grid_auto_rows": null,
       "grid_column": null,
       "grid_gap": null,
       "grid_row": null,
       "grid_template_areas": null,
       "grid_template_columns": null,
       "grid_template_rows": null,
       "height": null,
       "justify_content": null,
       "justify_items": null,
       "left": null,
       "margin": null,
       "max_height": null,
       "max_width": null,
       "min_height": null,
       "min_width": null,
       "object_fit": null,
       "object_position": null,
       "order": null,
       "overflow": null,
       "overflow_x": null,
       "overflow_y": null,
       "padding": null,
       "right": null,
       "top": null,
       "visibility": null,
       "width": null
      }
     },
     "e6af1975efec41adbe7d26a1465d7b80": {
      "model_module": "@jupyter-widgets/controls",
      "model_module_version": "1.5.0",
      "model_name": "DescriptionStyleModel",
      "state": {
       "_model_module": "@jupyter-widgets/controls",
       "_model_module_version": "1.5.0",
       "_model_name": "DescriptionStyleModel",
       "_view_count": null,
       "_view_module": "@jupyter-widgets/base",
       "_view_module_version": "1.2.0",
       "_view_name": "StyleView",
       "description_width": ""
      }
     },
     "e9955f5d3a69425ab426521df625a805": {
      "model_module": "@jupyter-widgets/controls",
      "model_module_version": "1.5.0",
      "model_name": "FloatProgressModel",
      "state": {
       "_dom_classes": [],
       "_model_module": "@jupyter-widgets/controls",
       "_model_module_version": "1.5.0",
       "_model_name": "FloatProgressModel",
       "_view_count": null,
       "_view_module": "@jupyter-widgets/controls",
       "_view_module_version": "1.5.0",
       "_view_name": "ProgressView",
       "bar_style": "success",
       "description": "",
       "description_tooltip": null,
       "layout": "IPY_MODEL_b1ff89c86967473a9f95f1d5000fa78f",
       "max": 37.0,
       "min": 0.0,
       "orientation": "horizontal",
       "style": "IPY_MODEL_441fa905eed6417aae8df9710e78735d",
       "value": 37.0
      }
     },
     "ed37acbadb634e9bab0c86820e6f325f": {
      "model_module": "@jupyter-widgets/controls",
      "model_module_version": "1.5.0",
      "model_name": "HBoxModel",
      "state": {
       "_dom_classes": [],
       "_model_module": "@jupyter-widgets/controls",
       "_model_module_version": "1.5.0",
       "_model_name": "HBoxModel",
       "_view_count": null,
       "_view_module": "@jupyter-widgets/controls",
       "_view_module_version": "1.5.0",
       "_view_name": "HBoxView",
       "box_style": "",
       "children": [
        "IPY_MODEL_d13089d84fb846679e6f0ddccf7f0d5f",
        "IPY_MODEL_283702158f71427e8eb1a07deadbd8e2",
        "IPY_MODEL_4f453db982f24a888e82e9fcba92e038"
       ],
       "layout": "IPY_MODEL_1389f56c496d493688b6f624165cff77"
      }
     },
     "f52eff5210bc4454b71f1df2a9bfe8a6": {
      "model_module": "@jupyter-widgets/base",
      "model_module_version": "1.2.0",
      "model_name": "LayoutModel",
      "state": {
       "_model_module": "@jupyter-widgets/base",
       "_model_module_version": "1.2.0",
       "_model_name": "LayoutModel",
       "_view_count": null,
       "_view_module": "@jupyter-widgets/base",
       "_view_module_version": "1.2.0",
       "_view_name": "LayoutView",
       "align_content": null,
       "align_items": null,
       "align_self": null,
       "border": null,
       "bottom": null,
       "display": null,
       "flex": null,
       "flex_flow": null,
       "grid_area": null,
       "grid_auto_columns": null,
       "grid_auto_flow": null,
       "grid_auto_rows": null,
       "grid_column": null,
       "grid_gap": null,
       "grid_row": null,
       "grid_template_areas": null,
       "grid_template_columns": null,
       "grid_template_rows": null,
       "height": null,
       "justify_content": null,
       "justify_items": null,
       "left": null,
       "margin": null,
       "max_height": null,
       "max_width": null,
       "min_height": null,
       "min_width": null,
       "object_fit": null,
       "object_position": null,
       "order": null,
       "overflow": null,
       "overflow_x": null,
       "overflow_y": null,
       "padding": null,
       "right": null,
       "top": null,
       "visibility": null,
       "width": null
      }
     },
     "fbe112ae4c0f41149c532047928b3053": {
      "model_module": "@jupyter-widgets/controls",
      "model_module_version": "1.5.0",
      "model_name": "DescriptionStyleModel",
      "state": {
       "_model_module": "@jupyter-widgets/controls",
       "_model_module_version": "1.5.0",
       "_model_name": "DescriptionStyleModel",
       "_view_count": null,
       "_view_module": "@jupyter-widgets/base",
       "_view_module_version": "1.2.0",
       "_view_name": "StyleView",
       "description_width": ""
      }
     },
     "fe33561f7b174834a38ad13f13f88a31": {
      "model_module": "@jupyter-widgets/base",
      "model_module_version": "1.2.0",
      "model_name": "LayoutModel",
      "state": {
       "_model_module": "@jupyter-widgets/base",
       "_model_module_version": "1.2.0",
       "_model_name": "LayoutModel",
       "_view_count": null,
       "_view_module": "@jupyter-widgets/base",
       "_view_module_version": "1.2.0",
       "_view_name": "LayoutView",
       "align_content": null,
       "align_items": null,
       "align_self": null,
       "border": null,
       "bottom": null,
       "display": null,
       "flex": null,
       "flex_flow": null,
       "grid_area": null,
       "grid_auto_columns": null,
       "grid_auto_flow": null,
       "grid_auto_rows": null,
       "grid_column": null,
       "grid_gap": null,
       "grid_row": null,
       "grid_template_areas": null,
       "grid_template_columns": null,
       "grid_template_rows": null,
       "height": null,
       "justify_content": null,
       "justify_items": null,
       "left": null,
       "margin": null,
       "max_height": null,
       "max_width": null,
       "min_height": null,
       "min_width": null,
       "object_fit": null,
       "object_position": null,
       "order": null,
       "overflow": null,
       "overflow_x": null,
       "overflow_y": null,
       "padding": null,
       "right": null,
       "top": null,
       "visibility": null,
       "width": null
      }
     }
    },
    "version_major": 2,
    "version_minor": 0
   }
  }
 },
 "nbformat": 4,
 "nbformat_minor": 5
}
