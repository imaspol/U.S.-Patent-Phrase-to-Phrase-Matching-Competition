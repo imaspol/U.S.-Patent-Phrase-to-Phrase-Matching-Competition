{
 "cells": [
  {
   "cell_type": "code",
   "execution_count": 1,
   "id": "2e82eee0",
   "metadata": {
    "_cell_guid": "b1076dfc-b9ad-4769-8c92-a6c4dae69d19",
    "_uuid": "8f2839f25d086af736a60e9eeb907d3b93b6e0e5",
    "execution": {
     "iopub.execute_input": "2022-06-07T23:45:41.688455Z",
     "iopub.status.busy": "2022-06-07T23:45:41.687713Z",
     "iopub.status.idle": "2022-06-07T23:45:41.705233Z",
     "shell.execute_reply": "2022-06-07T23:45:41.704221Z"
    },
    "papermill": {
     "duration": 0.09033,
     "end_time": "2022-06-07T23:45:41.707900",
     "exception": false,
     "start_time": "2022-06-07T23:45:41.617570",
     "status": "completed"
    },
    "tags": []
   },
   "outputs": [
    {
     "name": "stdout",
     "output_type": "stream",
     "text": [
      "/kaggle/input/us-patent-phrase-to-phrase-matching/sample_submission.csv\n",
      "/kaggle/input/us-patent-phrase-to-phrase-matching/train.csv\n",
      "/kaggle/input/us-patent-phrase-to-phrase-matching/test.csv\n",
      "/kaggle/input/cpc-codes/titles.csv\n"
     ]
    }
   ],
   "source": [
    "# This Python 3 environment comes with many helpful analytics libraries installed\n",
    "# It is defined by the kaggle/python Docker image: https://github.com/kaggle/docker-python\n",
    "# For example, here's several helpful packages to load\n",
    "\n",
    "import numpy as np # linear algebra\n",
    "import pandas as pd # data processing, CSV file I/O (e.g. pd.read_csv)\n",
    "\n",
    "# Input data files are available in the read-only \"../input/\" directory\n",
    "# For example, running this (by clicking run or pressing Shift+Enter) will list all files under the input directory\n",
    "\n",
    "import os\n",
    "for dirname, _, filenames in os.walk('/kaggle/input'):\n",
    "    for filename in filenames:\n",
    "        print(os.path.join(dirname, filename))\n",
    "\n",
    "# You can write up to 20GB to the current directory (/kaggle/working/) that gets preserved as output when you create a version using \"Save & Run All\" \n",
    "# You can also write temporary files to /kaggle/temp/, but they won't be saved outside of the current session"
   ]
  },
  {
   "cell_type": "markdown",
   "id": "87d0858c",
   "metadata": {
    "papermill": {
     "duration": 0.078626,
     "end_time": "2022-06-07T23:45:41.849992",
     "exception": false,
     "start_time": "2022-06-07T23:45:41.771366",
     "status": "completed"
    },
    "tags": []
   },
   "source": [
    "# Credits:\n",
    "this notebook is based on the notbook [\"Getting started with NLP for absolute beginners\"](https://www.kaggle.com/code/jhoward/getting-started-with-nlp-for-absolute-beginners) by @Jeremy Howard"
   ]
  },
  {
   "cell_type": "markdown",
   "id": "ce59a5c3",
   "metadata": {
    "papermill": {
     "duration": 0.06269,
     "end_time": "2022-06-07T23:45:41.985462",
     "exception": false,
     "start_time": "2022-06-07T23:45:41.922772",
     "status": "completed"
    },
    "tags": []
   },
   "source": [
    "# EDA"
   ]
  },
  {
   "cell_type": "code",
   "execution_count": 2,
   "id": "b3f17e9e",
   "metadata": {
    "execution": {
     "iopub.execute_input": "2022-06-07T23:45:42.113547Z",
     "iopub.status.busy": "2022-06-07T23:45:42.113232Z",
     "iopub.status.idle": "2022-06-07T23:45:42.230485Z",
     "shell.execute_reply": "2022-06-07T23:45:42.229624Z"
    },
    "papermill": {
     "duration": 0.184623,
     "end_time": "2022-06-07T23:45:42.234019",
     "exception": false,
     "start_time": "2022-06-07T23:45:42.049396",
     "status": "completed"
    },
    "tags": []
   },
   "outputs": [
    {
     "name": "stdout",
     "output_type": "stream",
     "text": [
      "(36473, 5)\n"
     ]
    },
    {
     "data": {
      "text/html": [
       "<div>\n",
       "<style scoped>\n",
       "    .dataframe tbody tr th:only-of-type {\n",
       "        vertical-align: middle;\n",
       "    }\n",
       "\n",
       "    .dataframe tbody tr th {\n",
       "        vertical-align: top;\n",
       "    }\n",
       "\n",
       "    .dataframe thead th {\n",
       "        text-align: right;\n",
       "    }\n",
       "</style>\n",
       "<table border=\"1\" class=\"dataframe\">\n",
       "  <thead>\n",
       "    <tr style=\"text-align: right;\">\n",
       "      <th></th>\n",
       "      <th>id</th>\n",
       "      <th>anchor</th>\n",
       "      <th>target</th>\n",
       "      <th>context</th>\n",
       "      <th>score</th>\n",
       "    </tr>\n",
       "  </thead>\n",
       "  <tbody>\n",
       "    <tr>\n",
       "      <th>0</th>\n",
       "      <td>37d61fd2272659b1</td>\n",
       "      <td>abatement</td>\n",
       "      <td>abatement of pollution</td>\n",
       "      <td>A47</td>\n",
       "      <td>0.50</td>\n",
       "    </tr>\n",
       "    <tr>\n",
       "      <th>1</th>\n",
       "      <td>7b9652b17b68b7a4</td>\n",
       "      <td>abatement</td>\n",
       "      <td>act of abating</td>\n",
       "      <td>A47</td>\n",
       "      <td>0.75</td>\n",
       "    </tr>\n",
       "    <tr>\n",
       "      <th>2</th>\n",
       "      <td>36d72442aefd8232</td>\n",
       "      <td>abatement</td>\n",
       "      <td>active catalyst</td>\n",
       "      <td>A47</td>\n",
       "      <td>0.25</td>\n",
       "    </tr>\n",
       "    <tr>\n",
       "      <th>3</th>\n",
       "      <td>5296b0c19e1ce60e</td>\n",
       "      <td>abatement</td>\n",
       "      <td>eliminating process</td>\n",
       "      <td>A47</td>\n",
       "      <td>0.50</td>\n",
       "    </tr>\n",
       "    <tr>\n",
       "      <th>4</th>\n",
       "      <td>54c1e3b9184cb5b6</td>\n",
       "      <td>abatement</td>\n",
       "      <td>forest region</td>\n",
       "      <td>A47</td>\n",
       "      <td>0.00</td>\n",
       "    </tr>\n",
       "  </tbody>\n",
       "</table>\n",
       "</div>"
      ],
      "text/plain": [
       "                 id     anchor                  target context  score\n",
       "0  37d61fd2272659b1  abatement  abatement of pollution     A47   0.50\n",
       "1  7b9652b17b68b7a4  abatement          act of abating     A47   0.75\n",
       "2  36d72442aefd8232  abatement         active catalyst     A47   0.25\n",
       "3  5296b0c19e1ce60e  abatement     eliminating process     A47   0.50\n",
       "4  54c1e3b9184cb5b6  abatement           forest region     A47   0.00"
      ]
     },
     "execution_count": 2,
     "metadata": {},
     "output_type": "execute_result"
    }
   ],
   "source": [
    "train = pd.read_csv(\"/kaggle/input/us-patent-phrase-to-phrase-matching/train.csv\")\n",
    "print(train.shape)\n",
    "train.head()"
   ]
  },
  {
   "cell_type": "code",
   "execution_count": 3,
   "id": "d8755f4a",
   "metadata": {
    "execution": {
     "iopub.execute_input": "2022-06-07T23:45:42.363005Z",
     "iopub.status.busy": "2022-06-07T23:45:42.362433Z",
     "iopub.status.idle": "2022-06-07T23:45:42.457071Z",
     "shell.execute_reply": "2022-06-07T23:45:42.456194Z"
    },
    "papermill": {
     "duration": 0.161784,
     "end_time": "2022-06-07T23:45:42.459542",
     "exception": false,
     "start_time": "2022-06-07T23:45:42.297758",
     "status": "completed"
    },
    "tags": []
   },
   "outputs": [
    {
     "data": {
      "text/html": [
       "<div>\n",
       "<style scoped>\n",
       "    .dataframe tbody tr th:only-of-type {\n",
       "        vertical-align: middle;\n",
       "    }\n",
       "\n",
       "    .dataframe tbody tr th {\n",
       "        vertical-align: top;\n",
       "    }\n",
       "\n",
       "    .dataframe thead th {\n",
       "        text-align: right;\n",
       "    }\n",
       "</style>\n",
       "<table border=\"1\" class=\"dataframe\">\n",
       "  <thead>\n",
       "    <tr style=\"text-align: right;\">\n",
       "      <th></th>\n",
       "      <th>id</th>\n",
       "      <th>anchor</th>\n",
       "      <th>target</th>\n",
       "      <th>context</th>\n",
       "    </tr>\n",
       "  </thead>\n",
       "  <tbody>\n",
       "    <tr>\n",
       "      <th>count</th>\n",
       "      <td>36473</td>\n",
       "      <td>36473</td>\n",
       "      <td>36473</td>\n",
       "      <td>36473</td>\n",
       "    </tr>\n",
       "    <tr>\n",
       "      <th>unique</th>\n",
       "      <td>36473</td>\n",
       "      <td>733</td>\n",
       "      <td>29340</td>\n",
       "      <td>106</td>\n",
       "    </tr>\n",
       "    <tr>\n",
       "      <th>top</th>\n",
       "      <td>37d61fd2272659b1</td>\n",
       "      <td>component composite coating</td>\n",
       "      <td>composition</td>\n",
       "      <td>H01</td>\n",
       "    </tr>\n",
       "    <tr>\n",
       "      <th>freq</th>\n",
       "      <td>1</td>\n",
       "      <td>152</td>\n",
       "      <td>24</td>\n",
       "      <td>2186</td>\n",
       "    </tr>\n",
       "  </tbody>\n",
       "</table>\n",
       "</div>"
      ],
      "text/plain": [
       "                      id                       anchor       target context\n",
       "count              36473                        36473        36473   36473\n",
       "unique             36473                          733        29340     106\n",
       "top     37d61fd2272659b1  component composite coating  composition     H01\n",
       "freq                   1                          152           24    2186"
      ]
     },
     "execution_count": 3,
     "metadata": {},
     "output_type": "execute_result"
    }
   ],
   "source": [
    "train.describe(include='object')"
   ]
  },
  {
   "cell_type": "code",
   "execution_count": 4,
   "id": "f7e5bbf8",
   "metadata": {
    "execution": {
     "iopub.execute_input": "2022-06-07T23:45:42.588486Z",
     "iopub.status.busy": "2022-06-07T23:45:42.588153Z",
     "iopub.status.idle": "2022-06-07T23:45:42.592096Z",
     "shell.execute_reply": "2022-06-07T23:45:42.591471Z"
    },
    "papermill": {
     "duration": 0.07068,
     "end_time": "2022-06-07T23:45:42.593795",
     "exception": false,
     "start_time": "2022-06-07T23:45:42.523115",
     "status": "completed"
    },
    "tags": []
   },
   "outputs": [],
   "source": [
    "# The maximum width in characters of a column in the repr of a pandas data structure\n",
    "pd.set_option('display.max_colwidth', None)"
   ]
  },
  {
   "cell_type": "code",
   "execution_count": 5,
   "id": "3dcdb258",
   "metadata": {
    "execution": {
     "iopub.execute_input": "2022-06-07T23:45:42.722845Z",
     "iopub.status.busy": "2022-06-07T23:45:42.722515Z",
     "iopub.status.idle": "2022-06-07T23:45:42.730739Z",
     "shell.execute_reply": "2022-06-07T23:45:42.730147Z"
    },
    "papermill": {
     "duration": 0.075301,
     "end_time": "2022-06-07T23:45:42.732477",
     "exception": false,
     "start_time": "2022-06-07T23:45:42.657176",
     "status": "completed"
    },
    "tags": []
   },
   "outputs": [
    {
     "data": {
      "text/plain": [
       "array([0.5 , 0.75, 0.25, 0.  , 1.  ])"
      ]
     },
     "execution_count": 5,
     "metadata": {},
     "output_type": "execute_result"
    }
   ],
   "source": [
    "train['score'].unique()"
   ]
  },
  {
   "cell_type": "code",
   "execution_count": 6,
   "id": "bcacf10e",
   "metadata": {
    "execution": {
     "iopub.execute_input": "2022-06-07T23:45:42.863150Z",
     "iopub.status.busy": "2022-06-07T23:45:42.862563Z",
     "iopub.status.idle": "2022-06-07T23:45:42.896381Z",
     "shell.execute_reply": "2022-06-07T23:45:42.895670Z"
    },
    "papermill": {
     "duration": 0.101456,
     "end_time": "2022-06-07T23:45:42.898279",
     "exception": false,
     "start_time": "2022-06-07T23:45:42.796823",
     "status": "completed"
    },
    "tags": []
   },
   "outputs": [
    {
     "data": {
      "text/html": [
       "<div>\n",
       "<style scoped>\n",
       "    .dataframe tbody tr th:only-of-type {\n",
       "        vertical-align: middle;\n",
       "    }\n",
       "\n",
       "    .dataframe tbody tr th {\n",
       "        vertical-align: top;\n",
       "    }\n",
       "\n",
       "    .dataframe thead th {\n",
       "        text-align: right;\n",
       "    }\n",
       "</style>\n",
       "<table border=\"1\" class=\"dataframe\">\n",
       "  <thead>\n",
       "    <tr style=\"text-align: right;\">\n",
       "      <th></th>\n",
       "      <th>id</th>\n",
       "      <th>anchor</th>\n",
       "      <th>target</th>\n",
       "      <th>context</th>\n",
       "    </tr>\n",
       "    <tr>\n",
       "      <th>score</th>\n",
       "      <th></th>\n",
       "      <th></th>\n",
       "      <th></th>\n",
       "      <th></th>\n",
       "    </tr>\n",
       "  </thead>\n",
       "  <tbody>\n",
       "    <tr>\n",
       "      <th>0.00</th>\n",
       "      <td>7471</td>\n",
       "      <td>7471</td>\n",
       "      <td>7471</td>\n",
       "      <td>7471</td>\n",
       "    </tr>\n",
       "    <tr>\n",
       "      <th>0.25</th>\n",
       "      <td>11519</td>\n",
       "      <td>11519</td>\n",
       "      <td>11519</td>\n",
       "      <td>11519</td>\n",
       "    </tr>\n",
       "    <tr>\n",
       "      <th>0.50</th>\n",
       "      <td>12300</td>\n",
       "      <td>12300</td>\n",
       "      <td>12300</td>\n",
       "      <td>12300</td>\n",
       "    </tr>\n",
       "    <tr>\n",
       "      <th>0.75</th>\n",
       "      <td>4029</td>\n",
       "      <td>4029</td>\n",
       "      <td>4029</td>\n",
       "      <td>4029</td>\n",
       "    </tr>\n",
       "    <tr>\n",
       "      <th>1.00</th>\n",
       "      <td>1154</td>\n",
       "      <td>1154</td>\n",
       "      <td>1154</td>\n",
       "      <td>1154</td>\n",
       "    </tr>\n",
       "  </tbody>\n",
       "</table>\n",
       "</div>"
      ],
      "text/plain": [
       "          id  anchor  target  context\n",
       "score                                \n",
       "0.00    7471    7471    7471     7471\n",
       "0.25   11519   11519   11519    11519\n",
       "0.50   12300   12300   12300    12300\n",
       "0.75    4029    4029    4029     4029\n",
       "1.00    1154    1154    1154     1154"
      ]
     },
     "execution_count": 6,
     "metadata": {},
     "output_type": "execute_result"
    }
   ],
   "source": [
    "train.groupby('score').count()"
   ]
  },
  {
   "cell_type": "markdown",
   "id": "a60922f4",
   "metadata": {
    "papermill": {
     "duration": 0.066573,
     "end_time": "2022-06-07T23:45:43.030631",
     "exception": false,
     "start_time": "2022-06-07T23:45:42.964058",
     "status": "completed"
    },
    "tags": []
   },
   "source": [
    "## Score meanings according to [Data Description](https://www.kaggle.com/competitions/us-patent-phrase-to-phrase-matching/data?select=train.csv)\n",
    "\n",
    "The scores are in the 0-1 range with increments of 0.25 with the following meanings:\n",
    "\n",
    "    1.0 - Very close match. This is typically an exact match except possibly for differences in conjugation, quantity (e.g. singular vs. plural), and addition or removal of stopwords (e.g. “the”, “and”, “or”).\n",
    "    0.75 - Close synonym, e.g. “mobile phone” vs. “cellphone”. This also includes abbreviations, e.g. \"TCP\" -> \"transmission control protocol\".\n",
    "    0.5 - Synonyms which don’t have the same meaning (same function, same properties). This includes broad-narrow (hyponym) and narrow-broad (hypernym) matches.\n",
    "    0.25 - Somewhat related, e.g. the two phrases are in the same high level domain but are not synonyms. This also includes antonyms.\n",
    "    0.0 - Unrelated.\n"
   ]
  },
  {
   "cell_type": "markdown",
   "id": "75cc9e40",
   "metadata": {
    "papermill": {
     "duration": 0.064141,
     "end_time": "2022-06-07T23:45:43.159509",
     "exception": false,
     "start_time": "2022-06-07T23:45:43.095368",
     "status": "completed"
    },
    "tags": []
   },
   "source": [
    "Obviously, there are more phrases that are \"Synonyms which don’t have the same meaning\" than other categories."
   ]
  },
  {
   "cell_type": "code",
   "execution_count": 7,
   "id": "04c99720",
   "metadata": {
    "execution": {
     "iopub.execute_input": "2022-06-07T23:45:43.291202Z",
     "iopub.status.busy": "2022-06-07T23:45:43.290107Z",
     "iopub.status.idle": "2022-06-07T23:45:43.335605Z",
     "shell.execute_reply": "2022-06-07T23:45:43.334896Z"
    },
    "papermill": {
     "duration": 0.113275,
     "end_time": "2022-06-07T23:45:43.337500",
     "exception": false,
     "start_time": "2022-06-07T23:45:43.224225",
     "status": "completed"
    },
    "tags": []
   },
   "outputs": [
    {
     "data": {
      "text/html": [
       "<div>\n",
       "<style scoped>\n",
       "    .dataframe tbody tr th:only-of-type {\n",
       "        vertical-align: middle;\n",
       "    }\n",
       "\n",
       "    .dataframe tbody tr th {\n",
       "        vertical-align: top;\n",
       "    }\n",
       "\n",
       "    .dataframe thead th {\n",
       "        text-align: right;\n",
       "    }\n",
       "</style>\n",
       "<table border=\"1\" class=\"dataframe\">\n",
       "  <thead>\n",
       "    <tr style=\"text-align: right;\">\n",
       "      <th></th>\n",
       "      <th>id</th>\n",
       "      <th>anchor</th>\n",
       "      <th>target</th>\n",
       "      <th>context</th>\n",
       "    </tr>\n",
       "    <tr>\n",
       "      <th>score</th>\n",
       "      <th></th>\n",
       "      <th></th>\n",
       "      <th></th>\n",
       "      <th></th>\n",
       "    </tr>\n",
       "  </thead>\n",
       "  <tbody>\n",
       "    <tr>\n",
       "      <th>0.00</th>\n",
       "      <td>7471</td>\n",
       "      <td>725</td>\n",
       "      <td>6618</td>\n",
       "      <td>104</td>\n",
       "    </tr>\n",
       "    <tr>\n",
       "      <th>0.25</th>\n",
       "      <td>11519</td>\n",
       "      <td>727</td>\n",
       "      <td>9286</td>\n",
       "      <td>106</td>\n",
       "    </tr>\n",
       "    <tr>\n",
       "      <th>0.50</th>\n",
       "      <td>12300</td>\n",
       "      <td>729</td>\n",
       "      <td>10681</td>\n",
       "      <td>106</td>\n",
       "    </tr>\n",
       "    <tr>\n",
       "      <th>0.75</th>\n",
       "      <td>4029</td>\n",
       "      <td>682</td>\n",
       "      <td>3667</td>\n",
       "      <td>104</td>\n",
       "    </tr>\n",
       "    <tr>\n",
       "      <th>1.00</th>\n",
       "      <td>1154</td>\n",
       "      <td>470</td>\n",
       "      <td>973</td>\n",
       "      <td>100</td>\n",
       "    </tr>\n",
       "  </tbody>\n",
       "</table>\n",
       "</div>"
      ],
      "text/plain": [
       "          id  anchor  target  context\n",
       "score                                \n",
       "0.00    7471     725    6618      104\n",
       "0.25   11519     727    9286      106\n",
       "0.50   12300     729   10681      106\n",
       "0.75    4029     682    3667      104\n",
       "1.00    1154     470     973      100"
      ]
     },
     "execution_count": 7,
     "metadata": {},
     "output_type": "execute_result"
    }
   ],
   "source": [
    "train.groupby('score').nunique()"
   ]
  },
  {
   "cell_type": "markdown",
   "id": "b7ddd136",
   "metadata": {
    "papermill": {
     "duration": 0.065969,
     "end_time": "2022-06-07T23:45:43.468969",
     "exception": false,
     "start_time": "2022-06-07T23:45:43.403000",
     "status": "completed"
    },
    "tags": []
   },
   "source": [
    "There are more unique elements in \"target\" and it's logic as one type of anchor or context can have different targets."
   ]
  },
  {
   "cell_type": "markdown",
   "id": "a0f60b1e",
   "metadata": {
    "papermill": {
     "duration": 0.066005,
     "end_time": "2022-06-07T23:45:43.600403",
     "exception": false,
     "start_time": "2022-06-07T23:45:43.534398",
     "status": "completed"
    },
    "tags": []
   },
   "source": [
    "I create a small dataset for future visualisation purposes"
   ]
  },
  {
   "cell_type": "code",
   "execution_count": 8,
   "id": "21e703f7",
   "metadata": {
    "execution": {
     "iopub.execute_input": "2022-06-07T23:45:43.733367Z",
     "iopub.status.busy": "2022-06-07T23:45:43.732830Z",
     "iopub.status.idle": "2022-06-07T23:45:43.744292Z",
     "shell.execute_reply": "2022-06-07T23:45:43.743476Z"
    },
    "papermill": {
     "duration": 0.080431,
     "end_time": "2022-06-07T23:45:43.746354",
     "exception": false,
     "start_time": "2022-06-07T23:45:43.665923",
     "status": "completed"
    },
    "tags": []
   },
   "outputs": [
    {
     "data": {
      "text/html": [
       "<div>\n",
       "<style scoped>\n",
       "    .dataframe tbody tr th:only-of-type {\n",
       "        vertical-align: middle;\n",
       "    }\n",
       "\n",
       "    .dataframe tbody tr th {\n",
       "        vertical-align: top;\n",
       "    }\n",
       "\n",
       "    .dataframe thead th {\n",
       "        text-align: right;\n",
       "    }\n",
       "</style>\n",
       "<table border=\"1\" class=\"dataframe\">\n",
       "  <thead>\n",
       "    <tr style=\"text-align: right;\">\n",
       "      <th></th>\n",
       "      <th>id</th>\n",
       "      <th>anchor</th>\n",
       "      <th>target</th>\n",
       "      <th>context</th>\n",
       "      <th>score</th>\n",
       "    </tr>\n",
       "  </thead>\n",
       "  <tbody>\n",
       "    <tr>\n",
       "      <th>0</th>\n",
       "      <td>37d61fd2272659b1</td>\n",
       "      <td>abatement</td>\n",
       "      <td>abatement of pollution</td>\n",
       "      <td>A47</td>\n",
       "      <td>0.50</td>\n",
       "    </tr>\n",
       "    <tr>\n",
       "      <th>1</th>\n",
       "      <td>7b9652b17b68b7a4</td>\n",
       "      <td>abatement</td>\n",
       "      <td>act of abating</td>\n",
       "      <td>A47</td>\n",
       "      <td>0.75</td>\n",
       "    </tr>\n",
       "    <tr>\n",
       "      <th>2</th>\n",
       "      <td>36d72442aefd8232</td>\n",
       "      <td>abatement</td>\n",
       "      <td>active catalyst</td>\n",
       "      <td>A47</td>\n",
       "      <td>0.25</td>\n",
       "    </tr>\n",
       "    <tr>\n",
       "      <th>3</th>\n",
       "      <td>5296b0c19e1ce60e</td>\n",
       "      <td>abatement</td>\n",
       "      <td>eliminating process</td>\n",
       "      <td>A47</td>\n",
       "      <td>0.50</td>\n",
       "    </tr>\n",
       "    <tr>\n",
       "      <th>4</th>\n",
       "      <td>54c1e3b9184cb5b6</td>\n",
       "      <td>abatement</td>\n",
       "      <td>forest region</td>\n",
       "      <td>A47</td>\n",
       "      <td>0.00</td>\n",
       "    </tr>\n",
       "  </tbody>\n",
       "</table>\n",
       "</div>"
      ],
      "text/plain": [
       "                 id     anchor                  target context  score\n",
       "0  37d61fd2272659b1  abatement  abatement of pollution     A47   0.50\n",
       "1  7b9652b17b68b7a4  abatement          act of abating     A47   0.75\n",
       "2  36d72442aefd8232  abatement         active catalyst     A47   0.25\n",
       "3  5296b0c19e1ce60e  abatement     eliminating process     A47   0.50\n",
       "4  54c1e3b9184cb5b6  abatement           forest region     A47   0.00"
      ]
     },
     "execution_count": 8,
     "metadata": {},
     "output_type": "execute_result"
    }
   ],
   "source": [
    "train_small = train.iloc[:5]\n",
    "train_small"
   ]
  },
  {
   "cell_type": "markdown",
   "id": "26569d19",
   "metadata": {
    "papermill": {
     "duration": 0.065663,
     "end_time": "2022-06-07T23:45:43.878204",
     "exception": false,
     "start_time": "2022-06-07T23:45:43.812541",
     "status": "completed"
    },
    "tags": []
   },
   "source": [
    "# Test Corpus"
   ]
  },
  {
   "cell_type": "code",
   "execution_count": 9,
   "id": "fa446d1b",
   "metadata": {
    "execution": {
     "iopub.execute_input": "2022-06-07T23:45:44.014280Z",
     "iopub.status.busy": "2022-06-07T23:45:44.013952Z",
     "iopub.status.idle": "2022-06-07T23:45:44.024362Z",
     "shell.execute_reply": "2022-06-07T23:45:44.023681Z"
    },
    "papermill": {
     "duration": 0.082177,
     "end_time": "2022-06-07T23:45:44.026711",
     "exception": false,
     "start_time": "2022-06-07T23:45:43.944534",
     "status": "completed"
    },
    "tags": []
   },
   "outputs": [],
   "source": [
    "test = pd.read_csv(\"/kaggle/input/us-patent-phrase-to-phrase-matching/test.csv\")"
   ]
  },
  {
   "cell_type": "code",
   "execution_count": 10,
   "id": "2ddbc8f9",
   "metadata": {
    "execution": {
     "iopub.execute_input": "2022-06-07T23:45:44.162698Z",
     "iopub.status.busy": "2022-06-07T23:45:44.161781Z",
     "iopub.status.idle": "2022-06-07T23:45:44.167309Z",
     "shell.execute_reply": "2022-06-07T23:45:44.166723Z"
    },
    "papermill": {
     "duration": 0.075441,
     "end_time": "2022-06-07T23:45:44.169396",
     "exception": false,
     "start_time": "2022-06-07T23:45:44.093955",
     "status": "completed"
    },
    "tags": []
   },
   "outputs": [
    {
     "data": {
      "text/plain": [
       "(36, 4)"
      ]
     },
     "execution_count": 10,
     "metadata": {},
     "output_type": "execute_result"
    }
   ],
   "source": [
    "test.shape"
   ]
  },
  {
   "cell_type": "markdown",
   "id": "b084de19",
   "metadata": {
    "papermill": {
     "duration": 0.065887,
     "end_time": "2022-06-07T23:45:44.302049",
     "exception": false,
     "start_time": "2022-06-07T23:45:44.236162",
     "status": "completed"
    },
    "tags": []
   },
   "source": [
    "## Imports"
   ]
  },
  {
   "cell_type": "code",
   "execution_count": 11,
   "id": "6243cc1e",
   "metadata": {
    "execution": {
     "iopub.execute_input": "2022-06-07T23:45:44.436222Z",
     "iopub.status.busy": "2022-06-07T23:45:44.435621Z",
     "iopub.status.idle": "2022-06-07T23:45:52.153833Z",
     "shell.execute_reply": "2022-06-07T23:45:52.152923Z"
    },
    "papermill": {
     "duration": 7.78855,
     "end_time": "2022-06-07T23:45:52.156591",
     "exception": false,
     "start_time": "2022-06-07T23:45:44.368041",
     "status": "completed"
    },
    "tags": []
   },
   "outputs": [],
   "source": [
    "import tensorflow as tf\n",
    "import tensorflow_hub as hub\n",
    "import seaborn as sns\n",
    "import matplotlib.pyplot as plt"
   ]
  },
  {
   "cell_type": "code",
   "execution_count": 12,
   "id": "5c114fbf",
   "metadata": {
    "execution": {
     "iopub.execute_input": "2022-06-07T23:45:52.296333Z",
     "iopub.status.busy": "2022-06-07T23:45:52.295765Z",
     "iopub.status.idle": "2022-06-07T23:45:52.300556Z",
     "shell.execute_reply": "2022-06-07T23:45:52.299891Z"
    },
    "papermill": {
     "duration": 0.077758,
     "end_time": "2022-06-07T23:45:52.302586",
     "exception": false,
     "start_time": "2022-06-07T23:45:52.224828",
     "status": "completed"
    },
    "tags": []
   },
   "outputs": [],
   "source": [
    "def cosine(u, v):\n",
    "    \"\"\"\n",
    "    cosine similarity definition\n",
    "    \"\"\"\n",
    "    return np.dot(u, v) / (np.linalg.norm(u) * np.linalg.norm(v))"
   ]
  },
  {
   "cell_type": "markdown",
   "id": "65321b21",
   "metadata": {
    "papermill": {
     "duration": 0.06558,
     "end_time": "2022-06-07T23:45:52.434590",
     "exception": false,
     "start_time": "2022-06-07T23:45:52.369010",
     "status": "completed"
    },
    "tags": []
   },
   "source": [
    "# USE"
   ]
  },
  {
   "cell_type": "markdown",
   "id": "ddbef515",
   "metadata": {
    "papermill": {
     "duration": 0.06582,
     "end_time": "2022-06-07T23:45:52.565985",
     "exception": false,
     "start_time": "2022-06-07T23:45:52.500165",
     "status": "completed"
    },
    "tags": []
   },
   "source": [
    "The Universal Sentence Encoder (USE) is a simple way to get first results."
   ]
  },
  {
   "cell_type": "code",
   "execution_count": 13,
   "id": "ff653cff",
   "metadata": {
    "execution": {
     "iopub.execute_input": "2022-06-07T23:45:52.699638Z",
     "iopub.status.busy": "2022-06-07T23:45:52.699288Z",
     "iopub.status.idle": "2022-06-07T23:46:11.589097Z",
     "shell.execute_reply": "2022-06-07T23:46:11.588360Z"
    },
    "papermill": {
     "duration": 18.96067,
     "end_time": "2022-06-07T23:46:11.592248",
     "exception": false,
     "start_time": "2022-06-07T23:45:52.631578",
     "status": "completed"
    },
    "tags": []
   },
   "outputs": [
    {
     "name": "stderr",
     "output_type": "stream",
     "text": [
      "2022-06-07 23:46:06.294916: I tensorflow/core/common_runtime/process_util.cc:146] Creating new thread pool with default inter op setting: 2. Tune using inter_op_parallelism_threads for best performance.\n",
      "2022-06-07 23:46:08.917190: I tensorflow/compiler/mlir/mlir_graph_optimization_pass.cc:185] None of the MLIR Optimization Passes are enabled (registered 2)\n"
     ]
    }
   ],
   "source": [
    "module_url = \"https://tfhub.dev/google/universal-sentence-encoder/4\" \n",
    "model = hub.load(module_url)\n",
    "sentences = train[\"anchor\"].values.tolist()\n",
    "queries = train[\"target\"].values.tolist()"
   ]
  },
  {
   "cell_type": "code",
   "execution_count": 14,
   "id": "329f68de",
   "metadata": {
    "collapsed": true,
    "execution": {
     "iopub.execute_input": "2022-06-07T23:46:11.742923Z",
     "iopub.status.busy": "2022-06-07T23:46:11.742112Z",
     "iopub.status.idle": "2022-06-07T23:46:12.481033Z",
     "shell.execute_reply": "2022-06-07T23:46:12.480428Z"
    },
    "jupyter": {
     "outputs_hidden": true
    },
    "papermill": {
     "duration": 0.81763,
     "end_time": "2022-06-07T23:46:12.483664",
     "exception": false,
     "start_time": "2022-06-07T23:46:11.666034",
     "status": "completed"
    },
    "tags": []
   },
   "outputs": [
    {
     "data": {
      "text/plain": [
       "<tf.Tensor: shape=(1, 512), dtype=float32, numpy=\n",
       "array([[-1.98577363e-02, -1.21083017e-02,  7.35915452e-02,\n",
       "        -1.75086278e-02, -7.56860152e-02,  4.43453342e-02,\n",
       "        -1.89508486e-03, -3.86596359e-02, -2.21199798e-03,\n",
       "        -3.23769040e-02, -1.59707703e-02,  3.50723835e-03,\n",
       "         1.00384150e-02,  4.36185710e-02,  4.43858840e-02,\n",
       "         2.15943921e-02, -1.73553936e-02, -9.47407726e-03,\n",
       "        -5.10946997e-02, -5.29839173e-02,  2.18188353e-02,\n",
       "         1.34214191e-02,  6.18544444e-02, -2.17084177e-02,\n",
       "        -7.67348558e-02,  1.37703819e-02,  8.58319625e-02,\n",
       "        -2.24876944e-02,  4.23451476e-02,  5.16811535e-02,\n",
       "        -1.26123745e-02,  1.94951631e-02, -7.78470337e-02,\n",
       "         1.40407663e-02, -3.61797512e-02, -6.05124002e-03,\n",
       "         3.45869288e-02,  1.29948473e-02,  3.63643398e-03,\n",
       "         3.98442242e-03, -4.11943644e-02,  3.91497836e-02,\n",
       "         1.08268978e-02, -2.92333793e-02, -8.82212222e-02,\n",
       "        -1.99024100e-02, -9.52992588e-03,  3.91328335e-02,\n",
       "        -4.13326472e-02,  3.53817269e-02,  9.29823704e-03,\n",
       "         2.23241616e-02,  1.04784787e-01,  5.48520125e-02,\n",
       "         5.66132963e-02,  5.76921590e-02,  4.94939685e-02,\n",
       "         4.68964167e-02,  5.38364388e-02, -1.95153281e-02,\n",
       "         3.49085107e-02, -2.72037107e-02,  2.47200788e-03,\n",
       "        -1.39016602e-02,  3.45064476e-02,  1.15762688e-02,\n",
       "        -3.97847369e-02, -5.93375862e-02,  4.48992774e-02,\n",
       "         9.93562415e-02, -1.29487952e-02,  3.55764031e-02,\n",
       "         1.33627374e-02,  4.58811829e-03,  1.15698306e-02,\n",
       "        -1.12824123e-02, -4.24029417e-02,  1.28014795e-02,\n",
       "        -1.15387759e-03, -5.85288964e-02,  6.69568852e-02,\n",
       "        -1.09791430e-02, -8.56597442e-03,  1.64595991e-03,\n",
       "        -5.99153116e-02, -5.45963682e-02,  3.66688669e-02,\n",
       "        -3.23102959e-02,  4.84305806e-03,  3.94834876e-02,\n",
       "        -1.23401573e-02,  6.71344772e-02,  4.27452922e-02,\n",
       "        -6.58656880e-02,  1.46673406e-02, -8.12462866e-02,\n",
       "        -3.13926972e-02, -4.31907438e-02,  1.74319949e-02,\n",
       "        -4.87868162e-03, -2.47797910e-02, -4.04916555e-02,\n",
       "        -3.32602933e-02, -3.47738042e-02,  4.94443774e-02,\n",
       "         1.66718173e-03, -5.50645702e-02, -1.54568553e-02,\n",
       "        -2.50557251e-02,  6.98032603e-02, -2.33565327e-02,\n",
       "        -8.47399160e-02, -4.01624292e-02, -5.39187267e-02,\n",
       "        -5.98782450e-02,  2.97980793e-02, -4.52326499e-02,\n",
       "        -5.30775636e-02, -1.02676749e-02,  2.80088130e-02,\n",
       "        -5.16047701e-03,  4.63852175e-02,  3.21961828e-02,\n",
       "        -1.96455531e-02,  4.70996387e-02,  8.33847076e-02,\n",
       "        -2.03927066e-02,  5.99767938e-02,  2.81157196e-02,\n",
       "         7.81519935e-02,  1.86027400e-03,  4.93532456e-02,\n",
       "         9.58170518e-02,  1.03416808e-01,  1.45554179e-02,\n",
       "         9.55087133e-03,  2.28422228e-02, -4.20245947e-03,\n",
       "        -2.88027301e-02,  5.69839254e-02,  1.50091080e-02,\n",
       "         4.72068181e-03, -1.28515940e-02, -6.30977051e-03,\n",
       "         1.21993739e-02, -5.24945818e-02, -1.74622622e-03,\n",
       "         8.81174207e-03, -4.77809832e-02, -3.91011611e-02,\n",
       "        -1.96606405e-02,  4.50665504e-02, -6.71558678e-02,\n",
       "        -3.47814411e-02, -3.58834527e-02,  1.84493996e-02,\n",
       "        -7.22778514e-02,  6.33772761e-02, -1.90926972e-03,\n",
       "         3.69470380e-02, -1.32839829e-02, -2.66209524e-02,\n",
       "        -1.78852659e-02, -3.88368557e-04,  4.99410508e-03,\n",
       "         1.51100112e-02,  6.53684959e-02, -2.72034425e-02,\n",
       "         1.96012552e-03, -9.90512874e-03, -4.88668270e-02,\n",
       "        -8.93382281e-02, -1.40404059e-02, -1.56648513e-02,\n",
       "        -1.34078283e-02,  3.69777121e-02,  5.78793511e-02,\n",
       "         3.17673176e-03, -1.99156385e-02,  8.24738815e-02,\n",
       "        -4.59589362e-02,  5.07639861e-03,  1.57308411e-02,\n",
       "         4.27432656e-02,  3.10222842e-02, -1.24174953e-02,\n",
       "         4.93058898e-02, -4.29169610e-02,  2.90276092e-02,\n",
       "        -3.46596874e-02, -5.72804771e-02,  6.74594492e-02,\n",
       "         1.55270817e-02,  2.04699021e-02,  4.12583016e-02,\n",
       "        -1.04224823e-01, -9.71529074e-03,  3.12826335e-02,\n",
       "        -1.95326246e-02, -2.71857008e-02, -7.57021876e-03,\n",
       "         2.68570315e-02,  7.80697018e-02,  2.96044275e-02,\n",
       "        -8.26063156e-02,  1.40522874e-03,  4.28799726e-02,\n",
       "        -4.06636484e-03, -4.40782346e-02, -6.36141421e-03,\n",
       "        -9.38601419e-03, -8.80952738e-03, -4.05558981e-02,\n",
       "        -1.27531895e-02, -6.59559816e-02,  1.66107900e-02,\n",
       "         5.94333857e-02,  7.76421651e-02,  4.88292463e-02,\n",
       "         6.84718601e-03,  1.09536694e-02, -2.10329834e-02,\n",
       "        -2.86800079e-02, -3.01547591e-02,  2.08848733e-02,\n",
       "        -1.46657070e-02, -4.14427072e-02, -1.27227912e-02,\n",
       "        -1.27730872e-02,  1.99644864e-02,  4.05637138e-02,\n",
       "        -7.18681067e-02, -3.03551666e-02,  1.20539449e-01,\n",
       "        -3.30074392e-02, -1.36441812e-02, -8.28840509e-02,\n",
       "         3.10905423e-04, -8.50124955e-02,  4.36511971e-02,\n",
       "         5.62112853e-02, -8.25091172e-03, -3.21054384e-02,\n",
       "        -5.64825535e-03,  1.30601730e-02,  6.22286499e-02,\n",
       "        -1.90546103e-02,  6.08066171e-02, -3.22104618e-02,\n",
       "         7.07148090e-02,  5.94841726e-02, -5.59255034e-02,\n",
       "         1.27038630e-02, -7.88115785e-02, -6.65252283e-02,\n",
       "        -3.67948152e-02,  2.95220483e-02,  5.59505485e-02,\n",
       "        -4.95055281e-02,  2.31280178e-02, -2.83570811e-02,\n",
       "        -4.71757725e-02,  1.94921196e-02,  1.27409017e-02,\n",
       "         5.01629263e-02, -3.02376356e-02, -6.43452108e-02,\n",
       "        -5.34056164e-02,  6.74843192e-02, -6.08764216e-02,\n",
       "         8.67080241e-02, -5.80273457e-02, -7.13935643e-02,\n",
       "        -4.52225469e-02,  4.54387814e-02,  3.25205289e-02,\n",
       "        -3.76740582e-02, -5.14997207e-02,  3.50038707e-02,\n",
       "         6.99740574e-02,  5.36739193e-02, -2.87783537e-02,\n",
       "        -4.04104404e-03,  6.08155876e-02,  2.78319009e-02,\n",
       "         4.23599556e-02,  7.68075734e-02,  4.94754910e-02,\n",
       "        -7.96097219e-02,  2.36527789e-02, -4.11169045e-02,\n",
       "        -4.03155349e-02, -2.85949577e-02, -9.17805061e-02,\n",
       "         6.89598024e-02,  3.76500897e-02, -7.50471726e-02,\n",
       "        -1.69022642e-02,  7.82824401e-03, -1.11983027e-02,\n",
       "         5.93691086e-03, -7.96264559e-02, -3.83900367e-02,\n",
       "         2.80855168e-02, -4.78408933e-02,  4.73699979e-02,\n",
       "         1.36559997e-02,  2.45585591e-02,  7.08409548e-02,\n",
       "        -5.09285294e-02, -4.93374864e-05,  3.05430163e-02,\n",
       "        -5.15339300e-02, -1.03936484e-02, -1.38961598e-02,\n",
       "         4.01199572e-02,  3.89373079e-02,  6.19245470e-02,\n",
       "        -4.84653562e-02, -7.65123218e-02,  1.25050191e-02,\n",
       "        -3.29260975e-02,  2.64599584e-02, -8.22040625e-03,\n",
       "        -6.04154281e-02, -1.53994253e-02, -4.48718406e-02,\n",
       "         4.37808074e-02, -2.69542038e-02, -1.76025741e-02,\n",
       "        -1.87469907e-02, -6.86373413e-02,  4.34022807e-02,\n",
       "         3.74511220e-02, -8.18823129e-02,  3.46964188e-02,\n",
       "        -3.48757915e-02,  2.32385304e-02, -6.33395929e-03,\n",
       "         5.36711998e-02,  3.70260514e-02, -6.19883928e-03,\n",
       "        -7.84979260e-04,  1.65841635e-02, -1.63343567e-02,\n",
       "         1.42126270e-02,  4.24964242e-02,  3.42570171e-02,\n",
       "         3.35427411e-02,  5.83201163e-02,  2.97284946e-02,\n",
       "         4.14466634e-02,  7.25544840e-02,  1.16512924e-03,\n",
       "        -7.35488161e-02, -1.56578254e-02, -8.36111754e-02,\n",
       "        -5.59489504e-02,  6.21526800e-02, -8.99982546e-03,\n",
       "        -5.04138926e-03,  3.66641358e-02,  4.90990430e-02,\n",
       "        -2.65996177e-02,  1.89020839e-02, -1.98110449e-03,\n",
       "         4.14525485e-03,  4.15925495e-02,  9.29355770e-02,\n",
       "        -5.56809902e-02, -4.37631570e-02, -1.37259066e-02,\n",
       "         3.19039933e-02, -3.56501862e-02, -3.49085182e-02,\n",
       "        -7.66667053e-02,  4.27621566e-02, -1.54644884e-02,\n",
       "        -1.40294749e-02, -5.62437437e-02,  8.16190802e-03,\n",
       "         3.49044427e-02,  1.55874882e-02, -1.36163672e-02,\n",
       "         1.01780929e-01, -6.87691420e-02,  1.92935877e-02,\n",
       "        -1.23794202e-03,  1.85834691e-02,  5.37795722e-02,\n",
       "        -6.23796843e-02,  1.82746351e-02,  6.54924056e-03,\n",
       "        -3.16237360e-02,  2.29150616e-02, -8.79514888e-02,\n",
       "        -7.05444142e-02, -5.05717359e-02, -2.40606684e-02,\n",
       "        -5.21447174e-02, -7.22576678e-02,  2.06403271e-03,\n",
       "        -2.87443511e-02,  2.13860385e-02, -4.73634433e-03,\n",
       "        -2.48283558e-02,  2.55628000e-03,  1.43910898e-02,\n",
       "         1.83814131e-02,  4.32682410e-02, -2.03625523e-02,\n",
       "        -2.31350641e-04,  1.84513759e-02, -2.47445181e-02,\n",
       "        -2.07119212e-02,  3.46579701e-02, -1.20125460e-02,\n",
       "         1.22152260e-02, -2.80806050e-02, -6.12376072e-02,\n",
       "        -1.15328310e-02, -7.38544837e-02, -3.10944319e-02,\n",
       "        -5.96702918e-02, -6.23425134e-02, -5.16403541e-02,\n",
       "         5.11569567e-02, -6.55600568e-03,  1.56887118e-02,\n",
       "        -6.61345571e-02,  4.15084399e-02,  1.67110227e-02,\n",
       "         1.94258820e-02, -3.77766117e-02,  5.50527647e-02,\n",
       "        -5.76218404e-02,  1.41060846e-02,  3.26005779e-02,\n",
       "        -4.17933092e-02,  5.75794950e-02, -1.33374985e-02,\n",
       "         1.24929938e-02,  4.96938713e-02,  2.35054716e-02,\n",
       "         2.26734672e-03, -3.74314822e-02, -1.19461650e-02,\n",
       "        -6.33548722e-02, -2.48736255e-02, -1.64443459e-02,\n",
       "         4.70313132e-02,  1.37161743e-02, -4.65003438e-02,\n",
       "        -1.33022396e-02,  2.36831401e-02,  7.20539689e-02,\n",
       "         7.23402277e-02,  2.91929543e-02, -7.48843923e-02,\n",
       "         4.71601859e-02, -3.28435637e-02, -9.53166839e-03,\n",
       "        -6.01021759e-02,  7.50664398e-02,  3.01868357e-02,\n",
       "        -4.02743630e-02,  6.11087261e-03,  3.15600680e-03,\n",
       "         2.09705941e-02,  2.58129719e-03,  2.78088599e-02,\n",
       "         7.08544776e-02, -8.03780556e-02,  2.66377982e-02,\n",
       "         7.15907216e-02, -8.36087670e-03, -4.68291305e-02,\n",
       "         3.08666407e-04,  8.24902058e-02,  6.10159291e-03,\n",
       "         2.49847863e-02, -9.06742141e-02,  5.36819287e-02,\n",
       "         3.55570279e-02, -2.14543026e-02, -8.41680020e-02,\n",
       "        -3.06596328e-02,  2.90562529e-02,  6.90852255e-02,\n",
       "         4.75159511e-02, -1.09652849e-02, -3.00098117e-02,\n",
       "        -9.87210721e-02,  1.22793838e-02, -8.07576254e-03,\n",
       "        -2.39174347e-02,  1.02905639e-01, -6.54648766e-02,\n",
       "         5.32066375e-02,  2.26070751e-02,  1.38883302e-02,\n",
       "        -1.13946451e-02,  4.08130065e-02, -1.18626624e-01,\n",
       "         4.04861644e-02,  5.24683408e-02, -7.92322084e-02,\n",
       "         2.40297057e-03, -4.44465503e-03, -7.73808584e-02,\n",
       "         6.41877800e-02,  2.96266433e-02]], dtype=float32)>"
      ]
     },
     "execution_count": 14,
     "metadata": {},
     "output_type": "execute_result"
    }
   ],
   "source": [
    "model([sentences[0]])"
   ]
  },
  {
   "cell_type": "markdown",
   "id": "cba3f729",
   "metadata": {
    "papermill": {
     "duration": 0.067104,
     "end_time": "2022-06-07T23:46:12.619179",
     "exception": false,
     "start_time": "2022-06-07T23:46:12.552075",
     "status": "completed"
    },
    "tags": []
   },
   "source": [
    "## Cosine similarity"
   ]
  },
  {
   "cell_type": "code",
   "execution_count": 15,
   "id": "1e34d6f3",
   "metadata": {
    "execution": {
     "iopub.execute_input": "2022-06-07T23:46:12.757482Z",
     "iopub.status.busy": "2022-06-07T23:46:12.756865Z",
     "iopub.status.idle": "2022-06-07T23:46:12.777968Z",
     "shell.execute_reply": "2022-06-07T23:46:12.777094Z"
    },
    "papermill": {
     "duration": 0.092402,
     "end_time": "2022-06-07T23:46:12.780032",
     "exception": false,
     "start_time": "2022-06-07T23:46:12.687630",
     "status": "completed"
    },
    "tags": []
   },
   "outputs": [
    {
     "data": {
      "text/plain": [
       "0.58807564"
      ]
     },
     "execution_count": 15,
     "metadata": {},
     "output_type": "execute_result"
    }
   ],
   "source": [
    "cosine(model([sentences[0]])[0], model([queries[0]])[0])"
   ]
  },
  {
   "cell_type": "code",
   "execution_count": 16,
   "id": "1448b4b5",
   "metadata": {
    "execution": {
     "iopub.execute_input": "2022-06-07T23:46:12.918590Z",
     "iopub.status.busy": "2022-06-07T23:46:12.918027Z",
     "iopub.status.idle": "2022-06-07T23:50:27.134110Z",
     "shell.execute_reply": "2022-06-07T23:50:27.132964Z"
    },
    "papermill": {
     "duration": 254.357865,
     "end_time": "2022-06-07T23:50:27.206627",
     "exception": false,
     "start_time": "2022-06-07T23:46:12.848762",
     "status": "completed"
    },
    "tags": []
   },
   "outputs": [
    {
     "data": {
      "text/plain": [
       "array([[1.        , 0.50924276],\n",
       "       [0.50924276, 1.        ]])"
      ]
     },
     "execution_count": 16,
     "metadata": {},
     "output_type": "execute_result"
    }
   ],
   "source": [
    "train[\"score_f\"] = [cosine(model([s])[0], model([q])[0]) for s, q in zip(sentences, queries)]\n",
    "np.corrcoef(train[\"score_f\"], train[\"score\"])"
   ]
  },
  {
   "cell_type": "code",
   "execution_count": 17,
   "id": "d522a936",
   "metadata": {
    "execution": {
     "iopub.execute_input": "2022-06-07T23:50:27.346176Z",
     "iopub.status.busy": "2022-06-07T23:50:27.345518Z",
     "iopub.status.idle": "2022-06-07T23:50:27.352589Z",
     "shell.execute_reply": "2022-06-07T23:50:27.351722Z"
    },
    "papermill": {
     "duration": 0.079376,
     "end_time": "2022-06-07T23:50:27.354601",
     "exception": false,
     "start_time": "2022-06-07T23:50:27.275225",
     "status": "completed"
    },
    "tags": []
   },
   "outputs": [
    {
     "data": {
      "text/plain": [
       "['abatement of pollution',\n",
       " 'act of abating',\n",
       " 'active catalyst',\n",
       " 'eliminating process',\n",
       " 'forest region']"
      ]
     },
     "execution_count": 17,
     "metadata": {},
     "output_type": "execute_result"
    }
   ],
   "source": [
    "exampq = train_small[\"target\"].values.tolist()\n",
    "exampq"
   ]
  },
  {
   "cell_type": "code",
   "execution_count": 18,
   "id": "cc03b150",
   "metadata": {
    "execution": {
     "iopub.execute_input": "2022-06-07T23:50:27.497296Z",
     "iopub.status.busy": "2022-06-07T23:50:27.496669Z",
     "iopub.status.idle": "2022-06-07T23:50:27.503382Z",
     "shell.execute_reply": "2022-06-07T23:50:27.502712Z"
    },
    "papermill": {
     "duration": 0.079131,
     "end_time": "2022-06-07T23:50:27.505678",
     "exception": false,
     "start_time": "2022-06-07T23:50:27.426547",
     "status": "completed"
    },
    "tags": []
   },
   "outputs": [],
   "source": [
    "def plot_similarity(labels, features, rotation):\n",
    "    \"\"\"\n",
    "    heat map for phrases\n",
    "    \"\"\"\n",
    "    corr = np.inner(features, features)\n",
    "    sns.set(font_scale=1.2)\n",
    "    g = sns.heatmap(\n",
    "    corr,\n",
    "    xticklabels=labels,\n",
    "    yticklabels=labels,\n",
    "    vmin=0,\n",
    "    vmax=1,\n",
    "    cmap=\"YlOrRd\")\n",
    "    g.set_xticklabels(labels, rotation=rotation)\n",
    "    g.set_title(\"Semantic Textual Similarity\")\n"
   ]
  },
  {
   "cell_type": "code",
   "execution_count": 19,
   "id": "2ccdc272",
   "metadata": {
    "execution": {
     "iopub.execute_input": "2022-06-07T23:50:27.645700Z",
     "iopub.status.busy": "2022-06-07T23:50:27.645110Z",
     "iopub.status.idle": "2022-06-07T23:50:28.031027Z",
     "shell.execute_reply": "2022-06-07T23:50:28.030098Z"
    },
    "papermill": {
     "duration": 0.458746,
     "end_time": "2022-06-07T23:50:28.034005",
     "exception": false,
     "start_time": "2022-06-07T23:50:27.575259",
     "status": "completed"
    },
    "tags": []
   },
   "outputs": [
    {
     "data": {
      "image/png": "[encoded data removed]",
      "text/plain": [
       "<Figure size 432x288 with 2 Axes>"
      ]
     },
     "metadata": {},
     "output_type": "display_data"
    }
   ],
   "source": [
    "plot_similarity(exampq, model(exampq), 90)"
   ]
  },
  {
   "cell_type": "markdown",
   "id": "222c2c9d",
   "metadata": {
    "papermill": {
     "duration": 0.070566,
     "end_time": "2022-06-07T23:50:28.177004",
     "exception": false,
     "start_time": "2022-06-07T23:50:28.106438",
     "status": "completed"
    },
    "tags": []
   },
   "source": [
    "We see here that even if theses phrases belong to the same encore, they are not all equally correllated between themselves"
   ]
  },
  {
   "cell_type": "code",
   "execution_count": 20,
   "id": "76215be3",
   "metadata": {
    "execution": {
     "iopub.execute_input": "2022-06-07T23:50:28.320314Z",
     "iopub.status.busy": "2022-06-07T23:50:28.320011Z",
     "iopub.status.idle": "2022-06-07T23:50:28.335122Z",
     "shell.execute_reply": "2022-06-07T23:50:28.334176Z"
    },
    "papermill": {
     "duration": 0.089909,
     "end_time": "2022-06-07T23:50:28.337100",
     "exception": false,
     "start_time": "2022-06-07T23:50:28.247191",
     "status": "completed"
    },
    "tags": []
   },
   "outputs": [
    {
     "data": {
      "text/html": [
       "<div>\n",
       "<style scoped>\n",
       "    .dataframe tbody tr th:only-of-type {\n",
       "        vertical-align: middle;\n",
       "    }\n",
       "\n",
       "    .dataframe tbody tr th {\n",
       "        vertical-align: top;\n",
       "    }\n",
       "\n",
       "    .dataframe thead th {\n",
       "        text-align: right;\n",
       "    }\n",
       "</style>\n",
       "<table border=\"1\" class=\"dataframe\">\n",
       "  <thead>\n",
       "    <tr style=\"text-align: right;\">\n",
       "      <th></th>\n",
       "      <th>id</th>\n",
       "      <th>anchor</th>\n",
       "      <th>target</th>\n",
       "      <th>context</th>\n",
       "      <th>score</th>\n",
       "      <th>score_f</th>\n",
       "    </tr>\n",
       "  </thead>\n",
       "  <tbody>\n",
       "    <tr>\n",
       "      <th>0</th>\n",
       "      <td>37d61fd2272659b1</td>\n",
       "      <td>abatement</td>\n",
       "      <td>abatement of pollution</td>\n",
       "      <td>A47</td>\n",
       "      <td>0.50</td>\n",
       "      <td>0.588076</td>\n",
       "    </tr>\n",
       "    <tr>\n",
       "      <th>1</th>\n",
       "      <td>7b9652b17b68b7a4</td>\n",
       "      <td>abatement</td>\n",
       "      <td>act of abating</td>\n",
       "      <td>A47</td>\n",
       "      <td>0.75</td>\n",
       "      <td>0.294865</td>\n",
       "    </tr>\n",
       "    <tr>\n",
       "      <th>2</th>\n",
       "      <td>36d72442aefd8232</td>\n",
       "      <td>abatement</td>\n",
       "      <td>active catalyst</td>\n",
       "      <td>A47</td>\n",
       "      <td>0.25</td>\n",
       "      <td>0.274901</td>\n",
       "    </tr>\n",
       "    <tr>\n",
       "      <th>3</th>\n",
       "      <td>5296b0c19e1ce60e</td>\n",
       "      <td>abatement</td>\n",
       "      <td>eliminating process</td>\n",
       "      <td>A47</td>\n",
       "      <td>0.50</td>\n",
       "      <td>0.401130</td>\n",
       "    </tr>\n",
       "    <tr>\n",
       "      <th>4</th>\n",
       "      <td>54c1e3b9184cb5b6</td>\n",
       "      <td>abatement</td>\n",
       "      <td>forest region</td>\n",
       "      <td>A47</td>\n",
       "      <td>0.00</td>\n",
       "      <td>0.202257</td>\n",
       "    </tr>\n",
       "  </tbody>\n",
       "</table>\n",
       "</div>"
      ],
      "text/plain": [
       "                 id     anchor                  target context  score  \\\n",
       "0  37d61fd2272659b1  abatement  abatement of pollution     A47   0.50   \n",
       "1  7b9652b17b68b7a4  abatement          act of abating     A47   0.75   \n",
       "2  36d72442aefd8232  abatement         active catalyst     A47   0.25   \n",
       "3  5296b0c19e1ce60e  abatement     eliminating process     A47   0.50   \n",
       "4  54c1e3b9184cb5b6  abatement           forest region     A47   0.00   \n",
       "\n",
       "    score_f  \n",
       "0  0.588076  \n",
       "1  0.294865  \n",
       "2  0.274901  \n",
       "3  0.401130  \n",
       "4  0.202257  "
      ]
     },
     "execution_count": 20,
     "metadata": {},
     "output_type": "execute_result"
    }
   ],
   "source": [
    "train.head()"
   ]
  },
  {
   "cell_type": "code",
   "execution_count": 21,
   "id": "4af7ea48",
   "metadata": {
    "execution": {
     "iopub.execute_input": "2022-06-07T23:50:28.482101Z",
     "iopub.status.busy": "2022-06-07T23:50:28.481332Z",
     "iopub.status.idle": "2022-06-07T23:50:28.495515Z",
     "shell.execute_reply": "2022-06-07T23:50:28.494655Z"
    },
    "papermill": {
     "duration": 0.088399,
     "end_time": "2022-06-07T23:50:28.497485",
     "exception": false,
     "start_time": "2022-06-07T23:50:28.409086",
     "status": "completed"
    },
    "tags": []
   },
   "outputs": [
    {
     "data": {
      "text/html": [
       "<div>\n",
       "<style scoped>\n",
       "    .dataframe tbody tr th:only-of-type {\n",
       "        vertical-align: middle;\n",
       "    }\n",
       "\n",
       "    .dataframe tbody tr th {\n",
       "        vertical-align: top;\n",
       "    }\n",
       "\n",
       "    .dataframe thead th {\n",
       "        text-align: right;\n",
       "    }\n",
       "</style>\n",
       "<table border=\"1\" class=\"dataframe\">\n",
       "  <thead>\n",
       "    <tr style=\"text-align: right;\">\n",
       "      <th></th>\n",
       "      <th>id</th>\n",
       "      <th>anchor</th>\n",
       "      <th>target</th>\n",
       "      <th>context</th>\n",
       "      <th>score</th>\n",
       "      <th>score_f</th>\n",
       "    </tr>\n",
       "  </thead>\n",
       "  <tbody>\n",
       "    <tr>\n",
       "      <th>0</th>\n",
       "      <td>37d61fd2272659b1</td>\n",
       "      <td>abatement</td>\n",
       "      <td>abatement of pollution</td>\n",
       "      <td>A47</td>\n",
       "      <td>0.50</td>\n",
       "      <td>0.588076</td>\n",
       "    </tr>\n",
       "    <tr>\n",
       "      <th>1</th>\n",
       "      <td>7b9652b17b68b7a4</td>\n",
       "      <td>abatement</td>\n",
       "      <td>act of abating</td>\n",
       "      <td>A47</td>\n",
       "      <td>0.75</td>\n",
       "      <td>0.294865</td>\n",
       "    </tr>\n",
       "    <tr>\n",
       "      <th>2</th>\n",
       "      <td>36d72442aefd8232</td>\n",
       "      <td>abatement</td>\n",
       "      <td>active catalyst</td>\n",
       "      <td>A47</td>\n",
       "      <td>0.25</td>\n",
       "      <td>0.274901</td>\n",
       "    </tr>\n",
       "    <tr>\n",
       "      <th>3</th>\n",
       "      <td>5296b0c19e1ce60e</td>\n",
       "      <td>abatement</td>\n",
       "      <td>eliminating process</td>\n",
       "      <td>A47</td>\n",
       "      <td>0.50</td>\n",
       "      <td>0.401130</td>\n",
       "    </tr>\n",
       "    <tr>\n",
       "      <th>4</th>\n",
       "      <td>54c1e3b9184cb5b6</td>\n",
       "      <td>abatement</td>\n",
       "      <td>forest region</td>\n",
       "      <td>A47</td>\n",
       "      <td>0.00</td>\n",
       "      <td>0.202257</td>\n",
       "    </tr>\n",
       "  </tbody>\n",
       "</table>\n",
       "</div>"
      ],
      "text/plain": [
       "                 id     anchor                  target context  score  \\\n",
       "0  37d61fd2272659b1  abatement  abatement of pollution     A47   0.50   \n",
       "1  7b9652b17b68b7a4  abatement          act of abating     A47   0.75   \n",
       "2  36d72442aefd8232  abatement         active catalyst     A47   0.25   \n",
       "3  5296b0c19e1ce60e  abatement     eliminating process     A47   0.50   \n",
       "4  54c1e3b9184cb5b6  abatement           forest region     A47   0.00   \n",
       "\n",
       "    score_f  \n",
       "0  0.588076  \n",
       "1  0.294865  \n",
       "2  0.274901  \n",
       "3  0.401130  \n",
       "4  0.202257  "
      ]
     },
     "execution_count": 21,
     "metadata": {},
     "output_type": "execute_result"
    }
   ],
   "source": [
    "train_use = train.copy()\n",
    "train_use.head()"
   ]
  },
  {
   "cell_type": "code",
   "execution_count": 22,
   "id": "1e7b72d6",
   "metadata": {
    "execution": {
     "iopub.execute_input": "2022-06-07T23:50:28.642856Z",
     "iopub.status.busy": "2022-06-07T23:50:28.641953Z",
     "iopub.status.idle": "2022-06-07T23:50:28.659770Z",
     "shell.execute_reply": "2022-06-07T23:50:28.658913Z"
    },
    "papermill": {
     "duration": 0.092848,
     "end_time": "2022-06-07T23:50:28.661858",
     "exception": false,
     "start_time": "2022-06-07T23:50:28.569010",
     "status": "completed"
    },
    "tags": []
   },
   "outputs": [
    {
     "data": {
      "text/html": [
       "<div>\n",
       "<style scoped>\n",
       "    .dataframe tbody tr th:only-of-type {\n",
       "        vertical-align: middle;\n",
       "    }\n",
       "\n",
       "    .dataframe tbody tr th {\n",
       "        vertical-align: top;\n",
       "    }\n",
       "\n",
       "    .dataframe thead th {\n",
       "        text-align: right;\n",
       "    }\n",
       "</style>\n",
       "<table border=\"1\" class=\"dataframe\">\n",
       "  <thead>\n",
       "    <tr style=\"text-align: right;\">\n",
       "      <th></th>\n",
       "      <th>id</th>\n",
       "      <th>anchor</th>\n",
       "      <th>target</th>\n",
       "      <th>context</th>\n",
       "      <th>score</th>\n",
       "    </tr>\n",
       "  </thead>\n",
       "  <tbody>\n",
       "    <tr>\n",
       "      <th>0</th>\n",
       "      <td>37d61fd2272659b1</td>\n",
       "      <td>abatement</td>\n",
       "      <td>abatement of pollution</td>\n",
       "      <td>A47</td>\n",
       "      <td>0.50</td>\n",
       "    </tr>\n",
       "    <tr>\n",
       "      <th>1</th>\n",
       "      <td>7b9652b17b68b7a4</td>\n",
       "      <td>abatement</td>\n",
       "      <td>act of abating</td>\n",
       "      <td>A47</td>\n",
       "      <td>0.75</td>\n",
       "    </tr>\n",
       "    <tr>\n",
       "      <th>2</th>\n",
       "      <td>36d72442aefd8232</td>\n",
       "      <td>abatement</td>\n",
       "      <td>active catalyst</td>\n",
       "      <td>A47</td>\n",
       "      <td>0.25</td>\n",
       "    </tr>\n",
       "    <tr>\n",
       "      <th>3</th>\n",
       "      <td>5296b0c19e1ce60e</td>\n",
       "      <td>abatement</td>\n",
       "      <td>eliminating process</td>\n",
       "      <td>A47</td>\n",
       "      <td>0.50</td>\n",
       "    </tr>\n",
       "    <tr>\n",
       "      <th>4</th>\n",
       "      <td>54c1e3b9184cb5b6</td>\n",
       "      <td>abatement</td>\n",
       "      <td>forest region</td>\n",
       "      <td>A47</td>\n",
       "      <td>0.00</td>\n",
       "    </tr>\n",
       "  </tbody>\n",
       "</table>\n",
       "</div>"
      ],
      "text/plain": [
       "                 id     anchor                  target context  score\n",
       "0  37d61fd2272659b1  abatement  abatement of pollution     A47   0.50\n",
       "1  7b9652b17b68b7a4  abatement          act of abating     A47   0.75\n",
       "2  36d72442aefd8232  abatement         active catalyst     A47   0.25\n",
       "3  5296b0c19e1ce60e  abatement     eliminating process     A47   0.50\n",
       "4  54c1e3b9184cb5b6  abatement           forest region     A47   0.00"
      ]
     },
     "execution_count": 22,
     "metadata": {},
     "output_type": "execute_result"
    }
   ],
   "source": [
    "train = train.drop(columns=['score_f'])\n",
    "train.head()"
   ]
  },
  {
   "cell_type": "markdown",
   "id": "597cdff3",
   "metadata": {
    "papermill": {
     "duration": 0.072695,
     "end_time": "2022-06-07T23:50:28.807455",
     "exception": false,
     "start_time": "2022-06-07T23:50:28.734760",
     "status": "completed"
    },
    "tags": []
   },
   "source": [
    "# External Context"
   ]
  },
  {
   "cell_type": "code",
   "execution_count": 23,
   "id": "b6bcea3d",
   "metadata": {
    "execution": {
     "iopub.execute_input": "2022-06-07T23:50:28.958143Z",
     "iopub.status.busy": "2022-06-07T23:50:28.957807Z",
     "iopub.status.idle": "2022-06-07T23:50:28.961747Z",
     "shell.execute_reply": "2022-06-07T23:50:28.960828Z"
    },
    "papermill": {
     "duration": 0.080397,
     "end_time": "2022-06-07T23:50:28.963936",
     "exception": false,
     "start_time": "2022-06-07T23:50:28.883539",
     "status": "completed"
    },
    "tags": []
   },
   "outputs": [],
   "source": [
    "# ajouter le contexte https://www.cooperativepatentclassification.org/Archive\n",
    "# extraire le contexte du fichier xml"
   ]
  },
  {
   "cell_type": "code",
   "execution_count": 24,
   "id": "bf2bc24c",
   "metadata": {
    "execution": {
     "iopub.execute_input": "2022-06-07T23:50:29.113182Z",
     "iopub.status.busy": "2022-06-07T23:50:29.112852Z",
     "iopub.status.idle": "2022-06-07T23:50:29.955806Z",
     "shell.execute_reply": "2022-06-07T23:50:29.954707Z"
    },
    "papermill": {
     "duration": 0.92072,
     "end_time": "2022-06-07T23:50:29.958477",
     "exception": false,
     "start_time": "2022-06-07T23:50:29.037757",
     "status": "completed"
    },
    "tags": []
   },
   "outputs": [
    {
     "name": "stdout",
     "output_type": "stream",
     "text": [
      "(260476, 7)\n"
     ]
    },
    {
     "data": {
      "text/html": [
       "<div>\n",
       "<style scoped>\n",
       "    .dataframe tbody tr th:only-of-type {\n",
       "        vertical-align: middle;\n",
       "    }\n",
       "\n",
       "    .dataframe tbody tr th {\n",
       "        vertical-align: top;\n",
       "    }\n",
       "\n",
       "    .dataframe thead th {\n",
       "        text-align: right;\n",
       "    }\n",
       "</style>\n",
       "<table border=\"1\" class=\"dataframe\">\n",
       "  <thead>\n",
       "    <tr style=\"text-align: right;\">\n",
       "      <th></th>\n",
       "      <th>code</th>\n",
       "      <th>title</th>\n",
       "      <th>section</th>\n",
       "      <th>class</th>\n",
       "      <th>subclass</th>\n",
       "      <th>group</th>\n",
       "      <th>main_group</th>\n",
       "    </tr>\n",
       "  </thead>\n",
       "  <tbody>\n",
       "    <tr>\n",
       "      <th>0</th>\n",
       "      <td>A</td>\n",
       "      <td>HUMAN NECESSITIES</td>\n",
       "      <td>A</td>\n",
       "      <td>NaN</td>\n",
       "      <td>NaN</td>\n",
       "      <td>NaN</td>\n",
       "      <td>NaN</td>\n",
       "    </tr>\n",
       "    <tr>\n",
       "      <th>1</th>\n",
       "      <td>A01</td>\n",
       "      <td>AGRICULTURE; FORESTRY; ANIMAL HUSBANDRY; HUNTING; TRAPPING; FISHING</td>\n",
       "      <td>A</td>\n",
       "      <td>1.0</td>\n",
       "      <td>NaN</td>\n",
       "      <td>NaN</td>\n",
       "      <td>NaN</td>\n",
       "    </tr>\n",
       "    <tr>\n",
       "      <th>2</th>\n",
       "      <td>A01B</td>\n",
       "      <td>SOIL WORKING IN AGRICULTURE OR FORESTRY; PARTS, DETAILS, OR ACCESSORIES OF AGRICULTURAL MACHINES OR IMPLEMENTS, IN GENERAL (making or covering furrows or holes for sowing, planting, or manuring A01C5/00; soil working for engineering purposes E01, E02, E21; {measuring areas for agricultural purposes G01B})</td>\n",
       "      <td>A</td>\n",
       "      <td>1.0</td>\n",
       "      <td>B</td>\n",
       "      <td>NaN</td>\n",
       "      <td>NaN</td>\n",
       "    </tr>\n",
       "    <tr>\n",
       "      <th>3</th>\n",
       "      <td>A01B1/00</td>\n",
       "      <td>Hand tools (edge trimmers for lawns A01G3/06  {; machines for working soil A01B35/00; making hand tools B21D})</td>\n",
       "      <td>A</td>\n",
       "      <td>1.0</td>\n",
       "      <td>B</td>\n",
       "      <td>1.0</td>\n",
       "      <td>0.0</td>\n",
       "    </tr>\n",
       "    <tr>\n",
       "      <th>4</th>\n",
       "      <td>A01B1/02</td>\n",
       "      <td>Spades; Shovels {(hand-operated dredgers E02F3/02)}</td>\n",
       "      <td>A</td>\n",
       "      <td>1.0</td>\n",
       "      <td>B</td>\n",
       "      <td>1.0</td>\n",
       "      <td>2.0</td>\n",
       "    </tr>\n",
       "  </tbody>\n",
       "</table>\n",
       "</div>"
      ],
      "text/plain": [
       "       code  \\\n",
       "0         A   \n",
       "1       A01   \n",
       "2      A01B   \n",
       "3  A01B1/00   \n",
       "4  A01B1/02   \n",
       "\n",
       "                                                                                                                                                                                                                                                                                                                title  \\\n",
       "0                                                                                                                                                                                                                                                                                                   HUMAN NECESSITIES   \n",
       "1                                                                                                                                                                                                                                                 AGRICULTURE; FORESTRY; ANIMAL HUSBANDRY; HUNTING; TRAPPING; FISHING   \n",
       "2  SOIL WORKING IN AGRICULTURE OR FORESTRY; PARTS, DETAILS, OR ACCESSORIES OF AGRICULTURAL MACHINES OR IMPLEMENTS, IN GENERAL (making or covering furrows or holes for sowing, planting, or manuring A01C5/00; soil working for engineering purposes E01, E02, E21; {measuring areas for agricultural purposes G01B})   \n",
       "3                                                                                                                                                                                                      Hand tools (edge trimmers for lawns A01G3/06  {; machines for working soil A01B35/00; making hand tools B21D})   \n",
       "4                                                                                                                                                                                                                                                                 Spades; Shovels {(hand-operated dredgers E02F3/02)}   \n",
       "\n",
       "  section  class subclass  group  main_group  \n",
       "0       A    NaN      NaN    NaN         NaN  \n",
       "1       A    1.0      NaN    NaN         NaN  \n",
       "2       A    1.0        B    NaN         NaN  \n",
       "3       A    1.0        B    1.0         0.0  \n",
       "4       A    1.0        B    1.0         2.0  "
      ]
     },
     "execution_count": 24,
     "metadata": {},
     "output_type": "execute_result"
    }
   ],
   "source": [
    "titles = pd.read_csv(\"../input/cpc-codes/titles.csv\")\n",
    "print(titles.shape)\n",
    "titles.head()"
   ]
  },
  {
   "cell_type": "code",
   "execution_count": 25,
   "id": "eac6217f",
   "metadata": {
    "execution": {
     "iopub.execute_input": "2022-06-07T23:50:30.107502Z",
     "iopub.status.busy": "2022-06-07T23:50:30.107148Z",
     "iopub.status.idle": "2022-06-07T23:50:30.127629Z",
     "shell.execute_reply": "2022-06-07T23:50:30.127005Z"
    },
    "papermill": {
     "duration": 0.098371,
     "end_time": "2022-06-07T23:50:30.129871",
     "exception": false,
     "start_time": "2022-06-07T23:50:30.031500",
     "status": "completed"
    },
    "tags": []
   },
   "outputs": [
    {
     "data": {
      "text/html": [
       "<div>\n",
       "<style scoped>\n",
       "    .dataframe tbody tr th:only-of-type {\n",
       "        vertical-align: middle;\n",
       "    }\n",
       "\n",
       "    .dataframe tbody tr th {\n",
       "        vertical-align: top;\n",
       "    }\n",
       "\n",
       "    .dataframe thead th {\n",
       "        text-align: right;\n",
       "    }\n",
       "</style>\n",
       "<table border=\"1\" class=\"dataframe\">\n",
       "  <thead>\n",
       "    <tr style=\"text-align: right;\">\n",
       "      <th></th>\n",
       "      <th>code</th>\n",
       "      <th>title</th>\n",
       "      <th>section</th>\n",
       "      <th>class</th>\n",
       "      <th>subclass</th>\n",
       "      <th>group</th>\n",
       "      <th>main_group</th>\n",
       "    </tr>\n",
       "  </thead>\n",
       "  <tbody>\n",
       "    <tr>\n",
       "      <th>0</th>\n",
       "      <td>A</td>\n",
       "      <td>HUMAN NECESSITIES</td>\n",
       "      <td>A</td>\n",
       "      <td>NaN</td>\n",
       "      <td>NaN</td>\n",
       "      <td>NaN</td>\n",
       "      <td>NaN</td>\n",
       "    </tr>\n",
       "    <tr>\n",
       "      <th>1</th>\n",
       "      <td>A01</td>\n",
       "      <td>AGRICULTURE; FORESTRY; ANIMAL HUSBANDRY; HUNTING; TRAPPING; FISHING</td>\n",
       "      <td>A</td>\n",
       "      <td>1.0</td>\n",
       "      <td>NaN</td>\n",
       "      <td>NaN</td>\n",
       "      <td>NaN</td>\n",
       "    </tr>\n",
       "    <tr>\n",
       "      <th>2</th>\n",
       "      <td>A01B</td>\n",
       "      <td>SOIL WORKING IN AGRICULTURE OR FORESTRY; PARTS, DETAILS, OR ACCESSORIES OF AGRICULTURAL MACHINES OR IMPLEMENTS, IN GENERAL (making or covering furrows or holes for sowing, planting, or manuring A01C5/00; soil working for engineering purposes E01, E02, E21; {measuring areas for agricultural purposes G01B})</td>\n",
       "      <td>A</td>\n",
       "      <td>1.0</td>\n",
       "      <td>B</td>\n",
       "      <td>NaN</td>\n",
       "      <td>NaN</td>\n",
       "    </tr>\n",
       "    <tr>\n",
       "      <th>3</th>\n",
       "      <td>A01B1/00</td>\n",
       "      <td>Hand tools (edge trimmers for lawns A01G3/06  {; machines for working soil A01B35/00; making hand tools B21D})</td>\n",
       "      <td>A</td>\n",
       "      <td>1.0</td>\n",
       "      <td>B</td>\n",
       "      <td>1.0</td>\n",
       "      <td>0.0</td>\n",
       "    </tr>\n",
       "    <tr>\n",
       "      <th>4</th>\n",
       "      <td>A01B1/02</td>\n",
       "      <td>Spades; Shovels {(hand-operated dredgers E02F3/02)}</td>\n",
       "      <td>A</td>\n",
       "      <td>1.0</td>\n",
       "      <td>B</td>\n",
       "      <td>1.0</td>\n",
       "      <td>2.0</td>\n",
       "    </tr>\n",
       "    <tr>\n",
       "      <th>...</th>\n",
       "      <td>...</td>\n",
       "      <td>...</td>\n",
       "      <td>...</td>\n",
       "      <td>...</td>\n",
       "      <td>...</td>\n",
       "      <td>...</td>\n",
       "      <td>...</td>\n",
       "    </tr>\n",
       "    <tr>\n",
       "      <th>260471</th>\n",
       "      <td>Y10T483/1864</td>\n",
       "      <td>including tool pot or adapter</td>\n",
       "      <td>Y</td>\n",
       "      <td>10.0</td>\n",
       "      <td>T</td>\n",
       "      <td>483.0</td>\n",
       "      <td>1864.0</td>\n",
       "    </tr>\n",
       "    <tr>\n",
       "      <th>260472</th>\n",
       "      <td>Y10T483/1873</td>\n",
       "      <td>Indexing matrix</td>\n",
       "      <td>Y</td>\n",
       "      <td>10.0</td>\n",
       "      <td>T</td>\n",
       "      <td>483.0</td>\n",
       "      <td>1873.0</td>\n",
       "    </tr>\n",
       "    <tr>\n",
       "      <th>260473</th>\n",
       "      <td>Y10T483/1882</td>\n",
       "      <td>Rotary disc</td>\n",
       "      <td>Y</td>\n",
       "      <td>10.0</td>\n",
       "      <td>T</td>\n",
       "      <td>483.0</td>\n",
       "      <td>1882.0</td>\n",
       "    </tr>\n",
       "    <tr>\n",
       "      <th>260474</th>\n",
       "      <td>Y10T483/1891</td>\n",
       "      <td>Chain or belt</td>\n",
       "      <td>Y</td>\n",
       "      <td>10.0</td>\n",
       "      <td>T</td>\n",
       "      <td>483.0</td>\n",
       "      <td>1891.0</td>\n",
       "    </tr>\n",
       "    <tr>\n",
       "      <th>260475</th>\n",
       "      <td>Y10T483/19</td>\n",
       "      <td>Miscellaneous</td>\n",
       "      <td>Y</td>\n",
       "      <td>10.0</td>\n",
       "      <td>T</td>\n",
       "      <td>483.0</td>\n",
       "      <td>19.0</td>\n",
       "    </tr>\n",
       "  </tbody>\n",
       "</table>\n",
       "<p>260476 rows × 7 columns</p>\n",
       "</div>"
      ],
      "text/plain": [
       "                code  \\\n",
       "0                  A   \n",
       "1                A01   \n",
       "2               A01B   \n",
       "3           A01B1/00   \n",
       "4           A01B1/02   \n",
       "...              ...   \n",
       "260471  Y10T483/1864   \n",
       "260472  Y10T483/1873   \n",
       "260473  Y10T483/1882   \n",
       "260474  Y10T483/1891   \n",
       "260475    Y10T483/19   \n",
       "\n",
       "                                                                                                                                                                                                                                                                                                                     title  \\\n",
       "0                                                                                                                                                                                                                                                                                                        HUMAN NECESSITIES   \n",
       "1                                                                                                                                                                                                                                                      AGRICULTURE; FORESTRY; ANIMAL HUSBANDRY; HUNTING; TRAPPING; FISHING   \n",
       "2       SOIL WORKING IN AGRICULTURE OR FORESTRY; PARTS, DETAILS, OR ACCESSORIES OF AGRICULTURAL MACHINES OR IMPLEMENTS, IN GENERAL (making or covering furrows or holes for sowing, planting, or manuring A01C5/00; soil working for engineering purposes E01, E02, E21; {measuring areas for agricultural purposes G01B})   \n",
       "3                                                                                                                                                                                                           Hand tools (edge trimmers for lawns A01G3/06  {; machines for working soil A01B35/00; making hand tools B21D})   \n",
       "4                                                                                                                                                                                                                                                                      Spades; Shovels {(hand-operated dredgers E02F3/02)}   \n",
       "...                                                                                                                                                                                                                                                                                                                    ...   \n",
       "260471                                                                                                                                                                                                                                                                                       including tool pot or adapter   \n",
       "260472                                                                                                                                                                                                                                                                                                     Indexing matrix   \n",
       "260473                                                                                                                                                                                                                                                                                                         Rotary disc   \n",
       "260474                                                                                                                                                                                                                                                                                                       Chain or belt   \n",
       "260475                                                                                                                                                                                                                                                                                                       Miscellaneous   \n",
       "\n",
       "       section  class subclass  group  main_group  \n",
       "0            A    NaN      NaN    NaN         NaN  \n",
       "1            A    1.0      NaN    NaN         NaN  \n",
       "2            A    1.0        B    NaN         NaN  \n",
       "3            A    1.0        B    1.0         0.0  \n",
       "4            A    1.0        B    1.0         2.0  \n",
       "...        ...    ...      ...    ...         ...  \n",
       "260471       Y   10.0        T  483.0      1864.0  \n",
       "260472       Y   10.0        T  483.0      1873.0  \n",
       "260473       Y   10.0        T  483.0      1882.0  \n",
       "260474       Y   10.0        T  483.0      1891.0  \n",
       "260475       Y   10.0        T  483.0        19.0  \n",
       "\n",
       "[260476 rows x 7 columns]"
      ]
     },
     "execution_count": 25,
     "metadata": {},
     "output_type": "execute_result"
    }
   ],
   "source": [
    "titles"
   ]
  },
  {
   "cell_type": "code",
   "execution_count": 26,
   "id": "5cd439f0",
   "metadata": {
    "execution": {
     "iopub.execute_input": "2022-06-07T23:50:30.279563Z",
     "iopub.status.busy": "2022-06-07T23:50:30.278759Z",
     "iopub.status.idle": "2022-06-07T23:50:30.329755Z",
     "shell.execute_reply": "2022-06-07T23:50:30.329074Z"
    },
    "papermill": {
     "duration": 0.127427,
     "end_time": "2022-06-07T23:50:30.331700",
     "exception": false,
     "start_time": "2022-06-07T23:50:30.204273",
     "status": "completed"
    },
    "tags": []
   },
   "outputs": [
    {
     "data": {
      "text/html": [
       "<div>\n",
       "<style scoped>\n",
       "    .dataframe tbody tr th:only-of-type {\n",
       "        vertical-align: middle;\n",
       "    }\n",
       "\n",
       "    .dataframe tbody tr th {\n",
       "        vertical-align: top;\n",
       "    }\n",
       "\n",
       "    .dataframe thead th {\n",
       "        text-align: right;\n",
       "    }\n",
       "</style>\n",
       "<table border=\"1\" class=\"dataframe\">\n",
       "  <thead>\n",
       "    <tr style=\"text-align: right;\">\n",
       "      <th></th>\n",
       "      <th>code</th>\n",
       "      <th>title</th>\n",
       "      <th>section</th>\n",
       "      <th>class</th>\n",
       "      <th>subclass</th>\n",
       "      <th>group</th>\n",
       "      <th>main_group</th>\n",
       "    </tr>\n",
       "  </thead>\n",
       "  <tbody>\n",
       "    <tr>\n",
       "      <th>9022</th>\n",
       "      <td>A47</td>\n",
       "      <td>FURNITURE; DOMESTIC ARTICLES OR APPLIANCES; COFFEE MILLS; SPICE MILLS; SUCTION CLEANERS IN GENERAL</td>\n",
       "      <td>A</td>\n",
       "      <td>47.0</td>\n",
       "      <td>NaN</td>\n",
       "      <td>NaN</td>\n",
       "      <td>NaN</td>\n",
       "    </tr>\n",
       "  </tbody>\n",
       "</table>\n",
       "</div>"
      ],
      "text/plain": [
       "     code  \\\n",
       "9022  A47   \n",
       "\n",
       "                                                                                                   title  \\\n",
       "9022  FURNITURE; DOMESTIC ARTICLES OR APPLIANCES; COFFEE MILLS; SPICE MILLS; SUCTION CLEANERS IN GENERAL   \n",
       "\n",
       "     section  class subclass  group  main_group  \n",
       "9022       A   47.0      NaN    NaN         NaN  "
      ]
     },
     "execution_count": 26,
     "metadata": {},
     "output_type": "execute_result"
    }
   ],
   "source": [
    "titles[titles['code']==\"A47\"]"
   ]
  },
  {
   "cell_type": "code",
   "execution_count": 27,
   "id": "8ce2f919",
   "metadata": {
    "execution": {
     "iopub.execute_input": "2022-06-07T23:50:30.485711Z",
     "iopub.status.busy": "2022-06-07T23:50:30.485355Z",
     "iopub.status.idle": "2022-06-07T23:50:30.532609Z",
     "shell.execute_reply": "2022-06-07T23:50:30.531722Z"
    },
    "papermill": {
     "duration": 0.127208,
     "end_time": "2022-06-07T23:50:30.534788",
     "exception": false,
     "start_time": "2022-06-07T23:50:30.407580",
     "status": "completed"
    },
    "tags": []
   },
   "outputs": [
    {
     "data": {
      "text/plain": [
       "9022    FURNITURE; DOMESTIC ARTICLES OR APPLIANCES; COFFEE MILLS; SPICE MILLS; SUCTION CLEANERS IN GENERAL\n",
       "Name: title, dtype: object"
      ]
     },
     "execution_count": 27,
     "metadata": {},
     "output_type": "execute_result"
    }
   ],
   "source": [
    "titles[titles['code']==\"A47\"]['title']"
   ]
  },
  {
   "cell_type": "code",
   "execution_count": 28,
   "id": "7659e286",
   "metadata": {
    "execution": {
     "iopub.execute_input": "2022-06-07T23:50:30.687076Z",
     "iopub.status.busy": "2022-06-07T23:50:30.686458Z",
     "iopub.status.idle": "2022-06-07T23:50:30.690818Z",
     "shell.execute_reply": "2022-06-07T23:50:30.690261Z"
    },
    "papermill": {
     "duration": 0.08336,
     "end_time": "2022-06-07T23:50:30.692822",
     "exception": false,
     "start_time": "2022-06-07T23:50:30.609462",
     "status": "completed"
    },
    "tags": []
   },
   "outputs": [],
   "source": [
    "# The maximum width in characters of a column in the repr of a pandas data structure\n",
    "pd.set_option('display.max_colwidth', None)"
   ]
  },
  {
   "cell_type": "code",
   "execution_count": 29,
   "id": "7ca0813a",
   "metadata": {
    "execution": {
     "iopub.execute_input": "2022-06-07T23:50:30.845291Z",
     "iopub.status.busy": "2022-06-07T23:50:30.844657Z",
     "iopub.status.idle": "2022-06-07T23:50:30.892041Z",
     "shell.execute_reply": "2022-06-07T23:50:30.891143Z"
    },
    "papermill": {
     "duration": 0.126096,
     "end_time": "2022-06-07T23:50:30.894283",
     "exception": false,
     "start_time": "2022-06-07T23:50:30.768187",
     "status": "completed"
    },
    "tags": []
   },
   "outputs": [
    {
     "data": {
      "text/plain": [
       "9022    FURNITURE; DOMESTIC ARTICLES OR APPLIANCES; COFFEE MILLS; SPICE MILLS; SUCTION CLEANERS IN GENERAL\n",
       "Name: title, dtype: object"
      ]
     },
     "execution_count": 29,
     "metadata": {},
     "output_type": "execute_result"
    }
   ],
   "source": [
    "titles[titles['code']==\"A47\"]['title']"
   ]
  },
  {
   "cell_type": "code",
   "execution_count": 30,
   "id": "a0606387",
   "metadata": {
    "execution": {
     "iopub.execute_input": "2022-06-07T23:50:31.047016Z",
     "iopub.status.busy": "2022-06-07T23:50:31.046396Z",
     "iopub.status.idle": "2022-06-07T23:50:31.098609Z",
     "shell.execute_reply": "2022-06-07T23:50:31.097689Z"
    },
    "papermill": {
     "duration": 0.131468,
     "end_time": "2022-06-07T23:50:31.100776",
     "exception": false,
     "start_time": "2022-06-07T23:50:30.969308",
     "status": "completed"
    },
    "tags": []
   },
   "outputs": [
    {
     "data": {
      "text/plain": [
       "0                A\n",
       "1              A01\n",
       "2             A01B\n",
       "3         A01B1/00\n",
       "4         A01B1/02\n",
       "           ...    \n",
       "29645    A63K3/046\n",
       "29646    A63K99/00\n",
       "29647          A99\n",
       "29648         A99Z\n",
       "29649    A99Z99/00\n",
       "Name: code, Length: 29650, dtype: object"
      ]
     },
     "execution_count": 30,
     "metadata": {},
     "output_type": "execute_result"
    }
   ],
   "source": [
    "titles[titles['section']==\"A\"]['code']"
   ]
  },
  {
   "cell_type": "markdown",
   "id": "af474012",
   "metadata": {
    "papermill": {
     "duration": 0.076001,
     "end_time": "2022-06-07T23:50:31.251814",
     "exception": false,
     "start_time": "2022-06-07T23:50:31.175813",
     "status": "completed"
    },
    "tags": []
   },
   "source": [
    "# HuggingFace AutoModelForSequenceClassification"
   ]
  },
  {
   "cell_type": "code",
   "execution_count": 31,
   "id": "f317223e",
   "metadata": {
    "execution": {
     "iopub.execute_input": "2022-06-07T23:50:31.405698Z",
     "iopub.status.busy": "2022-06-07T23:50:31.405049Z",
     "iopub.status.idle": "2022-06-07T23:50:31.621730Z",
     "shell.execute_reply": "2022-06-07T23:50:31.620583Z"
    },
    "papermill": {
     "duration": 0.296379,
     "end_time": "2022-06-07T23:50:31.624315",
     "exception": false,
     "start_time": "2022-06-07T23:50:31.327936",
     "status": "completed"
    },
    "tags": []
   },
   "outputs": [],
   "source": [
    "import numpy as np # linear algebra\n",
    "import pandas as pd # data processing, CSV file I/O (e.g. pd.read_csv)\n",
    "import os\n",
    "from scipy.stats import pearsonr\n",
    "from scipy.stats import spearmanr # pour trouver les correspondances entre les résultats sur des échelles variées\n",
    "from sklearn.model_selection import StratifiedGroupKFold"
   ]
  },
  {
   "cell_type": "code",
   "execution_count": 32,
   "id": "22894c7c",
   "metadata": {
    "execution": {
     "iopub.execute_input": "2022-06-07T23:50:31.777766Z",
     "iopub.status.busy": "2022-06-07T23:50:31.776870Z",
     "iopub.status.idle": "2022-06-07T23:50:34.879759Z",
     "shell.execute_reply": "2022-06-07T23:50:34.878808Z"
    },
    "papermill": {
     "duration": 3.182045,
     "end_time": "2022-06-07T23:50:34.882441",
     "exception": false,
     "start_time": "2022-06-07T23:50:31.700396",
     "status": "completed"
    },
    "tags": []
   },
   "outputs": [],
   "source": [
    "import transformers\n",
    "from transformers import TrainingArguments,Trainer\n",
    "from transformers import AutoModelForSequenceClassification,AutoTokenizer\n",
    "\n",
    "import torch\n",
    "import datasets\n",
    "from datasets import load_dataset, Dataset, DatasetDict"
   ]
  },
  {
   "cell_type": "code",
   "execution_count": 33,
   "id": "e7006a21",
   "metadata": {
    "execution": {
     "iopub.execute_input": "2022-06-07T23:50:35.038176Z",
     "iopub.status.busy": "2022-06-07T23:50:35.037560Z",
     "iopub.status.idle": "2022-06-07T23:50:35.041993Z",
     "shell.execute_reply": "2022-06-07T23:50:35.041437Z"
    },
    "papermill": {
     "duration": 0.084202,
     "end_time": "2022-06-07T23:50:35.044022",
     "exception": false,
     "start_time": "2022-06-07T23:50:34.959820",
     "status": "completed"
    },
    "tags": []
   },
   "outputs": [],
   "source": [
    "import warnings\n",
    "import logging\n",
    "from IPython.display import display, HTML"
   ]
  },
  {
   "cell_type": "code",
   "execution_count": 34,
   "id": "d566120e",
   "metadata": {
    "execution": {
     "iopub.execute_input": "2022-06-07T23:50:35.197517Z",
     "iopub.status.busy": "2022-06-07T23:50:35.197163Z",
     "iopub.status.idle": "2022-06-07T23:50:35.686112Z",
     "shell.execute_reply": "2022-06-07T23:50:35.685025Z"
    },
    "papermill": {
     "duration": 0.568065,
     "end_time": "2022-06-07T23:50:35.688510",
     "exception": false,
     "start_time": "2022-06-07T23:50:35.120445",
     "status": "completed"
    },
    "tags": []
   },
   "outputs": [
    {
     "name": "stdout",
     "output_type": "stream",
     "text": [
      "(36473, 6)\n"
     ]
    },
    {
     "data": {
      "text/html": [
       "<div>\n",
       "<style scoped>\n",
       "    .dataframe tbody tr th:only-of-type {\n",
       "        vertical-align: middle;\n",
       "    }\n",
       "\n",
       "    .dataframe tbody tr th {\n",
       "        vertical-align: top;\n",
       "    }\n",
       "\n",
       "    .dataframe thead th {\n",
       "        text-align: right;\n",
       "    }\n",
       "</style>\n",
       "<table border=\"1\" class=\"dataframe\">\n",
       "  <thead>\n",
       "    <tr style=\"text-align: right;\">\n",
       "      <th></th>\n",
       "      <th>id</th>\n",
       "      <th>anchor</th>\n",
       "      <th>target</th>\n",
       "      <th>context</th>\n",
       "      <th>score</th>\n",
       "      <th>section</th>\n",
       "    </tr>\n",
       "  </thead>\n",
       "  <tbody>\n",
       "    <tr>\n",
       "      <th>0</th>\n",
       "      <td>37d61fd2272659b1</td>\n",
       "      <td>abatement</td>\n",
       "      <td>abatement of pollution</td>\n",
       "      <td>A47</td>\n",
       "      <td>0.50</td>\n",
       "      <td>A</td>\n",
       "    </tr>\n",
       "    <tr>\n",
       "      <th>1</th>\n",
       "      <td>7b9652b17b68b7a4</td>\n",
       "      <td>abatement</td>\n",
       "      <td>act of abating</td>\n",
       "      <td>A47</td>\n",
       "      <td>0.75</td>\n",
       "      <td>A</td>\n",
       "    </tr>\n",
       "    <tr>\n",
       "      <th>2</th>\n",
       "      <td>36d72442aefd8232</td>\n",
       "      <td>abatement</td>\n",
       "      <td>active catalyst</td>\n",
       "      <td>A47</td>\n",
       "      <td>0.25</td>\n",
       "      <td>A</td>\n",
       "    </tr>\n",
       "    <tr>\n",
       "      <th>3</th>\n",
       "      <td>5296b0c19e1ce60e</td>\n",
       "      <td>abatement</td>\n",
       "      <td>eliminating process</td>\n",
       "      <td>A47</td>\n",
       "      <td>0.50</td>\n",
       "      <td>A</td>\n",
       "    </tr>\n",
       "    <tr>\n",
       "      <th>4</th>\n",
       "      <td>54c1e3b9184cb5b6</td>\n",
       "      <td>abatement</td>\n",
       "      <td>forest region</td>\n",
       "      <td>A47</td>\n",
       "      <td>0.00</td>\n",
       "      <td>A</td>\n",
       "    </tr>\n",
       "  </tbody>\n",
       "</table>\n",
       "</div>"
      ],
      "text/plain": [
       "                 id     anchor                  target context  score section\n",
       "0  37d61fd2272659b1  abatement  abatement of pollution     A47   0.50       A\n",
       "1  7b9652b17b68b7a4  abatement          act of abating     A47   0.75       A\n",
       "2  36d72442aefd8232  abatement         active catalyst     A47   0.25       A\n",
       "3  5296b0c19e1ce60e  abatement     eliminating process     A47   0.50       A\n",
       "4  54c1e3b9184cb5b6  abatement           forest region     A47   0.00       A"
      ]
     },
     "metadata": {},
     "output_type": "display_data"
    },
    {
     "data": {
      "text/html": [
       "<div>\n",
       "<style scoped>\n",
       "    .dataframe tbody tr th:only-of-type {\n",
       "        vertical-align: middle;\n",
       "    }\n",
       "\n",
       "    .dataframe tbody tr th {\n",
       "        vertical-align: top;\n",
       "    }\n",
       "\n",
       "    .dataframe thead th {\n",
       "        text-align: right;\n",
       "    }\n",
       "</style>\n",
       "<table border=\"1\" class=\"dataframe\">\n",
       "  <thead>\n",
       "    <tr style=\"text-align: right;\">\n",
       "      <th></th>\n",
       "      <th>context</th>\n",
       "      <th>title</th>\n",
       "      <th>section</th>\n",
       "      <th>class</th>\n",
       "      <th>subclass</th>\n",
       "      <th>group</th>\n",
       "      <th>main_group</th>\n",
       "    </tr>\n",
       "  </thead>\n",
       "  <tbody>\n",
       "    <tr>\n",
       "      <th>0</th>\n",
       "      <td>A</td>\n",
       "      <td>HUMAN NECESSITIES</td>\n",
       "      <td>A</td>\n",
       "      <td>NaN</td>\n",
       "      <td>NaN</td>\n",
       "      <td>NaN</td>\n",
       "      <td>NaN</td>\n",
       "    </tr>\n",
       "    <tr>\n",
       "      <th>1</th>\n",
       "      <td>A01</td>\n",
       "      <td>AGRICULTURE; FORESTRY; ANIMAL HUSBANDRY; HUNTING; TRAPPING; FISHING</td>\n",
       "      <td>A</td>\n",
       "      <td>1.0</td>\n",
       "      <td>NaN</td>\n",
       "      <td>NaN</td>\n",
       "      <td>NaN</td>\n",
       "    </tr>\n",
       "    <tr>\n",
       "      <th>2</th>\n",
       "      <td>A01B</td>\n",
       "      <td>SOIL WORKING IN AGRICULTURE OR FORESTRY; PARTS, DETAILS, OR ACCESSORIES OF AGRICULTURAL MACHINES OR IMPLEMENTS, IN GENERAL (making or covering furrows or holes for sowing, planting, or manuring A01C5/00; soil working for engineering purposes E01, E02, E21; {measuring areas for agricultural purposes G01B})</td>\n",
       "      <td>A</td>\n",
       "      <td>1.0</td>\n",
       "      <td>B</td>\n",
       "      <td>NaN</td>\n",
       "      <td>NaN</td>\n",
       "    </tr>\n",
       "    <tr>\n",
       "      <th>3</th>\n",
       "      <td>A01B1/00</td>\n",
       "      <td>Hand tools (edge trimmers for lawns A01G3/06  {; machines for working soil A01B35/00; making hand tools B21D})</td>\n",
       "      <td>A</td>\n",
       "      <td>1.0</td>\n",
       "      <td>B</td>\n",
       "      <td>1.0</td>\n",
       "      <td>0.0</td>\n",
       "    </tr>\n",
       "    <tr>\n",
       "      <th>4</th>\n",
       "      <td>A01B1/02</td>\n",
       "      <td>Spades; Shovels {(hand-operated dredgers E02F3/02)}</td>\n",
       "      <td>A</td>\n",
       "      <td>1.0</td>\n",
       "      <td>B</td>\n",
       "      <td>1.0</td>\n",
       "      <td>2.0</td>\n",
       "    </tr>\n",
       "  </tbody>\n",
       "</table>\n",
       "</div>"
      ],
      "text/plain": [
       "    context  \\\n",
       "0         A   \n",
       "1       A01   \n",
       "2      A01B   \n",
       "3  A01B1/00   \n",
       "4  A01B1/02   \n",
       "\n",
       "                                                                                                                                                                                                                                                                                                                title  \\\n",
       "0                                                                                                                                                                                                                                                                                                   HUMAN NECESSITIES   \n",
       "1                                                                                                                                                                                                                                                 AGRICULTURE; FORESTRY; ANIMAL HUSBANDRY; HUNTING; TRAPPING; FISHING   \n",
       "2  SOIL WORKING IN AGRICULTURE OR FORESTRY; PARTS, DETAILS, OR ACCESSORIES OF AGRICULTURAL MACHINES OR IMPLEMENTS, IN GENERAL (making or covering furrows or holes for sowing, planting, or manuring A01C5/00; soil working for engineering purposes E01, E02, E21; {measuring areas for agricultural purposes G01B})   \n",
       "3                                                                                                                                                                                                      Hand tools (edge trimmers for lawns A01G3/06  {; machines for working soil A01B35/00; making hand tools B21D})   \n",
       "4                                                                                                                                                                                                                                                                 Spades; Shovels {(hand-operated dredgers E02F3/02)}   \n",
       "\n",
       "  section  class subclass  group  main_group  \n",
       "0       A    NaN      NaN    NaN         NaN  \n",
       "1       A    1.0      NaN    NaN         NaN  \n",
       "2       A    1.0        B    NaN         NaN  \n",
       "3       A    1.0        B    1.0         0.0  \n",
       "4       A    1.0        B    1.0         2.0  "
      ]
     },
     "metadata": {},
     "output_type": "display_data"
    },
    {
     "data": {
      "text/html": [
       "<div>\n",
       "<style scoped>\n",
       "    .dataframe tbody tr th:only-of-type {\n",
       "        vertical-align: middle;\n",
       "    }\n",
       "\n",
       "    .dataframe tbody tr th {\n",
       "        vertical-align: top;\n",
       "    }\n",
       "\n",
       "    .dataframe thead th {\n",
       "        text-align: right;\n",
       "    }\n",
       "</style>\n",
       "<table border=\"1\" class=\"dataframe\">\n",
       "  <thead>\n",
       "    <tr style=\"text-align: right;\">\n",
       "      <th></th>\n",
       "      <th>id</th>\n",
       "      <th>anchor</th>\n",
       "      <th>target</th>\n",
       "      <th>context</th>\n",
       "      <th>score</th>\n",
       "      <th>section</th>\n",
       "      <th>context_title</th>\n",
       "      <th>section_title</th>\n",
       "    </tr>\n",
       "  </thead>\n",
       "  <tbody>\n",
       "    <tr>\n",
       "      <th>0</th>\n",
       "      <td>37d61fd2272659b1</td>\n",
       "      <td>abatement</td>\n",
       "      <td>abatement of pollution</td>\n",
       "      <td>A47</td>\n",
       "      <td>0.50</td>\n",
       "      <td>A</td>\n",
       "      <td>FURNITURE; DOMESTIC ARTICLES OR APPLIANCES; COFFEE MILLS; SPICE MILLS; SUCTION CLEANERS IN GENERAL</td>\n",
       "      <td>HUMAN NECESSITIES</td>\n",
       "    </tr>\n",
       "    <tr>\n",
       "      <th>1</th>\n",
       "      <td>7b9652b17b68b7a4</td>\n",
       "      <td>abatement</td>\n",
       "      <td>act of abating</td>\n",
       "      <td>A47</td>\n",
       "      <td>0.75</td>\n",
       "      <td>A</td>\n",
       "      <td>FURNITURE; DOMESTIC ARTICLES OR APPLIANCES; COFFEE MILLS; SPICE MILLS; SUCTION CLEANERS IN GENERAL</td>\n",
       "      <td>HUMAN NECESSITIES</td>\n",
       "    </tr>\n",
       "    <tr>\n",
       "      <th>2</th>\n",
       "      <td>36d72442aefd8232</td>\n",
       "      <td>abatement</td>\n",
       "      <td>active catalyst</td>\n",
       "      <td>A47</td>\n",
       "      <td>0.25</td>\n",
       "      <td>A</td>\n",
       "      <td>FURNITURE; DOMESTIC ARTICLES OR APPLIANCES; COFFEE MILLS; SPICE MILLS; SUCTION CLEANERS IN GENERAL</td>\n",
       "      <td>HUMAN NECESSITIES</td>\n",
       "    </tr>\n",
       "    <tr>\n",
       "      <th>3</th>\n",
       "      <td>5296b0c19e1ce60e</td>\n",
       "      <td>abatement</td>\n",
       "      <td>eliminating process</td>\n",
       "      <td>A47</td>\n",
       "      <td>0.50</td>\n",
       "      <td>A</td>\n",
       "      <td>FURNITURE; DOMESTIC ARTICLES OR APPLIANCES; COFFEE MILLS; SPICE MILLS; SUCTION CLEANERS IN GENERAL</td>\n",
       "      <td>HUMAN NECESSITIES</td>\n",
       "    </tr>\n",
       "    <tr>\n",
       "      <th>4</th>\n",
       "      <td>54c1e3b9184cb5b6</td>\n",
       "      <td>abatement</td>\n",
       "      <td>forest region</td>\n",
       "      <td>A47</td>\n",
       "      <td>0.00</td>\n",
       "      <td>A</td>\n",
       "      <td>FURNITURE; DOMESTIC ARTICLES OR APPLIANCES; COFFEE MILLS; SPICE MILLS; SUCTION CLEANERS IN GENERAL</td>\n",
       "      <td>HUMAN NECESSITIES</td>\n",
       "    </tr>\n",
       "  </tbody>\n",
       "</table>\n",
       "</div>"
      ],
      "text/plain": [
       "                 id     anchor                  target context  score section  \\\n",
       "0  37d61fd2272659b1  abatement  abatement of pollution     A47   0.50       A   \n",
       "1  7b9652b17b68b7a4  abatement          act of abating     A47   0.75       A   \n",
       "2  36d72442aefd8232  abatement         active catalyst     A47   0.25       A   \n",
       "3  5296b0c19e1ce60e  abatement     eliminating process     A47   0.50       A   \n",
       "4  54c1e3b9184cb5b6  abatement           forest region     A47   0.00       A   \n",
       "\n",
       "                                                                                        context_title  \\\n",
       "0  FURNITURE; DOMESTIC ARTICLES OR APPLIANCES; COFFEE MILLS; SPICE MILLS; SUCTION CLEANERS IN GENERAL   \n",
       "1  FURNITURE; DOMESTIC ARTICLES OR APPLIANCES; COFFEE MILLS; SPICE MILLS; SUCTION CLEANERS IN GENERAL   \n",
       "2  FURNITURE; DOMESTIC ARTICLES OR APPLIANCES; COFFEE MILLS; SPICE MILLS; SUCTION CLEANERS IN GENERAL   \n",
       "3  FURNITURE; DOMESTIC ARTICLES OR APPLIANCES; COFFEE MILLS; SPICE MILLS; SUCTION CLEANERS IN GENERAL   \n",
       "4  FURNITURE; DOMESTIC ARTICLES OR APPLIANCES; COFFEE MILLS; SPICE MILLS; SUCTION CLEANERS IN GENERAL   \n",
       "\n",
       "       section_title  \n",
       "0  HUMAN NECESSITIES  \n",
       "1  HUMAN NECESSITIES  \n",
       "2  HUMAN NECESSITIES  \n",
       "3  HUMAN NECESSITIES  \n",
       "4  HUMAN NECESSITIES  "
      ]
     },
     "metadata": {},
     "output_type": "display_data"
    }
   ],
   "source": [
    "train['section'] = train[\"context\"].str[0]\n",
    "print(train.shape)\n",
    "display(train.head())\n",
    "titles=titles.rename(columns={\"code\": \"context\"})\n",
    "display(titles.head())\n",
    "train = train.merge(titles[[\"context\", \"title\"]], on=\"context\").rename(columns={\"title\": \"context_title\"})\n",
    "train = train.merge(titles[[\"context\", \"title\"]].rename(columns={\"context\": \"section\"}), on=\"section\").rename(columns={\"title\": \"section_title\"})\n",
    "display(train.head())"
   ]
  },
  {
   "cell_type": "code",
   "execution_count": 35,
   "id": "a258bc3b",
   "metadata": {
    "execution": {
     "iopub.execute_input": "2022-06-07T23:50:35.849364Z",
     "iopub.status.busy": "2022-06-07T23:50:35.848715Z",
     "iopub.status.idle": "2022-06-07T23:50:35.853700Z",
     "shell.execute_reply": "2022-06-07T23:50:35.852975Z"
    },
    "papermill": {
     "duration": 0.089257,
     "end_time": "2022-06-07T23:50:35.855762",
     "exception": false,
     "start_time": "2022-06-07T23:50:35.766505",
     "status": "completed"
    },
    "tags": []
   },
   "outputs": [],
   "source": [
    "logging.disable(logging.WARNING)\n",
    "warnings.simplefilter('ignore')"
   ]
  },
  {
   "cell_type": "markdown",
   "id": "9f30979d",
   "metadata": {
    "papermill": {
     "duration": 0.078732,
     "end_time": "2022-06-07T23:50:36.013308",
     "exception": false,
     "start_time": "2022-06-07T23:50:35.934576",
     "status": "completed"
    },
    "tags": []
   },
   "source": [
    "# Deberta-v3-small"
   ]
  },
  {
   "cell_type": "code",
   "execution_count": 36,
   "id": "d43cc30a",
   "metadata": {
    "execution": {
     "iopub.execute_input": "2022-06-07T23:50:36.174546Z",
     "iopub.status.busy": "2022-06-07T23:50:36.173938Z",
     "iopub.status.idle": "2022-06-07T23:50:36.178032Z",
     "shell.execute_reply": "2022-06-07T23:50:36.177481Z"
    },
    "papermill": {
     "duration": 0.085813,
     "end_time": "2022-06-07T23:50:36.180022",
     "exception": false,
     "start_time": "2022-06-07T23:50:36.094209",
     "status": "completed"
    },
    "tags": []
   },
   "outputs": [],
   "source": [
    "model_name = 'microsoft/deberta-v3-small'"
   ]
  },
  {
   "cell_type": "code",
   "execution_count": 37,
   "id": "67070013",
   "metadata": {
    "execution": {
     "iopub.execute_input": "2022-06-07T23:50:36.337811Z",
     "iopub.status.busy": "2022-06-07T23:50:36.337210Z",
     "iopub.status.idle": "2022-06-07T23:50:48.358039Z",
     "shell.execute_reply": "2022-06-07T23:50:48.357143Z"
    },
    "papermill": {
     "duration": 12.102712,
     "end_time": "2022-06-07T23:50:48.360630",
     "exception": false,
     "start_time": "2022-06-07T23:50:36.257918",
     "status": "completed"
    },
    "tags": []
   },
   "outputs": [
    {
     "data": {
      "application/vnd.jupyter.widget-view+json": {
       "model_id": "86b0fce62aab4e9bbebb2ffe82a1741e",
       "version_major": 2,
       "version_minor": 0
      },
      "text/plain": [
       "Downloading:   0%|          | 0.00/52.0 [00:00<?, ?B/s]"
      ]
     },
     "metadata": {},
     "output_type": "display_data"
    },
    {
     "data": {
      "application/vnd.jupyter.widget-view+json": {
       "model_id": "1aa717d130f94956b8855c3cafce5524",
       "version_major": 2,
       "version_minor": 0
      },
      "text/plain": [
       "Downloading:   0%|          | 0.00/578 [00:00<?, ?B/s]"
      ]
     },
     "metadata": {},
     "output_type": "display_data"
    },
    {
     "data": {
      "application/vnd.jupyter.widget-view+json": {
       "model_id": "4708d6a43e6244b29fc83dfb240b7d38",
       "version_major": 2,
       "version_minor": 0
      },
      "text/plain": [
       "Downloading:   0%|          | 0.00/2.35M [00:00<?, ?B/s]"
      ]
     },
     "metadata": {},
     "output_type": "display_data"
    }
   ],
   "source": [
    "tokenizer = AutoTokenizer.from_pretrained(model_name)"
   ]
  },
  {
   "cell_type": "code",
   "execution_count": 38,
   "id": "4e12e3c3",
   "metadata": {
    "execution": {
     "iopub.execute_input": "2022-06-07T23:50:48.524979Z",
     "iopub.status.busy": "2022-06-07T23:50:48.523848Z",
     "iopub.status.idle": "2022-06-07T23:50:48.529267Z",
     "shell.execute_reply": "2022-06-07T23:50:48.528735Z"
    },
    "papermill": {
     "duration": 0.089213,
     "end_time": "2022-06-07T23:50:48.531071",
     "exception": false,
     "start_time": "2022-06-07T23:50:48.441858",
     "status": "completed"
    },
    "tags": []
   },
   "outputs": [
    {
     "data": {
      "text/plain": [
       "['[CLS]', '[SEP]', '[UNK]', '[PAD]', '[MASK]']"
      ]
     },
     "execution_count": 38,
     "metadata": {},
     "output_type": "execute_result"
    }
   ],
   "source": [
    "tokenizer.all_special_tokens"
   ]
  },
  {
   "cell_type": "code",
   "execution_count": 39,
   "id": "eb5c285c",
   "metadata": {
    "execution": {
     "iopub.execute_input": "2022-06-07T23:50:48.695188Z",
     "iopub.status.busy": "2022-06-07T23:50:48.694628Z",
     "iopub.status.idle": "2022-06-07T23:50:48.701292Z",
     "shell.execute_reply": "2022-06-07T23:50:48.700705Z"
    },
    "papermill": {
     "duration": 0.091632,
     "end_time": "2022-06-07T23:50:48.703290",
     "exception": false,
     "start_time": "2022-06-07T23:50:48.611658",
     "status": "completed"
    },
    "tags": []
   },
   "outputs": [],
   "source": [
    "def clean(x):\n",
    "    t = x.lower()\n",
    "    t = t.replace(\"[\",'')\n",
    "    t = t.replace(\";\",'')\n",
    "    t = t.replace(\",\",'')\n",
    "    t = t.replace(\"]\",'')\n",
    "    t = t.replace(\":\",'')\n",
    "    t = t.replace(\"(\",'')\n",
    "    t = t.replace(\")\",'')\n",
    "    t = t.replace(\"{\",'')\n",
    "    t = t.replace(\"}\",'')\n",
    "    t = t.replace(\"/\",' ')\n",
    "    t = t.replace(\"-\",' ')\n",
    "    return t"
   ]
  },
  {
   "cell_type": "code",
   "execution_count": 40,
   "id": "051ece0c",
   "metadata": {
    "execution": {
     "iopub.execute_input": "2022-06-07T23:50:48.870614Z",
     "iopub.status.busy": "2022-06-07T23:50:48.870258Z",
     "iopub.status.idle": "2022-06-07T23:50:48.969054Z",
     "shell.execute_reply": "2022-06-07T23:50:48.967926Z"
    },
    "papermill": {
     "duration": 0.185859,
     "end_time": "2022-06-07T23:50:48.971713",
     "exception": false,
     "start_time": "2022-06-07T23:50:48.785854",
     "status": "completed"
    },
    "tags": []
   },
   "outputs": [],
   "source": [
    "train[\"inputs\"] = train[\"section_title\"].apply(clean) + \" [SEP] \" + train[\"anchor\"] + \" [SEP] \" + train[\"target\"]"
   ]
  },
  {
   "cell_type": "code",
   "execution_count": 41,
   "id": "8b034c97",
   "metadata": {
    "execution": {
     "iopub.execute_input": "2022-06-07T23:50:49.138850Z",
     "iopub.status.busy": "2022-06-07T23:50:49.138300Z",
     "iopub.status.idle": "2022-06-07T23:50:49.141951Z",
     "shell.execute_reply": "2022-06-07T23:50:49.141345Z"
    },
    "papermill": {
     "duration": 0.089342,
     "end_time": "2022-06-07T23:50:49.143844",
     "exception": false,
     "start_time": "2022-06-07T23:50:49.054502",
     "status": "completed"
    },
    "tags": []
   },
   "outputs": [],
   "source": [
    "def tok_func(x):\n",
    "    return tokenizer(x[\"inputs\"])"
   ]
  },
  {
   "cell_type": "code",
   "execution_count": 42,
   "id": "41895a20",
   "metadata": {
    "execution": {
     "iopub.execute_input": "2022-06-07T23:50:49.310991Z",
     "iopub.status.busy": "2022-06-07T23:50:49.310333Z",
     "iopub.status.idle": "2022-06-07T23:50:49.381024Z",
     "shell.execute_reply": "2022-06-07T23:50:49.380271Z"
    },
    "papermill": {
     "duration": 0.158483,
     "end_time": "2022-06-07T23:50:49.383469",
     "exception": false,
     "start_time": "2022-06-07T23:50:49.224986",
     "status": "completed"
    },
    "tags": []
   },
   "outputs": [],
   "source": [
    "train_ds = Dataset.from_pandas(train).rename_column('score', 'label')"
   ]
  },
  {
   "cell_type": "code",
   "execution_count": 43,
   "id": "3a65d44c",
   "metadata": {
    "execution": {
     "iopub.execute_input": "2022-06-07T23:50:49.548551Z",
     "iopub.status.busy": "2022-06-07T23:50:49.548205Z",
     "iopub.status.idle": "2022-06-07T23:50:58.538883Z",
     "shell.execute_reply": "2022-06-07T23:50:58.537985Z"
    },
    "papermill": {
     "duration": 9.074838,
     "end_time": "2022-06-07T23:50:58.541126",
     "exception": false,
     "start_time": "2022-06-07T23:50:49.466288",
     "status": "completed"
    },
    "tags": []
   },
   "outputs": [
    {
     "data": {
      "application/vnd.jupyter.widget-view+json": {
       "model_id": "c6bc75bc3ad44bef8cf65d5f75940e37",
       "version_major": 2,
       "version_minor": 0
      },
      "text/plain": [
       "  0%|          | 0/37 [00:00<?, ?ba/s]"
      ]
     },
     "metadata": {},
     "output_type": "display_data"
    }
   ],
   "source": [
    "inps = \"anchor\",\"target\",\"context\",\"context_title\",\"section_title\"\n",
    "tok_ds = train_ds.map(tok_func, batched=True, remove_columns=inps+('inputs','id','section'))"
   ]
  },
  {
   "cell_type": "code",
   "execution_count": 44,
   "id": "441fdb70",
   "metadata": {
    "execution": {
     "iopub.execute_input": "2022-06-07T23:50:58.715023Z",
     "iopub.status.busy": "2022-06-07T23:50:58.714395Z",
     "iopub.status.idle": "2022-06-07T23:50:58.718493Z",
     "shell.execute_reply": "2022-06-07T23:50:58.717855Z"
    },
    "papermill": {
     "duration": 0.092516,
     "end_time": "2022-06-07T23:50:58.720465",
     "exception": false,
     "start_time": "2022-06-07T23:50:58.627949",
     "status": "completed"
    },
    "tags": []
   },
   "outputs": [],
   "source": [
    "# bs - batch size\n",
    "lr,bs = 8e-5,128\n",
    "# wd: weight decay\n",
    "wd,epochs = 0.01,4"
   ]
  },
  {
   "cell_type": "code",
   "execution_count": 45,
   "id": "3d5fcadf",
   "metadata": {
    "execution": {
     "iopub.execute_input": "2022-06-07T23:50:58.895664Z",
     "iopub.status.busy": "2022-06-07T23:50:58.895141Z",
     "iopub.status.idle": "2022-06-07T23:50:58.902823Z",
     "shell.execute_reply": "2022-06-07T23:50:58.902033Z"
    },
    "papermill": {
     "duration": 0.100648,
     "end_time": "2022-06-07T23:50:58.904967",
     "exception": false,
     "start_time": "2022-06-07T23:50:58.804319",
     "status": "completed"
    },
    "tags": []
   },
   "outputs": [],
   "source": [
    "anchors = train[\"anchor\"].unique()\n",
    "np.random.shuffle(anchors)"
   ]
  },
  {
   "cell_type": "code",
   "execution_count": 46,
   "id": "f943c29f",
   "metadata": {
    "execution": {
     "iopub.execute_input": "2022-06-07T23:50:59.074519Z",
     "iopub.status.busy": "2022-06-07T23:50:59.074185Z",
     "iopub.status.idle": "2022-06-07T23:50:59.077981Z",
     "shell.execute_reply": "2022-06-07T23:50:59.077397Z"
    },
    "papermill": {
     "duration": 0.090285,
     "end_time": "2022-06-07T23:50:59.079911",
     "exception": false,
     "start_time": "2022-06-07T23:50:58.989626",
     "status": "completed"
    },
    "tags": []
   },
   "outputs": [],
   "source": [
    "val_prop = 0.25\n",
    "val_sz = int(len(anchors)*val_prop)\n",
    "val_anchors = anchors[:val_sz]"
   ]
  },
  {
   "cell_type": "code",
   "execution_count": 47,
   "id": "0d93cc00",
   "metadata": {
    "execution": {
     "iopub.execute_input": "2022-06-07T23:50:59.245492Z",
     "iopub.status.busy": "2022-06-07T23:50:59.245028Z",
     "iopub.status.idle": "2022-06-07T23:50:59.506152Z",
     "shell.execute_reply": "2022-06-07T23:50:59.505137Z"
    },
    "papermill": {
     "duration": 0.346995,
     "end_time": "2022-06-07T23:50:59.508399",
     "exception": false,
     "start_time": "2022-06-07T23:50:59.161404",
     "status": "completed"
    },
    "tags": []
   },
   "outputs": [
    {
     "data": {
      "text/plain": [
       "(9102, 27371)"
      ]
     },
     "execution_count": 47,
     "metadata": {},
     "output_type": "execute_result"
    }
   ],
   "source": [
    "is_val = np.isin(train.anchor, val_anchors)\n",
    "idxs = np.arange(len(train))\n",
    "val_idxs = idxs[ is_val]\n",
    "trn_idxs = idxs[~is_val]\n",
    "len(val_idxs),len(trn_idxs)"
   ]
  },
  {
   "cell_type": "code",
   "execution_count": 48,
   "id": "63ceb44d",
   "metadata": {
    "execution": {
     "iopub.execute_input": "2022-06-07T23:50:59.684319Z",
     "iopub.status.busy": "2022-06-07T23:50:59.683969Z",
     "iopub.status.idle": "2022-06-07T23:50:59.708207Z",
     "shell.execute_reply": "2022-06-07T23:50:59.707449Z"
    },
    "papermill": {
     "duration": 0.115107,
     "end_time": "2022-06-07T23:50:59.710687",
     "exception": false,
     "start_time": "2022-06-07T23:50:59.595580",
     "status": "completed"
    },
    "tags": []
   },
   "outputs": [],
   "source": [
    "dds = DatasetDict({\"train\":tok_ds.select(trn_idxs),\n",
    "             \"test\": tok_ds.select(val_idxs)})"
   ]
  },
  {
   "cell_type": "code",
   "execution_count": 49,
   "id": "87ad2d1e",
   "metadata": {
    "execution": {
     "iopub.execute_input": "2022-06-07T23:50:59.898479Z",
     "iopub.status.busy": "2022-06-07T23:50:59.897874Z",
     "iopub.status.idle": "2022-06-07T23:50:59.902078Z",
     "shell.execute_reply": "2022-06-07T23:50:59.901480Z"
    },
    "papermill": {
     "duration": 0.095492,
     "end_time": "2022-06-07T23:50:59.903967",
     "exception": false,
     "start_time": "2022-06-07T23:50:59.808475",
     "status": "completed"
    },
    "tags": []
   },
   "outputs": [],
   "source": [
    "def corr(eval_pred): return {'pearson': np.corrcoef(*eval_pred)[0][1]}"
   ]
  },
  {
   "cell_type": "code",
   "execution_count": 50,
   "id": "792e83a3",
   "metadata": {
    "execution": {
     "iopub.execute_input": "2022-06-07T23:51:00.086757Z",
     "iopub.status.busy": "2022-06-07T23:51:00.086127Z",
     "iopub.status.idle": "2022-06-07T23:51:00.092517Z",
     "shell.execute_reply": "2022-06-07T23:51:00.091730Z"
    },
    "papermill": {
     "duration": 0.100516,
     "end_time": "2022-06-07T23:51:00.094746",
     "exception": false,
     "start_time": "2022-06-07T23:50:59.994230",
     "status": "completed"
    },
    "tags": []
   },
   "outputs": [],
   "source": [
    "#args = TrainingArguments('outputs', learning_rate=lr, warmup_ratio=0.1, lr_scheduler_type='cosine', fp16=True,\n",
    "    #evaluation_strategy=\"epoch\", per_device_train_batch_size=bs, per_device_eval_batch_size=bs*2,\n",
    "     #num_train_epochs=epochs, weight_decay=wd, report_to='none')\n",
    "args = TrainingArguments('outputs', learning_rate=lr, warmup_ratio=0.1, lr_scheduler_type='cosine',\n",
    "    evaluation_strategy=\"epoch\", per_device_train_batch_size=bs, per_device_eval_batch_size=bs*2,\n",
    "    num_train_epochs=epochs, weight_decay=wd, report_to='none')"
   ]
  },
  {
   "cell_type": "code",
   "execution_count": 51,
   "id": "e6aefcc5",
   "metadata": {
    "execution": {
     "iopub.execute_input": "2022-06-07T23:51:00.275636Z",
     "iopub.status.busy": "2022-06-07T23:51:00.275266Z",
     "iopub.status.idle": "2022-06-07T23:51:31.888452Z",
     "shell.execute_reply": "2022-06-07T23:51:31.887540Z"
    },
    "papermill": {
     "duration": 31.707009,
     "end_time": "2022-06-07T23:51:31.891452",
     "exception": false,
     "start_time": "2022-06-07T23:51:00.184443",
     "status": "completed"
    },
    "tags": []
   },
   "outputs": [
    {
     "data": {
      "application/vnd.jupyter.widget-view+json": {
       "model_id": "c0d427c022a94042ab7908d6b8270e66",
       "version_major": 2,
       "version_minor": 0
      },
      "text/plain": [
       "Downloading:   0%|          | 0.00/273M [00:00<?, ?B/s]"
      ]
     },
     "metadata": {},
     "output_type": "display_data"
    }
   ],
   "source": [
    "model = AutoModelForSequenceClassification.from_pretrained(model_name, num_labels=1)\n",
    "trainer = Trainer(model, args, train_dataset=dds['train'], eval_dataset=dds['test'],\n",
    "               tokenizer=tokenizer, compute_metrics=corr)"
   ]
  },
  {
   "cell_type": "code",
   "execution_count": 52,
   "id": "a1240c7b",
   "metadata": {
    "execution": {
     "iopub.execute_input": "2022-06-07T23:51:32.061112Z",
     "iopub.status.busy": "2022-06-07T23:51:32.060752Z",
     "iopub.status.idle": "2022-06-07T23:51:32.069737Z",
     "shell.execute_reply": "2022-06-07T23:51:32.069047Z"
    },
    "papermill": {
     "duration": 0.097055,
     "end_time": "2022-06-07T23:51:32.071634",
     "exception": false,
     "start_time": "2022-06-07T23:51:31.974579",
     "status": "completed"
    },
    "tags": []
   },
   "outputs": [
    {
     "data": {
      "text/plain": [
       "{'label': 0.5,\n",
       " '__index_level_0__': 0,\n",
       " 'input_ids': [1, 857, 19629, 2, 47284, 2, 47284, 265, 6435, 2],\n",
       " 'token_type_ids': [0, 0, 0, 0, 0, 0, 0, 0, 0, 0],\n",
       " 'attention_mask': [1, 1, 1, 1, 1, 1, 1, 1, 1, 1]}"
      ]
     },
     "execution_count": 52,
     "metadata": {},
     "output_type": "execute_result"
    }
   ],
   "source": [
    "dds['train'][0]"
   ]
  },
  {
   "cell_type": "code",
   "execution_count": 53,
   "id": "fb4d7581",
   "metadata": {
    "execution": {
     "iopub.execute_input": "2022-06-07T23:51:32.240543Z",
     "iopub.status.busy": "2022-06-07T23:51:32.239946Z",
     "iopub.status.idle": "2022-06-08T02:26:58.048593Z",
     "shell.execute_reply": "2022-06-08T02:26:58.046512Z"
    },
    "papermill": {
     "duration": 9325.904008,
     "end_time": "2022-06-08T02:26:58.058885",
     "exception": false,
     "start_time": "2022-06-07T23:51:32.154877",
     "status": "completed"
    },
    "tags": []
   },
   "outputs": [
    {
     "data": {
      "text/html": [
       "\n",
       "    <div>\n",
       "      \n",
       "      <progress value='856' max='856' style='width:300px; height:20px; vertical-align: middle;'></progress>\n",
       "      [856/856 2:35:03, Epoch 4/4]\n",
       "    </div>\n",
       "    <table border=\"1\" class=\"dataframe\">\n",
       "  <thead>\n",
       " <tr style=\"text-align: left;\">\n",
       "      <th>Epoch</th>\n",
       "      <th>Training Loss</th>\n",
       "      <th>Validation Loss</th>\n",
       "      <th>Pearson</th>\n",
       "    </tr>\n",
       "  </thead>\n",
       "  <tbody>\n",
       "    <tr>\n",
       "      <td>1</td>\n",
       "      <td>No log</td>\n",
       "      <td>0.027498</td>\n",
       "      <td>0.781219</td>\n",
       "    </tr>\n",
       "    <tr>\n",
       "      <td>2</td>\n",
       "      <td>No log</td>\n",
       "      <td>0.027562</td>\n",
       "      <td>0.804460</td>\n",
       "    </tr>\n",
       "    <tr>\n",
       "      <td>3</td>\n",
       "      <td>0.044200</td>\n",
       "      <td>0.025750</td>\n",
       "      <td>0.807748</td>\n",
       "    </tr>\n",
       "    <tr>\n",
       "      <td>4</td>\n",
       "      <td>0.044200</td>\n",
       "      <td>0.025304</td>\n",
       "      <td>0.809195</td>\n",
       "    </tr>\n",
       "  </tbody>\n",
       "</table><p>"
      ],
      "text/plain": [
       "<IPython.core.display.HTML object>"
      ]
     },
     "metadata": {},
     "output_type": "display_data"
    },
    {
     "data": {
      "text/plain": [
       "TrainOutput(global_step=856, training_loss=0.03153425399388108, metrics={'train_runtime': 9325.7838, 'train_samples_per_second': 11.74, 'train_steps_per_second': 0.092, 'total_flos': 498329225809410.0, 'train_loss': 0.03153425399388108, 'epoch': 4.0})"
      ]
     },
     "execution_count": 53,
     "metadata": {},
     "output_type": "execute_result"
    }
   ],
   "source": [
    "trainer.train()"
   ]
  },
  {
   "cell_type": "code",
   "execution_count": 54,
   "id": "fd26b911",
   "metadata": {
    "execution": {
     "iopub.execute_input": "2022-06-08T02:26:58.233721Z",
     "iopub.status.busy": "2022-06-08T02:26:58.232711Z",
     "iopub.status.idle": "2022-06-08T02:26:58.240660Z",
     "shell.execute_reply": "2022-06-08T02:26:58.239614Z"
    },
    "papermill": {
     "duration": 0.098776,
     "end_time": "2022-06-08T02:26:58.243585",
     "exception": false,
     "start_time": "2022-06-08T02:26:58.144809",
     "status": "completed"
    },
    "tags": []
   },
   "outputs": [],
   "source": [
    "# modèle hugging face pour calculer la similarité entre deux phrases"
   ]
  }
 ],
 "metadata": {
  "kernelspec": {
   "display_name": "Python 3",
   "language": "python",
   "name": "python3"
  },
  "language_info": {
   "codemirror_mode": {
    "name": "ipython",
    "version": 3
   },
   "file_extension": ".py",
   "mimetype": "text/x-python",
   "name": "python",
   "nbconvert_exporter": "python",
   "pygments_lexer": "ipython3",
   "version": "3.7.12"
  },
  "papermill": {
   "default_parameters": {},
   "duration": 9690.765259,
   "end_time": "2022-06-08T02:27:02.308384",
   "environment_variables": {},
   "exception": null,
   "input_path": "__notebook__.ipynb",
   "output_path": "__notebook__.ipynb",
   "parameters": {},
   "start_time": "2022-06-07T23:45:31.543125",
   "version": "2.3.4"
  },
  "widgets": {
   "application/vnd.jupyter.widget-state+json": {
    "state": {
     "09fd1c585a9846c39d45871758cbcbee": {
      "model_module": "@jupyter-widgets/controls",
      "model_module_version": "1.5.0",
      "model_name": "HTMLModel",
      "state": {
       "_dom_classes": [],
       "_model_module": "@jupyter-widgets/controls",
       "_model_module_version": "1.5.0",
       "_model_name": "HTMLModel",
       "_view_count": null,
       "_view_module": "@jupyter-widgets/controls",
       "_view_module_version": "1.5.0",
       "_view_name": "HTMLView",
       "description": "",
       "description_tooltip": null,
       "layout": "IPY_MODEL_ff9d6c4d8f5741629e2c87e817e24a37",
       "placeholder": "​",
       "style": "IPY_MODEL_a0002f6d12554da7a9d007e1c7be3e1b",
       "value": "Downloading: 100%"
      }
     },
     "0b41ee62c08e418b80e21fd19387b0f5": {
      "model_module": "@jupyter-widgets/controls",
      "model_module_version": "1.5.0",
      "model_name": "DescriptionStyleModel",
      "state": {
       "_model_module": "@jupyter-widgets/controls",
       "_model_module_version": "1.5.0",
       "_model_name": "DescriptionStyleModel",
       "_view_count": null,
       "_view_module": "@jupyter-widgets/base",
       "_view_module_version": "1.2.0",
       "_view_name": "StyleView",
       "description_width": ""
      }
     },
     "1aa717d130f94956b8855c3cafce5524": {
      "model_module": "@jupyter-widgets/controls",
      "model_module_version": "1.5.0",
      "model_name": "HBoxModel",
      "state": {
       "_dom_classes": [],
       "_model_module": "@jupyter-widgets/controls",
       "_model_module_version": "1.5.0",
       "_model_name": "HBoxModel",
       "_view_count": null,
       "_view_module": "@jupyter-widgets/controls",
       "_view_module_version": "1.5.0",
       "_view_name": "HBoxView",
       "box_style": "",
       "children": [
        "IPY_MODEL_09fd1c585a9846c39d45871758cbcbee",
        "IPY_MODEL_285aebd375b1465ea6efa710e9e2a22a",
        "IPY_MODEL_972cc7d26a6c443eb92b7747767aed85"
       ],
       "layout": "IPY_MODEL_94b5feb7260e4657a260b0eb7ef3f646"
      }
     },
     "1c2e30cd437043a6b9273f2589a1be51": {
      "model_module": "@jupyter-widgets/base",
      "model_module_version": "1.2.0",
      "model_name": "LayoutModel",
      "state": {
       "_model_module": "@jupyter-widgets/base",
       "_model_module_version": "1.2.0",
       "_model_name": "LayoutModel",
       "_view_count": null,
       "_view_module": "@jupyter-widgets/base",
       "_view_module_version": "1.2.0",
       "_view_name": "LayoutView",
       "align_content": null,
       "align_items": null,
       "align_self": null,
       "border": null,
       "bottom": null,
       "display": null,
       "flex": null,
       "flex_flow": null,
       "grid_area": null,
       "grid_auto_columns": null,
       "grid_auto_flow": null,
       "grid_auto_rows": null,
       "grid_column": null,
       "grid_gap": null,
       "grid_row": null,
       "grid_template_areas": null,
       "grid_template_columns": null,
       "grid_template_rows": null,
       "height": null,
       "justify_content": null,
       "justify_items": null,
       "left": null,
       "margin": null,
       "max_height": null,
       "max_width": null,
       "min_height": null,
       "min_width": null,
       "object_fit": null,
       "object_position": null,
       "order": null,
       "overflow": null,
       "overflow_x": null,
       "overflow_y": null,
       "padding": null,
       "right": null,
       "top": null,
       "visibility": null,
       "width": null
      }
     },
     "1cd916235b7a4bfc9b6d2d75a74383de": {
      "model_module": "@jupyter-widgets/base",
      "model_module_version": "1.2.0",
      "model_name": "LayoutModel",
      "state": {
       "_model_module": "@jupyter-widgets/base",
       "_model_module_version": "1.2.0",
       "_model_name": "LayoutModel",
       "_view_count": null,
       "_view_module": "@jupyter-widgets/base",
       "_view_module_version": "1.2.0",
       "_view_name": "LayoutView",
       "align_content": null,
       "align_items": null,
       "align_self": null,
       "border": null,
       "bottom": null,
       "display": null,
       "flex": null,
       "flex_flow": null,
       "grid_area": null,
       "grid_auto_columns": null,
       "grid_auto_flow": null,
       "grid_auto_rows": null,
       "grid_column": null,
       "grid_gap": null,
       "grid_row": null,
       "grid_template_areas": null,
       "grid_template_columns": null,
       "grid_template_rows": null,
       "height": null,
       "justify_content": null,
       "justify_items": null,
       "left": null,
       "margin": null,
       "max_height": null,
       "max_width": null,
       "min_height": null,
       "min_width": null,
       "object_fit": null,
       "object_position": null,
       "order": null,
       "overflow": null,
       "overflow_x": null,
       "overflow_y": null,
       "padding": null,
       "right": null,
       "top": null,
       "visibility": null,
       "width": null
      }
     },
     "1ebb92b60fe1449ca2250316b91271f4": {
      "model_module": "@jupyter-widgets/base",
      "model_module_version": "1.2.0",
      "model_name": "LayoutModel",
      "state": {
       "_model_module": "@jupyter-widgets/base",
       "_model_module_version": "1.2.0",
       "_model_name": "LayoutModel",
       "_view_count": null,
       "_view_module": "@jupyter-widgets/base",
       "_view_module_version": "1.2.0",
       "_view_name": "LayoutView",
       "align_content": null,
       "align_items": null,
       "align_self": null,
       "border": null,
       "bottom": null,
       "display": null,
       "flex": null,
       "flex_flow": null,
       "grid_area": null,
       "grid_auto_columns": null,
       "grid_auto_flow": null,
       "grid_auto_rows": null,
       "grid_column": null,
       "grid_gap": null,
       "grid_row": null,
       "grid_template_areas": null,
       "grid_template_columns": null,
       "grid_template_rows": null,
       "height": null,
       "justify_content": null,
       "justify_items": null,
       "left": null,
       "margin": null,
       "max_height": null,
       "max_width": null,
       "min_height": null,
       "min_width": null,
       "object_fit": null,
       "object_position": null,
       "order": null,
       "overflow": null,
       "overflow_x": null,
       "overflow_y": null,
       "padding": null,
       "right": null,
       "top": null,
       "visibility": null,
       "width": null
      }
     },
     "27a3a126d0264091bc4e49229d3b2ad1": {
      "model_module": "@jupyter-widgets/controls",
      "model_module_version": "1.5.0",
      "model_name": "HTMLModel",
      "state": {
       "_dom_classes": [],
       "_model_module": "@jupyter-widgets/controls",
       "_model_module_version": "1.5.0",
       "_model_name": "HTMLModel",
       "_view_count": null,
       "_view_module": "@jupyter-widgets/controls",
       "_view_module_version": "1.5.0",
       "_view_name": "HTMLView",
       "description": "",
       "description_tooltip": null,
       "layout": "IPY_MODEL_bf29101e72764f49972d258cfd6b89f0",
       "placeholder": "​",
       "style": "IPY_MODEL_d8bbfb582dc547c9ba51cbb49a0b6c6f",
       "value": "Downloading: 100%"
      }
     },
     "282d1e15f0c4488d97dfdb564acb5d92": {
      "model_module": "@jupyter-widgets/controls",
      "model_module_version": "1.5.0",
      "model_name": "DescriptionStyleModel",
      "state": {
       "_model_module": "@jupyter-widgets/controls",
       "_model_module_version": "1.5.0",
       "_model_name": "DescriptionStyleModel",
       "_view_count": null,
       "_view_module": "@jupyter-widgets/base",
       "_view_module_version": "1.2.0",
       "_view_name": "StyleView",
       "description_width": ""
      }
     },
     "285aebd375b1465ea6efa710e9e2a22a": {
      "model_module": "@jupyter-widgets/controls",
      "model_module_version": "1.5.0",
      "model_name": "FloatProgressModel",
      "state": {
       "_dom_classes": [],
       "_model_module": "@jupyter-widgets/controls",
       "_model_module_version": "1.5.0",
       "_model_name": "FloatProgressModel",
       "_view_count": null,
       "_view_module": "@jupyter-widgets/controls",
       "_view_module_version": "1.5.0",
       "_view_name": "ProgressView",
       "bar_style": "success",
       "description": "",
       "description_tooltip": null,
       "layout": "IPY_MODEL_1ebb92b60fe1449ca2250316b91271f4",
       "max": 578.0,
       "min": 0.0,
       "orientation": "horizontal",
       "style": "IPY_MODEL_58675433f985495e93d61a04caeff7c5",
       "value": 578.0
      }
     },
     "2ad8844a985b43f7a858e28681dd4be9": {
      "model_module": "@jupyter-widgets/controls",
      "model_module_version": "1.5.0",
      "model_name": "FloatProgressModel",
      "state": {
       "_dom_classes": [],
       "_model_module": "@jupyter-widgets/controls",
       "_model_module_version": "1.5.0",
       "_model_name": "FloatProgressModel",
       "_view_count": null,
       "_view_module": "@jupyter-widgets/controls",
       "_view_module_version": "1.5.0",
       "_view_name": "ProgressView",
       "bar_style": "success",
       "description": "",
       "description_tooltip": null,
       "layout": "IPY_MODEL_b8049da021164c13b7c8e68977828945",
       "max": 286059269.0,
       "min": 0.0,
       "orientation": "horizontal",
       "style": "IPY_MODEL_8f69dbe1dbab42e5ba58edd5cca3b04b",
       "value": 286059269.0
      }
     },
     "2af78b8ea2e44a998f6fec62480984f7": {
      "model_module": "@jupyter-widgets/base",
      "model_module_version": "1.2.0",
      "model_name": "LayoutModel",
      "state": {
       "_model_module": "@jupyter-widgets/base",
       "_model_module_version": "1.2.0",
       "_model_name": "LayoutModel",
       "_view_count": null,
       "_view_module": "@jupyter-widgets/base",
       "_view_module_version": "1.2.0",
       "_view_name": "LayoutView",
       "align_content": null,
       "align_items": null,
       "align_self": null,
       "border": null,
       "bottom": null,
       "display": null,
       "flex": null,
       "flex_flow": null,
       "grid_area": null,
       "grid_auto_columns": null,
       "grid_auto_flow": null,
       "grid_auto_rows": null,
       "grid_column": null,
       "grid_gap": null,
       "grid_row": null,
       "grid_template_areas": null,
       "grid_template_columns": null,
       "grid_template_rows": null,
       "height": null,
       "justify_content": null,
       "justify_items": null,
       "left": null,
       "margin": null,
       "max_height": null,
       "max_width": null,
       "min_height": null,
       "min_width": null,
       "object_fit": null,
       "object_position": null,
       "order": null,
       "overflow": null,
       "overflow_x": null,
       "overflow_y": null,
       "padding": null,
       "right": null,
       "top": null,
       "visibility": null,
       "width": null
      }
     },
     "391c51896c364f66b03c802d03356515": {
      "model_module": "@jupyter-widgets/controls",
      "model_module_version": "1.5.0",
      "model_name": "DescriptionStyleModel",
      "state": {
       "_model_module": "@jupyter-widgets/controls",
       "_model_module_version": "1.5.0",
       "_model_name": "DescriptionStyleModel",
       "_view_count": null,
       "_view_module": "@jupyter-widgets/base",
       "_view_module_version": "1.2.0",
       "_view_name": "StyleView",
       "description_width": ""
      }
     },
     "3f9610c635c54e2d95b6240fc9bad6cd": {
      "model_module": "@jupyter-widgets/base",
      "model_module_version": "1.2.0",
      "model_name": "LayoutModel",
      "state": {
       "_model_module": "@jupyter-widgets/base",
       "_model_module_version": "1.2.0",
       "_model_name": "LayoutModel",
       "_view_count": null,
       "_view_module": "@jupyter-widgets/base",
       "_view_module_version": "1.2.0",
       "_view_name": "LayoutView",
       "align_content": null,
       "align_items": null,
       "align_self": null,
       "border": null,
       "bottom": null,
       "display": null,
       "flex": null,
       "flex_flow": null,
       "grid_area": null,
       "grid_auto_columns": null,
       "grid_auto_flow": null,
       "grid_auto_rows": null,
       "grid_column": null,
       "grid_gap": null,
       "grid_row": null,
       "grid_template_areas": null,
       "grid_template_columns": null,
       "grid_template_rows": null,
       "height": null,
       "justify_content": null,
       "justify_items": null,
       "left": null,
       "margin": null,
       "max_height": null,
       "max_width": null,
       "min_height": null,
       "min_width": null,
       "object_fit": null,
       "object_position": null,
       "order": null,
       "overflow": null,
       "overflow_x": null,
       "overflow_y": null,
       "padding": null,
       "right": null,
       "top": null,
       "visibility": null,
       "width": null
      }
     },
     "409a0af11ea2479f9c514fc9d67291b9": {
      "model_module": "@jupyter-widgets/controls",
      "model_module_version": "1.5.0",
      "model_name": "ProgressStyleModel",
      "state": {
       "_model_module": "@jupyter-widgets/controls",
       "_model_module_version": "1.5.0",
       "_model_name": "ProgressStyleModel",
       "_view_count": null,
       "_view_module": "@jupyter-widgets/base",
       "_view_module_version": "1.2.0",
       "_view_name": "StyleView",
       "bar_color": null,
       "description_width": ""
      }
     },
     "437837e2fa514762bca0250ce157cf14": {
      "model_module": "@jupyter-widgets/controls",
      "model_module_version": "1.5.0",
      "model_name": "DescriptionStyleModel",
      "state": {
       "_model_module": "@jupyter-widgets/controls",
       "_model_module_version": "1.5.0",
       "_model_name": "DescriptionStyleModel",
       "_view_count": null,
       "_view_module": "@jupyter-widgets/base",
       "_view_module_version": "1.2.0",
       "_view_name": "StyleView",
       "description_width": ""
      }
     },
     "4708d6a43e6244b29fc83dfb240b7d38": {
      "model_module": "@jupyter-widgets/controls",
      "model_module_version": "1.5.0",
      "model_name": "HBoxModel",
      "state": {
       "_dom_classes": [],
       "_model_module": "@jupyter-widgets/controls",
       "_model_module_version": "1.5.0",
       "_model_name": "HBoxModel",
       "_view_count": null,
       "_view_module": "@jupyter-widgets/controls",
       "_view_module_version": "1.5.0",
       "_view_name": "HBoxView",
       "box_style": "",
       "children": [
        "IPY_MODEL_54d84b71a5df4c06a19cad89691472f9",
        "IPY_MODEL_bc85cf57aa8e493a99e8f962dd9f17e4",
        "IPY_MODEL_6564a1294c79468880200defafab081b"
       ],
       "layout": "IPY_MODEL_2af78b8ea2e44a998f6fec62480984f7"
      }
     },
     "4dcc128e7aff43a1bd6e15610bd068fb": {
      "model_module": "@jupyter-widgets/controls",
      "model_module_version": "1.5.0",
      "model_name": "HTMLModel",
      "state": {
       "_dom_classes": [],
       "_model_module": "@jupyter-widgets/controls",
       "_model_module_version": "1.5.0",
       "_model_name": "HTMLModel",
       "_view_count": null,
       "_view_module": "@jupyter-widgets/controls",
       "_view_module_version": "1.5.0",
       "_view_name": "HTMLView",
       "description": "",
       "description_tooltip": null,
       "layout": "IPY_MODEL_1c2e30cd437043a6b9273f2589a1be51",
       "placeholder": "​",
       "style": "IPY_MODEL_943772ae94a244b89cdc369da09516be",
       "value": " 52.0/52.0 [00:00&lt;00:00, 1.68kB/s]"
      }
     },
     "521d762252ef43fcb4425958289d13b5": {
      "model_module": "@jupyter-widgets/base",
      "model_module_version": "1.2.0",
      "model_name": "LayoutModel",
      "state": {
       "_model_module": "@jupyter-widgets/base",
       "_model_module_version": "1.2.0",
       "_model_name": "LayoutModel",
       "_view_count": null,
       "_view_module": "@jupyter-widgets/base",
       "_view_module_version": "1.2.0",
       "_view_name": "LayoutView",
       "align_content": null,
       "align_items": null,
       "align_self": null,
       "border": null,
       "bottom": null,
       "display": null,
       "flex": null,
       "flex_flow": null,
       "grid_area": null,
       "grid_auto_columns": null,
       "grid_auto_flow": null,
       "grid_auto_rows": null,
       "grid_column": null,
       "grid_gap": null,
       "grid_row": null,
       "grid_template_areas": null,
       "grid_template_columns": null,
       "grid_template_rows": null,
       "height": null,
       "justify_content": null,
       "justify_items": null,
       "left": null,
       "margin": null,
       "max_height": null,
       "max_width": null,
       "min_height": null,
       "min_width": null,
       "object_fit": null,
       "object_position": null,
       "order": null,
       "overflow": null,
       "overflow_x": null,
       "overflow_y": null,
       "padding": null,
       "right": null,
       "top": null,
       "visibility": null,
       "width": null
      }
     },
     "54d84b71a5df4c06a19cad89691472f9": {
      "model_module": "@jupyter-widgets/controls",
      "model_module_version": "1.5.0",
      "model_name": "HTMLModel",
      "state": {
       "_dom_classes": [],
       "_model_module": "@jupyter-widgets/controls",
       "_model_module_version": "1.5.0",
       "_model_name": "HTMLModel",
       "_view_count": null,
       "_view_module": "@jupyter-widgets/controls",
       "_view_module_version": "1.5.0",
       "_view_name": "HTMLView",
       "description": "",
       "description_tooltip": null,
       "layout": "IPY_MODEL_f9fc90fdc4dd44548362789ba1edacac",
       "placeholder": "​",
       "style": "IPY_MODEL_391c51896c364f66b03c802d03356515",
       "value": "Downloading: 100%"
      }
     },
     "55a7144f0bd64d8c893829acb1dc2187": {
      "model_module": "@jupyter-widgets/base",
      "model_module_version": "1.2.0",
      "model_name": "LayoutModel",
      "state": {
       "_model_module": "@jupyter-widgets/base",
       "_model_module_version": "1.2.0",
       "_model_name": "LayoutModel",
       "_view_count": null,
       "_view_module": "@jupyter-widgets/base",
       "_view_module_version": "1.2.0",
       "_view_name": "LayoutView",
       "align_content": null,
       "align_items": null,
       "align_self": null,
       "border": null,
       "bottom": null,
       "display": null,
       "flex": null,
       "flex_flow": null,
       "grid_area": null,
       "grid_auto_columns": null,
       "grid_auto_flow": null,
       "grid_auto_rows": null,
       "grid_column": null,
       "grid_gap": null,
       "grid_row": null,
       "grid_template_areas": null,
       "grid_template_columns": null,
       "grid_template_rows": null,
       "height": null,
       "justify_content": null,
       "justify_items": null,
       "left": null,
       "margin": null,
       "max_height": null,
       "max_width": null,
       "min_height": null,
       "min_width": null,
       "object_fit": null,
       "object_position": null,
       "order": null,
       "overflow": null,
       "overflow_x": null,
       "overflow_y": null,
       "padding": null,
       "right": null,
       "top": null,
       "visibility": null,
       "width": null
      }
     },
     "58675433f985495e93d61a04caeff7c5": {
      "model_module": "@jupyter-widgets/controls",
      "model_module_version": "1.5.0",
      "model_name": "ProgressStyleModel",
      "state": {
       "_model_module": "@jupyter-widgets/controls",
       "_model_module_version": "1.5.0",
       "_model_name": "ProgressStyleModel",
       "_view_count": null,
       "_view_module": "@jupyter-widgets/base",
       "_view_module_version": "1.2.0",
       "_view_name": "StyleView",
       "bar_color": null,
       "description_width": ""
      }
     },
     "5dbc8cebf7144830821a77d7091f695b": {
      "model_module": "@jupyter-widgets/controls",
      "model_module_version": "1.5.0",
      "model_name": "DescriptionStyleModel",
      "state": {
       "_model_module": "@jupyter-widgets/controls",
       "_model_module_version": "1.5.0",
       "_model_name": "DescriptionStyleModel",
       "_view_count": null,
       "_view_module": "@jupyter-widgets/base",
       "_view_module_version": "1.2.0",
       "_view_name": "StyleView",
       "description_width": ""
      }
     },
     "6564a1294c79468880200defafab081b": {
      "model_module": "@jupyter-widgets/controls",
      "model_module_version": "1.5.0",
      "model_name": "HTMLModel",
      "state": {
       "_dom_classes": [],
       "_model_module": "@jupyter-widgets/controls",
       "_model_module_version": "1.5.0",
       "_model_name": "HTMLModel",
       "_view_count": null,
       "_view_module": "@jupyter-widgets/controls",
       "_view_module_version": "1.5.0",
       "_view_name": "HTMLView",
       "description": "",
       "description_tooltip": null,
       "layout": "IPY_MODEL_844bdebeb702465ba791bca4c21d43fd",
       "placeholder": "​",
       "style": "IPY_MODEL_282d1e15f0c4488d97dfdb564acb5d92",
       "value": " 2.35M/2.35M [00:01&lt;00:00, 2.94MB/s]"
      }
     },
     "6e5a843e9c144dbda23adc3ca3d286f4": {
      "model_module": "@jupyter-widgets/base",
      "model_module_version": "1.2.0",
      "model_name": "LayoutModel",
      "state": {
       "_model_module": "@jupyter-widgets/base",
       "_model_module_version": "1.2.0",
       "_model_name": "LayoutModel",
       "_view_count": null,
       "_view_module": "@jupyter-widgets/base",
       "_view_module_version": "1.2.0",
       "_view_name": "LayoutView",
       "align_content": null,
       "align_items": null,
       "align_self": null,
       "border": null,
       "bottom": null,
       "display": null,
       "flex": null,
       "flex_flow": null,
       "grid_area": null,
       "grid_auto_columns": null,
       "grid_auto_flow": null,
       "grid_auto_rows": null,
       "grid_column": null,
       "grid_gap": null,
       "grid_row": null,
       "grid_template_areas": null,
       "grid_template_columns": null,
       "grid_template_rows": null,
       "height": null,
       "justify_content": null,
       "justify_items": null,
       "left": null,
       "margin": null,
       "max_height": null,
       "max_width": null,
       "min_height": null,
       "min_width": null,
       "object_fit": null,
       "object_position": null,
       "order": null,
       "overflow": null,
       "overflow_x": null,
       "overflow_y": null,
       "padding": null,
       "right": null,
       "top": null,
       "visibility": null,
       "width": null
      }
     },
     "6f1951193a7a4a6590b7a800c1cb637f": {
      "model_module": "@jupyter-widgets/base",
      "model_module_version": "1.2.0",
      "model_name": "LayoutModel",
      "state": {
       "_model_module": "@jupyter-widgets/base",
       "_model_module_version": "1.2.0",
       "_model_name": "LayoutModel",
       "_view_count": null,
       "_view_module": "@jupyter-widgets/base",
       "_view_module_version": "1.2.0",
       "_view_name": "LayoutView",
       "align_content": null,
       "align_items": null,
       "align_self": null,
       "border": null,
       "bottom": null,
       "display": null,
       "flex": null,
       "flex_flow": null,
       "grid_area": null,
       "grid_auto_columns": null,
       "grid_auto_flow": null,
       "grid_auto_rows": null,
       "grid_column": null,
       "grid_gap": null,
       "grid_row": null,
       "grid_template_areas": null,
       "grid_template_columns": null,
       "grid_template_rows": null,
       "height": null,
       "justify_content": null,
       "justify_items": null,
       "left": null,
       "margin": null,
       "max_height": null,
       "max_width": null,
       "min_height": null,
       "min_width": null,
       "object_fit": null,
       "object_position": null,
       "order": null,
       "overflow": null,
       "overflow_x": null,
       "overflow_y": null,
       "padding": null,
       "right": null,
       "top": null,
       "visibility": null,
       "width": null
      }
     },
     "79c62ac23320443c9e4652e007d92687": {
      "model_module": "@jupyter-widgets/controls",
      "model_module_version": "1.5.0",
      "model_name": "DescriptionStyleModel",
      "state": {
       "_model_module": "@jupyter-widgets/controls",
       "_model_module_version": "1.5.0",
       "_model_name": "DescriptionStyleModel",
       "_view_count": null,
       "_view_module": "@jupyter-widgets/base",
       "_view_module_version": "1.2.0",
       "_view_name": "StyleView",
       "description_width": ""
      }
     },
     "7a37b5cef6f84f7aa4373792007b578b": {
      "model_module": "@jupyter-widgets/controls",
      "model_module_version": "1.5.0",
      "model_name": "DescriptionStyleModel",
      "state": {
       "_model_module": "@jupyter-widgets/controls",
       "_model_module_version": "1.5.0",
       "_model_name": "DescriptionStyleModel",
       "_view_count": null,
       "_view_module": "@jupyter-widgets/base",
       "_view_module_version": "1.2.0",
       "_view_name": "StyleView",
       "description_width": ""
      }
     },
     "82a65a14d1004f3d813067ee325facd3": {
      "model_module": "@jupyter-widgets/base",
      "model_module_version": "1.2.0",
      "model_name": "LayoutModel",
      "state": {
       "_model_module": "@jupyter-widgets/base",
       "_model_module_version": "1.2.0",
       "_model_name": "LayoutModel",
       "_view_count": null,
       "_view_module": "@jupyter-widgets/base",
       "_view_module_version": "1.2.0",
       "_view_name": "LayoutView",
       "align_content": null,
       "align_items": null,
       "align_self": null,
       "border": null,
       "bottom": null,
       "display": null,
       "flex": null,
       "flex_flow": null,
       "grid_area": null,
       "grid_auto_columns": null,
       "grid_auto_flow": null,
       "grid_auto_rows": null,
       "grid_column": null,
       "grid_gap": null,
       "grid_row": null,
       "grid_template_areas": null,
       "grid_template_columns": null,
       "grid_template_rows": null,
       "height": null,
       "justify_content": null,
       "justify_items": null,
       "left": null,
       "margin": null,
       "max_height": null,
       "max_width": null,
       "min_height": null,
       "min_width": null,
       "object_fit": null,
       "object_position": null,
       "order": null,
       "overflow": null,
       "overflow_x": null,
       "overflow_y": null,
       "padding": null,
       "right": null,
       "top": null,
       "visibility": null,
       "width": null
      }
     },
     "844bdebeb702465ba791bca4c21d43fd": {
      "model_module": "@jupyter-widgets/base",
      "model_module_version": "1.2.0",
      "model_name": "LayoutModel",
      "state": {
       "_model_module": "@jupyter-widgets/base",
       "_model_module_version": "1.2.0",
       "_model_name": "LayoutModel",
       "_view_count": null,
       "_view_module": "@jupyter-widgets/base",
       "_view_module_version": "1.2.0",
       "_view_name": "LayoutView",
       "align_content": null,
       "align_items": null,
       "align_self": null,
       "border": null,
       "bottom": null,
       "display": null,
       "flex": null,
       "flex_flow": null,
       "grid_area": null,
       "grid_auto_columns": null,
       "grid_auto_flow": null,
       "grid_auto_rows": null,
       "grid_column": null,
       "grid_gap": null,
       "grid_row": null,
       "grid_template_areas": null,
       "grid_template_columns": null,
       "grid_template_rows": null,
       "height": null,
       "justify_content": null,
       "justify_items": null,
       "left": null,
       "margin": null,
       "max_height": null,
       "max_width": null,
       "min_height": null,
       "min_width": null,
       "object_fit": null,
       "object_position": null,
       "order": null,
       "overflow": null,
       "overflow_x": null,
       "overflow_y": null,
       "padding": null,
       "right": null,
       "top": null,
       "visibility": null,
       "width": null
      }
     },
     "86b0fce62aab4e9bbebb2ffe82a1741e": {
      "model_module": "@jupyter-widgets/controls",
      "model_module_version": "1.5.0",
      "model_name": "HBoxModel",
      "state": {
       "_dom_classes": [],
       "_model_module": "@jupyter-widgets/controls",
       "_model_module_version": "1.5.0",
       "_model_name": "HBoxModel",
       "_view_count": null,
       "_view_module": "@jupyter-widgets/controls",
       "_view_module_version": "1.5.0",
       "_view_name": "HBoxView",
       "box_style": "",
       "children": [
        "IPY_MODEL_eccc959287c941a09fbda1dd56f6de9a",
        "IPY_MODEL_d25de89f5a594daa89aac43da1437814",
        "IPY_MODEL_4dcc128e7aff43a1bd6e15610bd068fb"
       ],
       "layout": "IPY_MODEL_ad32baa336624810a2364663bbb7e515"
      }
     },
     "8f69dbe1dbab42e5ba58edd5cca3b04b": {
      "model_module": "@jupyter-widgets/controls",
      "model_module_version": "1.5.0",
      "model_name": "ProgressStyleModel",
      "state": {
       "_model_module": "@jupyter-widgets/controls",
       "_model_module_version": "1.5.0",
       "_model_name": "ProgressStyleModel",
       "_view_count": null,
       "_view_module": "@jupyter-widgets/base",
       "_view_module_version": "1.2.0",
       "_view_name": "StyleView",
       "bar_color": null,
       "description_width": ""
      }
     },
     "943772ae94a244b89cdc369da09516be": {
      "model_module": "@jupyter-widgets/controls",
      "model_module_version": "1.5.0",
      "model_name": "DescriptionStyleModel",
      "state": {
       "_model_module": "@jupyter-widgets/controls",
       "_model_module_version": "1.5.0",
       "_model_name": "DescriptionStyleModel",
       "_view_count": null,
       "_view_module": "@jupyter-widgets/base",
       "_view_module_version": "1.2.0",
       "_view_name": "StyleView",
       "description_width": ""
      }
     },
     "94b5feb7260e4657a260b0eb7ef3f646": {
      "model_module": "@jupyter-widgets/base",
      "model_module_version": "1.2.0",
      "model_name": "LayoutModel",
      "state": {
       "_model_module": "@jupyter-widgets/base",
       "_model_module_version": "1.2.0",
       "_model_name": "LayoutModel",
       "_view_count": null,
       "_view_module": "@jupyter-widgets/base",
       "_view_module_version": "1.2.0",
       "_view_name": "LayoutView",
       "align_content": null,
       "align_items": null,
       "align_self": null,
       "border": null,
       "bottom": null,
       "display": null,
       "flex": null,
       "flex_flow": null,
       "grid_area": null,
       "grid_auto_columns": null,
       "grid_auto_flow": null,
       "grid_auto_rows": null,
       "grid_column": null,
       "grid_gap": null,
       "grid_row": null,
       "grid_template_areas": null,
       "grid_template_columns": null,
       "grid_template_rows": null,
       "height": null,
       "justify_content": null,
       "justify_items": null,
       "left": null,
       "margin": null,
       "max_height": null,
       "max_width": null,
       "min_height": null,
       "min_width": null,
       "object_fit": null,
       "object_position": null,
       "order": null,
       "overflow": null,
       "overflow_x": null,
       "overflow_y": null,
       "padding": null,
       "right": null,
       "top": null,
       "visibility": null,
       "width": null
      }
     },
     "972cc7d26a6c443eb92b7747767aed85": {
      "model_module": "@jupyter-widgets/controls",
      "model_module_version": "1.5.0",
      "model_name": "HTMLModel",
      "state": {
       "_dom_classes": [],
       "_model_module": "@jupyter-widgets/controls",
       "_model_module_version": "1.5.0",
       "_model_name": "HTMLModel",
       "_view_count": null,
       "_view_module": "@jupyter-widgets/controls",
       "_view_module_version": "1.5.0",
       "_view_name": "HTMLView",
       "description": "",
       "description_tooltip": null,
       "layout": "IPY_MODEL_f91fc2d5106c44a0bf84a8444f4fc3d9",
       "placeholder": "​",
       "style": "IPY_MODEL_437837e2fa514762bca0250ce157cf14",
       "value": " 578/578 [00:00&lt;00:00, 19.2kB/s]"
      }
     },
     "a0002f6d12554da7a9d007e1c7be3e1b": {
      "model_module": "@jupyter-widgets/controls",
      "model_module_version": "1.5.0",
      "model_name": "DescriptionStyleModel",
      "state": {
       "_model_module": "@jupyter-widgets/controls",
       "_model_module_version": "1.5.0",
       "_model_name": "DescriptionStyleModel",
       "_view_count": null,
       "_view_module": "@jupyter-widgets/base",
       "_view_module_version": "1.2.0",
       "_view_name": "StyleView",
       "description_width": ""
      }
     },
     "a3e7382df5964778b7ff3908e0a5732e": {
      "model_module": "@jupyter-widgets/base",
      "model_module_version": "1.2.0",
      "model_name": "LayoutModel",
      "state": {
       "_model_module": "@jupyter-widgets/base",
       "_model_module_version": "1.2.0",
       "_model_name": "LayoutModel",
       "_view_count": null,
       "_view_module": "@jupyter-widgets/base",
       "_view_module_version": "1.2.0",
       "_view_name": "LayoutView",
       "align_content": null,
       "align_items": null,
       "align_self": null,
       "border": null,
       "bottom": null,
       "display": null,
       "flex": null,
       "flex_flow": null,
       "grid_area": null,
       "grid_auto_columns": null,
       "grid_auto_flow": null,
       "grid_auto_rows": null,
       "grid_column": null,
       "grid_gap": null,
       "grid_row": null,
       "grid_template_areas": null,
       "grid_template_columns": null,
       "grid_template_rows": null,
       "height": null,
       "justify_content": null,
       "justify_items": null,
       "left": null,
       "margin": null,
       "max_height": null,
       "max_width": null,
       "min_height": null,
       "min_width": null,
       "object_fit": null,
       "object_position": null,
       "order": null,
       "overflow": null,
       "overflow_x": null,
       "overflow_y": null,
       "padding": null,
       "right": null,
       "top": null,
       "visibility": null,
       "width": null
      }
     },
     "a8f8229ef26a45a0b37ead531a477ed4": {
      "model_module": "@jupyter-widgets/controls",
      "model_module_version": "1.5.0",
      "model_name": "HTMLModel",
      "state": {
       "_dom_classes": [],
       "_model_module": "@jupyter-widgets/controls",
       "_model_module_version": "1.5.0",
       "_model_name": "HTMLModel",
       "_view_count": null,
       "_view_module": "@jupyter-widgets/controls",
       "_view_module_version": "1.5.0",
       "_view_name": "HTMLView",
       "description": "",
       "description_tooltip": null,
       "layout": "IPY_MODEL_d34a0626934f4ff2af2e6622d631e68d",
       "placeholder": "​",
       "style": "IPY_MODEL_5dbc8cebf7144830821a77d7091f695b",
       "value": " 273M/273M [00:26&lt;00:00, 12.5MB/s]"
      }
     },
     "a9df4420e62d4f3e8b4f355dacc36c29": {
      "model_module": "@jupyter-widgets/controls",
      "model_module_version": "1.5.0",
      "model_name": "HTMLModel",
      "state": {
       "_dom_classes": [],
       "_model_module": "@jupyter-widgets/controls",
       "_model_module_version": "1.5.0",
       "_model_name": "HTMLModel",
       "_view_count": null,
       "_view_module": "@jupyter-widgets/controls",
       "_view_module_version": "1.5.0",
       "_view_name": "HTMLView",
       "description": "",
       "description_tooltip": null,
       "layout": "IPY_MODEL_3f9610c635c54e2d95b6240fc9bad6cd",
       "placeholder": "​",
       "style": "IPY_MODEL_7a37b5cef6f84f7aa4373792007b578b",
       "value": "100%"
      }
     },
     "ad32baa336624810a2364663bbb7e515": {
      "model_module": "@jupyter-widgets/base",
      "model_module_version": "1.2.0",
      "model_name": "LayoutModel",
      "state": {
       "_model_module": "@jupyter-widgets/base",
       "_model_module_version": "1.2.0",
       "_model_name": "LayoutModel",
       "_view_count": null,
       "_view_module": "@jupyter-widgets/base",
       "_view_module_version": "1.2.0",
       "_view_name": "LayoutView",
       "align_content": null,
       "align_items": null,
       "align_self": null,
       "border": null,
       "bottom": null,
       "display": null,
       "flex": null,
       "flex_flow": null,
       "grid_area": null,
       "grid_auto_columns": null,
       "grid_auto_flow": null,
       "grid_auto_rows": null,
       "grid_column": null,
       "grid_gap": null,
       "grid_row": null,
       "grid_template_areas": null,
       "grid_template_columns": null,
       "grid_template_rows": null,
       "height": null,
       "justify_content": null,
       "justify_items": null,
       "left": null,
       "margin": null,
       "max_height": null,
       "max_width": null,
       "min_height": null,
       "min_width": null,
       "object_fit": null,
       "object_position": null,
       "order": null,
       "overflow": null,
       "overflow_x": null,
       "overflow_y": null,
       "padding": null,
       "right": null,
       "top": null,
       "visibility": null,
       "width": null
      }
     },
     "b8049da021164c13b7c8e68977828945": {
      "model_module": "@jupyter-widgets/base",
      "model_module_version": "1.2.0",
      "model_name": "LayoutModel",
      "state": {
       "_model_module": "@jupyter-widgets/base",
       "_model_module_version": "1.2.0",
       "_model_name": "LayoutModel",
       "_view_count": null,
       "_view_module": "@jupyter-widgets/base",
       "_view_module_version": "1.2.0",
       "_view_name": "LayoutView",
       "align_content": null,
       "align_items": null,
       "align_self": null,
       "border": null,
       "bottom": null,
       "display": null,
       "flex": null,
       "flex_flow": null,
       "grid_area": null,
       "grid_auto_columns": null,
       "grid_auto_flow": null,
       "grid_auto_rows": null,
       "grid_column": null,
       "grid_gap": null,
       "grid_row": null,
       "grid_template_areas": null,
       "grid_template_columns": null,
       "grid_template_rows": null,
       "height": null,
       "justify_content": null,
       "justify_items": null,
       "left": null,
       "margin": null,
       "max_height": null,
       "max_width": null,
       "min_height": null,
       "min_width": null,
       "object_fit": null,
       "object_position": null,
       "order": null,
       "overflow": null,
       "overflow_x": null,
       "overflow_y": null,
       "padding": null,
       "right": null,
       "top": null,
       "visibility": null,
       "width": null
      }
     },
     "bc85cf57aa8e493a99e8f962dd9f17e4": {
      "model_module": "@jupyter-widgets/controls",
      "model_module_version": "1.5.0",
      "model_name": "FloatProgressModel",
      "state": {
       "_dom_classes": [],
       "_model_module": "@jupyter-widgets/controls",
       "_model_module_version": "1.5.0",
       "_model_name": "FloatProgressModel",
       "_view_count": null,
       "_view_module": "@jupyter-widgets/controls",
       "_view_module_version": "1.5.0",
       "_view_name": "ProgressView",
       "bar_style": "success",
       "description": "",
       "description_tooltip": null,
       "layout": "IPY_MODEL_1cd916235b7a4bfc9b6d2d75a74383de",
       "max": 2464616.0,
       "min": 0.0,
       "orientation": "horizontal",
       "style": "IPY_MODEL_409a0af11ea2479f9c514fc9d67291b9",
       "value": 2464616.0
      }
     },
     "bf29101e72764f49972d258cfd6b89f0": {
      "model_module": "@jupyter-widgets/base",
      "model_module_version": "1.2.0",
      "model_name": "LayoutModel",
      "state": {
       "_model_module": "@jupyter-widgets/base",
       "_model_module_version": "1.2.0",
       "_model_name": "LayoutModel",
       "_view_count": null,
       "_view_module": "@jupyter-widgets/base",
       "_view_module_version": "1.2.0",
       "_view_name": "LayoutView",
       "align_content": null,
       "align_items": null,
       "align_self": null,
       "border": null,
       "bottom": null,
       "display": null,
       "flex": null,
       "flex_flow": null,
       "grid_area": null,
       "grid_auto_columns": null,
       "grid_auto_flow": null,
       "grid_auto_rows": null,
       "grid_column": null,
       "grid_gap": null,
       "grid_row": null,
       "grid_template_areas": null,
       "grid_template_columns": null,
       "grid_template_rows": null,
       "height": null,
       "justify_content": null,
       "justify_items": null,
       "left": null,
       "margin": null,
       "max_height": null,
       "max_width": null,
       "min_height": null,
       "min_width": null,
       "object_fit": null,
       "object_position": null,
       "order": null,
       "overflow": null,
       "overflow_x": null,
       "overflow_y": null,
       "padding": null,
       "right": null,
       "top": null,
       "visibility": null,
       "width": null
      }
     },
     "c0d427c022a94042ab7908d6b8270e66": {
      "model_module": "@jupyter-widgets/controls",
      "model_module_version": "1.5.0",
      "model_name": "HBoxModel",
      "state": {
       "_dom_classes": [],
       "_model_module": "@jupyter-widgets/controls",
       "_model_module_version": "1.5.0",
       "_model_name": "HBoxModel",
       "_view_count": null,
       "_view_module": "@jupyter-widgets/controls",
       "_view_module_version": "1.5.0",
       "_view_name": "HBoxView",
       "box_style": "",
       "children": [
        "IPY_MODEL_27a3a126d0264091bc4e49229d3b2ad1",
        "IPY_MODEL_2ad8844a985b43f7a858e28681dd4be9",
        "IPY_MODEL_a8f8229ef26a45a0b37ead531a477ed4"
       ],
       "layout": "IPY_MODEL_521d762252ef43fcb4425958289d13b5"
      }
     },
     "c6bc75bc3ad44bef8cf65d5f75940e37": {
      "model_module": "@jupyter-widgets/controls",
      "model_module_version": "1.5.0",
      "model_name": "HBoxModel",
      "state": {
       "_dom_classes": [],
       "_model_module": "@jupyter-widgets/controls",
       "_model_module_version": "1.5.0",
       "_model_name": "HBoxModel",
       "_view_count": null,
       "_view_module": "@jupyter-widgets/controls",
       "_view_module_version": "1.5.0",
       "_view_name": "HBoxView",
       "box_style": "",
       "children": [
        "IPY_MODEL_a9df4420e62d4f3e8b4f355dacc36c29",
        "IPY_MODEL_fadb44dfc5734294864acc0017f94d94",
        "IPY_MODEL_d3477cd9227c426383618767bcba0bc0"
       ],
       "layout": "IPY_MODEL_6f1951193a7a4a6590b7a800c1cb637f"
      }
     },
     "d25de89f5a594daa89aac43da1437814": {
      "model_module": "@jupyter-widgets/controls",
      "model_module_version": "1.5.0",
      "model_name": "FloatProgressModel",
      "state": {
       "_dom_classes": [],
       "_model_module": "@jupyter-widgets/controls",
       "_model_module_version": "1.5.0",
       "_model_name": "FloatProgressModel",
       "_view_count": null,
       "_view_module": "@jupyter-widgets/controls",
       "_view_module_version": "1.5.0",
       "_view_name": "ProgressView",
       "bar_style": "success",
       "description": "",
       "description_tooltip": null,
       "layout": "IPY_MODEL_a3e7382df5964778b7ff3908e0a5732e",
       "max": 52.0,
       "min": 0.0,
       "orientation": "horizontal",
       "style": "IPY_MODEL_f450814cd7b34f7a99abcda4dc1bc831",
       "value": 52.0
      }
     },
     "d3477cd9227c426383618767bcba0bc0": {
      "model_module": "@jupyter-widgets/controls",
      "model_module_version": "1.5.0",
      "model_name": "HTMLModel",
      "state": {
       "_dom_classes": [],
       "_model_module": "@jupyter-widgets/controls",
       "_model_module_version": "1.5.0",
       "_model_name": "HTMLModel",
       "_view_count": null,
       "_view_module": "@jupyter-widgets/controls",
       "_view_module_version": "1.5.0",
       "_view_name": "HTMLView",
       "description": "",
       "description_tooltip": null,
       "layout": "IPY_MODEL_82a65a14d1004f3d813067ee325facd3",
       "placeholder": "​",
       "style": "IPY_MODEL_79c62ac23320443c9e4652e007d92687",
       "value": " 37/37 [00:07&lt;00:00,  5.08ba/s]"
      }
     },
     "d34a0626934f4ff2af2e6622d631e68d": {
      "model_module": "@jupyter-widgets/base",
      "model_module_version": "1.2.0",
      "model_name": "LayoutModel",
      "state": {
       "_model_module": "@jupyter-widgets/base",
       "_model_module_version": "1.2.0",
       "_model_name": "LayoutModel",
       "_view_count": null,
       "_view_module": "@jupyter-widgets/base",
       "_view_module_version": "1.2.0",
       "_view_name": "LayoutView",
       "align_content": null,
       "align_items": null,
       "align_self": null,
       "border": null,
       "bottom": null,
       "display": null,
       "flex": null,
       "flex_flow": null,
       "grid_area": null,
       "grid_auto_columns": null,
       "grid_auto_flow": null,
       "grid_auto_rows": null,
       "grid_column": null,
       "grid_gap": null,
       "grid_row": null,
       "grid_template_areas": null,
       "grid_template_columns": null,
       "grid_template_rows": null,
       "height": null,
       "justify_content": null,
       "justify_items": null,
       "left": null,
       "margin": null,
       "max_height": null,
       "max_width": null,
       "min_height": null,
       "min_width": null,
       "object_fit": null,
       "object_position": null,
       "order": null,
       "overflow": null,
       "overflow_x": null,
       "overflow_y": null,
       "padding": null,
       "right": null,
       "top": null,
       "visibility": null,
       "width": null
      }
     },
     "d8bbfb582dc547c9ba51cbb49a0b6c6f": {
      "model_module": "@jupyter-widgets/controls",
      "model_module_version": "1.5.0",
      "model_name": "DescriptionStyleModel",
      "state": {
       "_model_module": "@jupyter-widgets/controls",
       "_model_module_version": "1.5.0",
       "_model_name": "DescriptionStyleModel",
       "_view_count": null,
       "_view_module": "@jupyter-widgets/base",
       "_view_module_version": "1.2.0",
       "_view_name": "StyleView",
       "description_width": ""
      }
     },
     "eccc959287c941a09fbda1dd56f6de9a": {
      "model_module": "@jupyter-widgets/controls",
      "model_module_version": "1.5.0",
      "model_name": "HTMLModel",
      "state": {
       "_dom_classes": [],
       "_model_module": "@jupyter-widgets/controls",
       "_model_module_version": "1.5.0",
       "_model_name": "HTMLModel",
       "_view_count": null,
       "_view_module": "@jupyter-widgets/controls",
       "_view_module_version": "1.5.0",
       "_view_name": "HTMLView",
       "description": "",
       "description_tooltip": null,
       "layout": "IPY_MODEL_6e5a843e9c144dbda23adc3ca3d286f4",
       "placeholder": "​",
       "style": "IPY_MODEL_0b41ee62c08e418b80e21fd19387b0f5",
       "value": "Downloading: 100%"
      }
     },
     "f450814cd7b34f7a99abcda4dc1bc831": {
      "model_module": "@jupyter-widgets/controls",
      "model_module_version": "1.5.0",
      "model_name": "ProgressStyleModel",
      "state": {
       "_model_module": "@jupyter-widgets/controls",
       "_model_module_version": "1.5.0",
       "_model_name": "ProgressStyleModel",
       "_view_count": null,
       "_view_module": "@jupyter-widgets/base",
       "_view_module_version": "1.2.0",
       "_view_name": "StyleView",
       "bar_color": null,
       "description_width": ""
      }
     },
     "f91fc2d5106c44a0bf84a8444f4fc3d9": {
      "model_module": "@jupyter-widgets/base",
      "model_module_version": "1.2.0",
      "model_name": "LayoutModel",
      "state": {
       "_model_module": "@jupyter-widgets/base",
       "_model_module_version": "1.2.0",
       "_model_name": "LayoutModel",
       "_view_count": null,
       "_view_module": "@jupyter-widgets/base",
       "_view_module_version": "1.2.0",
       "_view_name": "LayoutView",
       "align_content": null,
       "align_items": null,
       "align_self": null,
       "border": null,
       "bottom": null,
       "display": null,
       "flex": null,
       "flex_flow": null,
       "grid_area": null,
       "grid_auto_columns": null,
       "grid_auto_flow": null,
       "grid_auto_rows": null,
       "grid_column": null,
       "grid_gap": null,
       "grid_row": null,
       "grid_template_areas": null,
       "grid_template_columns": null,
       "grid_template_rows": null,
       "height": null,
       "justify_content": null,
       "justify_items": null,
       "left": null,
       "margin": null,
       "max_height": null,
       "max_width": null,
       "min_height": null,
       "min_width": null,
       "object_fit": null,
       "object_position": null,
       "order": null,
       "overflow": null,
       "overflow_x": null,
       "overflow_y": null,
       "padding": null,
       "right": null,
       "top": null,
       "visibility": null,
       "width": null
      }
     },
     "f9fc90fdc4dd44548362789ba1edacac": {
      "model_module": "@jupyter-widgets/base",
      "model_module_version": "1.2.0",
      "model_name": "LayoutModel",
      "state": {
       "_model_module": "@jupyter-widgets/base",
       "_model_module_version": "1.2.0",
       "_model_name": "LayoutModel",
       "_view_count": null,
       "_view_module": "@jupyter-widgets/base",
       "_view_module_version": "1.2.0",
       "_view_name": "LayoutView",
       "align_content": null,
       "align_items": null,
       "align_self": null,
       "border": null,
       "bottom": null,
       "display": null,
       "flex": null,
       "flex_flow": null,
       "grid_area": null,
       "grid_auto_columns": null,
       "grid_auto_flow": null,
       "grid_auto_rows": null,
       "grid_column": null,
       "grid_gap": null,
       "grid_row": null,
       "grid_template_areas": null,
       "grid_template_columns": null,
       "grid_template_rows": null,
       "height": null,
       "justify_content": null,
       "justify_items": null,
       "left": null,
       "margin": null,
       "max_height": null,
       "max_width": null,
       "min_height": null,
       "min_width": null,
       "object_fit": null,
       "object_position": null,
       "order": null,
       "overflow": null,
       "overflow_x": null,
       "overflow_y": null,
       "padding": null,
       "right": null,
       "top": null,
       "visibility": null,
       "width": null
      }
     },
     "fadb44dfc5734294864acc0017f94d94": {
      "model_module": "@jupyter-widgets/controls",
      "model_module_version": "1.5.0",
      "model_name": "FloatProgressModel",
      "state": {
       "_dom_classes": [],
       "_model_module": "@jupyter-widgets/controls",
       "_model_module_version": "1.5.0",
       "_model_name": "FloatProgressModel",
       "_view_count": null,
       "_view_module": "@jupyter-widgets/controls",
       "_view_module_version": "1.5.0",
       "_view_name": "ProgressView",
       "bar_style": "success",
       "description": "",
       "description_tooltip": null,
       "layout": "IPY_MODEL_55a7144f0bd64d8c893829acb1dc2187",
       "max": 37.0,
       "min": 0.0,
       "orientation": "horizontal",
       "style": "IPY_MODEL_fbca4c0e4eee45a794eefa19f7bc1433",
       "value": 37.0
      }
     },
     "fbca4c0e4eee45a794eefa19f7bc1433": {
      "model_module": "@jupyter-widgets/controls",
      "model_module_version": "1.5.0",
      "model_name": "ProgressStyleModel",
      "state": {
       "_model_module": "@jupyter-widgets/controls",
       "_model_module_version": "1.5.0",
       "_model_name": "ProgressStyleModel",
       "_view_count": null,
       "_view_module": "@jupyter-widgets/base",
       "_view_module_version": "1.2.0",
       "_view_name": "StyleView",
       "bar_color": null,
       "description_width": ""
      }
     },
     "ff9d6c4d8f5741629e2c87e817e24a37": {
      "model_module": "@jupyter-widgets/base",
      "model_module_version": "1.2.0",
      "model_name": "LayoutModel",
      "state": {
       "_model_module": "@jupyter-widgets/base",
       "_model_module_version": "1.2.0",
       "_model_name": "LayoutModel",
       "_view_count": null,
       "_view_module": "@jupyter-widgets/base",
       "_view_module_version": "1.2.0",
       "_view_name": "LayoutView",
       "align_content": null,
       "align_items": null,
       "align_self": null,
       "border": null,
       "bottom": null,
       "display": null,
       "flex": null,
       "flex_flow": null,
       "grid_area": null,
       "grid_auto_columns": null,
       "grid_auto_flow": null,
       "grid_auto_rows": null,
       "grid_column": null,
       "grid_gap": null,
       "grid_row": null,
       "grid_template_areas": null,
       "grid_template_columns": null,
       "grid_template_rows": null,
       "height": null,
       "justify_content": null,
       "justify_items": null,
       "left": null,
       "margin": null,
       "max_height": null,
       "max_width": null,
       "min_height": null,
       "min_width": null,
       "object_fit": null,
       "object_position": null,
       "order": null,
       "overflow": null,
       "overflow_x": null,
       "overflow_y": null,
       "padding": null,
       "right": null,
       "top": null,
       "visibility": null,
       "width": null
      }
     }
    },
    "version_major": 2,
    "version_minor": 0
   }
  }
 },
 "nbformat": 4,
 "nbformat_minor": 5
}
